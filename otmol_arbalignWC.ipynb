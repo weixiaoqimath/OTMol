{
 "cells": [
  {
   "cell_type": "code",
   "execution_count": 35,
   "metadata": {},
   "outputs": [],
   "source": [
    "# %%\n",
    "import ot\n",
    "import numpy as np\n",
    "import otmol as otm\n",
    "import pandas as pd\n",
    "from openbabel import pybel\n",
    "from scipy.spatial import distance_matrix\n",
    "import matplotlib.pyplot as plt\n",
    "import os\n",
    "# %matplotlib widget"
   ]
  },
  {
   "cell_type": "code",
   "execution_count": 108,
   "metadata": {},
   "outputs": [],
   "source": [
    "def RMSD(V, W):\n",
    "    \"\"\" \n",
    "    Calculate Root-mean-square deviation from two sets of vectors V and W.\n",
    "    \"\"\"\n",
    "    N = V.shape[0]\n",
    "    return np.sqrt(np.sum((V-W)**2)/N)\n",
    "\n",
    "def compare_lists(list1, list2):\n",
    "    \"\"\"\n",
    "    Compare two lists and return the indices and elements where they differ.\n",
    "\n",
    "    Args:\n",
    "        list1 (list): The first list to compare.\n",
    "        list2 (list): The second list to compare.\n",
    "\n",
    "    Returns:\n",
    "        list: A list of tuples, where each tuple contains the index and the differing elements\n",
    "              in the format (index, element_from_list1, element_from_list2).\n",
    "    \"\"\"\n",
    "    differences = []\n",
    "    # Compare elements up to the length of the shorter list\n",
    "    for i in range(len(list1)):\n",
    "        if list1[i] != list2[i]:\n",
    "            differences.append((i, list1[i], list2[i]))\n",
    "\n",
    "    return differences\n",
    "\n",
    "def parse_molecule_pairs(file_path, mol_type: str = 'water cluster'):\n",
    "    \"\"\"\n",
    "    Parses a file containing molecule pairs separated by an underscore ('_').\n",
    "\n",
    "    Parameters:\n",
    "    ----------\n",
    "    file_path : str\n",
    "        Path to the file containing molecule pairs.\n",
    "\n",
    "    Returns:\n",
    "    -------\n",
    "    list of lists\n",
    "        A list where each element is a pair [molA, molB].\n",
    "    \"\"\"\n",
    "    molecule_pairs = []\n",
    "    with open(file_path, 'r') as file:\n",
    "        if mol_type == 'water cluster' or mol_type == 'S1':\n",
    "            for line in file:\n",
    "                line = line.strip()  # Remove any leading/trailing whitespace\n",
    "                if line:  # Skip empty lines\n",
    "                    # Some lines are like \"molA_molB_2\", and some are like \"molA_molB\"\n",
    "                    molecule_pairs.append([line.split('_')[0], line.split('_')[1]])\n",
    "        if mol_type == 'FGG':\n",
    "            next(file)  # Skip the first line\n",
    "            for line in file:\n",
    "                line = line.strip()\n",
    "                if line:\n",
    "                    molA, molB = line.split('-')\n",
    "                    molecule_pairs.append([molA, molB])\n",
    "    return molecule_pairs\n",
    "\n",
    "def is_wc_permutation(A):\n",
    "    \"\"\"\n",
    "    Check if the given 1D numpy array satisfies the condition:\n",
    "    After grouping every 3 integers, sorting each group in ascending order\n",
    "    results in [min(group), min(group)+1, min(group)+2].\n",
    "\n",
    "    Args:\n",
    "        A (numpy.ndarray): A 1D numpy array of integers.\n",
    "\n",
    "    Returns:\n",
    "        bool: True if all groups satisfy the condition, False otherwise.\n",
    "    \"\"\"\n",
    "    if len(np.unique(A)) != len(A):\n",
    "        print('Warning: not a proper assignment for water clusters')\n",
    "    n = len(A)\n",
    "    if n % 3 != 0:\n",
    "        raise ValueError(\"The length of the array must be a multiple of 3.\")\n",
    "    \n",
    "    groups = [A[i:i+3] for i in range(0, n, 3)]  # Group every 3 integers\n",
    "    for group in groups:\n",
    "        sorted_group = sorted(group)\n",
    "        if sorted_group != [np.min(group), np.min(group) + 1, np.min(group) + 2]:\n",
    "            print('Warning: not a proper assignment for water clusters')\n",
    "            return False\n",
    "    return True\n",
    "\n",
    "def parse_and_permute_xyz(xyz_file, permutation):\n",
    "    \"\"\"\n",
    "    Parse an XYZ file, permute the water molecules, and return a list of coordinates\n",
    "    with O atoms always listed before H atoms in each water molecule.\n",
    "\n",
    "    Args:\n",
    "        xyz_file (str): Path to the input XYZ file.\n",
    "        permutation (list): A list of integers representing the new order of water molecules.\n",
    "\n",
    "    Returns:\n",
    "        list: A list of coordinates for the permuted water molecules.\n",
    "    \"\"\"\n",
    "    with open(xyz_file, 'r') as file:\n",
    "        lines = file.readlines()\n",
    "\n",
    "    # Read the number of atoms and the comment line\n",
    "    num_atoms = int(lines[0].strip())\n",
    "    comment = lines[1].strip()\n",
    "\n",
    "    # Ensure the number of atoms is divisible by 3 (for water molecules)\n",
    "    if num_atoms % 3 != 0:\n",
    "        raise ValueError(\"The number of atoms in the XYZ file is not divisible by 3.\")\n",
    "\n",
    "    # Group atoms into water molecules (3 atoms per molecule)\n",
    "    molecules = [lines[i:i+3] for i in range(2, len(lines), 3)]\n",
    "\n",
    "    # Reorder the molecules based on the permutation\n",
    "    permuted_molecules = [molecules[i] for i in permutation]\n",
    "\n",
    "    # Ensure O atom is listed before H atoms in each molecule\n",
    "    sorted_molecules = []\n",
    "    for molecule in permuted_molecules:\n",
    "        # Sort the atoms in the molecule: O first, then H\n",
    "        sorted_molecule = sorted(molecule, key=lambda line: line.split()[0] == 'H')\n",
    "        sorted_molecules.append(sorted_molecule)\n",
    "\n",
    "    # Extract coordinates from the sorted and permuted molecules\n",
    "    coordinates = []\n",
    "    for molecule in sorted_molecules:\n",
    "        for atom_line in molecule:\n",
    "            parts = atom_line.split()\n",
    "            coordinates.append([float(parts[1]), float(parts[2]), float(parts[3])])\n",
    "\n",
    "    return np.array(coordinates, dtype=float)\n",
    "\n",
    "def wc_D(X_A):\n",
    "    D_A = np.ones((X_A.shape[0], X_A.shape[0]))*10\n",
    "    for i in range(0, X_A.shape[0], 3):\n",
    "        D_A[i:i+3, i:i+3] = distance_matrix(X_A[i:i+3], X_A[i:i+3])\n",
    "    return D_A\n",
    "\n"
   ]
  },
  {
   "cell_type": "code",
   "execution_count": 121,
   "metadata": {},
   "outputs": [],
   "source": [
    "def Experiment(data_path: str = None,mol_pair: list = None, method: str = 'fgw', \n",
    "               alpha_list: list = None, D_matrix: str = 'geodesic', p_list: list = None,\n",
    "               ):\n",
    "    \"\"\"\n",
    "    Experiment with ArbAlign data.\n",
    "    \"\"\"\n",
    "    results = []\n",
    "    # Load the molecule pairs from the specified file\n",
    "    for nameA, nameB in mol_pair:\n",
    "        molA = next(pybel.readfile('xyz', os.path.join(data_path, nameA + '.xyz')))\n",
    "        molB = next(pybel.readfile('xyz', os.path.join(data_path, nameB + '.xyz')))\n",
    "        # Basic processing of the molecules\n",
    "        #X_A, T_A, B_A = otm.tl.process_molecule(molA) # Output (1) spatial coordinates, (2) atom types, and (3) bonds as numpy arrays.\n",
    "        #X_B, T_B, B_B = otm.tl.process_molecule(molB)\n",
    "        X_A = parse_and_permute_xyz(os.path.join(data_path, nameA + '.xyz'), np.array(np.arange(len(molA.atoms)/3), dtype=int)) # just reorder atoms inside each water molecule to O H H\n",
    "        X_B = parse_and_permute_xyz(os.path.join(data_path, nameB + '.xyz'), np.array(np.arange(len(molB.atoms)/3), dtype=int)) \n",
    "        T_A, T_B = np.array(['O', 'H', 'H']*int(X_A.shape[0]/3), dtype=str), np.array(['O', 'H', 'H']*int(X_B.shape[0]/3), dtype=str)\n",
    "        C = otm.tl.molecule_physchem_distance(T_A, T_B) \n",
    "        C = np.where(C>0, 1e12, C) # this makes O to O, H to H\n",
    "        #D_A = wc_D(X_A)\n",
    "        #D_B = wc_D(X_B)\n",
    "        D_A = distance_matrix(X_A, X_A)\n",
    "        D_B = distance_matrix(X_B, X_B)\n",
    "        rmsd_best = 1e10\n",
    "        p_best = None\n",
    "        P_best = None\n",
    "        alpha_best = None\n",
    "        for alpha in alpha_list:\n",
    "            for p in p_list:\n",
    "                P = otm.tl.molecule_optimal_transport(C, D_A**p, D_B**p, method='fgw', alpha=alpha)\n",
    "                X_B_aligned = otm.tl.molecule_alignment_allow_reflection(X_A, X_B, P)\n",
    "                D_ot = np.ones((X_A.shape[0], X_B.shape[0]), dtype=float)*1e6\n",
    "                for i in range(0, X_A.shape[0], 3): \n",
    "                    # this is trying to construct a distance matrix such that one water molecule is mapped to another\n",
    "                    # according to P, based on newly aligned X_B\n",
    "                    j = np.argmax(P[i])\n",
    "                    D_ot[i, j] = 0. # O to O\n",
    "                    D_ot[i+1:i+3, j+1:j+3] = distance_matrix(X_A[i+1:i+3], X_B_aligned[j+1:j+3]) # H to H\n",
    "                P_ot = ot.emd(np.ones([X_A.shape[0]])/X_A.shape[0], np.ones([X_B.shape[0]])/X_B.shape[0], D_ot)\n",
    "                X_B_aligned = otm.tl.molecule_alignment_allow_reflection(X_A, X_B, P_ot)\n",
    "                rmsd_ot = RMSD(X_A, X_B_aligned[np.argmax(P_ot, axis=1)])\n",
    "                if rmsd_ot < rmsd_best:\n",
    "                    rmsd_best = rmsd_ot\n",
    "                    p_best = p\n",
    "                    P_best = P_ot\n",
    "                    alpha_best = alpha\n",
    "            optimal_assignment = np.argmax(P_best, axis=1)\n",
    "\n",
    "        if len(np.unique(optimal_assignment)) != X_A.shape[0]: # check if the assignment is 1 to 1\n",
    "            print(nameA, nameB, 'Warning: the assignment is not 1 to 1')\n",
    "        is_wc_permutation(optimal_assignment)\n",
    "        if compare_lists(T_A, T_B[optimal_assignment]): # check if atom names are matched. We have matched T_B with T_A by parse_and_permute_xyz()\n",
    "            print(nameA, nameB, 'Warning: unmatched atom names exist')\n",
    "        results.append({\n",
    "            'nameA': nameA,\n",
    "            'nameB': nameB,\n",
    "            'RMSD({}+{})'.format(method, D_matrix): rmsd_best,\n",
    "            '# atoms': X_A.shape[0],\n",
    "            'alpha': alpha_best,\n",
    "            'p': p_best,\n",
    "            'assignment': optimal_assignment,\n",
    "            'atomname_diff': compare_lists(T_A, T_B[optimal_assignment])\n",
    "        }) \n",
    "        print(nameA, nameB, rmsd_best)\n",
    "\n",
    "    return pd.DataFrame(results)"
   ]
  },
  {
   "cell_type": "code",
   "execution_count": 122,
   "metadata": {},
   "outputs": [
    {
     "name": "stdout",
     "output_type": "stream",
     "text": [
      "2-Cs-1 2-OpenC1 0.3156795628351815\n",
      "3-UUD 3-UUU 0.30954362705566146\n",
      "4-Ci 4-S4 0.4939862594397266\n",
      "5-CA-A 5-CA-B 0.9428998435013866\n",
      "6-BAG 6-BK-1 1.1502133153139573\n",
      "7-BI1 7-BI2 0.4504250872530827\n",
      "8-D2d 8-S4 0.6063086293512906\n",
      "9-D2dDD 9-S4DA 0.6406989561890261\n",
      "10-PP1 10-PP2 0.6384402177196827\n",
      "11-551A-1 11-551A-4 0.13688867337895683\n",
      "12-D2d-1-L 12-D2d-1-R 0.5141389955096731\n",
      "13-TIP4P 13-TIP5P 1.2281648589693068\n",
      "14-1 14-2 0.5519288333105364\n",
      "15-1 15-2 1.1779323886945785\n",
      "16-TIP4P 16-TIP5P 1.607433483175913\n",
      "17-TIP4P 17-TIP5P 1.2084151315488811\n",
      "18-TIP4P 18-TIP5P 1.5565872691988984\n",
      "19-TIP4P 19-TIP5P 1.4348133122964202\n",
      "20-TIP4P 20-TIP5P 1.8166144637582207\n",
      "21-TIP4P 21-TIP5P 1.523648385791158\n",
      "25-1 25-2 0.9644411634818141\n",
      "40-a 40-b 2.327049650092779\n",
      "60-1 60-2 2.1101108955227215\n",
      "100-1 100-2 2.165549754320782\n"
     ]
    }
   ],
   "source": [
    "data_path = \"./DataArbAlign/Water-Clusters\"\n",
    "#data_path = \"./DataArbAlign/FGG\"\n",
    "mol_pair_list_path = os.path.join(data_path, 'list')\n",
    "molecule_pairs = parse_molecule_pairs(mol_pair_list_path, mol_type='water cluster')\n",
    "otmol_res = Experiment(data_path, molecule_pairs, method='fgw', D_matrix='euclidean', alpha_list=np.linspace(0,0.5,1000), p_list=[1])\n",
    "#print(otmol_res)"
   ]
  },
  {
   "cell_type": "code",
   "execution_count": null,
   "metadata": {},
   "outputs": [],
   "source": [
    "otmol_res"
   ]
  },
  {
   "cell_type": "code",
   "execution_count": 123,
   "metadata": {},
   "outputs": [
    {
     "data": {
      "image/png": "[encoded data removed]",
      "text/plain": [
       "<Figure size 720x432 with 1 Axes>"
      ]
     },
     "metadata": {
      "needs_background": "light"
     },
     "output_type": "display_data"
    }
   ],
   "source": [
    "# Concatenate otmol_res and df along the columns\n",
    "arbalign_res = pd.read_csv(os.path.join(data_path, 'rmsd-2017.dat'), sep='\\s+')\n",
    "\n",
    "combined_df = pd.concat([otmol_res, arbalign_res], axis=1)\n",
    "\n",
    "# Plot the specified columns against the uniform index\n",
    "columns_to_plot = [\"RMSD(KM-ByAtomName)\", \"RMSD(fgw+euclidean)\"]\n",
    "\n",
    "plt.figure(figsize=(10, 6))\n",
    "# Plot each column against the uniform index\n",
    "for column in columns_to_plot:\n",
    "    plt.plot(range(len(combined_df['#'])), combined_df[column], marker='o', label=column)\n",
    "\n",
    "# Update the x-axis ticks to show the actual values in the '#' column\n",
    "plt.xticks(range(len(combined_df['#'])), combined_df['#'])\n",
    "\n",
    "plt.title(\"RMSD Comparison\")\n",
    "plt.xlabel(\"Index (#)\")  # Reflect the '#' column in the label\n",
    "plt.ylabel(\"RMSD Values\")\n",
    "plt.legend()\n",
    "plt.grid(True)"
   ]
  },
  {
   "cell_type": "code",
   "execution_count": null,
   "metadata": {},
   "outputs": [],
   "source": [
    "# %%\n",
    "# Read the molecules\n"
   ]
  },
  {
   "cell_type": "code",
   "execution_count": 58,
   "metadata": {},
   "outputs": [],
   "source": [
    "# Basic processing of the molecules\n",
    "def wc_D(X_A):\n",
    "    D_A = np.ones((X_A.shape[0], X_A.shape[0]))*1e6\n",
    "    for i in range(0, X_A.shape[0], 3):\n",
    "        D_A[i:i+3, i:i+3] = distance_matrix(X_A[i:i+3], X_A[i:i+3])\n",
    "    return D_A\n",
    "#D_A = wc_D(X_A[:6])\n",
    "#D_B = wc_D(X_B[:6])\n",
    "#print(D_A)"
   ]
  },
  {
   "cell_type": "code",
   "execution_count": 57,
   "metadata": {},
   "outputs": [],
   "source": [
    "#print(distance_matrix(X_A[:6], X_A[:6]))"
   ]
  },
  {
   "cell_type": "code",
   "execution_count": 109,
   "metadata": {},
   "outputs": [
    {
     "name": "stdout",
     "output_type": "stream",
     "text": [
      "0.5141389955096731\n"
     ]
    }
   ],
   "source": [
    "molA = next(pybel.readfile(\"xyz\", \"./DataArbAlign/Water-Clusters/12-D2d-1-L.xyz\"))\n",
    "molB = next(pybel.readfile(\"xyz\", \"./DataArbAlign/Water-CLusters/12-D2d-1-R.xyz\"))\n",
    "X_A, T_A, B_A = otm.tl.process_molecule(molA) # Output (1) spatial coordinates, (2) atom types, and (3) bonds as numpy arrays.\n",
    "X_B, T_B, B_B = otm.tl.process_molecule(molB)\n",
    "C = otm.tl.molecule_physchem_distance(T_A, T_B)\n",
    "C = np.where(C>0, 1e12, C)\n",
    "D_A = distance_matrix(X_A, X_A)\n",
    "D_B = distance_matrix(X_B, X_B)\n",
    "#D_A = wc_D(X_A)\n",
    "#D_B = wc_D(X_B)\n",
    "alpha_list = np.linspace(0, 0.1, 1000)\n",
    "p_list = [1]\n",
    "rmsd_best = 1e10\n",
    "p_best = None\n",
    "P_best = None\n",
    "alpha_best = None\n",
    "for alpha in alpha_list:\n",
    "    for p in p_list:\n",
    "        P = otm.tl.molecule_optimal_transport(C, D_A**p, D_B**p, method='fgw', alpha=alpha)\n",
    "        X_B_aligned = otm.tl.molecule_alignment_allow_reflection(X_A, X_B, P)\n",
    "        D_ot = np.ones((X_A.shape[0], X_A.shape[0]), dtype=float)*1e6\n",
    "        for i in range(0, X_A.shape[0], 3):\n",
    "            j = np.argmax(P[i])\n",
    "            D_ot[i, j] = 0.\n",
    "            D_ot[i+1:i+3, j+1:j+3] = distance_matrix(X_A[i+1:i+3], X_B_aligned[j+1:j+3])\n",
    "            #distance_matrix(X_A[i:i+3], X_B_aligned[j:j+3])\n",
    "        P_ot = ot.emd(np.ones([X_A.shape[0]])/X_A.shape[0], np.ones([X_B.shape[0]])/X_B.shape[0], D_ot)\n",
    "        X_B_aligned = otm.tl.molecule_alignment_allow_reflection(X_A, X_B, P_ot)\n",
    "        rmsd_ot = RMSD(X_A, X_B_aligned[np.argmax(P_ot, axis=1)])\n",
    "        if rmsd_ot < rmsd_best:\n",
    "            rmsd_best = rmsd_ot\n",
    "            p_best = p\n",
    "            P_best = P_ot\n",
    "            alpha_best = alpha\n",
    "optimal_assignment = np.argmax(P_best, axis=1)\n",
    "#X_B_aligned = otm.tl.molecule_alignment_allow_reflection(X_A, X_B, P_ot) \n",
    "print(rmsd_best)\n",
    "is_wc_permutation(np.argmax(P_best, axis=1))\n",
    "if compare_lists(T_A, T_B[optimal_assignment]): # check if atom names are matched. We have matched T_B with T_A by parse_and_permute_xyz()\n",
    "    print('Warning: unmatched atom names exist')\n",
    "plt.show()"
   ]
  },
  {
   "cell_type": "code",
   "execution_count": 105,
   "metadata": {},
   "outputs": [
    {
     "name": "stdout",
     "output_type": "stream",
     "text": [
      "[ 5  4  3 26 24 25  8  6  7 12 13 14 27 29 28 16 17 15 21 22 23 32 30 31\n",
      " 36 37 38  0  2  1 35 33 34 11 10  9 18 19 20]\n"
     ]
    }
   ],
   "source": [
    "print(np.argmax(P_best, axis=1))"
   ]
  },
  {
   "cell_type": "code",
   "execution_count": 103,
   "metadata": {},
   "outputs": [
    {
     "name": "stdout",
     "output_type": "stream",
     "text": [
      "[(0, 'O', 'H'), (2, 'H', 'O'), (6, 'O', 'H'), (8, 'H', 'O'), (21, 'O', 'H'), (23, 'H', 'O'), (30, 'O', 'H'), (31, 'H', 'O'), (33, 'O', 'H'), (35, 'H', 'O')]\n"
     ]
    }
   ],
   "source": [
    "print(compare_lists(T_A, T_B[optimal_assignment]))"
   ]
  },
  {
   "cell_type": "code",
   "execution_count": 93,
   "metadata": {},
   "outputs": [
    {
     "name": "stdout",
     "output_type": "stream",
     "text": [
      "[[3.86416816e+00 3.98282184e+00 3.71202235e+00 1.00000000e+06\n",
      "  1.00000000e+06 1.00000000e+06]\n",
      " [3.71906134e+00 3.60905448e+00 3.67924659e+00 1.00000000e+06\n",
      "  1.00000000e+06 1.00000000e+06]\n",
      " [3.37900705e+00 3.59275180e+00 3.02897484e+00 1.00000000e+06\n",
      "  1.00000000e+06 1.00000000e+06]\n",
      " [1.00000000e+06 1.00000000e+06 1.00000000e+06 1.26791290e+00\n",
      "  1.56296146e+00 4.75895131e-01]\n",
      " [1.00000000e+06 1.00000000e+06 1.00000000e+06 1.65910359e+00\n",
      "  1.44239409e+00 1.33943188e+00]\n",
      " [1.00000000e+06 1.00000000e+06 1.00000000e+06 8.88707003e-01\n",
      "  1.62721652e+00 7.07287591e-01]]\n"
     ]
    }
   ],
   "source": [
    "print(D_ot[:6, :6])"
   ]
  }
 ],
 "metadata": {
  "kernelspec": {
   "display_name": "py39",
   "language": "python",
   "name": "python3"
  },
  "language_info": {
   "codemirror_mode": {
    "name": "ipython",
    "version": 3
   },
   "file_extension": ".py",
   "mimetype": "text/x-python",
   "name": "python",
   "nbconvert_exporter": "python",
   "pygments_lexer": "ipython3",
   "version": "3.9.16"
  }
 },
 "nbformat": 4,
 "nbformat_minor": 2
}
