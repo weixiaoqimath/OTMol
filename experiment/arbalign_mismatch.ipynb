{
 "cells": [
  {
   "cell_type": "code",
   "execution_count": 1,
   "metadata": {},
   "outputs": [],
   "source": [
    "import numpy as np\n",
    "import otmol as otm\n",
    "import pandas as pd\n",
    "from openbabel import pybel\n",
    "import os\n",
    "import matplotlib.pyplot as plt"
   ]
  },
  {
   "cell_type": "code",
   "execution_count": 3,
   "metadata": {},
   "outputs": [],
   "source": [
    "def mismatch_counter(mol):\n",
    "    count = 0\n",
    "    _, T, B = otm.tl.process_molecule(mol)\n",
    "    for i in range(len(T)):\n",
    "        if T[i] == 'O' and i % 3 == 0:\n",
    "            if B[i,i+1] != 1 or B[i,i+2] != 1:\n",
    "                count += 1\n",
    "        if T[i] == 'O' and i % 3 == 1:\n",
    "            if B[i,i-1] != 1 or B[i,i+1] != 1:\n",
    "                count += 1\n",
    "        if T[i] == 'O' and i % 3 == 2:\n",
    "            if B[i,i-1] != 1 or B[i,i-2] != 1:\n",
    "                count += 1\n",
    "    return count"
   ]
  },
  {
   "cell_type": "code",
   "execution_count": 13,
   "metadata": {},
   "outputs": [
    {
     "name": "stdout",
     "output_type": "stream",
     "text": [
      "2-Cs-1 2-OpenC1 0\n",
      "3-UUD 3-UUU 0\n",
      "4-Ci 4-S4 2\n",
      "5-CA-A 5-CA-B 0\n",
      "6-BAG 6-BK-1 5\n",
      "7-BI1 7-BI2 0\n",
      "8-D2d 8-S4 4\n",
      "9-D2dDD 9-S4DA 5\n",
      "10-PP1 10-PP2 5\n",
      "11-551A-1 11-551A-4 3\n",
      "12-D2d-1-L 12-D2d-1-R 8\n",
      "13-TIP4P 13-TIP5P 8\n",
      "14-1 14-2 14\n",
      "15-1 15-2 10\n",
      "16-TIP4P 16-TIP5P 14\n",
      "17-TIP4P 17-TIP5P 12\n",
      "18-TIP4P 18-TIP5P 14\n",
      "19-TIP4P 19-TIP5P 13\n",
      "20-TIP4P 20-TIP5P 18\n",
      "21-TIP4P 21-TIP5P 18\n",
      "25-1 25-2 18\n",
      "40-a 40-b 32\n",
      "60-1 60-2 44\n",
      "100-1 100-2 70\n"
     ]
    }
   ],
   "source": [
    "data_path = \"../Data/Water-Clusters\"\n",
    "mol_pair_list_path = os.path.join(data_path, 'list')\n",
    "molecule_pairs = otm.tl.parse_molecule_pairs(mol_pair_list_path, mol_type='water cluster')\n",
    "result = []\n",
    "for nameA, nameB in molecule_pairs:\n",
    "    filename = nameB + '-aligned_to-' + nameA + '.xyz'\n",
    "    mol = next(pybel.readfile('xyz', os.path.join('./ArbAlignOutput', filename)))\n",
    "    result.append({\n",
    "        'nameA': nameA,\n",
    "        'nameB': nameB,\n",
    "        '# mismatched water molecules': mismatch_counter(mol)\n",
    "    })\n",
    "    print(nameA, nameB, mismatch_counter(mol))\n",
    "mismatch_count_df = pd.DataFrame(result)\n",
    "mismatch_count_df.to_csv('./ArbAlignOutput/ArbAlignData_mismatch_count.csv', index=False)"
   ]
  },
  {
   "cell_type": "code",
   "execution_count": 5,
   "metadata": {},
   "outputs": [
    {
     "name": "stdout",
     "output_type": "stream",
     "text": [
      "Wat_3_cluster_0_1st_lowest.xyz Wat_3_cluster_1_2nd_lowest.xyz 0\n",
      "Wat_4_cluster_2_1st_lowest.xyz Wat_4_cluster_3_2nd_lowest.xyz 0\n",
      "Wat_5_cluster_12_1st_lowest.xyz Wat_5_cluster_13_2nd_lowest.xyz 0\n",
      "Wat_6_cluster_31_1st_lowest.xyz Wat_6_cluster_32_2nd_lowest.xyz 2\n",
      "Wat_7_cluster_137_1st_lowest.xyz Wat_7_cluster_138_2nd_lowest.xyz 0\n",
      "Wat_8_cluster_607_1st_lowest.xyz Wat_8_cluster_608_2nd_lowest.xyz 6\n",
      "Wat_9_cluster_1184_1st_lowest.xyz Wat_9_cluster_1185_2nd_lowest.xyz 5\n",
      "Wat_10_cluster_5310_1st_lowest.xyz Wat_10_cluster_5311_2nd_lowest.xyz 7\n",
      "Wat_11_cluster_33413_1st_lowest.xyz Wat_11_cluster_33414_2nd_lowest.xyz 4\n",
      "Wat_12_cluster_43582_1st_lowest.xyz Wat_12_cluster_43583_2nd_lowest.xyz 9\n",
      "Wat_13_cluster_86223_1st_lowest.xyz Wat_13_cluster_86224_2nd_lowest.xyz 9\n",
      "Wat_14_cluster_144675_1st_lowest.xyz Wat_14_cluster_144676_2nd_lowest.xyz 11\n",
      "Wat_15_cluster_225208_1st_lowest.xyz Wat_15_cluster_225209_2nd_lowest.xyz 8\n",
      "Wat_16_cluster_321028_1st_lowest.xyz Wat_16_cluster_321029_2nd_lowest.xyz 7\n",
      "Wat_17_cluster_417887_1st_lowest.xyz Wat_17_cluster_417888_2nd_lowest.xyz 15\n",
      "Wat_18_cluster_524874_1st_lowest.xyz Wat_18_cluster_524875_2nd_lowest.xyz 15\n",
      "Wat_19_cluster_637553_1st_lowest.xyz Wat_19_cluster_637554_2nd_lowest.xyz 17\n",
      "Wat_20_cluster_744361_1st_lowest.xyz Wat_20_cluster_744362_2nd_lowest.xyz 18\n",
      "Wat_21_cluster_865737_1st_lowest.xyz Wat_21_cluster_865738_2nd_lowest.xyz 21\n",
      "Wat_22_cluster_1179799_1st_lowest.xyz Wat_22_cluster_1179800_2nd_lowest.xyz 13\n",
      "Wat_23_cluster_1574510_1st_lowest.xyz Wat_23_cluster_1574511_2nd_lowest.xyz 19\n",
      "Wat_24_cluster_1928474_1st_lowest.xyz Wat_24_cluster_1928475_2nd_lowest.xyz 23\n",
      "Wat_25_cluster_2243803_1st_lowest.xyz Wat_25_cluster_2243804_2nd_lowest.xyz 24\n",
      "Wat_26_cluster_2726710_1st_lowest.xyz Wat_26_cluster_2726711_2nd_lowest.xyz 21\n",
      "Wat_27_cluster_3257213_1st_lowest.xyz Wat_27_cluster_3257214_2nd_lowest.xyz 22\n",
      "Wat_28_cluster_3649358_1st_lowest.xyz Wat_28_cluster_3649359_2nd_lowest.xyz 25\n",
      "Wat_29_cluster_3925395_1st_lowest.xyz Wat_29_cluster_3925396_2nd_lowest.xyz 23\n",
      "Wat_30_cluster_4221226_1st_lowest.xyz Wat_30_cluster_4221227_2nd_lowest.xyz 24\n"
     ]
    }
   ],
   "source": [
    "group1_info = pd.read_csv('../Data/Our_Benchmark_20250410_ver1/Water_Cluster_3_30/water_cluster_1st_2nd_lowest_energy.csv')\n",
    "result = []\n",
    "for nameA, nameB in zip(group1_info['Reference'], group1_info['Target']):\n",
    "    filename = nameB.split(\".\")[0] + '-aligned_to-' + nameA.split(\".\")[0] + '.xyz'\n",
    "    mol = next(pybel.readfile('xyz', os.path.join('./ArbAlignOutput', filename)))\n",
    "    result.append({\n",
    "        'nameA': nameA,\n",
    "        'nameB': nameB,\n",
    "        '# mismatched water molecules': mismatch_counter(mol)\n",
    "    })\n",
    "    print(nameA, nameB, mismatch_counter(mol))\n",
    "mismatch_count_df = pd.DataFrame(result)\n",
    "mismatch_count_df.to_csv('./ArbAlignOutput/1st2nd_mismatch_count.csv', index=False)"
   ]
  },
  {
   "cell_type": "code",
   "execution_count": 6,
   "metadata": {},
   "outputs": [
    {
     "name": "stdout",
     "output_type": "stream",
     "text": [
      "Wat_3_cluster_0_lowest_1.xyz Wat_3_cluster_1_lowest_2.xyz 0\n",
      "Wat_4_cluster_2_lowest_1.xyz Wat_4_cluster_10_lowest_9.xyz 2\n",
      "Wat_5_cluster_13_lowest_2.xyz Wat_5_cluster_22_lowest_11.xyz 2\n",
      "Wat_6_cluster_42_lowest_12.xyz Wat_6_cluster_50_lowest_20.xyz 5\n",
      "Wat_7_cluster_137_lowest_1.xyz Wat_7_cluster_147_lowest_11.xyz 6\n",
      "Wat_8_cluster_615_lowest_9.xyz Wat_8_cluster_616_lowest_10.xyz 8\n",
      "Wat_9_cluster_1184_lowest_1.xyz Wat_9_cluster_1195_lowest_12.xyz 8\n",
      "Wat_10_cluster_5323_lowest_14.xyz Wat_10_cluster_5324_lowest_15.xyz 9\n",
      "Wat_11_cluster_33413_lowest_1.xyz Wat_11_cluster_33415_lowest_3.xyz 10\n",
      "Wat_12_cluster_43582_lowest_1.xyz Wat_12_cluster_43599_lowest_18.xyz 10\n",
      "Wat_13_cluster_86223_lowest_1.xyz Wat_13_cluster_86236_lowest_14.xyz 13\n",
      "Wat_14_cluster_144683_lowest_9.xyz Wat_14_cluster_144693_lowest_19.xyz 13\n",
      "Wat_15_cluster_225216_lowest_9.xyz Wat_15_cluster_225222_lowest_15.xyz 14\n",
      "Wat_16_cluster_321029_lowest_2.xyz Wat_16_cluster_321036_lowest_9.xyz 15\n",
      "Wat_17_cluster_417889_lowest_3.xyz Wat_17_cluster_417896_lowest_10.xyz 16\n",
      "Wat_18_cluster_524876_lowest_3.xyz Wat_18_cluster_524883_lowest_10.xyz 15\n",
      "Wat_19_cluster_637554_lowest_2.xyz Wat_19_cluster_637555_lowest_3.xyz 14\n",
      "Wat_20_cluster_744373_lowest_13.xyz Wat_20_cluster_744380_lowest_20.xyz 19\n",
      "Wat_21_cluster_865752_lowest_14.xyz Wat_21_cluster_865754_lowest_16.xyz 17\n",
      "Wat_22_cluster_1179802_lowest_4.xyz Wat_22_cluster_1179808_lowest_10.xyz 20\n",
      "Wat_23_cluster_1574526_lowest_17.xyz Wat_23_cluster_1574529_lowest_20.xyz 19\n",
      "Wat_24_cluster_1928487_lowest_14.xyz Wat_24_cluster_1928493_lowest_19.xyz 22\n",
      "Wat_25_cluster_2243818_lowest_16.xyz Wat_25_cluster_2243821_lowest_19.xyz 22\n",
      "Wat_26_cluster_2726711_lowest_2.xyz Wat_26_cluster_2726725_lowest_16.xyz 23\n",
      "Wat_27_cluster_3257215_lowest_3.xyz Wat_27_cluster_3257225_lowest_13.xyz 26\n",
      "Wat_28_cluster_3649363_lowest_6.xyz Wat_28_cluster_3649374_lowest_17.xyz 25\n",
      "Wat_29_cluster_3925402_lowest_8.xyz Wat_29_cluster_3925412_lowest_18.xyz 25\n",
      "Wat_30_cluster_4221227_lowest_2.xyz Wat_30_cluster_4221240_lowest_15.xyz 26\n"
     ]
    }
   ],
   "source": [
    "group2_info = pd.read_csv('../Data/Our_Benchmark_20250410_ver1/Water_Cluster_3_30/water_cluster_largest_RMSD_pair_among_20_lowest_energy.csv')\n",
    "result = []\n",
    "for nameA, nameB in zip(group2_info['Reference'], group2_info['Target']):\n",
    "    filename = nameB.split(\".\")[0] + '-aligned_to-' + nameA.split(\".\")[0] + '.xyz'\n",
    "    mol = next(pybel.readfile('xyz', os.path.join('./ArbAlignOutput', filename)))\n",
    "    result.append({\n",
    "        'nameA': nameA,\n",
    "        'nameB': nameB,\n",
    "        '# mismatched water molecules': mismatch_counter(mol)\n",
    "    })\n",
    "    print(nameA, nameB, mismatch_counter(mol))\n",
    "mismatch_count_df = pd.DataFrame(result)\n",
    "mismatch_count_df.to_csv('./ArbAlignOutput/largestRMSD_mismatch_count.csv', index=False)"
   ]
  },
  {
   "cell_type": "code",
   "execution_count": 17,
   "metadata": {},
   "outputs": [
    {
     "data": {
      "image/png": "[encoded data removed]",
      "text/plain": [
       "<Figure size 720x432 with 1 Axes>"
      ]
     },
     "metadata": {
      "needs_background": "light"
     },
     "output_type": "display_data"
    },
    {
     "data": {
      "text/plain": [
       "<Figure size 432x288 with 0 Axes>"
      ]
     },
     "metadata": {},
     "output_type": "display_data"
    }
   ],
   "source": [
    "mismatch_count_df = pd.read_csv('./ArbAlignOutput/ArbAlignData_mismatch_count.csv')\n",
    "arbalign_res = pd.read_csv(os.path.join(data_path, 'rmsd-2017.dat'), sep='\\s+')\n",
    "df = pd.concat([mismatch_count_df, arbalign_res], axis=1)\n",
    "plt.figure(figsize=(10, 6))\n",
    "plt.title('The number of mismatched water molecules in ArbAlign alignments')\n",
    "plt.xlabel('The number of water molecules in clusters')\n",
    "plt.plot(range(len(df)), df[\"# mismatched water molecules\"], marker='o')\n",
    "plt.xticks(range(len(df)), df['#'])\n",
    "plt.grid()\n",
    "plt.show()\n",
    "plt.savefig('../images/ArbAlignData_mismatch_count.png')"
   ]
  },
  {
   "cell_type": "code",
   "execution_count": 10,
   "metadata": {},
   "outputs": [
    {
     "data": {
      "text/html": [
       "<div>\n",
       "<style scoped>\n",
       "    .dataframe tbody tr th:only-of-type {\n",
       "        vertical-align: middle;\n",
       "    }\n",
       "\n",
       "    .dataframe tbody tr th {\n",
       "        vertical-align: top;\n",
       "    }\n",
       "\n",
       "    .dataframe thead th {\n",
       "        text-align: right;\n",
       "    }\n",
       "</style>\n",
       "<table border=\"1\" class=\"dataframe\">\n",
       "  <thead>\n",
       "    <tr style=\"text-align: right;\">\n",
       "      <th></th>\n",
       "      <th>#</th>\n",
       "      <th>Isomers_aligned</th>\n",
       "      <th>RMSD(Conv)</th>\n",
       "      <th>RMSD(KM-ByAtomName)</th>\n",
       "    </tr>\n",
       "  </thead>\n",
       "  <tbody>\n",
       "    <tr>\n",
       "      <th>0</th>\n",
       "      <td>2</td>\n",
       "      <td>2-Cs-1_2-OpenC1</td>\n",
       "      <td>0.875</td>\n",
       "      <td>0.316</td>\n",
       "    </tr>\n",
       "    <tr>\n",
       "      <th>1</th>\n",
       "      <td>3</td>\n",
       "      <td>3-UUD_3-UUU_3</td>\n",
       "      <td>1.055</td>\n",
       "      <td>0.310</td>\n",
       "    </tr>\n",
       "    <tr>\n",
       "      <th>2</th>\n",
       "      <td>4</td>\n",
       "      <td>4-Ci_4-S4_4</td>\n",
       "      <td>0.494</td>\n",
       "      <td>0.494</td>\n",
       "    </tr>\n",
       "    <tr>\n",
       "      <th>3</th>\n",
       "      <td>5</td>\n",
       "      <td>5-CA-A_5-CA-B_5</td>\n",
       "      <td>1.464</td>\n",
       "      <td>0.756</td>\n",
       "    </tr>\n",
       "    <tr>\n",
       "      <th>4</th>\n",
       "      <td>6</td>\n",
       "      <td>6-BAG_6-BK-1_6</td>\n",
       "      <td>2.341</td>\n",
       "      <td>1.187</td>\n",
       "    </tr>\n",
       "    <tr>\n",
       "      <th>5</th>\n",
       "      <td>7</td>\n",
       "      <td>7-BI1_7-BI2_7</td>\n",
       "      <td>3.125</td>\n",
       "      <td>0.450</td>\n",
       "    </tr>\n",
       "    <tr>\n",
       "      <th>6</th>\n",
       "      <td>8</td>\n",
       "      <td>8-D2d_8-S4_8</td>\n",
       "      <td>2.794</td>\n",
       "      <td>0.372</td>\n",
       "    </tr>\n",
       "    <tr>\n",
       "      <th>7</th>\n",
       "      <td>9</td>\n",
       "      <td>9-D2dDD_9-S4DA_9</td>\n",
       "      <td>2.588</td>\n",
       "      <td>0.365</td>\n",
       "    </tr>\n",
       "    <tr>\n",
       "      <th>8</th>\n",
       "      <td>10</td>\n",
       "      <td>10-PP1_10-PP2_10</td>\n",
       "      <td>3.266</td>\n",
       "      <td>0.338</td>\n",
       "    </tr>\n",
       "    <tr>\n",
       "      <th>9</th>\n",
       "      <td>11</td>\n",
       "      <td>11-551A-1_11-551A-4_11</td>\n",
       "      <td>2.878</td>\n",
       "      <td>0.958</td>\n",
       "    </tr>\n",
       "    <tr>\n",
       "      <th>10</th>\n",
       "      <td>12</td>\n",
       "      <td>12-D2d-1-L_12-D2d-1-R_12</td>\n",
       "      <td>3.765</td>\n",
       "      <td>0.382</td>\n",
       "    </tr>\n",
       "    <tr>\n",
       "      <th>11</th>\n",
       "      <td>13</td>\n",
       "      <td>13-TIP4P_13-TIP5P_13</td>\n",
       "      <td>2.930</td>\n",
       "      <td>1.521</td>\n",
       "    </tr>\n",
       "    <tr>\n",
       "      <th>12</th>\n",
       "      <td>14</td>\n",
       "      <td>14-1_14-2_14</td>\n",
       "      <td>3.497</td>\n",
       "      <td>0.812</td>\n",
       "    </tr>\n",
       "    <tr>\n",
       "      <th>13</th>\n",
       "      <td>15</td>\n",
       "      <td>15-1_15-2_15</td>\n",
       "      <td>3.237</td>\n",
       "      <td>1.377</td>\n",
       "    </tr>\n",
       "    <tr>\n",
       "      <th>14</th>\n",
       "      <td>16</td>\n",
       "      <td>16-TIP4P_16-TIP5P_16</td>\n",
       "      <td>4.154</td>\n",
       "      <td>1.947</td>\n",
       "    </tr>\n",
       "    <tr>\n",
       "      <th>15</th>\n",
       "      <td>17</td>\n",
       "      <td>17-TIP4P_17-TIP5P_17</td>\n",
       "      <td>3.925</td>\n",
       "      <td>1.345</td>\n",
       "    </tr>\n",
       "    <tr>\n",
       "      <th>16</th>\n",
       "      <td>18</td>\n",
       "      <td>18-TIP4P_18-TIP5P_18</td>\n",
       "      <td>4.534</td>\n",
       "      <td>1.654</td>\n",
       "    </tr>\n",
       "    <tr>\n",
       "      <th>17</th>\n",
       "      <td>19</td>\n",
       "      <td>19-TIP4P_19-TIP5P_19</td>\n",
       "      <td>4.572</td>\n",
       "      <td>1.594</td>\n",
       "    </tr>\n",
       "    <tr>\n",
       "      <th>18</th>\n",
       "      <td>20</td>\n",
       "      <td>20-TIP4P_20-TIP5P_20</td>\n",
       "      <td>4.624</td>\n",
       "      <td>1.763</td>\n",
       "    </tr>\n",
       "    <tr>\n",
       "      <th>19</th>\n",
       "      <td>21</td>\n",
       "      <td>21-TIP4P_21-TIP5P_21</td>\n",
       "      <td>4.684</td>\n",
       "      <td>1.538</td>\n",
       "    </tr>\n",
       "    <tr>\n",
       "      <th>20</th>\n",
       "      <td>25</td>\n",
       "      <td>25-1_25-2_25</td>\n",
       "      <td>5.408</td>\n",
       "      <td>2.546</td>\n",
       "    </tr>\n",
       "    <tr>\n",
       "      <th>21</th>\n",
       "      <td>40</td>\n",
       "      <td>40-a_40-b_40</td>\n",
       "      <td>6.930</td>\n",
       "      <td>2.176</td>\n",
       "    </tr>\n",
       "    <tr>\n",
       "      <th>22</th>\n",
       "      <td>60</td>\n",
       "      <td>60-1_60-2_60</td>\n",
       "      <td>7.739</td>\n",
       "      <td>1.928</td>\n",
       "    </tr>\n",
       "    <tr>\n",
       "      <th>23</th>\n",
       "      <td>100</td>\n",
       "      <td>100-1_100-2_100</td>\n",
       "      <td>8.460</td>\n",
       "      <td>1.967</td>\n",
       "    </tr>\n",
       "  </tbody>\n",
       "</table>\n",
       "</div>"
      ],
      "text/plain": [
       "      #           Isomers_aligned  RMSD(Conv)  RMSD(KM-ByAtomName)\n",
       "0     2           2-Cs-1_2-OpenC1       0.875                0.316\n",
       "1     3             3-UUD_3-UUU_3       1.055                0.310\n",
       "2     4               4-Ci_4-S4_4       0.494                0.494\n",
       "3     5           5-CA-A_5-CA-B_5       1.464                0.756\n",
       "4     6            6-BAG_6-BK-1_6       2.341                1.187\n",
       "5     7             7-BI1_7-BI2_7       3.125                0.450\n",
       "6     8              8-D2d_8-S4_8       2.794                0.372\n",
       "7     9          9-D2dDD_9-S4DA_9       2.588                0.365\n",
       "8    10          10-PP1_10-PP2_10       3.266                0.338\n",
       "9    11    11-551A-1_11-551A-4_11       2.878                0.958\n",
       "10   12  12-D2d-1-L_12-D2d-1-R_12       3.765                0.382\n",
       "11   13      13-TIP4P_13-TIP5P_13       2.930                1.521\n",
       "12   14              14-1_14-2_14       3.497                0.812\n",
       "13   15              15-1_15-2_15       3.237                1.377\n",
       "14   16      16-TIP4P_16-TIP5P_16       4.154                1.947\n",
       "15   17      17-TIP4P_17-TIP5P_17       3.925                1.345\n",
       "16   18      18-TIP4P_18-TIP5P_18       4.534                1.654\n",
       "17   19      19-TIP4P_19-TIP5P_19       4.572                1.594\n",
       "18   20      20-TIP4P_20-TIP5P_20       4.624                1.763\n",
       "19   21      21-TIP4P_21-TIP5P_21       4.684                1.538\n",
       "20   25              25-1_25-2_25       5.408                2.546\n",
       "21   40              40-a_40-b_40       6.930                2.176\n",
       "22   60              60-1_60-2_60       7.739                1.928\n",
       "23  100           100-1_100-2_100       8.460                1.967"
      ]
     },
     "execution_count": 10,
     "metadata": {},
     "output_type": "execute_result"
    }
   ],
   "source": []
  },
  {
   "cell_type": "code",
   "execution_count": 3,
   "metadata": {},
   "outputs": [
    {
     "name": "stdout",
     "output_type": "stream",
     "text": [
      "The assignment is not provided. Assuming identity assignment.\n"
     ]
    },
    {
     "data": {
      "application/vnd.plotly.v1+json": {
       "config": {
        "plotlyServerURL": "https://plot.ly",
        "toImageButtonOptions": {
         "format": "png",
         "height": 500,
         "scale": 2,
         "width": 700
        }
       },
       "data": [
        {
         "marker": {
          "color": "red",
          "size": [
           13.200000000000001,
           6.2,
           6.2,
           13.200000000000001,
           6.2,
           6.2,
           13.200000000000001,
           6.2,
           6.2,
           13.200000000000001,
           6.2,
           6.2,
           13.200000000000001,
           6.2,
           6.2,
           13.200000000000001,
           6.2,
           6.2,
           13.200000000000001,
           6.2,
           6.2,
           13.200000000000001,
           6.2,
           6.2,
           13.200000000000001,
           6.2,
           6.2,
           13.200000000000001,
           6.2,
           6.2
          ],
          "symbol": "circle"
         },
         "mode": "markers",
         "name": "10-PP1.xyz",
         "type": "scatter3d",
         "x": {
          "bdata": "fH4YITza+z9pVyHlJ9UBQOutga0SLOw/O/w1WaMe9T+syr4rgv/3P81YNJ2dDPs/Fw6EZAET5r94f7xXrUzyv4vgfyvZsfW/u5unOuRm9L8xlBPtKqTUvxZNZyeDo/i/86s5QDBH/j8fLjnulA7uP5pfzQGCOQNArS8S2nIu57+PpQ9dUN/yv4/HDFTGv/C/3ZiesMQDur9GQlvOpbjSvzpdFhObj+k/MlpHVRNE/79x5ldzgOADwCcUIuAQqvO/3xrYKsFiA8ATChFwCNUAwEiKyLCKtwPAqkiFsYWgAkBkkpGzsCcCQGUBE7h1twJA",
          "dtype": "f8"
         },
         "y": {
          "bdata": "davnpPeN+T+eew+XHHcBQI1F09nJYABAujE9YYkH878OoUrNHmjNvyeIug9Aavi/bsDnhxHCBEAPKJtyhfcKQGLboswGmf0/Ug/R6A5i/L/1EI3uIHb4vzmX4qqybwLAtYmT+x0KAMBWgsXhzK8BwG/1nPS+8QXAEojX9Qt2A8CPqiaIug/7vxbe5SK+EwPANSkF3V7S/D+XHHdKB2sCQIIclDDT9vY/XoB9dOrKt7+L4H8r2bFBv6RTVz7L8+I/Vz7L8+Du4j9MiSR6GcXKv8R3YtaLodQ/7fDXZI166D/60AX1LXPKv2Yxsfm4NvE/",
          "dtype": "f8"
         },
         "z": {
          "bdata": "Y0UNpmH497+fH0YIj7YAwO1kcJS8OvW/kwA1tWyt/r/IzXADPj/+v8+9h0uOO/G/Bp57D5cc57/L1voioS3xv6nBNAwfEem/yO9t+rMf+7/fFcH/VrL9v5+wxAPKpgPAcY+lD11Q5z/jqrLviuDtP4ums5PBUfE/gosVNZiG8D9LAtTUsrX3P7STwVHy6rw/iIBDqFIzAEBMT1jiAWXzP2mpvB3htP0/GGAfnbry/z/+8V61MmEGQA2OklfnmABA3rBtUWaD5r9A+5EiMqzyvyE82jhiLc4/Bd1e0hit8z+PjUC8rl/yP89OBkfJq9M/",
          "dtype": "f8"
         }
        },
        {
         "marker": {
          "color": "blue",
          "size": [
           13.200000000000001,
           6.2,
           6.2,
           13.200000000000001,
           6.2,
           6.2,
           13.200000000000001,
           6.2,
           6.2,
           13.200000000000001,
           6.2,
           6.2,
           13.200000000000001,
           6.2,
           6.2,
           13.200000000000001,
           6.2,
           6.2,
           13.200000000000001,
           6.2,
           6.2,
           13.200000000000001,
           6.2,
           6.2,
           13.200000000000001,
           6.2,
           6.2,
           13.200000000000001,
           6.2,
           6.2
          ],
          "symbol": "circle"
         },
         "mode": "markers",
         "name": "10-PP2-aligned_to-10-PP1.xyz",
         "type": "scatter3d",
         "x": {
          "bdata": "b3r2f6FK+z/WB6kW83EBQMfw44zBPes/40FRR09z9T9H+6yV59X3P41xUI9jefs/mS2lddzC57/Nr+ME3zbzvzRH8cbBbfa/rqYH9kfB87/3hpBz9DXSv+338En01/e/hKvz5NUgAEDVB9vriNfOP654LM3wGwZA7PJ4d5Bx5799UaKKnWv4vynPtAAm2+6/sZgymvo/vr8KmbZrQ4XYv/c3q8WWlvc/eXzQn7A8AMAxi5bvOCoFwMetLr7MTem/QJHzEL9EA8D8QVW/9rMAwHCDuqfJuAPAbuXJBGhMAkD5gmnBxRgBQFDAcTQrawJA",
          "dtype": "f8"
         },
         "y": {
          "bdata": "eaIWkeIw+j91fzMs8cMBQHORALFCugBA7hSn1W6H8r+5OJPyIsTIv+sIu79t4fe/bPIJjeLQBEBp6/ImqRALQGPF87uto/0/lhA724vt/L97a7O4oNf4v+r0hK/q0gLA1bLBgWRt/b8UjJuAXoECwNft5J+egQLAaj7o9qlQA8CtlXNtnKPxv0v/x3//RwPADxaVYTJl/T+i4bgiJEkCQL0K+ExRS/I/8t+9V5jV0b9boXKI3I3hv1gbfAorL/I/zhYQDo2k4T8SYXQMFPLPvxeIpNiMk9E/s0xD9s0G6D+WKnvl3j3svyt0fiygTfI/",
          "dtype": "f8"
         },
         "z": {
          "bdata": "jPfp/9Sd979xSMiyAKQAwMSJOI+ojvS/VwT4ZWhl/r/j1kPNULT9v5OHDHPy+/C/trIQMmg0579tW97ode/wv7uxcXiVhum/KQcR3X+J+7+2PHOS4Rv+v7u3l91UzQPAktcI3xOE6D9pT1IMlorwPwVDnaVDZvI/y4o+7Ex/8D8N+nq8DUz7P6p7imsSMbU/Rso5dIxKAEDF1piyg2zzP2HMfq+uGfo/PyBDrMFE/z+IysnudysFQKY8UeZcIQFAZEdiVhsJ578d3Pm1Mefyv+bcoNBHuMs/4n+ORXm98z8EnrW2E4bwP7H6rASU89U/",
          "dtype": "f8"
         }
        },
        {
         "line": {
          "color": "red",
          "width": 2
         },
         "mode": "lines",
         "showlegend": false,
         "type": "scatter3d",
         "x": [
          1.74078,
          2.22908
         ],
         "y": [
          1.59716,
          2.18316
         ],
         "z": [
          -1.49814,
          -2.08914
         ]
        },
        {
         "line": {
          "color": "red",
          "width": 2
         },
         "mode": "lines",
         "showlegend": false,
         "type": "scatter3d",
         "x": [
          1.74078,
          0.88038
         ],
         "y": [
          1.59716,
          2.04726
         ],
         "z": [
          -1.49814,
          -1.32684
         ]
        },
        {
         "line": {
          "color": "red",
          "width": 2
         },
         "mode": "lines",
         "showlegend": false,
         "type": "scatter3d",
         "x": [
          1.31998,
          1.49988
         ],
         "y": [
          -1.18934,
          -0.22974
         ],
         "z": [
          -1.91734,
          -1.89044
         ]
        },
        {
         "line": {
          "color": "red",
          "width": 2
         },
         "mode": "lines",
         "showlegend": false,
         "type": "scatter3d",
         "x": [
          1.31998,
          1.69058
         ],
         "y": [
          -1.18934,
          -1.52594
         ],
         "z": [
          -1.91734,
          -1.07704
         ]
        },
        {
         "line": {
          "color": "red",
          "width": 2
         },
         "mode": "lines",
         "showlegend": false,
         "type": "scatter3d",
         "x": [
          -0.68982,
          -1.14372
         ],
         "y": [
          2.59476,
          3.37086
         ],
         "z": [
          -0.72224,
          -1.07364
         ]
        },
        {
         "line": {
          "color": "red",
          "width": 2
         },
         "mode": "lines",
         "showlegend": false,
         "type": "scatter3d",
         "x": [
          -0.68982,
          -1.35592
         ],
         "y": [
          2.59476,
          1.84986
         ],
         "z": [
          -0.72224,
          -0.78334
         ]
        },
        {
         "line": {
          "color": "red",
          "width": 2
         },
         "mode": "lines",
         "showlegend": false,
         "type": "scatter3d",
         "x": [
          -1.27512,
          -0.32252
         ],
         "y": [
          -1.77394,
          -1.52884
         ],
         "z": [
          -1.69524,
          -1.85604
         ]
        },
        {
         "line": {
          "color": "red",
          "width": 2
         },
         "mode": "lines",
         "showlegend": false,
         "type": "scatter3d",
         "x": [
          -1.27512,
          -1.53992
         ],
         "y": [
          -1.77394,
          -2.30454
         ],
         "z": [
          -1.69524,
          -2.45644
         ]
        },
        {
         "line": {
          "color": "red",
          "width": 2
         },
         "mode": "lines",
         "showlegend": false,
         "type": "scatter3d",
         "x": [
          1.89238,
          0.93928
         ],
         "y": [
          -2.00494,
          -2.21084
         ],
         "z": [
          0.72856,
          0.93366
         ]
        },
        {
         "line": {
          "color": "red",
          "width": 2
         },
         "mode": "lines",
         "showlegend": false,
         "type": "scatter3d",
         "x": [
          1.89238,
          2.40308
         ],
         "y": [
          -2.00494,
          -2.74304
         ],
         "z": [
          0.72856,
          1.08246
         ]
        },
        {
         "line": {
          "color": "red",
          "width": 2
         },
         "mode": "lines",
         "showlegend": false,
         "type": "scatter3d",
         "x": [
          -0.72442,
          -1.17952
         ],
         "y": [
          -2.43264,
          -1.69134
         ],
         "z": [
          1.03286,
          1.48186
         ]
        },
        {
         "line": {
          "color": "red",
          "width": 2
         },
         "mode": "lines",
         "showlegend": false,
         "type": "scatter3d",
         "x": [
          -0.72442,
          -1.04682
         ],
         "y": [
          -2.43264,
          -2.38464
         ],
         "z": [
          1.03286,
          0.11296
         ]
        },
        {
         "line": {
          "color": "red",
          "width": 2
         },
         "mode": "lines",
         "showlegend": false,
         "type": "scatter3d",
         "x": [
          -0.10162,
          -0.29252
         ],
         "y": [
          1.80136,
          2.30226
         ],
         "z": [
          2.02506,
          1.21216
         ]
        },
        {
         "line": {
          "color": "red",
          "width": 2
         },
         "mode": "lines",
         "showlegend": false,
         "type": "scatter3d",
         "x": [
          -0.10162,
          0.79878
         ],
         "y": [
          1.80136,
          1.43526
         ],
         "z": [
          2.02506,
          1.85666
         ]
        },
        {
         "line": {
          "color": "red",
          "width": 2
         },
         "mode": "lines",
         "showlegend": false,
         "type": "scatter3d",
         "x": [
          -1.95412,
          -2.48462
         ],
         "y": [
          -0.09294,
          -0.00054
         ],
         "z": [
          1.99676,
          2.79746
         ]
        },
        {
         "line": {
          "color": "red",
          "width": 2
         },
         "mode": "lines",
         "showlegend": false,
         "type": "scatter3d",
         "x": [
          -1.95412,
          -1.22902
         ],
         "y": [
          -0.09294,
          0.59226
         ],
         "z": [
          1.99676,
          2.07466
         ]
        },
        {
         "line": {
          "color": "red",
          "width": 2
         },
         "mode": "lines",
         "showlegend": false,
         "type": "scatter3d",
         "x": [
          -2.42322,
          -2.10402
         ],
         "y": [
          0.59166,
          -0.20914
         ],
         "z": [
          -0.70354,
          -1.16704
         ]
        },
        {
         "line": {
          "color": "red",
          "width": 2
         },
         "mode": "lines",
         "showlegend": false,
         "type": "scatter3d",
         "x": [
          -2.42322,
          -2.46462
         ],
         "y": [
          0.59166,
          0.32236
         ],
         "z": [
          -0.70354,
          0.23576
         ]
        },
        {
         "line": {
          "color": "red",
          "width": 2
         },
         "mode": "lines",
         "showlegend": false,
         "type": "scatter3d",
         "x": [
          2.32838,
          2.26938
         ],
         "y": [
          0.76496,
          -0.20664
         ],
         "z": [
          1.22976,
          1.14836
         ]
        },
        {
         "line": {
          "color": "red",
          "width": 2
         },
         "mode": "lines",
         "showlegend": false,
         "type": "scatter3d",
         "x": [
          2.32838,
          2.33958
         ],
         "y": [
          0.76496,
          1.07586
         ],
         "z": [
          1.22976,
          0.30736
         ]
        },
        {
         "line": {
          "color": "blue",
          "width": 2
         },
         "mode": "lines",
         "showlegend": false,
         "type": "scatter3d",
         "x": [
          1.70572042451354,
          2.1806394357999848
         ],
         "y": [
          1.6369348208919787,
          2.2206748440948396
         ],
         "z": [
          -1.476033210433772,
          -2.080079457032348
         ]
        },
        {
         "line": {
          "color": "blue",
          "width": 2
         },
         "mode": "lines",
         "showlegend": false,
         "type": "scatter3d",
         "x": [
          1.70572042451354,
          0.8512885810628398
         ],
         "y": [
          1.6369348208919787,
          2.090947516279067
         ],
         "z": [
          -1.476033210433772,
          -1.2848287195744073
         ]
        },
        {
         "line": {
          "color": "blue",
          "width": 2
         },
         "mode": "lines",
         "showlegend": false,
         "type": "scatter3d",
         "x": [
          1.3406517778240576,
          1.4897228094775572
         ],
         "y": [
          -1.1580646844679978,
          -0.19348561138617074
         ],
         "z": [
          -1.899757765117348,
          -1.856522371117017
         ]
        },
        {
         "line": {
          "color": "blue",
          "width": 2
         },
         "mode": "lines",
         "showlegend": false,
         "type": "scatter3d",
         "x": [
          1.3406517778240576,
          1.7171359632694447
         ],
         "y": [
          -1.1580646844679978,
          -1.4925363053776504
         ],
         "z": [
          -1.899757765117348,
          -1.0615105146502841
         ]
        },
        {
         "line": {
          "color": "blue",
          "width": 2
         },
         "mode": "lines",
         "showlegend": false,
         "type": "scatter3d",
         "x": [
          -0.7425367639311161,
          -1.2008962813369977
         ],
         "y": [
          2.6019946116123744,
          3.383135132110898
         ],
         "z": [
          -0.7251473405682052,
          -1.058462056773091
         ]
        },
        {
         "line": {
          "color": "blue",
          "width": 2
         },
         "mode": "lines",
         "showlegend": false,
         "type": "scatter3d",
         "x": [
          -0.7425367639311161,
          -1.4017961283866045
         ],
         "y": [
          2.6019946116123744,
          1.8524606077083596
         ],
         "z": [
          -0.7251473405682052,
          -0.7976786949562248
         ]
        },
        {
         "line": {
          "color": "blue",
          "width": 2
         },
         "mode": "lines",
         "showlegend": false,
         "type": "scatter3d",
         "x": [
          -1.2346877680342163,
          -0.2845431450424338
         ],
         "y": [
          -1.8079947055530616,
          -1.5526435103299423
         ],
         "z": [
          -1.7210692058001291,
          -1.8818069191654963
         ]
        },
        {
         "line": {
          "color": "blue",
          "width": 2
         },
         "mode": "lines",
         "showlegend": false,
         "type": "scatter3d",
         "x": [
          -1.2346877680342163,
          -1.4902232063609475
         ],
         "y": [
          -1.8079947055530616,
          -2.3529866898012317
         ],
         "z": [
          -1.7210692058001291,
          -2.4752595245290343
         ]
        },
        {
         "line": {
          "color": "blue",
          "width": 2
         },
         "mode": "lines",
         "showlegend": false,
         "type": "scatter3d",
         "x": [
          2.016032971082895,
          2.7636428860851856
         ],
         "y": [
          -1.8392071789377742,
          -2.313290833639012
         ],
         "z": [
          0.7661227565902087,
          1.1499668568905588
         ]
        },
        {
         "line": {
          "color": "blue",
          "width": 2
         },
         "mode": "lines",
         "showlegend": false,
         "type": "scatter3d",
         "x": [
          2.016032971082895,
          2.1370959387135113
         ],
         "y": [
          -1.8392071789377742,
          -0.8825525743535134
         ],
         "z": [
          0.7661227565902087,
          1.0327336442077248
         ]
        },
        {
         "line": {
          "color": "blue",
          "width": 2
         },
         "mode": "lines",
         "showlegend": false,
         "type": "scatter3d",
         "x": [
          0.24095260158907075,
          -0.7326128323980732
         ],
         "y": [
          -2.3131685302228195,
          -2.4143866815209565
         ],
         "z": [
          1.0338345032987155,
          1.0310792187016655
         ]
        },
        {
         "line": {
          "color": "blue",
          "width": 2
         },
         "mode": "lines",
         "showlegend": false,
         "type": "scatter3d",
         "x": [
          -0.7326128323980732,
          -0.9642515195650719
         ],
         "y": [
          -2.4143866815209565,
          -2.4101552946957887
         ],
         "z": [
          1.0310792187016655,
          0.08278002858649694
         ]
        },
        {
         "line": {
          "color": "blue",
          "width": 2
         },
         "mode": "lines",
         "showlegend": false,
         "type": "scatter3d",
         "x": [
          -1.5262732901947793,
          -2.0296337590694375
         ],
         "y": [
          -1.1024441028069802,
          -0.2786618096210979
         ],
         "z": [
          1.7060677874102368,
          1.954286263369809
         ]
        },
        {
         "line": {
          "color": "blue",
          "width": 2
         },
         "mode": "lines",
         "showlegend": false,
         "type": "scatter3d",
         "x": [
          -0.11816374077406767,
          -0.38313375014185225
         ],
         "y": [
          1.8372062503634685,
          2.285713454501278
         ],
         "z": [
          2.036400707257857,
          1.2139927841612217
         ]
        },
        {
         "line": {
          "color": "blue",
          "width": 2
         },
         "mode": "lines",
         "showlegend": false,
         "type": "scatter3d",
         "x": [
          -0.11816374077406767,
          -0.7907470430849849
         ],
         "y": [
          1.8372062503634685,
          1.1365156564295003
         ],
         "z": [
          2.036400707257857,
          2.1412904733220612
         ]
        },
        {
         "line": {
          "color": "blue",
          "width": 2
         },
         "mode": "lines",
         "showlegend": false,
         "type": "scatter3d",
         "x": [
          1.4742648812712085,
          2.287307774936088
         ],
         "y": [
          1.143388081226177,
          0.7508306321928074
         ],
         "z": [
          1.6312701087270158,
          1.233758231835957
         ]
        },
        {
         "line": {
          "color": "blue",
          "width": 2
         },
         "mode": "lines",
         "showlegend": false,
         "type": "scatter3d",
         "x": [
          -2.0296337590694375,
          -2.645616409093599
         ],
         "y": [
          -0.2786618096210979,
          -0.5485670723910901
         ],
         "z": [
          1.954286263369809,
          2.646224847348382
         ]
        },
        {
         "line": {
          "color": "blue",
          "width": 2
         },
         "mode": "lines",
         "showlegend": false,
         "type": "scatter3d",
         "x": [
          -2.4085675548869006,
          -2.087872977055893
         ],
         "y": [
          0.5513367914834022,
          -0.24957514389166896
         ],
         "z": [
          -0.7198616683183272,
          -1.1814438923299868
         ]
        },
        {
         "line": {
          "color": "blue",
          "width": 2
         },
         "mode": "lines",
         "showlegend": false,
         "type": "scatter3d",
         "x": [
          -2.4085675548869006,
          -2.46522837675041
         ],
         "y": [
          0.5513367914834022,
          0.2746307483340628
         ],
         "z": [
          -0.7198616683183272,
          0.21656129538471375
         ]
        },
        {
         "line": {
          "color": "blue",
          "width": 2
         },
         "mode": "lines",
         "showlegend": false,
         "type": "scatter3d",
         "x": [
          2.287307774936088,
          2.302328500481998
         ],
         "y": [
          0.7508306321928074,
          1.1439515817685428
         ],
         "z": [
          1.233758231835957,
          0.3429918332730422
         ]
        },
        {
         "line": {
          "color": "green",
          "dash": "longdash",
          "width": 3
         },
         "mode": "lines",
         "showlegend": false,
         "type": "scatter3d",
         "x": [
          1.74078,
          1.70572042451354
         ],
         "y": [
          1.59716,
          1.6369348208919787
         ],
         "z": [
          -1.49814,
          -1.476033210433772
         ]
        },
        {
         "line": {
          "color": "green",
          "dash": "longdash",
          "width": 3
         },
         "mode": "lines",
         "showlegend": false,
         "type": "scatter3d",
         "x": [
          2.22908,
          2.1806394357999848
         ],
         "y": [
          2.18316,
          2.2206748440948396
         ],
         "z": [
          -2.08914,
          -2.080079457032348
         ]
        },
        {
         "line": {
          "color": "green",
          "dash": "longdash",
          "width": 3
         },
         "mode": "lines",
         "showlegend": false,
         "type": "scatter3d",
         "x": [
          0.88038,
          0.8512885810628398
         ],
         "y": [
          2.04726,
          2.090947516279067
         ],
         "z": [
          -1.32684,
          -1.2848287195744073
         ]
        },
        {
         "line": {
          "color": "green",
          "dash": "longdash",
          "width": 3
         },
         "mode": "lines",
         "showlegend": false,
         "type": "scatter3d",
         "x": [
          1.31998,
          1.3406517778240576
         ],
         "y": [
          -1.18934,
          -1.1580646844679978
         ],
         "z": [
          -1.91734,
          -1.899757765117348
         ]
        },
        {
         "line": {
          "color": "green",
          "dash": "longdash",
          "width": 3
         },
         "mode": "lines",
         "showlegend": false,
         "type": "scatter3d",
         "x": [
          1.49988,
          1.4897228094775572
         ],
         "y": [
          -0.22974,
          -0.19348561138617074
         ],
         "z": [
          -1.89044,
          -1.856522371117017
         ]
        },
        {
         "line": {
          "color": "green",
          "dash": "longdash",
          "width": 3
         },
         "mode": "lines",
         "showlegend": false,
         "type": "scatter3d",
         "x": [
          1.69058,
          1.7171359632694447
         ],
         "y": [
          -1.52594,
          -1.4925363053776504
         ],
         "z": [
          -1.07704,
          -1.0615105146502841
         ]
        },
        {
         "line": {
          "color": "green",
          "dash": "longdash",
          "width": 3
         },
         "mode": "lines",
         "showlegend": false,
         "type": "scatter3d",
         "x": [
          -0.68982,
          -0.7425367639311161
         ],
         "y": [
          2.59476,
          2.6019946116123744
         ],
         "z": [
          -0.72224,
          -0.7251473405682052
         ]
        },
        {
         "line": {
          "color": "green",
          "dash": "longdash",
          "width": 3
         },
         "mode": "lines",
         "showlegend": false,
         "type": "scatter3d",
         "x": [
          -1.14372,
          -1.2008962813369977
         ],
         "y": [
          3.37086,
          3.383135132110898
         ],
         "z": [
          -1.07364,
          -1.058462056773091
         ]
        },
        {
         "line": {
          "color": "green",
          "dash": "longdash",
          "width": 3
         },
         "mode": "lines",
         "showlegend": false,
         "type": "scatter3d",
         "x": [
          -1.35592,
          -1.4017961283866045
         ],
         "y": [
          1.84986,
          1.8524606077083596
         ],
         "z": [
          -0.78334,
          -0.7976786949562248
         ]
        },
        {
         "line": {
          "color": "green",
          "dash": "longdash",
          "width": 3
         },
         "mode": "lines",
         "showlegend": false,
         "type": "scatter3d",
         "x": [
          -1.27512,
          -1.2346877680342163
         ],
         "y": [
          -1.77394,
          -1.8079947055530616
         ],
         "z": [
          -1.69524,
          -1.7210692058001291
         ]
        },
        {
         "line": {
          "color": "green",
          "dash": "longdash",
          "width": 3
         },
         "mode": "lines",
         "showlegend": false,
         "type": "scatter3d",
         "x": [
          -0.32252,
          -0.2845431450424338
         ],
         "y": [
          -1.52884,
          -1.5526435103299423
         ],
         "z": [
          -1.85604,
          -1.8818069191654963
         ]
        },
        {
         "line": {
          "color": "green",
          "dash": "longdash",
          "width": 3
         },
         "mode": "lines",
         "showlegend": false,
         "type": "scatter3d",
         "x": [
          -1.53992,
          -1.4902232063609475
         ],
         "y": [
          -2.30454,
          -2.3529866898012317
         ],
         "z": [
          -2.45644,
          -2.4752595245290343
         ]
        },
        {
         "line": {
          "color": "green",
          "dash": "longdash",
          "width": 3
         },
         "mode": "lines",
         "showlegend": false,
         "type": "scatter3d",
         "x": [
          1.89238,
          2.016032971082895
         ],
         "y": [
          -2.00494,
          -1.8392071789377742
         ],
         "z": [
          0.72856,
          0.7661227565902087
         ]
        },
        {
         "line": {
          "color": "green",
          "dash": "longdash",
          "width": 3
         },
         "mode": "lines",
         "showlegend": false,
         "type": "scatter3d",
         "x": [
          0.93928,
          0.24095260158907075
         ],
         "y": [
          -2.21084,
          -2.3131685302228195
         ],
         "z": [
          0.93366,
          1.0338345032987155
         ]
        },
        {
         "line": {
          "color": "green",
          "dash": "longdash",
          "width": 3
         },
         "mode": "lines",
         "showlegend": false,
         "type": "scatter3d",
         "x": [
          2.40308,
          2.7636428860851856
         ],
         "y": [
          -2.74304,
          -2.313290833639012
         ],
         "z": [
          1.08246,
          1.1499668568905588
         ]
        },
        {
         "line": {
          "color": "green",
          "dash": "longdash",
          "width": 3
         },
         "mode": "lines",
         "showlegend": false,
         "type": "scatter3d",
         "x": [
          -0.72442,
          -0.7326128323980732
         ],
         "y": [
          -2.43264,
          -2.4143866815209565
         ],
         "z": [
          1.03286,
          1.0310792187016655
         ]
        },
        {
         "line": {
          "color": "green",
          "dash": "longdash",
          "width": 3
         },
         "mode": "lines",
         "showlegend": false,
         "type": "scatter3d",
         "x": [
          -1.17952,
          -1.5262732901947793
         ],
         "y": [
          -1.69134,
          -1.1024441028069802
         ],
         "z": [
          1.48186,
          1.7060677874102368
         ]
        },
        {
         "line": {
          "color": "green",
          "dash": "longdash",
          "width": 3
         },
         "mode": "lines",
         "showlegend": false,
         "type": "scatter3d",
         "x": [
          -1.04682,
          -0.9642515195650719
         ],
         "y": [
          -2.38464,
          -2.4101552946957887
         ],
         "z": [
          0.11296,
          0.08278002858649694
         ]
        },
        {
         "line": {
          "color": "green",
          "dash": "longdash",
          "width": 3
         },
         "mode": "lines",
         "showlegend": false,
         "type": "scatter3d",
         "x": [
          -0.10162,
          -0.11816374077406767
         ],
         "y": [
          1.80136,
          1.8372062503634685
         ],
         "z": [
          2.02506,
          2.036400707257857
         ]
        },
        {
         "line": {
          "color": "green",
          "dash": "longdash",
          "width": 3
         },
         "mode": "lines",
         "showlegend": false,
         "type": "scatter3d",
         "x": [
          -0.29252,
          -0.38313375014185225
         ],
         "y": [
          2.30226,
          2.285713454501278
         ],
         "z": [
          1.21216,
          1.2139927841612217
         ]
        },
        {
         "line": {
          "color": "green",
          "dash": "longdash",
          "width": 3
         },
         "mode": "lines",
         "showlegend": false,
         "type": "scatter3d",
         "x": [
          0.79878,
          1.4742648812712085
         ],
         "y": [
          1.43526,
          1.143388081226177
         ],
         "z": [
          1.85666,
          1.6312701087270158
         ]
        },
        {
         "line": {
          "color": "green",
          "dash": "longdash",
          "width": 3
         },
         "mode": "lines",
         "showlegend": false,
         "type": "scatter3d",
         "x": [
          -1.95412,
          -2.0296337590694375
         ],
         "y": [
          -0.09294,
          -0.2786618096210979
         ],
         "z": [
          1.99676,
          1.954286263369809
         ]
        },
        {
         "line": {
          "color": "green",
          "dash": "longdash",
          "width": 3
         },
         "mode": "lines",
         "showlegend": false,
         "type": "scatter3d",
         "x": [
          -2.48462,
          -2.645616409093599
         ],
         "y": [
          -0.00054,
          -0.5485670723910901
         ],
         "z": [
          2.79746,
          2.646224847348382
         ]
        },
        {
         "line": {
          "color": "green",
          "dash": "longdash",
          "width": 3
         },
         "mode": "lines",
         "showlegend": false,
         "type": "scatter3d",
         "x": [
          -1.22902,
          -0.7907470430849849
         ],
         "y": [
          0.59226,
          1.1365156564295003
         ],
         "z": [
          2.07466,
          2.1412904733220612
         ]
        },
        {
         "line": {
          "color": "green",
          "dash": "longdash",
          "width": 3
         },
         "mode": "lines",
         "showlegend": false,
         "type": "scatter3d",
         "x": [
          -2.42322,
          -2.4085675548869006
         ],
         "y": [
          0.59166,
          0.5513367914834022
         ],
         "z": [
          -0.70354,
          -0.7198616683183272
         ]
        },
        {
         "line": {
          "color": "green",
          "dash": "longdash",
          "width": 3
         },
         "mode": "lines",
         "showlegend": false,
         "type": "scatter3d",
         "x": [
          -2.10402,
          -2.087872977055893
         ],
         "y": [
          -0.20914,
          -0.24957514389166896
         ],
         "z": [
          -1.16704,
          -1.1814438923299868
         ]
        },
        {
         "line": {
          "color": "green",
          "dash": "longdash",
          "width": 3
         },
         "mode": "lines",
         "showlegend": false,
         "type": "scatter3d",
         "x": [
          -2.46462,
          -2.46522837675041
         ],
         "y": [
          0.32236,
          0.2746307483340628
         ],
         "z": [
          0.23576,
          0.21656129538471375
         ]
        },
        {
         "line": {
          "color": "green",
          "dash": "longdash",
          "width": 3
         },
         "mode": "lines",
         "showlegend": false,
         "type": "scatter3d",
         "x": [
          2.32838,
          2.287307774936088
         ],
         "y": [
          0.76496,
          0.7508306321928074
         ],
         "z": [
          1.22976,
          1.233758231835957
         ]
        },
        {
         "line": {
          "color": "green",
          "dash": "longdash",
          "width": 3
         },
         "mode": "lines",
         "showlegend": false,
         "type": "scatter3d",
         "x": [
          2.26938,
          2.1370959387135113
         ],
         "y": [
          -0.20664,
          -0.8825525743535134
         ],
         "z": [
          1.14836,
          1.0327336442077248
         ]
        },
        {
         "line": {
          "color": "green",
          "dash": "longdash",
          "width": 3
         },
         "mode": "lines",
         "showlegend": false,
         "type": "scatter3d",
         "x": [
          2.33958,
          2.302328500481998
         ],
         "y": [
          1.07586,
          1.1439515817685428
         ],
         "z": [
          0.30736,
          0.3429918332730422
         ]
        }
       ],
       "layout": {
        "scene": {
         "aspectmode": "data",
         "xaxis": {
          "title": {
           "text": "X"
          },
          "visible": false
         },
         "yaxis": {
          "title": {
           "text": "Y"
          },
          "visible": false
         },
         "zaxis": {
          "title": {
           "text": "Z"
          },
          "visible": false
         }
        },
        "showlegend": true,
        "template": {
         "data": {
          "bar": [
           {
            "error_x": {
             "color": "#2a3f5f"
            },
            "error_y": {
             "color": "#2a3f5f"
            },
            "marker": {
             "line": {
              "color": "#E5ECF6",
              "width": 0.5
             },
             "pattern": {
              "fillmode": "overlay",
              "size": 10,
              "solidity": 0.2
             }
            },
            "type": "bar"
           }
          ],
          "barpolar": [
           {
            "marker": {
             "line": {
              "color": "#E5ECF6",
              "width": 0.5
             },
             "pattern": {
              "fillmode": "overlay",
              "size": 10,
              "solidity": 0.2
             }
            },
            "type": "barpolar"
           }
          ],
          "carpet": [
           {
            "aaxis": {
             "endlinecolor": "#2a3f5f",
             "gridcolor": "white",
             "linecolor": "white",
             "minorgridcolor": "white",
             "startlinecolor": "#2a3f5f"
            },
            "baxis": {
             "endlinecolor": "#2a3f5f",
             "gridcolor": "white",
             "linecolor": "white",
             "minorgridcolor": "white",
             "startlinecolor": "#2a3f5f"
            },
            "type": "carpet"
           }
          ],
          "choropleth": [
           {
            "colorbar": {
             "outlinewidth": 0,
             "ticks": ""
            },
            "type": "choropleth"
           }
          ],
          "contour": [
           {
            "colorbar": {
             "outlinewidth": 0,
             "ticks": ""
            },
            "colorscale": [
             [
              0,
              "#0d0887"
             ],
             [
              0.1111111111111111,
              "#46039f"
             ],
             [
              0.2222222222222222,
              "#7201a8"
             ],
             [
              0.3333333333333333,
              "#9c179e"
             ],
             [
              0.4444444444444444,
              "#bd3786"
             ],
             [
              0.5555555555555556,
              "#d8576b"
             ],
             [
              0.6666666666666666,
              "#ed7953"
             ],
             [
              0.7777777777777778,
              "#fb9f3a"
             ],
             [
              0.8888888888888888,
              "#fdca26"
             ],
             [
              1,
              "#f0f921"
             ]
            ],
            "type": "contour"
           }
          ],
          "contourcarpet": [
           {
            "colorbar": {
             "outlinewidth": 0,
             "ticks": ""
            },
            "type": "contourcarpet"
           }
          ],
          "heatmap": [
           {
            "colorbar": {
             "outlinewidth": 0,
             "ticks": ""
            },
            "colorscale": [
             [
              0,
              "#0d0887"
             ],
             [
              0.1111111111111111,
              "#46039f"
             ],
             [
              0.2222222222222222,
              "#7201a8"
             ],
             [
              0.3333333333333333,
              "#9c179e"
             ],
             [
              0.4444444444444444,
              "#bd3786"
             ],
             [
              0.5555555555555556,
              "#d8576b"
             ],
             [
              0.6666666666666666,
              "#ed7953"
             ],
             [
              0.7777777777777778,
              "#fb9f3a"
             ],
             [
              0.8888888888888888,
              "#fdca26"
             ],
             [
              1,
              "#f0f921"
             ]
            ],
            "type": "heatmap"
           }
          ],
          "histogram": [
           {
            "marker": {
             "pattern": {
              "fillmode": "overlay",
              "size": 10,
              "solidity": 0.2
             }
            },
            "type": "histogram"
           }
          ],
          "histogram2d": [
           {
            "colorbar": {
             "outlinewidth": 0,
             "ticks": ""
            },
            "colorscale": [
             [
              0,
              "#0d0887"
             ],
             [
              0.1111111111111111,
              "#46039f"
             ],
             [
              0.2222222222222222,
              "#7201a8"
             ],
             [
              0.3333333333333333,
              "#9c179e"
             ],
             [
              0.4444444444444444,
              "#bd3786"
             ],
             [
              0.5555555555555556,
              "#d8576b"
             ],
             [
              0.6666666666666666,
              "#ed7953"
             ],
             [
              0.7777777777777778,
              "#fb9f3a"
             ],
             [
              0.8888888888888888,
              "#fdca26"
             ],
             [
              1,
              "#f0f921"
             ]
            ],
            "type": "histogram2d"
           }
          ],
          "histogram2dcontour": [
           {
            "colorbar": {
             "outlinewidth": 0,
             "ticks": ""
            },
            "colorscale": [
             [
              0,
              "#0d0887"
             ],
             [
              0.1111111111111111,
              "#46039f"
             ],
             [
              0.2222222222222222,
              "#7201a8"
             ],
             [
              0.3333333333333333,
              "#9c179e"
             ],
             [
              0.4444444444444444,
              "#bd3786"
             ],
             [
              0.5555555555555556,
              "#d8576b"
             ],
             [
              0.6666666666666666,
              "#ed7953"
             ],
             [
              0.7777777777777778,
              "#fb9f3a"
             ],
             [
              0.8888888888888888,
              "#fdca26"
             ],
             [
              1,
              "#f0f921"
             ]
            ],
            "type": "histogram2dcontour"
           }
          ],
          "mesh3d": [
           {
            "colorbar": {
             "outlinewidth": 0,
             "ticks": ""
            },
            "type": "mesh3d"
           }
          ],
          "parcoords": [
           {
            "line": {
             "colorbar": {
              "outlinewidth": 0,
              "ticks": ""
             }
            },
            "type": "parcoords"
           }
          ],
          "pie": [
           {
            "automargin": true,
            "type": "pie"
           }
          ],
          "scatter": [
           {
            "fillpattern": {
             "fillmode": "overlay",
             "size": 10,
             "solidity": 0.2
            },
            "type": "scatter"
           }
          ],
          "scatter3d": [
           {
            "line": {
             "colorbar": {
              "outlinewidth": 0,
              "ticks": ""
             }
            },
            "marker": {
             "colorbar": {
              "outlinewidth": 0,
              "ticks": ""
             }
            },
            "type": "scatter3d"
           }
          ],
          "scattercarpet": [
           {
            "marker": {
             "colorbar": {
              "outlinewidth": 0,
              "ticks": ""
             }
            },
            "type": "scattercarpet"
           }
          ],
          "scattergeo": [
           {
            "marker": {
             "colorbar": {
              "outlinewidth": 0,
              "ticks": ""
             }
            },
            "type": "scattergeo"
           }
          ],
          "scattergl": [
           {
            "marker": {
             "colorbar": {
              "outlinewidth": 0,
              "ticks": ""
             }
            },
            "type": "scattergl"
           }
          ],
          "scattermap": [
           {
            "marker": {
             "colorbar": {
              "outlinewidth": 0,
              "ticks": ""
             }
            },
            "type": "scattermap"
           }
          ],
          "scattermapbox": [
           {
            "marker": {
             "colorbar": {
              "outlinewidth": 0,
              "ticks": ""
             }
            },
            "type": "scattermapbox"
           }
          ],
          "scatterpolar": [
           {
            "marker": {
             "colorbar": {
              "outlinewidth": 0,
              "ticks": ""
             }
            },
            "type": "scatterpolar"
           }
          ],
          "scatterpolargl": [
           {
            "marker": {
             "colorbar": {
              "outlinewidth": 0,
              "ticks": ""
             }
            },
            "type": "scatterpolargl"
           }
          ],
          "scatterternary": [
           {
            "marker": {
             "colorbar": {
              "outlinewidth": 0,
              "ticks": ""
             }
            },
            "type": "scatterternary"
           }
          ],
          "surface": [
           {
            "colorbar": {
             "outlinewidth": 0,
             "ticks": ""
            },
            "colorscale": [
             [
              0,
              "#0d0887"
             ],
             [
              0.1111111111111111,
              "#46039f"
             ],
             [
              0.2222222222222222,
              "#7201a8"
             ],
             [
              0.3333333333333333,
              "#9c179e"
             ],
             [
              0.4444444444444444,
              "#bd3786"
             ],
             [
              0.5555555555555556,
              "#d8576b"
             ],
             [
              0.6666666666666666,
              "#ed7953"
             ],
             [
              0.7777777777777778,
              "#fb9f3a"
             ],
             [
              0.8888888888888888,
              "#fdca26"
             ],
             [
              1,
              "#f0f921"
             ]
            ],
            "type": "surface"
           }
          ],
          "table": [
           {
            "cells": {
             "fill": {
              "color": "#EBF0F8"
             },
             "line": {
              "color": "white"
             }
            },
            "header": {
             "fill": {
              "color": "#C8D4E3"
             },
             "line": {
              "color": "white"
             }
            },
            "type": "table"
           }
          ]
         },
         "layout": {
          "annotationdefaults": {
           "arrowcolor": "#2a3f5f",
           "arrowhead": 0,
           "arrowwidth": 1
          },
          "autotypenumbers": "strict",
          "coloraxis": {
           "colorbar": {
            "outlinewidth": 0,
            "ticks": ""
           }
          },
          "colorscale": {
           "diverging": [
            [
             0,
             "#8e0152"
            ],
            [
             0.1,
             "#c51b7d"
            ],
            [
             0.2,
             "#de77ae"
            ],
            [
             0.3,
             "#f1b6da"
            ],
            [
             0.4,
             "#fde0ef"
            ],
            [
             0.5,
             "#f7f7f7"
            ],
            [
             0.6,
             "#e6f5d0"
            ],
            [
             0.7,
             "#b8e186"
            ],
            [
             0.8,
             "#7fbc41"
            ],
            [
             0.9,
             "#4d9221"
            ],
            [
             1,
             "#276419"
            ]
           ],
           "sequential": [
            [
             0,
             "#0d0887"
            ],
            [
             0.1111111111111111,
             "#46039f"
            ],
            [
             0.2222222222222222,
             "#7201a8"
            ],
            [
             0.3333333333333333,
             "#9c179e"
            ],
            [
             0.4444444444444444,
             "#bd3786"
            ],
            [
             0.5555555555555556,
             "#d8576b"
            ],
            [
             0.6666666666666666,
             "#ed7953"
            ],
            [
             0.7777777777777778,
             "#fb9f3a"
            ],
            [
             0.8888888888888888,
             "#fdca26"
            ],
            [
             1,
             "#f0f921"
            ]
           ],
           "sequentialminus": [
            [
             0,
             "#0d0887"
            ],
            [
             0.1111111111111111,
             "#46039f"
            ],
            [
             0.2222222222222222,
             "#7201a8"
            ],
            [
             0.3333333333333333,
             "#9c179e"
            ],
            [
             0.4444444444444444,
             "#bd3786"
            ],
            [
             0.5555555555555556,
             "#d8576b"
            ],
            [
             0.6666666666666666,
             "#ed7953"
            ],
            [
             0.7777777777777778,
             "#fb9f3a"
            ],
            [
             0.8888888888888888,
             "#fdca26"
            ],
            [
             1,
             "#f0f921"
            ]
           ]
          },
          "colorway": [
           "#636efa",
           "#EF553B",
           "#00cc96",
           "#ab63fa",
           "#FFA15A",
           "#19d3f3",
           "#FF6692",
           "#B6E880",
           "#FF97FF",
           "#FECB52"
          ],
          "font": {
           "color": "#2a3f5f"
          },
          "geo": {
           "bgcolor": "white",
           "lakecolor": "white",
           "landcolor": "#E5ECF6",
           "showlakes": true,
           "showland": true,
           "subunitcolor": "white"
          },
          "hoverlabel": {
           "align": "left"
          },
          "hovermode": "closest",
          "mapbox": {
           "style": "light"
          },
          "paper_bgcolor": "white",
          "plot_bgcolor": "#E5ECF6",
          "polar": {
           "angularaxis": {
            "gridcolor": "white",
            "linecolor": "white",
            "ticks": ""
           },
           "bgcolor": "#E5ECF6",
           "radialaxis": {
            "gridcolor": "white",
            "linecolor": "white",
            "ticks": ""
           }
          },
          "scene": {
           "xaxis": {
            "backgroundcolor": "#E5ECF6",
            "gridcolor": "white",
            "gridwidth": 2,
            "linecolor": "white",
            "showbackground": true,
            "ticks": "",
            "zerolinecolor": "white"
           },
           "yaxis": {
            "backgroundcolor": "#E5ECF6",
            "gridcolor": "white",
            "gridwidth": 2,
            "linecolor": "white",
            "showbackground": true,
            "ticks": "",
            "zerolinecolor": "white"
           },
           "zaxis": {
            "backgroundcolor": "#E5ECF6",
            "gridcolor": "white",
            "gridwidth": 2,
            "linecolor": "white",
            "showbackground": true,
            "ticks": "",
            "zerolinecolor": "white"
           }
          },
          "shapedefaults": {
           "line": {
            "color": "#2a3f5f"
           }
          },
          "ternary": {
           "aaxis": {
            "gridcolor": "white",
            "linecolor": "white",
            "ticks": ""
           },
           "baxis": {
            "gridcolor": "white",
            "linecolor": "white",
            "ticks": ""
           },
           "bgcolor": "#E5ECF6",
           "caxis": {
            "gridcolor": "white",
            "linecolor": "white",
            "ticks": ""
           }
          },
          "title": {
           "x": 0.05
          },
          "xaxis": {
           "automargin": true,
           "gridcolor": "white",
           "linecolor": "white",
           "ticks": "",
           "title": {
            "standoff": 15
           },
           "zerolinecolor": "white",
           "zerolinewidth": 2
          },
          "yaxis": {
           "automargin": true,
           "gridcolor": "white",
           "linecolor": "white",
           "ticks": "",
           "title": {
            "standoff": 15
           },
           "zerolinecolor": "white",
           "zerolinewidth": 2
          }
         }
        },
        "title": {
         "text": "10-PP1.xyz 10-PP2-aligned_to-10-PP1.xyz Alignment"
        }
       }
      }
     },
     "metadata": {},
     "output_type": "display_data"
    }
   ],
   "source": [
    "data_path1 = \"../Data/Water-Clusters\"\n",
    "data_path2 = \"./ArbAlignOutput\"\n",
    "nameA = '10-PP1.xyz'\n",
    "nameB = '10-PP2-aligned_to-10-PP1.xyz'\n",
    "molA = next(pybel.readfile('xyz', os.path.join(data_path1, nameA)))\n",
    "molB = next(pybel.readfile('xyz', os.path.join(data_path2, nameB)))\n",
    "X_A, T_A, B_A = otm.tl.process_molecule(molA) \n",
    "X_B, T_B, B_B = otm.tl.process_molecule(molB)\n",
    "X_B_aligned, _, _ = otm.tl.molecule_alignment_allow_reflection(X_A, X_B, np.eye(30))\n",
    "otm.pl.interactive_alignment_plot(X_A, X_B_aligned, T_A, T_B, B_A, B_B, assignment=None, nameA=nameA, nameB=nameB, save=True)"
   ]
  }
 ],
 "metadata": {
  "kernelspec": {
   "display_name": "py39",
   "language": "python",
   "name": "python3"
  },
  "language_info": {
   "codemirror_mode": {
    "name": "ipython",
    "version": 3
   },
   "file_extension": ".py",
   "mimetype": "text/x-python",
   "name": "python",
   "nbconvert_exporter": "python",
   "pygments_lexer": "ipython3",
   "version": "3.9.16"
  }
 },
 "nbformat": 4,
 "nbformat_minor": 2
}
