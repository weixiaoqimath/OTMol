{
 "cells": [
  {
   "cell_type": "code",
   "execution_count": 2,
   "metadata": {},
   "outputs": [],
   "source": [
    "import ot\n",
    "import numpy as np\n",
    "import otmol as otm\n",
    "import pandas as pd\n",
    "from openbabel import pybel\n",
    "import time\n",
    "from scipy.spatial import distance_matrix\n",
    "import matplotlib.pyplot as plt\n",
    "import os\n",
    "from utils import *\n"
   ]
  },
  {
   "cell_type": "code",
   "execution_count": 3,
   "metadata": {},
   "outputs": [],
   "source": [
    "def mismatch_counter(mol):\n",
    "    count = 0\n",
    "    _, T, B = otm.tl.process_molecule(mol)\n",
    "    for i in range(len(T)):\n",
    "        if T[i] == 'O' and i % 3 == 0:\n",
    "            if B[i,i+1] != 1 or B[i,i+2] != 1:\n",
    "                count += 1\n",
    "        if T[i] == 'O' and i % 3 == 1:\n",
    "            if B[i,i-1] != 1 or B[i,i+1] != 1:\n",
    "                count += 1\n",
    "        if T[i] == 'O' and i % 3 == 2:\n",
    "            if B[i,i-1] != 1 or B[i,i-2] != 1:\n",
    "                count += 1\n",
    "    return count\n",
    "\n",
    "def alignment_plot(X_A, X_B, B_A, B_B, T_A, T_B, file_name = None):\n",
    "    fig = go.Figure()\n",
    "\n",
    "    # Add scatter points for cluster A with different sizes for O and H\n",
    "    fig.add_trace(go.Scatter3d(\n",
    "        x=X_A[:, 0],\n",
    "        y=X_A[:, 1],\n",
    "        z=X_A[:, 2],\n",
    "        mode='markers',\n",
    "        marker=dict(\n",
    "            size=[12 if label == 'O' else 8 for label in T_A],  # O: 8, H: 4\n",
    "            color='red',\n",
    "            symbol='circle'\n",
    "        ),\n",
    "        name='Cluster A'\n",
    "    ))\n",
    "\n",
    "    # Add scatter points for cluster B with different sizes for O and H\n",
    "    fig.add_trace(go.Scatter3d(\n",
    "        x=X_B[:, 0],\n",
    "        y=X_B[:, 1],\n",
    "        z=X_B[:, 2],\n",
    "        mode='markers',\n",
    "        marker=dict(\n",
    "            size=[12 if label == 'O' else 8 for label in T_B],  # O: 8, H: 4\n",
    "            color='blue',\n",
    "            symbol='circle'\n",
    "        ),\n",
    "        name='Cluster B'\n",
    "    ))\n",
    "\n",
    "    # Add bonds for cluster A\n",
    "    for i in range(len(B_A)):\n",
    "        for j in range(i+1, len(B_A)):\n",
    "            if B_A[i,j] == 1:  # if there's a bond\n",
    "                fig.add_trace(go.Scatter3d(\n",
    "                    x=[X_A[i,0], X_A[j,0]],\n",
    "                    y=[X_A[i,1], X_A[j,1]],\n",
    "                    z=[X_A[i,2], X_A[j,2]],\n",
    "                    mode='lines',\n",
    "                    line=dict(\n",
    "                        color='red',\n",
    "                        width=2\n",
    "                    ),\n",
    "                    showlegend=False\n",
    "                ))\n",
    "\n",
    "    # Add bonds for cluster B\n",
    "    for i in range(len(B_B)):\n",
    "        for j in range(i+1, len(B_B)):\n",
    "            if B_B[i,j] == 1:  # if there's a bond\n",
    "                fig.add_trace(go.Scatter3d(\n",
    "                    x=[X_B[i,0], X_B[j,0]],\n",
    "                    y=[X_B[i,1], X_B[j,1]],\n",
    "                    z=[X_B[i,2], X_B[j,2]],\n",
    "                    mode='lines',\n",
    "                    line=dict(\n",
    "                        color='blue',\n",
    "                        width=2\n",
    "                    ),\n",
    "                    showlegend=False\n",
    "                ))\n",
    "\n",
    "    # Add matching lines between atoms\n",
    "    for i in range(len(np.eye(len(X_A)))):\n",
    "        for j in range(len(np.eye(len(X_A)))):\n",
    "            if np.eye(len(X_A))[i,j] == 1:  # if atoms are matched\n",
    "                fig.add_trace(go.Scatter3d(\n",
    "                    x=[X_A[i,0], X_B[j,0]],\n",
    "                    y=[X_A[i,1], X_B[j,1]],\n",
    "                    z=[X_A[i,2], X_B[j,2]],\n",
    "                    mode='lines',\n",
    "                    line=dict(\n",
    "                        color='green',\n",
    "                        width=3,\n",
    "                        dash='dash'\n",
    "                    ),\n",
    "                    showlegend=False\n",
    "                ))\n",
    "\n",
    "    # Update layout\n",
    "    fig.update_layout(\n",
    "        title='Water Clusters Alignment',\n",
    "        scene=dict(\n",
    "            xaxis_title='X',\n",
    "            yaxis_title='Y',\n",
    "            zaxis_title='Z',\n",
    "            aspectmode='data'\n",
    "        ),\n",
    "        showlegend=True\n",
    "    )\n",
    "\n",
    "    # Save the figure as HTML\n",
    "    #fig.write_html(\"{}.html\".format(file_name))\n",
    "     # Show the figure\n",
    "    fig.show()"
   ]
  },
  {
   "cell_type": "code",
   "execution_count": 5,
   "metadata": {},
   "outputs": [
    {
     "name": "stdout",
     "output_type": "stream",
     "text": [
      "2-Cs-1 2-OpenC1 0\n",
      "3-UUD 3-UUU 0\n",
      "4-Ci 4-S4 2\n",
      "5-CA-A 5-CA-B 0\n",
      "6-BAG 6-BK-1 5\n",
      "7-BI1 7-BI2 0\n",
      "8-D2d 8-S4 4\n",
      "9-D2dDD 9-S4DA 5\n",
      "10-PP1 10-PP2 5\n",
      "11-551A-1 11-551A-4 3\n",
      "12-D2d-1-L 12-D2d-1-R 8\n",
      "13-TIP4P 13-TIP5P 8\n",
      "14-1 14-2 14\n",
      "15-1 15-2 10\n",
      "16-TIP4P 16-TIP5P 14\n",
      "17-TIP4P 17-TIP5P 12\n",
      "18-TIP4P 18-TIP5P 14\n",
      "19-TIP4P 19-TIP5P 13\n",
      "20-TIP4P 20-TIP5P 18\n",
      "21-TIP4P 21-TIP5P 18\n",
      "25-1 25-2 18\n",
      "40-a 40-b 32\n",
      "60-1 60-2 44\n",
      "100-1 100-2 70\n"
     ]
    }
   ],
   "source": [
    "data_path = \"../Data/Water-Clusters\"\n",
    "mol_pair_list_path = os.path.join(data_path, 'list')\n",
    "molecule_pairs = otm.tl.parse_molecule_pairs(mol_pair_list_path, mol_type='water cluster')\n",
    "result = []\n",
    "for nameA, nameB in molecule_pairs:\n",
    "    filename = nameB + '-aligned_to-' + nameA + '.xyz'\n",
    "    mol = next(pybel.readfile('xyz', os.path.join('./ArbAlignOutput', filename)))\n",
    "    result.append({\n",
    "        'nameA': nameA,\n",
    "        'nameB': nameB,\n",
    "        'mismatch_counter': mismatch_counter(mol)\n",
    "    })\n",
    "    print(nameA, nameB, mismatch_counter(mol))\n",
    "pd.DataFrame(result).to_csv('./ArbAlignOutput/ArbAlignData_mismatch_count.csv', index=False)"
   ]
  },
  {
   "cell_type": "code",
   "execution_count": 6,
   "metadata": {},
   "outputs": [
    {
     "name": "stdout",
     "output_type": "stream",
     "text": [
      "Wat_3_cluster_0_1st_lowest.xyz Wat_3_cluster_1_2nd_lowest.xyz 0\n",
      "Wat_4_cluster_2_1st_lowest.xyz Wat_4_cluster_3_2nd_lowest.xyz 0\n",
      "Wat_5_cluster_12_1st_lowest.xyz Wat_5_cluster_13_2nd_lowest.xyz 0\n",
      "Wat_6_cluster_31_1st_lowest.xyz Wat_6_cluster_32_2nd_lowest.xyz 2\n",
      "Wat_7_cluster_137_1st_lowest.xyz Wat_7_cluster_138_2nd_lowest.xyz 0\n",
      "Wat_8_cluster_607_1st_lowest.xyz Wat_8_cluster_608_2nd_lowest.xyz 6\n",
      "Wat_9_cluster_1184_1st_lowest.xyz Wat_9_cluster_1185_2nd_lowest.xyz 5\n",
      "Wat_10_cluster_5310_1st_lowest.xyz Wat_10_cluster_5311_2nd_lowest.xyz 7\n",
      "Wat_11_cluster_33413_1st_lowest.xyz Wat_11_cluster_33414_2nd_lowest.xyz 4\n",
      "Wat_12_cluster_43582_1st_lowest.xyz Wat_12_cluster_43583_2nd_lowest.xyz 9\n",
      "Wat_13_cluster_86223_1st_lowest.xyz Wat_13_cluster_86224_2nd_lowest.xyz 9\n",
      "Wat_14_cluster_144675_1st_lowest.xyz Wat_14_cluster_144676_2nd_lowest.xyz 11\n",
      "Wat_15_cluster_225208_1st_lowest.xyz Wat_15_cluster_225209_2nd_lowest.xyz 8\n",
      "Wat_16_cluster_321028_1st_lowest.xyz Wat_16_cluster_321029_2nd_lowest.xyz 7\n",
      "Wat_17_cluster_417887_1st_lowest.xyz Wat_17_cluster_417888_2nd_lowest.xyz 15\n",
      "Wat_18_cluster_524874_1st_lowest.xyz Wat_18_cluster_524875_2nd_lowest.xyz 15\n",
      "Wat_19_cluster_637553_1st_lowest.xyz Wat_19_cluster_637554_2nd_lowest.xyz 17\n",
      "Wat_20_cluster_744361_1st_lowest.xyz Wat_20_cluster_744362_2nd_lowest.xyz 18\n",
      "Wat_21_cluster_865737_1st_lowest.xyz Wat_21_cluster_865738_2nd_lowest.xyz 21\n",
      "Wat_22_cluster_1179799_1st_lowest.xyz Wat_22_cluster_1179800_2nd_lowest.xyz 13\n",
      "Wat_23_cluster_1574510_1st_lowest.xyz Wat_23_cluster_1574511_2nd_lowest.xyz 19\n",
      "Wat_24_cluster_1928474_1st_lowest.xyz Wat_24_cluster_1928475_2nd_lowest.xyz 23\n",
      "Wat_25_cluster_2243803_1st_lowest.xyz Wat_25_cluster_2243804_2nd_lowest.xyz 24\n",
      "Wat_26_cluster_2726710_1st_lowest.xyz Wat_26_cluster_2726711_2nd_lowest.xyz 21\n",
      "Wat_27_cluster_3257213_1st_lowest.xyz Wat_27_cluster_3257214_2nd_lowest.xyz 22\n",
      "Wat_28_cluster_3649358_1st_lowest.xyz Wat_28_cluster_3649359_2nd_lowest.xyz 25\n",
      "Wat_29_cluster_3925395_1st_lowest.xyz Wat_29_cluster_3925396_2nd_lowest.xyz 23\n",
      "Wat_30_cluster_4221226_1st_lowest.xyz Wat_30_cluster_4221227_2nd_lowest.xyz 24\n"
     ]
    }
   ],
   "source": [
    "result = []\n",
    "group1_info = pd.read_csv('../Data/Our_Benchmark_20250410_ver1/Water_Cluster_3_30/water_cluster_1st_2nd_lowest_energy.csv')\n",
    "for nameA, nameB in zip(group1_info['Reference'], group1_info['Target']):\n",
    "    filename = nameB.split('.')[0] + '-aligned_to-' + nameA\n",
    "    mol = next(pybel.readfile('xyz', os.path.join('./ArbAlignOutput', filename)))\n",
    "    result.append({\n",
    "        'nameA': nameA,\n",
    "        'nameB': nameB,\n",
    "        'mismatch_counter': mismatch_counter(mol)\n",
    "    })    \n",
    "    print(nameA, nameB, mismatch_counter(mol))\n",
    "pd.DataFrame(result).to_csv('./ArbAlignOutput/1st2nd_mismatch_count.csv', index=False)"
   ]
  },
  {
   "cell_type": "code",
   "execution_count": 9,
   "metadata": {},
   "outputs": [
    {
     "name": "stdout",
     "output_type": "stream",
     "text": [
      "Wat_3_cluster_0_lowest_1.xyz Wat_3_cluster_1_lowest_2.xyz 0\n",
      "Wat_4_cluster_2_lowest_1.xyz Wat_4_cluster_10_lowest_9.xyz 2\n",
      "Wat_5_cluster_13_lowest_2.xyz Wat_5_cluster_22_lowest_11.xyz 2\n",
      "Wat_6_cluster_42_lowest_12.xyz Wat_6_cluster_50_lowest_20.xyz 5\n",
      "Wat_7_cluster_137_lowest_1.xyz Wat_7_cluster_147_lowest_11.xyz 6\n",
      "Wat_8_cluster_615_lowest_9.xyz Wat_8_cluster_616_lowest_10.xyz 8\n",
      "Wat_9_cluster_1184_lowest_1.xyz Wat_9_cluster_1195_lowest_12.xyz 8\n",
      "Wat_10_cluster_5323_lowest_14.xyz Wat_10_cluster_5324_lowest_15.xyz 9\n",
      "Wat_11_cluster_33413_lowest_1.xyz Wat_11_cluster_33415_lowest_3.xyz 10\n",
      "Wat_12_cluster_43582_lowest_1.xyz Wat_12_cluster_43599_lowest_18.xyz 10\n",
      "Wat_13_cluster_86223_lowest_1.xyz Wat_13_cluster_86236_lowest_14.xyz 13\n",
      "Wat_14_cluster_144683_lowest_9.xyz Wat_14_cluster_144693_lowest_19.xyz 13\n",
      "Wat_15_cluster_225216_lowest_9.xyz Wat_15_cluster_225222_lowest_15.xyz 14\n",
      "Wat_16_cluster_321029_lowest_2.xyz Wat_16_cluster_321036_lowest_9.xyz 15\n",
      "Wat_17_cluster_417889_lowest_3.xyz Wat_17_cluster_417896_lowest_10.xyz 16\n",
      "Wat_18_cluster_524876_lowest_3.xyz Wat_18_cluster_524883_lowest_10.xyz 15\n",
      "Wat_19_cluster_637554_lowest_2.xyz Wat_19_cluster_637555_lowest_3.xyz 14\n",
      "Wat_20_cluster_744373_lowest_13.xyz Wat_20_cluster_744380_lowest_20.xyz 19\n",
      "Wat_21_cluster_865752_lowest_14.xyz Wat_21_cluster_865754_lowest_16.xyz 17\n",
      "Wat_22_cluster_1179802_lowest_4.xyz Wat_22_cluster_1179808_lowest_10.xyz 20\n",
      "Wat_23_cluster_1574526_lowest_17.xyz Wat_23_cluster_1574529_lowest_20.xyz 19\n",
      "Wat_24_cluster_1928487_lowest_14.xyz Wat_24_cluster_1928493_lowest_19.xyz 22\n",
      "Wat_25_cluster_2243818_lowest_16.xyz Wat_25_cluster_2243821_lowest_19.xyz 22\n",
      "Wat_26_cluster_2726711_lowest_2.xyz Wat_26_cluster_2726725_lowest_16.xyz 23\n",
      "Wat_27_cluster_3257215_lowest_3.xyz Wat_27_cluster_3257225_lowest_13.xyz 26\n",
      "Wat_28_cluster_3649363_lowest_6.xyz Wat_28_cluster_3649374_lowest_17.xyz 25\n",
      "Wat_29_cluster_3925402_lowest_8.xyz Wat_29_cluster_3925412_lowest_18.xyz 25\n",
      "Wat_30_cluster_4221227_lowest_2.xyz Wat_30_cluster_4221240_lowest_15.xyz 26\n"
     ]
    }
   ],
   "source": [
    "result = []\n",
    "group2_info = pd.read_csv('../Data/Our_Benchmark_20250410_ver1/Water_Cluster_3_30/water_cluster_largest_RMSD_pair_among_20_lowest_energy.csv')\n",
    "for nameA, nameB in zip(group2_info['Reference'], group2_info['Target']):\n",
    "    filename = nameB.split('.')[0] + '-aligned_to-' + nameA\n",
    "    mol = next(pybel.readfile('xyz', os.path.join('./ArbAlignOutput', filename)))\n",
    "    print(nameA, nameB, mismatch_counter(mol))\n",
    "\n",
    "pd.DataFrame(result).to_csv('./ArbAlignOutput/largest_RMSD_WC_mismatch_count.csv', index=False)"
   ]
  },
  {
   "cell_type": "code",
   "execution_count": 4,
   "metadata": {},
   "outputs": [
    {
     "data": {
      "application/vnd.plotly.v1+json": {
       "config": {
        "plotlyServerURL": "https://plot.ly"
       },
       "data": [
        {
         "marker": {
          "color": "red",
          "size": [
           12,
           8,
           8,
           12,
           8,
           8,
           12,
           8,
           8,
           12,
           8,
           8,
           12,
           8,
           8,
           12,
           8,
           8,
           12,
           8,
           8,
           12,
           8,
           8
          ],
          "symbol": "circle"
         },
         "mode": "markers",
         "name": "Cluster A",
         "type": "scatter3d",
         "x": {
          "bdata": "uAGfH0YI6z+uga0SLA71P0DZlCu8y7W/ahg+IqZE/j8fv7fpz37/PzV7oBUYsgVAyatzDMhe/b+loNtLGiMFwDyDhv4JLv+/v4I0Y9F06j+QFJFhFW/sPxg+IqZEEvM/aTUk7rH0/L8012mkpfL5v2FPO/w1We+/QbyuX7Ab/D/FckurIXHtP2GOHr+36fg/C2MLQQ5K7L/o9pLGaB3tvyy8y0V8J/S/zAuwj05d6b9nLJrOTgb0v1cJFoczv8I/",
          "dtype": "f8"
         },
         "y": {
          "bdata": "yatzDMieAMDOx7WhYhz8v1zmdFlMLAHAenB31m6747+CHJQw0/bLP16FlJ9U++W/Sgfr/xxm+r/9TShEwGEBwPXzpiIVxuu/qtTsgVZgsD+AgosVNZjpv4NuL2mM1rm/E0n0Morl4T9nJ4Oj5FX0P4DUJk7ud94/UAEwnkHD+D8czvxqDpD/P9xLGqN11PI/lX1XBP+bAUA09E9wsSL3P4yEtpxLsQdABP9byY6NoL/d71AU6BPmv7UaEvdY+tK/",
          "dtype": "f8"
         },
         "z": {
          "bdata": "PIidKXRe5z+s/3OYLy+wv7b4FADjGdw/6N7DJced97/L+PcZFw7uv80eaAWGrP+/xXJLqyFxv7/ja88sCVCjv3XlszwP7t4/oE/kSdK1AkDK4Ch5dY79P8+9h0uOuwlAie/ErBdD9j9GzsKedvjnP6GEmbZ/Zf4/9kVCW86luD8sn+V5cHfGv0WBPpEnSe8/hiAHJcy057+YLy/APjr2v/Ik6ZrJN/O/d/hrska9AcDMQGX8+4z6v5/leXB3VgHA",
          "dtype": "f8"
         }
        },
        {
         "marker": {
          "color": "blue",
          "size": [
           12,
           8,
           8,
           12,
           8,
           8,
           12,
           8,
           8,
           12,
           8,
           8,
           12,
           8,
           8,
           12,
           8,
           8,
           12,
           8,
           8,
           12,
           8,
           8
          ],
          "symbol": "circle"
         },
         "mode": "markers",
         "name": "Cluster B",
         "type": "scatter3d",
         "x": {
          "bdata": "BhPatktH6T+FFB1erx31Pz3RGBqxpuq/96IiGzbz/j9R0WEZu8P/Py/kLfXOLAZA0Im3p6jY+7+6DzCzdycCwOhc+vFgSv+/lS9dQsb75j8HvVLrvozsP2HAULltyek/HFmJmu/u+79SpJKFkeT5v53pYP+4I86/ZQ/k2ciZ+z8lm7v5s3fsP8hokDfSHvg/ZK0+KsIo7b9T+5wNGk/tvxUn0eF7BfW/XIvdjf2O6L+6g+GCdV7zvyhJH1/5q8Y/",
          "dtype": "f8"
         },
         "y": {
          "bdata": "8whh5A/iAMB9jkp7S877v14WXRDRRgDAWZMoH9Ra4r/5T5oUiZrQP9bX1suoS+S/OUonbxRP/L/E7YcWZ5wEwNiFKdUfMcu/r+xoOc6OxT8t6CKv20D3vym5tibdDNM/TEVrF6V94z9B9PrUzVD0P+z4UwCXv9Y/Fsy3YZxJ+T+Fesuc5Ob/PzH+1Df6g/M//Y5hGIxrAUCDSZt2wof2Pzc8KlViUgdAyWLFUCi/tL8YAHv6uevnv+HdDsJQv9S/",
          "dtype": "f8"
         },
         "z": {
          "bdata": "wKgntLcD5T9PZB2dSDazvwRIrvpMXcY/8uJlv48p9791tgKjY+/svz4KJgtvxP6/orSH7L6Ywb9w9rqvhgrCv1OdYBq/Y+4/KCo/nGT9AkALIyasHfX1PwQ5PSRumwpAOnKikVz19j9xJ/eY1j3nP5iURd7tQAFAWTsd4cHjvj+/LuiByfjFv3rUZk3oCfA/pzJG0JhB6b9p700Qjr72v+Ca3Vv0NfS/7GQsDISyAcD8+YY86mz6vwpLYxkNQAHA",
          "dtype": "f8"
         }
        },
        {
         "line": {
          "color": "red",
          "width": 2
         },
         "mode": "lines",
         "showlegend": false,
         "type": "scatter3d",
         "x": [
          0.84476,
          1.31596
         ],
         "y": [
          -2.07753,
          -1.75693
         ],
         "z": [
          0.73028,
          -0.06322
         ]
        },
        {
         "line": {
          "color": "red",
          "width": 2
         },
         "mode": "lines",
         "showlegend": false,
         "type": "scatter3d",
         "x": [
          0.84476,
          -0.08514
         ],
         "y": [
          -2.07753,
          -2.14663
         ],
         "z": [
          0.73028,
          0.43908
         ]
        },
        {
         "line": {
          "color": "red",
          "width": 2
         },
         "mode": "lines",
         "showlegend": false,
         "type": "scatter3d",
         "x": [
          1.89176,
          1.96846
         ],
         "y": [
          -0.61663,
          0.21847
         ],
         "z": [
          -1.47602,
          -0.93922
         ]
        },
        {
         "line": {
          "color": "red",
          "width": 2
         },
         "mode": "lines",
         "showlegend": false,
         "type": "scatter3d",
         "x": [
          1.89176,
          2.71196
         ],
         "y": [
          -0.61663,
          -0.68693
         ],
         "z": [
          -1.47602,
          -1.97962
         ]
        },
        {
         "line": {
          "color": "red",
          "width": 2
         },
         "mode": "lines",
         "showlegend": false,
         "type": "scatter3d",
         "x": [
          -1.83564,
          -2.64214
         ],
         "y": [
          -1.64993,
          -2.17273
         ],
         "z": [
          -0.12282,
          -0.03772
         ]
        },
        {
         "line": {
          "color": "red",
          "width": 2
         },
         "mode": "lines",
         "showlegend": false,
         "type": "scatter3d",
         "x": [
          -1.83564,
          -1.94874
         ],
         "y": [
          -1.64993,
          -0.86793
         ],
         "z": [
          -0.12282,
          0.48328
         ]
        },
        {
         "line": {
          "color": "red",
          "width": 2
         },
         "mode": "lines",
         "showlegend": false,
         "type": "scatter3d",
         "x": [
          0.82676,
          0.88856
         ],
         "y": [
          0.06397,
          -0.79983
         ],
         "z": [
          2.33878,
          1.84728
         ]
        },
        {
         "line": {
          "color": "red",
          "width": 2
         },
         "mode": "lines",
         "showlegend": false,
         "type": "scatter3d",
         "x": [
          0.82676,
          1.19196
         ],
         "y": [
          0.06397,
          -0.10093
         ],
         "z": [
          2.33878,
          3.21658
         ]
        },
        {
         "line": {
          "color": "red",
          "width": 2
         },
         "mode": "lines",
         "showlegend": false,
         "type": "scatter3d",
         "x": [
          -1.80974,
          -1.62174
         ],
         "y": [
          0.55927,
          1.27097
         ],
         "z": [
          1.39138,
          0.74908
         ]
        },
        {
         "line": {
          "color": "red",
          "width": 2
         },
         "mode": "lines",
         "showlegend": false,
         "type": "scatter3d",
         "x": [
          -1.80974,
          -0.97964
         ],
         "y": [
          0.55927,
          0.47607
         ],
         "z": [
          1.39138,
          1.89978
         ]
        },
        {
         "line": {
          "color": "red",
          "width": 2
         },
         "mode": "lines",
         "showlegend": false,
         "type": "scatter3d",
         "x": [
          1.75676,
          0.92006
         ],
         "y": [
          1.54767,
          1.97267
         ],
         "z": [
          0.09628,
          -0.17552
         ]
        },
        {
         "line": {
          "color": "red",
          "width": 2
         },
         "mode": "lines",
         "showlegend": false,
         "type": "scatter3d",
         "x": [
          1.75676,
          1.55706
         ],
         "y": [
          1.54767,
          1.17687
         ],
         "z": [
          0.09628,
          0.97768
         ]
        },
        {
         "line": {
          "color": "red",
          "width": 2
         },
         "mode": "lines",
         "showlegend": false,
         "type": "scatter3d",
         "x": [
          -0.88404,
          -0.90984
         ],
         "y": [
          2.20117,
          1.44597
         ],
         "z": [
          -0.74082,
          -1.38922
         ]
        },
        {
         "line": {
          "color": "red",
          "width": 2
         },
         "mode": "lines",
         "showlegend": false,
         "type": "scatter3d",
         "x": [
          -0.88404,
          -1.25964
         ],
         "y": [
          2.20117,
          2.96157
         ],
         "z": [
          -0.74082,
          -1.20112
         ]
        },
        {
         "line": {
          "color": "red",
          "width": 2
         },
         "mode": "lines",
         "showlegend": false,
         "type": "scatter3d",
         "x": [
          -0.79264,
          -1.25154
         ],
         "y": [
          -0.03233,
          -0.68993
         ],
         "z": [
          -2.21742,
          -1.65942
         ]
        },
        {
         "line": {
          "color": "red",
          "width": 2
         },
         "mode": "lines",
         "showlegend": false,
         "type": "scatter3d",
         "x": [
          -0.79264,
          0.14646
         ],
         "y": [
          -0.03233,
          -0.29653
         ],
         "z": [
          -2.21742,
          -2.16722
         ]
        },
        {
         "line": {
          "color": "blue",
          "width": 2
         },
         "mode": "lines",
         "showlegend": false,
         "type": "scatter3d",
         "x": [
          0.7899530955624818,
          1.319747321730831
         ],
         "y": [
          -2.1103818742859572,
          -1.7378649536193784
         ],
         "z": [
          0.6567038077021365,
          -0.0750470527249416
         ]
        },
        {
         "line": {
          "color": "blue",
          "width": 2
         },
         "mode": "lines",
         "showlegend": false,
         "type": "scatter3d",
         "x": [
          0.7899530955624818,
          0.8921808811336697
         ],
         "y": [
          -2.1103818742859572,
          -1.453334507109058
         ],
         "z": [
          0.6567038077021365,
          1.3723427509850719
         ]
        },
        {
         "line": {
          "color": "blue",
          "width": 2
         },
         "mode": "lines",
         "showlegend": false,
         "type": "scatter3d",
         "x": [
          -0.8328481206613457,
          -1.7403952170794703
         ],
         "y": [
          -2.0345784452827465,
          -1.769306596940295
         ],
         "z": [
          0.17472231140396854,
          -0.1374739317829255
         ]
        },
        {
         "line": {
          "color": "blue",
          "width": 2
         },
         "mode": "lines",
         "showlegend": false,
         "type": "scatter3d",
         "x": [
          1.9343777713749526,
          1.9852858535278595
         ],
         "y": [
          -0.5735874756397649,
          0.2594320965956736
         ],
         "z": [
          -1.4476468540653369,
          -0.9042223151970591
         ]
        },
        {
         "line": {
          "color": "blue",
          "width": 2
         },
         "mode": "lines",
         "showlegend": false,
         "type": "scatter3d",
         "x": [
          1.9343777713749526,
          2.7718791155462195
         ],
         "y": [
          -0.5735874756397649,
          -0.6342357617602328
         ],
         "z": [
          -1.4476468540653369,
          -1.9229574618808694
         ]
        },
        {
         "line": {
          "color": "blue",
          "width": 2
         },
         "mode": "lines",
         "showlegend": false,
         "type": "scatter3d",
         "x": [
          -1.7403952170794703,
          -2.2692712782900033
         ],
         "y": [
          -1.769306596940295,
          -2.5763684997780008
         ],
         "z": [
          -0.1374739317829255,
          -0.14094623165685816
         ]
        },
        {
         "line": {
          "color": "blue",
          "width": 2
         },
         "mode": "lines",
         "showlegend": false,
         "type": "scatter3d",
         "x": [
          -1.9556588604225968,
          -1.7458339726050047
         ],
         "y": [
          -0.21243665607748485,
          0.609087510814939
         ],
         "z": [
          0.949676085966454,
          1.434902733693106
         ]
        },
        {
         "line": {
          "color": "blue",
          "width": 2
         },
         "mode": "lines",
         "showlegend": false,
         "type": "scatter3d",
         "x": [
          0.7182341858074205,
          0.8058384532396411
         ],
         "y": [
          0.16842057994094747,
          0.2976601484359827
         ],
         "z": [
          2.3737270552421883,
          3.3258936721023264
         ]
        },
        {
         "line": {
          "color": "blue",
          "width": 2
         },
         "mode": "lines",
         "showlegend": false,
         "type": "scatter3d",
         "x": [
          0.7182341858074205,
          -0.2354651686635635
         ],
         "y": [
          0.16842057994094747,
          0.35544371635468397
         ],
         "z": [
          2.3737270552421883,
          2.1567036976799265
         ]
        },
        {
         "line": {
          "color": "blue",
          "width": 2
         },
         "mode": "lines",
         "showlegend": false,
         "type": "scatter3d",
         "x": [
          -1.7458339726050047,
          -1.6183028428734088
         ],
         "y": [
          0.609087510814939,
          1.2697275466482696
         ],
         "z": [
          1.434902733693106,
          0.7262986171347007
         ]
        },
        {
         "line": {
          "color": "blue",
          "width": 2
         },
         "mode": "lines",
         "showlegend": false,
         "type": "scatter3d",
         "x": [
          1.7250450621949878,
          0.8896121862024741
         ],
         "y": [
          1.5804714028461198,
          1.9938703656004304
         ],
         "z": [
          0.12066280122711016,
          -0.17165488093484346
         ]
        },
        {
         "line": {
          "color": "blue",
          "width": 2
         },
         "mode": "lines",
         "showlegend": false,
         "type": "scatter3d",
         "x": [
          1.7250450621949878,
          1.5075246973488436
         ],
         "y": [
          1.5804714028461198,
          1.2197210484445231
         ],
         "z": [
          0.12066280122711016,
          1.0024188064101325
         ]
        },
        {
         "line": {
          "color": "blue",
          "width": 2
         },
         "mode": "lines",
         "showlegend": false,
         "type": "scatter3d",
         "x": [
          -0.9112253975958251,
          -0.9159059778101927
         ],
         "y": [
          2.1775133042118555,
          1.4081444390363635
         ],
         "z": [
          -0.7892574375014946,
          -1.4215222012416808
         ]
        },
        {
         "line": {
          "color": "blue",
          "width": 2
         },
         "mode": "lines",
         "showlegend": false,
         "type": "scatter3d",
         "x": [
          -0.9112253975958251,
          -1.313838846299807
         ],
         "y": [
          2.1775133042118555,
          2.915226617194573
         ],
         "z": [
          -0.7892574375014946,
          -1.2631724918843972
         ]
        },
        {
         "line": {
          "color": "blue",
          "width": 2
         },
         "mode": "lines",
         "showlegend": false,
         "type": "scatter3d",
         "x": [
          -0.7674548884209389,
          -1.210561286214427
         ],
         "y": [
          -0.08104183170270142,
          -0.7475252048680003
         ],
         "z": [
          -2.2121659232185404,
          -1.6515905727716236
         ]
        },
        {
         "line": {
          "color": "blue",
          "width": 2
         },
         "mode": "lines",
         "showlegend": false,
         "type": "scatter3d",
         "x": [
          -0.7674548884209389,
          0.17712323326720392
         ],
         "y": [
          -0.08104183170270142,
          -0.3241769690607424
         ],
         "z": [
          -2.2121659232185404,
          -2.1562749846865517
         ]
        },
        {
         "line": {
          "color": "green",
          "dash": "dash",
          "width": 3
         },
         "mode": "lines",
         "showlegend": false,
         "type": "scatter3d",
         "x": [
          0.84476,
          0.7899530955624818
         ],
         "y": [
          -2.07753,
          -2.1103818742859572
         ],
         "z": [
          0.73028,
          0.6567038077021365
         ]
        },
        {
         "line": {
          "color": "green",
          "dash": "dash",
          "width": 3
         },
         "mode": "lines",
         "showlegend": false,
         "type": "scatter3d",
         "x": [
          1.31596,
          1.319747321730831
         ],
         "y": [
          -1.75693,
          -1.7378649536193784
         ],
         "z": [
          -0.06322,
          -0.0750470527249416
         ]
        },
        {
         "line": {
          "color": "green",
          "dash": "dash",
          "width": 3
         },
         "mode": "lines",
         "showlegend": false,
         "type": "scatter3d",
         "x": [
          -0.08514,
          -0.8328481206613457
         ],
         "y": [
          -2.14663,
          -2.0345784452827465
         ],
         "z": [
          0.43908,
          0.17472231140396854
         ]
        },
        {
         "line": {
          "color": "green",
          "dash": "dash",
          "width": 3
         },
         "mode": "lines",
         "showlegend": false,
         "type": "scatter3d",
         "x": [
          1.89176,
          1.9343777713749526
         ],
         "y": [
          -0.61663,
          -0.5735874756397649
         ],
         "z": [
          -1.47602,
          -1.4476468540653369
         ]
        },
        {
         "line": {
          "color": "green",
          "dash": "dash",
          "width": 3
         },
         "mode": "lines",
         "showlegend": false,
         "type": "scatter3d",
         "x": [
          1.96846,
          1.9852858535278595
         ],
         "y": [
          0.21847,
          0.2594320965956736
         ],
         "z": [
          -0.93922,
          -0.9042223151970591
         ]
        },
        {
         "line": {
          "color": "green",
          "dash": "dash",
          "width": 3
         },
         "mode": "lines",
         "showlegend": false,
         "type": "scatter3d",
         "x": [
          2.71196,
          2.7718791155462195
         ],
         "y": [
          -0.68693,
          -0.6342357617602328
         ],
         "z": [
          -1.97962,
          -1.9229574618808694
         ]
        },
        {
         "line": {
          "color": "green",
          "dash": "dash",
          "width": 3
         },
         "mode": "lines",
         "showlegend": false,
         "type": "scatter3d",
         "x": [
          -1.83564,
          -1.7403952170794703
         ],
         "y": [
          -1.64993,
          -1.769306596940295
         ],
         "z": [
          -0.12282,
          -0.1374739317829255
         ]
        },
        {
         "line": {
          "color": "green",
          "dash": "dash",
          "width": 3
         },
         "mode": "lines",
         "showlegend": false,
         "type": "scatter3d",
         "x": [
          -2.64214,
          -2.2692712782900033
         ],
         "y": [
          -2.17273,
          -2.5763684997780008
         ],
         "z": [
          -0.03772,
          -0.14094623165685816
         ]
        },
        {
         "line": {
          "color": "green",
          "dash": "dash",
          "width": 3
         },
         "mode": "lines",
         "showlegend": false,
         "type": "scatter3d",
         "x": [
          -1.94874,
          -1.9556588604225968
         ],
         "y": [
          -0.86793,
          -0.21243665607748485
         ],
         "z": [
          0.48328,
          0.949676085966454
         ]
        },
        {
         "line": {
          "color": "green",
          "dash": "dash",
          "width": 3
         },
         "mode": "lines",
         "showlegend": false,
         "type": "scatter3d",
         "x": [
          0.82676,
          0.7182341858074205
         ],
         "y": [
          0.06397,
          0.16842057994094747
         ],
         "z": [
          2.33878,
          2.3737270552421883
         ]
        },
        {
         "line": {
          "color": "green",
          "dash": "dash",
          "width": 3
         },
         "mode": "lines",
         "showlegend": false,
         "type": "scatter3d",
         "x": [
          0.88856,
          0.8921808811336697
         ],
         "y": [
          -0.79983,
          -1.453334507109058
         ],
         "z": [
          1.84728,
          1.3723427509850719
         ]
        },
        {
         "line": {
          "color": "green",
          "dash": "dash",
          "width": 3
         },
         "mode": "lines",
         "showlegend": false,
         "type": "scatter3d",
         "x": [
          1.19196,
          0.8058384532396411
         ],
         "y": [
          -0.10093,
          0.2976601484359827
         ],
         "z": [
          3.21658,
          3.3258936721023264
         ]
        },
        {
         "line": {
          "color": "green",
          "dash": "dash",
          "width": 3
         },
         "mode": "lines",
         "showlegend": false,
         "type": "scatter3d",
         "x": [
          -1.80974,
          -1.7458339726050047
         ],
         "y": [
          0.55927,
          0.609087510814939
         ],
         "z": [
          1.39138,
          1.434902733693106
         ]
        },
        {
         "line": {
          "color": "green",
          "dash": "dash",
          "width": 3
         },
         "mode": "lines",
         "showlegend": false,
         "type": "scatter3d",
         "x": [
          -1.62174,
          -1.6183028428734088
         ],
         "y": [
          1.27097,
          1.2697275466482696
         ],
         "z": [
          0.74908,
          0.7262986171347007
         ]
        },
        {
         "line": {
          "color": "green",
          "dash": "dash",
          "width": 3
         },
         "mode": "lines",
         "showlegend": false,
         "type": "scatter3d",
         "x": [
          -0.97964,
          -0.2354651686635635
         ],
         "y": [
          0.47607,
          0.35544371635468397
         ],
         "z": [
          1.89978,
          2.1567036976799265
         ]
        },
        {
         "line": {
          "color": "green",
          "dash": "dash",
          "width": 3
         },
         "mode": "lines",
         "showlegend": false,
         "type": "scatter3d",
         "x": [
          1.75676,
          1.7250450621949878
         ],
         "y": [
          1.54767,
          1.5804714028461198
         ],
         "z": [
          0.09628,
          0.12066280122711016
         ]
        },
        {
         "line": {
          "color": "green",
          "dash": "dash",
          "width": 3
         },
         "mode": "lines",
         "showlegend": false,
         "type": "scatter3d",
         "x": [
          0.92006,
          0.8896121862024741
         ],
         "y": [
          1.97267,
          1.9938703656004304
         ],
         "z": [
          -0.17552,
          -0.17165488093484346
         ]
        },
        {
         "line": {
          "color": "green",
          "dash": "dash",
          "width": 3
         },
         "mode": "lines",
         "showlegend": false,
         "type": "scatter3d",
         "x": [
          1.55706,
          1.5075246973488436
         ],
         "y": [
          1.17687,
          1.2197210484445231
         ],
         "z": [
          0.97768,
          1.0024188064101325
         ]
        },
        {
         "line": {
          "color": "green",
          "dash": "dash",
          "width": 3
         },
         "mode": "lines",
         "showlegend": false,
         "type": "scatter3d",
         "x": [
          -0.88404,
          -0.9112253975958251
         ],
         "y": [
          2.20117,
          2.1775133042118555
         ],
         "z": [
          -0.74082,
          -0.7892574375014946
         ]
        },
        {
         "line": {
          "color": "green",
          "dash": "dash",
          "width": 3
         },
         "mode": "lines",
         "showlegend": false,
         "type": "scatter3d",
         "x": [
          -0.90984,
          -0.9159059778101927
         ],
         "y": [
          1.44597,
          1.4081444390363635
         ],
         "z": [
          -1.38922,
          -1.4215222012416808
         ]
        },
        {
         "line": {
          "color": "green",
          "dash": "dash",
          "width": 3
         },
         "mode": "lines",
         "showlegend": false,
         "type": "scatter3d",
         "x": [
          -1.25964,
          -1.313838846299807
         ],
         "y": [
          2.96157,
          2.915226617194573
         ],
         "z": [
          -1.20112,
          -1.2631724918843972
         ]
        },
        {
         "line": {
          "color": "green",
          "dash": "dash",
          "width": 3
         },
         "mode": "lines",
         "showlegend": false,
         "type": "scatter3d",
         "x": [
          -0.79264,
          -0.7674548884209389
         ],
         "y": [
          -0.03233,
          -0.08104183170270142
         ],
         "z": [
          -2.21742,
          -2.2121659232185404
         ]
        },
        {
         "line": {
          "color": "green",
          "dash": "dash",
          "width": 3
         },
         "mode": "lines",
         "showlegend": false,
         "type": "scatter3d",
         "x": [
          -1.25154,
          -1.210561286214427
         ],
         "y": [
          -0.68993,
          -0.7475252048680003
         ],
         "z": [
          -1.65942,
          -1.6515905727716236
         ]
        },
        {
         "line": {
          "color": "green",
          "dash": "dash",
          "width": 3
         },
         "mode": "lines",
         "showlegend": false,
         "type": "scatter3d",
         "x": [
          0.14646,
          0.17712323326720392
         ],
         "y": [
          -0.29653,
          -0.3241769690607424
         ],
         "z": [
          -2.16722,
          -2.1562749846865517
         ]
        }
       ],
       "layout": {
        "scene": {
         "aspectmode": "data",
         "xaxis": {
          "title": {
           "text": "X"
          }
         },
         "yaxis": {
          "title": {
           "text": "Y"
          }
         },
         "zaxis": {
          "title": {
           "text": "Z"
          }
         }
        },
        "showlegend": true,
        "template": {
         "data": {
          "bar": [
           {
            "error_x": {
             "color": "#2a3f5f"
            },
            "error_y": {
             "color": "#2a3f5f"
            },
            "marker": {
             "line": {
              "color": "#E5ECF6",
              "width": 0.5
             },
             "pattern": {
              "fillmode": "overlay",
              "size": 10,
              "solidity": 0.2
             }
            },
            "type": "bar"
           }
          ],
          "barpolar": [
           {
            "marker": {
             "line": {
              "color": "#E5ECF6",
              "width": 0.5
             },
             "pattern": {
              "fillmode": "overlay",
              "size": 10,
              "solidity": 0.2
             }
            },
            "type": "barpolar"
           }
          ],
          "carpet": [
           {
            "aaxis": {
             "endlinecolor": "#2a3f5f",
             "gridcolor": "white",
             "linecolor": "white",
             "minorgridcolor": "white",
             "startlinecolor": "#2a3f5f"
            },
            "baxis": {
             "endlinecolor": "#2a3f5f",
             "gridcolor": "white",
             "linecolor": "white",
             "minorgridcolor": "white",
             "startlinecolor": "#2a3f5f"
            },
            "type": "carpet"
           }
          ],
          "choropleth": [
           {
            "colorbar": {
             "outlinewidth": 0,
             "ticks": ""
            },
            "type": "choropleth"
           }
          ],
          "contour": [
           {
            "colorbar": {
             "outlinewidth": 0,
             "ticks": ""
            },
            "colorscale": [
             [
              0,
              "#0d0887"
             ],
             [
              0.1111111111111111,
              "#46039f"
             ],
             [
              0.2222222222222222,
              "#7201a8"
             ],
             [
              0.3333333333333333,
              "#9c179e"
             ],
             [
              0.4444444444444444,
              "#bd3786"
             ],
             [
              0.5555555555555556,
              "#d8576b"
             ],
             [
              0.6666666666666666,
              "#ed7953"
             ],
             [
              0.7777777777777778,
              "#fb9f3a"
             ],
             [
              0.8888888888888888,
              "#fdca26"
             ],
             [
              1,
              "#f0f921"
             ]
            ],
            "type": "contour"
           }
          ],
          "contourcarpet": [
           {
            "colorbar": {
             "outlinewidth": 0,
             "ticks": ""
            },
            "type": "contourcarpet"
           }
          ],
          "heatmap": [
           {
            "colorbar": {
             "outlinewidth": 0,
             "ticks": ""
            },
            "colorscale": [
             [
              0,
              "#0d0887"
             ],
             [
              0.1111111111111111,
              "#46039f"
             ],
             [
              0.2222222222222222,
              "#7201a8"
             ],
             [
              0.3333333333333333,
              "#9c179e"
             ],
             [
              0.4444444444444444,
              "#bd3786"
             ],
             [
              0.5555555555555556,
              "#d8576b"
             ],
             [
              0.6666666666666666,
              "#ed7953"
             ],
             [
              0.7777777777777778,
              "#fb9f3a"
             ],
             [
              0.8888888888888888,
              "#fdca26"
             ],
             [
              1,
              "#f0f921"
             ]
            ],
            "type": "heatmap"
           }
          ],
          "histogram": [
           {
            "marker": {
             "pattern": {
              "fillmode": "overlay",
              "size": 10,
              "solidity": 0.2
             }
            },
            "type": "histogram"
           }
          ],
          "histogram2d": [
           {
            "colorbar": {
             "outlinewidth": 0,
             "ticks": ""
            },
            "colorscale": [
             [
              0,
              "#0d0887"
             ],
             [
              0.1111111111111111,
              "#46039f"
             ],
             [
              0.2222222222222222,
              "#7201a8"
             ],
             [
              0.3333333333333333,
              "#9c179e"
             ],
             [
              0.4444444444444444,
              "#bd3786"
             ],
             [
              0.5555555555555556,
              "#d8576b"
             ],
             [
              0.6666666666666666,
              "#ed7953"
             ],
             [
              0.7777777777777778,
              "#fb9f3a"
             ],
             [
              0.8888888888888888,
              "#fdca26"
             ],
             [
              1,
              "#f0f921"
             ]
            ],
            "type": "histogram2d"
           }
          ],
          "histogram2dcontour": [
           {
            "colorbar": {
             "outlinewidth": 0,
             "ticks": ""
            },
            "colorscale": [
             [
              0,
              "#0d0887"
             ],
             [
              0.1111111111111111,
              "#46039f"
             ],
             [
              0.2222222222222222,
              "#7201a8"
             ],
             [
              0.3333333333333333,
              "#9c179e"
             ],
             [
              0.4444444444444444,
              "#bd3786"
             ],
             [
              0.5555555555555556,
              "#d8576b"
             ],
             [
              0.6666666666666666,
              "#ed7953"
             ],
             [
              0.7777777777777778,
              "#fb9f3a"
             ],
             [
              0.8888888888888888,
              "#fdca26"
             ],
             [
              1,
              "#f0f921"
             ]
            ],
            "type": "histogram2dcontour"
           }
          ],
          "mesh3d": [
           {
            "colorbar": {
             "outlinewidth": 0,
             "ticks": ""
            },
            "type": "mesh3d"
           }
          ],
          "parcoords": [
           {
            "line": {
             "colorbar": {
              "outlinewidth": 0,
              "ticks": ""
             }
            },
            "type": "parcoords"
           }
          ],
          "pie": [
           {
            "automargin": true,
            "type": "pie"
           }
          ],
          "scatter": [
           {
            "fillpattern": {
             "fillmode": "overlay",
             "size": 10,
             "solidity": 0.2
            },
            "type": "scatter"
           }
          ],
          "scatter3d": [
           {
            "line": {
             "colorbar": {
              "outlinewidth": 0,
              "ticks": ""
             }
            },
            "marker": {
             "colorbar": {
              "outlinewidth": 0,
              "ticks": ""
             }
            },
            "type": "scatter3d"
           }
          ],
          "scattercarpet": [
           {
            "marker": {
             "colorbar": {
              "outlinewidth": 0,
              "ticks": ""
             }
            },
            "type": "scattercarpet"
           }
          ],
          "scattergeo": [
           {
            "marker": {
             "colorbar": {
              "outlinewidth": 0,
              "ticks": ""
             }
            },
            "type": "scattergeo"
           }
          ],
          "scattergl": [
           {
            "marker": {
             "colorbar": {
              "outlinewidth": 0,
              "ticks": ""
             }
            },
            "type": "scattergl"
           }
          ],
          "scattermap": [
           {
            "marker": {
             "colorbar": {
              "outlinewidth": 0,
              "ticks": ""
             }
            },
            "type": "scattermap"
           }
          ],
          "scattermapbox": [
           {
            "marker": {
             "colorbar": {
              "outlinewidth": 0,
              "ticks": ""
             }
            },
            "type": "scattermapbox"
           }
          ],
          "scatterpolar": [
           {
            "marker": {
             "colorbar": {
              "outlinewidth": 0,
              "ticks": ""
             }
            },
            "type": "scatterpolar"
           }
          ],
          "scatterpolargl": [
           {
            "marker": {
             "colorbar": {
              "outlinewidth": 0,
              "ticks": ""
             }
            },
            "type": "scatterpolargl"
           }
          ],
          "scatterternary": [
           {
            "marker": {
             "colorbar": {
              "outlinewidth": 0,
              "ticks": ""
             }
            },
            "type": "scatterternary"
           }
          ],
          "surface": [
           {
            "colorbar": {
             "outlinewidth": 0,
             "ticks": ""
            },
            "colorscale": [
             [
              0,
              "#0d0887"
             ],
             [
              0.1111111111111111,
              "#46039f"
             ],
             [
              0.2222222222222222,
              "#7201a8"
             ],
             [
              0.3333333333333333,
              "#9c179e"
             ],
             [
              0.4444444444444444,
              "#bd3786"
             ],
             [
              0.5555555555555556,
              "#d8576b"
             ],
             [
              0.6666666666666666,
              "#ed7953"
             ],
             [
              0.7777777777777778,
              "#fb9f3a"
             ],
             [
              0.8888888888888888,
              "#fdca26"
             ],
             [
              1,
              "#f0f921"
             ]
            ],
            "type": "surface"
           }
          ],
          "table": [
           {
            "cells": {
             "fill": {
              "color": "#EBF0F8"
             },
             "line": {
              "color": "white"
             }
            },
            "header": {
             "fill": {
              "color": "#C8D4E3"
             },
             "line": {
              "color": "white"
             }
            },
            "type": "table"
           }
          ]
         },
         "layout": {
          "annotationdefaults": {
           "arrowcolor": "#2a3f5f",
           "arrowhead": 0,
           "arrowwidth": 1
          },
          "autotypenumbers": "strict",
          "coloraxis": {
           "colorbar": {
            "outlinewidth": 0,
            "ticks": ""
           }
          },
          "colorscale": {
           "diverging": [
            [
             0,
             "#8e0152"
            ],
            [
             0.1,
             "#c51b7d"
            ],
            [
             0.2,
             "#de77ae"
            ],
            [
             0.3,
             "#f1b6da"
            ],
            [
             0.4,
             "#fde0ef"
            ],
            [
             0.5,
             "#f7f7f7"
            ],
            [
             0.6,
             "#e6f5d0"
            ],
            [
             0.7,
             "#b8e186"
            ],
            [
             0.8,
             "#7fbc41"
            ],
            [
             0.9,
             "#4d9221"
            ],
            [
             1,
             "#276419"
            ]
           ],
           "sequential": [
            [
             0,
             "#0d0887"
            ],
            [
             0.1111111111111111,
             "#46039f"
            ],
            [
             0.2222222222222222,
             "#7201a8"
            ],
            [
             0.3333333333333333,
             "#9c179e"
            ],
            [
             0.4444444444444444,
             "#bd3786"
            ],
            [
             0.5555555555555556,
             "#d8576b"
            ],
            [
             0.6666666666666666,
             "#ed7953"
            ],
            [
             0.7777777777777778,
             "#fb9f3a"
            ],
            [
             0.8888888888888888,
             "#fdca26"
            ],
            [
             1,
             "#f0f921"
            ]
           ],
           "sequentialminus": [
            [
             0,
             "#0d0887"
            ],
            [
             0.1111111111111111,
             "#46039f"
            ],
            [
             0.2222222222222222,
             "#7201a8"
            ],
            [
             0.3333333333333333,
             "#9c179e"
            ],
            [
             0.4444444444444444,
             "#bd3786"
            ],
            [
             0.5555555555555556,
             "#d8576b"
            ],
            [
             0.6666666666666666,
             "#ed7953"
            ],
            [
             0.7777777777777778,
             "#fb9f3a"
            ],
            [
             0.8888888888888888,
             "#fdca26"
            ],
            [
             1,
             "#f0f921"
            ]
           ]
          },
          "colorway": [
           "#636efa",
           "#EF553B",
           "#00cc96",
           "#ab63fa",
           "#FFA15A",
           "#19d3f3",
           "#FF6692",
           "#B6E880",
           "#FF97FF",
           "#FECB52"
          ],
          "font": {
           "color": "#2a3f5f"
          },
          "geo": {
           "bgcolor": "white",
           "lakecolor": "white",
           "landcolor": "#E5ECF6",
           "showlakes": true,
           "showland": true,
           "subunitcolor": "white"
          },
          "hoverlabel": {
           "align": "left"
          },
          "hovermode": "closest",
          "mapbox": {
           "style": "light"
          },
          "paper_bgcolor": "white",
          "plot_bgcolor": "#E5ECF6",
          "polar": {
           "angularaxis": {
            "gridcolor": "white",
            "linecolor": "white",
            "ticks": ""
           },
           "bgcolor": "#E5ECF6",
           "radialaxis": {
            "gridcolor": "white",
            "linecolor": "white",
            "ticks": ""
           }
          },
          "scene": {
           "xaxis": {
            "backgroundcolor": "#E5ECF6",
            "gridcolor": "white",
            "gridwidth": 2,
            "linecolor": "white",
            "showbackground": true,
            "ticks": "",
            "zerolinecolor": "white"
           },
           "yaxis": {
            "backgroundcolor": "#E5ECF6",
            "gridcolor": "white",
            "gridwidth": 2,
            "linecolor": "white",
            "showbackground": true,
            "ticks": "",
            "zerolinecolor": "white"
           },
           "zaxis": {
            "backgroundcolor": "#E5ECF6",
            "gridcolor": "white",
            "gridwidth": 2,
            "linecolor": "white",
            "showbackground": true,
            "ticks": "",
            "zerolinecolor": "white"
           }
          },
          "shapedefaults": {
           "line": {
            "color": "#2a3f5f"
           }
          },
          "ternary": {
           "aaxis": {
            "gridcolor": "white",
            "linecolor": "white",
            "ticks": ""
           },
           "baxis": {
            "gridcolor": "white",
            "linecolor": "white",
            "ticks": ""
           },
           "bgcolor": "#E5ECF6",
           "caxis": {
            "gridcolor": "white",
            "linecolor": "white",
            "ticks": ""
           }
          },
          "title": {
           "x": 0.05
          },
          "xaxis": {
           "automargin": true,
           "gridcolor": "white",
           "linecolor": "white",
           "ticks": "",
           "title": {
            "standoff": 15
           },
           "zerolinecolor": "white",
           "zerolinewidth": 2
          },
          "yaxis": {
           "automargin": true,
           "gridcolor": "white",
           "linecolor": "white",
           "ticks": "",
           "title": {
            "standoff": 15
           },
           "zerolinecolor": "white",
           "zerolinewidth": 2
          }
         }
        },
        "title": {
         "text": "Water Clusters Alignment"
        }
       }
      }
     },
     "metadata": {},
     "output_type": "display_data"
    }
   ],
   "source": [
    "molA = next(pybel.readfile('xyz', os.path.join(data_path, '8-D2d.xyz')))\n",
    "molB = next(pybel.readfile('xyz', os.path.join('./ArbAlignOutput', '8-S4-aligned_to-8-D2d.xyz')))\n",
    "\n",
    "X_A, T_A, B_A = otm.tl.process_molecule(molA) # Output (1) spatial coordinates, (2) atom types, and (3) bonds as numpy arrays.\n",
    "X_B, T_B, B_B = otm.tl.process_molecule(molB)\n",
    "X_B_aligned = otm.tl.molecule_alignment_allow_reflection(X_A, X_B, np.eye(len(X_A)))\n",
    "alignment_plot(X_A, X_B_aligned, B_A, B_B, T_A, T_B)"
   ]
  },
  {
   "cell_type": "code",
   "execution_count": 8,
   "metadata": {},
   "outputs": [
    {
     "data": {
      "application/vnd.plotly.v1+json": {
       "config": {
        "plotlyServerURL": "https://plot.ly"
       },
       "data": [
        {
         "marker": {
          "color": "red",
          "size": [
           12,
           8,
           8,
           12,
           8,
           8,
           12,
           8,
           8,
           12,
           8,
           8,
           12,
           8,
           8,
           12,
           8,
           8,
           12,
           8,
           8,
           12,
           8,
           8,
           12,
           8,
           8
          ],
          "symbol": "circle"
         },
         "mode": "markers",
         "name": "Cluster A",
         "type": "scatter3d",
         "x": {
          "bdata": "+IiYEkl0+T+yYyMQr2v/P5kSSfQyCvY/uiwmNh+XAEBBSBYwgdvyP/NxbagYpwVAEHUfgNQm4T+/ZU6XxcTYv+utga0SLNw/JemayTfb6b8Fi8OZX825P0yJJHoZxe+/ucfShy4o/b/jUwCMZxAAwInqrYGtkvq/rHMMyF7v2L89D+7O2m3kv3tOet/4WvC/mpSCbi+pAMDogvqWOd34v9nr3R/vlQfAC3va4a9J+T/2fw7z5YX9P01KQbeXtPQ/U+i8xi5R4L8bR6zFpwDSP7YQ5KCEmcK/",
          "dtype": "f8"
         },
         "y": {
          "bdata": "6IcRwqMNAsCrCaLuA5D3v4UlHlA25f6/Iy2VtyOczj8U6BN5knTRP54Hd2fttt8/j8cMVMa/7b8f14aKcf7svwLU1LK1vvK/NQwfEVOiA8CpwTQMHxEEwDGUE+0qpArAibX4FADj7b9NLVvri4S2v16FlJ9U+/i/jV2iemtguz8IILWJk/vpv2+e6pCb4eQ/5gXYR6eu9z8pP6n26XgBQJKzsKcd/v0/E0n0Morl9z+45LhTOljyPw5KmGn7V+Y/F7zoK0gzCUAqHaz/c5gEQKBsyhXe5Q9A",
          "dtype": "f8"
         },
         "z": {
          "bdata": "B/AWSFD8eL9SuB6F61HcPx3J5T+k3+y/5BQdyeU/9D+8lpAPejb7Pylcj8L1KP8/qDXNO05RAsABTYQNT6/+v1XBqKROwAnAbjSAt0CC8j/mP6Tfvg7oP07RkVz+Q/g/lPYGX5hM8L9hw9MrZRniv3ctIR/0bNK/2/l+arx0AkAZBFYOLbIAQOtztRX7y/w/5dAi2/l+3j+PU3Qkl/+QPxBYObTIduQ/GeJYF7fR878QejarPlfXv7U3+MJkqvu/7lpCPujZ7L+e76fGSzfxv/JBz2bV5+K/",
          "dtype": "f8"
         }
        },
        {
         "marker": {
          "color": "blue",
          "size": [
           12,
           8,
           8,
           12,
           8,
           8,
           12,
           8,
           8,
           12,
           8,
           8,
           12,
           8,
           8,
           12,
           8,
           8,
           12,
           8,
           8,
           12,
           8,
           8,
           12,
           8,
           8
          ],
          "symbol": "circle"
         },
         "mode": "markers",
         "name": "Cluster B",
         "type": "scatter3d",
         "x": {
          "bdata": "PMc5Cb0X+j+3j7N4r7n/P2yjiZ+SafY/yxawuH9JAEB2+Kpf8yTyP/h0RL5NKwVAPm093fTo4z+cZJx1lQPxv2RcxPfS/+k/aNSveW9o57/k2i2AfsDGP1gSB1lfc+y/J5sx3AZz/b+ZuwGZouAAwIJ1X3Ceifm/RL8LI4EI3L/cIZnwGazkvyafpKniwvG/4Pmz30JkAcBxnLt9ibnyv13Bv4Rf9gjAf+1BzICE+T8z5tYkW8v9PzWCiprUt+8/F5WoezFV4L/Qf9XktkftP5QEeNA3CNq/",
          "dtype": "f8"
         },
         "y": {
          "bdata": "qAM5aoVzAcC6v6vgQEj2v81J6VCJjv2/vrFGEAI51D/GYhXWUtPTP1b/JMmDt+I/PyAm3wPX6b8jdCm8l9rsv66dhgb9guy/Ey4czA0TBMDXw0/+hyEEwIF87CyHPwvAkSVh42vg7b9aDYv3QTbgP7BgmwRolfm/h8ePJHqAtD/J60cSPkvrvy3MrzbXguI/71LHBJNc9T/4aqq47gwFQNvUxM6gGPg/8jNkp7P59j8tND0maMTyP1Z1MEzOTbQ/H1S1hw+rCUDEdLBvigcBQFwTJHWhuA9A",
          "dtype": "f8"
         },
         "z": {
          "bdata": "fNlkABuLor+qQdmsdejaP/mjKg/Cn+2/TNtPH9Z89D/46QtkoTX7PzUOL4RJpf8/zG+SCsx8AsAkLU/E4pv4v3HP0eB7BgrAdMz4B7N48j/coKBfu+PnP3Ys2U0tk/c/mEaMbmIv7r9lyF1AeurEvy9/aZZ6W9G/q4FAQjxeAkDN72PWDcAAQDmJiT8urfw/fp4Ag8Yj2T9ckfbv2aTZvxlNv57Pxt4/NO66Wpu19L9zhTcJHSHZv92LEq7BRgDADKuydbTm6r9fKNTIonXyvwP3kvbZDdC/",
          "dtype": "f8"
         }
        },
        {
         "line": {
          "color": "red",
          "width": 2
         },
         "mode": "lines",
         "showlegend": false,
         "type": "scatter3d",
         "x": [
          1.59089,
          1.96379
         ],
         "y": [
          -2.25666,
          -1.47266
         ],
         "z": [
          -0.0061,
          0.4425
         ]
        },
        {
         "line": {
          "color": "red",
          "width": 2
         },
         "mode": "lines",
         "showlegend": false,
         "type": "scatter3d",
         "x": [
          1.59089,
          1.37749
         ],
         "y": [
          -2.25666,
          -1.93096
         ],
         "z": [
          -0.0061,
          -0.9023
         ]
        },
        {
         "line": {
          "color": "red",
          "width": 2
         },
         "mode": "lines",
         "showlegend": false,
         "type": "scatter3d",
         "x": [
          2.07379,
          1.17859
         ],
         "y": [
          0.23914,
          0.27274
         ],
         "z": [
          1.2656,
          1.7008
         ]
        },
        {
         "line": {
          "color": "red",
          "width": 2
         },
         "mode": "lines",
         "showlegend": false,
         "type": "scatter3d",
         "x": [
          2.07379,
          2.70659
         ],
         "y": [
          0.23914,
          0.49554
         ],
         "z": [
          1.2656,
          1.9475
         ]
        },
        {
         "line": {
          "color": "red",
          "width": 2
         },
         "mode": "lines",
         "showlegend": false,
         "type": "scatter3d",
         "x": [
          0.53599,
          -0.38701
         ],
         "y": [
          -0.92966,
          -0.90606
         ],
         "z": [
          -2.2897,
          -1.9178
         ]
        },
        {
         "line": {
          "color": "red",
          "width": 2
         },
         "mode": "lines",
         "showlegend": false,
         "type": "scatter3d",
         "x": [
          0.53599,
          0.44019
         ],
         "y": [
          -0.92966,
          -1.17156
         ],
         "z": [
          -2.2897,
          -3.2189
         ]
        },
        {
         "line": {
          "color": "red",
          "width": 2
         },
         "mode": "lines",
         "showlegend": false,
         "type": "scatter3d",
         "x": [
          -0.80801,
          0.10079
         ],
         "y": [
          -2.45426,
          -2.50836
         ],
         "z": [
          1.1568,
          0.7518
         ]
        },
        {
         "line": {
          "color": "red",
          "width": 2
         },
         "mode": "lines",
         "showlegend": false,
         "type": "scatter3d",
         "x": [
          -0.80801,
          -0.99281
         ],
         "y": [
          -2.45426,
          -3.33016
         ],
         "z": [
          1.1568,
          1.5166
         ]
        },
        {
         "line": {
          "color": "red",
          "width": 2
         },
         "mode": "lines",
         "showlegend": false,
         "type": "scatter3d",
         "x": [
          -1.82231,
          -2.00801
         ],
         "y": [
          -0.93396,
          -0.08796
         ],
         "z": [
          -1.0187,
          -0.5656
         ]
        },
        {
         "line": {
          "color": "red",
          "width": 2
         },
         "mode": "lines",
         "showlegend": false,
         "type": "scatter3d",
         "x": [
          -1.82231,
          -1.66081
         ],
         "y": [
          -0.93396,
          -1.56136
         ],
         "z": [
          -1.0187,
          -0.2879
         ]
        },
        {
         "line": {
          "color": "red",
          "width": 2
         },
         "mode": "lines",
         "showlegend": false,
         "type": "scatter3d",
         "x": [
          -0.38961,
          -0.63841
         ],
         "y": [
          0.10694,
          -0.81196
         ],
         "z": [
          2.307,
          2.087
         ]
        },
        {
         "line": {
          "color": "red",
          "width": 2
         },
         "mode": "lines",
         "showlegend": false,
         "type": "scatter3d",
         "x": [
          -0.38961,
          -1.02221
         ],
         "y": [
          0.10694,
          0.65254
         ],
         "z": [
          2.307,
          1.7998
         ]
        },
        {
         "line": {
          "color": "red",
          "width": 2
         },
         "mode": "lines",
         "showlegend": false,
         "type": "scatter3d",
         "x": [
          -2.08261,
          -1.55401
         ],
         "y": [
          1.48014,
          2.18404
         ],
         "z": [
          0.4765,
          0.0166
         ]
        },
        {
         "line": {
          "color": "red",
          "width": 2
         },
         "mode": "lines",
         "showlegend": false,
         "type": "scatter3d",
         "x": [
          -2.08261,
          -2.94821
         ],
         "y": [
          1.48014,
          1.87454
         ],
         "z": [
          0.4765,
          0.6395
         ]
        },
        {
         "line": {
          "color": "red",
          "width": 2
         },
         "mode": "lines",
         "showlegend": false,
         "type": "scatter3d",
         "x": [
          1.58049,
          1.84519
         ],
         "y": [
          1.49354,
          1.14654
         ],
         "z": [
          -1.2387,
          -0.3647
         ]
        },
        {
         "line": {
          "color": "red",
          "width": 2
         },
         "mode": "lines",
         "showlegend": false,
         "type": "scatter3d",
         "x": [
          1.58049,
          1.29409
         ],
         "y": [
          1.49354,
          0.69824
         ],
         "z": [
          -1.2387,
          -1.7291
         ]
        },
        {
         "line": {
          "color": "red",
          "width": 2
         },
         "mode": "lines",
         "showlegend": false,
         "type": "scatter3d",
         "x": [
          -0.50991,
          0.28129
         ],
         "y": [
          3.15004,
          2.57444
         ],
         "z": [
          -0.9016,
          -1.076
         ]
        },
        {
         "line": {
          "color": "red",
          "width": 2
         },
         "mode": "lines",
         "showlegend": false,
         "type": "scatter3d",
         "x": [
          -0.50991,
          -0.14531
         ],
         "y": [
          3.15004,
          3.98724
         ],
         "z": [
          -0.9016,
          -0.5908
         ]
        },
        {
         "line": {
          "color": "blue",
          "width": 2
         },
         "mode": "lines",
         "showlegend": false,
         "type": "scatter3d",
         "x": [
          1.6307955131891978,
          1.982833358278169
         ],
         "y": [
          -2.1814068125390413,
          -1.3926399971205528
         ],
         "z": [
          -0.03621754054840928,
          0.42043821220161226
         ]
        },
        {
         "line": {
          "color": "blue",
          "width": 2
         },
         "mode": "lines",
         "showlegend": false,
         "type": "scatter3d",
         "x": [
          1.6307955131891978,
          1.4007745963992546
         ],
         "y": [
          -2.1814068125390413,
          -1.8472989235493629
         ],
         "z": [
          -0.03621754054840928,
          -0.9257517143461192
         ]
        },
        {
         "line": {
          "color": "blue",
          "width": 2
         },
         "mode": "lines",
         "showlegend": false,
         "type": "scatter3d",
         "x": [
          2.0358881405580624,
          1.134021161749414
         ],
         "y": [
          0.3159794959017538,
          0.3097731676730685
         ],
         "z": [
          1.280477640449777,
          1.700593367392342
         ]
        },
        {
         "line": {
          "color": "blue",
          "width": 2
         },
         "mode": "lines",
         "showlegend": false,
         "type": "scatter3d",
         "x": [
          2.0358881405580624,
          2.6461443771973983
         ],
         "y": [
          0.3159794959017538,
          0.5849017075160912
         ],
         "z": [
          1.280477640449777,
          1.9778533137731646
         ]
        },
        {
         "line": {
          "color": "blue",
          "width": 2
         },
         "mode": "lines",
         "showlegend": false,
         "type": "scatter3d",
         "x": [
          0.6221870728581178,
          0.8124785269927881
         ],
         "y": [
          -0.8074969633462458,
          -0.8909897925813561
         ],
         "z": [
          -2.310936052888769,
          -3.2531659664181736
         ]
        },
        {
         "line": {
          "color": "blue",
          "width": 2
         },
         "mode": "lines",
         "showlegend": false,
         "type": "scatter3d",
         "x": [
          0.6221870728581178,
          0.9911902445201749
         ],
         "y": [
          -0.8074969633462458,
          0.07931222305383775
         ],
         "z": [
          -2.310936052888769,
          -2.0345491027269262
         ]
        },
        {
         "line": {
          "color": "blue",
          "width": 2
         },
         "mode": "lines",
         "showlegend": false,
         "type": "scatter3d",
         "x": [
          -1.0633749574829272,
          -1.8405827142066273
         ],
         "y": [
          -0.9016836810147918,
          -0.9336451951032122
         ],
         "z": [
          -1.5380580585795736,
          -0.9432842406406108
         ]
        },
        {
         "line": {
          "color": "blue",
          "width": 2
         },
         "mode": "lines",
         "showlegend": false,
         "type": "scatter3d",
         "x": [
          -0.7314984680839531,
          0.177749455058538
         ],
         "y": [
          -2.5093036600208136,
          -2.5163726680843683
         ],
         "z": [
          1.1544676124001656,
          0.7465493076060983
         ]
        },
        {
         "line": {
          "color": "blue",
          "width": 2
         },
         "mode": "lines",
         "showlegend": false,
         "type": "scatter3d",
         "x": [
          -0.7314984680839531,
          -0.8890835512944006
         ],
         "y": [
          -2.5093036600208136,
          -3.4060195455236344
         ],
         "z": [
          1.1544676124001656,
          1.4734318772268842
         ]
        },
        {
         "line": {
          "color": "blue",
          "width": 2
         },
         "mode": "lines",
         "showlegend": false,
         "type": "scatter3d",
         "x": [
          -1.8405827142066273,
          -1.596098364788617
         ],
         "y": [
          -0.9336451951032122,
          -1.5989761524161104
         ],
         "z": [
          -0.9432842406406108,
          -0.27120842636758175
         ]
        },
        {
         "line": {
          "color": "blue",
          "width": 2
         },
         "mode": "lines",
         "showlegend": false,
         "type": "scatter3d",
         "x": [
          -2.109685130467778,
          -2.173955676727232
         ],
         "y": [
          0.5066232523753726,
          1.3351011454262183
         ],
         "z": [
          -0.1634056867874875,
          0.3928085593529217
         ]
        },
        {
         "line": {
          "color": "blue",
          "width": 2
         },
         "mode": "lines",
         "showlegend": false,
         "type": "scatter3d",
         "x": [
          -0.43801906988573003,
          -0.6460084628279747
         ],
         "y": [
          0.08008540527933238,
          -0.8529348713922157
         ],
         "z": [
          2.296013372033675,
          2.0937763928650157
         ]
        },
        {
         "line": {
          "color": "blue",
          "width": 2
         },
         "mode": "lines",
         "showlegend": false,
         "type": "scatter3d",
         "x": [
          -0.43801906988573003,
          -1.110079443615129
         ],
         "y": [
          0.08008540527933238,
          0.5784717624759473
         ],
         "z": [
          2.296013372033675,
          1.792280433838256
         ]
        },
        {
         "line": {
          "color": "blue",
          "width": 2
         },
         "mode": "lines",
         "showlegend": false,
         "type": "scatter3d",
         "x": [
          -2.173955676727232,
          -3.1202993746775705
         ],
         "y": [
          1.3351011454262183,
          1.5060127331647013
         ],
         "z": [
          0.3928085593529217,
          0.4808844614282904
         ]
        },
        {
         "line": {
          "color": "blue",
          "width": 2
         },
         "mode": "lines",
         "showlegend": false,
         "type": "scatter3d",
         "x": [
          -1.1702971373977358,
          -0.5103995719152036
         ],
         "y": [
          2.6313146998412513,
          3.2085257150852295
         ],
         "z": [
          -0.40068672593976884,
          -0.8406622217929409
         ]
        },
        {
         "line": {
          "color": "blue",
          "width": 2
         },
         "mode": "lines",
         "showlegend": false,
         "type": "scatter3d",
         "x": [
          1.5948493937310955,
          1.8621474684754389
         ],
         "y": [
          1.4359623469092608,
          1.1729508870805703
         ],
         "z": [
          -1.2943376106403663,
          -0.3926460828789324
         ]
        },
        {
         "line": {
          "color": "blue",
          "width": 2
         },
         "mode": "lines",
         "showlegend": false,
         "type": "scatter3d",
         "x": [
          1.5948493937310955,
          0.9150042027867986
         ],
         "y": [
          1.4359623469092608,
          2.1286820150113233
         ],
         "z": [
          -1.2943376106403663,
          -1.1537196965096184
         ]
        },
        {
         "line": {
          "color": "blue",
          "width": 2
         },
         "mode": "lines",
         "showlegend": false,
         "type": "scatter3d",
         "x": [
          -0.5103995719152036,
          -0.4067515884235686
         ],
         "y": [
          3.2085257150852295,
          3.9651517058977515
         ],
         "z": [
          -0.8406622217929409,
          -0.25084542350292355
         ]
        },
        {
         "line": {
          "color": "green",
          "dash": "dash",
          "width": 3
         },
         "mode": "lines",
         "showlegend": false,
         "type": "scatter3d",
         "x": [
          1.59089,
          1.6307955131891978
         ],
         "y": [
          -2.25666,
          -2.1814068125390413
         ],
         "z": [
          -0.0061,
          -0.03621754054840928
         ]
        },
        {
         "line": {
          "color": "green",
          "dash": "dash",
          "width": 3
         },
         "mode": "lines",
         "showlegend": false,
         "type": "scatter3d",
         "x": [
          1.96379,
          1.982833358278169
         ],
         "y": [
          -1.47266,
          -1.3926399971205528
         ],
         "z": [
          0.4425,
          0.42043821220161226
         ]
        },
        {
         "line": {
          "color": "green",
          "dash": "dash",
          "width": 3
         },
         "mode": "lines",
         "showlegend": false,
         "type": "scatter3d",
         "x": [
          1.37749,
          1.4007745963992546
         ],
         "y": [
          -1.93096,
          -1.8472989235493629
         ],
         "z": [
          -0.9023,
          -0.9257517143461192
         ]
        },
        {
         "line": {
          "color": "green",
          "dash": "dash",
          "width": 3
         },
         "mode": "lines",
         "showlegend": false,
         "type": "scatter3d",
         "x": [
          2.07379,
          2.0358881405580624
         ],
         "y": [
          0.23914,
          0.3159794959017538
         ],
         "z": [
          1.2656,
          1.280477640449777
         ]
        },
        {
         "line": {
          "color": "green",
          "dash": "dash",
          "width": 3
         },
         "mode": "lines",
         "showlegend": false,
         "type": "scatter3d",
         "x": [
          1.17859,
          1.134021161749414
         ],
         "y": [
          0.27274,
          0.3097731676730685
         ],
         "z": [
          1.7008,
          1.700593367392342
         ]
        },
        {
         "line": {
          "color": "green",
          "dash": "dash",
          "width": 3
         },
         "mode": "lines",
         "showlegend": false,
         "type": "scatter3d",
         "x": [
          2.70659,
          2.6461443771973983
         ],
         "y": [
          0.49554,
          0.5849017075160912
         ],
         "z": [
          1.9475,
          1.9778533137731646
         ]
        },
        {
         "line": {
          "color": "green",
          "dash": "dash",
          "width": 3
         },
         "mode": "lines",
         "showlegend": false,
         "type": "scatter3d",
         "x": [
          0.53599,
          0.6221870728581178
         ],
         "y": [
          -0.92966,
          -0.8074969633462458
         ],
         "z": [
          -2.2897,
          -2.310936052888769
         ]
        },
        {
         "line": {
          "color": "green",
          "dash": "dash",
          "width": 3
         },
         "mode": "lines",
         "showlegend": false,
         "type": "scatter3d",
         "x": [
          -0.38701,
          -1.0633749574829272
         ],
         "y": [
          -0.90606,
          -0.9016836810147918
         ],
         "z": [
          -1.9178,
          -1.5380580585795736
         ]
        },
        {
         "line": {
          "color": "green",
          "dash": "dash",
          "width": 3
         },
         "mode": "lines",
         "showlegend": false,
         "type": "scatter3d",
         "x": [
          0.44019,
          0.8124785269927881
         ],
         "y": [
          -1.17156,
          -0.8909897925813561
         ],
         "z": [
          -3.2189,
          -3.2531659664181736
         ]
        },
        {
         "line": {
          "color": "green",
          "dash": "dash",
          "width": 3
         },
         "mode": "lines",
         "showlegend": false,
         "type": "scatter3d",
         "x": [
          -0.80801,
          -0.7314984680839531
         ],
         "y": [
          -2.45426,
          -2.5093036600208136
         ],
         "z": [
          1.1568,
          1.1544676124001656
         ]
        },
        {
         "line": {
          "color": "green",
          "dash": "dash",
          "width": 3
         },
         "mode": "lines",
         "showlegend": false,
         "type": "scatter3d",
         "x": [
          0.10079,
          0.177749455058538
         ],
         "y": [
          -2.50836,
          -2.5163726680843683
         ],
         "z": [
          0.7518,
          0.7465493076060983
         ]
        },
        {
         "line": {
          "color": "green",
          "dash": "dash",
          "width": 3
         },
         "mode": "lines",
         "showlegend": false,
         "type": "scatter3d",
         "x": [
          -0.99281,
          -0.8890835512944006
         ],
         "y": [
          -3.33016,
          -3.4060195455236344
         ],
         "z": [
          1.5166,
          1.4734318772268842
         ]
        },
        {
         "line": {
          "color": "green",
          "dash": "dash",
          "width": 3
         },
         "mode": "lines",
         "showlegend": false,
         "type": "scatter3d",
         "x": [
          -1.82231,
          -1.8405827142066273
         ],
         "y": [
          -0.93396,
          -0.9336451951032122
         ],
         "z": [
          -1.0187,
          -0.9432842406406108
         ]
        },
        {
         "line": {
          "color": "green",
          "dash": "dash",
          "width": 3
         },
         "mode": "lines",
         "showlegend": false,
         "type": "scatter3d",
         "x": [
          -2.00801,
          -2.109685130467778
         ],
         "y": [
          -0.08796,
          0.5066232523753726
         ],
         "z": [
          -0.5656,
          -0.1634056867874875
         ]
        },
        {
         "line": {
          "color": "green",
          "dash": "dash",
          "width": 3
         },
         "mode": "lines",
         "showlegend": false,
         "type": "scatter3d",
         "x": [
          -1.66081,
          -1.596098364788617
         ],
         "y": [
          -1.56136,
          -1.5989761524161104
         ],
         "z": [
          -0.2879,
          -0.27120842636758175
         ]
        },
        {
         "line": {
          "color": "green",
          "dash": "dash",
          "width": 3
         },
         "mode": "lines",
         "showlegend": false,
         "type": "scatter3d",
         "x": [
          -0.38961,
          -0.43801906988573003
         ],
         "y": [
          0.10694,
          0.08008540527933238
         ],
         "z": [
          2.307,
          2.296013372033675
         ]
        },
        {
         "line": {
          "color": "green",
          "dash": "dash",
          "width": 3
         },
         "mode": "lines",
         "showlegend": false,
         "type": "scatter3d",
         "x": [
          -0.63841,
          -0.6460084628279747
         ],
         "y": [
          -0.81196,
          -0.8529348713922157
         ],
         "z": [
          2.087,
          2.0937763928650157
         ]
        },
        {
         "line": {
          "color": "green",
          "dash": "dash",
          "width": 3
         },
         "mode": "lines",
         "showlegend": false,
         "type": "scatter3d",
         "x": [
          -1.02221,
          -1.110079443615129
         ],
         "y": [
          0.65254,
          0.5784717624759473
         ],
         "z": [
          1.7998,
          1.792280433838256
         ]
        },
        {
         "line": {
          "color": "green",
          "dash": "dash",
          "width": 3
         },
         "mode": "lines",
         "showlegend": false,
         "type": "scatter3d",
         "x": [
          -2.08261,
          -2.173955676727232
         ],
         "y": [
          1.48014,
          1.3351011454262183
         ],
         "z": [
          0.4765,
          0.3928085593529217
         ]
        },
        {
         "line": {
          "color": "green",
          "dash": "dash",
          "width": 3
         },
         "mode": "lines",
         "showlegend": false,
         "type": "scatter3d",
         "x": [
          -1.55401,
          -1.1702971373977358
         ],
         "y": [
          2.18404,
          2.6313146998412513
         ],
         "z": [
          0.0166,
          -0.40068672593976884
         ]
        },
        {
         "line": {
          "color": "green",
          "dash": "dash",
          "width": 3
         },
         "mode": "lines",
         "showlegend": false,
         "type": "scatter3d",
         "x": [
          -2.94821,
          -3.1202993746775705
         ],
         "y": [
          1.87454,
          1.5060127331647013
         ],
         "z": [
          0.6395,
          0.4808844614282904
         ]
        },
        {
         "line": {
          "color": "green",
          "dash": "dash",
          "width": 3
         },
         "mode": "lines",
         "showlegend": false,
         "type": "scatter3d",
         "x": [
          1.58049,
          1.5948493937310955
         ],
         "y": [
          1.49354,
          1.4359623469092608
         ],
         "z": [
          -1.2387,
          -1.2943376106403663
         ]
        },
        {
         "line": {
          "color": "green",
          "dash": "dash",
          "width": 3
         },
         "mode": "lines",
         "showlegend": false,
         "type": "scatter3d",
         "x": [
          1.84519,
          1.8621474684754389
         ],
         "y": [
          1.14654,
          1.1729508870805703
         ],
         "z": [
          -0.3647,
          -0.3926460828789324
         ]
        },
        {
         "line": {
          "color": "green",
          "dash": "dash",
          "width": 3
         },
         "mode": "lines",
         "showlegend": false,
         "type": "scatter3d",
         "x": [
          1.29409,
          0.9911902445201749
         ],
         "y": [
          0.69824,
          0.07931222305383775
         ],
         "z": [
          -1.7291,
          -2.0345491027269262
         ]
        },
        {
         "line": {
          "color": "green",
          "dash": "dash",
          "width": 3
         },
         "mode": "lines",
         "showlegend": false,
         "type": "scatter3d",
         "x": [
          -0.50991,
          -0.5103995719152036
         ],
         "y": [
          3.15004,
          3.2085257150852295
         ],
         "z": [
          -0.9016,
          -0.8406622217929409
         ]
        },
        {
         "line": {
          "color": "green",
          "dash": "dash",
          "width": 3
         },
         "mode": "lines",
         "showlegend": false,
         "type": "scatter3d",
         "x": [
          0.28129,
          0.9150042027867986
         ],
         "y": [
          2.57444,
          2.1286820150113233
         ],
         "z": [
          -1.076,
          -1.1537196965096184
         ]
        },
        {
         "line": {
          "color": "green",
          "dash": "dash",
          "width": 3
         },
         "mode": "lines",
         "showlegend": false,
         "type": "scatter3d",
         "x": [
          -0.14531,
          -0.4067515884235686
         ],
         "y": [
          3.98724,
          3.9651517058977515
         ],
         "z": [
          -0.5908,
          -0.25084542350292355
         ]
        }
       ],
       "layout": {
        "scene": {
         "aspectmode": "data",
         "xaxis": {
          "title": {
           "text": "X"
          }
         },
         "yaxis": {
          "title": {
           "text": "Y"
          }
         },
         "zaxis": {
          "title": {
           "text": "Z"
          }
         }
        },
        "showlegend": true,
        "template": {
         "data": {
          "bar": [
           {
            "error_x": {
             "color": "#2a3f5f"
            },
            "error_y": {
             "color": "#2a3f5f"
            },
            "marker": {
             "line": {
              "color": "#E5ECF6",
              "width": 0.5
             },
             "pattern": {
              "fillmode": "overlay",
              "size": 10,
              "solidity": 0.2
             }
            },
            "type": "bar"
           }
          ],
          "barpolar": [
           {
            "marker": {
             "line": {
              "color": "#E5ECF6",
              "width": 0.5
             },
             "pattern": {
              "fillmode": "overlay",
              "size": 10,
              "solidity": 0.2
             }
            },
            "type": "barpolar"
           }
          ],
          "carpet": [
           {
            "aaxis": {
             "endlinecolor": "#2a3f5f",
             "gridcolor": "white",
             "linecolor": "white",
             "minorgridcolor": "white",
             "startlinecolor": "#2a3f5f"
            },
            "baxis": {
             "endlinecolor": "#2a3f5f",
             "gridcolor": "white",
             "linecolor": "white",
             "minorgridcolor": "white",
             "startlinecolor": "#2a3f5f"
            },
            "type": "carpet"
           }
          ],
          "choropleth": [
           {
            "colorbar": {
             "outlinewidth": 0,
             "ticks": ""
            },
            "type": "choropleth"
           }
          ],
          "contour": [
           {
            "colorbar": {
             "outlinewidth": 0,
             "ticks": ""
            },
            "colorscale": [
             [
              0,
              "#0d0887"
             ],
             [
              0.1111111111111111,
              "#46039f"
             ],
             [
              0.2222222222222222,
              "#7201a8"
             ],
             [
              0.3333333333333333,
              "#9c179e"
             ],
             [
              0.4444444444444444,
              "#bd3786"
             ],
             [
              0.5555555555555556,
              "#d8576b"
             ],
             [
              0.6666666666666666,
              "#ed7953"
             ],
             [
              0.7777777777777778,
              "#fb9f3a"
             ],
             [
              0.8888888888888888,
              "#fdca26"
             ],
             [
              1,
              "#f0f921"
             ]
            ],
            "type": "contour"
           }
          ],
          "contourcarpet": [
           {
            "colorbar": {
             "outlinewidth": 0,
             "ticks": ""
            },
            "type": "contourcarpet"
           }
          ],
          "heatmap": [
           {
            "colorbar": {
             "outlinewidth": 0,
             "ticks": ""
            },
            "colorscale": [
             [
              0,
              "#0d0887"
             ],
             [
              0.1111111111111111,
              "#46039f"
             ],
             [
              0.2222222222222222,
              "#7201a8"
             ],
             [
              0.3333333333333333,
              "#9c179e"
             ],
             [
              0.4444444444444444,
              "#bd3786"
             ],
             [
              0.5555555555555556,
              "#d8576b"
             ],
             [
              0.6666666666666666,
              "#ed7953"
             ],
             [
              0.7777777777777778,
              "#fb9f3a"
             ],
             [
              0.8888888888888888,
              "#fdca26"
             ],
             [
              1,
              "#f0f921"
             ]
            ],
            "type": "heatmap"
           }
          ],
          "histogram": [
           {
            "marker": {
             "pattern": {
              "fillmode": "overlay",
              "size": 10,
              "solidity": 0.2
             }
            },
            "type": "histogram"
           }
          ],
          "histogram2d": [
           {
            "colorbar": {
             "outlinewidth": 0,
             "ticks": ""
            },
            "colorscale": [
             [
              0,
              "#0d0887"
             ],
             [
              0.1111111111111111,
              "#46039f"
             ],
             [
              0.2222222222222222,
              "#7201a8"
             ],
             [
              0.3333333333333333,
              "#9c179e"
             ],
             [
              0.4444444444444444,
              "#bd3786"
             ],
             [
              0.5555555555555556,
              "#d8576b"
             ],
             [
              0.6666666666666666,
              "#ed7953"
             ],
             [
              0.7777777777777778,
              "#fb9f3a"
             ],
             [
              0.8888888888888888,
              "#fdca26"
             ],
             [
              1,
              "#f0f921"
             ]
            ],
            "type": "histogram2d"
           }
          ],
          "histogram2dcontour": [
           {
            "colorbar": {
             "outlinewidth": 0,
             "ticks": ""
            },
            "colorscale": [
             [
              0,
              "#0d0887"
             ],
             [
              0.1111111111111111,
              "#46039f"
             ],
             [
              0.2222222222222222,
              "#7201a8"
             ],
             [
              0.3333333333333333,
              "#9c179e"
             ],
             [
              0.4444444444444444,
              "#bd3786"
             ],
             [
              0.5555555555555556,
              "#d8576b"
             ],
             [
              0.6666666666666666,
              "#ed7953"
             ],
             [
              0.7777777777777778,
              "#fb9f3a"
             ],
             [
              0.8888888888888888,
              "#fdca26"
             ],
             [
              1,
              "#f0f921"
             ]
            ],
            "type": "histogram2dcontour"
           }
          ],
          "mesh3d": [
           {
            "colorbar": {
             "outlinewidth": 0,
             "ticks": ""
            },
            "type": "mesh3d"
           }
          ],
          "parcoords": [
           {
            "line": {
             "colorbar": {
              "outlinewidth": 0,
              "ticks": ""
             }
            },
            "type": "parcoords"
           }
          ],
          "pie": [
           {
            "automargin": true,
            "type": "pie"
           }
          ],
          "scatter": [
           {
            "fillpattern": {
             "fillmode": "overlay",
             "size": 10,
             "solidity": 0.2
            },
            "type": "scatter"
           }
          ],
          "scatter3d": [
           {
            "line": {
             "colorbar": {
              "outlinewidth": 0,
              "ticks": ""
             }
            },
            "marker": {
             "colorbar": {
              "outlinewidth": 0,
              "ticks": ""
             }
            },
            "type": "scatter3d"
           }
          ],
          "scattercarpet": [
           {
            "marker": {
             "colorbar": {
              "outlinewidth": 0,
              "ticks": ""
             }
            },
            "type": "scattercarpet"
           }
          ],
          "scattergeo": [
           {
            "marker": {
             "colorbar": {
              "outlinewidth": 0,
              "ticks": ""
             }
            },
            "type": "scattergeo"
           }
          ],
          "scattergl": [
           {
            "marker": {
             "colorbar": {
              "outlinewidth": 0,
              "ticks": ""
             }
            },
            "type": "scattergl"
           }
          ],
          "scattermap": [
           {
            "marker": {
             "colorbar": {
              "outlinewidth": 0,
              "ticks": ""
             }
            },
            "type": "scattermap"
           }
          ],
          "scattermapbox": [
           {
            "marker": {
             "colorbar": {
              "outlinewidth": 0,
              "ticks": ""
             }
            },
            "type": "scattermapbox"
           }
          ],
          "scatterpolar": [
           {
            "marker": {
             "colorbar": {
              "outlinewidth": 0,
              "ticks": ""
             }
            },
            "type": "scatterpolar"
           }
          ],
          "scatterpolargl": [
           {
            "marker": {
             "colorbar": {
              "outlinewidth": 0,
              "ticks": ""
             }
            },
            "type": "scatterpolargl"
           }
          ],
          "scatterternary": [
           {
            "marker": {
             "colorbar": {
              "outlinewidth": 0,
              "ticks": ""
             }
            },
            "type": "scatterternary"
           }
          ],
          "surface": [
           {
            "colorbar": {
             "outlinewidth": 0,
             "ticks": ""
            },
            "colorscale": [
             [
              0,
              "#0d0887"
             ],
             [
              0.1111111111111111,
              "#46039f"
             ],
             [
              0.2222222222222222,
              "#7201a8"
             ],
             [
              0.3333333333333333,
              "#9c179e"
             ],
             [
              0.4444444444444444,
              "#bd3786"
             ],
             [
              0.5555555555555556,
              "#d8576b"
             ],
             [
              0.6666666666666666,
              "#ed7953"
             ],
             [
              0.7777777777777778,
              "#fb9f3a"
             ],
             [
              0.8888888888888888,
              "#fdca26"
             ],
             [
              1,
              "#f0f921"
             ]
            ],
            "type": "surface"
           }
          ],
          "table": [
           {
            "cells": {
             "fill": {
              "color": "#EBF0F8"
             },
             "line": {
              "color": "white"
             }
            },
            "header": {
             "fill": {
              "color": "#C8D4E3"
             },
             "line": {
              "color": "white"
             }
            },
            "type": "table"
           }
          ]
         },
         "layout": {
          "annotationdefaults": {
           "arrowcolor": "#2a3f5f",
           "arrowhead": 0,
           "arrowwidth": 1
          },
          "autotypenumbers": "strict",
          "coloraxis": {
           "colorbar": {
            "outlinewidth": 0,
            "ticks": ""
           }
          },
          "colorscale": {
           "diverging": [
            [
             0,
             "#8e0152"
            ],
            [
             0.1,
             "#c51b7d"
            ],
            [
             0.2,
             "#de77ae"
            ],
            [
             0.3,
             "#f1b6da"
            ],
            [
             0.4,
             "#fde0ef"
            ],
            [
             0.5,
             "#f7f7f7"
            ],
            [
             0.6,
             "#e6f5d0"
            ],
            [
             0.7,
             "#b8e186"
            ],
            [
             0.8,
             "#7fbc41"
            ],
            [
             0.9,
             "#4d9221"
            ],
            [
             1,
             "#276419"
            ]
           ],
           "sequential": [
            [
             0,
             "#0d0887"
            ],
            [
             0.1111111111111111,
             "#46039f"
            ],
            [
             0.2222222222222222,
             "#7201a8"
            ],
            [
             0.3333333333333333,
             "#9c179e"
            ],
            [
             0.4444444444444444,
             "#bd3786"
            ],
            [
             0.5555555555555556,
             "#d8576b"
            ],
            [
             0.6666666666666666,
             "#ed7953"
            ],
            [
             0.7777777777777778,
             "#fb9f3a"
            ],
            [
             0.8888888888888888,
             "#fdca26"
            ],
            [
             1,
             "#f0f921"
            ]
           ],
           "sequentialminus": [
            [
             0,
             "#0d0887"
            ],
            [
             0.1111111111111111,
             "#46039f"
            ],
            [
             0.2222222222222222,
             "#7201a8"
            ],
            [
             0.3333333333333333,
             "#9c179e"
            ],
            [
             0.4444444444444444,
             "#bd3786"
            ],
            [
             0.5555555555555556,
             "#d8576b"
            ],
            [
             0.6666666666666666,
             "#ed7953"
            ],
            [
             0.7777777777777778,
             "#fb9f3a"
            ],
            [
             0.8888888888888888,
             "#fdca26"
            ],
            [
             1,
             "#f0f921"
            ]
           ]
          },
          "colorway": [
           "#636efa",
           "#EF553B",
           "#00cc96",
           "#ab63fa",
           "#FFA15A",
           "#19d3f3",
           "#FF6692",
           "#B6E880",
           "#FF97FF",
           "#FECB52"
          ],
          "font": {
           "color": "#2a3f5f"
          },
          "geo": {
           "bgcolor": "white",
           "lakecolor": "white",
           "landcolor": "#E5ECF6",
           "showlakes": true,
           "showland": true,
           "subunitcolor": "white"
          },
          "hoverlabel": {
           "align": "left"
          },
          "hovermode": "closest",
          "mapbox": {
           "style": "light"
          },
          "paper_bgcolor": "white",
          "plot_bgcolor": "#E5ECF6",
          "polar": {
           "angularaxis": {
            "gridcolor": "white",
            "linecolor": "white",
            "ticks": ""
           },
           "bgcolor": "#E5ECF6",
           "radialaxis": {
            "gridcolor": "white",
            "linecolor": "white",
            "ticks": ""
           }
          },
          "scene": {
           "xaxis": {
            "backgroundcolor": "#E5ECF6",
            "gridcolor": "white",
            "gridwidth": 2,
            "linecolor": "white",
            "showbackground": true,
            "ticks": "",
            "zerolinecolor": "white"
           },
           "yaxis": {
            "backgroundcolor": "#E5ECF6",
            "gridcolor": "white",
            "gridwidth": 2,
            "linecolor": "white",
            "showbackground": true,
            "ticks": "",
            "zerolinecolor": "white"
           },
           "zaxis": {
            "backgroundcolor": "#E5ECF6",
            "gridcolor": "white",
            "gridwidth": 2,
            "linecolor": "white",
            "showbackground": true,
            "ticks": "",
            "zerolinecolor": "white"
           }
          },
          "shapedefaults": {
           "line": {
            "color": "#2a3f5f"
           }
          },
          "ternary": {
           "aaxis": {
            "gridcolor": "white",
            "linecolor": "white",
            "ticks": ""
           },
           "baxis": {
            "gridcolor": "white",
            "linecolor": "white",
            "ticks": ""
           },
           "bgcolor": "#E5ECF6",
           "caxis": {
            "gridcolor": "white",
            "linecolor": "white",
            "ticks": ""
           }
          },
          "title": {
           "x": 0.05
          },
          "xaxis": {
           "automargin": true,
           "gridcolor": "white",
           "linecolor": "white",
           "ticks": "",
           "title": {
            "standoff": 15
           },
           "zerolinecolor": "white",
           "zerolinewidth": 2
          },
          "yaxis": {
           "automargin": true,
           "gridcolor": "white",
           "linecolor": "white",
           "ticks": "",
           "title": {
            "standoff": 15
           },
           "zerolinecolor": "white",
           "zerolinewidth": 2
          }
         }
        },
        "title": {
         "text": "Water Clusters Alignment"
        }
       }
      }
     },
     "metadata": {},
     "output_type": "display_data"
    }
   ],
   "source": [
    "molA = next(pybel.readfile('xyz', os.path.join(data_path, '9-D2dDD.xyz')))\n",
    "molB = next(pybel.readfile('xyz', os.path.join('./ArbAlignOutput', '9-S4DA-aligned_to-9-D2dDD.xyz')))\n",
    "\n",
    "X_A, T_A, B_A = otm.tl.process_molecule(molA) # Output (1) spatial coordinates, (2) atom types, and (3) bonds as numpy arrays.\n",
    "X_B, T_B, B_B = otm.tl.process_molecule(molB)\n",
    "X_B_aligned = otm.tl.molecule_alignment_allow_reflection(X_A, X_B, np.eye(len(X_A)))\n",
    "alignment_plot(X_A, X_B_aligned, B_A, B_B, T_A, T_B)"
   ]
  }
 ],
 "metadata": {
  "kernelspec": {
   "display_name": "py39",
   "language": "python",
   "name": "python3"
  },
  "language_info": {
   "codemirror_mode": {
    "name": "ipython",
    "version": 3
   },
   "file_extension": ".py",
   "mimetype": "text/x-python",
   "name": "python",
   "nbconvert_exporter": "python",
   "pygments_lexer": "ipython3",
   "version": "3.9.16"
  }
 },
 "nbformat": 4,
 "nbformat_minor": 2
}
