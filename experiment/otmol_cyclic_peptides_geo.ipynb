{
 "cells": [
  {
   "cell_type": "code",
   "execution_count": 1,
   "metadata": {},
   "outputs": [],
   "source": [
    "import numpy as np\n",
    "import otmol as otm\n",
    "import pandas as pd\n",
    "from openbabel import pybel\n",
    "import matplotlib.pyplot as plt\n",
    "import seaborn as sns\n",
    "import os\n",
    "from experiment_utils import cp_experiment, interactive_alignment_plot_py3dmol\n",
    "# %matplotlib widget"
   ]
  },
  {
   "cell_type": "markdown",
   "metadata": {},
   "source": [
    "Backbone most similar"
   ]
  },
  {
   "cell_type": "code",
   "execution_count": 3,
   "metadata": {},
   "outputs": [
    {
     "data": {
      "text/html": [
       "<div>\n",
       "<style scoped>\n",
       "    .dataframe tbody tr th:only-of-type {\n",
       "        vertical-align: middle;\n",
       "    }\n",
       "\n",
       "    .dataframe tbody tr th {\n",
       "        vertical-align: top;\n",
       "    }\n",
       "\n",
       "    .dataframe thead th {\n",
       "        text-align: right;\n",
       "    }\n",
       "</style>\n",
       "<table border=\"1\" class=\"dataframe\">\n",
       "  <thead>\n",
       "    <tr style=\"text-align: right;\">\n",
       "      <th></th>\n",
       "      <th>RMSD</th>\n",
       "      <th>folder</th>\n",
       "      <th>reference</th>\n",
       "      <th>subfolder</th>\n",
       "      <th>target</th>\n",
       "      <th>mer</th>\n",
       "    </tr>\n",
       "  </thead>\n",
       "  <tbody>\n",
       "    <tr>\n",
       "      <th>0</th>\n",
       "      <td>1.307</td>\n",
       "      <td>../Backbone_Most_Similar</td>\n",
       "      <td>ALPRAL10_2_fixed_backbone.xyz</td>\n",
       "      <td>c4mers</td>\n",
       "      <td>CEJSUF_fixed_backbone.xyz</td>\n",
       "      <td>4</td>\n",
       "    </tr>\n",
       "    <tr>\n",
       "      <th>1</th>\n",
       "      <td>0.070</td>\n",
       "      <td>../Backbone_Most_Similar</td>\n",
       "      <td>CGPGAP10_fixed_backbone.xyz</td>\n",
       "      <td>c5mers</td>\n",
       "      <td>PAPGAP_fixed_backbone.xyz</td>\n",
       "      <td>5</td>\n",
       "    </tr>\n",
       "    <tr>\n",
       "      <th>2</th>\n",
       "      <td>0.107</td>\n",
       "      <td>../Backbone_Most_Similar</td>\n",
       "      <td>BIHXUL10_fixed_backbone.xyz</td>\n",
       "      <td>c6mers</td>\n",
       "      <td>CINYED_fixed_backbone.xyz</td>\n",
       "      <td>6</td>\n",
       "    </tr>\n",
       "    <tr>\n",
       "      <th>3</th>\n",
       "      <td>0.322</td>\n",
       "      <td>../Backbone_Most_Similar</td>\n",
       "      <td>LACSUD_fixed_backbone.xyz</td>\n",
       "      <td>c7mers</td>\n",
       "      <td>TALVAD_fixed_backbone.xyz</td>\n",
       "      <td>7</td>\n",
       "    </tr>\n",
       "    <tr>\n",
       "      <th>4</th>\n",
       "      <td>2.303</td>\n",
       "      <td>../Backbone_Most_Similar</td>\n",
       "      <td>EVAPUM_fixed_backbone.xyz</td>\n",
       "      <td>c8mers</td>\n",
       "      <td>UZUKUW_fixed_backbone.xyz</td>\n",
       "      <td>8</td>\n",
       "    </tr>\n",
       "  </tbody>\n",
       "</table>\n",
       "</div>"
      ],
      "text/plain": [
       "    RMSD                    folder                      reference subfolder  \\\n",
       "0  1.307  ../Backbone_Most_Similar  ALPRAL10_2_fixed_backbone.xyz    c4mers   \n",
       "1  0.070  ../Backbone_Most_Similar    CGPGAP10_fixed_backbone.xyz    c5mers   \n",
       "2  0.107  ../Backbone_Most_Similar    BIHXUL10_fixed_backbone.xyz    c6mers   \n",
       "3  0.322  ../Backbone_Most_Similar      LACSUD_fixed_backbone.xyz    c7mers   \n",
       "4  2.303  ../Backbone_Most_Similar      EVAPUM_fixed_backbone.xyz    c8mers   \n",
       "\n",
       "                      target  mer  \n",
       "0  CEJSUF_fixed_backbone.xyz    4  \n",
       "1  PAPGAP_fixed_backbone.xyz    5  \n",
       "2  CINYED_fixed_backbone.xyz    6  \n",
       "3  TALVAD_fixed_backbone.xyz    7  \n",
       "4  UZUKUW_fixed_backbone.xyz    8  "
      ]
     },
     "execution_count": 3,
     "metadata": {},
     "output_type": "execute_result"
    }
   ],
   "source": [
    "group1_data_path = \"../Data/Our_Benchmark_20250410_ver1/Cyclic_Peptide/Backbone_Most_Similar\"\n",
    "group1_info = pd.read_csv('../Data/Our_Benchmark_20250410_ver1/Cyclic_Peptide/Backbone_Most_similar_dihedral_angle.csv')\n",
    "group1_info"
   ]
  },
  {
   "cell_type": "code",
   "execution_count": 4,
   "metadata": {},
   "outputs": [
    {
     "name": "stdout",
     "output_type": "stream",
     "text": [
      "ALPRAL10_2_fixed_backbone.xyz CEJSUF_fixed_backbone.xyz 0.11 0\n",
      "CGPGAP10_fixed_backbone.xyz PAPGAP_fixed_backbone.xyz 0.07 0\n",
      "BIHXUL10_fixed_backbone.xyz CINYED_fixed_backbone.xyz 0.11 0\n",
      "LACSUD_fixed_backbone.xyz TALVAD_fixed_backbone.xyz 0.32 0\n",
      "EVAPUM_fixed_backbone.xyz UZUKUW_fixed_backbone.xyz 0.20 0\n"
     ]
    }
   ],
   "source": [
    "group1_res = cp_experiment(\n",
    "    group1_data_path, \n",
    "    zip(group1_info['subfolder'], group1_info['reference'], group1_info['target']), \n",
    "    alpha_list=np.linspace(0,1,101), \n",
    "    dataset_name = 'most_similar', \n",
    "    cst_D = 1,\n",
    "    save = True)"
   ]
  },
  {
   "cell_type": "code",
   "execution_count": 6,
   "metadata": {},
   "outputs": [
    {
     "data": {
      "image/png": "[encoded data removed]",
      "text/plain": [
       "<Figure size 360x216 with 1 Axes>"
      ]
     },
     "metadata": {
      "needs_background": "light"
     },
     "output_type": "display_data"
    }
   ],
   "source": [
    "# Data preparation\n",
    "arbalign_res = pd.read_csv('./arbalign_output/cp_most_similar_result.csv')['RMSD(ArbAlign)']\n",
    "combined_df = pd.concat([group1_res, group1_info, arbalign_res], axis=1).rename(columns={'RMSD(ArbAlign)': 'ArbAlign', 'RMSD(OTMol)': 'OTMol'})\n",
    "columns_to_plot = [\"ArbAlign\", \"OTMol\"]\n",
    "\n",
    "# Set the style\n",
    "sns.set_style(\"whitegrid\")\n",
    "sns.set_context(\"paper\", font_scale=1.5)\n",
    "sns.set_palette(\"Set1\")  \n",
    "\n",
    "# Create the plot\n",
    "plt.figure(figsize=(5,3))\n",
    "sns.lineplot(data=combined_df, x='mer', y='ArbAlign', marker='o', label='ArbAlign')\n",
    "sns.lineplot(data=combined_df, x='mer', y='OTMol', marker='o', label='OTMol')\n",
    "\n",
    "# Customize the plot\n",
    "plt.title(\"Most similar dihedral angles\")\n",
    "plt.ylabel(\"RMSD\")\n",
    "plt.xlabel(\"\")\n",
    "plt.ylim(0, 3)\n",
    "plt.xticks(range(4,9), ['4 mer', '5 mer', '6 mer', '7 mer', '8 mer'])\n",
    "plt.legend()\n",
    "\n",
    "# Save the figure\n",
    "plt.savefig('../images/cp_most_similar.png', dpi=300, bbox_inches='tight')"
   ]
  },
  {
   "cell_type": "code",
   "execution_count": 5,
   "metadata": {},
   "outputs": [
    {
     "data": {
      "application/3dmoljs_load.v0": "<div id=\"3dmolviewer_1750203425678561\"  style=\"position: relative; width: 800px; height: 600px;\">\n        <p id=\"3dmolwarning_1750203425678561\" style=\"background-color:#ffcccc;color:black\">3Dmol.js failed to load for some reason.  Please check your browser console for error messages.<br></p>\n        </div>\n<script>\n\nvar loadScriptAsync = function(uri){\n  return new Promise((resolve, reject) => {\n    //this is to ignore the existence of requirejs amd\n    var savedexports, savedmodule;\n    if (typeof exports !== 'undefined') savedexports = exports;\n    else exports = {}\n    if (typeof module !== 'undefined') savedmodule = module;\n    else module = {}\n\n    var tag = document.createElement('script');\n    tag.src = uri;\n    tag.async = true;\n    tag.onload = () => {\n        exports = savedexports;\n        module = savedmodule;\n        resolve();\n    };\n  var firstScriptTag = document.getElementsByTagName('script')[0];\n  firstScriptTag.parentNode.insertBefore(tag, firstScriptTag);\n});\n};\n\nif(typeof $3Dmolpromise === 'undefined') {\n$3Dmolpromise = null;\n  $3Dmolpromise = loadScriptAsync('https://cdnjs.cloudflare.com/ajax/libs/3Dmol/2.4.2/3Dmol-min.js');\n}\n\nvar viewer_1750203425678561 = null;\nvar warn = document.getElementById(\"3dmolwarning_1750203425678561\");\nif(warn) {\n    warn.parentNode.removeChild(warn);\n}\n$3Dmolpromise.then(function() {\nviewer_1750203425678561 = $3Dmol.createViewer(document.getElementById(\"3dmolviewer_1750203425678561\"),{backgroundColor:\"white\"});\nviewer_1750203425678561.zoomTo();\n\tviewer_1750203425678561.addModel(\"16\\nALPRAL10_2\\nN    2.605    7.268    8.993\\nC    2.496    7.668    7.588\\nC    2.966    6.517    6.732\\nO    4.014    6.588    6.085\\nN    2.199    5.401    6.687\\nC    0.901    5.221    7.312\\nC    0.919    4.647    8.754\\nO   -0.131    4.583    9.352\\nN    2.090    4.247    9.240\\nC    2.231    3.781   10.624\\nC    3.250    4.676   11.376\\nO    4.237    4.178   11.903\\nN    3.046    5.999   11.421\\nC    1.759    6.672   11.221\\nC    1.564    7.328    9.847\\nO    0.496    7.868    9.593\\n\",\"xyz\");\n\tviewer_1750203425678561.addModel(\"16\\nCEJSUF\\nN    2.281    5.404    6.754\\nC    0.963    5.211    7.358\\nC    0.914    4.618    8.772\\nO   -0.159    4.494    9.334\\nN    2.086    4.248    9.307\\nC    2.204    3.781   10.670\\nC    3.228    4.628   11.436\\nO    4.173    4.130   12.024\\nN    3.019    5.977   11.441\\nC    1.773    6.686   11.199\\nC    1.606    7.325    9.835\\nO    0.542    7.873    9.548\\nN    2.636    7.240    8.979\\nC    2.566    7.718    7.602\\nC    2.964    6.595    6.642\\nO    3.846    6.715    5.828\\n\",\"xyz\");\n\tviewer_1750203425678561.setStyle({\"model\": 0},{\"stick\": {\"radius\": 0.06, \"color\": \"#DC2626\"}, \"sphere\": {\"radius\": 0.15, \"color\": \"#DC2626\"}});\n\tviewer_1750203425678561.setStyle({\"model\": 1},{\"stick\": {\"radius\": 0.06, \"color\": \"#2563EB\"}, \"sphere\": {\"radius\": 0.15, \"color\": \"#2563EB\"}});\n\tviewer_1750203425678561.addCylinder({\"start\": {\"x\": 2.605, \"y\": 7.268, \"z\": 8.993}, \"end\": {\"x\": 2.6364251080203918, \"y\": 7.2403416024133245, \"z\": 8.978885308376507}, \"color\": \"green\", \"radius\": 0.03, \"dashed\": false});\n\tviewer_1750203425678561.addCylinder({\"start\": {\"x\": 2.496, \"y\": 7.668, \"z\": 7.588}, \"end\": {\"x\": 2.5663037442339993, \"y\": 7.718007606102018, \"z\": 7.602411849402157}, \"color\": \"green\", \"radius\": 0.03, \"dashed\": false});\n\tviewer_1750203425678561.addCylinder({\"start\": {\"x\": 2.966, \"y\": 6.517, \"z\": 6.732}, \"end\": {\"x\": 2.9635500903375402, \"y\": 6.594629412612632, \"z\": 6.641661738863568}, \"color\": \"green\", \"radius\": 0.03, \"dashed\": false});\n\tviewer_1750203425678561.addCylinder({\"start\": {\"x\": 4.014, \"y\": 6.588, \"z\": 6.085}, \"end\": {\"x\": 3.845877955164839, \"y\": 6.714578997969793, \"z\": 5.8276902185252055}, \"color\": \"green\", \"radius\": 0.03, \"dashed\": false});\n\tviewer_1750203425678561.addCylinder({\"start\": {\"x\": 2.199, \"y\": 5.401, \"z\": 6.687}, \"end\": {\"x\": 2.281422389210185, \"y\": 5.403597487987671, \"z\": 6.753562381752127}, \"color\": \"green\", \"radius\": 0.03, \"dashed\": false});\n\tviewer_1750203425678561.addCylinder({\"start\": {\"x\": 0.901, \"y\": 5.221, \"z\": 7.312}, \"end\": {\"x\": 0.9629687721189271, \"y\": 5.210549068833231, \"z\": 7.357941705886354}, \"color\": \"green\", \"radius\": 0.03, \"dashed\": false});\n\tviewer_1750203425678561.addCylinder({\"start\": {\"x\": 0.919, \"y\": 4.647, \"z\": 8.754}, \"end\": {\"x\": 0.9139065041155554, \"y\": 4.617870024244278, \"z\": 8.772300021152855}, \"color\": \"green\", \"radius\": 0.03, \"dashed\": false});\n\tviewer_1750203425678561.addCylinder({\"start\": {\"x\": -0.131, \"y\": 4.583, \"z\": 9.352}, \"end\": {\"x\": -0.15926978976294315, \"y\": 4.494204315472491, \"z\": 9.333573960269202}, \"color\": \"green\", \"radius\": 0.03, \"dashed\": false});\n\tviewer_1750203425678561.addCylinder({\"start\": {\"x\": 2.09, \"y\": 4.247, \"z\": 9.24}, \"end\": {\"x\": 2.0857644339131767, \"y\": 4.248437811101001, \"z\": 9.307151245571845}, \"color\": \"green\", \"radius\": 0.03, \"dashed\": false});\n\tviewer_1750203425678561.addCylinder({\"start\": {\"x\": 2.231, \"y\": 3.781, \"z\": 10.624}, \"end\": {\"x\": 2.204127636593115, \"y\": 3.7805878580784897, \"z\": 10.670231791140662}, \"color\": \"green\", \"radius\": 0.03, \"dashed\": false});\n\tviewer_1750203425678561.addCylinder({\"start\": {\"x\": 3.25, \"y\": 4.676, \"z\": 11.376}, \"end\": {\"x\": 3.2278995394294006, \"y\": 4.627649068746194, \"z\": 11.436341049892398}, \"color\": \"green\", \"radius\": 0.03, \"dashed\": false});\n\tviewer_1750203425678561.addCylinder({\"start\": {\"x\": 4.237, \"y\": 4.178, \"z\": 11.903}, \"end\": {\"x\": 4.172925917111451, \"y\": 4.130003069794073, \"z\": 12.024330510012295}, \"color\": \"green\", \"radius\": 0.03, \"dashed\": false});\n\tviewer_1750203425678561.addCylinder({\"start\": {\"x\": 3.046, \"y\": 5.999, \"z\": 11.421}, \"end\": {\"x\": 3.0190682381483183, \"y\": 5.977234046052747, \"z\": 11.440685774708154}, \"color\": \"green\", \"radius\": 0.03, \"dashed\": false});\n\tviewer_1750203425678561.addCylinder({\"start\": {\"x\": 1.759, \"y\": 6.672, \"z\": 11.221}, \"end\": {\"x\": 1.773304152662229, \"y\": 6.686205387805163, \"z\": 11.19864346459113}, \"color\": \"green\", \"radius\": 0.03, \"dashed\": false});\n\tviewer_1750203425678561.addCylinder({\"start\": {\"x\": 1.564, \"y\": 7.328, \"z\": 9.847}, \"end\": {\"x\": 1.6061060890086774, \"y\": 7.32477057510832, \"z\": 9.834880908617773}, \"color\": \"green\", \"radius\": 0.03, \"dashed\": false});\n\tviewer_1750203425678561.addCylinder({\"start\": {\"x\": 0.496, \"y\": 7.868, \"z\": 9.593}, \"end\": {\"x\": 0.541619219695149, \"y\": 7.873333667678551, \"z\": 9.547708071237796}, \"color\": \"green\", \"radius\": 0.03, \"dashed\": false});\n\tviewer_1750203425678561.zoomTo();\n\tviewer_1750203425678561.setBackgroundColor(\"white\");\nviewer_1750203425678561.render();\n});\n</script>",
      "text/html": [
       "<div id=\"3dmolviewer_1750203425678561\"  style=\"position: relative; width: 800px; height: 600px;\">\n",
       "        <p id=\"3dmolwarning_1750203425678561\" style=\"background-color:#ffcccc;color:black\">3Dmol.js failed to load for some reason.  Please check your browser console for error messages.<br></p>\n",
       "        </div>\n",
       "<script>\n",
       "\n",
       "var loadScriptAsync = function(uri){\n",
       "  return new Promise((resolve, reject) => {\n",
       "    //this is to ignore the existence of requirejs amd\n",
       "    var savedexports, savedmodule;\n",
       "    if (typeof exports !== 'undefined') savedexports = exports;\n",
       "    else exports = {}\n",
       "    if (typeof module !== 'undefined') savedmodule = module;\n",
       "    else module = {}\n",
       "\n",
       "    var tag = document.createElement('script');\n",
       "    tag.src = uri;\n",
       "    tag.async = true;\n",
       "    tag.onload = () => {\n",
       "        exports = savedexports;\n",
       "        module = savedmodule;\n",
       "        resolve();\n",
       "    };\n",
       "  var firstScriptTag = document.getElementsByTagName('script')[0];\n",
       "  firstScriptTag.parentNode.insertBefore(tag, firstScriptTag);\n",
       "});\n",
       "};\n",
       "\n",
       "if(typeof $3Dmolpromise === 'undefined') {\n",
       "$3Dmolpromise = null;\n",
       "  $3Dmolpromise = loadScriptAsync('https://cdnjs.cloudflare.com/ajax/libs/3Dmol/2.4.2/3Dmol-min.js');\n",
       "}\n",
       "\n",
       "var viewer_1750203425678561 = null;\n",
       "var warn = document.getElementById(\"3dmolwarning_1750203425678561\");\n",
       "if(warn) {\n",
       "    warn.parentNode.removeChild(warn);\n",
       "}\n",
       "$3Dmolpromise.then(function() {\n",
       "viewer_1750203425678561 = $3Dmol.createViewer(document.getElementById(\"3dmolviewer_1750203425678561\"),{backgroundColor:\"white\"});\n",
       "viewer_1750203425678561.zoomTo();\n",
       "\tviewer_1750203425678561.addModel(\"16\\nALPRAL10_2\\nN    2.605    7.268    8.993\\nC    2.496    7.668    7.588\\nC    2.966    6.517    6.732\\nO    4.014    6.588    6.085\\nN    2.199    5.401    6.687\\nC    0.901    5.221    7.312\\nC    0.919    4.647    8.754\\nO   -0.131    4.583    9.352\\nN    2.090    4.247    9.240\\nC    2.231    3.781   10.624\\nC    3.250    4.676   11.376\\nO    4.237    4.178   11.903\\nN    3.046    5.999   11.421\\nC    1.759    6.672   11.221\\nC    1.564    7.328    9.847\\nO    0.496    7.868    9.593\\n\",\"xyz\");\n",
       "\tviewer_1750203425678561.addModel(\"16\\nCEJSUF\\nN    2.281    5.404    6.754\\nC    0.963    5.211    7.358\\nC    0.914    4.618    8.772\\nO   -0.159    4.494    9.334\\nN    2.086    4.248    9.307\\nC    2.204    3.781   10.670\\nC    3.228    4.628   11.436\\nO    4.173    4.130   12.024\\nN    3.019    5.977   11.441\\nC    1.773    6.686   11.199\\nC    1.606    7.325    9.835\\nO    0.542    7.873    9.548\\nN    2.636    7.240    8.979\\nC    2.566    7.718    7.602\\nC    2.964    6.595    6.642\\nO    3.846    6.715    5.828\\n\",\"xyz\");\n",
       "\tviewer_1750203425678561.setStyle({\"model\": 0},{\"stick\": {\"radius\": 0.06, \"color\": \"#DC2626\"}, \"sphere\": {\"radius\": 0.15, \"color\": \"#DC2626\"}});\n",
       "\tviewer_1750203425678561.setStyle({\"model\": 1},{\"stick\": {\"radius\": 0.06, \"color\": \"#2563EB\"}, \"sphere\": {\"radius\": 0.15, \"color\": \"#2563EB\"}});\n",
       "\tviewer_1750203425678561.addCylinder({\"start\": {\"x\": 2.605, \"y\": 7.268, \"z\": 8.993}, \"end\": {\"x\": 2.6364251080203918, \"y\": 7.2403416024133245, \"z\": 8.978885308376507}, \"color\": \"green\", \"radius\": 0.03, \"dashed\": false});\n",
       "\tviewer_1750203425678561.addCylinder({\"start\": {\"x\": 2.496, \"y\": 7.668, \"z\": 7.588}, \"end\": {\"x\": 2.5663037442339993, \"y\": 7.718007606102018, \"z\": 7.602411849402157}, \"color\": \"green\", \"radius\": 0.03, \"dashed\": false});\n",
       "\tviewer_1750203425678561.addCylinder({\"start\": {\"x\": 2.966, \"y\": 6.517, \"z\": 6.732}, \"end\": {\"x\": 2.9635500903375402, \"y\": 6.594629412612632, \"z\": 6.641661738863568}, \"color\": \"green\", \"radius\": 0.03, \"dashed\": false});\n",
       "\tviewer_1750203425678561.addCylinder({\"start\": {\"x\": 4.014, \"y\": 6.588, \"z\": 6.085}, \"end\": {\"x\": 3.845877955164839, \"y\": 6.714578997969793, \"z\": 5.8276902185252055}, \"color\": \"green\", \"radius\": 0.03, \"dashed\": false});\n",
       "\tviewer_1750203425678561.addCylinder({\"start\": {\"x\": 2.199, \"y\": 5.401, \"z\": 6.687}, \"end\": {\"x\": 2.281422389210185, \"y\": 5.403597487987671, \"z\": 6.753562381752127}, \"color\": \"green\", \"radius\": 0.03, \"dashed\": false});\n",
       "\tviewer_1750203425678561.addCylinder({\"start\": {\"x\": 0.901, \"y\": 5.221, \"z\": 7.312}, \"end\": {\"x\": 0.9629687721189271, \"y\": 5.210549068833231, \"z\": 7.357941705886354}, \"color\": \"green\", \"radius\": 0.03, \"dashed\": false});\n",
       "\tviewer_1750203425678561.addCylinder({\"start\": {\"x\": 0.919, \"y\": 4.647, \"z\": 8.754}, \"end\": {\"x\": 0.9139065041155554, \"y\": 4.617870024244278, \"z\": 8.772300021152855}, \"color\": \"green\", \"radius\": 0.03, \"dashed\": false});\n",
       "\tviewer_1750203425678561.addCylinder({\"start\": {\"x\": -0.131, \"y\": 4.583, \"z\": 9.352}, \"end\": {\"x\": -0.15926978976294315, \"y\": 4.494204315472491, \"z\": 9.333573960269202}, \"color\": \"green\", \"radius\": 0.03, \"dashed\": false});\n",
       "\tviewer_1750203425678561.addCylinder({\"start\": {\"x\": 2.09, \"y\": 4.247, \"z\": 9.24}, \"end\": {\"x\": 2.0857644339131767, \"y\": 4.248437811101001, \"z\": 9.307151245571845}, \"color\": \"green\", \"radius\": 0.03, \"dashed\": false});\n",
       "\tviewer_1750203425678561.addCylinder({\"start\": {\"x\": 2.231, \"y\": 3.781, \"z\": 10.624}, \"end\": {\"x\": 2.204127636593115, \"y\": 3.7805878580784897, \"z\": 10.670231791140662}, \"color\": \"green\", \"radius\": 0.03, \"dashed\": false});\n",
       "\tviewer_1750203425678561.addCylinder({\"start\": {\"x\": 3.25, \"y\": 4.676, \"z\": 11.376}, \"end\": {\"x\": 3.2278995394294006, \"y\": 4.627649068746194, \"z\": 11.436341049892398}, \"color\": \"green\", \"radius\": 0.03, \"dashed\": false});\n",
       "\tviewer_1750203425678561.addCylinder({\"start\": {\"x\": 4.237, \"y\": 4.178, \"z\": 11.903}, \"end\": {\"x\": 4.172925917111451, \"y\": 4.130003069794073, \"z\": 12.024330510012295}, \"color\": \"green\", \"radius\": 0.03, \"dashed\": false});\n",
       "\tviewer_1750203425678561.addCylinder({\"start\": {\"x\": 3.046, \"y\": 5.999, \"z\": 11.421}, \"end\": {\"x\": 3.0190682381483183, \"y\": 5.977234046052747, \"z\": 11.440685774708154}, \"color\": \"green\", \"radius\": 0.03, \"dashed\": false});\n",
       "\tviewer_1750203425678561.addCylinder({\"start\": {\"x\": 1.759, \"y\": 6.672, \"z\": 11.221}, \"end\": {\"x\": 1.773304152662229, \"y\": 6.686205387805163, \"z\": 11.19864346459113}, \"color\": \"green\", \"radius\": 0.03, \"dashed\": false});\n",
       "\tviewer_1750203425678561.addCylinder({\"start\": {\"x\": 1.564, \"y\": 7.328, \"z\": 9.847}, \"end\": {\"x\": 1.6061060890086774, \"y\": 7.32477057510832, \"z\": 9.834880908617773}, \"color\": \"green\", \"radius\": 0.03, \"dashed\": false});\n",
       "\tviewer_1750203425678561.addCylinder({\"start\": {\"x\": 0.496, \"y\": 7.868, \"z\": 9.593}, \"end\": {\"x\": 0.541619219695149, \"y\": 7.873333667678551, \"z\": 9.547708071237796}, \"color\": \"green\", \"radius\": 0.03, \"dashed\": false});\n",
       "\tviewer_1750203425678561.zoomTo();\n",
       "\tviewer_1750203425678561.setBackgroundColor(\"white\");\n",
       "viewer_1750203425678561.render();\n",
       "});\n",
       "</script>"
      ]
     },
     "metadata": {},
     "output_type": "display_data"
    }
   ],
   "source": [
    "group1_data_path = \"../Data/Our_Benchmark_20250410_ver1/Cyclic_Peptide/Backbone_Most_Similar\"\n",
    "molA = next(pybel.readfile(\"xyz\", os.path.join(group1_data_path, 'c4mers', 'ALPRAL10_2_fixed_backbone.xyz')))\n",
    "molB = next(pybel.readfile(\"xyz\", os.path.join(group1_data_path, 'c4mers', 'CEJSUF_fixed_backbone.xyz')))\n",
    "X_A, T_A, B_A = otm.tl.process_molecule(molA) \n",
    "X_B, T_B, B_B = otm.tl.process_molecule(molB)\n",
    "assignment = group1_res['assignment'][0]\n",
    "X_B_aligned, _, _ = otm.tl.kabsch(X_A, X_B, otm.tl.permutation_to_matrix(assignment))\n",
    "interactive_alignment_plot_py3dmol(X_A, X_B_aligned, T_A, T_B, B_A, B_B, assignment, 'ALPRAL10_2', 'CEJSUF', save=True)"
   ]
  },
  {
   "cell_type": "code",
   "execution_count": 7,
   "metadata": {},
   "outputs": [
    {
     "data": {
      "application/3dmoljs_load.v0": "<div id=\"3dmolviewer_17502036086463249\"  style=\"position: relative; width: 800px; height: 600px;\">\n        <p id=\"3dmolwarning_17502036086463249\" style=\"background-color:#ffcccc;color:black\">3Dmol.js failed to load for some reason.  Please check your browser console for error messages.<br></p>\n        </div>\n<script>\n\nvar loadScriptAsync = function(uri){\n  return new Promise((resolve, reject) => {\n    //this is to ignore the existence of requirejs amd\n    var savedexports, savedmodule;\n    if (typeof exports !== 'undefined') savedexports = exports;\n    else exports = {}\n    if (typeof module !== 'undefined') savedmodule = module;\n    else module = {}\n\n    var tag = document.createElement('script');\n    tag.src = uri;\n    tag.async = true;\n    tag.onload = () => {\n        exports = savedexports;\n        module = savedmodule;\n        resolve();\n    };\n  var firstScriptTag = document.getElementsByTagName('script')[0];\n  firstScriptTag.parentNode.insertBefore(tag, firstScriptTag);\n});\n};\n\nif(typeof $3Dmolpromise === 'undefined') {\n$3Dmolpromise = null;\n  $3Dmolpromise = loadScriptAsync('https://cdnjs.cloudflare.com/ajax/libs/3Dmol/2.4.2/3Dmol-min.js');\n}\n\nvar viewer_17502036086463249 = null;\nvar warn = document.getElementById(\"3dmolwarning_17502036086463249\");\nif(warn) {\n    warn.parentNode.removeChild(warn);\n}\n$3Dmolpromise.then(function() {\nviewer_17502036086463249 = $3Dmol.createViewer(document.getElementById(\"3dmolviewer_17502036086463249\"),{backgroundColor:\"white\"});\nviewer_17502036086463249.zoomTo();\n\tviewer_17502036086463249.addModel(\"20\\nALPRAL10_2\\nN   -3.858    6.410    2.510\\nC   -3.013    7.413    3.088\\nC   -3.841    8.711    3.223\\nO   -4.990    8.638    3.653\\nN   -3.301    9.858    2.843\\nC   -4.081   11.103    2.821\\nC   -5.390   10.907    2.024\\nO   -5.403   10.506    0.880\\nN   -6.495   11.244    2.714\\nC   -7.801   11.097    2.089\\nC   -8.306    9.666    1.954\\nO   -9.291    9.457    1.231\\nN   -7.669    8.698    2.611\\nC   -8.168    7.323    2.566\\nC   -6.995    6.376    2.298\\nO   -6.584    5.600    3.171\\nN   -6.452    6.453    1.086\\nC   -5.274    5.615    0.707\\nC   -4.016    6.372    1.154\\nO   -3.271    6.948    0.376\\n\",\"xyz\");\n\tviewer_17502036086463249.addModel(\"20\\nCEJSUF\\nN   -3.861    6.370    2.513\\nC   -2.996    7.397    3.142\\nC   -3.828    8.684    3.250\\nO   -4.931    8.688    3.781\\nN   -3.316    9.813    2.713\\nC   -4.090   11.053    2.809\\nC   -5.385   10.891    2.025\\nO   -5.386   10.511    0.860\\nN   -6.504   11.194    2.695\\nC   -7.817   11.091    2.065\\nC   -8.367    9.671    1.972\\nO   -9.372    9.483    1.293\\nN   -7.704    8.705    2.590\\nC   -8.201    7.318    2.564\\nC   -6.990    6.408    2.277\\nO   -6.546    5.664    3.147\\nN   -6.430    6.472    1.043\\nC   -5.270    5.674    0.663\\nC   -3.996    6.384    1.171\\nO   -3.210    6.924    0.428\\n\",\"xyz\");\n\tviewer_17502036086463249.setStyle({\"model\": 0},{\"stick\": {\"radius\": 0.06, \"color\": \"#DC2626\"}, \"sphere\": {\"radius\": 0.15, \"color\": \"#DC2626\"}});\n\tviewer_17502036086463249.setStyle({\"model\": 1},{\"stick\": {\"radius\": 0.06, \"color\": \"#2563EB\"}, \"sphere\": {\"radius\": 0.15, \"color\": \"#2563EB\"}});\n\tviewer_17502036086463249.addCylinder({\"start\": {\"x\": -3.858, \"y\": 6.41, \"z\": 2.51}, \"end\": {\"x\": -3.8605866206554005, \"y\": 6.369834263776802, \"z\": 2.5127993771851167}, \"color\": \"green\", \"radius\": 0.03, \"dashed\": false});\n\tviewer_17502036086463249.addCylinder({\"start\": {\"x\": -3.013, \"y\": 7.413, \"z\": 3.088}, \"end\": {\"x\": -2.9957972523726077, \"y\": 7.397184844073624, \"z\": 3.1418519454724065}, \"color\": \"green\", \"radius\": 0.03, \"dashed\": false});\n\tviewer_17502036086463249.addCylinder({\"start\": {\"x\": -3.841, \"y\": 8.711, \"z\": 3.223}, \"end\": {\"x\": -3.827826655921463, \"y\": 8.684223782026073, \"z\": 3.249916018245767}, \"color\": \"green\", \"radius\": 0.03, \"dashed\": false});\n\tviewer_17502036086463249.addCylinder({\"start\": {\"x\": -4.99, \"y\": 8.638, \"z\": 3.653}, \"end\": {\"x\": -4.930830510512134, \"y\": 8.688381699046642, \"z\": 3.780924689064022}, \"color\": \"green\", \"radius\": 0.03, \"dashed\": false});\n\tviewer_17502036086463249.addCylinder({\"start\": {\"x\": -3.301, \"y\": 9.858, \"z\": 2.843}, \"end\": {\"x\": -3.316125085887421, \"y\": 9.813046887335293, \"z\": 2.7132849530391927}, \"color\": \"green\", \"radius\": 0.03, \"dashed\": false});\n\tviewer_17502036086463249.addCylinder({\"start\": {\"x\": -4.081, \"y\": 11.103, \"z\": 2.821}, \"end\": {\"x\": -4.090229885390391, \"y\": 11.052649839738198, \"z\": 2.8087170219702915}, \"color\": \"green\", \"radius\": 0.03, \"dashed\": false});\n\tviewer_17502036086463249.addCylinder({\"start\": {\"x\": -5.39, \"y\": 10.907, \"z\": 2.024}, \"end\": {\"x\": -5.384828980891693, \"y\": 10.89055221983673, \"z\": 2.025398731905845}, \"color\": \"green\", \"radius\": 0.03, \"dashed\": false});\n\tviewer_17502036086463249.addCylinder({\"start\": {\"x\": -5.403, \"y\": 10.506, \"z\": 0.88}, \"end\": {\"x\": -5.385637257854386, \"y\": 10.51065883581068, \"z\": 0.859692781221201}, \"color\": \"green\", \"radius\": 0.03, \"dashed\": false});\n\tviewer_17502036086463249.addCylinder({\"start\": {\"x\": -6.495, \"y\": 11.244, \"z\": 2.714}, \"end\": {\"x\": -6.50389268321028, \"y\": 11.193961398293961, \"z\": 2.6948225891001667}, \"color\": \"green\", \"radius\": 0.03, \"dashed\": false});\n\tviewer_17502036086463249.addCylinder({\"start\": {\"x\": -7.801, \"y\": 11.097, \"z\": 2.089}, \"end\": {\"x\": -7.817282383755639, \"y\": 11.090659030083192, \"z\": 2.0649677524723784}, \"color\": \"green\", \"radius\": 0.03, \"dashed\": false});\n\tviewer_17502036086463249.addCylinder({\"start\": {\"x\": -8.306, \"y\": 9.666, \"z\": 1.954}, \"end\": {\"x\": -8.36703274986267, \"y\": 9.670768873314202, \"z\": 1.9717772074813404}, \"color\": \"green\", \"radius\": 0.03, \"dashed\": false});\n\tviewer_17502036086463249.addCylinder({\"start\": {\"x\": -9.291, \"y\": 9.457, \"z\": 1.231}, \"end\": {\"x\": -9.372422970650163, \"y\": 9.482747181015426, \"z\": 1.2928005162982203}, \"color\": \"green\", \"radius\": 0.03, \"dashed\": false});\n\tviewer_17502036086463249.addCylinder({\"start\": {\"x\": -7.669, \"y\": 8.698, \"z\": 2.611}, \"end\": {\"x\": -7.704091333933537, \"y\": 8.705187161169542, \"z\": 2.590280753322156}, \"color\": \"green\", \"radius\": 0.03, \"dashed\": false});\n\tviewer_17502036086463249.addCylinder({\"start\": {\"x\": -8.168, \"y\": 7.323, \"z\": 2.566}, \"end\": {\"x\": -8.201478349220892, \"y\": 7.3175573623412635, \"z\": 2.5642865534435786}, \"color\": \"green\", \"radius\": 0.03, \"dashed\": false});\n\tviewer_17502036086463249.addCylinder({\"start\": {\"x\": -6.995, \"y\": 6.376, \"z\": 2.298}, \"end\": {\"x\": -6.98979652987191, \"y\": 6.408130912432819, \"z\": 2.276662317910374}, \"color\": \"green\", \"radius\": 0.03, \"dashed\": false});\n\tviewer_17502036086463249.addCylinder({\"start\": {\"x\": -6.584, \"y\": 5.6, \"z\": 3.171}, \"end\": {\"x\": -6.545580189818155, \"y\": 5.664205994016167, \"z\": 3.1465850495296963}, \"color\": \"green\", \"radius\": 0.03, \"dashed\": false});\n\tviewer_17502036086463249.addCylinder({\"start\": {\"x\": -6.452, \"y\": 6.453, \"z\": 1.086}, \"end\": {\"x\": -6.430305800802872, \"y\": 6.472389034006131, \"z\": 1.0425059186247467}, \"color\": \"green\", \"radius\": 0.03, \"dashed\": false});\n\tviewer_17502036086463249.addCylinder({\"start\": {\"x\": -5.274, \"y\": 5.615, \"z\": 0.707}, \"end\": {\"x\": -5.269629408875814, \"y\": 5.674073221967043, \"z\": 0.6634384081842453}, \"color\": \"green\", \"radius\": 0.03, \"dashed\": false});\n\tviewer_17502036086463249.addCylinder({\"start\": {\"x\": -4.016, \"y\": 6.372, \"z\": 1.154}, \"end\": {\"x\": -3.9960013891641335, \"y\": 6.384312028615618, \"z\": 1.170683422881988}, \"color\": \"green\", \"radius\": 0.03, \"dashed\": false});\n\tviewer_17502036086463249.addCylinder({\"start\": {\"x\": -3.271, \"y\": 6.948, \"z\": 0.376}, \"end\": {\"x\": -3.209623961348468, \"y\": 6.924475431100573, \"z\": 0.42760399264731097}, \"color\": \"green\", \"radius\": 0.03, \"dashed\": false});\n\tviewer_17502036086463249.zoomTo();\n\tviewer_17502036086463249.setBackgroundColor(\"white\");\nviewer_17502036086463249.render();\n});\n</script>",
      "text/html": [
       "<div id=\"3dmolviewer_17502036086463249\"  style=\"position: relative; width: 800px; height: 600px;\">\n",
       "        <p id=\"3dmolwarning_17502036086463249\" style=\"background-color:#ffcccc;color:black\">3Dmol.js failed to load for some reason.  Please check your browser console for error messages.<br></p>\n",
       "        </div>\n",
       "<script>\n",
       "\n",
       "var loadScriptAsync = function(uri){\n",
       "  return new Promise((resolve, reject) => {\n",
       "    //this is to ignore the existence of requirejs amd\n",
       "    var savedexports, savedmodule;\n",
       "    if (typeof exports !== 'undefined') savedexports = exports;\n",
       "    else exports = {}\n",
       "    if (typeof module !== 'undefined') savedmodule = module;\n",
       "    else module = {}\n",
       "\n",
       "    var tag = document.createElement('script');\n",
       "    tag.src = uri;\n",
       "    tag.async = true;\n",
       "    tag.onload = () => {\n",
       "        exports = savedexports;\n",
       "        module = savedmodule;\n",
       "        resolve();\n",
       "    };\n",
       "  var firstScriptTag = document.getElementsByTagName('script')[0];\n",
       "  firstScriptTag.parentNode.insertBefore(tag, firstScriptTag);\n",
       "});\n",
       "};\n",
       "\n",
       "if(typeof $3Dmolpromise === 'undefined') {\n",
       "$3Dmolpromise = null;\n",
       "  $3Dmolpromise = loadScriptAsync('https://cdnjs.cloudflare.com/ajax/libs/3Dmol/2.4.2/3Dmol-min.js');\n",
       "}\n",
       "\n",
       "var viewer_17502036086463249 = null;\n",
       "var warn = document.getElementById(\"3dmolwarning_17502036086463249\");\n",
       "if(warn) {\n",
       "    warn.parentNode.removeChild(warn);\n",
       "}\n",
       "$3Dmolpromise.then(function() {\n",
       "viewer_17502036086463249 = $3Dmol.createViewer(document.getElementById(\"3dmolviewer_17502036086463249\"),{backgroundColor:\"white\"});\n",
       "viewer_17502036086463249.zoomTo();\n",
       "\tviewer_17502036086463249.addModel(\"20\\nALPRAL10_2\\nN   -3.858    6.410    2.510\\nC   -3.013    7.413    3.088\\nC   -3.841    8.711    3.223\\nO   -4.990    8.638    3.653\\nN   -3.301    9.858    2.843\\nC   -4.081   11.103    2.821\\nC   -5.390   10.907    2.024\\nO   -5.403   10.506    0.880\\nN   -6.495   11.244    2.714\\nC   -7.801   11.097    2.089\\nC   -8.306    9.666    1.954\\nO   -9.291    9.457    1.231\\nN   -7.669    8.698    2.611\\nC   -8.168    7.323    2.566\\nC   -6.995    6.376    2.298\\nO   -6.584    5.600    3.171\\nN   -6.452    6.453    1.086\\nC   -5.274    5.615    0.707\\nC   -4.016    6.372    1.154\\nO   -3.271    6.948    0.376\\n\",\"xyz\");\n",
       "\tviewer_17502036086463249.addModel(\"20\\nCEJSUF\\nN   -3.861    6.370    2.513\\nC   -2.996    7.397    3.142\\nC   -3.828    8.684    3.250\\nO   -4.931    8.688    3.781\\nN   -3.316    9.813    2.713\\nC   -4.090   11.053    2.809\\nC   -5.385   10.891    2.025\\nO   -5.386   10.511    0.860\\nN   -6.504   11.194    2.695\\nC   -7.817   11.091    2.065\\nC   -8.367    9.671    1.972\\nO   -9.372    9.483    1.293\\nN   -7.704    8.705    2.590\\nC   -8.201    7.318    2.564\\nC   -6.990    6.408    2.277\\nO   -6.546    5.664    3.147\\nN   -6.430    6.472    1.043\\nC   -5.270    5.674    0.663\\nC   -3.996    6.384    1.171\\nO   -3.210    6.924    0.428\\n\",\"xyz\");\n",
       "\tviewer_17502036086463249.setStyle({\"model\": 0},{\"stick\": {\"radius\": 0.06, \"color\": \"#DC2626\"}, \"sphere\": {\"radius\": 0.15, \"color\": \"#DC2626\"}});\n",
       "\tviewer_17502036086463249.setStyle({\"model\": 1},{\"stick\": {\"radius\": 0.06, \"color\": \"#2563EB\"}, \"sphere\": {\"radius\": 0.15, \"color\": \"#2563EB\"}});\n",
       "\tviewer_17502036086463249.addCylinder({\"start\": {\"x\": -3.858, \"y\": 6.41, \"z\": 2.51}, \"end\": {\"x\": -3.8605866206554005, \"y\": 6.369834263776802, \"z\": 2.5127993771851167}, \"color\": \"green\", \"radius\": 0.03, \"dashed\": false});\n",
       "\tviewer_17502036086463249.addCylinder({\"start\": {\"x\": -3.013, \"y\": 7.413, \"z\": 3.088}, \"end\": {\"x\": -2.9957972523726077, \"y\": 7.397184844073624, \"z\": 3.1418519454724065}, \"color\": \"green\", \"radius\": 0.03, \"dashed\": false});\n",
       "\tviewer_17502036086463249.addCylinder({\"start\": {\"x\": -3.841, \"y\": 8.711, \"z\": 3.223}, \"end\": {\"x\": -3.827826655921463, \"y\": 8.684223782026073, \"z\": 3.249916018245767}, \"color\": \"green\", \"radius\": 0.03, \"dashed\": false});\n",
       "\tviewer_17502036086463249.addCylinder({\"start\": {\"x\": -4.99, \"y\": 8.638, \"z\": 3.653}, \"end\": {\"x\": -4.930830510512134, \"y\": 8.688381699046642, \"z\": 3.780924689064022}, \"color\": \"green\", \"radius\": 0.03, \"dashed\": false});\n",
       "\tviewer_17502036086463249.addCylinder({\"start\": {\"x\": -3.301, \"y\": 9.858, \"z\": 2.843}, \"end\": {\"x\": -3.316125085887421, \"y\": 9.813046887335293, \"z\": 2.7132849530391927}, \"color\": \"green\", \"radius\": 0.03, \"dashed\": false});\n",
       "\tviewer_17502036086463249.addCylinder({\"start\": {\"x\": -4.081, \"y\": 11.103, \"z\": 2.821}, \"end\": {\"x\": -4.090229885390391, \"y\": 11.052649839738198, \"z\": 2.8087170219702915}, \"color\": \"green\", \"radius\": 0.03, \"dashed\": false});\n",
       "\tviewer_17502036086463249.addCylinder({\"start\": {\"x\": -5.39, \"y\": 10.907, \"z\": 2.024}, \"end\": {\"x\": -5.384828980891693, \"y\": 10.89055221983673, \"z\": 2.025398731905845}, \"color\": \"green\", \"radius\": 0.03, \"dashed\": false});\n",
       "\tviewer_17502036086463249.addCylinder({\"start\": {\"x\": -5.403, \"y\": 10.506, \"z\": 0.88}, \"end\": {\"x\": -5.385637257854386, \"y\": 10.51065883581068, \"z\": 0.859692781221201}, \"color\": \"green\", \"radius\": 0.03, \"dashed\": false});\n",
       "\tviewer_17502036086463249.addCylinder({\"start\": {\"x\": -6.495, \"y\": 11.244, \"z\": 2.714}, \"end\": {\"x\": -6.50389268321028, \"y\": 11.193961398293961, \"z\": 2.6948225891001667}, \"color\": \"green\", \"radius\": 0.03, \"dashed\": false});\n",
       "\tviewer_17502036086463249.addCylinder({\"start\": {\"x\": -7.801, \"y\": 11.097, \"z\": 2.089}, \"end\": {\"x\": -7.817282383755639, \"y\": 11.090659030083192, \"z\": 2.0649677524723784}, \"color\": \"green\", \"radius\": 0.03, \"dashed\": false});\n",
       "\tviewer_17502036086463249.addCylinder({\"start\": {\"x\": -8.306, \"y\": 9.666, \"z\": 1.954}, \"end\": {\"x\": -8.36703274986267, \"y\": 9.670768873314202, \"z\": 1.9717772074813404}, \"color\": \"green\", \"radius\": 0.03, \"dashed\": false});\n",
       "\tviewer_17502036086463249.addCylinder({\"start\": {\"x\": -9.291, \"y\": 9.457, \"z\": 1.231}, \"end\": {\"x\": -9.372422970650163, \"y\": 9.482747181015426, \"z\": 1.2928005162982203}, \"color\": \"green\", \"radius\": 0.03, \"dashed\": false});\n",
       "\tviewer_17502036086463249.addCylinder({\"start\": {\"x\": -7.669, \"y\": 8.698, \"z\": 2.611}, \"end\": {\"x\": -7.704091333933537, \"y\": 8.705187161169542, \"z\": 2.590280753322156}, \"color\": \"green\", \"radius\": 0.03, \"dashed\": false});\n",
       "\tviewer_17502036086463249.addCylinder({\"start\": {\"x\": -8.168, \"y\": 7.323, \"z\": 2.566}, \"end\": {\"x\": -8.201478349220892, \"y\": 7.3175573623412635, \"z\": 2.5642865534435786}, \"color\": \"green\", \"radius\": 0.03, \"dashed\": false});\n",
       "\tviewer_17502036086463249.addCylinder({\"start\": {\"x\": -6.995, \"y\": 6.376, \"z\": 2.298}, \"end\": {\"x\": -6.98979652987191, \"y\": 6.408130912432819, \"z\": 2.276662317910374}, \"color\": \"green\", \"radius\": 0.03, \"dashed\": false});\n",
       "\tviewer_17502036086463249.addCylinder({\"start\": {\"x\": -6.584, \"y\": 5.6, \"z\": 3.171}, \"end\": {\"x\": -6.545580189818155, \"y\": 5.664205994016167, \"z\": 3.1465850495296963}, \"color\": \"green\", \"radius\": 0.03, \"dashed\": false});\n",
       "\tviewer_17502036086463249.addCylinder({\"start\": {\"x\": -6.452, \"y\": 6.453, \"z\": 1.086}, \"end\": {\"x\": -6.430305800802872, \"y\": 6.472389034006131, \"z\": 1.0425059186247467}, \"color\": \"green\", \"radius\": 0.03, \"dashed\": false});\n",
       "\tviewer_17502036086463249.addCylinder({\"start\": {\"x\": -5.274, \"y\": 5.615, \"z\": 0.707}, \"end\": {\"x\": -5.269629408875814, \"y\": 5.674073221967043, \"z\": 0.6634384081842453}, \"color\": \"green\", \"radius\": 0.03, \"dashed\": false});\n",
       "\tviewer_17502036086463249.addCylinder({\"start\": {\"x\": -4.016, \"y\": 6.372, \"z\": 1.154}, \"end\": {\"x\": -3.9960013891641335, \"y\": 6.384312028615618, \"z\": 1.170683422881988}, \"color\": \"green\", \"radius\": 0.03, \"dashed\": false});\n",
       "\tviewer_17502036086463249.addCylinder({\"start\": {\"x\": -3.271, \"y\": 6.948, \"z\": 0.376}, \"end\": {\"x\": -3.209623961348468, \"y\": 6.924475431100573, \"z\": 0.42760399264731097}, \"color\": \"green\", \"radius\": 0.03, \"dashed\": false});\n",
       "\tviewer_17502036086463249.zoomTo();\n",
       "\tviewer_17502036086463249.setBackgroundColor(\"white\");\n",
       "viewer_17502036086463249.render();\n",
       "});\n",
       "</script>"
      ]
     },
     "metadata": {},
     "output_type": "display_data"
    }
   ],
   "source": [
    "group1_data_path = \"../Data/Our_Benchmark_20250410_ver1/Cyclic_Peptide/Backbone_Most_Similar\"\n",
    "molA = next(pybel.readfile(\"xyz\", os.path.join(group1_data_path, 'c5mers', 'CGPGAP10_fixed_backbone.xyz')))\n",
    "molB = next(pybel.readfile(\"xyz\", os.path.join(group1_data_path, 'c5mers', 'PAPGAP_fixed_backbone.xyz')))\n",
    "X_A, T_A, B_A = otm.tl.process_molecule(molA) \n",
    "X_B, T_B, B_B = otm.tl.process_molecule(molB)\n",
    "assignment = group1_res['assignment'][1]\n",
    "X_B_aligned, _, _ = otm.tl.kabsch(X_A, X_B, otm.tl.permutation_to_matrix(assignment))\n",
    "interactive_alignment_plot_py3dmol(X_A, X_B_aligned, T_A, T_B, B_A, B_B, assignment, 'ALPRAL10_2', 'CEJSUF', save=True)"
   ]
  },
  {
   "cell_type": "code",
   "execution_count": 9,
   "metadata": {},
   "outputs": [
    {
     "data": {
      "application/3dmoljs_load.v0": "<div id=\"3dmolviewer_17502037004273422\"  style=\"position: relative; width: 800px; height: 600px;\">\n        <p id=\"3dmolwarning_17502037004273422\" style=\"background-color:#ffcccc;color:black\">3Dmol.js failed to load for some reason.  Please check your browser console for error messages.<br></p>\n        </div>\n<script>\n\nvar loadScriptAsync = function(uri){\n  return new Promise((resolve, reject) => {\n    //this is to ignore the existence of requirejs amd\n    var savedexports, savedmodule;\n    if (typeof exports !== 'undefined') savedexports = exports;\n    else exports = {}\n    if (typeof module !== 'undefined') savedmodule = module;\n    else module = {}\n\n    var tag = document.createElement('script');\n    tag.src = uri;\n    tag.async = true;\n    tag.onload = () => {\n        exports = savedexports;\n        module = savedmodule;\n        resolve();\n    };\n  var firstScriptTag = document.getElementsByTagName('script')[0];\n  firstScriptTag.parentNode.insertBefore(tag, firstScriptTag);\n});\n};\n\nif(typeof $3Dmolpromise === 'undefined') {\n$3Dmolpromise = null;\n  $3Dmolpromise = loadScriptAsync('https://cdnjs.cloudflare.com/ajax/libs/3Dmol/2.4.2/3Dmol-min.js');\n}\n\nvar viewer_17502037004273422 = null;\nvar warn = document.getElementById(\"3dmolwarning_17502037004273422\");\nif(warn) {\n    warn.parentNode.removeChild(warn);\n}\n$3Dmolpromise.then(function() {\nviewer_17502037004273422 = $3Dmol.createViewer(document.getElementById(\"3dmolviewer_17502037004273422\"),{backgroundColor:\"white\"});\nviewer_17502037004273422.zoomTo();\n\tviewer_17502037004273422.addModel(\"24\\nALPRAL10_2\\nC    1.184    9.875    5.680\\nN    1.230   10.799    4.547\\nO    2.653    8.649    7.111\\nC    2.564    9.337    6.105\\nN    3.622    9.632    5.319\\nO    6.757   10.523    6.525\\nC    4.950    9.225    5.663\\nC    5.929   10.402    5.629\\nN    5.861   11.198    4.576\\nO    5.022   13.725    3.619\\nC    6.815   12.290    4.364\\nC    6.045   13.618    4.292\\nN    6.593   14.623    4.964\\nO    4.262   15.765    6.403\\nC    6.086   15.999    4.905\\nC    4.596   16.036    5.258\\nN    3.720   16.473    4.313\\nO    0.319   15.212    4.568\\nC    2.294   16.537    4.603\\nC    1.511   15.249    4.316\\nN    2.199   14.251    3.753\\nO    2.050   12.462    5.822\\nC    1.591   12.961    3.497\\nC    1.644   12.077    4.754\\n\",\"xyz\");\n\tviewer_17502037004273422.addModel(\"24\\nCEJSUF\\nC    1.222    9.848    5.687\\nN    1.214   10.818    4.592\\nO    2.680    8.596    7.061\\nC    2.586    9.297    6.055\\nN    3.611    9.581    5.247\\nO    6.689   10.396    6.594\\nC    4.970    9.115    5.523\\nC    5.934   10.303    5.639\\nN    5.895   11.183    4.610\\nO    5.036   13.662    3.639\\nC    6.818   12.307    4.542\\nC    6.016   13.613    4.360\\nN    6.552   14.669    5.014\\nO    4.226   15.878    6.316\\nC    6.049   16.041    4.786\\nC    4.569   16.126    5.156\\nN    3.705   16.510    4.235\\nO    0.313   15.270    4.598\\nC    2.279   16.621    4.512\\nC    1.514   15.323    4.325\\nN    2.186   14.290    3.848\\nO    2.172   12.399    5.859\\nC    1.585   12.999    3.588\\nC    1.677   12.074    4.799\\n\",\"xyz\");\n\tviewer_17502037004273422.setStyle({\"model\": 0},{\"stick\": {\"radius\": 0.06, \"color\": \"#DC2626\"}, \"sphere\": {\"radius\": 0.15, \"color\": \"#DC2626\"}});\n\tviewer_17502037004273422.setStyle({\"model\": 1},{\"stick\": {\"radius\": 0.06, \"color\": \"#2563EB\"}, \"sphere\": {\"radius\": 0.15, \"color\": \"#2563EB\"}});\n\tviewer_17502037004273422.addCylinder({\"start\": {\"x\": 1.184, \"y\": 9.875, \"z\": 5.68}, \"end\": {\"x\": 1.2222182299501059, \"y\": 9.847932077013485, \"z\": 5.686506445167758}, \"color\": \"green\", \"radius\": 0.03, \"dashed\": false});\n\tviewer_17502037004273422.addCylinder({\"start\": {\"x\": 1.23, \"y\": 10.799, \"z\": 4.547}, \"end\": {\"x\": 1.2142427910065905, \"y\": 10.817563004527644, \"z\": 4.592295653417975}, \"color\": \"green\", \"radius\": 0.03, \"dashed\": false});\n\tviewer_17502037004273422.addCylinder({\"start\": {\"x\": 2.653, \"y\": 8.649, \"z\": 7.111}, \"end\": {\"x\": 2.680214291840097, \"y\": 8.595869197464552, \"z\": 7.061454454791726}, \"color\": \"green\", \"radius\": 0.03, \"dashed\": false});\n\tviewer_17502037004273422.addCylinder({\"start\": {\"x\": 2.564, \"y\": 9.337, \"z\": 6.105}, \"end\": {\"x\": 2.5864763012040575, \"y\": 9.297185501237275, \"z\": 6.055090389865874}, \"color\": \"green\", \"radius\": 0.03, \"dashed\": false});\n\tviewer_17502037004273422.addCylinder({\"start\": {\"x\": 3.622, \"y\": 9.632, \"z\": 5.319}, \"end\": {\"x\": 3.610649380251755, \"y\": 9.580578617131046, \"z\": 5.2474247127333244}, \"color\": \"green\", \"radius\": 0.03, \"dashed\": false});\n\tviewer_17502037004273422.addCylinder({\"start\": {\"x\": 6.757, \"y\": 10.523, \"z\": 6.525}, \"end\": {\"x\": 6.68897868678875, \"y\": 10.395983276829174, \"z\": 6.593716999518791}, \"color\": \"green\", \"radius\": 0.03, \"dashed\": false});\n\tviewer_17502037004273422.addCylinder({\"start\": {\"x\": 4.95, \"y\": 9.225, \"z\": 5.663}, \"end\": {\"x\": 4.969677627208812, \"y\": 9.114843008468242, \"z\": 5.522950694804556}, \"color\": \"green\", \"radius\": 0.03, \"dashed\": false});\n\tviewer_17502037004273422.addCylinder({\"start\": {\"x\": 5.929, \"y\": 10.402, \"z\": 5.629}, \"end\": {\"x\": 5.934091175299787, \"y\": 10.30255425215299, \"z\": 5.6392198217618015}, \"color\": \"green\", \"radius\": 0.03, \"dashed\": false});\n\tviewer_17502037004273422.addCylinder({\"start\": {\"x\": 5.861, \"y\": 11.198, \"z\": 4.576}, \"end\": {\"x\": 5.895143072504358, \"y\": 11.182548535925493, \"z\": 4.609677153478276}, \"color\": \"green\", \"radius\": 0.03, \"dashed\": false});\n\tviewer_17502037004273422.addCylinder({\"start\": {\"x\": 5.022, \"y\": 13.725, \"z\": 3.619}, \"end\": {\"x\": 5.035636525437007, \"y\": 13.662229590282232, \"z\": 3.639262106082258}, \"color\": \"green\", \"radius\": 0.03, \"dashed\": false});\n\tviewer_17502037004273422.addCylinder({\"start\": {\"x\": 6.815, \"y\": 12.29, \"z\": 4.364}, \"end\": {\"x\": 6.817629402312438, \"y\": 12.30678871288696, \"z\": 4.542023655247464}, \"color\": \"green\", \"radius\": 0.03, \"dashed\": false});\n\tviewer_17502037004273422.addCylinder({\"start\": {\"x\": 6.045, \"y\": 13.618, \"z\": 4.292}, \"end\": {\"x\": 6.01607504727953, \"y\": 13.612822639641793, \"z\": 4.360020913254019}, \"color\": \"green\", \"radius\": 0.03, \"dashed\": false});\n\tviewer_17502037004273422.addCylinder({\"start\": {\"x\": 6.593, \"y\": 14.623, \"z\": 4.964}, \"end\": {\"x\": 6.55163814847155, \"y\": 14.668802838096648, \"z\": 5.013763970664831}, \"color\": \"green\", \"radius\": 0.03, \"dashed\": false});\n\tviewer_17502037004273422.addCylinder({\"start\": {\"x\": 4.262, \"y\": 15.765, \"z\": 6.403}, \"end\": {\"x\": 4.226419225777073, \"y\": 15.878262664995553, \"z\": 6.316101057851248}, \"color\": \"green\", \"radius\": 0.03, \"dashed\": false});\n\tviewer_17502037004273422.addCylinder({\"start\": {\"x\": 6.086, \"y\": 15.999, \"z\": 4.905}, \"end\": {\"x\": 6.04907735687932, \"y\": 16.041266347857622, \"z\": 4.78591409656179}, \"color\": \"green\", \"radius\": 0.03, \"dashed\": false});\n\tviewer_17502037004273422.addCylinder({\"start\": {\"x\": 4.596, \"y\": 16.036, \"z\": 5.258}, \"end\": {\"x\": 4.568869615490389, \"y\": 16.126308053747138, \"z\": 5.155723440131794}, \"color\": \"green\", \"radius\": 0.03, \"dashed\": false});\n\tviewer_17502037004273422.addCylinder({\"start\": {\"x\": 3.72, \"y\": 16.473, \"z\": 4.313}, \"end\": {\"x\": 3.704525305864932, \"y\": 16.51028712719917, \"z\": 4.235015568128403}, \"color\": \"green\", \"radius\": 0.03, \"dashed\": false});\n\tviewer_17502037004273422.addCylinder({\"start\": {\"x\": 0.319, \"y\": 15.212, \"z\": 4.568}, \"end\": {\"x\": 0.3125121526964634, \"y\": 15.270417509235427, \"z\": 4.598263553921228}, \"color\": \"green\", \"radius\": 0.03, \"dashed\": false});\n\tviewer_17502037004273422.addCylinder({\"start\": {\"x\": 2.294, \"y\": 16.537, \"z\": 4.603}, \"end\": {\"x\": 2.2787526266847262, \"y\": 16.620928452856127, \"z\": 4.512393945728692}, \"color\": \"green\", \"radius\": 0.03, \"dashed\": false});\n\tviewer_17502037004273422.addCylinder({\"start\": {\"x\": 1.511, \"y\": 15.249, \"z\": 4.316}, \"end\": {\"x\": 1.514033828943055, \"y\": 15.32282043999787, \"z\": 4.3250153254602015}, \"color\": \"green\", \"radius\": 0.03, \"dashed\": false});\n\tviewer_17502037004273422.addCylinder({\"start\": {\"x\": 2.199, \"y\": 14.251, \"z\": 3.753}, \"end\": {\"x\": 2.1858062572976595, \"y\": 14.289870335811326, \"z\": 3.8478467108557144}, \"color\": \"green\", \"radius\": 0.03, \"dashed\": false});\n\tviewer_17502037004273422.addCylinder({\"start\": {\"x\": 2.05, \"y\": 12.462, \"z\": 5.822}, \"end\": {\"x\": 2.1718328479130338, \"y\": 12.399011530670682, \"z\": 5.8594246295186405}, \"color\": \"green\", \"radius\": 0.03, \"dashed\": false});\n\tviewer_17502037004273422.addCylinder({\"start\": {\"x\": 1.591, \"y\": 12.961, \"z\": 3.497}, \"end\": {\"x\": 1.585455894650555, \"y\": 12.998639202995616, \"z\": 3.5879648074516064}, \"color\": \"green\", \"radius\": 0.03, \"dashed\": false});\n\tviewer_17502037004273422.addCylinder({\"start\": {\"x\": 1.644, \"y\": 12.077, \"z\": 4.754}, \"end\": {\"x\": 1.6770442082479398, \"y\": 12.074487082975878, \"z\": 4.798929893602074}, \"color\": \"green\", \"radius\": 0.03, \"dashed\": false});\n\tviewer_17502037004273422.zoomTo();\n\tviewer_17502037004273422.setBackgroundColor(\"white\");\nviewer_17502037004273422.render();\n});\n</script>",
      "text/html": [
       "<div id=\"3dmolviewer_17502037004273422\"  style=\"position: relative; width: 800px; height: 600px;\">\n",
       "        <p id=\"3dmolwarning_17502037004273422\" style=\"background-color:#ffcccc;color:black\">3Dmol.js failed to load for some reason.  Please check your browser console for error messages.<br></p>\n",
       "        </div>\n",
       "<script>\n",
       "\n",
       "var loadScriptAsync = function(uri){\n",
       "  return new Promise((resolve, reject) => {\n",
       "    //this is to ignore the existence of requirejs amd\n",
       "    var savedexports, savedmodule;\n",
       "    if (typeof exports !== 'undefined') savedexports = exports;\n",
       "    else exports = {}\n",
       "    if (typeof module !== 'undefined') savedmodule = module;\n",
       "    else module = {}\n",
       "\n",
       "    var tag = document.createElement('script');\n",
       "    tag.src = uri;\n",
       "    tag.async = true;\n",
       "    tag.onload = () => {\n",
       "        exports = savedexports;\n",
       "        module = savedmodule;\n",
       "        resolve();\n",
       "    };\n",
       "  var firstScriptTag = document.getElementsByTagName('script')[0];\n",
       "  firstScriptTag.parentNode.insertBefore(tag, firstScriptTag);\n",
       "});\n",
       "};\n",
       "\n",
       "if(typeof $3Dmolpromise === 'undefined') {\n",
       "$3Dmolpromise = null;\n",
       "  $3Dmolpromise = loadScriptAsync('https://cdnjs.cloudflare.com/ajax/libs/3Dmol/2.4.2/3Dmol-min.js');\n",
       "}\n",
       "\n",
       "var viewer_17502037004273422 = null;\n",
       "var warn = document.getElementById(\"3dmolwarning_17502037004273422\");\n",
       "if(warn) {\n",
       "    warn.parentNode.removeChild(warn);\n",
       "}\n",
       "$3Dmolpromise.then(function() {\n",
       "viewer_17502037004273422 = $3Dmol.createViewer(document.getElementById(\"3dmolviewer_17502037004273422\"),{backgroundColor:\"white\"});\n",
       "viewer_17502037004273422.zoomTo();\n",
       "\tviewer_17502037004273422.addModel(\"24\\nALPRAL10_2\\nC    1.184    9.875    5.680\\nN    1.230   10.799    4.547\\nO    2.653    8.649    7.111\\nC    2.564    9.337    6.105\\nN    3.622    9.632    5.319\\nO    6.757   10.523    6.525\\nC    4.950    9.225    5.663\\nC    5.929   10.402    5.629\\nN    5.861   11.198    4.576\\nO    5.022   13.725    3.619\\nC    6.815   12.290    4.364\\nC    6.045   13.618    4.292\\nN    6.593   14.623    4.964\\nO    4.262   15.765    6.403\\nC    6.086   15.999    4.905\\nC    4.596   16.036    5.258\\nN    3.720   16.473    4.313\\nO    0.319   15.212    4.568\\nC    2.294   16.537    4.603\\nC    1.511   15.249    4.316\\nN    2.199   14.251    3.753\\nO    2.050   12.462    5.822\\nC    1.591   12.961    3.497\\nC    1.644   12.077    4.754\\n\",\"xyz\");\n",
       "\tviewer_17502037004273422.addModel(\"24\\nCEJSUF\\nC    1.222    9.848    5.687\\nN    1.214   10.818    4.592\\nO    2.680    8.596    7.061\\nC    2.586    9.297    6.055\\nN    3.611    9.581    5.247\\nO    6.689   10.396    6.594\\nC    4.970    9.115    5.523\\nC    5.934   10.303    5.639\\nN    5.895   11.183    4.610\\nO    5.036   13.662    3.639\\nC    6.818   12.307    4.542\\nC    6.016   13.613    4.360\\nN    6.552   14.669    5.014\\nO    4.226   15.878    6.316\\nC    6.049   16.041    4.786\\nC    4.569   16.126    5.156\\nN    3.705   16.510    4.235\\nO    0.313   15.270    4.598\\nC    2.279   16.621    4.512\\nC    1.514   15.323    4.325\\nN    2.186   14.290    3.848\\nO    2.172   12.399    5.859\\nC    1.585   12.999    3.588\\nC    1.677   12.074    4.799\\n\",\"xyz\");\n",
       "\tviewer_17502037004273422.setStyle({\"model\": 0},{\"stick\": {\"radius\": 0.06, \"color\": \"#DC2626\"}, \"sphere\": {\"radius\": 0.15, \"color\": \"#DC2626\"}});\n",
       "\tviewer_17502037004273422.setStyle({\"model\": 1},{\"stick\": {\"radius\": 0.06, \"color\": \"#2563EB\"}, \"sphere\": {\"radius\": 0.15, \"color\": \"#2563EB\"}});\n",
       "\tviewer_17502037004273422.addCylinder({\"start\": {\"x\": 1.184, \"y\": 9.875, \"z\": 5.68}, \"end\": {\"x\": 1.2222182299501059, \"y\": 9.847932077013485, \"z\": 5.686506445167758}, \"color\": \"green\", \"radius\": 0.03, \"dashed\": false});\n",
       "\tviewer_17502037004273422.addCylinder({\"start\": {\"x\": 1.23, \"y\": 10.799, \"z\": 4.547}, \"end\": {\"x\": 1.2142427910065905, \"y\": 10.817563004527644, \"z\": 4.592295653417975}, \"color\": \"green\", \"radius\": 0.03, \"dashed\": false});\n",
       "\tviewer_17502037004273422.addCylinder({\"start\": {\"x\": 2.653, \"y\": 8.649, \"z\": 7.111}, \"end\": {\"x\": 2.680214291840097, \"y\": 8.595869197464552, \"z\": 7.061454454791726}, \"color\": \"green\", \"radius\": 0.03, \"dashed\": false});\n",
       "\tviewer_17502037004273422.addCylinder({\"start\": {\"x\": 2.564, \"y\": 9.337, \"z\": 6.105}, \"end\": {\"x\": 2.5864763012040575, \"y\": 9.297185501237275, \"z\": 6.055090389865874}, \"color\": \"green\", \"radius\": 0.03, \"dashed\": false});\n",
       "\tviewer_17502037004273422.addCylinder({\"start\": {\"x\": 3.622, \"y\": 9.632, \"z\": 5.319}, \"end\": {\"x\": 3.610649380251755, \"y\": 9.580578617131046, \"z\": 5.2474247127333244}, \"color\": \"green\", \"radius\": 0.03, \"dashed\": false});\n",
       "\tviewer_17502037004273422.addCylinder({\"start\": {\"x\": 6.757, \"y\": 10.523, \"z\": 6.525}, \"end\": {\"x\": 6.68897868678875, \"y\": 10.395983276829174, \"z\": 6.593716999518791}, \"color\": \"green\", \"radius\": 0.03, \"dashed\": false});\n",
       "\tviewer_17502037004273422.addCylinder({\"start\": {\"x\": 4.95, \"y\": 9.225, \"z\": 5.663}, \"end\": {\"x\": 4.969677627208812, \"y\": 9.114843008468242, \"z\": 5.522950694804556}, \"color\": \"green\", \"radius\": 0.03, \"dashed\": false});\n",
       "\tviewer_17502037004273422.addCylinder({\"start\": {\"x\": 5.929, \"y\": 10.402, \"z\": 5.629}, \"end\": {\"x\": 5.934091175299787, \"y\": 10.30255425215299, \"z\": 5.6392198217618015}, \"color\": \"green\", \"radius\": 0.03, \"dashed\": false});\n",
       "\tviewer_17502037004273422.addCylinder({\"start\": {\"x\": 5.861, \"y\": 11.198, \"z\": 4.576}, \"end\": {\"x\": 5.895143072504358, \"y\": 11.182548535925493, \"z\": 4.609677153478276}, \"color\": \"green\", \"radius\": 0.03, \"dashed\": false});\n",
       "\tviewer_17502037004273422.addCylinder({\"start\": {\"x\": 5.022, \"y\": 13.725, \"z\": 3.619}, \"end\": {\"x\": 5.035636525437007, \"y\": 13.662229590282232, \"z\": 3.639262106082258}, \"color\": \"green\", \"radius\": 0.03, \"dashed\": false});\n",
       "\tviewer_17502037004273422.addCylinder({\"start\": {\"x\": 6.815, \"y\": 12.29, \"z\": 4.364}, \"end\": {\"x\": 6.817629402312438, \"y\": 12.30678871288696, \"z\": 4.542023655247464}, \"color\": \"green\", \"radius\": 0.03, \"dashed\": false});\n",
       "\tviewer_17502037004273422.addCylinder({\"start\": {\"x\": 6.045, \"y\": 13.618, \"z\": 4.292}, \"end\": {\"x\": 6.01607504727953, \"y\": 13.612822639641793, \"z\": 4.360020913254019}, \"color\": \"green\", \"radius\": 0.03, \"dashed\": false});\n",
       "\tviewer_17502037004273422.addCylinder({\"start\": {\"x\": 6.593, \"y\": 14.623, \"z\": 4.964}, \"end\": {\"x\": 6.55163814847155, \"y\": 14.668802838096648, \"z\": 5.013763970664831}, \"color\": \"green\", \"radius\": 0.03, \"dashed\": false});\n",
       "\tviewer_17502037004273422.addCylinder({\"start\": {\"x\": 4.262, \"y\": 15.765, \"z\": 6.403}, \"end\": {\"x\": 4.226419225777073, \"y\": 15.878262664995553, \"z\": 6.316101057851248}, \"color\": \"green\", \"radius\": 0.03, \"dashed\": false});\n",
       "\tviewer_17502037004273422.addCylinder({\"start\": {\"x\": 6.086, \"y\": 15.999, \"z\": 4.905}, \"end\": {\"x\": 6.04907735687932, \"y\": 16.041266347857622, \"z\": 4.78591409656179}, \"color\": \"green\", \"radius\": 0.03, \"dashed\": false});\n",
       "\tviewer_17502037004273422.addCylinder({\"start\": {\"x\": 4.596, \"y\": 16.036, \"z\": 5.258}, \"end\": {\"x\": 4.568869615490389, \"y\": 16.126308053747138, \"z\": 5.155723440131794}, \"color\": \"green\", \"radius\": 0.03, \"dashed\": false});\n",
       "\tviewer_17502037004273422.addCylinder({\"start\": {\"x\": 3.72, \"y\": 16.473, \"z\": 4.313}, \"end\": {\"x\": 3.704525305864932, \"y\": 16.51028712719917, \"z\": 4.235015568128403}, \"color\": \"green\", \"radius\": 0.03, \"dashed\": false});\n",
       "\tviewer_17502037004273422.addCylinder({\"start\": {\"x\": 0.319, \"y\": 15.212, \"z\": 4.568}, \"end\": {\"x\": 0.3125121526964634, \"y\": 15.270417509235427, \"z\": 4.598263553921228}, \"color\": \"green\", \"radius\": 0.03, \"dashed\": false});\n",
       "\tviewer_17502037004273422.addCylinder({\"start\": {\"x\": 2.294, \"y\": 16.537, \"z\": 4.603}, \"end\": {\"x\": 2.2787526266847262, \"y\": 16.620928452856127, \"z\": 4.512393945728692}, \"color\": \"green\", \"radius\": 0.03, \"dashed\": false});\n",
       "\tviewer_17502037004273422.addCylinder({\"start\": {\"x\": 1.511, \"y\": 15.249, \"z\": 4.316}, \"end\": {\"x\": 1.514033828943055, \"y\": 15.32282043999787, \"z\": 4.3250153254602015}, \"color\": \"green\", \"radius\": 0.03, \"dashed\": false});\n",
       "\tviewer_17502037004273422.addCylinder({\"start\": {\"x\": 2.199, \"y\": 14.251, \"z\": 3.753}, \"end\": {\"x\": 2.1858062572976595, \"y\": 14.289870335811326, \"z\": 3.8478467108557144}, \"color\": \"green\", \"radius\": 0.03, \"dashed\": false});\n",
       "\tviewer_17502037004273422.addCylinder({\"start\": {\"x\": 2.05, \"y\": 12.462, \"z\": 5.822}, \"end\": {\"x\": 2.1718328479130338, \"y\": 12.399011530670682, \"z\": 5.8594246295186405}, \"color\": \"green\", \"radius\": 0.03, \"dashed\": false});\n",
       "\tviewer_17502037004273422.addCylinder({\"start\": {\"x\": 1.591, \"y\": 12.961, \"z\": 3.497}, \"end\": {\"x\": 1.585455894650555, \"y\": 12.998639202995616, \"z\": 3.5879648074516064}, \"color\": \"green\", \"radius\": 0.03, \"dashed\": false});\n",
       "\tviewer_17502037004273422.addCylinder({\"start\": {\"x\": 1.644, \"y\": 12.077, \"z\": 4.754}, \"end\": {\"x\": 1.6770442082479398, \"y\": 12.074487082975878, \"z\": 4.798929893602074}, \"color\": \"green\", \"radius\": 0.03, \"dashed\": false});\n",
       "\tviewer_17502037004273422.zoomTo();\n",
       "\tviewer_17502037004273422.setBackgroundColor(\"white\");\n",
       "viewer_17502037004273422.render();\n",
       "});\n",
       "</script>"
      ]
     },
     "metadata": {},
     "output_type": "display_data"
    }
   ],
   "source": [
    "group1_data_path = \"../Data/Our_Benchmark_20250410_ver1/Cyclic_Peptide/Backbone_Most_Similar\"\n",
    "molA = next(pybel.readfile(\"xyz\", os.path.join(group1_data_path, 'c6mers', 'BIHXUL10_fixed_backbone.xyz')))\n",
    "molB = next(pybel.readfile(\"xyz\", os.path.join(group1_data_path, 'c6mers', 'CINYED_fixed_backbone.xyz')))\n",
    "X_A, T_A, B_A = otm.tl.process_molecule(molA) \n",
    "X_B, T_B, B_B = otm.tl.process_molecule(molB)\n",
    "assignment = group1_res['assignment'][2]\n",
    "X_B_aligned, _, _ = otm.tl.kabsch(X_A, X_B, otm.tl.permutation_to_matrix(assignment))\n",
    "interactive_alignment_plot_py3dmol(X_A, X_B_aligned, T_A, T_B, B_A, B_B, assignment, 'ALPRAL10_2', 'CEJSUF', save=True)"
   ]
  },
  {
   "cell_type": "code",
   "execution_count": 10,
   "metadata": {},
   "outputs": [
    {
     "data": {
      "application/3dmoljs_load.v0": "<div id=\"3dmolviewer_17502037788147662\"  style=\"position: relative; width: 800px; height: 600px;\">\n        <p id=\"3dmolwarning_17502037788147662\" style=\"background-color:#ffcccc;color:black\">3Dmol.js failed to load for some reason.  Please check your browser console for error messages.<br></p>\n        </div>\n<script>\n\nvar loadScriptAsync = function(uri){\n  return new Promise((resolve, reject) => {\n    //this is to ignore the existence of requirejs amd\n    var savedexports, savedmodule;\n    if (typeof exports !== 'undefined') savedexports = exports;\n    else exports = {}\n    if (typeof module !== 'undefined') savedmodule = module;\n    else module = {}\n\n    var tag = document.createElement('script');\n    tag.src = uri;\n    tag.async = true;\n    tag.onload = () => {\n        exports = savedexports;\n        module = savedmodule;\n        resolve();\n    };\n  var firstScriptTag = document.getElementsByTagName('script')[0];\n  firstScriptTag.parentNode.insertBefore(tag, firstScriptTag);\n});\n};\n\nif(typeof $3Dmolpromise === 'undefined') {\n$3Dmolpromise = null;\n  $3Dmolpromise = loadScriptAsync('https://cdnjs.cloudflare.com/ajax/libs/3Dmol/2.4.2/3Dmol-min.js');\n}\n\nvar viewer_17502037788147662 = null;\nvar warn = document.getElementById(\"3dmolwarning_17502037788147662\");\nif(warn) {\n    warn.parentNode.removeChild(warn);\n}\n$3Dmolpromise.then(function() {\nviewer_17502037788147662 = $3Dmol.createViewer(document.getElementById(\"3dmolviewer_17502037788147662\"),{backgroundColor:\"white\"});\nviewer_17502037788147662.zoomTo();\n\tviewer_17502037788147662.addModel(\"28\\nALPRAL10_2\\nN    1.149    8.524    3.844\\nC    1.196    9.190    2.571\\nC    1.749    8.198    1.537\\nO    2.866    8.368    1.022\\nN    0.999    7.131    1.268\\nC    1.456    6.094    0.390\\nC    1.641    6.695   -1.004\\nO    0.749    7.421   -1.480\\nN    2.776    6.463   -1.702\\nC    3.777    5.422   -1.513\\nC    5.057    5.893   -0.809\\nO    6.104    5.228   -0.929\\nN    4.985    6.955   -0.040\\nC    6.144    7.532    0.625\\nC    6.348    7.017    2.053\\nO    7.476    6.937    2.547\\nN    5.236    6.755    2.757\\nC    5.216    6.281    4.117\\nC    3.757    5.877    4.398\\nO    2.887    6.085    3.555\\nN    3.480    5.332    5.588\\nC    2.156    4.806    5.867\\nC    1.084    5.916    6.040\\nO   -0.084    5.545    6.078\\nN    1.495    7.170    6.175\\nC    0.604    8.302    6.197\\nC    0.338    8.888    4.837\\nO   -0.518    9.777    4.694\\n\",\"xyz\");\n\tviewer_17502037788147662.addModel(\"28\\nCEJSUF\\nN    1.409    7.022    6.177\\nC    0.346    8.010    6.196\\nC    0.236    8.829    4.903\\nO   -0.584    9.744    4.813\\nN    1.090    8.515    3.919\\nC    1.085    9.243    2.651\\nC    1.722    8.304    1.619\\nO    2.889    8.447    1.223\\nN    0.954    7.289    1.217\\nC    1.481    6.286    0.333\\nC    1.813    6.918   -1.025\\nO    1.138    7.858   -1.439\\nN    2.802    6.384   -1.755\\nC    3.632    5.198   -1.427\\nC    4.945    5.534   -0.694\\nO    5.790    4.688   -0.597\\nN    5.067    6.785   -0.191\\nC    6.324    7.182    0.443\\nC    6.325    7.022    1.951\\nO    7.409    7.046    2.572\\nN    5.156    6.872    2.593\\nC    5.066    6.880    4.035\\nC    3.745    6.175    4.385\\nO    2.798    6.257    3.607\\nN    3.694    5.534    5.540\\nC    2.465    4.817    5.967\\nC    1.212    5.733    5.938\\nO    0.111    5.229    5.731\\n\",\"xyz\");\n\tviewer_17502037788147662.setStyle({\"model\": 0},{\"stick\": {\"radius\": 0.06, \"color\": \"#DC2626\"}, \"sphere\": {\"radius\": 0.15, \"color\": \"#DC2626\"}});\n\tviewer_17502037788147662.setStyle({\"model\": 1},{\"stick\": {\"radius\": 0.06, \"color\": \"#2563EB\"}, \"sphere\": {\"radius\": 0.15, \"color\": \"#2563EB\"}});\n\tviewer_17502037788147662.addCylinder({\"start\": {\"x\": 1.149, \"y\": 8.524, \"z\": 3.844}, \"end\": {\"x\": 1.0902573690390895, \"y\": 8.51476809335834, \"z\": 3.918770149593043}, \"color\": \"green\", \"radius\": 0.03, \"dashed\": false});\n\tviewer_17502037788147662.addCylinder({\"start\": {\"x\": 1.196, \"y\": 9.19, \"z\": 2.571}, \"end\": {\"x\": 1.085107077395271, \"y\": 9.243141973005878, \"z\": 2.6507484755104684}, \"color\": \"green\", \"radius\": 0.03, \"dashed\": false});\n\tviewer_17502037788147662.addCylinder({\"start\": {\"x\": 1.749, \"y\": 8.198, \"z\": 1.537}, \"end\": {\"x\": 1.7223596542802813, \"y\": 8.30388629742081, \"z\": 1.618517431056442}, \"color\": \"green\", \"radius\": 0.03, \"dashed\": false});\n\tviewer_17502037788147662.addCylinder({\"start\": {\"x\": 2.866, \"y\": 8.368, \"z\": 1.022}, \"end\": {\"x\": 2.889161574517688, \"y\": 8.446627448646952, \"z\": 1.2229820436674816}, \"color\": \"green\", \"radius\": 0.03, \"dashed\": false});\n\tviewer_17502037788147662.addCylinder({\"start\": {\"x\": 0.999, \"y\": 7.131, \"z\": 1.268}, \"end\": {\"x\": 0.9539911256877303, \"y\": 7.288773131434401, \"z\": 1.2168408640157868}, \"color\": \"green\", \"radius\": 0.03, \"dashed\": false});\n\tviewer_17502037788147662.addCylinder({\"start\": {\"x\": 1.456, \"y\": 6.094, \"z\": 0.39}, \"end\": {\"x\": 1.4814630744230044, \"y\": 6.286226543393148, \"z\": 0.33260804280620637}, \"color\": \"green\", \"radius\": 0.03, \"dashed\": false});\n\tviewer_17502037788147662.addCylinder({\"start\": {\"x\": 1.641, \"y\": 6.695, \"z\": -1.004}, \"end\": {\"x\": 1.8130536415015828, \"y\": 6.917965606699158, \"z\": -1.024634180128871}, \"color\": \"green\", \"radius\": 0.03, \"dashed\": false});\n\tviewer_17502037788147662.addCylinder({\"start\": {\"x\": 0.749, \"y\": 7.421, \"z\": -1.48}, \"end\": {\"x\": 1.1384835845581782, \"y\": 7.8580293687362275, \"z\": -1.4393501812429876}, \"color\": \"green\", \"radius\": 0.03, \"dashed\": false});\n\tviewer_17502037788147662.addCylinder({\"start\": {\"x\": 2.776, \"y\": 6.463, \"z\": -1.702}, \"end\": {\"x\": 2.8020360137215303, \"y\": 6.383846681481993, \"z\": -1.7548778662796412}, \"color\": \"green\", \"radius\": 0.03, \"dashed\": false});\n\tviewer_17502037788147662.addCylinder({\"start\": {\"x\": 3.777, \"y\": 5.422, \"z\": -1.513}, \"end\": {\"x\": 3.631952779539354, \"y\": 5.198193701847105, \"z\": -1.4265987568355636}, \"color\": \"green\", \"radius\": 0.03, \"dashed\": false});\n\tviewer_17502037788147662.addCylinder({\"start\": {\"x\": 5.057, \"y\": 5.893, \"z\": -0.809}, \"end\": {\"x\": 4.944836341145953, \"y\": 5.533918083229663, \"z\": -0.6937420904890865}, \"color\": \"green\", \"radius\": 0.03, \"dashed\": false});\n\tviewer_17502037788147662.addCylinder({\"start\": {\"x\": 6.104, \"y\": 5.228, \"z\": -0.929}, \"end\": {\"x\": 5.789714552292198, \"y\": 4.688365694729393, \"z\": -0.5966701242382249}, \"color\": \"green\", \"radius\": 0.03, \"dashed\": false});\n\tviewer_17502037788147662.addCylinder({\"start\": {\"x\": 4.985, \"y\": 6.955, \"z\": -0.04}, \"end\": {\"x\": 5.067452623865436, \"y\": 6.785459297818826, \"z\": -0.19136391083083337}, \"color\": \"green\", \"radius\": 0.03, \"dashed\": false});\n\tviewer_17502037788147662.addCylinder({\"start\": {\"x\": 6.144, \"y\": 7.532, \"z\": 0.625}, \"end\": {\"x\": 6.323788026543663, \"y\": 7.182471880396511, \"z\": 0.44257328262947593}, \"color\": \"green\", \"radius\": 0.03, \"dashed\": false});\n\tviewer_17502037788147662.addCylinder({\"start\": {\"x\": 6.348, \"y\": 7.017, \"z\": 2.053}, \"end\": {\"x\": 6.32496329267408, \"y\": 7.021855714382191, \"z\": 1.9505540736093823}, \"color\": \"green\", \"radius\": 0.03, \"dashed\": false});\n\tviewer_17502037788147662.addCylinder({\"start\": {\"x\": 7.476, \"y\": 6.937, \"z\": 2.547}, \"end\": {\"x\": 7.409338654164684, \"y\": 7.045579541806772, \"z\": 2.572439316563779}, \"color\": \"green\", \"radius\": 0.03, \"dashed\": false});\n\tviewer_17502037788147662.addCylinder({\"start\": {\"x\": 5.236, \"y\": 6.755, \"z\": 2.757}, \"end\": {\"x\": 5.156121347583289, \"y\": 6.871570360082746, \"z\": 2.5926029967293163}, \"color\": \"green\", \"radius\": 0.03, \"dashed\": false});\n\tviewer_17502037788147662.addCylinder({\"start\": {\"x\": 5.216, \"y\": 6.281, \"z\": 4.117}, \"end\": {\"x\": 5.065671483807309, \"y\": 6.879971106632303, \"z\": 4.034681444526216}, \"color\": \"green\", \"radius\": 0.03, \"dashed\": false});\n\tviewer_17502037788147662.addCylinder({\"start\": {\"x\": 3.757, \"y\": 5.877, \"z\": 4.398}, \"end\": {\"x\": 3.74522769624903, \"y\": 6.1752363763465885, \"z\": 4.385256919749265}, \"color\": \"green\", \"radius\": 0.03, \"dashed\": false});\n\tviewer_17502037788147662.addCylinder({\"start\": {\"x\": 2.887, \"y\": 6.085, \"z\": 3.555}, \"end\": {\"x\": 2.797733712500545, \"y\": 6.257494036266553, \"z\": 3.6070629669682654}, \"color\": \"green\", \"radius\": 0.03, \"dashed\": false});\n\tviewer_17502037788147662.addCylinder({\"start\": {\"x\": 3.48, \"y\": 5.332, \"z\": 5.588}, \"end\": {\"x\": 3.69447321857567, \"y\": 5.534487820247225, \"z\": 5.540254439596249}, \"color\": \"green\", \"radius\": 0.03, \"dashed\": false});\n\tviewer_17502037788147662.addCylinder({\"start\": {\"x\": 2.156, \"y\": 4.806, \"z\": 5.867}, \"end\": {\"x\": 2.4654319872870145, \"y\": 4.817138411698236, \"z\": 5.966944582260552}, \"color\": \"green\", \"radius\": 0.03, \"dashed\": false});\n\tviewer_17502037788147662.addCylinder({\"start\": {\"x\": 1.084, \"y\": 5.916, \"z\": 6.04}, \"end\": {\"x\": 1.2118355560711755, \"y\": 5.732872339534213, \"z\": 5.937680934965511}, \"color\": \"green\", \"radius\": 0.03, \"dashed\": false});\n\tviewer_17502037788147662.addCylinder({\"start\": {\"x\": -0.084, \"y\": 5.545, \"z\": 6.078}, \"end\": {\"x\": 0.11109856828046172, \"y\": 5.228544778475672, \"z\": 5.731455827701216}, \"color\": \"green\", \"radius\": 0.03, \"dashed\": false});\n\tviewer_17502037788147662.addCylinder({\"start\": {\"x\": 1.495, \"y\": 7.17, \"z\": 6.175}, \"end\": {\"x\": 1.4092360515468134, \"y\": 7.022411631429279, \"z\": 6.17652075376619}, \"color\": \"green\", \"radius\": 0.03, \"dashed\": false});\n\tviewer_17502037788147662.addCylinder({\"start\": {\"x\": 0.604, \"y\": 8.302, \"z\": 6.197}, \"end\": {\"x\": 0.3463083922156831, \"y\": 8.009967896281227, \"z\": 6.195557948425933}, \"color\": \"green\", \"radius\": 0.03, \"dashed\": false});\n\tviewer_17502037788147662.addCylinder({\"start\": {\"x\": 0.338, \"y\": 8.888, \"z\": 4.837}, \"end\": {\"x\": 0.2355744240315556, \"y\": 8.829229627112138, \"z\": 4.90270714315638}, \"color\": \"green\", \"radius\": 0.03, \"dashed\": false});\n\tviewer_17502037788147662.addCylinder({\"start\": {\"x\": -0.518, \"y\": 9.777, \"z\": 4.694}, \"end\": {\"x\": -0.5836718234982599, \"y\": 9.743966557506416, \"z\": 4.8134774727480885}, \"color\": \"green\", \"radius\": 0.03, \"dashed\": false});\n\tviewer_17502037788147662.zoomTo();\n\tviewer_17502037788147662.setBackgroundColor(\"white\");\nviewer_17502037788147662.render();\n});\n</script>",
      "text/html": [
       "<div id=\"3dmolviewer_17502037788147662\"  style=\"position: relative; width: 800px; height: 600px;\">\n",
       "        <p id=\"3dmolwarning_17502037788147662\" style=\"background-color:#ffcccc;color:black\">3Dmol.js failed to load for some reason.  Please check your browser console for error messages.<br></p>\n",
       "        </div>\n",
       "<script>\n",
       "\n",
       "var loadScriptAsync = function(uri){\n",
       "  return new Promise((resolve, reject) => {\n",
       "    //this is to ignore the existence of requirejs amd\n",
       "    var savedexports, savedmodule;\n",
       "    if (typeof exports !== 'undefined') savedexports = exports;\n",
       "    else exports = {}\n",
       "    if (typeof module !== 'undefined') savedmodule = module;\n",
       "    else module = {}\n",
       "\n",
       "    var tag = document.createElement('script');\n",
       "    tag.src = uri;\n",
       "    tag.async = true;\n",
       "    tag.onload = () => {\n",
       "        exports = savedexports;\n",
       "        module = savedmodule;\n",
       "        resolve();\n",
       "    };\n",
       "  var firstScriptTag = document.getElementsByTagName('script')[0];\n",
       "  firstScriptTag.parentNode.insertBefore(tag, firstScriptTag);\n",
       "});\n",
       "};\n",
       "\n",
       "if(typeof $3Dmolpromise === 'undefined') {\n",
       "$3Dmolpromise = null;\n",
       "  $3Dmolpromise = loadScriptAsync('https://cdnjs.cloudflare.com/ajax/libs/3Dmol/2.4.2/3Dmol-min.js');\n",
       "}\n",
       "\n",
       "var viewer_17502037788147662 = null;\n",
       "var warn = document.getElementById(\"3dmolwarning_17502037788147662\");\n",
       "if(warn) {\n",
       "    warn.parentNode.removeChild(warn);\n",
       "}\n",
       "$3Dmolpromise.then(function() {\n",
       "viewer_17502037788147662 = $3Dmol.createViewer(document.getElementById(\"3dmolviewer_17502037788147662\"),{backgroundColor:\"white\"});\n",
       "viewer_17502037788147662.zoomTo();\n",
       "\tviewer_17502037788147662.addModel(\"28\\nALPRAL10_2\\nN    1.149    8.524    3.844\\nC    1.196    9.190    2.571\\nC    1.749    8.198    1.537\\nO    2.866    8.368    1.022\\nN    0.999    7.131    1.268\\nC    1.456    6.094    0.390\\nC    1.641    6.695   -1.004\\nO    0.749    7.421   -1.480\\nN    2.776    6.463   -1.702\\nC    3.777    5.422   -1.513\\nC    5.057    5.893   -0.809\\nO    6.104    5.228   -0.929\\nN    4.985    6.955   -0.040\\nC    6.144    7.532    0.625\\nC    6.348    7.017    2.053\\nO    7.476    6.937    2.547\\nN    5.236    6.755    2.757\\nC    5.216    6.281    4.117\\nC    3.757    5.877    4.398\\nO    2.887    6.085    3.555\\nN    3.480    5.332    5.588\\nC    2.156    4.806    5.867\\nC    1.084    5.916    6.040\\nO   -0.084    5.545    6.078\\nN    1.495    7.170    6.175\\nC    0.604    8.302    6.197\\nC    0.338    8.888    4.837\\nO   -0.518    9.777    4.694\\n\",\"xyz\");\n",
       "\tviewer_17502037788147662.addModel(\"28\\nCEJSUF\\nN    1.409    7.022    6.177\\nC    0.346    8.010    6.196\\nC    0.236    8.829    4.903\\nO   -0.584    9.744    4.813\\nN    1.090    8.515    3.919\\nC    1.085    9.243    2.651\\nC    1.722    8.304    1.619\\nO    2.889    8.447    1.223\\nN    0.954    7.289    1.217\\nC    1.481    6.286    0.333\\nC    1.813    6.918   -1.025\\nO    1.138    7.858   -1.439\\nN    2.802    6.384   -1.755\\nC    3.632    5.198   -1.427\\nC    4.945    5.534   -0.694\\nO    5.790    4.688   -0.597\\nN    5.067    6.785   -0.191\\nC    6.324    7.182    0.443\\nC    6.325    7.022    1.951\\nO    7.409    7.046    2.572\\nN    5.156    6.872    2.593\\nC    5.066    6.880    4.035\\nC    3.745    6.175    4.385\\nO    2.798    6.257    3.607\\nN    3.694    5.534    5.540\\nC    2.465    4.817    5.967\\nC    1.212    5.733    5.938\\nO    0.111    5.229    5.731\\n\",\"xyz\");\n",
       "\tviewer_17502037788147662.setStyle({\"model\": 0},{\"stick\": {\"radius\": 0.06, \"color\": \"#DC2626\"}, \"sphere\": {\"radius\": 0.15, \"color\": \"#DC2626\"}});\n",
       "\tviewer_17502037788147662.setStyle({\"model\": 1},{\"stick\": {\"radius\": 0.06, \"color\": \"#2563EB\"}, \"sphere\": {\"radius\": 0.15, \"color\": \"#2563EB\"}});\n",
       "\tviewer_17502037788147662.addCylinder({\"start\": {\"x\": 1.149, \"y\": 8.524, \"z\": 3.844}, \"end\": {\"x\": 1.0902573690390895, \"y\": 8.51476809335834, \"z\": 3.918770149593043}, \"color\": \"green\", \"radius\": 0.03, \"dashed\": false});\n",
       "\tviewer_17502037788147662.addCylinder({\"start\": {\"x\": 1.196, \"y\": 9.19, \"z\": 2.571}, \"end\": {\"x\": 1.085107077395271, \"y\": 9.243141973005878, \"z\": 2.6507484755104684}, \"color\": \"green\", \"radius\": 0.03, \"dashed\": false});\n",
       "\tviewer_17502037788147662.addCylinder({\"start\": {\"x\": 1.749, \"y\": 8.198, \"z\": 1.537}, \"end\": {\"x\": 1.7223596542802813, \"y\": 8.30388629742081, \"z\": 1.618517431056442}, \"color\": \"green\", \"radius\": 0.03, \"dashed\": false});\n",
       "\tviewer_17502037788147662.addCylinder({\"start\": {\"x\": 2.866, \"y\": 8.368, \"z\": 1.022}, \"end\": {\"x\": 2.889161574517688, \"y\": 8.446627448646952, \"z\": 1.2229820436674816}, \"color\": \"green\", \"radius\": 0.03, \"dashed\": false});\n",
       "\tviewer_17502037788147662.addCylinder({\"start\": {\"x\": 0.999, \"y\": 7.131, \"z\": 1.268}, \"end\": {\"x\": 0.9539911256877303, \"y\": 7.288773131434401, \"z\": 1.2168408640157868}, \"color\": \"green\", \"radius\": 0.03, \"dashed\": false});\n",
       "\tviewer_17502037788147662.addCylinder({\"start\": {\"x\": 1.456, \"y\": 6.094, \"z\": 0.39}, \"end\": {\"x\": 1.4814630744230044, \"y\": 6.286226543393148, \"z\": 0.33260804280620637}, \"color\": \"green\", \"radius\": 0.03, \"dashed\": false});\n",
       "\tviewer_17502037788147662.addCylinder({\"start\": {\"x\": 1.641, \"y\": 6.695, \"z\": -1.004}, \"end\": {\"x\": 1.8130536415015828, \"y\": 6.917965606699158, \"z\": -1.024634180128871}, \"color\": \"green\", \"radius\": 0.03, \"dashed\": false});\n",
       "\tviewer_17502037788147662.addCylinder({\"start\": {\"x\": 0.749, \"y\": 7.421, \"z\": -1.48}, \"end\": {\"x\": 1.1384835845581782, \"y\": 7.8580293687362275, \"z\": -1.4393501812429876}, \"color\": \"green\", \"radius\": 0.03, \"dashed\": false});\n",
       "\tviewer_17502037788147662.addCylinder({\"start\": {\"x\": 2.776, \"y\": 6.463, \"z\": -1.702}, \"end\": {\"x\": 2.8020360137215303, \"y\": 6.383846681481993, \"z\": -1.7548778662796412}, \"color\": \"green\", \"radius\": 0.03, \"dashed\": false});\n",
       "\tviewer_17502037788147662.addCylinder({\"start\": {\"x\": 3.777, \"y\": 5.422, \"z\": -1.513}, \"end\": {\"x\": 3.631952779539354, \"y\": 5.198193701847105, \"z\": -1.4265987568355636}, \"color\": \"green\", \"radius\": 0.03, \"dashed\": false});\n",
       "\tviewer_17502037788147662.addCylinder({\"start\": {\"x\": 5.057, \"y\": 5.893, \"z\": -0.809}, \"end\": {\"x\": 4.944836341145953, \"y\": 5.533918083229663, \"z\": -0.6937420904890865}, \"color\": \"green\", \"radius\": 0.03, \"dashed\": false});\n",
       "\tviewer_17502037788147662.addCylinder({\"start\": {\"x\": 6.104, \"y\": 5.228, \"z\": -0.929}, \"end\": {\"x\": 5.789714552292198, \"y\": 4.688365694729393, \"z\": -0.5966701242382249}, \"color\": \"green\", \"radius\": 0.03, \"dashed\": false});\n",
       "\tviewer_17502037788147662.addCylinder({\"start\": {\"x\": 4.985, \"y\": 6.955, \"z\": -0.04}, \"end\": {\"x\": 5.067452623865436, \"y\": 6.785459297818826, \"z\": -0.19136391083083337}, \"color\": \"green\", \"radius\": 0.03, \"dashed\": false});\n",
       "\tviewer_17502037788147662.addCylinder({\"start\": {\"x\": 6.144, \"y\": 7.532, \"z\": 0.625}, \"end\": {\"x\": 6.323788026543663, \"y\": 7.182471880396511, \"z\": 0.44257328262947593}, \"color\": \"green\", \"radius\": 0.03, \"dashed\": false});\n",
       "\tviewer_17502037788147662.addCylinder({\"start\": {\"x\": 6.348, \"y\": 7.017, \"z\": 2.053}, \"end\": {\"x\": 6.32496329267408, \"y\": 7.021855714382191, \"z\": 1.9505540736093823}, \"color\": \"green\", \"radius\": 0.03, \"dashed\": false});\n",
       "\tviewer_17502037788147662.addCylinder({\"start\": {\"x\": 7.476, \"y\": 6.937, \"z\": 2.547}, \"end\": {\"x\": 7.409338654164684, \"y\": 7.045579541806772, \"z\": 2.572439316563779}, \"color\": \"green\", \"radius\": 0.03, \"dashed\": false});\n",
       "\tviewer_17502037788147662.addCylinder({\"start\": {\"x\": 5.236, \"y\": 6.755, \"z\": 2.757}, \"end\": {\"x\": 5.156121347583289, \"y\": 6.871570360082746, \"z\": 2.5926029967293163}, \"color\": \"green\", \"radius\": 0.03, \"dashed\": false});\n",
       "\tviewer_17502037788147662.addCylinder({\"start\": {\"x\": 5.216, \"y\": 6.281, \"z\": 4.117}, \"end\": {\"x\": 5.065671483807309, \"y\": 6.879971106632303, \"z\": 4.034681444526216}, \"color\": \"green\", \"radius\": 0.03, \"dashed\": false});\n",
       "\tviewer_17502037788147662.addCylinder({\"start\": {\"x\": 3.757, \"y\": 5.877, \"z\": 4.398}, \"end\": {\"x\": 3.74522769624903, \"y\": 6.1752363763465885, \"z\": 4.385256919749265}, \"color\": \"green\", \"radius\": 0.03, \"dashed\": false});\n",
       "\tviewer_17502037788147662.addCylinder({\"start\": {\"x\": 2.887, \"y\": 6.085, \"z\": 3.555}, \"end\": {\"x\": 2.797733712500545, \"y\": 6.257494036266553, \"z\": 3.6070629669682654}, \"color\": \"green\", \"radius\": 0.03, \"dashed\": false});\n",
       "\tviewer_17502037788147662.addCylinder({\"start\": {\"x\": 3.48, \"y\": 5.332, \"z\": 5.588}, \"end\": {\"x\": 3.69447321857567, \"y\": 5.534487820247225, \"z\": 5.540254439596249}, \"color\": \"green\", \"radius\": 0.03, \"dashed\": false});\n",
       "\tviewer_17502037788147662.addCylinder({\"start\": {\"x\": 2.156, \"y\": 4.806, \"z\": 5.867}, \"end\": {\"x\": 2.4654319872870145, \"y\": 4.817138411698236, \"z\": 5.966944582260552}, \"color\": \"green\", \"radius\": 0.03, \"dashed\": false});\n",
       "\tviewer_17502037788147662.addCylinder({\"start\": {\"x\": 1.084, \"y\": 5.916, \"z\": 6.04}, \"end\": {\"x\": 1.2118355560711755, \"y\": 5.732872339534213, \"z\": 5.937680934965511}, \"color\": \"green\", \"radius\": 0.03, \"dashed\": false});\n",
       "\tviewer_17502037788147662.addCylinder({\"start\": {\"x\": -0.084, \"y\": 5.545, \"z\": 6.078}, \"end\": {\"x\": 0.11109856828046172, \"y\": 5.228544778475672, \"z\": 5.731455827701216}, \"color\": \"green\", \"radius\": 0.03, \"dashed\": false});\n",
       "\tviewer_17502037788147662.addCylinder({\"start\": {\"x\": 1.495, \"y\": 7.17, \"z\": 6.175}, \"end\": {\"x\": 1.4092360515468134, \"y\": 7.022411631429279, \"z\": 6.17652075376619}, \"color\": \"green\", \"radius\": 0.03, \"dashed\": false});\n",
       "\tviewer_17502037788147662.addCylinder({\"start\": {\"x\": 0.604, \"y\": 8.302, \"z\": 6.197}, \"end\": {\"x\": 0.3463083922156831, \"y\": 8.009967896281227, \"z\": 6.195557948425933}, \"color\": \"green\", \"radius\": 0.03, \"dashed\": false});\n",
       "\tviewer_17502037788147662.addCylinder({\"start\": {\"x\": 0.338, \"y\": 8.888, \"z\": 4.837}, \"end\": {\"x\": 0.2355744240315556, \"y\": 8.829229627112138, \"z\": 4.90270714315638}, \"color\": \"green\", \"radius\": 0.03, \"dashed\": false});\n",
       "\tviewer_17502037788147662.addCylinder({\"start\": {\"x\": -0.518, \"y\": 9.777, \"z\": 4.694}, \"end\": {\"x\": -0.5836718234982599, \"y\": 9.743966557506416, \"z\": 4.8134774727480885}, \"color\": \"green\", \"radius\": 0.03, \"dashed\": false});\n",
       "\tviewer_17502037788147662.zoomTo();\n",
       "\tviewer_17502037788147662.setBackgroundColor(\"white\");\n",
       "viewer_17502037788147662.render();\n",
       "});\n",
       "</script>"
      ]
     },
     "metadata": {},
     "output_type": "display_data"
    }
   ],
   "source": [
    "group1_data_path = \"../Data/Our_Benchmark_20250410_ver1/Cyclic_Peptide/Backbone_Most_Similar\"\n",
    "molA = next(pybel.readfile(\"xyz\", os.path.join(group1_data_path, 'c7mers', 'LACSUD_fixed_backbone.xyz')))\n",
    "molB = next(pybel.readfile(\"xyz\", os.path.join(group1_data_path, 'c7mers', 'TALVAD_fixed_backbone.xyz')))\n",
    "X_A, T_A, B_A = otm.tl.process_molecule(molA) \n",
    "X_B, T_B, B_B = otm.tl.process_molecule(molB)\n",
    "assignment = group1_res['assignment'][3]\n",
    "X_B_aligned, _, _ = otm.tl.kabsch(X_A, X_B, otm.tl.permutation_to_matrix(assignment))\n",
    "interactive_alignment_plot_py3dmol(X_A, X_B_aligned, T_A, T_B, B_A, B_B, assignment, 'ALPRAL10_2', 'CEJSUF', save=True)"
   ]
  },
  {
   "cell_type": "code",
   "execution_count": 11,
   "metadata": {},
   "outputs": [
    {
     "data": {
      "application/3dmoljs_load.v0": "<div id=\"3dmolviewer_1750203873217715\"  style=\"position: relative; width: 800px; height: 600px;\">\n        <p id=\"3dmolwarning_1750203873217715\" style=\"background-color:#ffcccc;color:black\">3Dmol.js failed to load for some reason.  Please check your browser console for error messages.<br></p>\n        </div>\n<script>\n\nvar loadScriptAsync = function(uri){\n  return new Promise((resolve, reject) => {\n    //this is to ignore the existence of requirejs amd\n    var savedexports, savedmodule;\n    if (typeof exports !== 'undefined') savedexports = exports;\n    else exports = {}\n    if (typeof module !== 'undefined') savedmodule = module;\n    else module = {}\n\n    var tag = document.createElement('script');\n    tag.src = uri;\n    tag.async = true;\n    tag.onload = () => {\n        exports = savedexports;\n        module = savedmodule;\n        resolve();\n    };\n  var firstScriptTag = document.getElementsByTagName('script')[0];\n  firstScriptTag.parentNode.insertBefore(tag, firstScriptTag);\n});\n};\n\nif(typeof $3Dmolpromise === 'undefined') {\n$3Dmolpromise = null;\n  $3Dmolpromise = loadScriptAsync('https://cdnjs.cloudflare.com/ajax/libs/3Dmol/2.4.2/3Dmol-min.js');\n}\n\nvar viewer_1750203873217715 = null;\nvar warn = document.getElementById(\"3dmolwarning_1750203873217715\");\nif(warn) {\n    warn.parentNode.removeChild(warn);\n}\n$3Dmolpromise.then(function() {\nviewer_1750203873217715 = $3Dmol.createViewer(document.getElementById(\"3dmolviewer_1750203873217715\"),{backgroundColor:\"white\"});\nviewer_1750203873217715.zoomTo();\n\tviewer_1750203873217715.addModel(\"32\\nALPRAL10_2\\nO    7.874   14.234   25.737\\nN    6.436   11.979   23.996\\nC    6.757   13.947   25.364\\nC    6.218   12.512   25.335\\nO    7.732   17.834   25.929\\nN    5.873   14.911   24.988\\nC    6.893   16.902   26.107\\nC    6.303   16.346   24.841\\nO    9.414   17.570   29.295\\nN    6.578   16.519   27.286\\nC    8.749   16.876   28.549\\nC    7.229   17.117   28.509\\nO   12.468   15.975   26.107\\nN    9.235   15.901   27.755\\nC   11.243   16.112   26.384\\nC   10.691   15.665   27.695\\nO   11.441   16.807   22.034\\nN   10.412   16.767   25.508\\nC   10.876   16.441   23.021\\nC   10.899   17.339   24.324\\nO    7.787   14.141   22.540\\nN   10.155   15.330   23.100\\nC    8.639   13.963   21.678\\nC   10.161   14.311   22.045\\nO    5.056   12.382   20.904\\nN    8.429   13.461   20.522\\nC    6.276   12.257   20.827\\nC    7.065   13.331   20.016\\nO    4.886   10.395   24.213\\nN    6.932   11.272   21.367\\nC    5.769   10.930   23.560\\nC    6.264   10.240   22.224\\n\",\"xyz\");\n\tviewer_1750203873217715.addModel(\"32\\nCEJSUF\\nN    9.264   15.895   27.854\\nC   10.697   15.613   27.728\\nC   11.281   16.086   26.409\\nO   12.436   15.840   26.128\\nN   10.445   16.748   25.592\\nC   10.857   17.259   24.309\\nC   10.654   16.332   23.131\\nO   11.059   16.680   22.036\\nN   10.064   15.175   23.374\\nC    9.941   14.096   22.407\\nC    8.546   14.069   21.814\\nO    7.556   14.373   22.472\\nN    8.447   13.576   20.569\\nC    7.138   13.399   19.964\\nC    6.296   12.363   20.682\\nO    5.079   12.387   20.620\\nN    6.950   11.406   21.357\\nC    6.294   10.389   22.146\\nC    5.923   10.847   23.563\\nO    5.153   10.171   24.237\\nN    6.494   11.976   23.998\\nC    6.254   12.495   25.351\\nC    6.752   13.943   25.370\\nO    7.905   14.223   25.732\\nN    5.878   14.881   25.000\\nC    6.304   16.262   24.833\\nC    6.967   16.918   26.022\\nO    7.865   17.749   25.807\\nN    6.604   16.622   27.284\\nC    7.316   17.280   28.390\\nC    8.799   16.987   28.468\\nO    9.523   17.728   29.115\\n\",\"xyz\");\n\tviewer_1750203873217715.setStyle({\"model\": 0},{\"stick\": {\"radius\": 0.06, \"color\": \"#DC2626\"}, \"sphere\": {\"radius\": 0.15, \"color\": \"#DC2626\"}});\n\tviewer_1750203873217715.setStyle({\"model\": 1},{\"stick\": {\"radius\": 0.06, \"color\": \"#2563EB\"}, \"sphere\": {\"radius\": 0.15, \"color\": \"#2563EB\"}});\n\tviewer_1750203873217715.addCylinder({\"start\": {\"x\": 7.874, \"y\": 14.234, \"z\": 25.737}, \"end\": {\"x\": 7.904543043772743, \"y\": 14.223068744108863, \"z\": 25.732232174876863}, \"color\": \"green\", \"radius\": 0.03, \"dashed\": false});\n\tviewer_1750203873217715.addCylinder({\"start\": {\"x\": 6.436, \"y\": 11.979, \"z\": 23.996}, \"end\": {\"x\": 6.4944797017429705, \"y\": 11.975958150567699, \"z\": 23.997997948522507}, \"color\": \"green\", \"radius\": 0.03, \"dashed\": false});\n\tviewer_1750203873217715.addCylinder({\"start\": {\"x\": 6.757, \"y\": 13.947, \"z\": 25.364}, \"end\": {\"x\": 6.751830951728008, \"y\": 13.943245939760283, \"z\": 25.370321922161708}, \"color\": \"green\", \"radius\": 0.03, \"dashed\": false});\n\tviewer_1750203873217715.addCylinder({\"start\": {\"x\": 6.218, \"y\": 12.512, \"z\": 25.335}, \"end\": {\"x\": 6.253968160826627, \"y\": 12.494796911144622, \"z\": 25.35059749724676}, \"color\": \"green\", \"radius\": 0.03, \"dashed\": false});\n\tviewer_1750203873217715.addCylinder({\"start\": {\"x\": 7.732, \"y\": 17.834, \"z\": 25.929}, \"end\": {\"x\": 7.865428430000733, \"y\": 17.748616837229207, \"z\": 25.80706325187665}, \"color\": \"green\", \"radius\": 0.03, \"dashed\": false});\n\tviewer_1750203873217715.addCylinder({\"start\": {\"x\": 5.873, \"y\": 14.911, \"z\": 24.988}, \"end\": {\"x\": 5.8776979449272115, \"y\": 14.881117957326138, \"z\": 25.00004423570416}, \"color\": \"green\", \"radius\": 0.03, \"dashed\": false});\n\tviewer_1750203873217715.addCylinder({\"start\": {\"x\": 6.893, \"y\": 16.902, \"z\": 26.107}, \"end\": {\"x\": 6.967331516852335, \"y\": 16.917854168448798, \"z\": 26.02189416853941}, \"color\": \"green\", \"radius\": 0.03, \"dashed\": false});\n\tviewer_1750203873217715.addCylinder({\"start\": {\"x\": 6.303, \"y\": 16.346, \"z\": 24.841}, \"end\": {\"x\": 6.303940039815119, \"y\": 16.26229262247076, \"z\": 24.833490277755953}, \"color\": \"green\", \"radius\": 0.03, \"dashed\": false});\n\tviewer_1750203873217715.addCylinder({\"start\": {\"x\": 9.414, \"y\": 17.57, \"z\": 29.295}, \"end\": {\"x\": 9.522817921182316, \"y\": 17.72771554494151, \"z\": 29.11544355203888}, \"color\": \"green\", \"radius\": 0.03, \"dashed\": false});\n\tviewer_1750203873217715.addCylinder({\"start\": {\"x\": 6.578, \"y\": 16.519, \"z\": 27.286}, \"end\": {\"x\": 6.604080002932073, \"y\": 16.62246824835365, \"z\": 27.284027876133095}, \"color\": \"green\", \"radius\": 0.03, \"dashed\": false});\n\tviewer_1750203873217715.addCylinder({\"start\": {\"x\": 8.749, \"y\": 16.876, \"z\": 28.549}, \"end\": {\"x\": 8.798646860740792, \"y\": 16.98681332682867, \"z\": 28.467968318215632}, \"color\": \"green\", \"radius\": 0.03, \"dashed\": false});\n\tviewer_1750203873217715.addCylinder({\"start\": {\"x\": 7.229, \"y\": 17.117, \"z\": 28.509}, \"end\": {\"x\": 7.315906070981762, \"y\": 17.280305793164533, \"z\": 28.38977034772497}, \"color\": \"green\", \"radius\": 0.03, \"dashed\": false});\n\tviewer_1750203873217715.addCylinder({\"start\": {\"x\": 12.468, \"y\": 15.975, \"z\": 26.107}, \"end\": {\"x\": 12.43565286131598, \"y\": 15.839697802925466, \"z\": 26.127844747418496}, \"color\": \"green\", \"radius\": 0.03, \"dashed\": false});\n\tviewer_1750203873217715.addCylinder({\"start\": {\"x\": 9.235, \"y\": 15.901, \"z\": 27.755}, \"end\": {\"x\": 9.264226073558294, \"y\": 15.894772405581236, \"z\": 27.853808222708533}, \"color\": \"green\", \"radius\": 0.03, \"dashed\": false});\n\tviewer_1750203873217715.addCylinder({\"start\": {\"x\": 11.243, \"y\": 16.112, \"z\": 26.384}, \"end\": {\"x\": 11.28087217772487, \"y\": 16.085877115283537, \"z\": 26.408519503981594}, \"color\": \"green\", \"radius\": 0.03, \"dashed\": false});\n\tviewer_1750203873217715.addCylinder({\"start\": {\"x\": 10.691, \"y\": 15.665, \"z\": 27.695}, \"end\": {\"x\": 10.696827004239314, \"y\": 15.613026455660638, \"z\": 27.727971848336026}, \"color\": \"green\", \"radius\": 0.03, \"dashed\": false});\n\tviewer_1750203873217715.addCylinder({\"start\": {\"x\": 11.441, \"y\": 16.807, \"z\": 22.034}, \"end\": {\"x\": 11.059282550485268, \"y\": 16.680414702687287, \"z\": 22.03550680170597}, \"color\": \"green\", \"radius\": 0.03, \"dashed\": false});\n\tviewer_1750203873217715.addCylinder({\"start\": {\"x\": 10.412, \"y\": 16.767, \"z\": 25.508}, \"end\": {\"x\": 10.444708240407454, \"y\": 16.748403519411838, \"z\": 25.5922820178523}, \"color\": \"green\", \"radius\": 0.03, \"dashed\": false});\n\tviewer_1750203873217715.addCylinder({\"start\": {\"x\": 10.876, \"y\": 16.441, \"z\": 23.021}, \"end\": {\"x\": 10.653987478548093, \"y\": 16.331976653496298, \"z\": 23.131310082655347}, \"color\": \"green\", \"radius\": 0.03, \"dashed\": false});\n\tviewer_1750203873217715.addCylinder({\"start\": {\"x\": 10.899, \"y\": 17.339, \"z\": 24.324}, \"end\": {\"x\": 10.857264267260241, \"y\": 17.259021565607753, \"z\": 24.309024936980933}, \"color\": \"green\", \"radius\": 0.03, \"dashed\": false});\n\tviewer_1750203873217715.addCylinder({\"start\": {\"x\": 7.787, \"y\": 14.141, \"z\": 22.54}, \"end\": {\"x\": 7.555876387226276, \"y\": 14.372565834014997, \"z\": 22.471566263943593}, \"color\": \"green\", \"radius\": 0.03, \"dashed\": false});\n\tviewer_1750203873217715.addCylinder({\"start\": {\"x\": 10.155, \"y\": 15.33, \"z\": 23.1}, \"end\": {\"x\": 10.063799780904322, \"y\": 15.17470128417165, \"z\": 23.373896564357125}, \"color\": \"green\", \"radius\": 0.03, \"dashed\": false});\n\tviewer_1750203873217715.addCylinder({\"start\": {\"x\": 8.639, \"y\": 13.963, \"z\": 21.678}, \"end\": {\"x\": 8.546473217842475, \"y\": 14.068837537168214, \"z\": 21.814039047117028}, \"color\": \"green\", \"radius\": 0.03, \"dashed\": false});\n\tviewer_1750203873217715.addCylinder({\"start\": {\"x\": 10.161, \"y\": 14.311, \"z\": 22.045}, \"end\": {\"x\": 9.941130977736062, \"y\": 14.0960056837664, \"z\": 22.406812717735946}, \"color\": \"green\", \"radius\": 0.03, \"dashed\": false});\n\tviewer_1750203873217715.addCylinder({\"start\": {\"x\": 5.056, \"y\": 12.382, \"z\": 20.904}, \"end\": {\"x\": 5.078592847357102, \"y\": 12.387011279318603, \"z\": 20.619997098771076}, \"color\": \"green\", \"radius\": 0.03, \"dashed\": false});\n\tviewer_1750203873217715.addCylinder({\"start\": {\"x\": 8.429, \"y\": 13.461, \"z\": 20.522}, \"end\": {\"x\": 8.446639816545835, \"y\": 13.575865440374205, \"z\": 20.568846369750162}, \"color\": \"green\", \"radius\": 0.03, \"dashed\": false});\n\tviewer_1750203873217715.addCylinder({\"start\": {\"x\": 6.276, \"y\": 12.257, \"z\": 20.827}, \"end\": {\"x\": 6.296260667086259, \"y\": 12.36308655226205, \"z\": 20.682115439310014}, \"color\": \"green\", \"radius\": 0.03, \"dashed\": false});\n\tviewer_1750203873217715.addCylinder({\"start\": {\"x\": 7.065, \"y\": 13.331, \"z\": 20.016}, \"end\": {\"x\": 7.137917866232293, \"y\": 13.398656653760451, \"z\": 19.96354900257069}, \"color\": \"green\", \"radius\": 0.03, \"dashed\": false});\n\tviewer_1750203873217715.addCylinder({\"start\": {\"x\": 4.886, \"y\": 10.395, \"z\": 24.213}, \"end\": {\"x\": 5.152797606726884, \"y\": 10.171057289781025, \"z\": 24.23666097172628}, \"color\": \"green\", \"radius\": 0.03, \"dashed\": false});\n\tviewer_1750203873217715.addCylinder({\"start\": {\"x\": 6.932, \"y\": 11.272, \"z\": 21.367}, \"end\": {\"x\": 6.94972383587172, \"y\": 11.405618299597126, \"z\": 21.356759369231302}, \"color\": \"green\", \"radius\": 0.03, \"dashed\": false});\n\tviewer_1750203873217715.addCylinder({\"start\": {\"x\": 5.769, \"y\": 10.93, \"z\": 23.56}, \"end\": {\"x\": 5.9233823806124, \"y\": 10.847413764692686, \"z\": 23.562807853383063}, \"color\": \"green\", \"radius\": 0.03, \"dashed\": false});\n\tviewer_1750203873217715.addCylinder({\"start\": {\"x\": 6.264, \"y\": 10.24, \"z\": 22.224}, \"end\": {\"x\": 6.293913316816206, \"y\": 10.388735916093871, \"z\": 22.145829569667786}, \"color\": \"green\", \"radius\": 0.03, \"dashed\": false});\n\tviewer_1750203873217715.zoomTo();\n\tviewer_1750203873217715.setBackgroundColor(\"white\");\nviewer_1750203873217715.render();\n});\n</script>",
      "text/html": [
       "<div id=\"3dmolviewer_1750203873217715\"  style=\"position: relative; width: 800px; height: 600px;\">\n",
       "        <p id=\"3dmolwarning_1750203873217715\" style=\"background-color:#ffcccc;color:black\">3Dmol.js failed to load for some reason.  Please check your browser console for error messages.<br></p>\n",
       "        </div>\n",
       "<script>\n",
       "\n",
       "var loadScriptAsync = function(uri){\n",
       "  return new Promise((resolve, reject) => {\n",
       "    //this is to ignore the existence of requirejs amd\n",
       "    var savedexports, savedmodule;\n",
       "    if (typeof exports !== 'undefined') savedexports = exports;\n",
       "    else exports = {}\n",
       "    if (typeof module !== 'undefined') savedmodule = module;\n",
       "    else module = {}\n",
       "\n",
       "    var tag = document.createElement('script');\n",
       "    tag.src = uri;\n",
       "    tag.async = true;\n",
       "    tag.onload = () => {\n",
       "        exports = savedexports;\n",
       "        module = savedmodule;\n",
       "        resolve();\n",
       "    };\n",
       "  var firstScriptTag = document.getElementsByTagName('script')[0];\n",
       "  firstScriptTag.parentNode.insertBefore(tag, firstScriptTag);\n",
       "});\n",
       "};\n",
       "\n",
       "if(typeof $3Dmolpromise === 'undefined') {\n",
       "$3Dmolpromise = null;\n",
       "  $3Dmolpromise = loadScriptAsync('https://cdnjs.cloudflare.com/ajax/libs/3Dmol/2.4.2/3Dmol-min.js');\n",
       "}\n",
       "\n",
       "var viewer_1750203873217715 = null;\n",
       "var warn = document.getElementById(\"3dmolwarning_1750203873217715\");\n",
       "if(warn) {\n",
       "    warn.parentNode.removeChild(warn);\n",
       "}\n",
       "$3Dmolpromise.then(function() {\n",
       "viewer_1750203873217715 = $3Dmol.createViewer(document.getElementById(\"3dmolviewer_1750203873217715\"),{backgroundColor:\"white\"});\n",
       "viewer_1750203873217715.zoomTo();\n",
       "\tviewer_1750203873217715.addModel(\"32\\nALPRAL10_2\\nO    7.874   14.234   25.737\\nN    6.436   11.979   23.996\\nC    6.757   13.947   25.364\\nC    6.218   12.512   25.335\\nO    7.732   17.834   25.929\\nN    5.873   14.911   24.988\\nC    6.893   16.902   26.107\\nC    6.303   16.346   24.841\\nO    9.414   17.570   29.295\\nN    6.578   16.519   27.286\\nC    8.749   16.876   28.549\\nC    7.229   17.117   28.509\\nO   12.468   15.975   26.107\\nN    9.235   15.901   27.755\\nC   11.243   16.112   26.384\\nC   10.691   15.665   27.695\\nO   11.441   16.807   22.034\\nN   10.412   16.767   25.508\\nC   10.876   16.441   23.021\\nC   10.899   17.339   24.324\\nO    7.787   14.141   22.540\\nN   10.155   15.330   23.100\\nC    8.639   13.963   21.678\\nC   10.161   14.311   22.045\\nO    5.056   12.382   20.904\\nN    8.429   13.461   20.522\\nC    6.276   12.257   20.827\\nC    7.065   13.331   20.016\\nO    4.886   10.395   24.213\\nN    6.932   11.272   21.367\\nC    5.769   10.930   23.560\\nC    6.264   10.240   22.224\\n\",\"xyz\");\n",
       "\tviewer_1750203873217715.addModel(\"32\\nCEJSUF\\nN    9.264   15.895   27.854\\nC   10.697   15.613   27.728\\nC   11.281   16.086   26.409\\nO   12.436   15.840   26.128\\nN   10.445   16.748   25.592\\nC   10.857   17.259   24.309\\nC   10.654   16.332   23.131\\nO   11.059   16.680   22.036\\nN   10.064   15.175   23.374\\nC    9.941   14.096   22.407\\nC    8.546   14.069   21.814\\nO    7.556   14.373   22.472\\nN    8.447   13.576   20.569\\nC    7.138   13.399   19.964\\nC    6.296   12.363   20.682\\nO    5.079   12.387   20.620\\nN    6.950   11.406   21.357\\nC    6.294   10.389   22.146\\nC    5.923   10.847   23.563\\nO    5.153   10.171   24.237\\nN    6.494   11.976   23.998\\nC    6.254   12.495   25.351\\nC    6.752   13.943   25.370\\nO    7.905   14.223   25.732\\nN    5.878   14.881   25.000\\nC    6.304   16.262   24.833\\nC    6.967   16.918   26.022\\nO    7.865   17.749   25.807\\nN    6.604   16.622   27.284\\nC    7.316   17.280   28.390\\nC    8.799   16.987   28.468\\nO    9.523   17.728   29.115\\n\",\"xyz\");\n",
       "\tviewer_1750203873217715.setStyle({\"model\": 0},{\"stick\": {\"radius\": 0.06, \"color\": \"#DC2626\"}, \"sphere\": {\"radius\": 0.15, \"color\": \"#DC2626\"}});\n",
       "\tviewer_1750203873217715.setStyle({\"model\": 1},{\"stick\": {\"radius\": 0.06, \"color\": \"#2563EB\"}, \"sphere\": {\"radius\": 0.15, \"color\": \"#2563EB\"}});\n",
       "\tviewer_1750203873217715.addCylinder({\"start\": {\"x\": 7.874, \"y\": 14.234, \"z\": 25.737}, \"end\": {\"x\": 7.904543043772743, \"y\": 14.223068744108863, \"z\": 25.732232174876863}, \"color\": \"green\", \"radius\": 0.03, \"dashed\": false});\n",
       "\tviewer_1750203873217715.addCylinder({\"start\": {\"x\": 6.436, \"y\": 11.979, \"z\": 23.996}, \"end\": {\"x\": 6.4944797017429705, \"y\": 11.975958150567699, \"z\": 23.997997948522507}, \"color\": \"green\", \"radius\": 0.03, \"dashed\": false});\n",
       "\tviewer_1750203873217715.addCylinder({\"start\": {\"x\": 6.757, \"y\": 13.947, \"z\": 25.364}, \"end\": {\"x\": 6.751830951728008, \"y\": 13.943245939760283, \"z\": 25.370321922161708}, \"color\": \"green\", \"radius\": 0.03, \"dashed\": false});\n",
       "\tviewer_1750203873217715.addCylinder({\"start\": {\"x\": 6.218, \"y\": 12.512, \"z\": 25.335}, \"end\": {\"x\": 6.253968160826627, \"y\": 12.494796911144622, \"z\": 25.35059749724676}, \"color\": \"green\", \"radius\": 0.03, \"dashed\": false});\n",
       "\tviewer_1750203873217715.addCylinder({\"start\": {\"x\": 7.732, \"y\": 17.834, \"z\": 25.929}, \"end\": {\"x\": 7.865428430000733, \"y\": 17.748616837229207, \"z\": 25.80706325187665}, \"color\": \"green\", \"radius\": 0.03, \"dashed\": false});\n",
       "\tviewer_1750203873217715.addCylinder({\"start\": {\"x\": 5.873, \"y\": 14.911, \"z\": 24.988}, \"end\": {\"x\": 5.8776979449272115, \"y\": 14.881117957326138, \"z\": 25.00004423570416}, \"color\": \"green\", \"radius\": 0.03, \"dashed\": false});\n",
       "\tviewer_1750203873217715.addCylinder({\"start\": {\"x\": 6.893, \"y\": 16.902, \"z\": 26.107}, \"end\": {\"x\": 6.967331516852335, \"y\": 16.917854168448798, \"z\": 26.02189416853941}, \"color\": \"green\", \"radius\": 0.03, \"dashed\": false});\n",
       "\tviewer_1750203873217715.addCylinder({\"start\": {\"x\": 6.303, \"y\": 16.346, \"z\": 24.841}, \"end\": {\"x\": 6.303940039815119, \"y\": 16.26229262247076, \"z\": 24.833490277755953}, \"color\": \"green\", \"radius\": 0.03, \"dashed\": false});\n",
       "\tviewer_1750203873217715.addCylinder({\"start\": {\"x\": 9.414, \"y\": 17.57, \"z\": 29.295}, \"end\": {\"x\": 9.522817921182316, \"y\": 17.72771554494151, \"z\": 29.11544355203888}, \"color\": \"green\", \"radius\": 0.03, \"dashed\": false});\n",
       "\tviewer_1750203873217715.addCylinder({\"start\": {\"x\": 6.578, \"y\": 16.519, \"z\": 27.286}, \"end\": {\"x\": 6.604080002932073, \"y\": 16.62246824835365, \"z\": 27.284027876133095}, \"color\": \"green\", \"radius\": 0.03, \"dashed\": false});\n",
       "\tviewer_1750203873217715.addCylinder({\"start\": {\"x\": 8.749, \"y\": 16.876, \"z\": 28.549}, \"end\": {\"x\": 8.798646860740792, \"y\": 16.98681332682867, \"z\": 28.467968318215632}, \"color\": \"green\", \"radius\": 0.03, \"dashed\": false});\n",
       "\tviewer_1750203873217715.addCylinder({\"start\": {\"x\": 7.229, \"y\": 17.117, \"z\": 28.509}, \"end\": {\"x\": 7.315906070981762, \"y\": 17.280305793164533, \"z\": 28.38977034772497}, \"color\": \"green\", \"radius\": 0.03, \"dashed\": false});\n",
       "\tviewer_1750203873217715.addCylinder({\"start\": {\"x\": 12.468, \"y\": 15.975, \"z\": 26.107}, \"end\": {\"x\": 12.43565286131598, \"y\": 15.839697802925466, \"z\": 26.127844747418496}, \"color\": \"green\", \"radius\": 0.03, \"dashed\": false});\n",
       "\tviewer_1750203873217715.addCylinder({\"start\": {\"x\": 9.235, \"y\": 15.901, \"z\": 27.755}, \"end\": {\"x\": 9.264226073558294, \"y\": 15.894772405581236, \"z\": 27.853808222708533}, \"color\": \"green\", \"radius\": 0.03, \"dashed\": false});\n",
       "\tviewer_1750203873217715.addCylinder({\"start\": {\"x\": 11.243, \"y\": 16.112, \"z\": 26.384}, \"end\": {\"x\": 11.28087217772487, \"y\": 16.085877115283537, \"z\": 26.408519503981594}, \"color\": \"green\", \"radius\": 0.03, \"dashed\": false});\n",
       "\tviewer_1750203873217715.addCylinder({\"start\": {\"x\": 10.691, \"y\": 15.665, \"z\": 27.695}, \"end\": {\"x\": 10.696827004239314, \"y\": 15.613026455660638, \"z\": 27.727971848336026}, \"color\": \"green\", \"radius\": 0.03, \"dashed\": false});\n",
       "\tviewer_1750203873217715.addCylinder({\"start\": {\"x\": 11.441, \"y\": 16.807, \"z\": 22.034}, \"end\": {\"x\": 11.059282550485268, \"y\": 16.680414702687287, \"z\": 22.03550680170597}, \"color\": \"green\", \"radius\": 0.03, \"dashed\": false});\n",
       "\tviewer_1750203873217715.addCylinder({\"start\": {\"x\": 10.412, \"y\": 16.767, \"z\": 25.508}, \"end\": {\"x\": 10.444708240407454, \"y\": 16.748403519411838, \"z\": 25.5922820178523}, \"color\": \"green\", \"radius\": 0.03, \"dashed\": false});\n",
       "\tviewer_1750203873217715.addCylinder({\"start\": {\"x\": 10.876, \"y\": 16.441, \"z\": 23.021}, \"end\": {\"x\": 10.653987478548093, \"y\": 16.331976653496298, \"z\": 23.131310082655347}, \"color\": \"green\", \"radius\": 0.03, \"dashed\": false});\n",
       "\tviewer_1750203873217715.addCylinder({\"start\": {\"x\": 10.899, \"y\": 17.339, \"z\": 24.324}, \"end\": {\"x\": 10.857264267260241, \"y\": 17.259021565607753, \"z\": 24.309024936980933}, \"color\": \"green\", \"radius\": 0.03, \"dashed\": false});\n",
       "\tviewer_1750203873217715.addCylinder({\"start\": {\"x\": 7.787, \"y\": 14.141, \"z\": 22.54}, \"end\": {\"x\": 7.555876387226276, \"y\": 14.372565834014997, \"z\": 22.471566263943593}, \"color\": \"green\", \"radius\": 0.03, \"dashed\": false});\n",
       "\tviewer_1750203873217715.addCylinder({\"start\": {\"x\": 10.155, \"y\": 15.33, \"z\": 23.1}, \"end\": {\"x\": 10.063799780904322, \"y\": 15.17470128417165, \"z\": 23.373896564357125}, \"color\": \"green\", \"radius\": 0.03, \"dashed\": false});\n",
       "\tviewer_1750203873217715.addCylinder({\"start\": {\"x\": 8.639, \"y\": 13.963, \"z\": 21.678}, \"end\": {\"x\": 8.546473217842475, \"y\": 14.068837537168214, \"z\": 21.814039047117028}, \"color\": \"green\", \"radius\": 0.03, \"dashed\": false});\n",
       "\tviewer_1750203873217715.addCylinder({\"start\": {\"x\": 10.161, \"y\": 14.311, \"z\": 22.045}, \"end\": {\"x\": 9.941130977736062, \"y\": 14.0960056837664, \"z\": 22.406812717735946}, \"color\": \"green\", \"radius\": 0.03, \"dashed\": false});\n",
       "\tviewer_1750203873217715.addCylinder({\"start\": {\"x\": 5.056, \"y\": 12.382, \"z\": 20.904}, \"end\": {\"x\": 5.078592847357102, \"y\": 12.387011279318603, \"z\": 20.619997098771076}, \"color\": \"green\", \"radius\": 0.03, \"dashed\": false});\n",
       "\tviewer_1750203873217715.addCylinder({\"start\": {\"x\": 8.429, \"y\": 13.461, \"z\": 20.522}, \"end\": {\"x\": 8.446639816545835, \"y\": 13.575865440374205, \"z\": 20.568846369750162}, \"color\": \"green\", \"radius\": 0.03, \"dashed\": false});\n",
       "\tviewer_1750203873217715.addCylinder({\"start\": {\"x\": 6.276, \"y\": 12.257, \"z\": 20.827}, \"end\": {\"x\": 6.296260667086259, \"y\": 12.36308655226205, \"z\": 20.682115439310014}, \"color\": \"green\", \"radius\": 0.03, \"dashed\": false});\n",
       "\tviewer_1750203873217715.addCylinder({\"start\": {\"x\": 7.065, \"y\": 13.331, \"z\": 20.016}, \"end\": {\"x\": 7.137917866232293, \"y\": 13.398656653760451, \"z\": 19.96354900257069}, \"color\": \"green\", \"radius\": 0.03, \"dashed\": false});\n",
       "\tviewer_1750203873217715.addCylinder({\"start\": {\"x\": 4.886, \"y\": 10.395, \"z\": 24.213}, \"end\": {\"x\": 5.152797606726884, \"y\": 10.171057289781025, \"z\": 24.23666097172628}, \"color\": \"green\", \"radius\": 0.03, \"dashed\": false});\n",
       "\tviewer_1750203873217715.addCylinder({\"start\": {\"x\": 6.932, \"y\": 11.272, \"z\": 21.367}, \"end\": {\"x\": 6.94972383587172, \"y\": 11.405618299597126, \"z\": 21.356759369231302}, \"color\": \"green\", \"radius\": 0.03, \"dashed\": false});\n",
       "\tviewer_1750203873217715.addCylinder({\"start\": {\"x\": 5.769, \"y\": 10.93, \"z\": 23.56}, \"end\": {\"x\": 5.9233823806124, \"y\": 10.847413764692686, \"z\": 23.562807853383063}, \"color\": \"green\", \"radius\": 0.03, \"dashed\": false});\n",
       "\tviewer_1750203873217715.addCylinder({\"start\": {\"x\": 6.264, \"y\": 10.24, \"z\": 22.224}, \"end\": {\"x\": 6.293913316816206, \"y\": 10.388735916093871, \"z\": 22.145829569667786}, \"color\": \"green\", \"radius\": 0.03, \"dashed\": false});\n",
       "\tviewer_1750203873217715.zoomTo();\n",
       "\tviewer_1750203873217715.setBackgroundColor(\"white\");\n",
       "viewer_1750203873217715.render();\n",
       "});\n",
       "</script>"
      ]
     },
     "metadata": {},
     "output_type": "display_data"
    }
   ],
   "source": [
    "group1_data_path = \"../Data/Our_Benchmark_20250410_ver1/Cyclic_Peptide/Backbone_Most_Similar\"\n",
    "molA = next(pybel.readfile(\"xyz\", os.path.join(group1_data_path, 'c8mers', 'EVAPUM_fixed_backbone.xyz')))\n",
    "molB = next(pybel.readfile(\"xyz\", os.path.join(group1_data_path, 'c8mers', 'UZUKUW_fixed_backbone.xyz')))\n",
    "X_A, T_A, B_A = otm.tl.process_molecule(molA) \n",
    "X_B, T_B, B_B = otm.tl.process_molecule(molB)\n",
    "assignment = group1_res['assignment'][4]\n",
    "X_B_aligned, _, _ = otm.tl.kabsch(X_A, X_B, otm.tl.permutation_to_matrix(assignment))\n",
    "interactive_alignment_plot_py3dmol(X_A, X_B_aligned, T_A, T_B, B_A, B_B, assignment, 'ALPRAL10_2', 'CEJSUF', save=True)"
   ]
  },
  {
   "cell_type": "code",
   "execution_count": 6,
   "metadata": {},
   "outputs": [
    {
     "data": {
      "application/3dmoljs_load.v0": "<div id=\"3dmolviewer_1750203495715617\"  style=\"position: relative; width: 800px; height: 600px;\">\n        <p id=\"3dmolwarning_1750203495715617\" style=\"background-color:#ffcccc;color:black\">3Dmol.js failed to load for some reason.  Please check your browser console for error messages.<br></p>\n        </div>\n<script>\n\nvar loadScriptAsync = function(uri){\n  return new Promise((resolve, reject) => {\n    //this is to ignore the existence of requirejs amd\n    var savedexports, savedmodule;\n    if (typeof exports !== 'undefined') savedexports = exports;\n    else exports = {}\n    if (typeof module !== 'undefined') savedmodule = module;\n    else module = {}\n\n    var tag = document.createElement('script');\n    tag.src = uri;\n    tag.async = true;\n    tag.onload = () => {\n        exports = savedexports;\n        module = savedmodule;\n        resolve();\n    };\n  var firstScriptTag = document.getElementsByTagName('script')[0];\n  firstScriptTag.parentNode.insertBefore(tag, firstScriptTag);\n});\n};\n\nif(typeof $3Dmolpromise === 'undefined') {\n$3Dmolpromise = null;\n  $3Dmolpromise = loadScriptAsync('https://cdnjs.cloudflare.com/ajax/libs/3Dmol/2.4.2/3Dmol-min.js');\n}\n\nvar viewer_1750203495715617 = null;\nvar warn = document.getElementById(\"3dmolwarning_1750203495715617\");\nif(warn) {\n    warn.parentNode.removeChild(warn);\n}\n$3Dmolpromise.then(function() {\nviewer_1750203495715617 = $3Dmol.createViewer(document.getElementById(\"3dmolviewer_1750203495715617\"),{backgroundColor:\"white\"});\nviewer_1750203495715617.zoomTo();\n\tviewer_1750203495715617.addModel(\"16\\nALPRAL10_2\\nN    2.605    7.268    8.993\\nC    2.496    7.668    7.588\\nC    2.966    6.517    6.732\\nO    4.014    6.588    6.085\\nN    2.199    5.401    6.687\\nC    0.901    5.221    7.312\\nC    0.919    4.647    8.754\\nO   -0.131    4.583    9.352\\nN    2.090    4.247    9.240\\nC    2.231    3.781   10.624\\nC    3.250    4.676   11.376\\nO    4.237    4.178   11.903\\nN    3.046    5.999   11.421\\nC    1.759    6.672   11.221\\nC    1.564    7.328    9.847\\nO    0.496    7.868    9.593\\n\",\"xyz\");\n\tviewer_1750203495715617.addModel(\"16\\nCEJSUF\\nN    2.397    7.037   10.038\\nC    2.922    6.178    6.545\\nC    2.251    4.834    6.854\\nO    3.796    6.289    5.703\\nN    2.477    7.257    7.255\\nC    1.202    7.409    7.937\\nC    1.257    4.290    9.018\\nO    0.131    4.174    8.572\\nN    2.338    4.542    8.268\\nC    1.494    4.123   10.525\\nC    3.317    5.463   11.670\\nO    4.314    5.405   12.347\\nN    2.853    4.340   11.022\\nC    2.531    6.761   11.464\\nC    1.212    7.248    9.444\\nO    0.150    7.292   10.066\\n\",\"xyz\");\n\tviewer_1750203495715617.setStyle({\"model\": 0},{\"stick\": {\"radius\": 0.06, \"color\": \"#DC2626\"}, \"sphere\": {\"radius\": 0.15, \"color\": \"#DC2626\"}});\n\tviewer_1750203495715617.setStyle({\"model\": 1},{\"stick\": {\"radius\": 0.06, \"color\": \"#2563EB\"}, \"sphere\": {\"radius\": 0.15, \"color\": \"#2563EB\"}});\n\tviewer_1750203495715617.addCylinder({\"start\": {\"x\": 2.605, \"y\": 7.268, \"z\": 8.993}, \"end\": {\"x\": 2.3966464843262822, \"y\": 7.037323919835698, \"z\": 10.038175534077846}, \"color\": \"green\", \"radius\": 0.03, \"dashed\": false});\n\tviewer_1750203495715617.addCylinder({\"start\": {\"x\": 2.496, \"y\": 7.668, \"z\": 7.588}, \"end\": {\"x\": 2.921566585112111, \"y\": 6.177926076667486, \"z\": 6.545184375350297}, \"color\": \"green\", \"radius\": 0.03, \"dashed\": false});\n\tviewer_1750203495715617.addCylinder({\"start\": {\"x\": 2.966, \"y\": 6.517, \"z\": 6.732}, \"end\": {\"x\": 2.250912906859485, \"y\": 4.833513883297104, \"z\": 6.853931032276753}, \"color\": \"green\", \"radius\": 0.03, \"dashed\": false});\n\tviewer_1750203495715617.addCylinder({\"start\": {\"x\": 4.014, \"y\": 6.588, \"z\": 6.085}, \"end\": {\"x\": 3.796373161829849, \"y\": 6.289350378370581, \"z\": 5.703307853334529}, \"color\": \"green\", \"radius\": 0.03, \"dashed\": false});\n\tviewer_1750203495715617.addCylinder({\"start\": {\"x\": 2.199, \"y\": 5.401, \"z\": 6.687}, \"end\": {\"x\": 2.476558155162035, \"y\": 7.256624555626999, \"z\": 7.25468144283106}, \"color\": \"green\", \"radius\": 0.03, \"dashed\": false});\n\tviewer_1750203495715617.addCylinder({\"start\": {\"x\": 0.901, \"y\": 5.221, \"z\": 7.312}, \"end\": {\"x\": 1.2021570731322528, \"y\": 7.409202228313239, \"z\": 7.9371585017267945}, \"color\": \"green\", \"radius\": 0.03, \"dashed\": false});\n\tviewer_1750203495715617.addCylinder({\"start\": {\"x\": 0.919, \"y\": 4.647, \"z\": 8.754}, \"end\": {\"x\": 1.2574758809746616, \"y\": 4.289675347280257, \"z\": 9.018458584040456}, \"color\": \"green\", \"radius\": 0.03, \"dashed\": false});\n\tviewer_1750203495715617.addCylinder({\"start\": {\"x\": -0.131, \"y\": 4.583, \"z\": 9.352}, \"end\": {\"x\": 0.13085142529996396, \"y\": 4.173853037875905, \"z\": 8.57199298791917}, \"color\": \"green\", \"radius\": 0.03, \"dashed\": false});\n\tviewer_1750203495715617.addCylinder({\"start\": {\"x\": 2.09, \"y\": 4.247, \"z\": 9.24}, \"end\": {\"x\": 2.3382832575611006, \"y\": 4.54248109643751, \"z\": 8.267631261742327}, \"color\": \"green\", \"radius\": 0.03, \"dashed\": false});\n\tviewer_1750203495715617.addCylinder({\"start\": {\"x\": 2.231, \"y\": 3.781, \"z\": 10.624}, \"end\": {\"x\": 1.493976043576568, \"y\": 4.122537114466858, \"z\": 10.525182674317533}, \"color\": \"green\", \"radius\": 0.03, \"dashed\": false});\n\tviewer_1750203495715617.addCylinder({\"start\": {\"x\": 3.25, \"y\": 4.676, \"z\": 11.376}, \"end\": {\"x\": 3.3170217674351847, \"y\": 5.463292170278737, \"z\": 11.669709287828855}, \"color\": \"green\", \"radius\": 0.03, \"dashed\": false});\n\tviewer_1750203495715617.addCylinder({\"start\": {\"x\": 4.237, \"y\": 4.178, \"z\": 11.903}, \"end\": {\"x\": 4.313831234302483, \"y\": 5.405160401921602, \"z\": 12.346785047453587}, \"color\": \"green\", \"radius\": 0.03, \"dashed\": false});\n\tviewer_1750203495715617.addCylinder({\"start\": {\"x\": 3.046, \"y\": 5.999, \"z\": 11.421}, \"end\": {\"x\": 2.8528374615066783, \"y\": 4.340053468802357, \"z\": 11.022218168480236}, \"color\": \"green\", \"radius\": 0.03, \"dashed\": false});\n\tviewer_1750203495715617.addCylinder({\"start\": {\"x\": 1.759, \"y\": 6.672, \"z\": 11.221}, \"end\": {\"x\": 2.531414097643689, \"y\": 6.76073021276599, \"z\": 11.464041801162583}, \"color\": \"green\", \"radius\": 0.03, \"dashed\": false});\n\tviewer_1750203495715617.addCylinder({\"start\": {\"x\": 1.564, \"y\": 7.328, \"z\": 9.847}, \"end\": {\"x\": 1.211948776645701, \"y\": 7.248165147281491, \"z\": 9.44365781506055}, \"color\": \"green\", \"radius\": 0.03, \"dashed\": false});\n\tviewer_1750203495715617.addCylinder({\"start\": {\"x\": 0.496, \"y\": 7.868, \"z\": 9.593}, \"end\": {\"x\": 0.15014568863194455, \"y\": 7.292110960778173, \"z\": 10.065883632397444}, \"color\": \"green\", \"radius\": 0.03, \"dashed\": false});\n\tviewer_1750203495715617.zoomTo();\n\tviewer_1750203495715617.setBackgroundColor(\"white\");\nviewer_1750203495715617.render();\n});\n</script>",
      "text/html": [
       "<div id=\"3dmolviewer_1750203495715617\"  style=\"position: relative; width: 800px; height: 600px;\">\n",
       "        <p id=\"3dmolwarning_1750203495715617\" style=\"background-color:#ffcccc;color:black\">3Dmol.js failed to load for some reason.  Please check your browser console for error messages.<br></p>\n",
       "        </div>\n",
       "<script>\n",
       "\n",
       "var loadScriptAsync = function(uri){\n",
       "  return new Promise((resolve, reject) => {\n",
       "    //this is to ignore the existence of requirejs amd\n",
       "    var savedexports, savedmodule;\n",
       "    if (typeof exports !== 'undefined') savedexports = exports;\n",
       "    else exports = {}\n",
       "    if (typeof module !== 'undefined') savedmodule = module;\n",
       "    else module = {}\n",
       "\n",
       "    var tag = document.createElement('script');\n",
       "    tag.src = uri;\n",
       "    tag.async = true;\n",
       "    tag.onload = () => {\n",
       "        exports = savedexports;\n",
       "        module = savedmodule;\n",
       "        resolve();\n",
       "    };\n",
       "  var firstScriptTag = document.getElementsByTagName('script')[0];\n",
       "  firstScriptTag.parentNode.insertBefore(tag, firstScriptTag);\n",
       "});\n",
       "};\n",
       "\n",
       "if(typeof $3Dmolpromise === 'undefined') {\n",
       "$3Dmolpromise = null;\n",
       "  $3Dmolpromise = loadScriptAsync('https://cdnjs.cloudflare.com/ajax/libs/3Dmol/2.4.2/3Dmol-min.js');\n",
       "}\n",
       "\n",
       "var viewer_1750203495715617 = null;\n",
       "var warn = document.getElementById(\"3dmolwarning_1750203495715617\");\n",
       "if(warn) {\n",
       "    warn.parentNode.removeChild(warn);\n",
       "}\n",
       "$3Dmolpromise.then(function() {\n",
       "viewer_1750203495715617 = $3Dmol.createViewer(document.getElementById(\"3dmolviewer_1750203495715617\"),{backgroundColor:\"white\"});\n",
       "viewer_1750203495715617.zoomTo();\n",
       "\tviewer_1750203495715617.addModel(\"16\\nALPRAL10_2\\nN    2.605    7.268    8.993\\nC    2.496    7.668    7.588\\nC    2.966    6.517    6.732\\nO    4.014    6.588    6.085\\nN    2.199    5.401    6.687\\nC    0.901    5.221    7.312\\nC    0.919    4.647    8.754\\nO   -0.131    4.583    9.352\\nN    2.090    4.247    9.240\\nC    2.231    3.781   10.624\\nC    3.250    4.676   11.376\\nO    4.237    4.178   11.903\\nN    3.046    5.999   11.421\\nC    1.759    6.672   11.221\\nC    1.564    7.328    9.847\\nO    0.496    7.868    9.593\\n\",\"xyz\");\n",
       "\tviewer_1750203495715617.addModel(\"16\\nCEJSUF\\nN    2.397    7.037   10.038\\nC    2.922    6.178    6.545\\nC    2.251    4.834    6.854\\nO    3.796    6.289    5.703\\nN    2.477    7.257    7.255\\nC    1.202    7.409    7.937\\nC    1.257    4.290    9.018\\nO    0.131    4.174    8.572\\nN    2.338    4.542    8.268\\nC    1.494    4.123   10.525\\nC    3.317    5.463   11.670\\nO    4.314    5.405   12.347\\nN    2.853    4.340   11.022\\nC    2.531    6.761   11.464\\nC    1.212    7.248    9.444\\nO    0.150    7.292   10.066\\n\",\"xyz\");\n",
       "\tviewer_1750203495715617.setStyle({\"model\": 0},{\"stick\": {\"radius\": 0.06, \"color\": \"#DC2626\"}, \"sphere\": {\"radius\": 0.15, \"color\": \"#DC2626\"}});\n",
       "\tviewer_1750203495715617.setStyle({\"model\": 1},{\"stick\": {\"radius\": 0.06, \"color\": \"#2563EB\"}, \"sphere\": {\"radius\": 0.15, \"color\": \"#2563EB\"}});\n",
       "\tviewer_1750203495715617.addCylinder({\"start\": {\"x\": 2.605, \"y\": 7.268, \"z\": 8.993}, \"end\": {\"x\": 2.3966464843262822, \"y\": 7.037323919835698, \"z\": 10.038175534077846}, \"color\": \"green\", \"radius\": 0.03, \"dashed\": false});\n",
       "\tviewer_1750203495715617.addCylinder({\"start\": {\"x\": 2.496, \"y\": 7.668, \"z\": 7.588}, \"end\": {\"x\": 2.921566585112111, \"y\": 6.177926076667486, \"z\": 6.545184375350297}, \"color\": \"green\", \"radius\": 0.03, \"dashed\": false});\n",
       "\tviewer_1750203495715617.addCylinder({\"start\": {\"x\": 2.966, \"y\": 6.517, \"z\": 6.732}, \"end\": {\"x\": 2.250912906859485, \"y\": 4.833513883297104, \"z\": 6.853931032276753}, \"color\": \"green\", \"radius\": 0.03, \"dashed\": false});\n",
       "\tviewer_1750203495715617.addCylinder({\"start\": {\"x\": 4.014, \"y\": 6.588, \"z\": 6.085}, \"end\": {\"x\": 3.796373161829849, \"y\": 6.289350378370581, \"z\": 5.703307853334529}, \"color\": \"green\", \"radius\": 0.03, \"dashed\": false});\n",
       "\tviewer_1750203495715617.addCylinder({\"start\": {\"x\": 2.199, \"y\": 5.401, \"z\": 6.687}, \"end\": {\"x\": 2.476558155162035, \"y\": 7.256624555626999, \"z\": 7.25468144283106}, \"color\": \"green\", \"radius\": 0.03, \"dashed\": false});\n",
       "\tviewer_1750203495715617.addCylinder({\"start\": {\"x\": 0.901, \"y\": 5.221, \"z\": 7.312}, \"end\": {\"x\": 1.2021570731322528, \"y\": 7.409202228313239, \"z\": 7.9371585017267945}, \"color\": \"green\", \"radius\": 0.03, \"dashed\": false});\n",
       "\tviewer_1750203495715617.addCylinder({\"start\": {\"x\": 0.919, \"y\": 4.647, \"z\": 8.754}, \"end\": {\"x\": 1.2574758809746616, \"y\": 4.289675347280257, \"z\": 9.018458584040456}, \"color\": \"green\", \"radius\": 0.03, \"dashed\": false});\n",
       "\tviewer_1750203495715617.addCylinder({\"start\": {\"x\": -0.131, \"y\": 4.583, \"z\": 9.352}, \"end\": {\"x\": 0.13085142529996396, \"y\": 4.173853037875905, \"z\": 8.57199298791917}, \"color\": \"green\", \"radius\": 0.03, \"dashed\": false});\n",
       "\tviewer_1750203495715617.addCylinder({\"start\": {\"x\": 2.09, \"y\": 4.247, \"z\": 9.24}, \"end\": {\"x\": 2.3382832575611006, \"y\": 4.54248109643751, \"z\": 8.267631261742327}, \"color\": \"green\", \"radius\": 0.03, \"dashed\": false});\n",
       "\tviewer_1750203495715617.addCylinder({\"start\": {\"x\": 2.231, \"y\": 3.781, \"z\": 10.624}, \"end\": {\"x\": 1.493976043576568, \"y\": 4.122537114466858, \"z\": 10.525182674317533}, \"color\": \"green\", \"radius\": 0.03, \"dashed\": false});\n",
       "\tviewer_1750203495715617.addCylinder({\"start\": {\"x\": 3.25, \"y\": 4.676, \"z\": 11.376}, \"end\": {\"x\": 3.3170217674351847, \"y\": 5.463292170278737, \"z\": 11.669709287828855}, \"color\": \"green\", \"radius\": 0.03, \"dashed\": false});\n",
       "\tviewer_1750203495715617.addCylinder({\"start\": {\"x\": 4.237, \"y\": 4.178, \"z\": 11.903}, \"end\": {\"x\": 4.313831234302483, \"y\": 5.405160401921602, \"z\": 12.346785047453587}, \"color\": \"green\", \"radius\": 0.03, \"dashed\": false});\n",
       "\tviewer_1750203495715617.addCylinder({\"start\": {\"x\": 3.046, \"y\": 5.999, \"z\": 11.421}, \"end\": {\"x\": 2.8528374615066783, \"y\": 4.340053468802357, \"z\": 11.022218168480236}, \"color\": \"green\", \"radius\": 0.03, \"dashed\": false});\n",
       "\tviewer_1750203495715617.addCylinder({\"start\": {\"x\": 1.759, \"y\": 6.672, \"z\": 11.221}, \"end\": {\"x\": 2.531414097643689, \"y\": 6.76073021276599, \"z\": 11.464041801162583}, \"color\": \"green\", \"radius\": 0.03, \"dashed\": false});\n",
       "\tviewer_1750203495715617.addCylinder({\"start\": {\"x\": 1.564, \"y\": 7.328, \"z\": 9.847}, \"end\": {\"x\": 1.211948776645701, \"y\": 7.248165147281491, \"z\": 9.44365781506055}, \"color\": \"green\", \"radius\": 0.03, \"dashed\": false});\n",
       "\tviewer_1750203495715617.addCylinder({\"start\": {\"x\": 0.496, \"y\": 7.868, \"z\": 9.593}, \"end\": {\"x\": 0.15014568863194455, \"y\": 7.292110960778173, \"z\": 10.065883632397444}, \"color\": \"green\", \"radius\": 0.03, \"dashed\": false});\n",
       "\tviewer_1750203495715617.zoomTo();\n",
       "\tviewer_1750203495715617.setBackgroundColor(\"white\");\n",
       "viewer_1750203495715617.render();\n",
       "});\n",
       "</script>"
      ]
     },
     "metadata": {},
     "output_type": "display_data"
    }
   ],
   "source": [
    "group1_data_path = \"../Data/Our_Benchmark_20250410_ver1/Cyclic_Peptide/Backbone_Most_Similar\"\n",
    "molA = next(pybel.readfile(\"xyz\", os.path.join(group1_data_path, 'c4mers', 'ALPRAL10_2_fixed_backbone.xyz')))\n",
    "molB = next(pybel.readfile(\"xyz\", './arbalign_output/CEJSUF_fixed_backbone-aligned_to-ALPRAL10_2_fixed_backbone.xyz'))\n",
    "X_A, T_A, B_A = otm.tl.process_molecule(molA) \n",
    "X_B, T_B, B_B = otm.tl.process_molecule(molB)\n",
    "X_B_aligned, _, _ = otm.tl.kabsch(X_A, X_B, np.eye(X_A.shape[0]))\n",
    "interactive_alignment_plot_py3dmol(X_A, X_B_aligned, T_A, T_B, B_A, B_B, np.arange(X_A.shape[0], dtype=int), 'ALPRAL10_2', 'CEJSUF', save=True)"
   ]
  },
  {
   "cell_type": "markdown",
   "metadata": {},
   "source": [
    "Backbone most different"
   ]
  },
  {
   "cell_type": "code",
   "execution_count": 7,
   "metadata": {},
   "outputs": [
    {
     "data": {
      "text/html": [
       "<div>\n",
       "<style scoped>\n",
       "    .dataframe tbody tr th:only-of-type {\n",
       "        vertical-align: middle;\n",
       "    }\n",
       "\n",
       "    .dataframe tbody tr th {\n",
       "        vertical-align: top;\n",
       "    }\n",
       "\n",
       "    .dataframe thead th {\n",
       "        text-align: right;\n",
       "    }\n",
       "</style>\n",
       "<table border=\"1\" class=\"dataframe\">\n",
       "  <thead>\n",
       "    <tr style=\"text-align: right;\">\n",
       "      <th></th>\n",
       "      <th>RMSD</th>\n",
       "      <th>folder</th>\n",
       "      <th>reference</th>\n",
       "      <th>subfolder</th>\n",
       "      <th>target</th>\n",
       "      <th>mer</th>\n",
       "    </tr>\n",
       "  </thead>\n",
       "  <tbody>\n",
       "    <tr>\n",
       "      <th>0</th>\n",
       "      <td>1.599</td>\n",
       "      <td>../Backbone_Most_Different</td>\n",
       "      <td>CEJSUF_fixed_backbone.xyz</td>\n",
       "      <td>c4mers</td>\n",
       "      <td>RUQVAB_fixed_backbone.xyz</td>\n",
       "      <td>4</td>\n",
       "    </tr>\n",
       "    <tr>\n",
       "      <th>1</th>\n",
       "      <td>1.351</td>\n",
       "      <td>../Backbone_Most_Different</td>\n",
       "      <td>CGPSAQ_fixed_backbone.xyz</td>\n",
       "      <td>c5mers</td>\n",
       "      <td>FUDWIK_fixed_backbone.xyz</td>\n",
       "      <td>5</td>\n",
       "    </tr>\n",
       "    <tr>\n",
       "      <th>2</th>\n",
       "      <td>1.653</td>\n",
       "      <td>../Backbone_Most_Different</td>\n",
       "      <td>BUYXOI_fixed_backbone.xyz</td>\n",
       "      <td>c6mers</td>\n",
       "      <td>GGAAGG_fixed_backbone.xyz</td>\n",
       "      <td>6</td>\n",
       "    </tr>\n",
       "    <tr>\n",
       "      <th>3</th>\n",
       "      <td>1.597</td>\n",
       "      <td>../Backbone_Most_Different</td>\n",
       "      <td>JUXHAL_fixed_backbone.xyz</td>\n",
       "      <td>c7mers</td>\n",
       "      <td>ZORRED_fixed_backbone.xyz</td>\n",
       "      <td>7</td>\n",
       "    </tr>\n",
       "    <tr>\n",
       "      <th>4</th>\n",
       "      <td>2.091</td>\n",
       "      <td>../Backbone_Most_Different</td>\n",
       "      <td>NIWHEH_fixed_backbone.xyz</td>\n",
       "      <td>c8mers</td>\n",
       "      <td>cNPF_NMR_backbone.xyz</td>\n",
       "      <td>8</td>\n",
       "    </tr>\n",
       "  </tbody>\n",
       "</table>\n",
       "</div>"
      ],
      "text/plain": [
       "    RMSD                      folder                  reference subfolder  \\\n",
       "0  1.599  ../Backbone_Most_Different  CEJSUF_fixed_backbone.xyz    c4mers   \n",
       "1  1.351  ../Backbone_Most_Different  CGPSAQ_fixed_backbone.xyz    c5mers   \n",
       "2  1.653  ../Backbone_Most_Different  BUYXOI_fixed_backbone.xyz    c6mers   \n",
       "3  1.597  ../Backbone_Most_Different  JUXHAL_fixed_backbone.xyz    c7mers   \n",
       "4  2.091  ../Backbone_Most_Different  NIWHEH_fixed_backbone.xyz    c8mers   \n",
       "\n",
       "                      target  mer  \n",
       "0  RUQVAB_fixed_backbone.xyz    4  \n",
       "1  FUDWIK_fixed_backbone.xyz    5  \n",
       "2  GGAAGG_fixed_backbone.xyz    6  \n",
       "3  ZORRED_fixed_backbone.xyz    7  \n",
       "4      cNPF_NMR_backbone.xyz    8  "
      ]
     },
     "execution_count": 7,
     "metadata": {},
     "output_type": "execute_result"
    }
   ],
   "source": [
    "group2_data_path = \"../Data/Our_Benchmark_20250410_ver1/Cyclic_Peptide/Backbone_Most_Different\"\n",
    "group2_info = pd.read_csv('../Data/Our_Benchmark_20250410_ver1/Cyclic_Peptide/Backbone_Most_different_dihedral_angle.csv')\n",
    "group2_info"
   ]
  },
  {
   "cell_type": "code",
   "execution_count": 8,
   "metadata": {},
   "outputs": [
    {
     "name": "stdout",
     "output_type": "stream",
     "text": [
      "CEJSUF_fixed_backbone.xyz RUQVAB_fixed_backbone.xyz 1.60 0\n",
      "CGPSAQ_fixed_backbone.xyz FUDWIK_fixed_backbone.xyz 1.26 0\n",
      "BUYXOI_fixed_backbone.xyz GGAAGG_fixed_backbone.xyz 1.45 0\n",
      "JUXHAL_fixed_backbone.xyz ZORRED_fixed_backbone.xyz 1.61 0\n",
      "NIWHEH_fixed_backbone.xyz cNPF_NMR_backbone.xyz 2.09 0\n"
     ]
    }
   ],
   "source": [
    "group2_res = cp_experiment(\n",
    "    group2_data_path,\n",
    "    zip(group2_info['subfolder'], group2_info['reference'], group2_info['target']), \n",
    "    alpha_list=np.linspace(0,1,101), \n",
    "    dataset_name = 'most_different',\n",
    "    cst_D = 1,\n",
    "    save = True\n",
    "    )"
   ]
  },
  {
   "cell_type": "code",
   "execution_count": 9,
   "metadata": {},
   "outputs": [
    {
     "data": {
      "image/png": "[encoded data removed]",
      "text/plain": [
       "<Figure size 288x432 with 1 Axes>"
      ]
     },
     "metadata": {
      "needs_background": "light"
     },
     "output_type": "display_data"
    }
   ],
   "source": [
    "arbalign_res = pd.read_csv('./arbalign_output/cp_most_different_result.csv')['RMSD(ArbAlign)']\n",
    "combined_df = pd.concat([group2_res, group2_info, arbalign_res], axis=1).rename(columns={'RMSD(ArbAlign)': 'ArbAlign', 'RMSD(OTMol)': 'OTMol'})\n",
    "columns_to_plot = [\"ArbAlign\", \"OTMol\"]\n",
    "plt.figure(figsize=(4,6))\n",
    "for column in columns_to_plot:\n",
    "    plt.plot(combined_df['mer'], combined_df[column], marker='o', label=column)\n",
    "plt.title(\"Most different dihedral angles\")\n",
    "plt.ylabel(\"RMSD Values\")\n",
    "plt.ylim(0, 3)\n",
    "plt.xticks(range(4,9), ['4 mer', '5 mer', '6 mer', '7 mer', '8 mer'])\n",
    "plt.legend()\n",
    "plt.grid(True)\n",
    "#plt.savefig('../images/cp_most_different_dihedral_angles.png', dpi=300)"
   ]
  },
  {
   "cell_type": "markdown",
   "metadata": {},
   "source": [
    "All backbone largest ArbAlign RMSD pair"
   ]
  },
  {
   "cell_type": "code",
   "execution_count": 11,
   "metadata": {},
   "outputs": [
    {
     "data": {
      "text/html": [
       "<div>\n",
       "<style scoped>\n",
       "    .dataframe tbody tr th:only-of-type {\n",
       "        vertical-align: middle;\n",
       "    }\n",
       "\n",
       "    .dataframe tbody tr th {\n",
       "        vertical-align: top;\n",
       "    }\n",
       "\n",
       "    .dataframe thead th {\n",
       "        text-align: right;\n",
       "    }\n",
       "</style>\n",
       "<table border=\"1\" class=\"dataframe\">\n",
       "  <thead>\n",
       "    <tr style=\"text-align: right;\">\n",
       "      <th></th>\n",
       "      <th>RMSD</th>\n",
       "      <th>folder</th>\n",
       "      <th>reference</th>\n",
       "      <th>subfolder</th>\n",
       "      <th>target</th>\n",
       "      <th>mer</th>\n",
       "    </tr>\n",
       "  </thead>\n",
       "  <tbody>\n",
       "    <tr>\n",
       "      <th>0</th>\n",
       "      <td>1.684</td>\n",
       "      <td>../All_Backbone_XYZs/</td>\n",
       "      <td>ALPRAL10_2_fixed_backbone.xyz</td>\n",
       "      <td>c4mers</td>\n",
       "      <td>RUQVAB_fixed_backbone.xyz</td>\n",
       "      <td>4</td>\n",
       "    </tr>\n",
       "    <tr>\n",
       "      <th>1</th>\n",
       "      <td>1.405</td>\n",
       "      <td>../All_Backbone_XYZs/</td>\n",
       "      <td>CGPSAQ_fixed_backbone.xyz</td>\n",
       "      <td>c5mers</td>\n",
       "      <td>DABVIL_fixed_backbone.xyz</td>\n",
       "      <td>5</td>\n",
       "    </tr>\n",
       "    <tr>\n",
       "      <th>2</th>\n",
       "      <td>2.183</td>\n",
       "      <td>../All_Backbone_XYZs/</td>\n",
       "      <td>BINJIR_fixed_backbone.xyz</td>\n",
       "      <td>c6mers</td>\n",
       "      <td>DUYTIA_fixed_backbone.xyz</td>\n",
       "      <td>6</td>\n",
       "    </tr>\n",
       "    <tr>\n",
       "      <th>3</th>\n",
       "      <td>2.403</td>\n",
       "      <td>../All_Backbone_XYZs/</td>\n",
       "      <td>TALVAD_fixed_backbone.xyz</td>\n",
       "      <td>c7mers</td>\n",
       "      <td>ZOHMIS_fixed_backbone.xyz</td>\n",
       "      <td>7</td>\n",
       "    </tr>\n",
       "    <tr>\n",
       "      <th>4</th>\n",
       "      <td>2.875</td>\n",
       "      <td>../All_Backbone_XYZs/</td>\n",
       "      <td>DASXIE_fixed_backbone.xyz</td>\n",
       "      <td>c8mers</td>\n",
       "      <td>EVAPUM_fixed_backbone.xyz</td>\n",
       "      <td>8</td>\n",
       "    </tr>\n",
       "  </tbody>\n",
       "</table>\n",
       "</div>"
      ],
      "text/plain": [
       "    RMSD                 folder                      reference subfolder  \\\n",
       "0  1.684  ../All_Backbone_XYZs/  ALPRAL10_2_fixed_backbone.xyz    c4mers   \n",
       "1  1.405  ../All_Backbone_XYZs/      CGPSAQ_fixed_backbone.xyz    c5mers   \n",
       "2  2.183  ../All_Backbone_XYZs/      BINJIR_fixed_backbone.xyz    c6mers   \n",
       "3  2.403  ../All_Backbone_XYZs/      TALVAD_fixed_backbone.xyz    c7mers   \n",
       "4  2.875  ../All_Backbone_XYZs/      DASXIE_fixed_backbone.xyz    c8mers   \n",
       "\n",
       "                      target  mer  \n",
       "0  RUQVAB_fixed_backbone.xyz    4  \n",
       "1  DABVIL_fixed_backbone.xyz    5  \n",
       "2  DUYTIA_fixed_backbone.xyz    6  \n",
       "3  ZOHMIS_fixed_backbone.xyz    7  \n",
       "4  EVAPUM_fixed_backbone.xyz    8  "
      ]
     },
     "execution_count": 11,
     "metadata": {},
     "output_type": "execute_result"
    }
   ],
   "source": [
    "group3_data_path = \"../Data/Our_Benchmark_20250410_ver1/Cyclic_Peptide/All_Backbone_XYZs\"\n",
    "group3_info = pd.read_csv('../Data/Our_Benchmark_20250410_ver1/Cyclic_Peptide/All_Backbone_Largest_RMSD_Pair.csv')\n",
    "group3_info"
   ]
  },
  {
   "cell_type": "code",
   "execution_count": 12,
   "metadata": {},
   "outputs": [
    {
     "name": "stdout",
     "output_type": "stream",
     "text": [
      "ALPRAL10_2_fixed_backbone.xyz RUQVAB_fixed_backbone.xyz 1.64 0\n",
      "CGPSAQ_fixed_backbone.xyz DABVIL_fixed_backbone.xyz 1.26 0\n",
      "BINJIR_fixed_backbone.xyz DUYTIA_fixed_backbone.xyz 1.47 0\n",
      "TALVAD_fixed_backbone.xyz ZOHMIS_fixed_backbone.xyz 1.16 0\n",
      "DASXIE_fixed_backbone.xyz EVAPUM_fixed_backbone.xyz 2.10 0\n"
     ]
    }
   ],
   "source": [
    "group3_res = cp_experiment( \n",
    "    group3_data_path,\n",
    "    zip(group3_info['subfolder'], group3_info['reference'], group3_info['target']), \n",
    "    alpha_list=np.linspace(0,1,101), \n",
    "    dataset_name = 'largest_arbalign', \n",
    "    cst_D = 1,\n",
    "    save = True\n",
    "    )"
   ]
  },
  {
   "cell_type": "code",
   "execution_count": 14,
   "metadata": {},
   "outputs": [
    {
     "data": {
      "image/png": "[encoded data removed]",
      "text/plain": [
       "<Figure size 288x432 with 1 Axes>"
      ]
     },
     "metadata": {
      "needs_background": "light"
     },
     "output_type": "display_data"
    }
   ],
   "source": [
    "arbalign_res = pd.read_csv('./arbalign_output/cp_largest_arbalign_result.csv')['RMSD(ArbAlign)']\n",
    "combined_df = pd.concat([group3_res, group3_info, arbalign_res], axis=1).rename(columns={'RMSD(ArbAlign)': 'ArbAlign', 'RMSD(OTMol)': 'OTMol'})\n",
    "columns_to_plot = [\"ArbAlign\", \"OTMol\"]\n",
    "plt.figure(figsize=(4,6))\n",
    "for column in columns_to_plot:\n",
    "    plt.plot(combined_df['mer'], combined_df[column], marker='o', label=column)\n",
    "plt.title(\"Largest ArbAlign RMSD pairs\")\n",
    "#plt.xlabel(\"Index\")\n",
    "plt.ylabel(\"RMSD Values\")\n",
    "plt.ylim(0, 3)\n",
    "plt.xticks(range(4,9), ['4 mer', '5 mer', '6 mer', '7 mer', '8 mer'])\n",
    "plt.legend()\n",
    "plt.grid(True)\n",
    "#plt.savefig('../images/cp_largest_arbalign_rmsd_pairs.png', dpi=300)"
   ]
  },
  {
   "cell_type": "code",
   "execution_count": 13,
   "metadata": {},
   "outputs": [
    {
     "data": {
      "image/png": "[encoded data removed]",
      "text/plain": [
       "<Figure size 1008x288 with 3 Axes>"
      ]
     },
     "metadata": {
      "needs_background": "light"
     },
     "output_type": "display_data"
    }
   ],
   "source": [
    "# Create a figure with three subplots side by side\n",
    "plt.figure(figsize=(14, 4))\n",
    "\n",
    "# First subplot - Most similar dihedral angles\n",
    "plt.subplot(131)\n",
    "combined_df = pd.concat([group1_res, group1_info], axis=1).rename(columns={'RMSD': 'ArbAlign', 'RMSD(OTMol)': 'OTMol'})\n",
    "columns_to_plot = [\"ArbAlign\", \"OTMol\"]\n",
    "for column in columns_to_plot:\n",
    "    plt.plot(combined_df['mer'], combined_df[column], marker='o', label=column)\n",
    "plt.title(\"Most similar dihedral Angles\", fontsize=12)\n",
    "plt.ylabel(\"RMSD Values\")\n",
    "plt.ylim(0, 3)\n",
    "plt.xticks(range(4,9), ['4 mer', '5 mer', '6 mer', '7 mer', '8 mer'], fontsize=12)\n",
    "plt.legend()\n",
    "plt.grid(True)\n",
    "\n",
    "# Second subplot - Most different dihedral angles\n",
    "plt.subplot(132)\n",
    "combined_df = pd.concat([group2_res, group2_info], axis=1).rename(columns={'RMSD': 'ArbAlign', 'RMSD(OTMol)': 'OTMol'})\n",
    "columns_to_plot = [\"ArbAlign\", \"OTMol\"]\n",
    "for column in columns_to_plot:\n",
    "    plt.plot(combined_df['mer'], combined_df[column], marker='o', label=column)\n",
    "plt.title(\"Most different dihedral angles\", fontsize=12)\n",
    "#plt.ylabel(\"RMSD Values\")\n",
    "plt.ylim(0, 3)\n",
    "plt.xticks(range(4,9), ['4 mer', '5 mer', '6 mer', '7 mer', '8 mer'], fontsize=12)\n",
    "plt.legend()\n",
    "plt.grid(True)\n",
    "\n",
    "# Third subplot - Largest ArbAlign RMSD pairs\n",
    "plt.subplot(133)\n",
    "combined_df = pd.concat([group3_res, group3_info], axis=1).rename(columns={'RMSD': 'ArbAlign', 'RMSD(OTMol)': 'OTMol'})\n",
    "columns_to_plot = [\"ArbAlign\", \"OTMol\"]\n",
    "for column in columns_to_plot:\n",
    "    plt.plot(combined_df['mer'], combined_df[column], marker='o', label=column)\n",
    "plt.title(\"Largest ArbAlign RMSD pairs\", fontsize=12)\n",
    "#plt.ylabel(\"RMSD Values\")\n",
    "plt.ylim(0, 3)\n",
    "plt.xticks(range(4,9), ['4 mer', '5 mer', '6 mer', '7 mer', '8 mer'], fontsize=12)\n",
    "plt.legend()\n",
    "plt.grid(True)\n",
    "\n",
    "# Adjust layout to prevent overlap\n",
    "plt.tight_layout()\n",
    "\n",
    "# Save the combined figure\n",
    "plt.savefig('../images/cp_three_datasets.png', dpi=300, bbox_inches='tight')\n",
    "plt.show()"
   ]
  },
  {
   "cell_type": "code",
   "execution_count": 14,
   "metadata": {},
   "outputs": [
    {
     "data": {
      "image/png": "[encoded data removed]",
      "text/plain": [
       "<Figure size 720x432 with 1 Axes>"
      ]
     },
     "metadata": {
      "needs_background": "light"
     },
     "output_type": "display_data"
    }
   ],
   "source": [
    "combined_df = pd.concat([\n",
    "    group1_info['mer'], \n",
    "    group1_res.rename(columns={'RMSD(OTMol)': 'Most similar dihedral angles'}), \n",
    "    group2_res.rename(columns={'RMSD(OTMol)': 'Most different dihedral angles'}), \n",
    "    group3_res.rename(columns={'RMSD(OTMol)': 'Largest ArbAlign RMSD'})\n",
    "    ], axis=1)\n",
    "columns_to_plot = [\"Most similar dihedral angles\", \"Most different dihedral angles\", \"Largest ArbAlign RMSD\"]\n",
    "plt.figure(figsize=(10,6))\n",
    "for column in columns_to_plot:\n",
    "    plt.plot(combined_df['mer'], combined_df[column], marker='o', label=column)\n",
    "plt.title(\"RMSD Comparison, cyclic peptides, otmol\")\n",
    "plt.xlabel(\"Index\")\n",
    "plt.ylabel(\"RMSD Values\")\n",
    "plt.ylim(0, 2)\n",
    "plt.xticks(range(4,9))\n",
    "plt.legend()\n",
    "plt.grid(True)"
   ]
  },
  {
   "cell_type": "code",
   "execution_count": 15,
   "metadata": {},
   "outputs": [
    {
     "data": {
      "application/vnd.plotly.v1+json": {
       "config": {
        "plotlyServerURL": "https://plot.ly",
        "toImageButtonOptions": {
         "format": "png",
         "height": 500,
         "scale": 2,
         "width": 700
        }
       },
       "data": [
        {
         "marker": {
          "color": "red",
          "size": [
           14.2,
           15.2,
           15.2,
           13.200000000000001,
           14.2,
           15.2,
           15.2,
           13.200000000000001,
           14.2,
           15.2,
           15.2,
           13.200000000000001,
           14.2,
           15.2,
           15.2,
           13.200000000000001
          ],
          "symbol": "circle"
         },
         "mode": "markers",
         "name": "ALPRAL10_2_fixed_backbone",
         "type": "scatter3d",
         "x": {
          "bdata": "16NwPQrXBEArhxbZzvcDQO58PzVeugdAdZMYBFYOEEBkO99PjZcBQKJFtvP91Ow/nMQgsHJo7T/4U+Olm8TAv7gehetRuABADAIrhxbZAUAAAAAAAAAKQKabxCCw8hBAke18PzVeCEC+nxov3ST8P6AaL90kBvk/WDm0yHa+3z8=",
          "dtype": "f8"
         },
         "y": {
          "bdata": "30+Nl24SHUB56SYxCKweQMUgsHJoERpAJzEIrBxaGkC0yHa+n5oVQPyp8dJN4hRASgwCK4eWEkCiRbbz/VQSQLByaJHt/BBAc2iR7Xw/DkBOYhBYObQSQIPAyqFFthBA5dAi2/n+F0DjpZvEILAaQB1aZDvfTx1ARrbz/dR4H0A=",
          "dtype": "f8"
         },
         "z": {
          "bdata": "I9v5fmr8IUAnMQisHFoeQCGwcmiR7RpA16NwPQpXGEBzaJHtfL8aQHNoke18Px1ANV66SQyCIUBOYhBYObQiQHsUrkfheiJAc2iR7Xw/JUCNl24Sg8AmQHWTGARWzidAZDvfT43XJkD+1HjpJnEmQIts5/upsSNAVg4tsp0vI0A=",
          "dtype": "f8"
         }
        },
        {
         "marker": {
          "color": "blue",
          "size": [
           14.2,
           15.2,
           15.2,
           13.200000000000001,
           14.2,
           15.2,
           15.2,
           13.200000000000001,
           14.2,
           15.2,
           15.2,
           13.200000000000001,
           14.2,
           15.2,
           15.2,
           13.200000000000001
          ],
          "symbol": "circle"
         },
         "mode": "markers",
         "name": "CEJSUF_fixed_backbone",
         "type": "scatter3d",
         "x": {
          "bdata": "0CiwYVpAAkAAPurio9DuP2DlWNq4Pu0/wOUi1fNixL9QiXZDpa8AQIIEm6sNogFAXvtk/rzSCUB6f9p9E7EQQDnqmT8NJwhAaLnYLHRf/D8ELmNMnLL5P/g4b9TxVOE/JGgKDGYXBUDysuhByocEQO118L9ZtQdAA7lOqVvEDkA=",
          "dtype": "f8"
         },
         "y": {
          "bdata": "hJ7uqEidFUAwXtMsmtcUQEo7beuyeBJAVPwxshD6EUASE0d7Zv4QQH7Q0NikPg5A4IT+b7aCEkCilFSGH4UQQFRWsQqw6BdARNkLoKy+GkBjLFuokEwdQFCzVC5Lfh9AEe/oGxz2HEAe88liPd8eQM+kYYjmYBpAPsHKmLrbGkA=",
          "dtype": "f8"
         },
         "z": {
          "bdata": "Knxk26UDG0AYoEJFiG4dQG4ai+hqiyFAjk7ENMqqIkBAUJXtQp0iQJZgD58oVyVAXGEWGGjfJkB6mHEMdQwoQC5e3JCh4SZAUfefmLRlJkDeIq2CdasjQHJxOzFtGCNAIQaEdDD1IUDdnt+m3mgeQNcNXsYPkRpAsCNPBo5PF0A=",
          "dtype": "f8"
         }
        },
        {
         "line": {
          "color": "red",
          "width": 2
         },
         "mode": "lines",
         "showlegend": false,
         "type": "scatter3d",
         "x": [
          2.605,
          2.496
         ],
         "y": [
          7.268,
          7.668
         ],
         "z": [
          8.993,
          7.588
         ]
        },
        {
         "line": {
          "color": "red",
          "width": 2
         },
         "mode": "lines",
         "showlegend": false,
         "type": "scatter3d",
         "x": [
          2.605,
          1.564
         ],
         "y": [
          7.268,
          7.328
         ],
         "z": [
          8.993,
          9.847
         ]
        },
        {
         "line": {
          "color": "red",
          "width": 2
         },
         "mode": "lines",
         "showlegend": false,
         "type": "scatter3d",
         "x": [
          2.496,
          2.966
         ],
         "y": [
          7.668,
          6.517
         ],
         "z": [
          7.588,
          6.732
         ]
        },
        {
         "line": {
          "color": "red",
          "width": 2
         },
         "mode": "lines",
         "showlegend": false,
         "type": "scatter3d",
         "x": [
          2.966,
          4.014
         ],
         "y": [
          6.517,
          6.588
         ],
         "z": [
          6.732,
          6.085
         ]
        },
        {
         "line": {
          "color": "red",
          "width": 2
         },
         "mode": "lines",
         "showlegend": false,
         "type": "scatter3d",
         "x": [
          2.966,
          2.199
         ],
         "y": [
          6.517,
          5.401
         ],
         "z": [
          6.732,
          6.687
         ]
        },
        {
         "line": {
          "color": "red",
          "width": 2
         },
         "mode": "lines",
         "showlegend": false,
         "type": "scatter3d",
         "x": [
          2.199,
          0.901
         ],
         "y": [
          5.401,
          5.221
         ],
         "z": [
          6.687,
          7.312
         ]
        },
        {
         "line": {
          "color": "red",
          "width": 2
         },
         "mode": "lines",
         "showlegend": false,
         "type": "scatter3d",
         "x": [
          0.901,
          0.919
         ],
         "y": [
          5.221,
          4.647
         ],
         "z": [
          7.312,
          8.754
         ]
        },
        {
         "line": {
          "color": "red",
          "width": 2
         },
         "mode": "lines",
         "showlegend": false,
         "type": "scatter3d",
         "x": [
          0.919,
          -0.131
         ],
         "y": [
          4.647,
          4.583
         ],
         "z": [
          8.754,
          9.352
         ]
        },
        {
         "line": {
          "color": "red",
          "width": 2
         },
         "mode": "lines",
         "showlegend": false,
         "type": "scatter3d",
         "x": [
          0.919,
          2.09
         ],
         "y": [
          4.647,
          4.247
         ],
         "z": [
          8.754,
          9.24
         ]
        },
        {
         "line": {
          "color": "red",
          "width": 2
         },
         "mode": "lines",
         "showlegend": false,
         "type": "scatter3d",
         "x": [
          2.09,
          2.231
         ],
         "y": [
          4.247,
          3.781
         ],
         "z": [
          9.24,
          10.624
         ]
        },
        {
         "line": {
          "color": "red",
          "width": 2
         },
         "mode": "lines",
         "showlegend": false,
         "type": "scatter3d",
         "x": [
          2.231,
          3.25
         ],
         "y": [
          3.781,
          4.676
         ],
         "z": [
          10.624,
          11.376
         ]
        },
        {
         "line": {
          "color": "red",
          "width": 2
         },
         "mode": "lines",
         "showlegend": false,
         "type": "scatter3d",
         "x": [
          3.25,
          4.237
         ],
         "y": [
          4.676,
          4.178
         ],
         "z": [
          11.376,
          11.903
         ]
        },
        {
         "line": {
          "color": "red",
          "width": 2
         },
         "mode": "lines",
         "showlegend": false,
         "type": "scatter3d",
         "x": [
          3.25,
          3.046
         ],
         "y": [
          4.676,
          5.999
         ],
         "z": [
          11.376,
          11.421
         ]
        },
        {
         "line": {
          "color": "red",
          "width": 2
         },
         "mode": "lines",
         "showlegend": false,
         "type": "scatter3d",
         "x": [
          3.046,
          1.759
         ],
         "y": [
          5.999,
          6.672
         ],
         "z": [
          11.421,
          11.221
         ]
        },
        {
         "line": {
          "color": "red",
          "width": 2
         },
         "mode": "lines",
         "showlegend": false,
         "type": "scatter3d",
         "x": [
          1.759,
          1.564
         ],
         "y": [
          6.672,
          7.328
         ],
         "z": [
          11.221,
          9.847
         ]
        },
        {
         "line": {
          "color": "red",
          "width": 2
         },
         "mode": "lines",
         "showlegend": false,
         "type": "scatter3d",
         "x": [
          1.564,
          0.496
         ],
         "y": [
          7.328,
          7.868
         ],
         "z": [
          9.847,
          9.593
         ]
        },
        {
         "line": {
          "color": "blue",
          "width": 2
         },
         "mode": "lines",
         "showlegend": false,
         "type": "scatter3d",
         "x": [
          2.281422389210185,
          0.9629687721189271
         ],
         "y": [
          5.403597487987671,
          5.210549068833231
         ],
         "z": [
          6.753562381752127,
          7.357941705886354
         ]
        },
        {
         "line": {
          "color": "blue",
          "width": 2
         },
         "mode": "lines",
         "showlegend": false,
         "type": "scatter3d",
         "x": [
          2.281422389210185,
          2.9635500903375402
         ],
         "y": [
          5.403597487987671,
          6.594629412612632
         ],
         "z": [
          6.753562381752127,
          6.641661738863568
         ]
        },
        {
         "line": {
          "color": "blue",
          "width": 2
         },
         "mode": "lines",
         "showlegend": false,
         "type": "scatter3d",
         "x": [
          0.9629687721189271,
          0.9139065041155554
         ],
         "y": [
          5.210549068833231,
          4.617870024244278
         ],
         "z": [
          7.357941705886354,
          8.772300021152855
         ]
        },
        {
         "line": {
          "color": "blue",
          "width": 2
         },
         "mode": "lines",
         "showlegend": false,
         "type": "scatter3d",
         "x": [
          0.9139065041155554,
          -0.15926978976294315
         ],
         "y": [
          4.617870024244278,
          4.494204315472491
         ],
         "z": [
          8.772300021152855,
          9.333573960269202
         ]
        },
        {
         "line": {
          "color": "blue",
          "width": 2
         },
         "mode": "lines",
         "showlegend": false,
         "type": "scatter3d",
         "x": [
          0.9139065041155554,
          2.0857644339131767
         ],
         "y": [
          4.617870024244278,
          4.248437811101001
         ],
         "z": [
          8.772300021152855,
          9.307151245571845
         ]
        },
        {
         "line": {
          "color": "blue",
          "width": 2
         },
         "mode": "lines",
         "showlegend": false,
         "type": "scatter3d",
         "x": [
          2.0857644339131767,
          2.204127636593115
         ],
         "y": [
          4.248437811101001,
          3.7805878580784897
         ],
         "z": [
          9.307151245571845,
          10.670231791140662
         ]
        },
        {
         "line": {
          "color": "blue",
          "width": 2
         },
         "mode": "lines",
         "showlegend": false,
         "type": "scatter3d",
         "x": [
          2.204127636593115,
          3.2278995394294006
         ],
         "y": [
          3.7805878580784897,
          4.627649068746194
         ],
         "z": [
          10.670231791140662,
          11.436341049892398
         ]
        },
        {
         "line": {
          "color": "blue",
          "width": 2
         },
         "mode": "lines",
         "showlegend": false,
         "type": "scatter3d",
         "x": [
          3.2278995394294006,
          4.172925917111451
         ],
         "y": [
          4.627649068746194,
          4.130003069794073
         ],
         "z": [
          11.436341049892398,
          12.024330510012295
         ]
        },
        {
         "line": {
          "color": "blue",
          "width": 2
         },
         "mode": "lines",
         "showlegend": false,
         "type": "scatter3d",
         "x": [
          3.2278995394294006,
          3.0190682381483183
         ],
         "y": [
          4.627649068746194,
          5.977234046052747
         ],
         "z": [
          11.436341049892398,
          11.440685774708154
         ]
        },
        {
         "line": {
          "color": "blue",
          "width": 2
         },
         "mode": "lines",
         "showlegend": false,
         "type": "scatter3d",
         "x": [
          3.0190682381483183,
          1.773304152662229
         ],
         "y": [
          5.977234046052747,
          6.686205387805163
         ],
         "z": [
          11.440685774708154,
          11.19864346459113
         ]
        },
        {
         "line": {
          "color": "blue",
          "width": 2
         },
         "mode": "lines",
         "showlegend": false,
         "type": "scatter3d",
         "x": [
          1.773304152662229,
          1.6061060890086774
         ],
         "y": [
          6.686205387805163,
          7.32477057510832
         ],
         "z": [
          11.19864346459113,
          9.834880908617773
         ]
        },
        {
         "line": {
          "color": "blue",
          "width": 2
         },
         "mode": "lines",
         "showlegend": false,
         "type": "scatter3d",
         "x": [
          1.6061060890086774,
          0.541619219695149
         ],
         "y": [
          7.32477057510832,
          7.873333667678551
         ],
         "z": [
          9.834880908617773,
          9.547708071237796
         ]
        },
        {
         "line": {
          "color": "blue",
          "width": 2
         },
         "mode": "lines",
         "showlegend": false,
         "type": "scatter3d",
         "x": [
          1.6061060890086774,
          2.6364251080203918
         ],
         "y": [
          7.32477057510832,
          7.2403416024133245
         ],
         "z": [
          9.834880908617773,
          8.978885308376507
         ]
        },
        {
         "line": {
          "color": "blue",
          "width": 2
         },
         "mode": "lines",
         "showlegend": false,
         "type": "scatter3d",
         "x": [
          2.6364251080203918,
          2.5663037442339993
         ],
         "y": [
          7.2403416024133245,
          7.718007606102018
         ],
         "z": [
          8.978885308376507,
          7.602411849402157
         ]
        },
        {
         "line": {
          "color": "blue",
          "width": 2
         },
         "mode": "lines",
         "showlegend": false,
         "type": "scatter3d",
         "x": [
          2.5663037442339993,
          2.9635500903375402
         ],
         "y": [
          7.718007606102018,
          6.594629412612632
         ],
         "z": [
          7.602411849402157,
          6.641661738863568
         ]
        },
        {
         "line": {
          "color": "blue",
          "width": 2
         },
         "mode": "lines",
         "showlegend": false,
         "type": "scatter3d",
         "x": [
          2.9635500903375402,
          3.845877955164839
         ],
         "y": [
          6.594629412612632,
          6.714578997969793
         ],
         "z": [
          6.641661738863568,
          5.8276902185252055
         ]
        },
        {
         "line": {
          "color": "green",
          "dash": "longdash",
          "width": 3
         },
         "mode": "lines",
         "showlegend": false,
         "type": "scatter3d",
         "x": [
          2.605,
          2.6364251080203918
         ],
         "y": [
          7.268,
          7.2403416024133245
         ],
         "z": [
          8.993,
          8.978885308376507
         ]
        },
        {
         "line": {
          "color": "green",
          "dash": "longdash",
          "width": 3
         },
         "mode": "lines",
         "showlegend": false,
         "type": "scatter3d",
         "x": [
          2.496,
          2.5663037442339993
         ],
         "y": [
          7.668,
          7.718007606102018
         ],
         "z": [
          7.588,
          7.602411849402157
         ]
        },
        {
         "line": {
          "color": "green",
          "dash": "longdash",
          "width": 3
         },
         "mode": "lines",
         "showlegend": false,
         "type": "scatter3d",
         "x": [
          2.966,
          2.9635500903375402
         ],
         "y": [
          6.517,
          6.594629412612632
         ],
         "z": [
          6.732,
          6.641661738863568
         ]
        },
        {
         "line": {
          "color": "green",
          "dash": "longdash",
          "width": 3
         },
         "mode": "lines",
         "showlegend": false,
         "type": "scatter3d",
         "x": [
          4.014,
          3.845877955164839
         ],
         "y": [
          6.588,
          6.714578997969793
         ],
         "z": [
          6.085,
          5.8276902185252055
         ]
        },
        {
         "line": {
          "color": "green",
          "dash": "longdash",
          "width": 3
         },
         "mode": "lines",
         "showlegend": false,
         "type": "scatter3d",
         "x": [
          2.199,
          2.281422389210185
         ],
         "y": [
          5.401,
          5.403597487987671
         ],
         "z": [
          6.687,
          6.753562381752127
         ]
        },
        {
         "line": {
          "color": "green",
          "dash": "longdash",
          "width": 3
         },
         "mode": "lines",
         "showlegend": false,
         "type": "scatter3d",
         "x": [
          0.901,
          0.9629687721189271
         ],
         "y": [
          5.221,
          5.210549068833231
         ],
         "z": [
          7.312,
          7.357941705886354
         ]
        },
        {
         "line": {
          "color": "green",
          "dash": "longdash",
          "width": 3
         },
         "mode": "lines",
         "showlegend": false,
         "type": "scatter3d",
         "x": [
          0.919,
          0.9139065041155554
         ],
         "y": [
          4.647,
          4.617870024244278
         ],
         "z": [
          8.754,
          8.772300021152855
         ]
        },
        {
         "line": {
          "color": "green",
          "dash": "longdash",
          "width": 3
         },
         "mode": "lines",
         "showlegend": false,
         "type": "scatter3d",
         "x": [
          -0.131,
          -0.15926978976294315
         ],
         "y": [
          4.583,
          4.494204315472491
         ],
         "z": [
          9.352,
          9.333573960269202
         ]
        },
        {
         "line": {
          "color": "green",
          "dash": "longdash",
          "width": 3
         },
         "mode": "lines",
         "showlegend": false,
         "type": "scatter3d",
         "x": [
          2.09,
          2.0857644339131767
         ],
         "y": [
          4.247,
          4.248437811101001
         ],
         "z": [
          9.24,
          9.307151245571845
         ]
        },
        {
         "line": {
          "color": "green",
          "dash": "longdash",
          "width": 3
         },
         "mode": "lines",
         "showlegend": false,
         "type": "scatter3d",
         "x": [
          2.231,
          2.204127636593115
         ],
         "y": [
          3.781,
          3.7805878580784897
         ],
         "z": [
          10.624,
          10.670231791140662
         ]
        },
        {
         "line": {
          "color": "green",
          "dash": "longdash",
          "width": 3
         },
         "mode": "lines",
         "showlegend": false,
         "type": "scatter3d",
         "x": [
          3.25,
          3.2278995394294006
         ],
         "y": [
          4.676,
          4.627649068746194
         ],
         "z": [
          11.376,
          11.436341049892398
         ]
        },
        {
         "line": {
          "color": "green",
          "dash": "longdash",
          "width": 3
         },
         "mode": "lines",
         "showlegend": false,
         "type": "scatter3d",
         "x": [
          4.237,
          4.172925917111451
         ],
         "y": [
          4.178,
          4.130003069794073
         ],
         "z": [
          11.903,
          12.024330510012295
         ]
        },
        {
         "line": {
          "color": "green",
          "dash": "longdash",
          "width": 3
         },
         "mode": "lines",
         "showlegend": false,
         "type": "scatter3d",
         "x": [
          3.046,
          3.0190682381483183
         ],
         "y": [
          5.999,
          5.977234046052747
         ],
         "z": [
          11.421,
          11.440685774708154
         ]
        },
        {
         "line": {
          "color": "green",
          "dash": "longdash",
          "width": 3
         },
         "mode": "lines",
         "showlegend": false,
         "type": "scatter3d",
         "x": [
          1.759,
          1.773304152662229
         ],
         "y": [
          6.672,
          6.686205387805163
         ],
         "z": [
          11.221,
          11.19864346459113
         ]
        },
        {
         "line": {
          "color": "green",
          "dash": "longdash",
          "width": 3
         },
         "mode": "lines",
         "showlegend": false,
         "type": "scatter3d",
         "x": [
          1.564,
          1.6061060890086774
         ],
         "y": [
          7.328,
          7.32477057510832
         ],
         "z": [
          9.847,
          9.834880908617773
         ]
        },
        {
         "line": {
          "color": "green",
          "dash": "longdash",
          "width": 3
         },
         "mode": "lines",
         "showlegend": false,
         "type": "scatter3d",
         "x": [
          0.496,
          0.541619219695149
         ],
         "y": [
          7.868,
          7.873333667678551
         ],
         "z": [
          9.593,
          9.547708071237796
         ]
        }
       ],
       "layout": {
        "scene": {
         "aspectmode": "data",
         "xaxis": {
          "title": {
           "text": "X"
          },
          "visible": false
         },
         "yaxis": {
          "title": {
           "text": "Y"
          },
          "visible": false
         },
         "zaxis": {
          "title": {
           "text": "Z"
          },
          "visible": false
         }
        },
        "showlegend": true,
        "template": {
         "data": {
          "bar": [
           {
            "error_x": {
             "color": "#2a3f5f"
            },
            "error_y": {
             "color": "#2a3f5f"
            },
            "marker": {
             "line": {
              "color": "#E5ECF6",
              "width": 0.5
             },
             "pattern": {
              "fillmode": "overlay",
              "size": 10,
              "solidity": 0.2
             }
            },
            "type": "bar"
           }
          ],
          "barpolar": [
           {
            "marker": {
             "line": {
              "color": "#E5ECF6",
              "width": 0.5
             },
             "pattern": {
              "fillmode": "overlay",
              "size": 10,
              "solidity": 0.2
             }
            },
            "type": "barpolar"
           }
          ],
          "carpet": [
           {
            "aaxis": {
             "endlinecolor": "#2a3f5f",
             "gridcolor": "white",
             "linecolor": "white",
             "minorgridcolor": "white",
             "startlinecolor": "#2a3f5f"
            },
            "baxis": {
             "endlinecolor": "#2a3f5f",
             "gridcolor": "white",
             "linecolor": "white",
             "minorgridcolor": "white",
             "startlinecolor": "#2a3f5f"
            },
            "type": "carpet"
           }
          ],
          "choropleth": [
           {
            "colorbar": {
             "outlinewidth": 0,
             "ticks": ""
            },
            "type": "choropleth"
           }
          ],
          "contour": [
           {
            "colorbar": {
             "outlinewidth": 0,
             "ticks": ""
            },
            "colorscale": [
             [
              0,
              "#0d0887"
             ],
             [
              0.1111111111111111,
              "#46039f"
             ],
             [
              0.2222222222222222,
              "#7201a8"
             ],
             [
              0.3333333333333333,
              "#9c179e"
             ],
             [
              0.4444444444444444,
              "#bd3786"
             ],
             [
              0.5555555555555556,
              "#d8576b"
             ],
             [
              0.6666666666666666,
              "#ed7953"
             ],
             [
              0.7777777777777778,
              "#fb9f3a"
             ],
             [
              0.8888888888888888,
              "#fdca26"
             ],
             [
              1,
              "#f0f921"
             ]
            ],
            "type": "contour"
           }
          ],
          "contourcarpet": [
           {
            "colorbar": {
             "outlinewidth": 0,
             "ticks": ""
            },
            "type": "contourcarpet"
           }
          ],
          "heatmap": [
           {
            "colorbar": {
             "outlinewidth": 0,
             "ticks": ""
            },
            "colorscale": [
             [
              0,
              "#0d0887"
             ],
             [
              0.1111111111111111,
              "#46039f"
             ],
             [
              0.2222222222222222,
              "#7201a8"
             ],
             [
              0.3333333333333333,
              "#9c179e"
             ],
             [
              0.4444444444444444,
              "#bd3786"
             ],
             [
              0.5555555555555556,
              "#d8576b"
             ],
             [
              0.6666666666666666,
              "#ed7953"
             ],
             [
              0.7777777777777778,
              "#fb9f3a"
             ],
             [
              0.8888888888888888,
              "#fdca26"
             ],
             [
              1,
              "#f0f921"
             ]
            ],
            "type": "heatmap"
           }
          ],
          "histogram": [
           {
            "marker": {
             "pattern": {
              "fillmode": "overlay",
              "size": 10,
              "solidity": 0.2
             }
            },
            "type": "histogram"
           }
          ],
          "histogram2d": [
           {
            "colorbar": {
             "outlinewidth": 0,
             "ticks": ""
            },
            "colorscale": [
             [
              0,
              "#0d0887"
             ],
             [
              0.1111111111111111,
              "#46039f"
             ],
             [
              0.2222222222222222,
              "#7201a8"
             ],
             [
              0.3333333333333333,
              "#9c179e"
             ],
             [
              0.4444444444444444,
              "#bd3786"
             ],
             [
              0.5555555555555556,
              "#d8576b"
             ],
             [
              0.6666666666666666,
              "#ed7953"
             ],
             [
              0.7777777777777778,
              "#fb9f3a"
             ],
             [
              0.8888888888888888,
              "#fdca26"
             ],
             [
              1,
              "#f0f921"
             ]
            ],
            "type": "histogram2d"
           }
          ],
          "histogram2dcontour": [
           {
            "colorbar": {
             "outlinewidth": 0,
             "ticks": ""
            },
            "colorscale": [
             [
              0,
              "#0d0887"
             ],
             [
              0.1111111111111111,
              "#46039f"
             ],
             [
              0.2222222222222222,
              "#7201a8"
             ],
             [
              0.3333333333333333,
              "#9c179e"
             ],
             [
              0.4444444444444444,
              "#bd3786"
             ],
             [
              0.5555555555555556,
              "#d8576b"
             ],
             [
              0.6666666666666666,
              "#ed7953"
             ],
             [
              0.7777777777777778,
              "#fb9f3a"
             ],
             [
              0.8888888888888888,
              "#fdca26"
             ],
             [
              1,
              "#f0f921"
             ]
            ],
            "type": "histogram2dcontour"
           }
          ],
          "mesh3d": [
           {
            "colorbar": {
             "outlinewidth": 0,
             "ticks": ""
            },
            "type": "mesh3d"
           }
          ],
          "parcoords": [
           {
            "line": {
             "colorbar": {
              "outlinewidth": 0,
              "ticks": ""
             }
            },
            "type": "parcoords"
           }
          ],
          "pie": [
           {
            "automargin": true,
            "type": "pie"
           }
          ],
          "scatter": [
           {
            "fillpattern": {
             "fillmode": "overlay",
             "size": 10,
             "solidity": 0.2
            },
            "type": "scatter"
           }
          ],
          "scatter3d": [
           {
            "line": {
             "colorbar": {
              "outlinewidth": 0,
              "ticks": ""
             }
            },
            "marker": {
             "colorbar": {
              "outlinewidth": 0,
              "ticks": ""
             }
            },
            "type": "scatter3d"
           }
          ],
          "scattercarpet": [
           {
            "marker": {
             "colorbar": {
              "outlinewidth": 0,
              "ticks": ""
             }
            },
            "type": "scattercarpet"
           }
          ],
          "scattergeo": [
           {
            "marker": {
             "colorbar": {
              "outlinewidth": 0,
              "ticks": ""
             }
            },
            "type": "scattergeo"
           }
          ],
          "scattergl": [
           {
            "marker": {
             "colorbar": {
              "outlinewidth": 0,
              "ticks": ""
             }
            },
            "type": "scattergl"
           }
          ],
          "scattermap": [
           {
            "marker": {
             "colorbar": {
              "outlinewidth": 0,
              "ticks": ""
             }
            },
            "type": "scattermap"
           }
          ],
          "scattermapbox": [
           {
            "marker": {
             "colorbar": {
              "outlinewidth": 0,
              "ticks": ""
             }
            },
            "type": "scattermapbox"
           }
          ],
          "scatterpolar": [
           {
            "marker": {
             "colorbar": {
              "outlinewidth": 0,
              "ticks": ""
             }
            },
            "type": "scatterpolar"
           }
          ],
          "scatterpolargl": [
           {
            "marker": {
             "colorbar": {
              "outlinewidth": 0,
              "ticks": ""
             }
            },
            "type": "scatterpolargl"
           }
          ],
          "scatterternary": [
           {
            "marker": {
             "colorbar": {
              "outlinewidth": 0,
              "ticks": ""
             }
            },
            "type": "scatterternary"
           }
          ],
          "surface": [
           {
            "colorbar": {
             "outlinewidth": 0,
             "ticks": ""
            },
            "colorscale": [
             [
              0,
              "#0d0887"
             ],
             [
              0.1111111111111111,
              "#46039f"
             ],
             [
              0.2222222222222222,
              "#7201a8"
             ],
             [
              0.3333333333333333,
              "#9c179e"
             ],
             [
              0.4444444444444444,
              "#bd3786"
             ],
             [
              0.5555555555555556,
              "#d8576b"
             ],
             [
              0.6666666666666666,
              "#ed7953"
             ],
             [
              0.7777777777777778,
              "#fb9f3a"
             ],
             [
              0.8888888888888888,
              "#fdca26"
             ],
             [
              1,
              "#f0f921"
             ]
            ],
            "type": "surface"
           }
          ],
          "table": [
           {
            "cells": {
             "fill": {
              "color": "#EBF0F8"
             },
             "line": {
              "color": "white"
             }
            },
            "header": {
             "fill": {
              "color": "#C8D4E3"
             },
             "line": {
              "color": "white"
             }
            },
            "type": "table"
           }
          ]
         },
         "layout": {
          "annotationdefaults": {
           "arrowcolor": "#2a3f5f",
           "arrowhead": 0,
           "arrowwidth": 1
          },
          "autotypenumbers": "strict",
          "coloraxis": {
           "colorbar": {
            "outlinewidth": 0,
            "ticks": ""
           }
          },
          "colorscale": {
           "diverging": [
            [
             0,
             "#8e0152"
            ],
            [
             0.1,
             "#c51b7d"
            ],
            [
             0.2,
             "#de77ae"
            ],
            [
             0.3,
             "#f1b6da"
            ],
            [
             0.4,
             "#fde0ef"
            ],
            [
             0.5,
             "#f7f7f7"
            ],
            [
             0.6,
             "#e6f5d0"
            ],
            [
             0.7,
             "#b8e186"
            ],
            [
             0.8,
             "#7fbc41"
            ],
            [
             0.9,
             "#4d9221"
            ],
            [
             1,
             "#276419"
            ]
           ],
           "sequential": [
            [
             0,
             "#0d0887"
            ],
            [
             0.1111111111111111,
             "#46039f"
            ],
            [
             0.2222222222222222,
             "#7201a8"
            ],
            [
             0.3333333333333333,
             "#9c179e"
            ],
            [
             0.4444444444444444,
             "#bd3786"
            ],
            [
             0.5555555555555556,
             "#d8576b"
            ],
            [
             0.6666666666666666,
             "#ed7953"
            ],
            [
             0.7777777777777778,
             "#fb9f3a"
            ],
            [
             0.8888888888888888,
             "#fdca26"
            ],
            [
             1,
             "#f0f921"
            ]
           ],
           "sequentialminus": [
            [
             0,
             "#0d0887"
            ],
            [
             0.1111111111111111,
             "#46039f"
            ],
            [
             0.2222222222222222,
             "#7201a8"
            ],
            [
             0.3333333333333333,
             "#9c179e"
            ],
            [
             0.4444444444444444,
             "#bd3786"
            ],
            [
             0.5555555555555556,
             "#d8576b"
            ],
            [
             0.6666666666666666,
             "#ed7953"
            ],
            [
             0.7777777777777778,
             "#fb9f3a"
            ],
            [
             0.8888888888888888,
             "#fdca26"
            ],
            [
             1,
             "#f0f921"
            ]
           ]
          },
          "colorway": [
           "#636efa",
           "#EF553B",
           "#00cc96",
           "#ab63fa",
           "#FFA15A",
           "#19d3f3",
           "#FF6692",
           "#B6E880",
           "#FF97FF",
           "#FECB52"
          ],
          "font": {
           "color": "#2a3f5f"
          },
          "geo": {
           "bgcolor": "white",
           "lakecolor": "white",
           "landcolor": "#E5ECF6",
           "showlakes": true,
           "showland": true,
           "subunitcolor": "white"
          },
          "hoverlabel": {
           "align": "left"
          },
          "hovermode": "closest",
          "mapbox": {
           "style": "light"
          },
          "paper_bgcolor": "white",
          "plot_bgcolor": "#E5ECF6",
          "polar": {
           "angularaxis": {
            "gridcolor": "white",
            "linecolor": "white",
            "ticks": ""
           },
           "bgcolor": "#E5ECF6",
           "radialaxis": {
            "gridcolor": "white",
            "linecolor": "white",
            "ticks": ""
           }
          },
          "scene": {
           "xaxis": {
            "backgroundcolor": "#E5ECF6",
            "gridcolor": "white",
            "gridwidth": 2,
            "linecolor": "white",
            "showbackground": true,
            "ticks": "",
            "zerolinecolor": "white"
           },
           "yaxis": {
            "backgroundcolor": "#E5ECF6",
            "gridcolor": "white",
            "gridwidth": 2,
            "linecolor": "white",
            "showbackground": true,
            "ticks": "",
            "zerolinecolor": "white"
           },
           "zaxis": {
            "backgroundcolor": "#E5ECF6",
            "gridcolor": "white",
            "gridwidth": 2,
            "linecolor": "white",
            "showbackground": true,
            "ticks": "",
            "zerolinecolor": "white"
           }
          },
          "shapedefaults": {
           "line": {
            "color": "#2a3f5f"
           }
          },
          "ternary": {
           "aaxis": {
            "gridcolor": "white",
            "linecolor": "white",
            "ticks": ""
           },
           "baxis": {
            "gridcolor": "white",
            "linecolor": "white",
            "ticks": ""
           },
           "bgcolor": "#E5ECF6",
           "caxis": {
            "gridcolor": "white",
            "linecolor": "white",
            "ticks": ""
           }
          },
          "title": {
           "x": 0.05
          },
          "xaxis": {
           "automargin": true,
           "gridcolor": "white",
           "linecolor": "white",
           "ticks": "",
           "title": {
            "standoff": 15
           },
           "zerolinecolor": "white",
           "zerolinewidth": 2
          },
          "yaxis": {
           "automargin": true,
           "gridcolor": "white",
           "linecolor": "white",
           "ticks": "",
           "title": {
            "standoff": 15
           },
           "zerolinecolor": "white",
           "zerolinewidth": 2
          }
         }
        },
        "title": {
         "text": "ALPRAL10_2_fixed_backbone CEJSUF_fixed_backbone Alignment"
        }
       }
      }
     },
     "metadata": {},
     "output_type": "display_data"
    }
   ],
   "source": [
    "group1_data_path = \"../Data/Our_Benchmark_20250410_ver1/Cyclic_Peptide/Backbone_Most_Similar\"\n",
    "molA = next(pybel.readfile(\"xyz\", os.path.join(group1_data_path, 'c4mers', 'ALPRAL10_2_fixed_backbone.xyz')))\n",
    "molB = next(pybel.readfile(\"xyz\", os.path.join(group1_data_path, 'c4mers', 'CEJSUF_fixed_backbone.xyz')))\n",
    "X_A, T_A, B_A = otm.tl.process_molecule(molA) \n",
    "X_B, T_B, B_B = otm.tl.process_molecule(molB)\n",
    "assignment = group1_res['assignment'][0]\n",
    "X_B_aligned, _, _ = otm.tl.kabsch(X_A, X_B, otm.tl.permutation_to_matrix(assignment))\n",
    "otm.pl.interactive_alignment_plot(X_A, X_B_aligned, T_A, T_B, B_A, B_B, assignment, 'ALPRAL10_2_fixed_backbone', 'CEJSUF_fixed_backbone')"
   ]
  }
 ],
 "metadata": {
  "kernelspec": {
   "display_name": "py39",
   "language": "python",
   "name": "python3"
  },
  "language_info": {
   "codemirror_mode": {
    "name": "ipython",
    "version": 3
   },
   "file_extension": ".py",
   "mimetype": "text/x-python",
   "name": "python",
   "nbconvert_exporter": "python",
   "pygments_lexer": "ipython3",
   "version": "3.9.16"
  }
 },
 "nbformat": 4,
 "nbformat_minor": 2
}
