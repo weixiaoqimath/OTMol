{
 "cells": [
  {
   "cell_type": "code",
   "execution_count": 1,
   "metadata": {},
   "outputs": [],
   "source": [
    "import numpy as np\n",
    "import otmol as otm\n",
    "import pandas as pd\n",
    "from openbabel import pybel\n",
    "import matplotlib.pyplot as plt\n",
    "import seaborn as sns\n",
    "import os\n",
    "from rdkit.Chem import MolFromPDBFile\n",
    "from experiment_utils import interactive_alignment_plot_py3dmol\n",
    "# %matplotlib widget"
   ]
  },
  {
   "cell_type": "code",
   "execution_count": 2,
   "metadata": {},
   "outputs": [
    {
     "name": "stdout",
     "output_type": "stream",
     "text": [
      "1ln1_DLP 0 4.960497988345014 0\n",
      "1ln1_DLP 1 6.512222118643305 0\n",
      "1ln1_DLP 2 5.569599494357458 1\n"
     ]
    },
    {
     "ename": "KeyboardInterrupt",
     "evalue": "",
     "output_type": "error",
     "traceback": [
      "\u001b[0;31m---------------------------------------------------------------------------\u001b[0m",
      "\u001b[0;31mKeyboardInterrupt\u001b[0m                         Traceback (most recent call last)",
      "Input \u001b[0;32mIn [2]\u001b[0m, in \u001b[0;36m<cell line: 3>\u001b[0;34m()\u001b[0m\n\u001b[1;32m     10\u001b[0m X_A, T_A, B_A \u001b[38;5;241m=\u001b[39m otm\u001b[38;5;241m.\u001b[39mtl\u001b[38;5;241m.\u001b[39mprocess_rdkit_mol(molA, heavy_atoms_only\u001b[38;5;241m=\u001b[39m\u001b[38;5;28;01mTrue\u001b[39;00m)\n\u001b[1;32m     11\u001b[0m X_B, T_B, B_B \u001b[38;5;241m=\u001b[39m otm\u001b[38;5;241m.\u001b[39mtl\u001b[38;5;241m.\u001b[39mprocess_rdkit_mol(molB, heavy_atoms_only\u001b[38;5;241m=\u001b[39m\u001b[38;5;28;01mTrue\u001b[39;00m)\n\u001b[0;32m---> 12\u001b[0m optimal_assignment, rmsd_best, alpha_best, mismatched_bond_best \u001b[38;5;241m=\u001b[39m \u001b[43motm\u001b[49m\u001b[38;5;241;43m.\u001b[39;49m\u001b[43mtl\u001b[49m\u001b[38;5;241;43m.\u001b[39;49m\u001b[43mmolecule_alignment_with_perturbation\u001b[49m\u001b[43m(\u001b[49m\n\u001b[1;32m     13\u001b[0m \u001b[43m    \u001b[49m\u001b[43mX_A\u001b[49m\u001b[43m,\u001b[49m\u001b[43m \u001b[49m\u001b[43mX_B\u001b[49m\u001b[43m,\u001b[49m\u001b[43m \u001b[49m\u001b[43mT_A\u001b[49m\u001b[43m,\u001b[49m\u001b[43m \u001b[49m\u001b[43mT_B\u001b[49m\u001b[43m,\u001b[49m\u001b[43m \u001b[49m\u001b[43mB_A\u001b[49m\u001b[43m,\u001b[49m\u001b[43m \u001b[49m\u001b[43mB_B\u001b[49m\u001b[43m,\u001b[49m\u001b[43m \u001b[49m\n\u001b[1;32m     14\u001b[0m \u001b[43m    \u001b[49m\u001b[43mn_perturbation\u001b[49m\u001b[43m \u001b[49m\u001b[38;5;241;43m=\u001b[39;49m\u001b[43m \u001b[49m\u001b[38;5;241;43m1\u001b[39;49m\u001b[43m)\u001b[49m  \n\u001b[1;32m     15\u001b[0m \u001b[38;5;28mprint\u001b[39m(ligand, i, rmsd_best, mismatched_bond_best)\n\u001b[1;32m     16\u001b[0m result\u001b[38;5;241m.\u001b[39mappend({\n\u001b[1;32m     17\u001b[0m     \u001b[38;5;124m'\u001b[39m\u001b[38;5;124mnameA\u001b[39m\u001b[38;5;124m'\u001b[39m: ligand,\n\u001b[1;32m     18\u001b[0m     \u001b[38;5;124m'\u001b[39m\u001b[38;5;124mnameB\u001b[39m\u001b[38;5;124m'\u001b[39m: ligand\u001b[38;5;241m+\u001b[39m\u001b[38;5;124m'\u001b[39m\u001b[38;5;124m_conf\u001b[39m\u001b[38;5;124m'\u001b[39m\u001b[38;5;241m+\u001b[39m\u001b[38;5;28mstr\u001b[39m(i),\n\u001b[0;32m   (...)\u001b[0m\n\u001b[1;32m     22\u001b[0m     \u001b[38;5;124m'\u001b[39m\u001b[38;5;124massignment\u001b[39m\u001b[38;5;124m'\u001b[39m: optimal_assignment,\n\u001b[1;32m     23\u001b[0m })\n",
      "File \u001b[0;32m~/otmol/src/otmol/tools/_alignment.py:199\u001b[0m, in \u001b[0;36mmolecule_alignment_with_perturbation\u001b[0;34m(X_A, X_B, T_A, T_B, B_A, B_B, alpha_list, molecule_sizes, reflection, scale, n_perturbation)\u001b[0m\n\u001b[1;32m    197\u001b[0m D_A_perturbed, D_B_perturbed \u001b[38;5;241m=\u001b[39m D_A_perturbed\u001b[38;5;241m/\u001b[39mD_A_perturbed\u001b[38;5;241m.\u001b[39mmax(), D_B_perturbed\u001b[38;5;241m/\u001b[39mD_A_perturbed\u001b[38;5;241m.\u001b[39mmax() \n\u001b[1;32m    198\u001b[0m \u001b[38;5;28;01mfor\u001b[39;00m j \u001b[38;5;129;01min\u001b[39;00m alpha_list:\n\u001b[0;32m--> 199\u001b[0m     P \u001b[38;5;241m=\u001b[39m \u001b[43mot\u001b[49m\u001b[38;5;241;43m.\u001b[39;49m\u001b[43mgromov\u001b[49m\u001b[38;5;241;43m.\u001b[39;49m\u001b[43mfused_gromov_wasserstein\u001b[49m\u001b[43m(\u001b[49m\u001b[43mC\u001b[49m\u001b[43m,\u001b[49m\u001b[43m \u001b[49m\u001b[43mD_A_perturbed\u001b[49m\u001b[43m,\u001b[49m\u001b[43m \u001b[49m\u001b[43mD_B_perturbed\u001b[49m\u001b[43m,\u001b[49m\u001b[43m \u001b[49m\u001b[43malpha\u001b[49m\u001b[43m \u001b[49m\u001b[38;5;241;43m=\u001b[39;49m\u001b[43m \u001b[49m\u001b[43mj\u001b[49m\u001b[43m,\u001b[49m\u001b[43m \u001b[49m\u001b[43msymmetric\u001b[49m\u001b[38;5;241;43m=\u001b[39;49m\u001b[38;5;28;43;01mTrue\u001b[39;49;00m\u001b[43m)\u001b[49m\n\u001b[1;32m    200\u001b[0m     assignment \u001b[38;5;241m=\u001b[39m np\u001b[38;5;241m.\u001b[39margmax(P, axis\u001b[38;5;241m=\u001b[39m\u001b[38;5;241m1\u001b[39m)\n\u001b[1;32m    201\u001b[0m     \u001b[38;5;28;01mif\u001b[39;00m is_permutation(T_A, T_B, assignment, case\u001b[38;5;241m=\u001b[39m\u001b[38;5;124m'\u001b[39m\u001b[38;5;124msingle\u001b[39m\u001b[38;5;124m'\u001b[39m):\n",
      "File \u001b[0;32m~/miniconda3/envs/py39/lib/python3.9/site-packages/ot/gromov/_gw.py:643\u001b[0m, in \u001b[0;36mfused_gromov_wasserstein\u001b[0;34m(M, C1, C2, p, q, loss_fun, symmetric, alpha, armijo, G0, log, max_iter, tol_rel, tol_abs, **kwargs)\u001b[0m\n\u001b[1;32m    640\u001b[0m     \u001b[38;5;28;01mreturn\u001b[39;00m nx\u001b[38;5;241m.\u001b[39mfrom_numpy(res, type_as\u001b[38;5;241m=\u001b[39mM0), log\n\u001b[1;32m    641\u001b[0m \u001b[38;5;28;01melse\u001b[39;00m:\n\u001b[1;32m    642\u001b[0m     \u001b[38;5;28;01mreturn\u001b[39;00m nx\u001b[38;5;241m.\u001b[39mfrom_numpy(\n\u001b[0;32m--> 643\u001b[0m         \u001b[43mcg\u001b[49m\u001b[43m(\u001b[49m\n\u001b[1;32m    644\u001b[0m \u001b[43m            \u001b[49m\u001b[43mp\u001b[49m\u001b[43m,\u001b[49m\n\u001b[1;32m    645\u001b[0m \u001b[43m            \u001b[49m\u001b[43mq\u001b[49m\u001b[43m,\u001b[49m\n\u001b[1;32m    646\u001b[0m \u001b[43m            \u001b[49m\u001b[43m(\u001b[49m\u001b[38;5;241;43m1\u001b[39;49m\u001b[43m \u001b[49m\u001b[38;5;241;43m-\u001b[39;49m\u001b[43m \u001b[49m\u001b[43malpha\u001b[49m\u001b[43m)\u001b[49m\u001b[43m \u001b[49m\u001b[38;5;241;43m*\u001b[39;49m\u001b[43m \u001b[49m\u001b[43mM\u001b[49m\u001b[43m,\u001b[49m\n\u001b[1;32m    647\u001b[0m \u001b[43m            \u001b[49m\u001b[43malpha\u001b[49m\u001b[43m,\u001b[49m\n\u001b[1;32m    648\u001b[0m \u001b[43m            \u001b[49m\u001b[43mf\u001b[49m\u001b[43m,\u001b[49m\n\u001b[1;32m    649\u001b[0m \u001b[43m            \u001b[49m\u001b[43mdf\u001b[49m\u001b[43m,\u001b[49m\n\u001b[1;32m    650\u001b[0m \u001b[43m            \u001b[49m\u001b[43mG0\u001b[49m\u001b[43m,\u001b[49m\n\u001b[1;32m    651\u001b[0m \u001b[43m            \u001b[49m\u001b[43mline_search\u001b[49m\u001b[43m,\u001b[49m\n\u001b[1;32m    652\u001b[0m \u001b[43m            \u001b[49m\u001b[43mlog\u001b[49m\u001b[38;5;241;43m=\u001b[39;49m\u001b[38;5;28;43;01mFalse\u001b[39;49;00m\u001b[43m,\u001b[49m\n\u001b[1;32m    653\u001b[0m \u001b[43m            \u001b[49m\u001b[43mnumItermax\u001b[49m\u001b[38;5;241;43m=\u001b[39;49m\u001b[43mmax_iter\u001b[49m\u001b[43m,\u001b[49m\n\u001b[1;32m    654\u001b[0m \u001b[43m            \u001b[49m\u001b[43mstopThr\u001b[49m\u001b[38;5;241;43m=\u001b[39;49m\u001b[43mtol_rel\u001b[49m\u001b[43m,\u001b[49m\n\u001b[1;32m    655\u001b[0m \u001b[43m            \u001b[49m\u001b[43mstopThr2\u001b[49m\u001b[38;5;241;43m=\u001b[39;49m\u001b[43mtol_abs\u001b[49m\u001b[43m,\u001b[49m\n\u001b[1;32m    656\u001b[0m \u001b[43m            \u001b[49m\u001b[38;5;241;43m*\u001b[39;49m\u001b[38;5;241;43m*\u001b[39;49m\u001b[43mkwargs\u001b[49m\u001b[43m,\u001b[49m\n\u001b[1;32m    657\u001b[0m \u001b[43m        \u001b[49m\u001b[43m)\u001b[49m,\n\u001b[1;32m    658\u001b[0m         type_as\u001b[38;5;241m=\u001b[39mM0,\n\u001b[1;32m    659\u001b[0m     )\n",
      "File \u001b[0;32m~/miniconda3/envs/py39/lib/python3.9/site-packages/ot/optim.py:520\u001b[0m, in \u001b[0;36mcg\u001b[0;34m(a, b, M, reg, f, df, G0, line_search, numItermax, numItermaxEmd, stopThr, stopThr2, verbose, log, nx, **kwargs)\u001b[0m\n\u001b[1;32m    517\u001b[0m \u001b[38;5;28;01mdef\u001b[39;00m \u001b[38;5;21mlp_solver\u001b[39m(a, b, M, \u001b[38;5;241m*\u001b[39m\u001b[38;5;241m*\u001b[39mkwargs):\n\u001b[1;32m    518\u001b[0m     \u001b[38;5;28;01mreturn\u001b[39;00m emd(a, b, M, numItermaxEmd, log\u001b[38;5;241m=\u001b[39m\u001b[38;5;28;01mTrue\u001b[39;00m)\n\u001b[0;32m--> 520\u001b[0m \u001b[38;5;28;01mreturn\u001b[39;00m \u001b[43mgeneric_conditional_gradient\u001b[49m\u001b[43m(\u001b[49m\n\u001b[1;32m    521\u001b[0m \u001b[43m    \u001b[49m\u001b[43ma\u001b[49m\u001b[43m,\u001b[49m\n\u001b[1;32m    522\u001b[0m \u001b[43m    \u001b[49m\u001b[43mb\u001b[49m\u001b[43m,\u001b[49m\n\u001b[1;32m    523\u001b[0m \u001b[43m    \u001b[49m\u001b[43mM\u001b[49m\u001b[43m,\u001b[49m\n\u001b[1;32m    524\u001b[0m \u001b[43m    \u001b[49m\u001b[43mf\u001b[49m\u001b[43m,\u001b[49m\n\u001b[1;32m    525\u001b[0m \u001b[43m    \u001b[49m\u001b[43mdf\u001b[49m\u001b[43m,\u001b[49m\n\u001b[1;32m    526\u001b[0m \u001b[43m    \u001b[49m\u001b[43mreg\u001b[49m\u001b[43m,\u001b[49m\n\u001b[1;32m    527\u001b[0m \u001b[43m    \u001b[49m\u001b[38;5;28;43;01mNone\u001b[39;49;00m\u001b[43m,\u001b[49m\n\u001b[1;32m    528\u001b[0m \u001b[43m    \u001b[49m\u001b[43mlp_solver\u001b[49m\u001b[43m,\u001b[49m\n\u001b[1;32m    529\u001b[0m \u001b[43m    \u001b[49m\u001b[43mline_search\u001b[49m\u001b[43m,\u001b[49m\n\u001b[1;32m    530\u001b[0m \u001b[43m    \u001b[49m\u001b[43mG0\u001b[49m\u001b[38;5;241;43m=\u001b[39;49m\u001b[43mG0\u001b[49m\u001b[43m,\u001b[49m\n\u001b[1;32m    531\u001b[0m \u001b[43m    \u001b[49m\u001b[43mnumItermax\u001b[49m\u001b[38;5;241;43m=\u001b[39;49m\u001b[43mnumItermax\u001b[49m\u001b[43m,\u001b[49m\n\u001b[1;32m    532\u001b[0m \u001b[43m    \u001b[49m\u001b[43mstopThr\u001b[49m\u001b[38;5;241;43m=\u001b[39;49m\u001b[43mstopThr\u001b[49m\u001b[43m,\u001b[49m\n\u001b[1;32m    533\u001b[0m \u001b[43m    \u001b[49m\u001b[43mstopThr2\u001b[49m\u001b[38;5;241;43m=\u001b[39;49m\u001b[43mstopThr2\u001b[49m\u001b[43m,\u001b[49m\n\u001b[1;32m    534\u001b[0m \u001b[43m    \u001b[49m\u001b[43mverbose\u001b[49m\u001b[38;5;241;43m=\u001b[39;49m\u001b[43mverbose\u001b[49m\u001b[43m,\u001b[49m\n\u001b[1;32m    535\u001b[0m \u001b[43m    \u001b[49m\u001b[43mlog\u001b[49m\u001b[38;5;241;43m=\u001b[39;49m\u001b[43mlog\u001b[49m\u001b[43m,\u001b[49m\n\u001b[1;32m    536\u001b[0m \u001b[43m    \u001b[49m\u001b[43mnx\u001b[49m\u001b[38;5;241;43m=\u001b[39;49m\u001b[43mnx\u001b[49m\u001b[43m,\u001b[49m\n\u001b[1;32m    537\u001b[0m \u001b[43m    \u001b[49m\u001b[38;5;241;43m*\u001b[39;49m\u001b[38;5;241;43m*\u001b[39;49m\u001b[43mkwargs\u001b[49m\u001b[43m,\u001b[49m\n\u001b[1;32m    538\u001b[0m \u001b[43m\u001b[49m\u001b[43m)\u001b[49m\n",
      "File \u001b[0;32m~/miniconda3/envs/py39/lib/python3.9/site-packages/ot/optim.py:364\u001b[0m, in \u001b[0;36mgeneric_conditional_gradient\u001b[0;34m(a, b, M, f, df, reg1, reg2, lp_solver, line_search, G0, numItermax, stopThr, stopThr2, verbose, log, nx, **kwargs)\u001b[0m\n\u001b[1;32m    361\u001b[0m \u001b[38;5;66;03m# line search\u001b[39;00m\n\u001b[1;32m    362\u001b[0m deltaG \u001b[38;5;241m=\u001b[39m Gc \u001b[38;5;241m-\u001b[39m G\n\u001b[0;32m--> 364\u001b[0m res_line_search \u001b[38;5;241m=\u001b[39m \u001b[43mline_search\u001b[49m\u001b[43m(\u001b[49m\u001b[43mcost\u001b[49m\u001b[43m,\u001b[49m\u001b[43m \u001b[49m\u001b[43mG\u001b[49m\u001b[43m,\u001b[49m\u001b[43m \u001b[49m\u001b[43mdeltaG\u001b[49m\u001b[43m,\u001b[49m\u001b[43m \u001b[49m\u001b[43mMi\u001b[49m\u001b[43m,\u001b[49m\u001b[43m \u001b[49m\u001b[43mcost_G\u001b[49m\u001b[43m,\u001b[49m\u001b[43m \u001b[49m\u001b[43mdf_G\u001b[49m\u001b[43m,\u001b[49m\u001b[43m \u001b[49m\u001b[38;5;241;43m*\u001b[39;49m\u001b[38;5;241;43m*\u001b[39;49m\u001b[43mkwargs\u001b[49m\u001b[43m)\u001b[49m\n\u001b[1;32m    365\u001b[0m \u001b[38;5;28;01mif\u001b[39;00m \u001b[38;5;28mlen\u001b[39m(res_line_search) \u001b[38;5;241m==\u001b[39m \u001b[38;5;241m3\u001b[39m:\n\u001b[1;32m    366\u001b[0m     \u001b[38;5;66;03m# the line-search does not allow to update the gradient\u001b[39;00m\n\u001b[1;32m    367\u001b[0m     alpha, fc, cost_G \u001b[38;5;241m=\u001b[39m res_line_search\n",
      "File \u001b[0;32m~/miniconda3/envs/py39/lib/python3.9/site-packages/ot/gromov/_gw.py:600\u001b[0m, in \u001b[0;36mfused_gromov_wasserstein.<locals>.line_search\u001b[0;34m(cost, G, deltaG, Mi, cost_G, df_G, **kwargs)\u001b[0m\n\u001b[1;32m    599\u001b[0m \u001b[38;5;28;01mdef\u001b[39;00m \u001b[38;5;21mline_search\u001b[39m(cost, G, deltaG, Mi, cost_G, df_G, \u001b[38;5;241m*\u001b[39m\u001b[38;5;241m*\u001b[39mkwargs):\n\u001b[0;32m--> 600\u001b[0m     \u001b[38;5;28;01mreturn\u001b[39;00m \u001b[43msolve_gromov_linesearch\u001b[49m\u001b[43m(\u001b[49m\n\u001b[1;32m    601\u001b[0m \u001b[43m        \u001b[49m\u001b[43mG\u001b[49m\u001b[43m,\u001b[49m\n\u001b[1;32m    602\u001b[0m \u001b[43m        \u001b[49m\u001b[43mdeltaG\u001b[49m\u001b[43m,\u001b[49m\n\u001b[1;32m    603\u001b[0m \u001b[43m        \u001b[49m\u001b[43mcost_G\u001b[49m\u001b[43m,\u001b[49m\n\u001b[1;32m    604\u001b[0m \u001b[43m        \u001b[49m\u001b[43mhC1\u001b[49m\u001b[43m,\u001b[49m\n\u001b[1;32m    605\u001b[0m \u001b[43m        \u001b[49m\u001b[43mhC2\u001b[49m\u001b[43m,\u001b[49m\n\u001b[1;32m    606\u001b[0m \u001b[43m        \u001b[49m\u001b[43mM\u001b[49m\u001b[38;5;241;43m=\u001b[39;49m\u001b[43m(\u001b[49m\u001b[38;5;241;43m1\u001b[39;49m\u001b[43m \u001b[49m\u001b[38;5;241;43m-\u001b[39;49m\u001b[43m \u001b[49m\u001b[43malpha\u001b[49m\u001b[43m)\u001b[49m\u001b[43m \u001b[49m\u001b[38;5;241;43m*\u001b[39;49m\u001b[43m \u001b[49m\u001b[43mM\u001b[49m\u001b[43m,\u001b[49m\n\u001b[1;32m    607\u001b[0m \u001b[43m        \u001b[49m\u001b[43mreg\u001b[49m\u001b[38;5;241;43m=\u001b[39;49m\u001b[43malpha\u001b[49m\u001b[43m,\u001b[49m\n\u001b[1;32m    608\u001b[0m \u001b[43m        \u001b[49m\u001b[43mnx\u001b[49m\u001b[38;5;241;43m=\u001b[39;49m\u001b[43mnp_\u001b[49m\u001b[43m,\u001b[49m\n\u001b[1;32m    609\u001b[0m \u001b[43m        \u001b[49m\u001b[43msymmetric\u001b[49m\u001b[38;5;241;43m=\u001b[39;49m\u001b[43msymmetric\u001b[49m\u001b[43m,\u001b[49m\n\u001b[1;32m    610\u001b[0m \u001b[43m        \u001b[49m\u001b[38;5;241;43m*\u001b[39;49m\u001b[38;5;241;43m*\u001b[39;49m\u001b[43mkwargs\u001b[49m\u001b[43m,\u001b[49m\n\u001b[1;32m    611\u001b[0m \u001b[43m    \u001b[49m\u001b[43m)\u001b[49m\n",
      "File \u001b[0;32m~/miniconda3/envs/py39/lib/python3.9/site-packages/ot/gromov/_gw.py:930\u001b[0m, in \u001b[0;36msolve_gromov_linesearch\u001b[0;34m(G, deltaG, cost_G, C1, C2, M, reg, alpha_min, alpha_max, nx, symmetric, **kwargs)\u001b[0m\n\u001b[1;32m    927\u001b[0m     \u001b[38;5;28;01melse\u001b[39;00m:\n\u001b[1;32m    928\u001b[0m         nx \u001b[38;5;241m=\u001b[39m get_backend(G, deltaG, C1, C2, M)\n\u001b[0;32m--> 930\u001b[0m dot \u001b[38;5;241m=\u001b[39m \u001b[43mnx\u001b[49m\u001b[38;5;241;43m.\u001b[39;49m\u001b[43mdot\u001b[49m\u001b[43m(\u001b[49m\u001b[43mnx\u001b[49m\u001b[38;5;241;43m.\u001b[39;49m\u001b[43mdot\u001b[49m\u001b[43m(\u001b[49m\u001b[43mC1\u001b[49m\u001b[43m,\u001b[49m\u001b[43m \u001b[49m\u001b[43mdeltaG\u001b[49m\u001b[43m)\u001b[49m\u001b[43m,\u001b[49m\u001b[43m \u001b[49m\u001b[43mC2\u001b[49m\u001b[38;5;241;43m.\u001b[39;49m\u001b[43mT\u001b[49m\u001b[43m)\u001b[49m\n\u001b[1;32m    931\u001b[0m a \u001b[38;5;241m=\u001b[39m \u001b[38;5;241m-\u001b[39mreg \u001b[38;5;241m*\u001b[39m nx\u001b[38;5;241m.\u001b[39msum(dot \u001b[38;5;241m*\u001b[39m deltaG)\n\u001b[1;32m    932\u001b[0m \u001b[38;5;28;01mif\u001b[39;00m symmetric:\n",
      "File \u001b[0;32m~/miniconda3/envs/py39/lib/python3.9/site-packages/ot/backend.py:1167\u001b[0m, in \u001b[0;36mNumpyBackend.dot\u001b[0;34m(self, a, b)\u001b[0m\n\u001b[1;32m   1166\u001b[0m \u001b[38;5;28;01mdef\u001b[39;00m \u001b[38;5;21mdot\u001b[39m(\u001b[38;5;28mself\u001b[39m, a, b):\n\u001b[0;32m-> 1167\u001b[0m     \u001b[38;5;28;01mreturn\u001b[39;00m \u001b[43mnp\u001b[49m\u001b[38;5;241;43m.\u001b[39;49m\u001b[43mdot\u001b[49m\u001b[43m(\u001b[49m\u001b[43ma\u001b[49m\u001b[43m,\u001b[49m\u001b[43m \u001b[49m\u001b[43mb\u001b[49m\u001b[43m)\u001b[49m\n",
      "File \u001b[0;32m<__array_function__ internals>:200\u001b[0m, in \u001b[0;36mdot\u001b[0;34m(*args, **kwargs)\u001b[0m\n",
      "\u001b[0;31mKeyboardInterrupt\u001b[0m: "
     ]
    }
   ],
   "source": [
    "data_path = \"../Data/first_8_molecules_RDKIT\"\n",
    "lig_list = ['1ln1_DLP', '4csv_imatinib', '5bvs_EIC', '6ln3_ATP', '6y13_stapledHelix', '8w4x_BGC', '8w4x_BGCGLC', '215d_DNA']\n",
    "for ligand in lig_list:\n",
    "    result = []\n",
    "    for i in range(50):\n",
    "        path1 = os.path.join(data_path, 'extra_bio_ligands', ligand+'.pdb')\n",
    "        path2 = os.path.join(data_path, 'extra_bio_ligands_RDKIT', ligand, ligand+'_conf'+str(i)+'.pdb')\n",
    "        molA = MolFromPDBFile(path1, removeHs=True, sanitize=False)\n",
    "        molB = MolFromPDBFile(path2, removeHs=True, sanitize=False)\n",
    "        X_A, T_A, B_A = otm.tl.process_rdkit_mol(molA, heavy_atoms_only=True)\n",
    "        X_B, T_B, B_B = otm.tl.process_rdkit_mol(molB, heavy_atoms_only=True)\n",
    "        optimal_assignment, rmsd_best, alpha_best, mismatched_bond_best = otm.tl.molecule_alignment_with_perturbation(\n",
    "            X_A, X_B, T_A, T_B, B_A, B_B, \n",
    "            n_perturbation = 1)  \n",
    "        print(ligand, i, rmsd_best, mismatched_bond_best)\n",
    "        result.append({\n",
    "            'nameA': ligand,\n",
    "            'nameB': ligand+'_conf'+str(i),\n",
    "            'RMSD(OTMol)': rmsd_best,\n",
    "            'alpha': alpha_best,\n",
    "            'mismatch_bond': mismatched_bond_best,\n",
    "            'assignment': optimal_assignment,\n",
    "        })\n",
    "    pd.DataFrame(result).to_csv(('./otmol_output/{}_result.csv'.format(ligand)), index=False)"
   ]
  },
  {
   "cell_type": "code",
   "execution_count": 3,
   "metadata": {},
   "outputs": [
    {
     "name": "stdout",
     "output_type": "stream",
     "text": [
      "1ln1_DLP 2 5.569599494357458 1\n"
     ]
    }
   ],
   "source": [
    "data_path = \"../Data/first_8_molecules_RDKIT\"\n",
    "lig_list = ['1ln1_DLP', '4csv_imatinib', '5bvs_EIC', '6ln3_ATP', '6y13_stapledHelix', '8w4x_BGC', '8w4x_BGCGLC', '215d_DNA']\n",
    "ligand = lig_list[0]\n",
    "i=2\n",
    "path1 = os.path.join(data_path, 'extra_bio_ligands', ligand+'.pdb')\n",
    "path2 = os.path.join(data_path, 'extra_bio_ligands_RDKIT', ligand, ligand+'_conf'+str(i)+'.pdb')\n",
    "molA = MolFromPDBFile(path1, removeHs=True, sanitize=False)\n",
    "molB = MolFromPDBFile(path2, removeHs=True, sanitize=False)\n",
    "X_A, T_A, B_A = otm.tl.process_rdkit_mol(molA, heavy_atoms_only=True)\n",
    "X_B, T_B, B_B = otm.tl.process_rdkit_mol(molB, heavy_atoms_only=True)\n",
    "optimal_assignment, rmsd_best, alpha_best, mismatched_bond_best = otm.tl.molecule_alignment_with_perturbation(\n",
    "            X_A, X_B, T_A, T_B, B_A, B_B, \n",
    "            n_perturbation = 1)  \n",
    "print(ligand, i, rmsd_best, mismatched_bond_best)"
   ]
  },
  {
   "cell_type": "code",
   "execution_count": 4,
   "metadata": {},
   "outputs": [
    {
     "name": "stdout",
     "output_type": "stream",
     "text": [
      "1ln1_DLP 2 5.569599494357458 1\n"
     ]
    }
   ],
   "source": [
    "data_path = \"../Data/first_8_molecules_RDKIT\"\n",
    "lig_list = ['1ln1_DLP', '4csv_imatinib', '5bvs_EIC', '6ln3_ATP', '6y13_stapledHelix', '8w4x_BGC', '8w4x_BGCGLC', '215d_DNA']\n",
    "ligand = lig_list[0]\n",
    "i=2\n",
    "path1 = os.path.join(data_path, 'extra_bio_ligands', ligand+'.pdb')\n",
    "path2 = os.path.join(data_path, 'extra_bio_ligands_RDKIT', ligand, ligand+'_conf'+str(i)+'.pdb')\n",
    "molA = MolFromPDBFile(path1, removeHs=True, sanitize=False)\n",
    "molB = MolFromPDBFile(path2, removeHs=True, sanitize=False)\n",
    "X_A, T_A, B_A = otm.tl.process_rdkit_mol(molA, heavy_atoms_only=True)\n",
    "X_B, T_B, B_B = otm.tl.process_rdkit_mol(molB, heavy_atoms_only=True)\n",
    "optimal_assignment, rmsd_best, alpha_best, mismatched_bond_best = otm.tl.molecule_alignment_with_perturbation(\n",
    "            X_A, X_B, T_A, T_B, B_A, B_B, \n",
    "            n_perturbation = 0)  \n",
    "print(ligand, i, rmsd_best, mismatched_bond_best)"
   ]
  },
  {
   "cell_type": "code",
   "execution_count": null,
   "metadata": {},
   "outputs": [],
   "source": []
  },
  {
   "cell_type": "code",
   "execution_count": 6,
   "metadata": {},
   "outputs": [
    {
     "data": {
      "image/png": "[encoded data removed]",
      "text/plain": [
       "<Figure size 720x360 with 1 Axes>"
      ]
     },
     "metadata": {
      "needs_background": "light"
     },
     "output_type": "display_data"
    }
   ],
   "source": [
    "arbalign_res = pd.read_csv('./arbalign_output/1ln1_DLP_result.csv')\n",
    "otmol_res = pd.read_csv('./otmol_output/1ln1_DLP_result.csv')\n",
    "\n",
    "combined_df = pd.concat([\n",
    "    arbalign_res.rename(columns={'RMSD(ArbAlign)': 'ArbAlign'}), \n",
    "    otmol_res.rename(columns={'RMSD(OTMol)': 'OTMol'}), \n",
    "    ], axis=1)\n",
    "plt.figure(figsize=(10,5))\n",
    "sns.set_style(\"whitegrid\")\n",
    "sns.set_context(\"paper\", font_scale=1.2)\n",
    "sns.set_palette(\"Set2\")\n",
    "plt.plot(range(0,50), combined_df[\"OTMol\"], marker='o', label=\"OTMol\", clip_on=False, zorder=10)\n",
    "plt.plot(range(0,50), combined_df[\"ArbAlign\"], marker='o', label=\"ArbAlign\", clip_on=False, zorder=10)\n",
    "plt.title(\"1ln1_DLP\")\n",
    "plt.xlabel(\"\")\n",
    "plt.ylabel(\"RMSD Values\")\n",
    "#plt.ylim(0, 2)\n",
    "plt.xticks(range(0,50))\n",
    "#plt.xlim(2,20)\n",
    "plt.legend()\n",
    "plt.grid(True)\n",
    "#plt.savefig('../images/S1MAW1_element_name.png', dpi=300, bbox_inches='tight')"
   ]
  },
  {
   "cell_type": "code",
   "execution_count": 2,
   "metadata": {},
   "outputs": [
    {
     "data": {
      "application/vnd.plotly.v1+json": {
       "config": {
        "plotlyServerURL": "https://plot.ly",
        "toImageButtonOptions": {
         "format": "png",
         "height": 500,
         "scale": 2,
         "width": 700
        }
       },
       "data": [
        {
         "marker": {
          "color": "red",
          "size": [
           15.2,
           15.2,
           15.2,
           15.2,
           15.2,
           15.2,
           15.2,
           15.2,
           15.2,
           15.2,
           15.2,
           15.2,
           15.2,
           15.2,
           15.2,
           15.2,
           15.2,
           15.2,
           15.2,
           15.2,
           15.2,
           15.2,
           15.2,
           15.2,
           15.2,
           15.2,
           15.2,
           15.2,
           15.2,
           15.2,
           15.2,
           15.2,
           15.2,
           15.2,
           15.2,
           15.2,
           15.2,
           15.2,
           15.2,
           15.2,
           15.2,
           15.2,
           15.2,
           15.2,
           14.2,
           13.200000000000001,
           13.200000000000001,
           13.200000000000001,
           13.200000000000001,
           13.200000000000001,
           13.200000000000001,
           13.200000000000001,
           13.200000000000001,
           21.400000000000002
          ],
          "symbol": "circle"
         },
         "mode": "markers+text",
         "name": "",
         "text": [
          "C",
          "C",
          "C",
          "C",
          "C",
          "C",
          "C",
          "C",
          "C",
          "C",
          "C",
          "C",
          "C",
          "C",
          "C",
          "C",
          "C",
          "C",
          "C",
          "C",
          "C",
          "C",
          "C",
          "C",
          "C",
          "C",
          "C",
          "C",
          "C",
          "C",
          "C",
          "C",
          "C",
          "C",
          "C",
          "C",
          "C",
          "C",
          "C",
          "C",
          "C",
          "C",
          "C",
          "C",
          "N",
          "O",
          "O",
          "O",
          "O",
          "O",
          "O",
          "O",
          "O",
          "P"
         ],
         "textposition": "top center",
         "type": "scatter3d",
         "x": {
          "bdata": "j8L1KFyvSEBKDAIrh2ZJQIlBYOXQ8klAhxbZzvdzR0CuR+F6FB5HQFTjpZvEIEhASOF6FK4HR0CgGi/dJFZHQKrx0k1iMEtAyXa+nxrPS0AUrkfheqRLQD81XrpJ3EtAy6FFtvO9S0BmZmZmZlZMQKJFtvP9JExAUI2XbhLTS0CF61G4HlVLQAaBlUOLHEtAEoPAyqFVS0CLbOf7qfFKQHnpJjEI3EpAMzMzMzMjS0DFILByaPFKQHnpJjEIbEtA001iEFhpS0DXo3A9ChdLQDMzMzMzU0lAI9v5fmqMSUDsUbgehQtJQNNNYhBYOUlAXrpJDALLSECiRbbz/bRIQHe+nxov/UhA2/l+arzkSEBcj8L1KIxJQHE9CtejkElAlkOLbOfrSECDwMqhRcZIQNV46SYxmEhAtvP91HiJSECiRbbz/eRHQHe+nxovfUdATmIQWDlkR0BI4XoUrqdGQLgehetRaEdAfT81XrqJSUAAAAAAAJBKQCuHFtnON0tA8KfGSzf5SEDLoUW28x1HQFg5tMh2zkdARrbz/dQ4SEA1XrpJDDJHQIPAyqFFlkdA",
          "dtype": "f8"
         },
         "y": {
          "bdata": "JzEIrBzaSEBmZmZmZgZJQDMzMzMz00hAx0s3iUEwSkA/NV66SbxKQE5iEFg5BEtAuB6F61FYS0BiEFg5tDhKQNnO91PjpUhAokW28/3kSEAnMQisHApJQD0K16NwvUlAc2iR7XzfSUAQWDm0yKZJQF66SQwCa0lAarx0kxi0SEDwp8ZLN5lIQOxRuB6F+0dA0SLb+X5aR0AAAAAAAFBHQB+F61G4vkZAbxKDwMoRRkBOYhBYOYRFQDm0yHa+f0VAvp8aL93URECBlUOLbNdEQDm0yHa+H0lA8KfGSzfZSECPwvUoXF9IQBBYObTIpkdAtMh2vp9aR0C4HoXrUZhGQDeJQWDlMEZARrbz/dSIRkBg5dAi25lGQOOlm8Qg0EZAWDm0yHbuRkAdWmQ7309GQEa28/3UWEZAokW28/0ER0CsHFpkO19HQDvfT42XfkdAd76fGi/dRkDFILByaLFGQIts5/up0UpAd76fGi/NSEDwp8ZLNwlJQOXQItv5HkhAEFg5tMimSUDufD81XupIQGIQWDm0qElANV66SQxiSUDn+6nx0h1KQIXrUbgehUlA",
          "dtype": "f8"
         },
         "z": {
          "bdata": "RIts5/vpM0CamZmZmXkzQGQ730+NdzRAGy/dJAaBMkDjpZvEILAxQHE9CtejcDBAUrgehetRL0DVeOkmMQgvQHsUrkfh2jNA30+Nl24SM0BOYhBYOZQxQC/dJAaBFTFAvp8aL90kL0CuR+F6FG4tQGZmZmZmpipAAiuHFtmOKkBmZmZmZiYoQOkmMQisXCdAoBov3STGKEAGgZVDi2wrQFK4HoXr0SxA0SLb+X7qK0DXo3A9CtctQKJFtvP9FDBA1XjpJjHIMEDn+6nx0i0yQFpkO99PzTBAZmZmZmbmLkAv3SQGgZUtQG8Sg8DKIS5A7FG4HoUrMEASg8DKoQUwQMl2vp8aLzFA5dAi2/l+MkDHSzeJQUAzQNV46SYxiDRApHA9CtdDNUAhsHJokQ02QMHKoUW2UzdAGy/dJAYBOEBeukkMAqs3QOxRuB6F6zhAtMh2vp+6OUA/NV66Sew5QNv5fmq8VDBA/tR46SYRMkCJQWDl0MIzQOxRuB6FizRAvHSTGATWMEDP91PjpVs0QPLSTWIQ2DVAhxbZzvdzM0Cmm8QgsNIzQGZmZmZmZjRA",
          "dtype": "f8"
         }
        },
        {
         "marker": {
          "color": "blue",
          "size": [
           15.2,
           15.2,
           15.2,
           15.2,
           15.2,
           15.2,
           15.2,
           15.2,
           15.2,
           15.2,
           15.2,
           15.2,
           15.2,
           15.2,
           15.2,
           15.2,
           15.2,
           15.2,
           15.2,
           15.2,
           15.2,
           15.2,
           15.2,
           15.2,
           15.2,
           15.2,
           15.2,
           15.2,
           15.2,
           15.2,
           15.2,
           15.2,
           15.2,
           15.2,
           15.2,
           15.2,
           15.2,
           15.2,
           15.2,
           15.2,
           15.2,
           15.2,
           15.2,
           15.2,
           14.2,
           13.200000000000001,
           13.200000000000001,
           13.200000000000001,
           13.200000000000001,
           13.200000000000001,
           13.200000000000001,
           13.200000000000001,
           13.200000000000001,
           21.400000000000002
          ],
          "symbol": "circle"
         },
         "mode": "markers+text",
         "name": "",
         "text": [
          "C",
          "C",
          "C",
          "C",
          "C",
          "C",
          "C",
          "C",
          "C",
          "C",
          "C",
          "C",
          "C",
          "C",
          "C",
          "C",
          "C",
          "C",
          "C",
          "C",
          "C",
          "C",
          "C",
          "C",
          "C",
          "C",
          "C",
          "C",
          "C",
          "C",
          "C",
          "C",
          "C",
          "C",
          "C",
          "C",
          "C",
          "C",
          "C",
          "C",
          "C",
          "C",
          "C",
          "C",
          "N",
          "O",
          "O",
          "O",
          "O",
          "O",
          "O",
          "O",
          "O",
          "P"
         ],
         "textposition": "top center",
         "type": "scatter3d",
         "x": {
          "bdata": "leYA+uqPSECInskZ/hNJQESOuCvNsUlAWizLZH1GSEAF6HUlFWxIQJDJZKabmklAsqeNZi7aSEAP6ZuB2QtJQJ1/5JicY0pAB5u1VGuySkCOYWlOc1dLQDPBagSJwEtAqhDk8D/+S0AOPKp/QnJLQJVVzVDhxEtAtJ6LMUgSTEA65DGDpopLQPwc2h2G0ktAJho5cLFRS0BsAybaBb9KQKytyqr+SEpArdmFfvb9SUCEAf+4JI9JQKgCqe9p80hA1R//08uFSEAFLL7vQkpIQKKcNMXZCUlAUQRAXsSKSEA1Xvp3slNIQJdz6dZU6khAs7BYCOy8SEBA5OGn2WRIQF6urxz8VEhA8xeLyMz5R0DcMwnc2epHQEOC0gZCkUdAiGogZLXaR0DmyJuzQHdIQJFfGTEGH0lAQAnJuqF8SUDiYGN1wytKQFQFDt6nqkpAdR9oufCJSkCm57crPnZKQDR06oTX9khAG+jFM9XcSEBDczq5cc9JQI3cZJQKHkpASDDewkhOSUBIyTINCGpHQHBmOjBpoUhAvRabwM3SSEBqCrT2LxtIQHxh9s5OL0hA",
          "dtype": "f8"
         },
         "y": {
          "bdata": "ffov92a/SUCk1goyi6BJQBTtjcJ9F0pAB5OA19gjSkActPzd9AhKQC6ofPsO9UlA8Rqag+dOSUATl7/30RBJQFZ+NgsCV0pAsrxsHxAoSkCgzzK+qIVKQB/QXVHwj0pA6HfBEAsCSkCV8rG2XahJQJbr+lguI0lAosnxQguNSECapKofNBVIQEORkDZRfkdAn5qqoYX7RkDsPX87WjpHQAnWQQQPqEZADJDQJ0RIRkDRoRawF6ZGQN1a3/bl9EZA086cXxVOR0AtfGaPfs1GQKkwD6G+WklA0RtjzMzjSEBMPwwPGk9IQIBwzfO35EdApz8an8BLR0A3wG0lh2pHQFbs05M/vUZAEjx7iu45RkBBnO9RG5NFQIDP3XIbDUVA4X6qB0LHREC3WA5+kV9EQOWijJIRlERArZUOiiYgRUC2+tDCzShFQPQXAWgum0VAUARHveNURkCYhVC4ZapGQGzLCdE3mUlAsAopSHmzSUA0rEOEhQhKQH2GrL4TBUtA13R/JarFSUBM4Mb919JJQMwZ0vKMbEpA7F4uqlGxSUCwVvdrA5RJQHZGG6nhtUlA",
          "dtype": "f8"
         },
         "z": {
          "bdata": "fGrptrmJM0DU+1nn4Y80QLZweQXeRzRAYeJ3dOCiLUBqKk0uk78qQN7CNTj3ECpAqvuRftR7J0Bk6uv82w8sQFSAYUnKkDJAlXBw/c0+MUBD3B71cCwxQDhf5sPe+y9Ah/rmbpJaLkB3M7NcaMIsQGCoYQk78ypAC5uCqopKLEBmltxXoXMtQN/pqThQ4S5AstXyrsuwL0Cw+cRAh64wQAqW+LUADTFALPetFTvVL0DJ75V8GuwtQD4tAGJEMi9ArjxiIpcRLUAeyewbE/8qQBvnQDeE4TZAw5o3+++HN0CcPma116Q2QMg+JYPpRTZA4sTWBiR1NUDaa+i/vSo0QJu3AeWCdTNALk3ILIhCNEA6nLqh+XUzQJuBXlXlNzRAY/ybC292NUDMRQ37tW01QNJMjNmv+zRAcPWw87S9NUB4Mir/AAs1QJuEIwuwpjVASB8AOuO8NUCVHPGpfGM0QK7Wcz8KIypAsDaZ+uvONUAXIuRbzecyQKQ3OvZiMTJABVDIuc/ZN0A8IDtoVskxQCFRHFBLQDFAdKzGSIBHMkBfDXd0uw4vQCXgTEe1KDFA",
          "dtype": "f8"
         }
        },
        {
         "line": {
          "color": "red",
          "width": 2
         },
         "mode": "lines",
         "showlegend": false,
         "type": "scatter3d",
         "x": [
          49.37,
          50.801
         ],
         "y": [
          49.704,
          50.05
         ],
         "z": [
          19.914,
          19.475
         ]
        },
        {
         "line": {
          "color": "red",
          "width": 2
         },
         "mode": "lines",
         "showlegend": false,
         "type": "scatter3d",
         "x": [
          49.37,
          48.444
         ],
         "y": [
          49.704,
          50.766
         ],
         "z": [
          19.914,
          19.453
         ]
        },
        {
         "line": {
          "color": "red",
          "width": 2
         },
         "mode": "lines",
         "showlegend": false,
         "type": "scatter3d",
         "x": [
          50.801,
          51.897
         ],
         "y": [
          50.05,
          49.65
         ],
         "z": [
          19.475,
          20.467
         ]
        },
        {
         "line": {
          "color": "red",
          "width": 2
         },
         "mode": "lines",
         "showlegend": false,
         "type": "scatter3d",
         "x": [
          50.801,
          51.076
         ],
         "y": [
          50.05,
          49.603
         ],
         "z": [
          19.475,
          18.067
         ]
        },
        {
         "line": {
          "color": "red",
          "width": 2
         },
         "mode": "lines",
         "showlegend": false,
         "type": "scatter3d",
         "x": [
          51.897,
          53.125
         ],
         "y": [
          49.65,
          50.072
         ],
         "z": [
          20.467,
          19.761
         ]
        },
        {
         "line": {
          "color": "red",
          "width": 2
         },
         "mode": "lines",
         "showlegend": false,
         "type": "scatter3d",
         "x": [
          46.906,
          46.235
         ],
         "y": [
          52.377,
          53.471
         ],
         "z": [
          18.504,
          17.688
         ]
        },
        {
         "line": {
          "color": "red",
          "width": 2
         },
         "mode": "lines",
         "showlegend": false,
         "type": "scatter3d",
         "x": [
          46.906,
          46.391
         ],
         "y": [
          52.377,
          52.233
         ],
         "z": [
          18.504,
          19.823
         ]
        },
        {
         "line": {
          "color": "red",
          "width": 2
         },
         "mode": "lines",
         "showlegend": false,
         "type": "scatter3d",
         "x": [
          46.235,
          46.815
         ],
         "y": [
          53.471,
          53.638
         ],
         "z": [
          17.688,
          16.331
         ]
        },
        {
         "line": {
          "color": "red",
          "width": 2
         },
         "mode": "lines",
         "showlegend": false,
         "type": "scatter3d",
         "x": [
          48.256,
          46.815
         ],
         "y": [
          54.033,
          53.638
         ],
         "z": [
          16.44,
          16.331
         ]
        },
        {
         "line": {
          "color": "red",
          "width": 2
         },
         "mode": "lines",
         "showlegend": false,
         "type": "scatter3d",
         "x": [
          46.06,
          46.815
         ],
         "y": [
          54.69,
          53.638
         ],
         "z": [
          15.66,
          16.331
         ]
        },
        {
         "line": {
          "color": "red",
          "width": 2
         },
         "mode": "lines",
         "showlegend": false,
         "type": "scatter3d",
         "x": [
          46.673,
          46.815
         ],
         "y": [
          52.443,
          53.638
         ],
         "z": [
          15.516,
          16.331
         ]
        },
        {
         "line": {
          "color": "red",
          "width": 2
         },
         "mode": "lines",
         "showlegend": false,
         "type": "scatter3d",
         "x": [
          54.378,
          55.618
         ],
         "y": [
          49.296,
          49.789
         ],
         "z": [
          19.855,
          19.072
         ]
        },
        {
         "line": {
          "color": "red",
          "width": 2
         },
         "mode": "lines",
         "showlegend": false,
         "type": "scatter3d",
         "x": [
          54.378,
          53.125
         ],
         "y": [
          49.296,
          50.072
         ],
         "z": [
          19.855,
          19.761
         ]
        },
        {
         "line": {
          "color": "red",
          "width": 2
         },
         "mode": "lines",
         "showlegend": false,
         "type": "scatter3d",
         "x": [
          54.378,
          54.436
         ],
         "y": [
          49.296,
          48.242
         ],
         "z": [
          19.855,
          20.545
         ]
        },
        {
         "line": {
          "color": "red",
          "width": 2
         },
         "mode": "lines",
         "showlegend": false,
         "type": "scatter3d",
         "x": [
          55.618,
          55.285
         ],
         "y": [
          49.789,
          50.079
         ],
         "z": [
          19.072,
          17.579
         ]
        },
        {
         "line": {
          "color": "red",
          "width": 2
         },
         "mode": "lines",
         "showlegend": false,
         "type": "scatter3d",
         "x": [
          55.285,
          55.721
         ],
         "y": [
          50.079,
          51.48
         ],
         "z": [
          17.579,
          17.084
         ]
        },
        {
         "line": {
          "color": "red",
          "width": 2
         },
         "mode": "lines",
         "showlegend": false,
         "type": "scatter3d",
         "x": [
          55.721,
          55.484
         ],
         "y": [
          51.48,
          51.746
         ],
         "z": [
          17.084,
          15.572
         ]
        },
        {
         "line": {
          "color": "red",
          "width": 2
         },
         "mode": "lines",
         "showlegend": false,
         "type": "scatter3d",
         "x": [
          55.484,
          56.675
         ],
         "y": [
          51.746,
          51.303
         ],
         "z": [
          15.572,
          14.715
         ]
        },
        {
         "line": {
          "color": "red",
          "width": 2
         },
         "mode": "lines",
         "showlegend": false,
         "type": "scatter3d",
         "x": [
          56.675,
          56.289
         ],
         "y": [
          51.303,
          50.836
         ],
         "z": [
          14.715,
          13.325
         ]
        },
        {
         "line": {
          "color": "red",
          "width": 2
         },
         "mode": "lines",
         "showlegend": false,
         "type": "scatter3d",
         "x": [
          56.289,
          55.649
         ],
         "y": [
          50.836,
          49.407
         ],
         "z": [
          13.325,
          13.279
         ]
        },
        {
         "line": {
          "color": "red",
          "width": 2
         },
         "mode": "lines",
         "showlegend": false,
         "type": "scatter3d",
         "x": [
          55.649,
          54.665
         ],
         "y": [
          49.407,
          49.197
         ],
         "z": [
          13.279,
          12.075
         ]
        },
        {
         "line": {
          "color": "red",
          "width": 2
         },
         "mode": "lines",
         "showlegend": false,
         "type": "scatter3d",
         "x": [
          54.665,
          54.223
         ],
         "y": [
          49.197,
          47.965
         ],
         "z": [
          12.075,
          11.681
         ]
        },
        {
         "line": {
          "color": "red",
          "width": 2
         },
         "mode": "lines",
         "showlegend": false,
         "type": "scatter3d",
         "x": [
          54.223,
          54.669
         ],
         "y": [
          47.965,
          46.707
         ],
         "z": [
          11.681,
          12.387
         ]
        },
        {
         "line": {
          "color": "red",
          "width": 2
         },
         "mode": "lines",
         "showlegend": false,
         "type": "scatter3d",
         "x": [
          54.669,
          53.888
         ],
         "y": [
          46.707,
          46.625
         ],
         "z": [
          12.387,
          13.712
         ]
        },
        {
         "line": {
          "color": "red",
          "width": 2
         },
         "mode": "lines",
         "showlegend": false,
         "type": "scatter3d",
         "x": [
          53.888,
          53.719
         ],
         "y": [
          46.625,
          45.49
         ],
         "z": [
          13.712,
          14.41
         ]
        },
        {
         "line": {
          "color": "red",
          "width": 2
         },
         "mode": "lines",
         "showlegend": false,
         "type": "scatter3d",
         "x": [
          53.719,
          54.275
         ],
         "y": [
          45.49,
          44.139
         ],
         "z": [
          14.41,
          13.958
         ]
        },
        {
         "line": {
          "color": "red",
          "width": 2
         },
         "mode": "lines",
         "showlegend": false,
         "type": "scatter3d",
         "x": [
          54.275,
          53.886
         ],
         "y": [
          44.139,
          43.033
         ],
         "z": [
          13.958,
          14.92
         ]
        },
        {
         "line": {
          "color": "red",
          "width": 2
         },
         "mode": "lines",
         "showlegend": false,
         "type": "scatter3d",
         "x": [
          53.886,
          54.844
         ],
         "y": [
          43.033,
          42.998
         ],
         "z": [
          14.92,
          16.082
         ]
        },
        {
         "line": {
          "color": "red",
          "width": 2
         },
         "mode": "lines",
         "showlegend": false,
         "type": "scatter3d",
         "x": [
          54.844,
          54.823
         ],
         "y": [
          42.998,
          41.663
         ],
         "z": [
          16.082,
          16.782
         ]
        },
        {
         "line": {
          "color": "red",
          "width": 2
         },
         "mode": "lines",
         "showlegend": false,
         "type": "scatter3d",
         "x": [
          54.823,
          54.18
         ],
         "y": [
          41.663,
          41.683
         ],
         "z": [
          16.782,
          18.179
         ]
        },
        {
         "line": {
          "color": "red",
          "width": 2
         },
         "mode": "lines",
         "showlegend": false,
         "type": "scatter3d",
         "x": [
          50.65,
          51.097
         ],
         "y": [
          50.248,
          49.697
         ],
         "z": [
          16.802,
          15.45
         ]
        },
        {
         "line": {
          "color": "red",
          "width": 2
         },
         "mode": "lines",
         "showlegend": false,
         "type": "scatter3d",
         "x": [
          50.65,
          51.076
         ],
         "y": [
          50.248,
          49.603
         ],
         "z": [
          16.802,
          18.067
         ]
        },
        {
         "line": {
          "color": "red",
          "width": 2
         },
         "mode": "lines",
         "showlegend": false,
         "type": "scatter3d",
         "x": [
          50.65,
          49.947
         ],
         "y": [
          50.248,
          51.303
         ],
         "z": [
          16.802,
          16.836
         ]
        },
        {
         "line": {
          "color": "red",
          "width": 2
         },
         "mode": "lines",
         "showlegend": false,
         "type": "scatter3d",
         "x": [
          51.097,
          50.09
         ],
         "y": [
          49.697,
          48.745
         ],
         "z": [
          15.45,
          14.792
         ]
        },
        {
         "line": {
          "color": "red",
          "width": 2
         },
         "mode": "lines",
         "showlegend": false,
         "type": "scatter3d",
         "x": [
          50.09,
          50.448
         ],
         "y": [
          48.745,
          47.303
         ],
         "z": [
          14.792,
          15.066
         ]
        },
        {
         "line": {
          "color": "red",
          "width": 2
         },
         "mode": "lines",
         "showlegend": false,
         "type": "scatter3d",
         "x": [
          50.448,
          49.586
         ],
         "y": [
          47.303,
          46.708
         ],
         "z": [
          15.066,
          16.17
         ]
        },
        {
         "line": {
          "color": "red",
          "width": 2
         },
         "mode": "lines",
         "showlegend": false,
         "type": "scatter3d",
         "x": [
          49.586,
          49.414
         ],
         "y": [
          46.708,
          45.19
         ],
         "z": [
          16.17,
          16.022
         ]
        },
        {
         "line": {
          "color": "red",
          "width": 2
         },
         "mode": "lines",
         "showlegend": false,
         "type": "scatter3d",
         "x": [
          49.414,
          49.978
         ],
         "y": [
          45.19,
          44.382
         ],
         "z": [
          16.022,
          17.184
         ]
        },
        {
         "line": {
          "color": "red",
          "width": 2
         },
         "mode": "lines",
         "showlegend": false,
         "type": "scatter3d",
         "x": [
          49.978,
          49.787
         ],
         "y": [
          44.382,
          45.069
         ],
         "z": [
          17.184,
          18.496
         ]
        },
        {
         "line": {
          "color": "red",
          "width": 2
         },
         "mode": "lines",
         "showlegend": false,
         "type": "scatter3d",
         "x": [
          49.787,
          51.095
         ],
         "y": [
          45.069,
          45.202
         ],
         "z": [
          18.496,
          19.251
         ]
        },
        {
         "line": {
          "color": "red",
          "width": 2
         },
         "mode": "lines",
         "showlegend": false,
         "type": "scatter3d",
         "x": [
          51.095,
          51.13
         ],
         "y": [
          45.202,
          45.626
         ],
         "z": [
          19.251,
          20.532
         ]
        },
        {
         "line": {
          "color": "red",
          "width": 2
         },
         "mode": "lines",
         "showlegend": false,
         "type": "scatter3d",
         "x": [
          51.13,
          49.843
         ],
         "y": [
          45.626,
          45.863
         ],
         "z": [
          20.532,
          21.265
         ]
        },
        {
         "line": {
          "color": "red",
          "width": 2
         },
         "mode": "lines",
         "showlegend": false,
         "type": "scatter3d",
         "x": [
          49.843,
          49.549
         ],
         "y": [
          45.863,
          44.624
         ],
         "z": [
          21.265,
          22.053
         ]
        },
        {
         "line": {
          "color": "red",
          "width": 2
         },
         "mode": "lines",
         "showlegend": false,
         "type": "scatter3d",
         "x": [
          49.549,
          49.189
         ],
         "y": [
          44.624,
          44.694
         ],
         "z": [
          22.053,
          23.327
         ]
        },
        {
         "line": {
          "color": "red",
          "width": 2
         },
         "mode": "lines",
         "showlegend": false,
         "type": "scatter3d",
         "x": [
          49.189,
          49.074
         ],
         "y": [
          44.694,
          46.039
         ],
         "z": [
          23.327,
          24.004
         ]
        },
        {
         "line": {
          "color": "red",
          "width": 2
         },
         "mode": "lines",
         "showlegend": false,
         "type": "scatter3d",
         "x": [
          49.074,
          47.789
         ],
         "y": [
          46.039,
          46.744
         ],
         "z": [
          24.004,
          23.668
         ]
        },
        {
         "line": {
          "color": "red",
          "width": 2
         },
         "mode": "lines",
         "showlegend": false,
         "type": "scatter3d",
         "x": [
          47.789,
          46.978
         ],
         "y": [
          46.744,
          46.989
         ],
         "z": [
          23.668,
          24.92
         ]
        },
        {
         "line": {
          "color": "red",
          "width": 2
         },
         "mode": "lines",
         "showlegend": false,
         "type": "scatter3d",
         "x": [
          46.978,
          46.783
         ],
         "y": [
          46.989,
          45.728
         ],
         "z": [
          24.92,
          25.729
         ]
        },
        {
         "line": {
          "color": "red",
          "width": 2
         },
         "mode": "lines",
         "showlegend": false,
         "type": "scatter3d",
         "x": [
          46.783,
          45.31
         ],
         "y": [
          45.728,
          45.386
         ],
         "z": [
          25.729,
          25.923
         ]
        },
        {
         "line": {
          "color": "red",
          "width": 2
         },
         "mode": "lines",
         "showlegend": false,
         "type": "scatter3d",
         "x": [
          46.234,
          47.174
         ],
         "y": [
          49.831,
          51.04
         ],
         "z": [
          20.358,
          20.4
         ]
        },
        {
         "line": {
          "color": "red",
          "width": 2
         },
         "mode": "lines",
         "showlegend": false,
         "type": "scatter3d",
         "x": [
          47.613,
          47.174
         ],
         "y": [
          51.318,
          51.04
         ],
         "z": [
          21.844,
          20.4
         ]
        },
        {
         "line": {
          "color": "red",
          "width": 2
         },
         "mode": "lines",
         "showlegend": false,
         "type": "scatter3d",
         "x": [
          48.444,
          47.174
         ],
         "y": [
          50.766,
          51.04
         ],
         "z": [
          19.453,
          20.4
         ]
        },
        {
         "line": {
          "color": "red",
          "width": 2
         },
         "mode": "lines",
         "showlegend": false,
         "type": "scatter3d",
         "x": [
          46.391,
          47.174
         ],
         "y": [
          52.233,
          51.04
         ],
         "z": [
          19.823,
          20.4
         ]
        },
        {
         "line": {
          "color": "blue",
          "width": 2
         },
         "mode": "lines",
         "showlegend": false,
         "type": "scatter3d",
         "x": [
          49.124358416023064,
          50.156192038962274
         ],
         "y": [
          51.495329760004985,
          51.254247908870894
         ],
         "z": [
          19.5379900283683,
          20.56204076716297
         ]
        },
        {
         "line": {
          "color": "blue",
          "width": 2
         },
         "mode": "lines",
         "showlegend": false,
         "type": "scatter3d",
         "x": [
          49.124358416023064,
          49.64690406391808
         ],
         "y": [
          51.495329760004985,
          51.38530471100043
         ],
         "z": [
          19.5379900283683,
          18.279301212791736
         ]
        },
        {
         "line": {
          "color": "blue",
          "width": 2
         },
         "mode": "lines",
         "showlegend": false,
         "type": "scatter3d",
         "x": [
          50.156192038962274,
          51.38907381545553
         ],
         "y": [
          51.254247908870894,
          52.18352538995728
         ],
         "z": [
          20.56204076716297,
          20.280731527470117
         ]
        },
        {
         "line": {
          "color": "blue",
          "width": 2
         },
         "mode": "lines",
         "showlegend": false,
         "type": "scatter3d",
         "x": [
          50.156192038962274,
          49.72525641597186
         ],
         "y": [
          51.254247908870894,
          51.402138729133526
         ],
         "z": [
          20.56204076716297,
          21.808288252263708
         ]
        },
        {
         "line": {
          "color": "blue",
          "width": 2
         },
         "mode": "lines",
         "showlegend": false,
         "type": "scatter3d",
         "x": [
          51.38907381545553,
          51.620658067264706
         ],
         "y": [
          52.18352538995728,
          52.06657460502939
         ],
         "z": [
          20.280731527470117,
          18.90547727889688
         ]
        },
        {
         "line": {
          "color": "blue",
          "width": 2
         },
         "mode": "lines",
         "showlegend": false,
         "type": "scatter3d",
         "x": [
          48.550701712804496,
          48.84439533478875
         ],
         "y": [
          52.28005498674434,
          52.06997275198975
         ],
         "z": [
          14.818118705400765,
          13.374169775886191
         ]
        },
        {
         "line": {
          "color": "blue",
          "width": 2
         },
         "mode": "lines",
         "showlegend": false,
         "type": "scatter3d",
         "x": [
          48.550701712804496,
          48.21240123549508
         ],
         "y": [
          52.28005498674434,
          51.15635442330438
         ],
         "z": [
          14.818118705400765,
          15.528773917706244
         ]
        },
        {
         "line": {
          "color": "blue",
          "width": 2
         },
         "mode": "lines",
         "showlegend": false,
         "type": "scatter3d",
         "x": [
          48.84439533478875,
          49.92845212409921
         ],
         "y": [
          52.06997275198975,
          51.197015886099365
         ],
         "z": [
          13.374169775886191,
          13.06843755997701
         ]
        },
        {
         "line": {
          "color": "blue",
          "width": 2
         },
         "mode": "lines",
         "showlegend": false,
         "type": "scatter3d",
         "x": [
          51.20787506028421,
          49.92845212409921
         ],
         "y": [
          51.914519725673344,
          51.197015886099365
         ],
         "z": [
          13.0331361356379,
          13.06843755997701
         ]
        },
        {
         "line": {
          "color": "blue",
          "width": 2
         },
         "mode": "lines",
         "showlegend": false,
         "type": "scatter3d",
         "x": [
          49.70454103390456,
          49.92845212409921
         ],
         "y": [
          50.61644024872465,
          51.197015886099365
         ],
         "z": [
          11.741855578727911,
          13.06843755997701
         ]
        },
        {
         "line": {
          "color": "blue",
          "width": 2
         },
         "mode": "lines",
         "showlegend": false,
         "type": "scatter3d",
         "x": [
          50.09257526505291,
          49.92845212409921
         ],
         "y": [
          50.13140770773875,
          51.197015886099365
         ],
         "z": [
          14.030975250051775,
          13.06843755997701
         ]
        },
        {
         "line": {
          "color": "blue",
          "width": 2
         },
         "mode": "lines",
         "showlegend": false,
         "type": "scatter3d",
         "x": [
          52.77821646840241,
          53.39390047900638
         ],
         "y": [
          52.67974987183395,
          52.31299202737263
         ],
         "z": [
          18.56558664923098,
          17.245330657912366
         ]
        },
        {
         "line": {
          "color": "blue",
          "width": 2
         },
         "mode": "lines",
         "showlegend": false,
         "type": "scatter3d",
         "x": [
          52.77821646840241,
          51.620658067264706
         ],
         "y": [
          52.67974987183395,
          52.06657460502939
         ],
         "z": [
          18.56558664923098,
          18.90547727889688
         ]
        },
        {
         "line": {
          "color": "blue",
          "width": 2
         },
         "mode": "lines",
         "showlegend": false,
         "type": "scatter3d",
         "x": [
          52.77821646840241,
          52.23469786572341
         ],
         "y": [
          52.67974987183395,
          54.039665064087764
         ],
         "z": [
          18.56558664923098,
          18.192916287625522
         ]
        },
        {
         "line": {
          "color": "blue",
          "width": 2
         },
         "mode": "lines",
         "showlegend": false,
         "type": "scatter3d",
         "x": [
          53.39390047900638,
          54.683206368880846
         ],
         "y": [
          52.31299202737263,
          53.04421212655075
         ],
         "z": [
          17.245330657912366,
          17.173598594698216
         ]
        },
        {
         "line": {
          "color": "blue",
          "width": 2
         },
         "mode": "lines",
         "showlegend": false,
         "type": "scatter3d",
         "x": [
          54.683206368880846,
          55.50418143475181
         ],
         "y": [
          53.04421212655075,
          53.12452141838752
         ],
         "z": [
          17.173598594698216,
          15.991933938857628
         ]
        },
        {
         "line": {
          "color": "blue",
          "width": 2
         },
         "mode": "lines",
         "showlegend": false,
         "type": "scatter3d",
         "x": [
          55.50418143475181,
          55.98632632385245
         ],
         "y": [
          53.12452141838752,
          52.015962690798744
         ],
         "z": [
          15.991933938857628,
          15.176898446746476
         ]
        },
        {
         "line": {
          "color": "blue",
          "width": 2
         },
         "mode": "lines",
         "showlegend": false,
         "type": "scatter3d",
         "x": [
          55.98632632385245,
          54.89265437900768
         ],
         "y": [
          52.015962690798744,
          51.315359913719625
         ],
         "z": [
          15.176898446746476,
          14.379702469706656
         ]
        },
        {
         "line": {
          "color": "blue",
          "width": 2
         },
         "mode": "lines",
         "showlegend": false,
         "type": "scatter3d",
         "x": [
          54.89265437900768,
          55.538126087437526
         ],
         "y": [
          51.315359913719625,
          50.27485191585508
         ],
         "z": [
          14.379702469706656,
          13.4750597888671
         ]
        },
        {
         "line": {
          "color": "blue",
          "width": 2
         },
         "mode": "lines",
         "showlegend": false,
         "type": "scatter3d",
         "x": [
          55.538126087437526,
          56.142828171895786
         ],
         "y": [
          50.27485191585508,
          49.10190617376362
         ],
         "z": [
          13.4750597888671,
          14.145589188044616
         ]
        },
        {
         "line": {
          "color": "blue",
          "width": 2
         },
         "mode": "lines",
         "showlegend": false,
         "type": "scatter3d",
         "x": [
          56.142828171895786,
          55.083206557618226
         ],
         "y": [
          49.10190617376362,
          48.1656531890123
         ],
         "z": [
          14.145589188044616,
          14.725840326001343
         ]
        },
        {
         "line": {
          "color": "blue",
          "width": 2
         },
         "mode": "lines",
         "showlegend": false,
         "type": "scatter3d",
         "x": [
          55.083206557618226,
          55.64471791410503
         ],
         "y": [
          48.1656531890123,
          46.986853428449216
         ],
         "z": [
          14.725840326001343,
          15.440065165273095
         ]
        },
        {
         "line": {
          "color": "blue",
          "width": 2
         },
         "mode": "lines",
         "showlegend": false,
         "type": "scatter3d",
         "x": [
          55.64471791410503,
          54.63822748935881
         ],
         "y": [
          46.986853428449216,
          45.965015610029916
         ],
         "z": [
          15.440065165273095,
          15.845303980963624
         ]
        },
        {
         "line": {
          "color": "blue",
          "width": 2
         },
         "mode": "lines",
         "showlegend": false,
         "type": "scatter3d",
         "x": [
          54.63822748935881,
          53.4923660932171
         ],
         "y": [
          45.965015610029916,
          46.45587867463095
         ],
         "z": [
          15.845303980963624,
          16.6817512970826
         ]
        },
        {
         "line": {
          "color": "blue",
          "width": 2
         },
         "mode": "lines",
         "showlegend": false,
         "type": "scatter3d",
         "x": [
          53.4923660932171,
          52.57027182480246
         ],
         "y": [
          46.45587867463095,
          45.312958271166345
         ],
         "z": [
          16.6817512970826,
          17.050792096319164
         ]
        },
        {
         "line": {
          "color": "blue",
          "width": 2
         },
         "mode": "lines",
         "showlegend": false,
         "type": "scatter3d",
         "x": [
          52.57027182480246,
          51.984084906918135
         ],
         "y": [
          45.312958271166345,
          44.56457994159436
         ],
         "z": [
          17.050792096319164,
          15.916466405378365
         ]
        },
        {
         "line": {
          "color": "blue",
          "width": 2
         },
         "mode": "lines",
         "showlegend": false,
         "type": "scatter3d",
         "x": [
          51.984084906918135,
          51.11830818606816
         ],
         "y": [
          44.56457994159436,
          45.29759789567073
         ],
         "z": [
          15.916466405378365,
          14.961139577200713
         ]
        },
        {
         "line": {
          "color": "blue",
          "width": 2
         },
         "mode": "lines",
         "showlegend": false,
         "type": "scatter3d",
         "x": [
          51.11830818606816,
          49.90167041542492
         ],
         "y": [
          45.29759789567073,
          45.9132679548836
         ],
         "z": [
          14.961139577200713,
          15.598177969476293
         ]
        },
        {
         "line": {
          "color": "blue",
          "width": 2
         },
         "mode": "lines",
         "showlegend": false,
         "type": "scatter3d",
         "x": [
          49.90167041542492,
          49.045282840321
         ],
         "y": [
          45.9132679548836,
          46.610027267042504
         ],
         "z": [
          15.598177969476293,
          14.534356188289475
         ]
        },
        {
         "line": {
          "color": "blue",
          "width": 2
         },
         "mode": "lines",
         "showlegend": false,
         "type": "scatter3d",
         "x": [
          49.045282840321,
          48.58016773973217
         ],
         "y": [
          46.610027267042504,
          45.60542480949548
         ],
         "z": [
          14.534356188289475,
          13.498192665724272
         ]
        },
        {
         "line": {
          "color": "blue",
          "width": 2
         },
         "mode": "lines",
         "showlegend": false,
         "type": "scatter3d",
         "x": [
          50.07695832318247,
          49.08411768079589
         ],
         "y": [
          50.7089425396128,
          49.77968745078363
         ],
         "z": [
          22.880923703523063,
          23.531005574298216
         ]
        },
        {
         "line": {
          "color": "blue",
          "width": 2
         },
         "mode": "lines",
         "showlegend": false,
         "type": "scatter3d",
         "x": [
          50.07695832318247,
          49.72525641597186
         ],
         "y": [
          50.7089425396128,
          51.402138729133526
         ],
         "z": [
          22.880923703523063,
          21.808288252263708
         ]
        },
        {
         "line": {
          "color": "blue",
          "width": 2
         },
         "mode": "lines",
         "showlegend": false,
         "type": "scatter3d",
         "x": [
          50.07695832318247,
          50.6115954956918
         ],
         "y": [
          50.7089425396128,
          51.54425495837648
         ],
         "z": [
          22.880923703523063,
          23.850825892834127
         ]
        },
        {
         "line": {
          "color": "blue",
          "width": 2
         },
         "mode": "lines",
         "showlegend": false,
         "type": "scatter3d",
         "x": [
          49.08411768079589,
          48.65388393139839
         ],
         "y": [
          49.77968745078363,
          48.617982750873665
         ],
         "z": [
          23.531005574298216,
          22.64391645189481
         ]
        },
        {
         "line": {
          "color": "blue",
          "width": 2
         },
         "mode": "lines",
         "showlegend": false,
         "type": "scatter3d",
         "x": [
          48.65388393139839,
          49.8307140960598
         ],
         "y": [
          48.617982750873665,
          47.786863780319436
         ],
         "z": [
          22.64391645189481,
          22.27309436473186
         ]
        },
        {
         "line": {
          "color": "blue",
          "width": 2
         },
         "mode": "lines",
         "showlegend": false,
         "type": "scatter3d",
         "x": [
          49.8307140960598,
          49.475953143411424
         ],
         "y": [
          47.786863780319436,
          46.591815841500015
         ],
         "z": [
          22.27309436473186,
          21.45758097403894
         ]
        },
        {
         "line": {
          "color": "blue",
          "width": 2
         },
         "mode": "lines",
         "showlegend": false,
         "type": "scatter3d",
         "x": [
          49.475953143411424,
          48.787892327593454
         ],
         "y": [
          46.591815841500015,
          46.832249334897305
         ],
         "z": [
          21.45758097403894,
          20.166957849734764
         ]
        },
        {
         "line": {
          "color": "blue",
          "width": 2
         },
         "mode": "lines",
         "showlegend": false,
         "type": "scatter3d",
         "x": [
          48.787892327593454,
          48.663943849355505
         ],
         "y": [
          46.832249334897305,
          45.47850272987186
         ],
         "z": [
          20.166957849734764,
          19.459028542441597
         ]
        },
        {
         "line": {
          "color": "blue",
          "width": 2
         },
         "mode": "lines",
         "showlegend": false,
         "type": "scatter3d",
         "x": [
          48.663943849355505,
          47.95156199256589
         ],
         "y": [
          45.47850272987186,
          44.452592191861314
         ],
         "z": [
          19.459028542441597,
          20.259890364553193
         ]
        },
        {
         "line": {
          "color": "blue",
          "width": 2
         },
         "mode": "lines",
         "showlegend": false,
         "type": "scatter3d",
         "x": [
          47.95156199256589,
          47.83477354478211
         ],
         "y": [
          44.452592191861314,
          43.1492712421391
         ],
         "z": [
          20.259890364553193,
          19.46084032827296
         ]
        },
        {
         "line": {
          "color": "blue",
          "width": 2
         },
         "mode": "lines",
         "showlegend": false,
         "type": "scatter3d",
         "x": [
          47.83477354478211,
          47.1348274734378
         ],
         "y": [
          43.1492712421391,
          42.10240016775697
         ],
         "z": [
          19.46084032827296,
          20.218343101094074
         ]
        },
        {
         "line": {
          "color": "blue",
          "width": 2
         },
         "mode": "lines",
         "showlegend": false,
         "type": "scatter3d",
         "x": [
          47.1348274734378,
          47.70866061766452
         ],
         "y": [
          42.10240016775697,
          41.55670257401449
         ],
         "z": [
          20.218343101094074,
          21.462631917555324
         ]
        },
        {
         "line": {
          "color": "blue",
          "width": 2
         },
         "mode": "lines",
         "showlegend": false,
         "type": "scatter3d",
         "x": [
          47.70866061766452,
          48.93166203600576
         ],
         "y": [
          41.55670257401449,
          40.74662757587924
         ],
         "z": [
          21.462631917555324,
          21.42855805467643
         ]
        },
        {
         "line": {
          "color": "blue",
          "width": 2
         },
         "mode": "lines",
         "showlegend": false,
         "type": "scatter3d",
         "x": [
          48.93166203600576,
          50.242376458539304
         ],
         "y": [
          40.74662757587924,
          41.15678626887328
         ],
         "z": [
          21.42855805467643,
          20.98315200496001
         ]
        },
        {
         "line": {
          "color": "blue",
          "width": 2
         },
         "mode": "lines",
         "showlegend": false,
         "type": "scatter3d",
         "x": [
          50.242376458539304,
          50.973685596620726
         ],
         "y": [
          41.15678626887328,
          42.251176125642225
         ],
         "z": [
          20.98315200496001,
          21.741042357161348
         ]
        },
        {
         "line": {
          "color": "blue",
          "width": 2
         },
         "mode": "lines",
         "showlegend": false,
         "type": "scatter3d",
         "x": [
          50.973685596620726,
          52.34190242149795
         ],
         "y": [
          42.251176125642225,
          42.318779327431386
         ],
         "z": [
          21.741042357161348,
          21.042983959009206
         ]
        },
        {
         "line": {
          "color": "blue",
          "width": 2
         },
         "mode": "lines",
         "showlegend": false,
         "type": "scatter3d",
         "x": [
          52.34190242149795,
          53.333247906538105
         ],
         "y": [
          42.318779327431386,
          43.212353706869095
         ],
         "z": [
          21.042983959009206,
          21.65112371079577
         ]
        },
        {
         "line": {
          "color": "blue",
          "width": 2
         },
         "mode": "lines",
         "showlegend": false,
         "type": "scatter3d",
         "x": [
          53.333247906538105,
          53.07765882095456
         ],
         "y": [
          43.212353706869095,
          44.663200053859896
         ],
         "z": [
          21.65112371079577,
          21.737842202215035
         ]
        },
        {
         "line": {
          "color": "blue",
          "width": 2
         },
         "mode": "lines",
         "showlegend": false,
         "type": "scatter3d",
         "x": [
          53.07765882095456,
          52.92377230148058
         ],
         "y": [
          44.663200053859896,
          45.33122924739581
         ],
         "z": [
          21.737842202215035,
          20.388620969166897
         ]
        },
        {
         "line": {
          "color": "blue",
          "width": 2
         },
         "mode": "lines",
         "showlegend": false,
         "type": "scatter3d",
         "x": [
          46.82837071399496,
          48.3695925429374
         ],
         "y": [
          51.64721653185606,
          51.42094911414908
         ],
         "z": [
          17.786474718508757,
          17.15901609064908
         ]
        },
        {
         "line": {
          "color": "blue",
          "width": 2
         },
         "mode": "lines",
         "showlegend": false,
         "type": "scatter3d",
         "x": [
          49.26102259494371,
          48.3695925429374
         ],
         "y": [
          52.848051407421366,
          51.42094911414908
         ],
         "z": [
          17.251149184144314,
          17.15901609064908
         ]
        },
        {
         "line": {
          "color": "blue",
          "width": 2
         },
         "mode": "lines",
         "showlegend": false,
         "type": "scatter3d",
         "x": [
          49.64690406391808,
          48.3695925429374
         ],
         "y": [
          51.38530471100043,
          51.42094911414908
         ],
         "z": [
          18.279301212791736,
          17.15901609064908
         ]
        },
        {
         "line": {
          "color": "blue",
          "width": 2
         },
         "mode": "lines",
         "showlegend": false,
         "type": "scatter3d",
         "x": [
          48.21240123549508,
          48.3695925429374
         ],
         "y": [
          51.15635442330438,
          51.42094911414908
         ],
         "z": [
          15.528773917706244,
          17.15901609064908
         ]
        },
        {
         "line": {
          "color": "green",
          "dash": "longdash",
          "width": 3
         },
         "mode": "lines",
         "showlegend": false,
         "type": "scatter3d",
         "x": [
          49.37,
          49.124358416023064
         ],
         "y": [
          49.704,
          51.495329760004985
         ],
         "z": [
          19.914,
          19.5379900283683
         ]
        },
        {
         "line": {
          "color": "green",
          "dash": "longdash",
          "width": 3
         },
         "mode": "lines",
         "showlegend": false,
         "type": "scatter3d",
         "x": [
          50.801,
          50.156192038962274
         ],
         "y": [
          50.05,
          51.254247908870894
         ],
         "z": [
          19.475,
          20.56204076716297
         ]
        },
        {
         "line": {
          "color": "green",
          "dash": "longdash",
          "width": 3
         },
         "mode": "lines",
         "showlegend": false,
         "type": "scatter3d",
         "x": [
          51.897,
          51.38907381545553
         ],
         "y": [
          49.65,
          52.18352538995728
         ],
         "z": [
          20.467,
          20.280731527470117
         ]
        },
        {
         "line": {
          "color": "green",
          "dash": "longdash",
          "width": 3
         },
         "mode": "lines",
         "showlegend": false,
         "type": "scatter3d",
         "x": [
          46.906,
          48.550701712804496
         ],
         "y": [
          52.377,
          52.28005498674434
         ],
         "z": [
          18.504,
          14.818118705400765
         ]
        },
        {
         "line": {
          "color": "green",
          "dash": "longdash",
          "width": 3
         },
         "mode": "lines",
         "showlegend": false,
         "type": "scatter3d",
         "x": [
          46.235,
          48.84439533478875
         ],
         "y": [
          53.471,
          52.06997275198975
         ],
         "z": [
          17.688,
          13.374169775886191
         ]
        },
        {
         "line": {
          "color": "green",
          "dash": "longdash",
          "width": 3
         },
         "mode": "lines",
         "showlegend": false,
         "type": "scatter3d",
         "x": [
          48.256,
          51.20787506028421
         ],
         "y": [
          54.033,
          51.914519725673344
         ],
         "z": [
          16.44,
          13.0331361356379
         ]
        },
        {
         "line": {
          "color": "green",
          "dash": "longdash",
          "width": 3
         },
         "mode": "lines",
         "showlegend": false,
         "type": "scatter3d",
         "x": [
          46.06,
          49.70454103390456
         ],
         "y": [
          54.69,
          50.61644024872465
         ],
         "z": [
          15.66,
          11.741855578727911
         ]
        },
        {
         "line": {
          "color": "green",
          "dash": "longdash",
          "width": 3
         },
         "mode": "lines",
         "showlegend": false,
         "type": "scatter3d",
         "x": [
          46.673,
          50.09257526505291
         ],
         "y": [
          52.443,
          50.13140770773875
         ],
         "z": [
          15.516,
          14.030975250051775
         ]
        },
        {
         "line": {
          "color": "green",
          "dash": "longdash",
          "width": 3
         },
         "mode": "lines",
         "showlegend": false,
         "type": "scatter3d",
         "x": [
          54.378,
          52.77821646840241
         ],
         "y": [
          49.296,
          52.67974987183395
         ],
         "z": [
          19.855,
          18.56558664923098
         ]
        },
        {
         "line": {
          "color": "green",
          "dash": "longdash",
          "width": 3
         },
         "mode": "lines",
         "showlegend": false,
         "type": "scatter3d",
         "x": [
          55.618,
          53.39390047900638
         ],
         "y": [
          49.789,
          52.31299202737263
         ],
         "z": [
          19.072,
          17.245330657912366
         ]
        },
        {
         "line": {
          "color": "green",
          "dash": "longdash",
          "width": 3
         },
         "mode": "lines",
         "showlegend": false,
         "type": "scatter3d",
         "x": [
          55.285,
          54.683206368880846
         ],
         "y": [
          50.079,
          53.04421212655075
         ],
         "z": [
          17.579,
          17.173598594698216
         ]
        },
        {
         "line": {
          "color": "green",
          "dash": "longdash",
          "width": 3
         },
         "mode": "lines",
         "showlegend": false,
         "type": "scatter3d",
         "x": [
          55.721,
          55.50418143475181
         ],
         "y": [
          51.48,
          53.12452141838752
         ],
         "z": [
          17.084,
          15.991933938857628
         ]
        },
        {
         "line": {
          "color": "green",
          "dash": "longdash",
          "width": 3
         },
         "mode": "lines",
         "showlegend": false,
         "type": "scatter3d",
         "x": [
          55.484,
          55.98632632385245
         ],
         "y": [
          51.746,
          52.015962690798744
         ],
         "z": [
          15.572,
          15.176898446746476
         ]
        },
        {
         "line": {
          "color": "green",
          "dash": "longdash",
          "width": 3
         },
         "mode": "lines",
         "showlegend": false,
         "type": "scatter3d",
         "x": [
          56.675,
          54.89265437900768
         ],
         "y": [
          51.303,
          51.315359913719625
         ],
         "z": [
          14.715,
          14.379702469706656
         ]
        },
        {
         "line": {
          "color": "green",
          "dash": "longdash",
          "width": 3
         },
         "mode": "lines",
         "showlegend": false,
         "type": "scatter3d",
         "x": [
          56.289,
          55.538126087437526
         ],
         "y": [
          50.836,
          50.27485191585508
         ],
         "z": [
          13.325,
          13.4750597888671
         ]
        },
        {
         "line": {
          "color": "green",
          "dash": "longdash",
          "width": 3
         },
         "mode": "lines",
         "showlegend": false,
         "type": "scatter3d",
         "x": [
          55.649,
          56.142828171895786
         ],
         "y": [
          49.407,
          49.10190617376362
         ],
         "z": [
          13.279,
          14.145589188044616
         ]
        },
        {
         "line": {
          "color": "green",
          "dash": "longdash",
          "width": 3
         },
         "mode": "lines",
         "showlegend": false,
         "type": "scatter3d",
         "x": [
          54.665,
          55.083206557618226
         ],
         "y": [
          49.197,
          48.1656531890123
         ],
         "z": [
          12.075,
          14.725840326001343
         ]
        },
        {
         "line": {
          "color": "green",
          "dash": "longdash",
          "width": 3
         },
         "mode": "lines",
         "showlegend": false,
         "type": "scatter3d",
         "x": [
          54.223,
          55.64471791410503
         ],
         "y": [
          47.965,
          46.986853428449216
         ],
         "z": [
          11.681,
          15.440065165273095
         ]
        },
        {
         "line": {
          "color": "green",
          "dash": "longdash",
          "width": 3
         },
         "mode": "lines",
         "showlegend": false,
         "type": "scatter3d",
         "x": [
          54.669,
          54.63822748935881
         ],
         "y": [
          46.707,
          45.965015610029916
         ],
         "z": [
          12.387,
          15.845303980963624
         ]
        },
        {
         "line": {
          "color": "green",
          "dash": "longdash",
          "width": 3
         },
         "mode": "lines",
         "showlegend": false,
         "type": "scatter3d",
         "x": [
          53.888,
          53.4923660932171
         ],
         "y": [
          46.625,
          46.45587867463095
         ],
         "z": [
          13.712,
          16.6817512970826
         ]
        },
        {
         "line": {
          "color": "green",
          "dash": "longdash",
          "width": 3
         },
         "mode": "lines",
         "showlegend": false,
         "type": "scatter3d",
         "x": [
          53.719,
          52.57027182480246
         ],
         "y": [
          45.49,
          45.312958271166345
         ],
         "z": [
          14.41,
          17.050792096319164
         ]
        },
        {
         "line": {
          "color": "green",
          "dash": "longdash",
          "width": 3
         },
         "mode": "lines",
         "showlegend": false,
         "type": "scatter3d",
         "x": [
          54.275,
          51.984084906918135
         ],
         "y": [
          44.139,
          44.56457994159436
         ],
         "z": [
          13.958,
          15.916466405378365
         ]
        },
        {
         "line": {
          "color": "green",
          "dash": "longdash",
          "width": 3
         },
         "mode": "lines",
         "showlegend": false,
         "type": "scatter3d",
         "x": [
          53.886,
          51.11830818606816
         ],
         "y": [
          43.033,
          45.29759789567073
         ],
         "z": [
          14.92,
          14.961139577200713
         ]
        },
        {
         "line": {
          "color": "green",
          "dash": "longdash",
          "width": 3
         },
         "mode": "lines",
         "showlegend": false,
         "type": "scatter3d",
         "x": [
          54.844,
          49.90167041542492
         ],
         "y": [
          42.998,
          45.9132679548836
         ],
         "z": [
          16.082,
          15.598177969476293
         ]
        },
        {
         "line": {
          "color": "green",
          "dash": "longdash",
          "width": 3
         },
         "mode": "lines",
         "showlegend": false,
         "type": "scatter3d",
         "x": [
          54.823,
          49.045282840321
         ],
         "y": [
          41.663,
          46.610027267042504
         ],
         "z": [
          16.782,
          14.534356188289475
         ]
        },
        {
         "line": {
          "color": "green",
          "dash": "longdash",
          "width": 3
         },
         "mode": "lines",
         "showlegend": false,
         "type": "scatter3d",
         "x": [
          54.18,
          48.58016773973217
         ],
         "y": [
          41.683,
          45.60542480949548
         ],
         "z": [
          18.179,
          13.498192665724272
         ]
        },
        {
         "line": {
          "color": "green",
          "dash": "longdash",
          "width": 3
         },
         "mode": "lines",
         "showlegend": false,
         "type": "scatter3d",
         "x": [
          50.65,
          50.07695832318247
         ],
         "y": [
          50.248,
          50.7089425396128
         ],
         "z": [
          16.802,
          22.880923703523063
         ]
        },
        {
         "line": {
          "color": "green",
          "dash": "longdash",
          "width": 3
         },
         "mode": "lines",
         "showlegend": false,
         "type": "scatter3d",
         "x": [
          51.097,
          49.08411768079589
         ],
         "y": [
          49.697,
          49.77968745078363
         ],
         "z": [
          15.45,
          23.531005574298216
         ]
        },
        {
         "line": {
          "color": "green",
          "dash": "longdash",
          "width": 3
         },
         "mode": "lines",
         "showlegend": false,
         "type": "scatter3d",
         "x": [
          50.09,
          48.65388393139839
         ],
         "y": [
          48.745,
          48.617982750873665
         ],
         "z": [
          14.792,
          22.64391645189481
         ]
        },
        {
         "line": {
          "color": "green",
          "dash": "longdash",
          "width": 3
         },
         "mode": "lines",
         "showlegend": false,
         "type": "scatter3d",
         "x": [
          50.448,
          49.8307140960598
         ],
         "y": [
          47.303,
          47.786863780319436
         ],
         "z": [
          15.066,
          22.27309436473186
         ]
        },
        {
         "line": {
          "color": "green",
          "dash": "longdash",
          "width": 3
         },
         "mode": "lines",
         "showlegend": false,
         "type": "scatter3d",
         "x": [
          49.586,
          49.475953143411424
         ],
         "y": [
          46.708,
          46.591815841500015
         ],
         "z": [
          16.17,
          21.45758097403894
         ]
        },
        {
         "line": {
          "color": "green",
          "dash": "longdash",
          "width": 3
         },
         "mode": "lines",
         "showlegend": false,
         "type": "scatter3d",
         "x": [
          49.414,
          48.787892327593454
         ],
         "y": [
          45.19,
          46.832249334897305
         ],
         "z": [
          16.022,
          20.166957849734764
         ]
        },
        {
         "line": {
          "color": "green",
          "dash": "longdash",
          "width": 3
         },
         "mode": "lines",
         "showlegend": false,
         "type": "scatter3d",
         "x": [
          49.978,
          48.663943849355505
         ],
         "y": [
          44.382,
          45.47850272987186
         ],
         "z": [
          17.184,
          19.459028542441597
         ]
        },
        {
         "line": {
          "color": "green",
          "dash": "longdash",
          "width": 3
         },
         "mode": "lines",
         "showlegend": false,
         "type": "scatter3d",
         "x": [
          49.787,
          47.95156199256589
         ],
         "y": [
          45.069,
          44.452592191861314
         ],
         "z": [
          18.496,
          20.259890364553193
         ]
        },
        {
         "line": {
          "color": "green",
          "dash": "longdash",
          "width": 3
         },
         "mode": "lines",
         "showlegend": false,
         "type": "scatter3d",
         "x": [
          51.095,
          47.83477354478211
         ],
         "y": [
          45.202,
          43.1492712421391
         ],
         "z": [
          19.251,
          19.46084032827296
         ]
        },
        {
         "line": {
          "color": "green",
          "dash": "longdash",
          "width": 3
         },
         "mode": "lines",
         "showlegend": false,
         "type": "scatter3d",
         "x": [
          51.13,
          47.1348274734378
         ],
         "y": [
          45.626,
          42.10240016775697
         ],
         "z": [
          20.532,
          20.218343101094074
         ]
        },
        {
         "line": {
          "color": "green",
          "dash": "longdash",
          "width": 3
         },
         "mode": "lines",
         "showlegend": false,
         "type": "scatter3d",
         "x": [
          49.843,
          47.70866061766452
         ],
         "y": [
          45.863,
          41.55670257401449
         ],
         "z": [
          21.265,
          21.462631917555324
         ]
        },
        {
         "line": {
          "color": "green",
          "dash": "longdash",
          "width": 3
         },
         "mode": "lines",
         "showlegend": false,
         "type": "scatter3d",
         "x": [
          49.549,
          48.93166203600576
         ],
         "y": [
          44.624,
          40.74662757587924
         ],
         "z": [
          22.053,
          21.42855805467643
         ]
        },
        {
         "line": {
          "color": "green",
          "dash": "longdash",
          "width": 3
         },
         "mode": "lines",
         "showlegend": false,
         "type": "scatter3d",
         "x": [
          49.189,
          50.242376458539304
         ],
         "y": [
          44.694,
          41.15678626887328
         ],
         "z": [
          23.327,
          20.98315200496001
         ]
        },
        {
         "line": {
          "color": "green",
          "dash": "longdash",
          "width": 3
         },
         "mode": "lines",
         "showlegend": false,
         "type": "scatter3d",
         "x": [
          49.074,
          50.973685596620726
         ],
         "y": [
          46.039,
          42.251176125642225
         ],
         "z": [
          24.004,
          21.741042357161348
         ]
        },
        {
         "line": {
          "color": "green",
          "dash": "longdash",
          "width": 3
         },
         "mode": "lines",
         "showlegend": false,
         "type": "scatter3d",
         "x": [
          47.789,
          52.34190242149795
         ],
         "y": [
          46.744,
          42.318779327431386
         ],
         "z": [
          23.668,
          21.042983959009206
         ]
        },
        {
         "line": {
          "color": "green",
          "dash": "longdash",
          "width": 3
         },
         "mode": "lines",
         "showlegend": false,
         "type": "scatter3d",
         "x": [
          46.978,
          53.333247906538105
         ],
         "y": [
          46.989,
          43.212353706869095
         ],
         "z": [
          24.92,
          21.65112371079577
         ]
        },
        {
         "line": {
          "color": "green",
          "dash": "longdash",
          "width": 3
         },
         "mode": "lines",
         "showlegend": false,
         "type": "scatter3d",
         "x": [
          46.783,
          53.07765882095456
         ],
         "y": [
          45.728,
          44.663200053859896
         ],
         "z": [
          25.729,
          21.737842202215035
         ]
        },
        {
         "line": {
          "color": "green",
          "dash": "longdash",
          "width": 3
         },
         "mode": "lines",
         "showlegend": false,
         "type": "scatter3d",
         "x": [
          45.31,
          52.92377230148058
         ],
         "y": [
          45.386,
          45.33122924739581
         ],
         "z": [
          25.923,
          20.388620969166897
         ]
        },
        {
         "line": {
          "color": "green",
          "dash": "longdash",
          "width": 3
         },
         "mode": "lines",
         "showlegend": false,
         "type": "scatter3d",
         "x": [
          46.815,
          49.92845212409921
         ],
         "y": [
          53.638,
          51.197015886099365
         ],
         "z": [
          16.331,
          13.06843755997701
         ]
        },
        {
         "line": {
          "color": "green",
          "dash": "longdash",
          "width": 3
         },
         "mode": "lines",
         "showlegend": false,
         "type": "scatter3d",
         "x": [
          51.076,
          49.72525641597186
         ],
         "y": [
          49.603,
          51.402138729133526
         ],
         "z": [
          18.067,
          21.808288252263708
         ]
        },
        {
         "line": {
          "color": "green",
          "dash": "longdash",
          "width": 3
         },
         "mode": "lines",
         "showlegend": false,
         "type": "scatter3d",
         "x": [
          53.125,
          51.620658067264706
         ],
         "y": [
          50.072,
          52.06657460502939
         ],
         "z": [
          19.761,
          18.90547727889688
         ]
        },
        {
         "line": {
          "color": "green",
          "dash": "longdash",
          "width": 3
         },
         "mode": "lines",
         "showlegend": false,
         "type": "scatter3d",
         "x": [
          54.436,
          52.23469786572341
         ],
         "y": [
          48.242,
          54.039665064087764
         ],
         "z": [
          20.545,
          18.192916287625522
         ]
        },
        {
         "line": {
          "color": "green",
          "dash": "longdash",
          "width": 3
         },
         "mode": "lines",
         "showlegend": false,
         "type": "scatter3d",
         "x": [
          49.947,
          50.6115954956918
         ],
         "y": [
          51.303,
          51.54425495837648
         ],
         "z": [
          16.836,
          23.850825892834127
         ]
        },
        {
         "line": {
          "color": "green",
          "dash": "longdash",
          "width": 3
         },
         "mode": "lines",
         "showlegend": false,
         "type": "scatter3d",
         "x": [
          46.234,
          46.82837071399496
         ],
         "y": [
          49.831,
          51.64721653185606
         ],
         "z": [
          20.358,
          17.786474718508757
         ]
        },
        {
         "line": {
          "color": "green",
          "dash": "longdash",
          "width": 3
         },
         "mode": "lines",
         "showlegend": false,
         "type": "scatter3d",
         "x": [
          47.613,
          49.26102259494371
         ],
         "y": [
          51.318,
          52.848051407421366
         ],
         "z": [
          21.844,
          17.251149184144314
         ]
        },
        {
         "line": {
          "color": "green",
          "dash": "longdash",
          "width": 3
         },
         "mode": "lines",
         "showlegend": false,
         "type": "scatter3d",
         "x": [
          48.444,
          49.64690406391808
         ],
         "y": [
          50.766,
          51.38530471100043
         ],
         "z": [
          19.453,
          18.279301212791736
         ]
        },
        {
         "line": {
          "color": "green",
          "dash": "longdash",
          "width": 3
         },
         "mode": "lines",
         "showlegend": false,
         "type": "scatter3d",
         "x": [
          46.391,
          48.21240123549508
         ],
         "y": [
          52.233,
          51.15635442330438
         ],
         "z": [
          19.823,
          15.528773917706244
         ]
        },
        {
         "line": {
          "color": "green",
          "dash": "longdash",
          "width": 3
         },
         "mode": "lines",
         "showlegend": false,
         "type": "scatter3d",
         "x": [
          47.174,
          48.3695925429374
         ],
         "y": [
          51.04,
          51.42094911414908
         ],
         "z": [
          20.4,
          17.15901609064908
         ]
        }
       ],
       "layout": {
        "scene": {
         "aspectmode": "data",
         "xaxis": {
          "title": {
           "text": "X"
          },
          "visible": false
         },
         "yaxis": {
          "title": {
           "text": "Y"
          },
          "visible": false
         },
         "zaxis": {
          "title": {
           "text": "Z"
          },
          "visible": false
         }
        },
        "showlegend": true,
        "template": {
         "data": {
          "bar": [
           {
            "error_x": {
             "color": "#2a3f5f"
            },
            "error_y": {
             "color": "#2a3f5f"
            },
            "marker": {
             "line": {
              "color": "#E5ECF6",
              "width": 0.5
             },
             "pattern": {
              "fillmode": "overlay",
              "size": 10,
              "solidity": 0.2
             }
            },
            "type": "bar"
           }
          ],
          "barpolar": [
           {
            "marker": {
             "line": {
              "color": "#E5ECF6",
              "width": 0.5
             },
             "pattern": {
              "fillmode": "overlay",
              "size": 10,
              "solidity": 0.2
             }
            },
            "type": "barpolar"
           }
          ],
          "carpet": [
           {
            "aaxis": {
             "endlinecolor": "#2a3f5f",
             "gridcolor": "white",
             "linecolor": "white",
             "minorgridcolor": "white",
             "startlinecolor": "#2a3f5f"
            },
            "baxis": {
             "endlinecolor": "#2a3f5f",
             "gridcolor": "white",
             "linecolor": "white",
             "minorgridcolor": "white",
             "startlinecolor": "#2a3f5f"
            },
            "type": "carpet"
           }
          ],
          "choropleth": [
           {
            "colorbar": {
             "outlinewidth": 0,
             "ticks": ""
            },
            "type": "choropleth"
           }
          ],
          "contour": [
           {
            "colorbar": {
             "outlinewidth": 0,
             "ticks": ""
            },
            "colorscale": [
             [
              0,
              "#0d0887"
             ],
             [
              0.1111111111111111,
              "#46039f"
             ],
             [
              0.2222222222222222,
              "#7201a8"
             ],
             [
              0.3333333333333333,
              "#9c179e"
             ],
             [
              0.4444444444444444,
              "#bd3786"
             ],
             [
              0.5555555555555556,
              "#d8576b"
             ],
             [
              0.6666666666666666,
              "#ed7953"
             ],
             [
              0.7777777777777778,
              "#fb9f3a"
             ],
             [
              0.8888888888888888,
              "#fdca26"
             ],
             [
              1,
              "#f0f921"
             ]
            ],
            "type": "contour"
           }
          ],
          "contourcarpet": [
           {
            "colorbar": {
             "outlinewidth": 0,
             "ticks": ""
            },
            "type": "contourcarpet"
           }
          ],
          "heatmap": [
           {
            "colorbar": {
             "outlinewidth": 0,
             "ticks": ""
            },
            "colorscale": [
             [
              0,
              "#0d0887"
             ],
             [
              0.1111111111111111,
              "#46039f"
             ],
             [
              0.2222222222222222,
              "#7201a8"
             ],
             [
              0.3333333333333333,
              "#9c179e"
             ],
             [
              0.4444444444444444,
              "#bd3786"
             ],
             [
              0.5555555555555556,
              "#d8576b"
             ],
             [
              0.6666666666666666,
              "#ed7953"
             ],
             [
              0.7777777777777778,
              "#fb9f3a"
             ],
             [
              0.8888888888888888,
              "#fdca26"
             ],
             [
              1,
              "#f0f921"
             ]
            ],
            "type": "heatmap"
           }
          ],
          "histogram": [
           {
            "marker": {
             "pattern": {
              "fillmode": "overlay",
              "size": 10,
              "solidity": 0.2
             }
            },
            "type": "histogram"
           }
          ],
          "histogram2d": [
           {
            "colorbar": {
             "outlinewidth": 0,
             "ticks": ""
            },
            "colorscale": [
             [
              0,
              "#0d0887"
             ],
             [
              0.1111111111111111,
              "#46039f"
             ],
             [
              0.2222222222222222,
              "#7201a8"
             ],
             [
              0.3333333333333333,
              "#9c179e"
             ],
             [
              0.4444444444444444,
              "#bd3786"
             ],
             [
              0.5555555555555556,
              "#d8576b"
             ],
             [
              0.6666666666666666,
              "#ed7953"
             ],
             [
              0.7777777777777778,
              "#fb9f3a"
             ],
             [
              0.8888888888888888,
              "#fdca26"
             ],
             [
              1,
              "#f0f921"
             ]
            ],
            "type": "histogram2d"
           }
          ],
          "histogram2dcontour": [
           {
            "colorbar": {
             "outlinewidth": 0,
             "ticks": ""
            },
            "colorscale": [
             [
              0,
              "#0d0887"
             ],
             [
              0.1111111111111111,
              "#46039f"
             ],
             [
              0.2222222222222222,
              "#7201a8"
             ],
             [
              0.3333333333333333,
              "#9c179e"
             ],
             [
              0.4444444444444444,
              "#bd3786"
             ],
             [
              0.5555555555555556,
              "#d8576b"
             ],
             [
              0.6666666666666666,
              "#ed7953"
             ],
             [
              0.7777777777777778,
              "#fb9f3a"
             ],
             [
              0.8888888888888888,
              "#fdca26"
             ],
             [
              1,
              "#f0f921"
             ]
            ],
            "type": "histogram2dcontour"
           }
          ],
          "mesh3d": [
           {
            "colorbar": {
             "outlinewidth": 0,
             "ticks": ""
            },
            "type": "mesh3d"
           }
          ],
          "parcoords": [
           {
            "line": {
             "colorbar": {
              "outlinewidth": 0,
              "ticks": ""
             }
            },
            "type": "parcoords"
           }
          ],
          "pie": [
           {
            "automargin": true,
            "type": "pie"
           }
          ],
          "scatter": [
           {
            "fillpattern": {
             "fillmode": "overlay",
             "size": 10,
             "solidity": 0.2
            },
            "type": "scatter"
           }
          ],
          "scatter3d": [
           {
            "line": {
             "colorbar": {
              "outlinewidth": 0,
              "ticks": ""
             }
            },
            "marker": {
             "colorbar": {
              "outlinewidth": 0,
              "ticks": ""
             }
            },
            "type": "scatter3d"
           }
          ],
          "scattercarpet": [
           {
            "marker": {
             "colorbar": {
              "outlinewidth": 0,
              "ticks": ""
             }
            },
            "type": "scattercarpet"
           }
          ],
          "scattergeo": [
           {
            "marker": {
             "colorbar": {
              "outlinewidth": 0,
              "ticks": ""
             }
            },
            "type": "scattergeo"
           }
          ],
          "scattergl": [
           {
            "marker": {
             "colorbar": {
              "outlinewidth": 0,
              "ticks": ""
             }
            },
            "type": "scattergl"
           }
          ],
          "scattermap": [
           {
            "marker": {
             "colorbar": {
              "outlinewidth": 0,
              "ticks": ""
             }
            },
            "type": "scattermap"
           }
          ],
          "scattermapbox": [
           {
            "marker": {
             "colorbar": {
              "outlinewidth": 0,
              "ticks": ""
             }
            },
            "type": "scattermapbox"
           }
          ],
          "scatterpolar": [
           {
            "marker": {
             "colorbar": {
              "outlinewidth": 0,
              "ticks": ""
             }
            },
            "type": "scatterpolar"
           }
          ],
          "scatterpolargl": [
           {
            "marker": {
             "colorbar": {
              "outlinewidth": 0,
              "ticks": ""
             }
            },
            "type": "scatterpolargl"
           }
          ],
          "scatterternary": [
           {
            "marker": {
             "colorbar": {
              "outlinewidth": 0,
              "ticks": ""
             }
            },
            "type": "scatterternary"
           }
          ],
          "surface": [
           {
            "colorbar": {
             "outlinewidth": 0,
             "ticks": ""
            },
            "colorscale": [
             [
              0,
              "#0d0887"
             ],
             [
              0.1111111111111111,
              "#46039f"
             ],
             [
              0.2222222222222222,
              "#7201a8"
             ],
             [
              0.3333333333333333,
              "#9c179e"
             ],
             [
              0.4444444444444444,
              "#bd3786"
             ],
             [
              0.5555555555555556,
              "#d8576b"
             ],
             [
              0.6666666666666666,
              "#ed7953"
             ],
             [
              0.7777777777777778,
              "#fb9f3a"
             ],
             [
              0.8888888888888888,
              "#fdca26"
             ],
             [
              1,
              "#f0f921"
             ]
            ],
            "type": "surface"
           }
          ],
          "table": [
           {
            "cells": {
             "fill": {
              "color": "#EBF0F8"
             },
             "line": {
              "color": "white"
             }
            },
            "header": {
             "fill": {
              "color": "#C8D4E3"
             },
             "line": {
              "color": "white"
             }
            },
            "type": "table"
           }
          ]
         },
         "layout": {
          "annotationdefaults": {
           "arrowcolor": "#2a3f5f",
           "arrowhead": 0,
           "arrowwidth": 1
          },
          "autotypenumbers": "strict",
          "coloraxis": {
           "colorbar": {
            "outlinewidth": 0,
            "ticks": ""
           }
          },
          "colorscale": {
           "diverging": [
            [
             0,
             "#8e0152"
            ],
            [
             0.1,
             "#c51b7d"
            ],
            [
             0.2,
             "#de77ae"
            ],
            [
             0.3,
             "#f1b6da"
            ],
            [
             0.4,
             "#fde0ef"
            ],
            [
             0.5,
             "#f7f7f7"
            ],
            [
             0.6,
             "#e6f5d0"
            ],
            [
             0.7,
             "#b8e186"
            ],
            [
             0.8,
             "#7fbc41"
            ],
            [
             0.9,
             "#4d9221"
            ],
            [
             1,
             "#276419"
            ]
           ],
           "sequential": [
            [
             0,
             "#0d0887"
            ],
            [
             0.1111111111111111,
             "#46039f"
            ],
            [
             0.2222222222222222,
             "#7201a8"
            ],
            [
             0.3333333333333333,
             "#9c179e"
            ],
            [
             0.4444444444444444,
             "#bd3786"
            ],
            [
             0.5555555555555556,
             "#d8576b"
            ],
            [
             0.6666666666666666,
             "#ed7953"
            ],
            [
             0.7777777777777778,
             "#fb9f3a"
            ],
            [
             0.8888888888888888,
             "#fdca26"
            ],
            [
             1,
             "#f0f921"
            ]
           ],
           "sequentialminus": [
            [
             0,
             "#0d0887"
            ],
            [
             0.1111111111111111,
             "#46039f"
            ],
            [
             0.2222222222222222,
             "#7201a8"
            ],
            [
             0.3333333333333333,
             "#9c179e"
            ],
            [
             0.4444444444444444,
             "#bd3786"
            ],
            [
             0.5555555555555556,
             "#d8576b"
            ],
            [
             0.6666666666666666,
             "#ed7953"
            ],
            [
             0.7777777777777778,
             "#fb9f3a"
            ],
            [
             0.8888888888888888,
             "#fdca26"
            ],
            [
             1,
             "#f0f921"
            ]
           ]
          },
          "colorway": [
           "#636efa",
           "#EF553B",
           "#00cc96",
           "#ab63fa",
           "#FFA15A",
           "#19d3f3",
           "#FF6692",
           "#B6E880",
           "#FF97FF",
           "#FECB52"
          ],
          "font": {
           "color": "#2a3f5f"
          },
          "geo": {
           "bgcolor": "white",
           "lakecolor": "white",
           "landcolor": "#E5ECF6",
           "showlakes": true,
           "showland": true,
           "subunitcolor": "white"
          },
          "hoverlabel": {
           "align": "left"
          },
          "hovermode": "closest",
          "mapbox": {
           "style": "light"
          },
          "paper_bgcolor": "white",
          "plot_bgcolor": "#E5ECF6",
          "polar": {
           "angularaxis": {
            "gridcolor": "white",
            "linecolor": "white",
            "ticks": ""
           },
           "bgcolor": "#E5ECF6",
           "radialaxis": {
            "gridcolor": "white",
            "linecolor": "white",
            "ticks": ""
           }
          },
          "scene": {
           "xaxis": {
            "backgroundcolor": "#E5ECF6",
            "gridcolor": "white",
            "gridwidth": 2,
            "linecolor": "white",
            "showbackground": true,
            "ticks": "",
            "zerolinecolor": "white"
           },
           "yaxis": {
            "backgroundcolor": "#E5ECF6",
            "gridcolor": "white",
            "gridwidth": 2,
            "linecolor": "white",
            "showbackground": true,
            "ticks": "",
            "zerolinecolor": "white"
           },
           "zaxis": {
            "backgroundcolor": "#E5ECF6",
            "gridcolor": "white",
            "gridwidth": 2,
            "linecolor": "white",
            "showbackground": true,
            "ticks": "",
            "zerolinecolor": "white"
           }
          },
          "shapedefaults": {
           "line": {
            "color": "#2a3f5f"
           }
          },
          "ternary": {
           "aaxis": {
            "gridcolor": "white",
            "linecolor": "white",
            "ticks": ""
           },
           "baxis": {
            "gridcolor": "white",
            "linecolor": "white",
            "ticks": ""
           },
           "bgcolor": "#E5ECF6",
           "caxis": {
            "gridcolor": "white",
            "linecolor": "white",
            "ticks": ""
           }
          },
          "title": {
           "x": 0.05
          },
          "xaxis": {
           "automargin": true,
           "gridcolor": "white",
           "linecolor": "white",
           "ticks": "",
           "title": {
            "standoff": 15
           },
           "zerolinecolor": "white",
           "zerolinewidth": 2
          },
          "yaxis": {
           "automargin": true,
           "gridcolor": "white",
           "linecolor": "white",
           "ticks": "",
           "title": {
            "standoff": 15
           },
           "zerolinecolor": "white",
           "zerolinewidth": 2
          }
         }
        },
        "title": {
         "text": "  Alignment"
        }
       }
      }
     },
     "metadata": {},
     "output_type": "display_data"
    }
   ],
   "source": [
    "df = pd.read_csv('./otmol_output/1ln1_DLP_result.csv')\n",
    "data_path = \"../Data/first_8_molecules_RDKIT\"\n",
    "ligand = '1ln1_DLP'\n",
    "i = 0\n",
    "path1 = os.path.join(data_path, 'extra_bio_ligands', ligand+'.pdb')\n",
    "path2 = os.path.join(data_path, 'extra_bio_ligands_RDKIT', ligand, ligand+'_conf'+str(i)+'.pdb')\n",
    "molA = MolFromPDBFile(path1, removeHs=True, sanitize=False)\n",
    "molB = MolFromPDBFile(path2, removeHs=True, sanitize=False)\n",
    "X_A, T_A, B_A = otm.tl.process_rdkit_mol(molA)\n",
    "X_B, T_B, B_B = otm.tl.process_rdkit_mol(molB, heavy_atoms_only=True)\n",
    "assignment = [int(x) for x in df['assignment'][i].strip('[]').split()]\n",
    "P = otm.tl.permutation_to_matrix(assignment)\n",
    "X_B_aligned, _, _ = otm.tl.kabsch(X_A, X_B, P) \n",
    "otm.pl.interactive_alignment_plot(X_A, X_B_aligned, T_A, T_B, B_A, B_B, assignment, '', '')"
   ]
  },
  {
   "cell_type": "code",
   "execution_count": 3,
   "metadata": {},
   "outputs": [
    {
     "name": "stdout",
     "output_type": "stream",
     "text": [
      "3.8400934103533766\n"
     ]
    },
    {
     "data": {
      "application/vnd.plotly.v1+json": {
       "config": {
        "plotlyServerURL": "https://plot.ly",
        "toImageButtonOptions": {
         "format": "png",
         "height": 500,
         "scale": 2,
         "width": 700
        }
       },
       "data": [
        {
         "marker": {
          "color": "red",
          "size": [
           15.2,
           15.2,
           15.2,
           15.2,
           15.2,
           15.2,
           15.2,
           15.2,
           15.2,
           15.2,
           15.2,
           15.2,
           15.2,
           15.2,
           15.2,
           15.2,
           15.2,
           15.2,
           15.2,
           15.2,
           15.2,
           15.2,
           15.2,
           15.2,
           15.2,
           15.2,
           15.2,
           15.2,
           15.2,
           15.2,
           15.2,
           15.2,
           15.2,
           15.2,
           15.2,
           15.2,
           15.2,
           15.2,
           15.2,
           15.2,
           15.2,
           15.2,
           15.2,
           15.2,
           14.2,
           13.200000000000001,
           13.200000000000001,
           13.200000000000001,
           13.200000000000001,
           13.200000000000001,
           13.200000000000001,
           13.200000000000001,
           13.200000000000001,
           21.400000000000002
          ],
          "symbol": "circle"
         },
         "mode": "markers+text",
         "name": "",
         "text": [
          "C",
          "C",
          "C",
          "C",
          "C",
          "C",
          "C",
          "C",
          "C",
          "C",
          "C",
          "C",
          "C",
          "C",
          "C",
          "C",
          "C",
          "C",
          "C",
          "C",
          "C",
          "C",
          "C",
          "C",
          "C",
          "C",
          "C",
          "C",
          "C",
          "C",
          "C",
          "C",
          "C",
          "C",
          "C",
          "C",
          "C",
          "C",
          "C",
          "C",
          "C",
          "C",
          "C",
          "C",
          "N",
          "O",
          "O",
          "O",
          "O",
          "O",
          "O",
          "O",
          "O",
          "P"
         ],
         "textposition": "top center",
         "type": "scatter3d",
         "x": {
          "bdata": "j8L1KFyvSEBKDAIrh2ZJQIlBYOXQ8klAhxbZzvdzR0CuR+F6FB5HQFTjpZvEIEhASOF6FK4HR0CgGi/dJFZHQKrx0k1iMEtAyXa+nxrPS0AUrkfheqRLQD81XrpJ3EtAy6FFtvO9S0BmZmZmZlZMQKJFtvP9JExAUI2XbhLTS0CF61G4HlVLQAaBlUOLHEtAEoPAyqFVS0CLbOf7qfFKQHnpJjEI3EpAMzMzMzMjS0DFILByaPFKQHnpJjEIbEtA001iEFhpS0DXo3A9ChdLQDMzMzMzU0lAI9v5fmqMSUDsUbgehQtJQNNNYhBYOUlAXrpJDALLSECiRbbz/bRIQHe+nxov/UhA2/l+arzkSEBcj8L1KIxJQHE9CtejkElAlkOLbOfrSECDwMqhRcZIQNV46SYxmEhAtvP91HiJSECiRbbz/eRHQHe+nxovfUdATmIQWDlkR0BI4XoUrqdGQLgehetRaEdAfT81XrqJSUAAAAAAAJBKQCuHFtnON0tA8KfGSzf5SEDLoUW28x1HQFg5tMh2zkdARrbz/dQ4SEA1XrpJDDJHQIPAyqFFlkdA",
          "dtype": "f8"
         },
         "y": {
          "bdata": "JzEIrBzaSEBmZmZmZgZJQDMzMzMz00hAx0s3iUEwSkA/NV66SbxKQE5iEFg5BEtAuB6F61FYS0BiEFg5tDhKQNnO91PjpUhAokW28/3kSEAnMQisHApJQD0K16NwvUlAc2iR7XzfSUAQWDm0yKZJQF66SQwCa0lAarx0kxi0SEDwp8ZLN5lIQOxRuB6F+0dA0SLb+X5aR0AAAAAAAFBHQB+F61G4vkZAbxKDwMoRRkBOYhBYOYRFQDm0yHa+f0VAvp8aL93URECBlUOLbNdEQDm0yHa+H0lA8KfGSzfZSECPwvUoXF9IQBBYObTIpkdAtMh2vp9aR0C4HoXrUZhGQDeJQWDlMEZARrbz/dSIRkBg5dAi25lGQOOlm8Qg0EZAWDm0yHbuRkAdWmQ7309GQEa28/3UWEZAokW28/0ER0CsHFpkO19HQDvfT42XfkdAd76fGi/dRkDFILByaLFGQIts5/up0UpAd76fGi/NSEDwp8ZLNwlJQOXQItv5HkhAEFg5tMimSUDufD81XupIQGIQWDm0qElANV66SQxiSUDn+6nx0h1KQIXrUbgehUlA",
          "dtype": "f8"
         },
         "z": {
          "bdata": "RIts5/vpM0CamZmZmXkzQGQ730+NdzRAGy/dJAaBMkDjpZvEILAxQHE9CtejcDBAUrgehetRL0DVeOkmMQgvQHsUrkfh2jNA30+Nl24SM0BOYhBYOZQxQC/dJAaBFTFAvp8aL90kL0CuR+F6FG4tQGZmZmZmpipAAiuHFtmOKkBmZmZmZiYoQOkmMQisXCdAoBov3STGKEAGgZVDi2wrQFK4HoXr0SxA0SLb+X7qK0DXo3A9CtctQKJFtvP9FDBA1XjpJjHIMEDn+6nx0i0yQFpkO99PzTBAZmZmZmbmLkAv3SQGgZUtQG8Sg8DKIS5A7FG4HoUrMEASg8DKoQUwQMl2vp8aLzFA5dAi2/l+MkDHSzeJQUAzQNV46SYxiDRApHA9CtdDNUAhsHJokQ02QMHKoUW2UzdAGy/dJAYBOEBeukkMAqs3QOxRuB6F6zhAtMh2vp+6OUA/NV66Sew5QNv5fmq8VDBA/tR46SYRMkCJQWDl0MIzQOxRuB6FizRAvHSTGATWMEDP91PjpVs0QPLSTWIQ2DVAhxbZzvdzM0Cmm8QgsNIzQGZmZmZmZjRA",
          "dtype": "f8"
         }
        },
        {
         "marker": {
          "color": "blue",
          "size": [
           15.2,
           15.2,
           15.2,
           15.2,
           15.2,
           15.2,
           15.2,
           15.2,
           15.2,
           15.2,
           15.2,
           15.2,
           15.2,
           15.2,
           15.2,
           15.2,
           15.2,
           15.2,
           15.2,
           15.2,
           15.2,
           15.2,
           15.2,
           15.2,
           15.2,
           15.2,
           15.2,
           15.2,
           15.2,
           15.2,
           15.2,
           15.2,
           15.2,
           15.2,
           15.2,
           15.2,
           15.2,
           15.2,
           15.2,
           15.2,
           15.2,
           15.2,
           15.2,
           15.2,
           14.2,
           13.200000000000001,
           13.200000000000001,
           13.200000000000001,
           13.200000000000001,
           13.200000000000001,
           13.200000000000001,
           13.200000000000001,
           13.200000000000001,
           21.400000000000002
          ],
          "symbol": "circle"
         },
         "mode": "markers+text",
         "name": "",
         "text": [
          "C",
          "C",
          "C",
          "C",
          "C",
          "C",
          "C",
          "C",
          "C",
          "C",
          "C",
          "C",
          "C",
          "C",
          "C",
          "C",
          "C",
          "C",
          "C",
          "C",
          "C",
          "C",
          "C",
          "C",
          "C",
          "C",
          "C",
          "C",
          "C",
          "C",
          "C",
          "C",
          "C",
          "C",
          "C",
          "C",
          "C",
          "C",
          "C",
          "C",
          "C",
          "C",
          "C",
          "C",
          "N",
          "O",
          "O",
          "O",
          "O",
          "O",
          "O",
          "O",
          "O",
          "P"
         ],
         "textposition": "top center",
         "type": "scatter3d",
         "x": {
          "bdata": "DF+20+/nSUCK8X38rEZKQHf2puOF3EhAaLiRuJHbSUDVsHFb9DFJQFuct5DSzUdAbQahHgr+R0Atugamw75HQPyIPILJ1klAfhZ2ObGoSkCI42E3/rJIQHHpTCH1xEdAjmYjiHKtSkCxXYeuFEpLQEpXXEGxrEpARoaDuZ6zSkANOUTXkmlLQOvOkPRyYUtAOx3OF+4IS0AWhNX0oJ5KQG3TgKqJNEpALQaktkDxSkB3H+8FE4JKQALy4gz5yklA0sC8Hkf3SkDnlEghJlVKQPZudW7QaUpAcTpuROFeSEDP1euzosdIQJncnizDtEpARNM5TQtGR0BZIlq6s1RIQLNzTT1OPUlA+A6whS1tSUASK6qD2vdKQHoR/Ors3ElAr6CYEnSQSECyFdn1Ak1JQEs4yqm+x0hANcailA0JSEAEo2jHX3JJQLVx0jddWEhASugDxGxLSEAhfLAgrc9HQI1G/zZmKkhAvUh2k9A3SkBpKIiywCdJQMfNLw4Ix0pAUeZzZtp5SkCgQYmRQepHQLIViANC8ElAJLUI6S7dSEAi2Z49bc5HQHd9FSw2WUhA",
          "dtype": "f8"
         },
         "y": {
          "bdata": "t6I244pmSUBeMCeD9bVJQDwykYJ8y0dA3IhQhpPTSUD3lVG9nfxJQCsEW/Zr60lAG3Glh7UjSkDYUNR5yAZJQH8b3LGoR0hAOf/Sfg6oRkDpbk9Uo35GQJLoozptUUdAn14s8c7OSUA++usV2QZKQC//lgvu/khAyz4juZZeSEDfOiSH8ehJQAa4yA7QRUlABGG9rl/HR0CIQe6Mv3dHQFyhCaJH60ZAtfjVy53hRkAPT/8qPINGQIdkXHkSe0ZAp0NdRZGpRUCcQ1Zc9UpFQGxW6gV0IkpArE3rtPbjSECehNEm6pRJQEjYLtQTIUpA6ROAH5PQRkAd6pGI8vRGQGbbAkq3G0ZA5XbrNq2vR0ASRReM+2VGQFRZ4y49cUVAnpbyJmgbR0CZoOpzhvBEQJYNhXvH5kRAWn7MHJAPRkANnYEfkdNIQDCjkL76ukZAQTeiZQlsRUAv4Ypxh6tFQHkx6h7BXUlAOgZejnD4SUDW0kJlqc1JQG/mw6fpHkpAYGXSp5LSSkBLeCtR7atJQM1mlX+lBEpAJEgBEZx9SkAJayaEVTBKQBN1oLcW4klA",
          "dtype": "f8"
         },
         "z": {
          "bdata": "mUukb6FxN0AArEXbY0k2QOcNB8vyHTVA88EMqCQRNEA5m9gq+oEzQNKqIMjC8StACIDSncyvLkCg7hzyJ+coQCz7VVHYaDZAilZUtiL6M0CUQ2W7tqUvQOWrqtWIADBAYlt1EHY1L0BvDSfuvMYtQOqplStDRSlA9aEdLiuLJ0B8QBJBovkqQIJoHwCMkClAyhSZTJy6KEAvRXZ3MPkqQGVg481xNDBA0HX2vAdGLEC6XE+u/jEuQFJ5Dx6kHzFA7HzqJ/xcNUBdzyMUHWI1QPgo4d9mJTNAAM8rHILlLECe027Q8oYpQBoT3GID9jBA7umUJlvnLkCbOn7KYMEwQF4Qwq+hezBALueDPBUNNkAJ9dKGHUI1QDSbq10tkDZArwe934jLNECfkGCxqmI2QPbVPj4AYjdAgfI5XVOUNUCoEfQPYAs3QORaZdrt/jVA9nndBdu8N0DuvyEzjL02QJJh6USO4SpA475ZysjXMUBuL6xrZzEyQORIuKZ3yDZAz5kzIDWTMEApSKLYqFUwQFa9zYm0UzVAMFNw9t8iMUCPd3rS0M8yQICxcSM1rzFA",
          "dtype": "f8"
         }
        },
        {
         "line": {
          "color": "red",
          "width": 2
         },
         "mode": "lines",
         "showlegend": false,
         "type": "scatter3d",
         "x": [
          49.37,
          50.801
         ],
         "y": [
          49.704,
          50.05
         ],
         "z": [
          19.914,
          19.475
         ]
        },
        {
         "line": {
          "color": "red",
          "width": 2
         },
         "mode": "lines",
         "showlegend": false,
         "type": "scatter3d",
         "x": [
          49.37,
          48.444
         ],
         "y": [
          49.704,
          50.766
         ],
         "z": [
          19.914,
          19.453
         ]
        },
        {
         "line": {
          "color": "red",
          "width": 2
         },
         "mode": "lines",
         "showlegend": false,
         "type": "scatter3d",
         "x": [
          50.801,
          51.897
         ],
         "y": [
          50.05,
          49.65
         ],
         "z": [
          19.475,
          20.467
         ]
        },
        {
         "line": {
          "color": "red",
          "width": 2
         },
         "mode": "lines",
         "showlegend": false,
         "type": "scatter3d",
         "x": [
          50.801,
          51.076
         ],
         "y": [
          50.05,
          49.603
         ],
         "z": [
          19.475,
          18.067
         ]
        },
        {
         "line": {
          "color": "red",
          "width": 2
         },
         "mode": "lines",
         "showlegend": false,
         "type": "scatter3d",
         "x": [
          51.897,
          53.125
         ],
         "y": [
          49.65,
          50.072
         ],
         "z": [
          20.467,
          19.761
         ]
        },
        {
         "line": {
          "color": "red",
          "width": 2
         },
         "mode": "lines",
         "showlegend": false,
         "type": "scatter3d",
         "x": [
          46.906,
          46.235
         ],
         "y": [
          52.377,
          53.471
         ],
         "z": [
          18.504,
          17.688
         ]
        },
        {
         "line": {
          "color": "red",
          "width": 2
         },
         "mode": "lines",
         "showlegend": false,
         "type": "scatter3d",
         "x": [
          46.906,
          46.391
         ],
         "y": [
          52.377,
          52.233
         ],
         "z": [
          18.504,
          19.823
         ]
        },
        {
         "line": {
          "color": "red",
          "width": 2
         },
         "mode": "lines",
         "showlegend": false,
         "type": "scatter3d",
         "x": [
          46.235,
          46.815
         ],
         "y": [
          53.471,
          53.638
         ],
         "z": [
          17.688,
          16.331
         ]
        },
        {
         "line": {
          "color": "red",
          "width": 2
         },
         "mode": "lines",
         "showlegend": false,
         "type": "scatter3d",
         "x": [
          48.256,
          46.815
         ],
         "y": [
          54.033,
          53.638
         ],
         "z": [
          16.44,
          16.331
         ]
        },
        {
         "line": {
          "color": "red",
          "width": 2
         },
         "mode": "lines",
         "showlegend": false,
         "type": "scatter3d",
         "x": [
          46.06,
          46.815
         ],
         "y": [
          54.69,
          53.638
         ],
         "z": [
          15.66,
          16.331
         ]
        },
        {
         "line": {
          "color": "red",
          "width": 2
         },
         "mode": "lines",
         "showlegend": false,
         "type": "scatter3d",
         "x": [
          46.673,
          46.815
         ],
         "y": [
          52.443,
          53.638
         ],
         "z": [
          15.516,
          16.331
         ]
        },
        {
         "line": {
          "color": "red",
          "width": 2
         },
         "mode": "lines",
         "showlegend": false,
         "type": "scatter3d",
         "x": [
          54.378,
          55.618
         ],
         "y": [
          49.296,
          49.789
         ],
         "z": [
          19.855,
          19.072
         ]
        },
        {
         "line": {
          "color": "red",
          "width": 2
         },
         "mode": "lines",
         "showlegend": false,
         "type": "scatter3d",
         "x": [
          54.378,
          53.125
         ],
         "y": [
          49.296,
          50.072
         ],
         "z": [
          19.855,
          19.761
         ]
        },
        {
         "line": {
          "color": "red",
          "width": 2
         },
         "mode": "lines",
         "showlegend": false,
         "type": "scatter3d",
         "x": [
          54.378,
          54.436
         ],
         "y": [
          49.296,
          48.242
         ],
         "z": [
          19.855,
          20.545
         ]
        },
        {
         "line": {
          "color": "red",
          "width": 2
         },
         "mode": "lines",
         "showlegend": false,
         "type": "scatter3d",
         "x": [
          55.618,
          55.285
         ],
         "y": [
          49.789,
          50.079
         ],
         "z": [
          19.072,
          17.579
         ]
        },
        {
         "line": {
          "color": "red",
          "width": 2
         },
         "mode": "lines",
         "showlegend": false,
         "type": "scatter3d",
         "x": [
          55.285,
          55.721
         ],
         "y": [
          50.079,
          51.48
         ],
         "z": [
          17.579,
          17.084
         ]
        },
        {
         "line": {
          "color": "red",
          "width": 2
         },
         "mode": "lines",
         "showlegend": false,
         "type": "scatter3d",
         "x": [
          55.721,
          55.484
         ],
         "y": [
          51.48,
          51.746
         ],
         "z": [
          17.084,
          15.572
         ]
        },
        {
         "line": {
          "color": "red",
          "width": 2
         },
         "mode": "lines",
         "showlegend": false,
         "type": "scatter3d",
         "x": [
          55.484,
          56.675
         ],
         "y": [
          51.746,
          51.303
         ],
         "z": [
          15.572,
          14.715
         ]
        },
        {
         "line": {
          "color": "red",
          "width": 2
         },
         "mode": "lines",
         "showlegend": false,
         "type": "scatter3d",
         "x": [
          56.675,
          56.289
         ],
         "y": [
          51.303,
          50.836
         ],
         "z": [
          14.715,
          13.325
         ]
        },
        {
         "line": {
          "color": "red",
          "width": 2
         },
         "mode": "lines",
         "showlegend": false,
         "type": "scatter3d",
         "x": [
          56.289,
          55.649
         ],
         "y": [
          50.836,
          49.407
         ],
         "z": [
          13.325,
          13.279
         ]
        },
        {
         "line": {
          "color": "red",
          "width": 2
         },
         "mode": "lines",
         "showlegend": false,
         "type": "scatter3d",
         "x": [
          55.649,
          54.665
         ],
         "y": [
          49.407,
          49.197
         ],
         "z": [
          13.279,
          12.075
         ]
        },
        {
         "line": {
          "color": "red",
          "width": 2
         },
         "mode": "lines",
         "showlegend": false,
         "type": "scatter3d",
         "x": [
          54.665,
          54.223
         ],
         "y": [
          49.197,
          47.965
         ],
         "z": [
          12.075,
          11.681
         ]
        },
        {
         "line": {
          "color": "red",
          "width": 2
         },
         "mode": "lines",
         "showlegend": false,
         "type": "scatter3d",
         "x": [
          54.223,
          54.669
         ],
         "y": [
          47.965,
          46.707
         ],
         "z": [
          11.681,
          12.387
         ]
        },
        {
         "line": {
          "color": "red",
          "width": 2
         },
         "mode": "lines",
         "showlegend": false,
         "type": "scatter3d",
         "x": [
          54.669,
          53.888
         ],
         "y": [
          46.707,
          46.625
         ],
         "z": [
          12.387,
          13.712
         ]
        },
        {
         "line": {
          "color": "red",
          "width": 2
         },
         "mode": "lines",
         "showlegend": false,
         "type": "scatter3d",
         "x": [
          53.888,
          53.719
         ],
         "y": [
          46.625,
          45.49
         ],
         "z": [
          13.712,
          14.41
         ]
        },
        {
         "line": {
          "color": "red",
          "width": 2
         },
         "mode": "lines",
         "showlegend": false,
         "type": "scatter3d",
         "x": [
          53.719,
          54.275
         ],
         "y": [
          45.49,
          44.139
         ],
         "z": [
          14.41,
          13.958
         ]
        },
        {
         "line": {
          "color": "red",
          "width": 2
         },
         "mode": "lines",
         "showlegend": false,
         "type": "scatter3d",
         "x": [
          54.275,
          53.886
         ],
         "y": [
          44.139,
          43.033
         ],
         "z": [
          13.958,
          14.92
         ]
        },
        {
         "line": {
          "color": "red",
          "width": 2
         },
         "mode": "lines",
         "showlegend": false,
         "type": "scatter3d",
         "x": [
          53.886,
          54.844
         ],
         "y": [
          43.033,
          42.998
         ],
         "z": [
          14.92,
          16.082
         ]
        },
        {
         "line": {
          "color": "red",
          "width": 2
         },
         "mode": "lines",
         "showlegend": false,
         "type": "scatter3d",
         "x": [
          54.844,
          54.823
         ],
         "y": [
          42.998,
          41.663
         ],
         "z": [
          16.082,
          16.782
         ]
        },
        {
         "line": {
          "color": "red",
          "width": 2
         },
         "mode": "lines",
         "showlegend": false,
         "type": "scatter3d",
         "x": [
          54.823,
          54.18
         ],
         "y": [
          41.663,
          41.683
         ],
         "z": [
          16.782,
          18.179
         ]
        },
        {
         "line": {
          "color": "red",
          "width": 2
         },
         "mode": "lines",
         "showlegend": false,
         "type": "scatter3d",
         "x": [
          50.65,
          51.097
         ],
         "y": [
          50.248,
          49.697
         ],
         "z": [
          16.802,
          15.45
         ]
        },
        {
         "line": {
          "color": "red",
          "width": 2
         },
         "mode": "lines",
         "showlegend": false,
         "type": "scatter3d",
         "x": [
          50.65,
          51.076
         ],
         "y": [
          50.248,
          49.603
         ],
         "z": [
          16.802,
          18.067
         ]
        },
        {
         "line": {
          "color": "red",
          "width": 2
         },
         "mode": "lines",
         "showlegend": false,
         "type": "scatter3d",
         "x": [
          50.65,
          49.947
         ],
         "y": [
          50.248,
          51.303
         ],
         "z": [
          16.802,
          16.836
         ]
        },
        {
         "line": {
          "color": "red",
          "width": 2
         },
         "mode": "lines",
         "showlegend": false,
         "type": "scatter3d",
         "x": [
          51.097,
          50.09
         ],
         "y": [
          49.697,
          48.745
         ],
         "z": [
          15.45,
          14.792
         ]
        },
        {
         "line": {
          "color": "red",
          "width": 2
         },
         "mode": "lines",
         "showlegend": false,
         "type": "scatter3d",
         "x": [
          50.09,
          50.448
         ],
         "y": [
          48.745,
          47.303
         ],
         "z": [
          14.792,
          15.066
         ]
        },
        {
         "line": {
          "color": "red",
          "width": 2
         },
         "mode": "lines",
         "showlegend": false,
         "type": "scatter3d",
         "x": [
          50.448,
          49.586
         ],
         "y": [
          47.303,
          46.708
         ],
         "z": [
          15.066,
          16.17
         ]
        },
        {
         "line": {
          "color": "red",
          "width": 2
         },
         "mode": "lines",
         "showlegend": false,
         "type": "scatter3d",
         "x": [
          49.586,
          49.414
         ],
         "y": [
          46.708,
          45.19
         ],
         "z": [
          16.17,
          16.022
         ]
        },
        {
         "line": {
          "color": "red",
          "width": 2
         },
         "mode": "lines",
         "showlegend": false,
         "type": "scatter3d",
         "x": [
          49.414,
          49.978
         ],
         "y": [
          45.19,
          44.382
         ],
         "z": [
          16.022,
          17.184
         ]
        },
        {
         "line": {
          "color": "red",
          "width": 2
         },
         "mode": "lines",
         "showlegend": false,
         "type": "scatter3d",
         "x": [
          49.978,
          49.787
         ],
         "y": [
          44.382,
          45.069
         ],
         "z": [
          17.184,
          18.496
         ]
        },
        {
         "line": {
          "color": "red",
          "width": 2
         },
         "mode": "lines",
         "showlegend": false,
         "type": "scatter3d",
         "x": [
          49.787,
          51.095
         ],
         "y": [
          45.069,
          45.202
         ],
         "z": [
          18.496,
          19.251
         ]
        },
        {
         "line": {
          "color": "red",
          "width": 2
         },
         "mode": "lines",
         "showlegend": false,
         "type": "scatter3d",
         "x": [
          51.095,
          51.13
         ],
         "y": [
          45.202,
          45.626
         ],
         "z": [
          19.251,
          20.532
         ]
        },
        {
         "line": {
          "color": "red",
          "width": 2
         },
         "mode": "lines",
         "showlegend": false,
         "type": "scatter3d",
         "x": [
          51.13,
          49.843
         ],
         "y": [
          45.626,
          45.863
         ],
         "z": [
          20.532,
          21.265
         ]
        },
        {
         "line": {
          "color": "red",
          "width": 2
         },
         "mode": "lines",
         "showlegend": false,
         "type": "scatter3d",
         "x": [
          49.843,
          49.549
         ],
         "y": [
          45.863,
          44.624
         ],
         "z": [
          21.265,
          22.053
         ]
        },
        {
         "line": {
          "color": "red",
          "width": 2
         },
         "mode": "lines",
         "showlegend": false,
         "type": "scatter3d",
         "x": [
          49.549,
          49.189
         ],
         "y": [
          44.624,
          44.694
         ],
         "z": [
          22.053,
          23.327
         ]
        },
        {
         "line": {
          "color": "red",
          "width": 2
         },
         "mode": "lines",
         "showlegend": false,
         "type": "scatter3d",
         "x": [
          49.189,
          49.074
         ],
         "y": [
          44.694,
          46.039
         ],
         "z": [
          23.327,
          24.004
         ]
        },
        {
         "line": {
          "color": "red",
          "width": 2
         },
         "mode": "lines",
         "showlegend": false,
         "type": "scatter3d",
         "x": [
          49.074,
          47.789
         ],
         "y": [
          46.039,
          46.744
         ],
         "z": [
          24.004,
          23.668
         ]
        },
        {
         "line": {
          "color": "red",
          "width": 2
         },
         "mode": "lines",
         "showlegend": false,
         "type": "scatter3d",
         "x": [
          47.789,
          46.978
         ],
         "y": [
          46.744,
          46.989
         ],
         "z": [
          23.668,
          24.92
         ]
        },
        {
         "line": {
          "color": "red",
          "width": 2
         },
         "mode": "lines",
         "showlegend": false,
         "type": "scatter3d",
         "x": [
          46.978,
          46.783
         ],
         "y": [
          46.989,
          45.728
         ],
         "z": [
          24.92,
          25.729
         ]
        },
        {
         "line": {
          "color": "red",
          "width": 2
         },
         "mode": "lines",
         "showlegend": false,
         "type": "scatter3d",
         "x": [
          46.783,
          45.31
         ],
         "y": [
          45.728,
          45.386
         ],
         "z": [
          25.729,
          25.923
         ]
        },
        {
         "line": {
          "color": "red",
          "width": 2
         },
         "mode": "lines",
         "showlegend": false,
         "type": "scatter3d",
         "x": [
          46.234,
          47.174
         ],
         "y": [
          49.831,
          51.04
         ],
         "z": [
          20.358,
          20.4
         ]
        },
        {
         "line": {
          "color": "red",
          "width": 2
         },
         "mode": "lines",
         "showlegend": false,
         "type": "scatter3d",
         "x": [
          47.613,
          47.174
         ],
         "y": [
          51.318,
          51.04
         ],
         "z": [
          21.844,
          20.4
         ]
        },
        {
         "line": {
          "color": "red",
          "width": 2
         },
         "mode": "lines",
         "showlegend": false,
         "type": "scatter3d",
         "x": [
          48.444,
          47.174
         ],
         "y": [
          50.766,
          51.04
         ],
         "z": [
          19.453,
          20.4
         ]
        },
        {
         "line": {
          "color": "red",
          "width": 2
         },
         "mode": "lines",
         "showlegend": false,
         "type": "scatter3d",
         "x": [
          46.391,
          47.174
         ],
         "y": [
          52.233,
          51.04
         ],
         "z": [
          19.823,
          20.4
         ]
        },
        {
         "line": {
          "color": "blue",
          "width": 2
         },
         "mode": "lines",
         "showlegend": false,
         "type": "scatter3d",
         "x": [
          51.812006439255214,
          52.552154122825485
         ],
         "y": [
          50.801113511731664,
          51.421554941306326
         ],
         "z": [
          23.443869569407614,
          22.28667993975614
         ]
        },
        {
         "line": {
          "color": "blue",
          "width": 2
         },
         "mode": "lines",
         "showlegend": false,
         "type": "scatter3d",
         "x": [
          51.812006439255214,
          50.89354794129579
         ],
         "y": [
          50.801113511731664,
          49.65286630467208
         ],
         "z": [
          23.443869569407614,
          23.044434544646407
         ]
        },
        {
         "line": {
          "color": "blue",
          "width": 2
         },
         "mode": "lines",
         "showlegend": false,
         "type": "scatter3d",
         "x": [
          52.552154122825485,
          53.55493333181544
         ],
         "y": [
          51.421554941306326,
          52.24150559487759
         ],
         "z": [
          22.28667993975614,
          22.783075733176602
         ]
        },
        {
         "line": {
          "color": "blue",
          "width": 2
         },
         "mode": "lines",
         "showlegend": false,
         "type": "scatter3d",
         "x": [
          52.552154122825485,
          51.87701458115352
         ],
         "y": [
          51.421554941306326,
          52.03630060954092
         ],
         "z": [
          22.28667993975614,
          21.326973545770066
         ]
        },
        {
         "line": {
          "color": "blue",
          "width": 2
         },
         "mode": "lines",
         "showlegend": false,
         "type": "scatter3d",
         "x": [
          49.722835976147444,
          50.85295172783475
         ],
         "y": [
          47.589737244507404,
          47.37247358796393
         ],
         "z": [
          21.116985978338473,
          22.05110529156007
         ]
        },
        {
         "line": {
          "color": "blue",
          "width": 2
         },
         "mode": "lines",
         "showlegend": false,
         "type": "scatter3d",
         "x": [
          49.722835976147444,
          49.12854225590251
         ],
         "y": [
          47.589737244507404,
          46.214115971042006
         ],
         "z": [
          21.116985978338473,
          20.795057281160265
         ]
        },
        {
         "line": {
          "color": "blue",
          "width": 2
         },
         "mode": "lines",
         "showlegend": false,
         "type": "scatter3d",
         "x": [
          51.71538455119372,
          50.39026969004923
         ],
         "y": [
          51.65293959553102,
          51.9735638283127
         ],
         "z": [
          20.066965582956936,
          19.5077235010933
         ]
        },
        {
         "line": {
          "color": "blue",
          "width": 2
         },
         "mode": "lines",
         "showlegend": false,
         "type": "scatter3d",
         "x": [
          51.71538455119372,
          52.82667332395606
         ],
         "y": [
          51.65293959553102,
          52.26916574423089
         ],
         "z": [
          20.066965582956936,
          19.146100990744316
         ]
        },
        {
         "line": {
          "color": "blue",
          "width": 2
         },
         "mode": "lines",
         "showlegend": false,
         "type": "scatter3d",
         "x": [
          51.71538455119372,
          51.87701458115352
         ],
         "y": [
          51.65293959553102,
          52.03630060954092
         ],
         "z": [
          20.066965582956936,
          21.326973545770066
         ]
        },
        {
         "line": {
          "color": "blue",
          "width": 2
         },
         "mode": "lines",
         "showlegend": false,
         "type": "scatter3d",
         "x": [
          50.39026969004923,
          50.31056815765698
         ],
         "y": [
          51.9735638283127,
          51.60673204195852
         ],
         "z": [
          19.5077235010933,
          18.192984323060436
         ]
        },
        {
         "line": {
          "color": "blue",
          "width": 2
         },
         "mode": "lines",
         "showlegend": false,
         "type": "scatter3d",
         "x": [
          47.60798844304437,
          47.98468382704309
         ],
         "y": [
          51.83923224872736,
          52.278977351934564
         ],
         "z": [
          13.97218919180651,
          15.34335797495443
         ]
        },
        {
         "line": {
          "color": "blue",
          "width": 2
         },
         "mode": "lines",
         "showlegend": false,
         "type": "scatter3d",
         "x": [
          47.60798844304437,
          48.331244349142345
         ],
         "y": [
          51.83923224872736,
          50.73245607791154
         ],
         "z": [
          13.97218919180651,
          13.4405385527505
         ]
        },
        {
         "line": {
          "color": "blue",
          "width": 2
         },
         "mode": "lines",
         "showlegend": false,
         "type": "scatter3d",
         "x": [
          47.98468382704309,
          47.83012599184008
         ],
         "y": [
          52.278977351934564,
          51.343179842210326
         ],
         "z": [
          15.34335797495443,
          16.334607638949965
         ]
        },
        {
         "line": {
          "color": "blue",
          "width": 2
         },
         "mode": "lines",
         "showlegend": false,
         "type": "scatter3d",
         "x": [
          47.49034571960906,
          48.331244349142345
         ],
         "y": [
          50.05299303881628,
          50.73245607791154
         ],
         "z": [
          12.45147663691688,
          13.4405385527505
         ]
        },
        {
         "line": {
          "color": "blue",
          "width": 2
         },
         "mode": "lines",
         "showlegend": false,
         "type": "scatter3d",
         "x": [
          51.67802455859962,
          50.85295172783475
         ],
         "y": [
          48.55983565566475,
          47.37247358796393
         ],
         "z": [
          22.40955074643277,
          22.05110529156007
         ]
        },
        {
         "line": {
          "color": "blue",
          "width": 2
         },
         "mode": "lines",
         "showlegend": false,
         "type": "scatter3d",
         "x": [
          51.67802455859962,
          50.89354794129579
         ],
         "y": [
          48.55983565566475,
          49.65286630467208
         ],
         "z": [
          22.40955074643277,
          23.044434544646407
         ]
        },
        {
         "line": {
          "color": "blue",
          "width": 2
         },
         "mode": "lines",
         "showlegend": false,
         "type": "scatter3d",
         "x": [
          53.317908461246574,
          53.936356027688944
         ],
         "y": [
          45.31294236471735,
          44.79673911224576
         ],
         "z": [
          19.977092166509955,
          21.258263041022506
         ]
        },
        {
         "line": {
          "color": "blue",
          "width": 2
         },
         "mode": "lines",
         "showlegend": false,
         "type": "scatter3d",
         "x": [
          49.3983830669377,
          48.661734861384225
         ],
         "y": [
          44.98935941580368,
          45.913651534316365
         ],
         "z": [
          15.823659759627652,
          16.755383163278207
         ]
        },
        {
         "line": {
          "color": "blue",
          "width": 2
         },
         "mode": "lines",
         "showlegend": false,
         "type": "scatter3d",
         "x": [
          49.3983830669377,
          50.47895017892679
         ],
         "y": [
          44.98935941580368,
          44.21653103961471
         ],
         "z": [
          15.823659759627652,
          16.48293589103593
         ]
        },
        {
         "line": {
          "color": "blue",
          "width": 2
         },
         "mode": "lines",
         "showlegend": false,
         "type": "scatter3d",
         "x": [
          47.538730776362065,
          46.547219899401654
         ],
         "y": [
          46.63614590648025,
          45.62948983911321
         ],
         "z": [
          16.002087930839384,
          15.451867299726441
         ]
        },
        {
         "line": {
          "color": "blue",
          "width": 2
         },
         "mode": "lines",
         "showlegend": false,
         "type": "scatter3d",
         "x": [
          47.538730776362065,
          48.661734861384225
         ],
         "y": [
          46.63614590648025,
          45.913651534316365
         ],
         "z": [
          16.002087930839384,
          16.755383163278207
         ]
        },
        {
         "line": {
          "color": "blue",
          "width": 2
         },
         "mode": "lines",
         "showlegend": false,
         "type": "scatter3d",
         "x": [
          53.35505773285432,
          54.57875615701358
         ],
         "y": [
          51.61569037119374,
          52.053499927733796
         ],
         "z": [
          15.604416384053994,
          14.88816017367091
         ]
        },
        {
         "line": {
          "color": "blue",
          "width": 2
         },
         "mode": "lines",
         "showlegend": false,
         "type": "scatter3d",
         "x": [
          53.35505773285432,
          53.41220624691886
         ],
         "y": [
          51.61569037119374,
          52.25841762816759
         ],
         "z": [
          15.604416384053994,
          16.96098916886249
         ]
        },
        {
         "line": {
          "color": "blue",
          "width": 2
         },
         "mode": "lines",
         "showlegend": false,
         "type": "scatter3d",
         "x": [
          54.57875615701358,
          54.824793728172246
         ],
         "y": [
          52.053499927733796,
          51.81987084645311
         ],
         "z": [
          14.88816017367091,
          13.487566026189818
         ]
        },
        {
         "line": {
          "color": "blue",
          "width": 2
         },
         "mode": "lines",
         "showlegend": false,
         "type": "scatter3d",
         "x": [
          53.34915940293156,
          53.40328139230819
         ],
         "y": [
          49.991639565209304,
          48.73897470684968
         ],
         "z": [
          12.635278093356607,
          11.771813813321367
         ]
        },
        {
         "line": {
          "color": "blue",
          "width": 2
         },
         "mode": "lines",
         "showlegend": false,
         "type": "scatter3d",
         "x": [
          53.34915940293156,
          54.76132065840451
         ],
         "y": [
          49.991639565209304,
          50.54541191864705
         ],
         "z": [
          12.635278093356607,
          12.782318118890775
         ]
        },
        {
         "line": {
          "color": "blue",
          "width": 2
         },
         "mode": "lines",
         "showlegend": false,
         "type": "scatter3d",
         "x": [
          53.40328139230819,
          54.069766021386805
         ],
         "y": [
          48.73897470684968,
          47.55760750052471
         ],
         "z": [
          11.771813813321367,
          12.364473718344374
         ]
        },
        {
         "line": {
          "color": "blue",
          "width": 2
         },
         "mode": "lines",
         "showlegend": false,
         "type": "scatter3d",
         "x": [
          54.824793728172246,
          54.76132065840451
         ],
         "y": [
          51.81987084645311,
          50.54541191864705
         ],
         "z": [
          13.487566026189818,
          12.782318118890775
         ]
        },
        {
         "line": {
          "color": "blue",
          "width": 2
         },
         "mode": "lines",
         "showlegend": false,
         "type": "scatter3d",
         "x": [
          54.069766021386805,
          53.23928699899277
         ],
         "y": [
          47.55760750052471,
          46.935533157669
         ],
         "z": [
          12.364473718344374,
          13.486697896182333
         ]
        },
        {
         "line": {
          "color": "blue",
          "width": 2
         },
         "mode": "lines",
         "showlegend": false,
         "type": "scatter3d",
         "x": [
          53.23928699899277,
          53.88478739747038
         ],
         "y": [
          46.935533157669,
          45.76262805888965
         ],
         "z": [
          13.486697896182333,
          14.136777787290072
         ]
        },
        {
         "line": {
          "color": "blue",
          "width": 2
         },
         "mode": "lines",
         "showlegend": false,
         "type": "scatter3d",
         "x": [
          52.410451233771575,
          53.016205541381105
         ],
         "y": [
          45.838123564436245,
          45.025273680365096
         ],
         "z": [
          16.204861515056468,
          15.09764618605401
         ]
        },
        {
         "line": {
          "color": "blue",
          "width": 2
         },
         "mode": "lines",
         "showlegend": false,
         "type": "scatter3d",
         "x": [
          52.410451233771575,
          51.58572541314426
         ],
         "y": [
          45.838123564436245,
          44.96150128375398
         ],
         "z": [
          16.204861515056468,
          17.123597983148393
         ]
        },
        {
         "line": {
          "color": "blue",
          "width": 2
         },
         "mode": "lines",
         "showlegend": false,
         "type": "scatter3d",
         "x": [
          53.88478739747038,
          53.016205541381105
         ],
         "y": [
          45.76262805888965,
          45.025273680365096
         ],
         "z": [
          14.136777787290072,
          15.09764618605401
         ]
        },
        {
         "line": {
          "color": "blue",
          "width": 2
         },
         "mode": "lines",
         "showlegend": false,
         "type": "scatter3d",
         "x": [
          51.58572541314426,
          50.47895017892679
         ],
         "y": [
          44.96150128375398,
          44.21653103961471
         ],
         "z": [
          17.123597983148393,
          16.48293589103593
         ]
        },
        {
         "line": {
          "color": "blue",
          "width": 2
         },
         "mode": "lines",
         "showlegend": false,
         "type": "scatter3d",
         "x": [
          53.93185791222062,
          52.66522613567377
         ],
         "y": [
          43.32474581769866,
          42.585612814065115
         ],
         "z": [
          21.363222594020883,
          21.383256205313376
         ]
        },
        {
         "line": {
          "color": "blue",
          "width": 2
         },
         "mode": "lines",
         "showlegend": false,
         "type": "scatter3d",
         "x": [
          53.93185791222062,
          53.936356027688944
         ],
         "y": [
          43.32474581769866,
          44.79673911224576
         ],
         "z": [
          21.363222594020883,
          21.258263041022506
         ]
        },
        {
         "line": {
          "color": "blue",
          "width": 2
         },
         "mode": "lines",
         "showlegend": false,
         "type": "scatter3d",
         "x": [
          52.66522613567377,
          51.72598016078969
         ],
         "y": [
          42.585612814065115,
          42.88467966176054
         ],
         "z": [
          21.383256205313376,
          22.563192228694973
         ]
        },
        {
         "line": {
          "color": "blue",
          "width": 2
         },
         "mode": "lines",
         "showlegend": false,
         "type": "scatter3d",
         "x": [
          52.82667332395606,
          52.436052735095906
         ],
         "y": [
          52.26916574423089,
          51.9409349402526
         ],
         "z": [
          19.146100990744316,
          17.842907568846282
         ]
        },
        {
         "line": {
          "color": "blue",
          "width": 2
         },
         "mode": "lines",
         "showlegend": false,
         "type": "scatter3d",
         "x": [
          48.74124961263886,
          48.331244349142345
         ],
         "y": [
          49.780966391462556,
          50.73245607791154
         ],
         "z": [
          14.448258285854081,
          13.4405385527505
         ]
        },
        {
         "line": {
          "color": "blue",
          "width": 2
         },
         "mode": "lines",
         "showlegend": false,
         "type": "scatter3d",
         "x": [
          49.5596527959384,
          48.331244349142345
         ],
         "y": [
          51.16339574079869,
          50.73245607791154
         ],
         "z": [
          12.763571275261537,
          13.4405385527505
         ]
        },
        {
         "line": {
          "color": "blue",
          "width": 2
         },
         "mode": "lines",
         "showlegend": false,
         "type": "scatter3d",
         "x": [
          53.41220624691886,
          52.436052735095906
         ],
         "y": [
          52.25841762816759,
          51.9409349402526
         ],
         "z": [
          16.96098916886249,
          17.842907568846282
         ]
        },
        {
         "line": {
          "color": "blue",
          "width": 2
         },
         "mode": "lines",
         "showlegend": false,
         "type": "scatter3d",
         "x": [
          53.41220624691886,
          52.951977545348775
         ],
         "y": [
          52.25841762816759,
          53.645100572330875
         ],
         "z": [
          16.96098916886249,
          16.575029385183196
         ]
        },
        {
         "line": {
          "color": "blue",
          "width": 2
         },
         "mode": "lines",
         "showlegend": false,
         "type": "scatter3d",
         "x": [
          51.72598016078969,
          50.60165284252015
         ],
         "y": [
          42.88467966176054,
          41.879103173793915
         ],
         "z": [
          22.563192228694973,
          22.385417066646024
         ]
        },
        {
         "line": {
          "color": "blue",
          "width": 2
         },
         "mode": "lines",
         "showlegend": false,
         "type": "scatter3d",
         "x": [
          49.12854225590251,
          48.69034478927225
         ],
         "y": [
          46.214115971042006,
          45.460777111648326
         ],
         "z": [
          20.795057281160265,
          21.995816850418933
         ]
        },
        {
         "line": {
          "color": "blue",
          "width": 2
         },
         "mode": "lines",
         "showlegend": false,
         "type": "scatter3d",
         "x": [
          50.60165284252015,
          49.56050608037966
         ],
         "y": [
          41.879103173793915,
          41.802962722747154
         ],
         "z": [
          22.385417066646024,
          23.382816210118072
         ]
        },
        {
         "line": {
          "color": "blue",
          "width": 2
         },
         "mode": "lines",
         "showlegend": false,
         "type": "scatter3d",
         "x": [
          49.56050608037966,
          48.58925676527777
         ],
         "y": [
          41.802962722747154,
          42.844036773879004
         ],
         "z": [
          23.382816210118072,
          23.737717024394406
         ]
        },
        {
         "line": {
          "color": "blue",
          "width": 2
         },
         "mode": "lines",
         "showlegend": false,
         "type": "scatter3d",
         "x": [
          48.07072694728814,
          48.69034478927225
         ],
         "y": [
          44.12158546433484,
          45.460777111648326
         ],
         "z": [
          21.579397036216054,
          21.995816850418933
         ]
        },
        {
         "line": {
          "color": "blue",
          "width": 2
         },
         "mode": "lines",
         "showlegend": false,
         "type": "scatter3d",
         "x": [
          48.07072694728814,
          47.622470937895066
         ],
         "y": [
          44.12158546433484,
          43.34007090836746
         ],
         "z": [
          21.579397036216054,
          22.740420528163604
         ]
        },
        {
         "line": {
          "color": "blue",
          "width": 2
         },
         "mode": "lines",
         "showlegend": false,
         "type": "scatter3d",
         "x": [
          48.58925676527777,
          47.622470937895066
         ],
         "y": [
          42.844036773879004,
          43.34007090836746
         ],
         "z": [
          23.737717024394406,
          22.740420528163604
         ]
        },
        {
         "line": {
          "color": "blue",
          "width": 2
         },
         "mode": "lines",
         "showlegend": false,
         "type": "scatter3d",
         "x": [
          50.31056815765698,
          48.6969657044346
         ],
         "y": [
          51.60673204195852,
          51.7663182767375
         ],
         "z": [
          18.192984323060436,
          17.684404578454178
         ]
        },
        {
         "line": {
          "color": "blue",
          "width": 2
         },
         "mode": "lines",
         "showlegend": false,
         "type": "scatter3d",
         "x": [
          47.83012599184008,
          48.6969657044346
         ],
         "y": [
          51.343179842210326,
          51.7663182767375
         ],
         "z": [
          16.334607638949965,
          17.684404578454178
         ]
        },
        {
         "line": {
          "color": "blue",
          "width": 2
         },
         "mode": "lines",
         "showlegend": false,
         "type": "scatter3d",
         "x": [
          49.727994088413,
          48.6969657044346
         ],
         "y": [
          52.98132526934231,
          51.7663182767375
         ],
         "z": [
          17.136229898856243,
          17.684404578454178
         ]
        },
        {
         "line": {
          "color": "blue",
          "width": 2
         },
         "mode": "lines",
         "showlegend": false,
         "type": "scatter3d",
         "x": [
          47.61270876175173,
          48.6969657044346
         ],
         "y": [
          52.37760974765667,
          51.7663182767375
         ],
         "z": [
          18.81178012361448,
          17.684404578454178
         ]
        },
        {
         "line": {
          "color": "green",
          "dash": "longdash",
          "width": 3
         },
         "mode": "lines",
         "showlegend": false,
         "type": "scatter3d",
         "x": [
          49.37,
          51.812006439255214
         ],
         "y": [
          49.704,
          50.801113511731664
         ],
         "z": [
          19.914,
          23.443869569407614
         ]
        },
        {
         "line": {
          "color": "green",
          "dash": "longdash",
          "width": 3
         },
         "mode": "lines",
         "showlegend": false,
         "type": "scatter3d",
         "x": [
          50.801,
          52.552154122825485
         ],
         "y": [
          50.05,
          51.421554941306326
         ],
         "z": [
          19.475,
          22.28667993975614
         ]
        },
        {
         "line": {
          "color": "green",
          "dash": "longdash",
          "width": 3
         },
         "mode": "lines",
         "showlegend": false,
         "type": "scatter3d",
         "x": [
          51.897,
          49.722835976147444
         ],
         "y": [
          49.65,
          47.589737244507404
         ],
         "z": [
          20.467,
          21.116985978338473
         ]
        },
        {
         "line": {
          "color": "green",
          "dash": "longdash",
          "width": 3
         },
         "mode": "lines",
         "showlegend": false,
         "type": "scatter3d",
         "x": [
          46.906,
          51.71538455119372
         ],
         "y": [
          52.377,
          51.65293959553102
         ],
         "z": [
          18.504,
          20.066965582956936
         ]
        },
        {
         "line": {
          "color": "green",
          "dash": "longdash",
          "width": 3
         },
         "mode": "lines",
         "showlegend": false,
         "type": "scatter3d",
         "x": [
          46.235,
          50.39026969004923
         ],
         "y": [
          53.471,
          51.9735638283127
         ],
         "z": [
          17.688,
          19.5077235010933
         ]
        },
        {
         "line": {
          "color": "green",
          "dash": "longdash",
          "width": 3
         },
         "mode": "lines",
         "showlegend": false,
         "type": "scatter3d",
         "x": [
          48.256,
          47.60798844304437
         ],
         "y": [
          54.033,
          51.83923224872736
         ],
         "z": [
          16.44,
          13.97218919180651
         ]
        },
        {
         "line": {
          "color": "green",
          "dash": "longdash",
          "width": 3
         },
         "mode": "lines",
         "showlegend": false,
         "type": "scatter3d",
         "x": [
          46.06,
          47.98468382704309
         ],
         "y": [
          54.69,
          52.278977351934564
         ],
         "z": [
          15.66,
          15.34335797495443
         ]
        },
        {
         "line": {
          "color": "green",
          "dash": "longdash",
          "width": 3
         },
         "mode": "lines",
         "showlegend": false,
         "type": "scatter3d",
         "x": [
          46.673,
          47.49034571960906
         ],
         "y": [
          52.443,
          50.05299303881628
         ],
         "z": [
          15.516,
          12.45147663691688
         ]
        },
        {
         "line": {
          "color": "green",
          "dash": "longdash",
          "width": 3
         },
         "mode": "lines",
         "showlegend": false,
         "type": "scatter3d",
         "x": [
          54.378,
          51.67802455859962
         ],
         "y": [
          49.296,
          48.55983565566475
         ],
         "z": [
          19.855,
          22.40955074643277
         ]
        },
        {
         "line": {
          "color": "green",
          "dash": "longdash",
          "width": 3
         },
         "mode": "lines",
         "showlegend": false,
         "type": "scatter3d",
         "x": [
          55.618,
          53.317908461246574
         ],
         "y": [
          49.789,
          45.31294236471735
         ],
         "z": [
          19.072,
          19.977092166509955
         ]
        },
        {
         "line": {
          "color": "green",
          "dash": "longdash",
          "width": 3
         },
         "mode": "lines",
         "showlegend": false,
         "type": "scatter3d",
         "x": [
          55.285,
          49.3983830669377
         ],
         "y": [
          50.079,
          44.98935941580368
         ],
         "z": [
          17.579,
          15.823659759627652
         ]
        },
        {
         "line": {
          "color": "green",
          "dash": "longdash",
          "width": 3
         },
         "mode": "lines",
         "showlegend": false,
         "type": "scatter3d",
         "x": [
          55.721,
          47.538730776362065
         ],
         "y": [
          51.48,
          46.63614590648025
         ],
         "z": [
          17.084,
          16.002087930839384
         ]
        },
        {
         "line": {
          "color": "green",
          "dash": "longdash",
          "width": 3
         },
         "mode": "lines",
         "showlegend": false,
         "type": "scatter3d",
         "x": [
          55.484,
          53.35505773285432
         ],
         "y": [
          51.746,
          51.61569037119374
         ],
         "z": [
          15.572,
          15.604416384053994
         ]
        },
        {
         "line": {
          "color": "green",
          "dash": "longdash",
          "width": 3
         },
         "mode": "lines",
         "showlegend": false,
         "type": "scatter3d",
         "x": [
          56.675,
          54.57875615701358
         ],
         "y": [
          51.303,
          52.053499927733796
         ],
         "z": [
          14.715,
          14.88816017367091
         ]
        },
        {
         "line": {
          "color": "green",
          "dash": "longdash",
          "width": 3
         },
         "mode": "lines",
         "showlegend": false,
         "type": "scatter3d",
         "x": [
          56.289,
          53.34915940293156
         ],
         "y": [
          50.836,
          49.991639565209304
         ],
         "z": [
          13.325,
          12.635278093356607
         ]
        },
        {
         "line": {
          "color": "green",
          "dash": "longdash",
          "width": 3
         },
         "mode": "lines",
         "showlegend": false,
         "type": "scatter3d",
         "x": [
          55.649,
          53.40328139230819
         ],
         "y": [
          49.407,
          48.73897470684968
         ],
         "z": [
          13.279,
          11.771813813321367
         ]
        },
        {
         "line": {
          "color": "green",
          "dash": "longdash",
          "width": 3
         },
         "mode": "lines",
         "showlegend": false,
         "type": "scatter3d",
         "x": [
          54.665,
          54.824793728172246
         ],
         "y": [
          49.197,
          51.81987084645311
         ],
         "z": [
          12.075,
          13.487566026189818
         ]
        },
        {
         "line": {
          "color": "green",
          "dash": "longdash",
          "width": 3
         },
         "mode": "lines",
         "showlegend": false,
         "type": "scatter3d",
         "x": [
          54.223,
          54.76132065840451
         ],
         "y": [
          47.965,
          50.54541191864705
         ],
         "z": [
          11.681,
          12.782318118890775
         ]
        },
        {
         "line": {
          "color": "green",
          "dash": "longdash",
          "width": 3
         },
         "mode": "lines",
         "showlegend": false,
         "type": "scatter3d",
         "x": [
          54.669,
          54.069766021386805
         ],
         "y": [
          46.707,
          47.55760750052471
         ],
         "z": [
          12.387,
          12.364473718344374
         ]
        },
        {
         "line": {
          "color": "green",
          "dash": "longdash",
          "width": 3
         },
         "mode": "lines",
         "showlegend": false,
         "type": "scatter3d",
         "x": [
          53.888,
          53.23928699899277
         ],
         "y": [
          46.625,
          46.935533157669
         ],
         "z": [
          13.712,
          13.486697896182333
         ]
        },
        {
         "line": {
          "color": "green",
          "dash": "longdash",
          "width": 3
         },
         "mode": "lines",
         "showlegend": false,
         "type": "scatter3d",
         "x": [
          53.719,
          52.410451233771575
         ],
         "y": [
          45.49,
          45.838123564436245
         ],
         "z": [
          14.41,
          16.204861515056468
         ]
        },
        {
         "line": {
          "color": "green",
          "dash": "longdash",
          "width": 3
         },
         "mode": "lines",
         "showlegend": false,
         "type": "scatter3d",
         "x": [
          54.275,
          53.88478739747038
         ],
         "y": [
          44.139,
          45.76262805888965
         ],
         "z": [
          13.958,
          14.136777787290072
         ]
        },
        {
         "line": {
          "color": "green",
          "dash": "longdash",
          "width": 3
         },
         "mode": "lines",
         "showlegend": false,
         "type": "scatter3d",
         "x": [
          53.886,
          53.016205541381105
         ],
         "y": [
          43.033,
          45.025273680365096
         ],
         "z": [
          14.92,
          15.09764618605401
         ]
        },
        {
         "line": {
          "color": "green",
          "dash": "longdash",
          "width": 3
         },
         "mode": "lines",
         "showlegend": false,
         "type": "scatter3d",
         "x": [
          54.844,
          51.58572541314426
         ],
         "y": [
          42.998,
          44.96150128375398
         ],
         "z": [
          16.082,
          17.123597983148393
         ]
        },
        {
         "line": {
          "color": "green",
          "dash": "longdash",
          "width": 3
         },
         "mode": "lines",
         "showlegend": false,
         "type": "scatter3d",
         "x": [
          54.823,
          53.93185791222062
         ],
         "y": [
          41.663,
          43.32474581769866
         ],
         "z": [
          16.782,
          21.363222594020883
         ]
        },
        {
         "line": {
          "color": "green",
          "dash": "longdash",
          "width": 3
         },
         "mode": "lines",
         "showlegend": false,
         "type": "scatter3d",
         "x": [
          54.18,
          52.66522613567377
         ],
         "y": [
          41.683,
          42.585612814065115
         ],
         "z": [
          18.179,
          21.383256205313376
         ]
        },
        {
         "line": {
          "color": "green",
          "dash": "longdash",
          "width": 3
         },
         "mode": "lines",
         "showlegend": false,
         "type": "scatter3d",
         "x": [
          50.65,
          52.82667332395606
         ],
         "y": [
          50.248,
          52.26916574423089
         ],
         "z": [
          16.802,
          19.146100990744316
         ]
        },
        {
         "line": {
          "color": "green",
          "dash": "longdash",
          "width": 3
         },
         "mode": "lines",
         "showlegend": false,
         "type": "scatter3d",
         "x": [
          51.097,
          48.74124961263886
         ],
         "y": [
          49.697,
          49.780966391462556
         ],
         "z": [
          15.45,
          14.448258285854081
         ]
        },
        {
         "line": {
          "color": "green",
          "dash": "longdash",
          "width": 3
         },
         "mode": "lines",
         "showlegend": false,
         "type": "scatter3d",
         "x": [
          50.09,
          49.5596527959384
         ],
         "y": [
          48.745,
          51.16339574079869
         ],
         "z": [
          14.792,
          12.763571275261537
         ]
        },
        {
         "line": {
          "color": "green",
          "dash": "longdash",
          "width": 3
         },
         "mode": "lines",
         "showlegend": false,
         "type": "scatter3d",
         "x": [
          50.448,
          53.41220624691886
         ],
         "y": [
          47.303,
          52.25841762816759
         ],
         "z": [
          15.066,
          16.96098916886249
         ]
        },
        {
         "line": {
          "color": "green",
          "dash": "longdash",
          "width": 3
         },
         "mode": "lines",
         "showlegend": false,
         "type": "scatter3d",
         "x": [
          49.586,
          46.547219899401654
         ],
         "y": [
          46.708,
          45.62948983911321
         ],
         "z": [
          16.17,
          15.451867299726441
         ]
        },
        {
         "line": {
          "color": "green",
          "dash": "longdash",
          "width": 3
         },
         "mode": "lines",
         "showlegend": false,
         "type": "scatter3d",
         "x": [
          49.414,
          48.661734861384225
         ],
         "y": [
          45.19,
          45.913651534316365
         ],
         "z": [
          16.022,
          16.755383163278207
         ]
        },
        {
         "line": {
          "color": "green",
          "dash": "longdash",
          "width": 3
         },
         "mode": "lines",
         "showlegend": false,
         "type": "scatter3d",
         "x": [
          49.978,
          50.47895017892679
         ],
         "y": [
          44.382,
          44.21653103961471
         ],
         "z": [
          17.184,
          16.48293589103593
         ]
        },
        {
         "line": {
          "color": "green",
          "dash": "longdash",
          "width": 3
         },
         "mode": "lines",
         "showlegend": false,
         "type": "scatter3d",
         "x": [
          49.787,
          50.85295172783475
         ],
         "y": [
          45.069,
          47.37247358796393
         ],
         "z": [
          18.496,
          22.05110529156007
         ]
        },
        {
         "line": {
          "color": "green",
          "dash": "longdash",
          "width": 3
         },
         "mode": "lines",
         "showlegend": false,
         "type": "scatter3d",
         "x": [
          51.095,
          53.936356027688944
         ],
         "y": [
          45.202,
          44.79673911224576
         ],
         "z": [
          19.251,
          21.258263041022506
         ]
        },
        {
         "line": {
          "color": "green",
          "dash": "longdash",
          "width": 3
         },
         "mode": "lines",
         "showlegend": false,
         "type": "scatter3d",
         "x": [
          51.13,
          51.72598016078969
         ],
         "y": [
          45.626,
          42.88467966176054
         ],
         "z": [
          20.532,
          22.563192228694973
         ]
        },
        {
         "line": {
          "color": "green",
          "dash": "longdash",
          "width": 3
         },
         "mode": "lines",
         "showlegend": false,
         "type": "scatter3d",
         "x": [
          49.843,
          49.12854225590251
         ],
         "y": [
          45.863,
          46.214115971042006
         ],
         "z": [
          21.265,
          20.795057281160265
         ]
        },
        {
         "line": {
          "color": "green",
          "dash": "longdash",
          "width": 3
         },
         "mode": "lines",
         "showlegend": false,
         "type": "scatter3d",
         "x": [
          49.549,
          50.60165284252015
         ],
         "y": [
          44.624,
          41.879103173793915
         ],
         "z": [
          22.053,
          22.385417066646024
         ]
        },
        {
         "line": {
          "color": "green",
          "dash": "longdash",
          "width": 3
         },
         "mode": "lines",
         "showlegend": false,
         "type": "scatter3d",
         "x": [
          49.189,
          49.56050608037966
         ],
         "y": [
          44.694,
          41.802962722747154
         ],
         "z": [
          23.327,
          23.382816210118072
         ]
        },
        {
         "line": {
          "color": "green",
          "dash": "longdash",
          "width": 3
         },
         "mode": "lines",
         "showlegend": false,
         "type": "scatter3d",
         "x": [
          49.074,
          48.07072694728814
         ],
         "y": [
          46.039,
          44.12158546433484
         ],
         "z": [
          24.004,
          21.579397036216054
         ]
        },
        {
         "line": {
          "color": "green",
          "dash": "longdash",
          "width": 3
         },
         "mode": "lines",
         "showlegend": false,
         "type": "scatter3d",
         "x": [
          47.789,
          50.89354794129579
         ],
         "y": [
          46.744,
          49.65286630467208
         ],
         "z": [
          23.668,
          23.044434544646407
         ]
        },
        {
         "line": {
          "color": "green",
          "dash": "longdash",
          "width": 3
         },
         "mode": "lines",
         "showlegend": false,
         "type": "scatter3d",
         "x": [
          46.978,
          48.69034478927225
         ],
         "y": [
          46.989,
          45.460777111648326
         ],
         "z": [
          24.92,
          21.995816850418933
         ]
        },
        {
         "line": {
          "color": "green",
          "dash": "longdash",
          "width": 3
         },
         "mode": "lines",
         "showlegend": false,
         "type": "scatter3d",
         "x": [
          46.783,
          48.58925676527777
         ],
         "y": [
          45.728,
          42.844036773879004
         ],
         "z": [
          25.729,
          23.737717024394406
         ]
        },
        {
         "line": {
          "color": "green",
          "dash": "longdash",
          "width": 3
         },
         "mode": "lines",
         "showlegend": false,
         "type": "scatter3d",
         "x": [
          45.31,
          47.622470937895066
         ],
         "y": [
          45.386,
          43.34007090836746
         ],
         "z": [
          25.923,
          22.740420528163604
         ]
        },
        {
         "line": {
          "color": "green",
          "dash": "longdash",
          "width": 3
         },
         "mode": "lines",
         "showlegend": false,
         "type": "scatter3d",
         "x": [
          46.815,
          48.331244349142345
         ],
         "y": [
          53.638,
          50.73245607791154
         ],
         "z": [
          16.331,
          13.4405385527505
         ]
        },
        {
         "line": {
          "color": "green",
          "dash": "longdash",
          "width": 3
         },
         "mode": "lines",
         "showlegend": false,
         "type": "scatter3d",
         "x": [
          51.076,
          52.436052735095906
         ],
         "y": [
          49.603,
          51.9409349402526
         ],
         "z": [
          18.067,
          17.842907568846282
         ]
        },
        {
         "line": {
          "color": "green",
          "dash": "longdash",
          "width": 3
         },
         "mode": "lines",
         "showlegend": false,
         "type": "scatter3d",
         "x": [
          53.125,
          50.31056815765698
         ],
         "y": [
          50.072,
          51.60673204195852
         ],
         "z": [
          19.761,
          18.192984323060436
         ]
        },
        {
         "line": {
          "color": "green",
          "dash": "longdash",
          "width": 3
         },
         "mode": "lines",
         "showlegend": false,
         "type": "scatter3d",
         "x": [
          54.436,
          53.55493333181544
         ],
         "y": [
          48.242,
          52.24150559487759
         ],
         "z": [
          20.545,
          22.783075733176602
         ]
        },
        {
         "line": {
          "color": "green",
          "dash": "longdash",
          "width": 3
         },
         "mode": "lines",
         "showlegend": false,
         "type": "scatter3d",
         "x": [
          49.947,
          52.951977545348775
         ],
         "y": [
          51.303,
          53.645100572330875
         ],
         "z": [
          16.836,
          16.575029385183196
         ]
        },
        {
         "line": {
          "color": "green",
          "dash": "longdash",
          "width": 3
         },
         "mode": "lines",
         "showlegend": false,
         "type": "scatter3d",
         "x": [
          46.234,
          47.83012599184008
         ],
         "y": [
          49.831,
          51.343179842210326
         ],
         "z": [
          20.358,
          16.334607638949965
         ]
        },
        {
         "line": {
          "color": "green",
          "dash": "longdash",
          "width": 3
         },
         "mode": "lines",
         "showlegend": false,
         "type": "scatter3d",
         "x": [
          47.613,
          51.87701458115352
         ],
         "y": [
          51.318,
          52.03630060954092
         ],
         "z": [
          21.844,
          21.326973545770066
         ]
        },
        {
         "line": {
          "color": "green",
          "dash": "longdash",
          "width": 3
         },
         "mode": "lines",
         "showlegend": false,
         "type": "scatter3d",
         "x": [
          48.444,
          49.727994088413
         ],
         "y": [
          50.766,
          52.98132526934231
         ],
         "z": [
          19.453,
          17.136229898856243
         ]
        },
        {
         "line": {
          "color": "green",
          "dash": "longdash",
          "width": 3
         },
         "mode": "lines",
         "showlegend": false,
         "type": "scatter3d",
         "x": [
          46.391,
          47.61270876175173
         ],
         "y": [
          52.233,
          52.37760974765667
         ],
         "z": [
          19.823,
          18.81178012361448
         ]
        },
        {
         "line": {
          "color": "green",
          "dash": "longdash",
          "width": 3
         },
         "mode": "lines",
         "showlegend": false,
         "type": "scatter3d",
         "x": [
          47.174,
          48.6969657044346
         ],
         "y": [
          51.04,
          51.7663182767375
         ],
         "z": [
          20.4,
          17.684404578454178
         ]
        }
       ],
       "layout": {
        "scene": {
         "aspectmode": "data",
         "xaxis": {
          "title": {
           "text": "X"
          },
          "visible": false
         },
         "yaxis": {
          "title": {
           "text": "Y"
          },
          "visible": false
         },
         "zaxis": {
          "title": {
           "text": "Z"
          },
          "visible": false
         }
        },
        "showlegend": true,
        "template": {
         "data": {
          "bar": [
           {
            "error_x": {
             "color": "#2a3f5f"
            },
            "error_y": {
             "color": "#2a3f5f"
            },
            "marker": {
             "line": {
              "color": "#E5ECF6",
              "width": 0.5
             },
             "pattern": {
              "fillmode": "overlay",
              "size": 10,
              "solidity": 0.2
             }
            },
            "type": "bar"
           }
          ],
          "barpolar": [
           {
            "marker": {
             "line": {
              "color": "#E5ECF6",
              "width": 0.5
             },
             "pattern": {
              "fillmode": "overlay",
              "size": 10,
              "solidity": 0.2
             }
            },
            "type": "barpolar"
           }
          ],
          "carpet": [
           {
            "aaxis": {
             "endlinecolor": "#2a3f5f",
             "gridcolor": "white",
             "linecolor": "white",
             "minorgridcolor": "white",
             "startlinecolor": "#2a3f5f"
            },
            "baxis": {
             "endlinecolor": "#2a3f5f",
             "gridcolor": "white",
             "linecolor": "white",
             "minorgridcolor": "white",
             "startlinecolor": "#2a3f5f"
            },
            "type": "carpet"
           }
          ],
          "choropleth": [
           {
            "colorbar": {
             "outlinewidth": 0,
             "ticks": ""
            },
            "type": "choropleth"
           }
          ],
          "contour": [
           {
            "colorbar": {
             "outlinewidth": 0,
             "ticks": ""
            },
            "colorscale": [
             [
              0,
              "#0d0887"
             ],
             [
              0.1111111111111111,
              "#46039f"
             ],
             [
              0.2222222222222222,
              "#7201a8"
             ],
             [
              0.3333333333333333,
              "#9c179e"
             ],
             [
              0.4444444444444444,
              "#bd3786"
             ],
             [
              0.5555555555555556,
              "#d8576b"
             ],
             [
              0.6666666666666666,
              "#ed7953"
             ],
             [
              0.7777777777777778,
              "#fb9f3a"
             ],
             [
              0.8888888888888888,
              "#fdca26"
             ],
             [
              1,
              "#f0f921"
             ]
            ],
            "type": "contour"
           }
          ],
          "contourcarpet": [
           {
            "colorbar": {
             "outlinewidth": 0,
             "ticks": ""
            },
            "type": "contourcarpet"
           }
          ],
          "heatmap": [
           {
            "colorbar": {
             "outlinewidth": 0,
             "ticks": ""
            },
            "colorscale": [
             [
              0,
              "#0d0887"
             ],
             [
              0.1111111111111111,
              "#46039f"
             ],
             [
              0.2222222222222222,
              "#7201a8"
             ],
             [
              0.3333333333333333,
              "#9c179e"
             ],
             [
              0.4444444444444444,
              "#bd3786"
             ],
             [
              0.5555555555555556,
              "#d8576b"
             ],
             [
              0.6666666666666666,
              "#ed7953"
             ],
             [
              0.7777777777777778,
              "#fb9f3a"
             ],
             [
              0.8888888888888888,
              "#fdca26"
             ],
             [
              1,
              "#f0f921"
             ]
            ],
            "type": "heatmap"
           }
          ],
          "histogram": [
           {
            "marker": {
             "pattern": {
              "fillmode": "overlay",
              "size": 10,
              "solidity": 0.2
             }
            },
            "type": "histogram"
           }
          ],
          "histogram2d": [
           {
            "colorbar": {
             "outlinewidth": 0,
             "ticks": ""
            },
            "colorscale": [
             [
              0,
              "#0d0887"
             ],
             [
              0.1111111111111111,
              "#46039f"
             ],
             [
              0.2222222222222222,
              "#7201a8"
             ],
             [
              0.3333333333333333,
              "#9c179e"
             ],
             [
              0.4444444444444444,
              "#bd3786"
             ],
             [
              0.5555555555555556,
              "#d8576b"
             ],
             [
              0.6666666666666666,
              "#ed7953"
             ],
             [
              0.7777777777777778,
              "#fb9f3a"
             ],
             [
              0.8888888888888888,
              "#fdca26"
             ],
             [
              1,
              "#f0f921"
             ]
            ],
            "type": "histogram2d"
           }
          ],
          "histogram2dcontour": [
           {
            "colorbar": {
             "outlinewidth": 0,
             "ticks": ""
            },
            "colorscale": [
             [
              0,
              "#0d0887"
             ],
             [
              0.1111111111111111,
              "#46039f"
             ],
             [
              0.2222222222222222,
              "#7201a8"
             ],
             [
              0.3333333333333333,
              "#9c179e"
             ],
             [
              0.4444444444444444,
              "#bd3786"
             ],
             [
              0.5555555555555556,
              "#d8576b"
             ],
             [
              0.6666666666666666,
              "#ed7953"
             ],
             [
              0.7777777777777778,
              "#fb9f3a"
             ],
             [
              0.8888888888888888,
              "#fdca26"
             ],
             [
              1,
              "#f0f921"
             ]
            ],
            "type": "histogram2dcontour"
           }
          ],
          "mesh3d": [
           {
            "colorbar": {
             "outlinewidth": 0,
             "ticks": ""
            },
            "type": "mesh3d"
           }
          ],
          "parcoords": [
           {
            "line": {
             "colorbar": {
              "outlinewidth": 0,
              "ticks": ""
             }
            },
            "type": "parcoords"
           }
          ],
          "pie": [
           {
            "automargin": true,
            "type": "pie"
           }
          ],
          "scatter": [
           {
            "fillpattern": {
             "fillmode": "overlay",
             "size": 10,
             "solidity": 0.2
            },
            "type": "scatter"
           }
          ],
          "scatter3d": [
           {
            "line": {
             "colorbar": {
              "outlinewidth": 0,
              "ticks": ""
             }
            },
            "marker": {
             "colorbar": {
              "outlinewidth": 0,
              "ticks": ""
             }
            },
            "type": "scatter3d"
           }
          ],
          "scattercarpet": [
           {
            "marker": {
             "colorbar": {
              "outlinewidth": 0,
              "ticks": ""
             }
            },
            "type": "scattercarpet"
           }
          ],
          "scattergeo": [
           {
            "marker": {
             "colorbar": {
              "outlinewidth": 0,
              "ticks": ""
             }
            },
            "type": "scattergeo"
           }
          ],
          "scattergl": [
           {
            "marker": {
             "colorbar": {
              "outlinewidth": 0,
              "ticks": ""
             }
            },
            "type": "scattergl"
           }
          ],
          "scattermap": [
           {
            "marker": {
             "colorbar": {
              "outlinewidth": 0,
              "ticks": ""
             }
            },
            "type": "scattermap"
           }
          ],
          "scattermapbox": [
           {
            "marker": {
             "colorbar": {
              "outlinewidth": 0,
              "ticks": ""
             }
            },
            "type": "scattermapbox"
           }
          ],
          "scatterpolar": [
           {
            "marker": {
             "colorbar": {
              "outlinewidth": 0,
              "ticks": ""
             }
            },
            "type": "scatterpolar"
           }
          ],
          "scatterpolargl": [
           {
            "marker": {
             "colorbar": {
              "outlinewidth": 0,
              "ticks": ""
             }
            },
            "type": "scatterpolargl"
           }
          ],
          "scatterternary": [
           {
            "marker": {
             "colorbar": {
              "outlinewidth": 0,
              "ticks": ""
             }
            },
            "type": "scatterternary"
           }
          ],
          "surface": [
           {
            "colorbar": {
             "outlinewidth": 0,
             "ticks": ""
            },
            "colorscale": [
             [
              0,
              "#0d0887"
             ],
             [
              0.1111111111111111,
              "#46039f"
             ],
             [
              0.2222222222222222,
              "#7201a8"
             ],
             [
              0.3333333333333333,
              "#9c179e"
             ],
             [
              0.4444444444444444,
              "#bd3786"
             ],
             [
              0.5555555555555556,
              "#d8576b"
             ],
             [
              0.6666666666666666,
              "#ed7953"
             ],
             [
              0.7777777777777778,
              "#fb9f3a"
             ],
             [
              0.8888888888888888,
              "#fdca26"
             ],
             [
              1,
              "#f0f921"
             ]
            ],
            "type": "surface"
           }
          ],
          "table": [
           {
            "cells": {
             "fill": {
              "color": "#EBF0F8"
             },
             "line": {
              "color": "white"
             }
            },
            "header": {
             "fill": {
              "color": "#C8D4E3"
             },
             "line": {
              "color": "white"
             }
            },
            "type": "table"
           }
          ]
         },
         "layout": {
          "annotationdefaults": {
           "arrowcolor": "#2a3f5f",
           "arrowhead": 0,
           "arrowwidth": 1
          },
          "autotypenumbers": "strict",
          "coloraxis": {
           "colorbar": {
            "outlinewidth": 0,
            "ticks": ""
           }
          },
          "colorscale": {
           "diverging": [
            [
             0,
             "#8e0152"
            ],
            [
             0.1,
             "#c51b7d"
            ],
            [
             0.2,
             "#de77ae"
            ],
            [
             0.3,
             "#f1b6da"
            ],
            [
             0.4,
             "#fde0ef"
            ],
            [
             0.5,
             "#f7f7f7"
            ],
            [
             0.6,
             "#e6f5d0"
            ],
            [
             0.7,
             "#b8e186"
            ],
            [
             0.8,
             "#7fbc41"
            ],
            [
             0.9,
             "#4d9221"
            ],
            [
             1,
             "#276419"
            ]
           ],
           "sequential": [
            [
             0,
             "#0d0887"
            ],
            [
             0.1111111111111111,
             "#46039f"
            ],
            [
             0.2222222222222222,
             "#7201a8"
            ],
            [
             0.3333333333333333,
             "#9c179e"
            ],
            [
             0.4444444444444444,
             "#bd3786"
            ],
            [
             0.5555555555555556,
             "#d8576b"
            ],
            [
             0.6666666666666666,
             "#ed7953"
            ],
            [
             0.7777777777777778,
             "#fb9f3a"
            ],
            [
             0.8888888888888888,
             "#fdca26"
            ],
            [
             1,
             "#f0f921"
            ]
           ],
           "sequentialminus": [
            [
             0,
             "#0d0887"
            ],
            [
             0.1111111111111111,
             "#46039f"
            ],
            [
             0.2222222222222222,
             "#7201a8"
            ],
            [
             0.3333333333333333,
             "#9c179e"
            ],
            [
             0.4444444444444444,
             "#bd3786"
            ],
            [
             0.5555555555555556,
             "#d8576b"
            ],
            [
             0.6666666666666666,
             "#ed7953"
            ],
            [
             0.7777777777777778,
             "#fb9f3a"
            ],
            [
             0.8888888888888888,
             "#fdca26"
            ],
            [
             1,
             "#f0f921"
            ]
           ]
          },
          "colorway": [
           "#636efa",
           "#EF553B",
           "#00cc96",
           "#ab63fa",
           "#FFA15A",
           "#19d3f3",
           "#FF6692",
           "#B6E880",
           "#FF97FF",
           "#FECB52"
          ],
          "font": {
           "color": "#2a3f5f"
          },
          "geo": {
           "bgcolor": "white",
           "lakecolor": "white",
           "landcolor": "#E5ECF6",
           "showlakes": true,
           "showland": true,
           "subunitcolor": "white"
          },
          "hoverlabel": {
           "align": "left"
          },
          "hovermode": "closest",
          "mapbox": {
           "style": "light"
          },
          "paper_bgcolor": "white",
          "plot_bgcolor": "#E5ECF6",
          "polar": {
           "angularaxis": {
            "gridcolor": "white",
            "linecolor": "white",
            "ticks": ""
           },
           "bgcolor": "#E5ECF6",
           "radialaxis": {
            "gridcolor": "white",
            "linecolor": "white",
            "ticks": ""
           }
          },
          "scene": {
           "xaxis": {
            "backgroundcolor": "#E5ECF6",
            "gridcolor": "white",
            "gridwidth": 2,
            "linecolor": "white",
            "showbackground": true,
            "ticks": "",
            "zerolinecolor": "white"
           },
           "yaxis": {
            "backgroundcolor": "#E5ECF6",
            "gridcolor": "white",
            "gridwidth": 2,
            "linecolor": "white",
            "showbackground": true,
            "ticks": "",
            "zerolinecolor": "white"
           },
           "zaxis": {
            "backgroundcolor": "#E5ECF6",
            "gridcolor": "white",
            "gridwidth": 2,
            "linecolor": "white",
            "showbackground": true,
            "ticks": "",
            "zerolinecolor": "white"
           }
          },
          "shapedefaults": {
           "line": {
            "color": "#2a3f5f"
           }
          },
          "ternary": {
           "aaxis": {
            "gridcolor": "white",
            "linecolor": "white",
            "ticks": ""
           },
           "baxis": {
            "gridcolor": "white",
            "linecolor": "white",
            "ticks": ""
           },
           "bgcolor": "#E5ECF6",
           "caxis": {
            "gridcolor": "white",
            "linecolor": "white",
            "ticks": ""
           }
          },
          "title": {
           "x": 0.05
          },
          "xaxis": {
           "automargin": true,
           "gridcolor": "white",
           "linecolor": "white",
           "ticks": "",
           "title": {
            "standoff": 15
           },
           "zerolinecolor": "white",
           "zerolinewidth": 2
          },
          "yaxis": {
           "automargin": true,
           "gridcolor": "white",
           "linecolor": "white",
           "ticks": "",
           "title": {
            "standoff": 15
           },
           "zerolinecolor": "white",
           "zerolinewidth": 2
          }
         }
        },
        "title": {
         "text": "  Alignment"
        }
       }
      }
     },
     "metadata": {},
     "output_type": "display_data"
    }
   ],
   "source": [
    "data_path = \"../Data/first_8_molecules_RDKIT\"\n",
    "ligand = '1ln1_DLP'\n",
    "i = 0\n",
    "path1 = os.path.join(data_path, 'extra_bio_ligands', ligand+'.xyz')\n",
    "path2 = os.path.join('arbalign_output', ligand+'_conf'+str(i)+'-aligned_to-'+ligand+'.xyz')\n",
    "molA = next(pybel.readfile(\"xyz\", path1))\n",
    "molB = next(pybel.readfile(\"xyz\", path2))\n",
    "X_A, T_A, B_A = otm.tl.process_molecule(molA, heavy_atoms_only=True) \n",
    "X_B, T_B, B_B = otm.tl.process_molecule(molB, heavy_atoms_only=True)\n",
    "X_B_aligned, _, _ = otm.tl.kabsch(X_A, X_B, np.eye(X_A.shape[0]))\n",
    "print(otm.tl.root_mean_square_deviation(X_A, X_B_aligned))\n",
    "otm.pl.interactive_alignment_plot(X_A, X_B_aligned, T_A, T_B, B_A, B_B, assignment, '', '')"
   ]
  }
 ],
 "metadata": {
  "kernelspec": {
   "display_name": "py39",
   "language": "python",
   "name": "python3"
  },
  "language_info": {
   "codemirror_mode": {
    "name": "ipython",
    "version": 3
   },
   "file_extension": ".py",
   "mimetype": "text/x-python",
   "name": "python",
   "nbconvert_exporter": "python",
   "pygments_lexer": "ipython3",
   "version": "3.9.16"
  }
 },
 "nbformat": 4,
 "nbformat_minor": 2
}
