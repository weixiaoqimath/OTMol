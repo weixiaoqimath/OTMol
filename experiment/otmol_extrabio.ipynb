{
 "cells": [
  {
   "cell_type": "code",
   "execution_count": 1,
   "metadata": {},
   "outputs": [],
   "source": [
    "import numpy as np\n",
    "import otmol as otm\n",
    "import pandas as pd\n",
    "from openbabel import pybel\n",
    "import matplotlib.pyplot as plt\n",
    "import seaborn as sns\n",
    "import os\n",
    "from rdkit.Chem import MolFromPDBFile\n",
    "from experiment_utils import interactive_alignment_plot_py3dmol\n",
    "# %matplotlib widget"
   ]
  },
  {
   "cell_type": "code",
   "execution_count": 5,
   "metadata": {},
   "outputs": [
    {
     "name": "stdout",
     "output_type": "stream",
     "text": [
      "1ln1_DLP 0 4.956857268685251 0\n",
      "1ln1_DLP 1 6.503685949725692 0\n",
      "1ln1_DLP 2 5.551200695137789 1\n",
      "1ln1_DLP 3 4.509755357300606 2\n",
      "1ln1_DLP 4 4.425341378774354 1\n",
      "1ln1_DLP 5 4.122663108359444 1\n",
      "1ln1_DLP 6 4.73974477163613 1\n",
      "1ln1_DLP 7 4.186053200045016 1\n",
      "1ln1_DLP 8 4.538813968105411 0\n",
      "1ln1_DLP 9 5.424869718186608 0\n",
      "1ln1_DLP 10 6.096154588901272 0\n",
      "1ln1_DLP 11 5.5574600610245275 0\n",
      "1ln1_DLP 12 5.056865452738485 1\n",
      "1ln1_DLP 13 4.737721249561265 1\n",
      "1ln1_DLP 14 6.354480638468658 0\n",
      "1ln1_DLP 15 4.3455852736335885 1\n",
      "1ln1_DLP 16 4.588761890805901 1\n",
      "1ln1_DLP 17 4.680965486365404 0\n",
      "1ln1_DLP 18 5.629919631228522 1\n",
      "1ln1_DLP 19 4.832911539227641 2\n",
      "1ln1_DLP 20 6.418271732466377 1\n",
      "1ln1_DLP 21 5.938823528683873 1\n",
      "1ln1_DLP 22 5.613288207419579 1\n",
      "1ln1_DLP 23 5.64728330219514 0\n",
      "1ln1_DLP 24 4.9864470416995115 0\n",
      "1ln1_DLP 25 4.832693993725014 0\n",
      "1ln1_DLP 26 3.539573607975705 0\n",
      "1ln1_DLP 27 4.794511908788518 0\n",
      "1ln1_DLP 28 5.3598138362428696 1\n",
      "1ln1_DLP 29 5.736881369286873 0\n",
      "1ln1_DLP 30 3.89384290808997 0\n",
      "1ln1_DLP 31 6.275180021558809 1\n",
      "1ln1_DLP 32 4.6224436923849535 2\n",
      "1ln1_DLP 33 6.103356523382095 0\n",
      "1ln1_DLP 34 6.100416298801131 2\n",
      "1ln1_DLP 35 3.702280287885111 0\n",
      "1ln1_DLP 36 4.247469891629986 0\n",
      "1ln1_DLP 37 4.604080946930707 0\n",
      "1ln1_DLP 38 5.571848678687465 0\n",
      "1ln1_DLP 39 4.484159881885875 0\n",
      "1ln1_DLP 40 5.400354303348535 0\n",
      "1ln1_DLP 41 4.49325538456767 1\n",
      "1ln1_DLP 42 5.070815234585165 0\n",
      "1ln1_DLP 43 5.7415377515632136 1\n",
      "1ln1_DLP 44 5.603344464513078 1\n",
      "1ln1_DLP 45 6.028318002276759 0\n",
      "1ln1_DLP 46 4.557573507536784 0\n",
      "1ln1_DLP 47 5.085303541550977 0\n",
      "1ln1_DLP 48 5.726747608456522 0\n",
      "1ln1_DLP 49 4.439099855498052 0\n",
      "4csv_imatinib 0 3.6192490739818877 0\n",
      "4csv_imatinib 1 4.719066827601548 0\n",
      "4csv_imatinib 2 3.66868357465914 0\n",
      "4csv_imatinib 3 4.168686172566339 0\n",
      "4csv_imatinib 4 3.5094664279920567 0\n",
      "4csv_imatinib 5 2.477599690877028 0\n",
      "4csv_imatinib 6 3.856831409917595 0\n",
      "4csv_imatinib 7 2.590894285559431 0\n",
      "4csv_imatinib 8 3.24937100248153 0\n",
      "4csv_imatinib 9 3.9968077029038582 0\n",
      "4csv_imatinib 10 4.1335384824758235 0\n",
      "4csv_imatinib 11 3.6502696638190244 0\n",
      "4csv_imatinib 12 3.7603321870571285 0\n",
      "4csv_imatinib 13 3.325654231176442 0\n",
      "4csv_imatinib 14 3.459512071016596 0\n",
      "4csv_imatinib 15 2.5775667765478842 0\n",
      "4csv_imatinib 16 3.910335778151422 0\n",
      "4csv_imatinib 17 3.3212980898866937 0\n",
      "4csv_imatinib 18 4.1089315502246295 0\n",
      "4csv_imatinib 19 3.4701318733796405 0\n",
      "4csv_imatinib 20 3.2435049706393135 0\n",
      "4csv_imatinib 21 2.9841802914758104 0\n",
      "4csv_imatinib 22 3.828887354970028 0\n",
      "4csv_imatinib 23 4.251396431365012 0\n",
      "4csv_imatinib 24 3.4854641337694563 0\n",
      "4csv_imatinib 25 2.8478079191808443 0\n",
      "4csv_imatinib 26 2.7072080695803176 0\n",
      "4csv_imatinib 27 3.770912404098142 0\n",
      "4csv_imatinib 28 4.007591993899202 0\n",
      "4csv_imatinib 29 4.678482908439117 0\n",
      "4csv_imatinib 30 4.446177580661885 0\n",
      "4csv_imatinib 31 2.8094175518852125 0\n",
      "4csv_imatinib 32 4.940013707193188 0\n",
      "4csv_imatinib 33 3.324777926550509 0\n",
      "4csv_imatinib 34 4.169121630256718 0\n",
      "4csv_imatinib 35 3.7734294448561347 0\n",
      "4csv_imatinib 36 3.6487088990561287 0\n",
      "4csv_imatinib 37 2.3833216826655943 0\n",
      "4csv_imatinib 38 2.9058553422753968 0\n",
      "4csv_imatinib 39 4.067883203102837 0\n",
      "4csv_imatinib 40 4.765003405694079 0\n",
      "4csv_imatinib 41 3.593284387798313 0\n",
      "4csv_imatinib 42 3.5216135279675176 0\n",
      "4csv_imatinib 43 4.944052168834311 0\n",
      "4csv_imatinib 44 4.084655930273634 0\n",
      "4csv_imatinib 45 3.2989000167925884 0\n",
      "4csv_imatinib 46 2.1886828124918396 0\n",
      "4csv_imatinib 47 3.979796763055277 0\n",
      "4csv_imatinib 48 3.924654308196655 0\n",
      "4csv_imatinib 49 4.150593941313566 0\n",
      "5bvs_EIC 0 1.5183537385192407 0\n",
      "5bvs_EIC 1 2.930815917195436 0\n",
      "5bvs_EIC 2 2.425600029085225 0\n",
      "5bvs_EIC 3 1.623861178881444 0\n",
      "5bvs_EIC 4 2.4239367282492252 0\n",
      "5bvs_EIC 5 1.593201923005882 0\n",
      "5bvs_EIC 6 2.03761031306101 0\n",
      "5bvs_EIC 7 2.506859283228858 0\n",
      "5bvs_EIC 8 1.8988823960058971 0\n",
      "5bvs_EIC 9 1.4977552095307727 0\n",
      "5bvs_EIC 10 1.5312454555602033 0\n",
      "5bvs_EIC 11 2.2637481319141632 0\n",
      "5bvs_EIC 12 1.6064414161771978 0\n",
      "5bvs_EIC 13 1.477704985309436 0\n",
      "5bvs_EIC 14 2.006582515535621 0\n",
      "5bvs_EIC 15 1.992365368597008 0\n",
      "5bvs_EIC 16 3.0705090260286507 0\n",
      "5bvs_EIC 17 3.559559909409671 0\n",
      "5bvs_EIC 18 2.4502710754703014 0\n",
      "5bvs_EIC 19 1.6023998627617029 0\n",
      "5bvs_EIC 20 2.366111660969993 0\n",
      "5bvs_EIC 21 2.9065324556861416 0\n",
      "5bvs_EIC 22 3.865646069131158 0\n",
      "5bvs_EIC 23 2.8085879883902565 0\n",
      "5bvs_EIC 24 1.4813764368379065 0\n",
      "5bvs_EIC 25 1.884475045047981 0\n",
      "5bvs_EIC 26 1.927051734108996 0\n",
      "5bvs_EIC 27 2.9251303226963166 0\n",
      "5bvs_EIC 28 3.1123879229670632 0\n",
      "5bvs_EIC 29 2.9710041492233406 0\n",
      "5bvs_EIC 30 1.523410525867717 0\n",
      "5bvs_EIC 31 2.223538560095435 0\n",
      "5bvs_EIC 32 2.657311121981336 0\n",
      "5bvs_EIC 33 2.613124765531968 0\n",
      "5bvs_EIC 34 2.87479818242331 0\n",
      "5bvs_EIC 35 3.515770550480297 0\n",
      "5bvs_EIC 36 2.40879591008307 0\n",
      "5bvs_EIC 37 1.5910981294733642 0\n",
      "5bvs_EIC 38 1.66328152646278 0\n",
      "5bvs_EIC 39 1.5724650820115833 0\n",
      "5bvs_EIC 40 1.6753602823123814 0\n",
      "5bvs_EIC 41 2.5861920572870556 0\n",
      "5bvs_EIC 42 2.5670716981829726 0\n",
      "5bvs_EIC 43 3.521607630465584 0\n",
      "5bvs_EIC 44 2.605124541385046 0\n",
      "5bvs_EIC 45 2.80098158826101 0\n",
      "5bvs_EIC 46 2.908958211296107 0\n",
      "5bvs_EIC 47 2.170103958647188 0\n",
      "5bvs_EIC 48 1.833884621033128 0\n",
      "5bvs_EIC 49 2.1670420618962143 0\n",
      "6ln3_ATP 0 2.280800073941684 3\n",
      "6ln3_ATP 1 2.967859024828305 2\n",
      "6ln3_ATP 2 2.7201282220181366 2\n",
      "6ln3_ATP 3 2.15096641212881 2\n",
      "6ln3_ATP 4 2.024943708830344 1\n",
      "6ln3_ATP 5 2.0900536842423736 1\n",
      "6ln3_ATP 6 2.2374297879244085 0\n",
      "6ln3_ATP 7 2.001359989332246 2\n",
      "6ln3_ATP 8 2.236100803451297 0\n",
      "6ln3_ATP 9 2.0239391107987434 1\n",
      "6ln3_ATP 10 2.476260907844085 1\n",
      "6ln3_ATP 11 2.150382774859734 3\n",
      "6ln3_ATP 12 2.241952788876712 1\n",
      "6ln3_ATP 13 3.140086571355134 2\n",
      "6ln3_ATP 14 2.143388685452956 2\n",
      "6ln3_ATP 15 2.157176598291946 0\n",
      "6ln3_ATP 16 2.77283812828021 1\n",
      "6ln3_ATP 17 3.1571517348929685 2\n",
      "6ln3_ATP 18 2.6056050159085697 0\n",
      "6ln3_ATP 19 2.1053082585595337 2\n",
      "6ln3_ATP 20 2.19076548812771 0\n",
      "6ln3_ATP 21 3.2626573347540746 0\n",
      "6ln3_ATP 22 2.7700185658219367 1\n",
      "6ln3_ATP 23 3.1079425084385206 1\n",
      "6ln3_ATP 24 2.851766226516626 0\n",
      "6ln3_ATP 25 2.7126165150814896 1\n",
      "6ln3_ATP 26 2.561632889125947 1\n",
      "6ln3_ATP 27 1.9167948833648476 2\n",
      "6ln3_ATP 28 3.3294419496301986 0\n",
      "6ln3_ATP 29 2.8860767193869217 0\n",
      "6ln3_ATP 30 2.8554468199307546 3\n",
      "6ln3_ATP 31 2.4441305407856326 1\n",
      "6ln3_ATP 32 1.7403558140413893 2\n",
      "6ln3_ATP 33 2.5933631824946213 3\n",
      "6ln3_ATP 34 2.35736564422526 3\n",
      "6ln3_ATP 35 2.3905000009544435 1\n",
      "6ln3_ATP 36 2.667221173421315 1\n",
      "6ln3_ATP 37 2.0363076856665248 1\n",
      "6ln3_ATP 38 3.073684111387801 1\n",
      "6ln3_ATP 39 2.8565537844626556 2\n",
      "6ln3_ATP 40 2.3472321477297893 0\n",
      "6ln3_ATP 41 2.3808532558244773 1\n",
      "6ln3_ATP 42 2.6055187454417252 3\n",
      "6ln3_ATP 43 1.6798136449603662 2\n",
      "6ln3_ATP 44 1.9415791915324563 1\n",
      "6ln3_ATP 45 2.8177934280149692 0\n",
      "6ln3_ATP 46 2.3261796959646923 2\n",
      "6ln3_ATP 47 2.641405015841765 3\n",
      "6ln3_ATP 48 1.830452390905184 2\n",
      "6ln3_ATP 49 2.2476281588765747 2\n",
      "No valid assignment found\n",
      "6y13_stapledHelix 0 10000000000.0 10000000000.0\n",
      "No valid assignment found\n",
      "6y13_stapledHelix 1 10000000000.0 10000000000.0\n",
      "No valid assignment found\n",
      "6y13_stapledHelix 2 10000000000.0 10000000000.0\n",
      "No valid assignment found\n",
      "6y13_stapledHelix 3 10000000000.0 10000000000.0\n",
      "No valid assignment found\n",
      "6y13_stapledHelix 4 10000000000.0 10000000000.0\n",
      "No valid assignment found\n",
      "6y13_stapledHelix 5 10000000000.0 10000000000.0\n",
      "No valid assignment found\n",
      "6y13_stapledHelix 6 10000000000.0 10000000000.0\n",
      "No valid assignment found\n",
      "6y13_stapledHelix 7 10000000000.0 10000000000.0\n",
      "No valid assignment found\n",
      "6y13_stapledHelix 8 10000000000.0 10000000000.0\n",
      "No valid assignment found\n",
      "6y13_stapledHelix 9 10000000000.0 10000000000.0\n",
      "No valid assignment found\n",
      "6y13_stapledHelix 10 10000000000.0 10000000000.0\n",
      "No valid assignment found\n",
      "6y13_stapledHelix 11 10000000000.0 10000000000.0\n",
      "No valid assignment found\n",
      "6y13_stapledHelix 12 10000000000.0 10000000000.0\n",
      "No valid assignment found\n",
      "6y13_stapledHelix 13 10000000000.0 10000000000.0\n",
      "No valid assignment found\n",
      "6y13_stapledHelix 14 10000000000.0 10000000000.0\n",
      "No valid assignment found\n",
      "6y13_stapledHelix 15 10000000000.0 10000000000.0\n",
      "No valid assignment found\n",
      "6y13_stapledHelix 16 10000000000.0 10000000000.0\n",
      "No valid assignment found\n",
      "6y13_stapledHelix 17 10000000000.0 10000000000.0\n",
      "No valid assignment found\n",
      "6y13_stapledHelix 18 10000000000.0 10000000000.0\n",
      "No valid assignment found\n",
      "6y13_stapledHelix 19 10000000000.0 10000000000.0\n",
      "No valid assignment found\n",
      "6y13_stapledHelix 20 10000000000.0 10000000000.0\n",
      "No valid assignment found\n",
      "6y13_stapledHelix 21 10000000000.0 10000000000.0\n",
      "No valid assignment found\n",
      "6y13_stapledHelix 22 10000000000.0 10000000000.0\n",
      "No valid assignment found\n",
      "6y13_stapledHelix 23 10000000000.0 10000000000.0\n",
      "No valid assignment found\n",
      "6y13_stapledHelix 24 10000000000.0 10000000000.0\n",
      "No valid assignment found\n",
      "6y13_stapledHelix 25 10000000000.0 10000000000.0\n",
      "No valid assignment found\n",
      "6y13_stapledHelix 26 10000000000.0 10000000000.0\n",
      "No valid assignment found\n",
      "6y13_stapledHelix 27 10000000000.0 10000000000.0\n",
      "No valid assignment found\n",
      "6y13_stapledHelix 28 10000000000.0 10000000000.0\n",
      "No valid assignment found\n",
      "6y13_stapledHelix 29 10000000000.0 10000000000.0\n",
      "No valid assignment found\n",
      "6y13_stapledHelix 30 10000000000.0 10000000000.0\n",
      "No valid assignment found\n",
      "6y13_stapledHelix 31 10000000000.0 10000000000.0\n",
      "No valid assignment found\n",
      "6y13_stapledHelix 32 10000000000.0 10000000000.0\n",
      "No valid assignment found\n",
      "6y13_stapledHelix 33 10000000000.0 10000000000.0\n",
      "No valid assignment found\n",
      "6y13_stapledHelix 34 10000000000.0 10000000000.0\n",
      "No valid assignment found\n",
      "6y13_stapledHelix 35 10000000000.0 10000000000.0\n",
      "No valid assignment found\n",
      "6y13_stapledHelix 36 10000000000.0 10000000000.0\n",
      "No valid assignment found\n",
      "6y13_stapledHelix 37 10000000000.0 10000000000.0\n",
      "No valid assignment found\n",
      "6y13_stapledHelix 38 10000000000.0 10000000000.0\n",
      "No valid assignment found\n",
      "6y13_stapledHelix 39 10000000000.0 10000000000.0\n",
      "No valid assignment found\n",
      "6y13_stapledHelix 40 10000000000.0 10000000000.0\n",
      "No valid assignment found\n",
      "6y13_stapledHelix 41 10000000000.0 10000000000.0\n",
      "No valid assignment found\n",
      "6y13_stapledHelix 42 10000000000.0 10000000000.0\n",
      "No valid assignment found\n",
      "6y13_stapledHelix 43 10000000000.0 10000000000.0\n",
      "No valid assignment found\n",
      "6y13_stapledHelix 44 10000000000.0 10000000000.0\n",
      "No valid assignment found\n",
      "6y13_stapledHelix 45 10000000000.0 10000000000.0\n",
      "No valid assignment found\n",
      "6y13_stapledHelix 46 10000000000.0 10000000000.0\n",
      "No valid assignment found\n",
      "6y13_stapledHelix 47 10000000000.0 10000000000.0\n",
      "No valid assignment found\n",
      "6y13_stapledHelix 48 10000000000.0 10000000000.0\n",
      "No valid assignment found\n",
      "6y13_stapledHelix 49 10000000000.0 10000000000.0\n",
      "No valid assignment found\n",
      "8w4x_BGC 0 10000000000.0 10000000000.0\n",
      "No valid assignment found\n",
      "8w4x_BGC 1 10000000000.0 10000000000.0\n",
      "No valid assignment found\n",
      "8w4x_BGC 2 10000000000.0 10000000000.0\n",
      "No valid assignment found\n",
      "8w4x_BGC 3 10000000000.0 10000000000.0\n",
      "No valid assignment found\n",
      "8w4x_BGC 4 10000000000.0 10000000000.0\n",
      "No valid assignment found\n",
      "8w4x_BGC 5 10000000000.0 10000000000.0\n",
      "No valid assignment found\n",
      "8w4x_BGC 6 10000000000.0 10000000000.0\n",
      "No valid assignment found\n",
      "8w4x_BGC 7 10000000000.0 10000000000.0\n",
      "No valid assignment found\n",
      "8w4x_BGC 8 10000000000.0 10000000000.0\n",
      "No valid assignment found\n",
      "8w4x_BGC 9 10000000000.0 10000000000.0\n",
      "No valid assignment found\n",
      "8w4x_BGC 10 10000000000.0 10000000000.0\n",
      "No valid assignment found\n",
      "8w4x_BGC 11 10000000000.0 10000000000.0\n",
      "No valid assignment found\n",
      "8w4x_BGC 12 10000000000.0 10000000000.0\n",
      "No valid assignment found\n",
      "8w4x_BGC 13 10000000000.0 10000000000.0\n",
      "No valid assignment found\n",
      "8w4x_BGC 14 10000000000.0 10000000000.0\n",
      "No valid assignment found\n",
      "8w4x_BGC 15 10000000000.0 10000000000.0\n",
      "No valid assignment found\n",
      "8w4x_BGC 16 10000000000.0 10000000000.0\n",
      "No valid assignment found\n",
      "8w4x_BGC 17 10000000000.0 10000000000.0\n",
      "No valid assignment found\n",
      "8w4x_BGC 18 10000000000.0 10000000000.0\n",
      "No valid assignment found\n",
      "8w4x_BGC 19 10000000000.0 10000000000.0\n",
      "No valid assignment found\n",
      "8w4x_BGC 20 10000000000.0 10000000000.0\n",
      "No valid assignment found\n",
      "8w4x_BGC 21 10000000000.0 10000000000.0\n",
      "No valid assignment found\n",
      "8w4x_BGC 22 10000000000.0 10000000000.0\n",
      "No valid assignment found\n",
      "8w4x_BGC 23 10000000000.0 10000000000.0\n",
      "No valid assignment found\n",
      "8w4x_BGC 24 10000000000.0 10000000000.0\n",
      "No valid assignment found\n",
      "8w4x_BGC 25 10000000000.0 10000000000.0\n",
      "No valid assignment found\n",
      "8w4x_BGC 26 10000000000.0 10000000000.0\n",
      "No valid assignment found\n",
      "8w4x_BGC 27 10000000000.0 10000000000.0\n",
      "No valid assignment found\n",
      "8w4x_BGC 28 10000000000.0 10000000000.0\n",
      "No valid assignment found\n",
      "8w4x_BGC 29 10000000000.0 10000000000.0\n",
      "No valid assignment found\n",
      "8w4x_BGC 30 10000000000.0 10000000000.0\n",
      "No valid assignment found\n",
      "8w4x_BGC 31 10000000000.0 10000000000.0\n",
      "No valid assignment found\n",
      "8w4x_BGC 32 10000000000.0 10000000000.0\n",
      "No valid assignment found\n",
      "8w4x_BGC 33 10000000000.0 10000000000.0\n",
      "No valid assignment found\n",
      "8w4x_BGC 34 10000000000.0 10000000000.0\n",
      "No valid assignment found\n",
      "8w4x_BGC 35 10000000000.0 10000000000.0\n",
      "No valid assignment found\n",
      "8w4x_BGC 36 10000000000.0 10000000000.0\n",
      "No valid assignment found\n",
      "8w4x_BGC 37 10000000000.0 10000000000.0\n",
      "No valid assignment found\n",
      "8w4x_BGC 38 10000000000.0 10000000000.0\n",
      "No valid assignment found\n",
      "8w4x_BGC 39 10000000000.0 10000000000.0\n",
      "No valid assignment found\n",
      "8w4x_BGC 40 10000000000.0 10000000000.0\n",
      "No valid assignment found\n",
      "8w4x_BGC 41 10000000000.0 10000000000.0\n",
      "No valid assignment found\n",
      "8w4x_BGC 42 10000000000.0 10000000000.0\n",
      "No valid assignment found\n",
      "8w4x_BGC 43 10000000000.0 10000000000.0\n",
      "No valid assignment found\n",
      "8w4x_BGC 44 10000000000.0 10000000000.0\n",
      "No valid assignment found\n",
      "8w4x_BGC 45 10000000000.0 10000000000.0\n",
      "No valid assignment found\n",
      "8w4x_BGC 46 10000000000.0 10000000000.0\n",
      "No valid assignment found\n",
      "8w4x_BGC 47 10000000000.0 10000000000.0\n",
      "No valid assignment found\n",
      "8w4x_BGC 48 10000000000.0 10000000000.0\n",
      "No valid assignment found\n",
      "8w4x_BGC 49 10000000000.0 10000000000.0\n",
      "No valid assignment found\n",
      "8w4x_BGCGLC 0 10000000000.0 10000000000.0\n",
      "No valid assignment found\n",
      "8w4x_BGCGLC 1 10000000000.0 10000000000.0\n",
      "No valid assignment found\n",
      "8w4x_BGCGLC 2 10000000000.0 10000000000.0\n",
      "No valid assignment found\n",
      "8w4x_BGCGLC 3 10000000000.0 10000000000.0\n",
      "No valid assignment found\n",
      "8w4x_BGCGLC 4 10000000000.0 10000000000.0\n",
      "No valid assignment found\n",
      "8w4x_BGCGLC 5 10000000000.0 10000000000.0\n",
      "No valid assignment found\n",
      "8w4x_BGCGLC 6 10000000000.0 10000000000.0\n",
      "No valid assignment found\n",
      "8w4x_BGCGLC 7 10000000000.0 10000000000.0\n",
      "No valid assignment found\n",
      "8w4x_BGCGLC 8 10000000000.0 10000000000.0\n",
      "No valid assignment found\n",
      "8w4x_BGCGLC 9 10000000000.0 10000000000.0\n",
      "No valid assignment found\n",
      "8w4x_BGCGLC 10 10000000000.0 10000000000.0\n",
      "No valid assignment found\n",
      "8w4x_BGCGLC 11 10000000000.0 10000000000.0\n",
      "No valid assignment found\n",
      "8w4x_BGCGLC 12 10000000000.0 10000000000.0\n",
      "No valid assignment found\n",
      "8w4x_BGCGLC 13 10000000000.0 10000000000.0\n",
      "No valid assignment found\n",
      "8w4x_BGCGLC 14 10000000000.0 10000000000.0\n",
      "No valid assignment found\n",
      "8w4x_BGCGLC 15 10000000000.0 10000000000.0\n",
      "No valid assignment found\n",
      "8w4x_BGCGLC 16 10000000000.0 10000000000.0\n",
      "No valid assignment found\n",
      "8w4x_BGCGLC 17 10000000000.0 10000000000.0\n",
      "No valid assignment found\n",
      "8w4x_BGCGLC 18 10000000000.0 10000000000.0\n",
      "No valid assignment found\n",
      "8w4x_BGCGLC 19 10000000000.0 10000000000.0\n",
      "No valid assignment found\n",
      "8w4x_BGCGLC 20 10000000000.0 10000000000.0\n",
      "No valid assignment found\n",
      "8w4x_BGCGLC 21 10000000000.0 10000000000.0\n",
      "No valid assignment found\n",
      "8w4x_BGCGLC 22 10000000000.0 10000000000.0\n",
      "No valid assignment found\n",
      "8w4x_BGCGLC 23 10000000000.0 10000000000.0\n",
      "No valid assignment found\n",
      "8w4x_BGCGLC 24 10000000000.0 10000000000.0\n",
      "No valid assignment found\n",
      "8w4x_BGCGLC 25 10000000000.0 10000000000.0\n",
      "No valid assignment found\n",
      "8w4x_BGCGLC 26 10000000000.0 10000000000.0\n",
      "No valid assignment found\n",
      "8w4x_BGCGLC 27 10000000000.0 10000000000.0\n",
      "No valid assignment found\n",
      "8w4x_BGCGLC 28 10000000000.0 10000000000.0\n",
      "No valid assignment found\n",
      "8w4x_BGCGLC 29 10000000000.0 10000000000.0\n",
      "No valid assignment found\n",
      "8w4x_BGCGLC 30 10000000000.0 10000000000.0\n",
      "No valid assignment found\n",
      "8w4x_BGCGLC 31 10000000000.0 10000000000.0\n",
      "No valid assignment found\n",
      "8w4x_BGCGLC 32 10000000000.0 10000000000.0\n",
      "No valid assignment found\n",
      "8w4x_BGCGLC 33 10000000000.0 10000000000.0\n",
      "No valid assignment found\n",
      "8w4x_BGCGLC 34 10000000000.0 10000000000.0\n",
      "No valid assignment found\n",
      "8w4x_BGCGLC 35 10000000000.0 10000000000.0\n",
      "No valid assignment found\n",
      "8w4x_BGCGLC 36 10000000000.0 10000000000.0\n",
      "No valid assignment found\n",
      "8w4x_BGCGLC 37 10000000000.0 10000000000.0\n",
      "No valid assignment found\n",
      "8w4x_BGCGLC 38 10000000000.0 10000000000.0\n",
      "No valid assignment found\n",
      "8w4x_BGCGLC 39 10000000000.0 10000000000.0\n",
      "No valid assignment found\n",
      "8w4x_BGCGLC 40 10000000000.0 10000000000.0\n",
      "No valid assignment found\n",
      "8w4x_BGCGLC 41 10000000000.0 10000000000.0\n",
      "No valid assignment found\n",
      "8w4x_BGCGLC 42 10000000000.0 10000000000.0\n",
      "No valid assignment found\n",
      "8w4x_BGCGLC 43 10000000000.0 10000000000.0\n",
      "No valid assignment found\n",
      "8w4x_BGCGLC 44 10000000000.0 10000000000.0\n",
      "No valid assignment found\n",
      "8w4x_BGCGLC 45 10000000000.0 10000000000.0\n",
      "No valid assignment found\n",
      "8w4x_BGCGLC 46 10000000000.0 10000000000.0\n",
      "No valid assignment found\n",
      "8w4x_BGCGLC 47 10000000000.0 10000000000.0\n",
      "No valid assignment found\n",
      "8w4x_BGCGLC 48 10000000000.0 10000000000.0\n",
      "No valid assignment found\n",
      "8w4x_BGCGLC 49 10000000000.0 10000000000.0\n",
      "No valid assignment found\n",
      "215d_DNA 0 10000000000.0 10000000000.0\n",
      "No valid assignment found\n",
      "215d_DNA 1 10000000000.0 10000000000.0\n",
      "No valid assignment found\n",
      "215d_DNA 2 10000000000.0 10000000000.0\n",
      "No valid assignment found\n",
      "215d_DNA 3 10000000000.0 10000000000.0\n",
      "No valid assignment found\n",
      "215d_DNA 4 10000000000.0 10000000000.0\n",
      "No valid assignment found\n",
      "215d_DNA 5 10000000000.0 10000000000.0\n",
      "No valid assignment found\n",
      "215d_DNA 6 10000000000.0 10000000000.0\n",
      "No valid assignment found\n",
      "215d_DNA 7 10000000000.0 10000000000.0\n",
      "No valid assignment found\n",
      "215d_DNA 8 10000000000.0 10000000000.0\n",
      "No valid assignment found\n",
      "215d_DNA 9 10000000000.0 10000000000.0\n",
      "No valid assignment found\n",
      "215d_DNA 10 10000000000.0 10000000000.0\n",
      "No valid assignment found\n",
      "215d_DNA 11 10000000000.0 10000000000.0\n",
      "No valid assignment found\n",
      "215d_DNA 12 10000000000.0 10000000000.0\n",
      "No valid assignment found\n",
      "215d_DNA 13 10000000000.0 10000000000.0\n",
      "No valid assignment found\n",
      "215d_DNA 14 10000000000.0 10000000000.0\n",
      "No valid assignment found\n",
      "215d_DNA 15 10000000000.0 10000000000.0\n",
      "No valid assignment found\n",
      "215d_DNA 16 10000000000.0 10000000000.0\n",
      "No valid assignment found\n",
      "215d_DNA 17 10000000000.0 10000000000.0\n",
      "No valid assignment found\n",
      "215d_DNA 18 10000000000.0 10000000000.0\n",
      "No valid assignment found\n",
      "215d_DNA 19 10000000000.0 10000000000.0\n",
      "No valid assignment found\n",
      "215d_DNA 20 10000000000.0 10000000000.0\n",
      "No valid assignment found\n",
      "215d_DNA 21 10000000000.0 10000000000.0\n",
      "No valid assignment found\n",
      "215d_DNA 22 10000000000.0 10000000000.0\n",
      "No valid assignment found\n",
      "215d_DNA 23 10000000000.0 10000000000.0\n",
      "No valid assignment found\n",
      "215d_DNA 24 10000000000.0 10000000000.0\n",
      "No valid assignment found\n",
      "215d_DNA 25 10000000000.0 10000000000.0\n",
      "No valid assignment found\n",
      "215d_DNA 26 10000000000.0 10000000000.0\n",
      "No valid assignment found\n",
      "215d_DNA 27 10000000000.0 10000000000.0\n",
      "No valid assignment found\n",
      "215d_DNA 28 10000000000.0 10000000000.0\n",
      "No valid assignment found\n",
      "215d_DNA 29 10000000000.0 10000000000.0\n",
      "No valid assignment found\n",
      "215d_DNA 30 10000000000.0 10000000000.0\n",
      "No valid assignment found\n",
      "215d_DNA 31 10000000000.0 10000000000.0\n",
      "No valid assignment found\n",
      "215d_DNA 32 10000000000.0 10000000000.0\n",
      "No valid assignment found\n",
      "215d_DNA 33 10000000000.0 10000000000.0\n",
      "No valid assignment found\n",
      "215d_DNA 34 10000000000.0 10000000000.0\n",
      "No valid assignment found\n",
      "215d_DNA 35 10000000000.0 10000000000.0\n",
      "No valid assignment found\n",
      "215d_DNA 36 10000000000.0 10000000000.0\n",
      "No valid assignment found\n",
      "215d_DNA 37 10000000000.0 10000000000.0\n",
      "No valid assignment found\n",
      "215d_DNA 38 10000000000.0 10000000000.0\n",
      "No valid assignment found\n",
      "215d_DNA 39 10000000000.0 10000000000.0\n",
      "No valid assignment found\n",
      "215d_DNA 40 10000000000.0 10000000000.0\n",
      "No valid assignment found\n",
      "215d_DNA 41 10000000000.0 10000000000.0\n",
      "No valid assignment found\n",
      "215d_DNA 42 10000000000.0 10000000000.0\n",
      "No valid assignment found\n",
      "215d_DNA 43 10000000000.0 10000000000.0\n",
      "No valid assignment found\n",
      "215d_DNA 44 10000000000.0 10000000000.0\n",
      "No valid assignment found\n",
      "215d_DNA 45 10000000000.0 10000000000.0\n",
      "No valid assignment found\n",
      "215d_DNA 46 10000000000.0 10000000000.0\n",
      "No valid assignment found\n",
      "215d_DNA 47 10000000000.0 10000000000.0\n",
      "No valid assignment found\n",
      "215d_DNA 48 10000000000.0 10000000000.0\n",
      "No valid assignment found\n",
      "215d_DNA 49 10000000000.0 10000000000.0\n"
     ]
    }
   ],
   "source": [
    "data_path = \"../Data/first_8_molecules_RDKIT\"\n",
    "lig_list = ['1ln1_DLP', '4csv_imatinib', '5bvs_EIC', '6ln3_ATP', '6y13_stapledHelix', '8w4x_BGC', '8w4x_BGCGLC', '215d_DNA']\n",
    "for ligand in lig_list:\n",
    "    result = []\n",
    "    for i in range(50):\n",
    "        path1 = os.path.join(data_path, 'extra_bio_ligands', ligand+'.pdb')\n",
    "        path2 = os.path.join(data_path, 'extra_bio_ligands_RDKIT', ligand, ligand+'_conf'+str(i)+'.pdb')\n",
    "        molA = MolFromPDBFile(path1, removeHs=True, sanitize=False)\n",
    "        molB = MolFromPDBFile(path2, removeHs=True, sanitize=False)\n",
    "        X_A, T_A, B_A = otm.tl.process_rdkit_mol(molA, heavy_atoms_only=True)\n",
    "        X_B, T_B, B_B = otm.tl.process_rdkit_mol(molB, heavy_atoms_only=True)\n",
    "        optimal_assignment, rmsd_best, alpha_best, mismatched_bond_best = otm.tl.molecule_alignment(\n",
    "            X_A, X_B, T_A, T_B, B_A, B_B, \n",
    "            alpha_list = np.linspace(0, 1, 201)[1:], \n",
    "            cst_D = 1,\n",
    "            count_mismatched_bond = True)  \n",
    "        print(ligand, i, rmsd_best, mismatched_bond_best)\n",
    "        result.append({\n",
    "            'nameA': ligand,\n",
    "            'nameB': ligand+'_conf'+str(i),\n",
    "            'RMSD(OTMol)': rmsd_best,\n",
    "            'alpha': alpha_best,\n",
    "            'mismatch_bond': mismatched_bond_best,\n",
    "            'assignment': optimal_assignment,\n",
    "        })\n",
    "    pd.DataFrame(result).to_csv(('./otmol_output/{}_result.csv'.format(ligand)), index=False)"
   ]
  },
  {
   "cell_type": "code",
   "execution_count": 6,
   "metadata": {},
   "outputs": [
    {
     "data": {
      "image/png": "[encoded data removed]",
      "text/plain": [
       "<Figure size 720x360 with 1 Axes>"
      ]
     },
     "metadata": {
      "needs_background": "light"
     },
     "output_type": "display_data"
    }
   ],
   "source": [
    "arbalign_res = pd.read_csv('./arbalign_output/1ln1_DLP_result.csv')\n",
    "otmol_res = pd.read_csv('./otmol_output/1ln1_DLP_result.csv')\n",
    "\n",
    "combined_df = pd.concat([\n",
    "    arbalign_res.rename(columns={'RMSD(ArbAlign)': 'ArbAlign'}), \n",
    "    otmol_res.rename(columns={'RMSD(OTMol)': 'OTMol'}), \n",
    "    ], axis=1)\n",
    "plt.figure(figsize=(10,5))\n",
    "sns.set_style(\"whitegrid\")\n",
    "sns.set_context(\"paper\", font_scale=1.2)\n",
    "sns.set_palette(\"Set2\")\n",
    "plt.plot(range(0,50), combined_df[\"OTMol\"], marker='o', label=\"OTMol\", clip_on=False, zorder=10)\n",
    "plt.plot(range(0,50), combined_df[\"ArbAlign\"], marker='o', label=\"ArbAlign\", clip_on=False, zorder=10)\n",
    "plt.title(\"1ln1_DLP\")\n",
    "plt.xlabel(\"\")\n",
    "plt.ylabel(\"RMSD Values\")\n",
    "#plt.ylim(0, 2)\n",
    "plt.xticks(range(0,50))\n",
    "#plt.xlim(2,20)\n",
    "plt.legend()\n",
    "plt.grid(True)\n",
    "#plt.savefig('../images/S1MAW1_element_name.png', dpi=300, bbox_inches='tight')"
   ]
  },
  {
   "cell_type": "code",
   "execution_count": 15,
   "metadata": {},
   "outputs": [
    {
     "data": {
      "application/3dmoljs_load.v0": "<div id=\"3dmolviewer_1751567055559571\"  style=\"position: relative; width: 800px; height: 600px;\">\n        <p id=\"3dmolwarning_1751567055559571\" style=\"background-color:#ffcccc;color:black\">3Dmol.js failed to load for some reason.  Please check your browser console for error messages.<br></p>\n        </div>\n<script>\n\nvar loadScriptAsync = function(uri){\n  return new Promise((resolve, reject) => {\n    //this is to ignore the existence of requirejs amd\n    var savedexports, savedmodule;\n    if (typeof exports !== 'undefined') savedexports = exports;\n    else exports = {}\n    if (typeof module !== 'undefined') savedmodule = module;\n    else module = {}\n\n    var tag = document.createElement('script');\n    tag.src = uri;\n    tag.async = true;\n    tag.onload = () => {\n        exports = savedexports;\n        module = savedmodule;\n        resolve();\n    };\n  var firstScriptTag = document.getElementsByTagName('script')[0];\n  firstScriptTag.parentNode.insertBefore(tag, firstScriptTag);\n});\n};\n\nif(typeof $3Dmolpromise === 'undefined') {\n$3Dmolpromise = null;\n  $3Dmolpromise = loadScriptAsync('https://cdnjs.cloudflare.com/ajax/libs/3Dmol/2.4.2/3Dmol-min.js');\n}\n\nvar viewer_1751567055559571 = null;\nvar warn = document.getElementById(\"3dmolwarning_1751567055559571\");\nif(warn) {\n    warn.parentNode.removeChild(warn);\n}\n$3Dmolpromise.then(function() {\nviewer_1751567055559571 = $3Dmol.createViewer(document.getElementById(\"3dmolviewer_1751567055559571\"),{backgroundColor:\"white\"});\nviewer_1751567055559571.zoomTo();\n\tviewer_1751567055559571.addModel(\"54\\n\\nC   49.370   49.704   19.914\\nC   50.801   50.050   19.475\\nC   51.897   49.650   20.467\\nC   46.906   52.377   18.504\\nC   46.235   53.471   17.688\\nC   48.256   54.033   16.440\\nC   46.060   54.690   15.660\\nC   46.673   52.443   15.516\\nC   54.378   49.296   19.855\\nC   55.618   49.789   19.072\\nC   55.285   50.079   17.579\\nC   55.721   51.480   17.084\\nC   55.484   51.746   15.572\\nC   56.675   51.303   14.715\\nC   56.289   50.836   13.325\\nC   55.649   49.407   13.279\\nC   54.665   49.197   12.075\\nC   54.223   47.965   11.681\\nC   54.669   46.707   12.387\\nC   53.888   46.625   13.712\\nC   53.719   45.490   14.410\\nC   54.275   44.139   13.958\\nC   53.886   43.033   14.920\\nC   54.844   42.998   16.082\\nC   54.823   41.663   16.782\\nC   54.180   41.683   18.179\\nC   50.650   50.248   16.802\\nC   51.097   49.697   15.450\\nC   50.090   48.745   14.792\\nC   50.448   47.303   15.066\\nC   49.586   46.708   16.170\\nC   49.414   45.190   16.022\\nC   49.978   44.382   17.184\\nC   49.787   45.069   18.496\\nC   51.095   45.202   19.251\\nC   51.130   45.626   20.532\\nC   49.843   45.863   21.265\\nC   49.549   44.624   22.053\\nC   49.189   44.694   23.327\\nC   49.074   46.039   24.004\\nC   47.789   46.744   23.668\\nC   46.978   46.989   24.920\\nC   46.783   45.728   25.729\\nC   45.310   45.386   25.923\\nN   46.815   53.638   16.331\\nO   51.076   49.603   18.067\\nO   53.125   50.072   19.761\\nO   54.436   48.242   20.545\\nO   49.947   51.303   16.836\\nO   46.234   49.831   20.358\\nO   47.613   51.318   21.844\\nO   48.444   50.766   19.453\\nO   46.391   52.233   19.823\\nP   47.174   51.040   20.400\\n\",\"xyz\");\n\tviewer_1751567055559571.addModel(\"54\\n\\nC   49.124   51.495   19.538\\nC   50.156   51.254   20.562\\nC   51.389   52.184   20.281\\nC   48.551   52.280   14.818\\nC   48.844   52.070   13.374\\nC   51.208   51.915   13.033\\nC   49.705   50.616   11.742\\nC   50.093   50.131   14.031\\nC   52.778   52.680   18.566\\nC   53.394   52.313   17.245\\nC   54.683   53.044   17.174\\nC   55.504   53.125   15.992\\nC   55.986   52.016   15.177\\nC   54.893   51.315   14.380\\nC   55.538   50.275   13.475\\nC   56.143   49.102   14.146\\nC   55.083   48.166   14.726\\nC   55.645   46.987   15.440\\nC   54.638   45.965   15.845\\nC   53.492   46.456   16.682\\nC   52.570   45.313   17.051\\nC   51.984   44.565   15.916\\nC   51.118   45.298   14.961\\nC   49.902   45.913   15.598\\nC   49.045   46.610   14.534\\nC   48.580   45.605   13.498\\nC   50.077   50.709   22.881\\nC   49.084   49.780   23.531\\nC   48.654   48.618   22.644\\nC   49.831   47.787   22.273\\nC   49.476   46.592   21.458\\nC   48.788   46.832   20.167\\nC   48.664   45.479   19.459\\nC   47.952   44.453   20.260\\nC   47.835   43.149   19.461\\nC   47.135   42.102   20.218\\nC   47.709   41.557   21.463\\nC   48.932   40.747   21.429\\nC   50.242   41.157   20.983\\nC   50.974   42.251   21.741\\nC   52.342   42.319   21.043\\nC   53.333   43.212   21.651\\nC   53.078   44.663   21.738\\nC   52.924   45.331   20.389\\nN   49.928   51.197   13.068\\nO   49.725   51.402   21.808\\nO   51.621   52.067   18.905\\nO   52.235   54.040   18.193\\nO   50.612   51.544   23.851\\nO   46.828   51.647   17.786\\nO   49.261   52.848   17.251\\nO   49.647   51.385   18.279\\nO   48.212   51.156   15.529\\nP   48.370   51.421   17.159\\n\",\"xyz\");\n\tviewer_1751567055559571.setStyle({\"model\": 0},{\"stick\": {\"radius\": 0.06, \"color\": \"#DC2626\"}, \"sphere\": {\"radius\": 0.15, \"color\": \"#DC2626\"}});\n\tviewer_1751567055559571.setStyle({\"model\": 1},{\"stick\": {\"radius\": 0.06, \"color\": \"#2563EB\"}, \"sphere\": {\"radius\": 0.15, \"color\": \"#2563EB\"}});\n\tviewer_1751567055559571.addCylinder({\"start\": {\"x\": 49.37, \"y\": 49.704, \"z\": 19.914}, \"end\": {\"x\": 49.124358416023064, \"y\": 51.495329760004985, \"z\": 19.5379900283683}, \"color\": \"green\", \"radius\": 0.03, \"dashed\": false});\n\tviewer_1751567055559571.addCylinder({\"start\": {\"x\": 50.801, \"y\": 50.05, \"z\": 19.475}, \"end\": {\"x\": 50.156192038962274, \"y\": 51.254247908870894, \"z\": 20.56204076716297}, \"color\": \"green\", \"radius\": 0.03, \"dashed\": false});\n\tviewer_1751567055559571.addCylinder({\"start\": {\"x\": 51.897, \"y\": 49.65, \"z\": 20.467}, \"end\": {\"x\": 51.38907381545553, \"y\": 52.18352538995728, \"z\": 20.280731527470117}, \"color\": \"green\", \"radius\": 0.03, \"dashed\": false});\n\tviewer_1751567055559571.addCylinder({\"start\": {\"x\": 46.906, \"y\": 52.377, \"z\": 18.504}, \"end\": {\"x\": 48.550701712804496, \"y\": 52.28005498674434, \"z\": 14.818118705400765}, \"color\": \"green\", \"radius\": 0.03, \"dashed\": false});\n\tviewer_1751567055559571.addCylinder({\"start\": {\"x\": 46.235, \"y\": 53.471, \"z\": 17.688}, \"end\": {\"x\": 48.84439533478875, \"y\": 52.06997275198975, \"z\": 13.374169775886191}, \"color\": \"green\", \"radius\": 0.03, \"dashed\": false});\n\tviewer_1751567055559571.addCylinder({\"start\": {\"x\": 48.256, \"y\": 54.033, \"z\": 16.44}, \"end\": {\"x\": 51.20787506028421, \"y\": 51.914519725673344, \"z\": 13.0331361356379}, \"color\": \"green\", \"radius\": 0.03, \"dashed\": false});\n\tviewer_1751567055559571.addCylinder({\"start\": {\"x\": 46.06, \"y\": 54.69, \"z\": 15.66}, \"end\": {\"x\": 49.70454103390456, \"y\": 50.61644024872465, \"z\": 11.741855578727911}, \"color\": \"green\", \"radius\": 0.03, \"dashed\": false});\n\tviewer_1751567055559571.addCylinder({\"start\": {\"x\": 46.673, \"y\": 52.443, \"z\": 15.516}, \"end\": {\"x\": 50.09257526505291, \"y\": 50.13140770773875, \"z\": 14.030975250051775}, \"color\": \"green\", \"radius\": 0.03, \"dashed\": false});\n\tviewer_1751567055559571.addCylinder({\"start\": {\"x\": 54.378, \"y\": 49.296, \"z\": 19.855}, \"end\": {\"x\": 52.77821646840241, \"y\": 52.67974987183395, \"z\": 18.56558664923098}, \"color\": \"green\", \"radius\": 0.03, \"dashed\": false});\n\tviewer_1751567055559571.addCylinder({\"start\": {\"x\": 55.618, \"y\": 49.789, \"z\": 19.072}, \"end\": {\"x\": 53.39390047900638, \"y\": 52.31299202737263, \"z\": 17.245330657912366}, \"color\": \"green\", \"radius\": 0.03, \"dashed\": false});\n\tviewer_1751567055559571.addCylinder({\"start\": {\"x\": 55.285, \"y\": 50.079, \"z\": 17.579}, \"end\": {\"x\": 54.683206368880846, \"y\": 53.04421212655075, \"z\": 17.173598594698216}, \"color\": \"green\", \"radius\": 0.03, \"dashed\": false});\n\tviewer_1751567055559571.addCylinder({\"start\": {\"x\": 55.721, \"y\": 51.48, \"z\": 17.084}, \"end\": {\"x\": 55.50418143475181, \"y\": 53.12452141838752, \"z\": 15.991933938857628}, \"color\": \"green\", \"radius\": 0.03, \"dashed\": false});\n\tviewer_1751567055559571.addCylinder({\"start\": {\"x\": 55.484, \"y\": 51.746, \"z\": 15.572}, \"end\": {\"x\": 55.98632632385245, \"y\": 52.015962690798744, \"z\": 15.176898446746476}, \"color\": \"green\", \"radius\": 0.03, \"dashed\": false});\n\tviewer_1751567055559571.addCylinder({\"start\": {\"x\": 56.675, \"y\": 51.303, \"z\": 14.715}, \"end\": {\"x\": 54.89265437900768, \"y\": 51.315359913719625, \"z\": 14.379702469706656}, \"color\": \"green\", \"radius\": 0.03, \"dashed\": false});\n\tviewer_1751567055559571.addCylinder({\"start\": {\"x\": 56.289, \"y\": 50.836, \"z\": 13.325}, \"end\": {\"x\": 55.538126087437526, \"y\": 50.27485191585508, \"z\": 13.4750597888671}, \"color\": \"green\", \"radius\": 0.03, \"dashed\": false});\n\tviewer_1751567055559571.addCylinder({\"start\": {\"x\": 55.649, \"y\": 49.407, \"z\": 13.279}, \"end\": {\"x\": 56.142828171895786, \"y\": 49.10190617376362, \"z\": 14.145589188044616}, \"color\": \"green\", \"radius\": 0.03, \"dashed\": false});\n\tviewer_1751567055559571.addCylinder({\"start\": {\"x\": 54.665, \"y\": 49.197, \"z\": 12.075}, \"end\": {\"x\": 55.083206557618226, \"y\": 48.1656531890123, \"z\": 14.725840326001343}, \"color\": \"green\", \"radius\": 0.03, \"dashed\": false});\n\tviewer_1751567055559571.addCylinder({\"start\": {\"x\": 54.223, \"y\": 47.965, \"z\": 11.681}, \"end\": {\"x\": 55.64471791410503, \"y\": 46.986853428449216, \"z\": 15.440065165273095}, \"color\": \"green\", \"radius\": 0.03, \"dashed\": false});\n\tviewer_1751567055559571.addCylinder({\"start\": {\"x\": 54.669, \"y\": 46.707, \"z\": 12.387}, \"end\": {\"x\": 54.63822748935881, \"y\": 45.965015610029916, \"z\": 15.845303980963624}, \"color\": \"green\", \"radius\": 0.03, \"dashed\": false});\n\tviewer_1751567055559571.addCylinder({\"start\": {\"x\": 53.888, \"y\": 46.625, \"z\": 13.712}, \"end\": {\"x\": 53.4923660932171, \"y\": 46.45587867463095, \"z\": 16.6817512970826}, \"color\": \"green\", \"radius\": 0.03, \"dashed\": false});\n\tviewer_1751567055559571.addCylinder({\"start\": {\"x\": 53.719, \"y\": 45.49, \"z\": 14.41}, \"end\": {\"x\": 52.57027182480246, \"y\": 45.312958271166345, \"z\": 17.050792096319164}, \"color\": \"green\", \"radius\": 0.03, \"dashed\": false});\n\tviewer_1751567055559571.addCylinder({\"start\": {\"x\": 54.275, \"y\": 44.139, \"z\": 13.958}, \"end\": {\"x\": 51.984084906918135, \"y\": 44.56457994159436, \"z\": 15.916466405378365}, \"color\": \"green\", \"radius\": 0.03, \"dashed\": false});\n\tviewer_1751567055559571.addCylinder({\"start\": {\"x\": 53.886, \"y\": 43.033, \"z\": 14.92}, \"end\": {\"x\": 51.11830818606816, \"y\": 45.29759789567073, \"z\": 14.961139577200713}, \"color\": \"green\", \"radius\": 0.03, \"dashed\": false});\n\tviewer_1751567055559571.addCylinder({\"start\": {\"x\": 54.844, \"y\": 42.998, \"z\": 16.082}, \"end\": {\"x\": 49.90167041542492, \"y\": 45.9132679548836, \"z\": 15.598177969476293}, \"color\": \"green\", \"radius\": 0.03, \"dashed\": false});\n\tviewer_1751567055559571.addCylinder({\"start\": {\"x\": 54.823, \"y\": 41.663, \"z\": 16.782}, \"end\": {\"x\": 49.045282840321, \"y\": 46.610027267042504, \"z\": 14.534356188289475}, \"color\": \"green\", \"radius\": 0.03, \"dashed\": false});\n\tviewer_1751567055559571.addCylinder({\"start\": {\"x\": 54.18, \"y\": 41.683, \"z\": 18.179}, \"end\": {\"x\": 48.58016773973217, \"y\": 45.60542480949548, \"z\": 13.498192665724272}, \"color\": \"green\", \"radius\": 0.03, \"dashed\": false});\n\tviewer_1751567055559571.addCylinder({\"start\": {\"x\": 50.65, \"y\": 50.248, \"z\": 16.802}, \"end\": {\"x\": 50.07695832318247, \"y\": 50.7089425396128, \"z\": 22.880923703523063}, \"color\": \"green\", \"radius\": 0.03, \"dashed\": false});\n\tviewer_1751567055559571.addCylinder({\"start\": {\"x\": 51.097, \"y\": 49.697, \"z\": 15.45}, \"end\": {\"x\": 49.08411768079589, \"y\": 49.77968745078363, \"z\": 23.531005574298216}, \"color\": \"green\", \"radius\": 0.03, \"dashed\": false});\n\tviewer_1751567055559571.addCylinder({\"start\": {\"x\": 50.09, \"y\": 48.745, \"z\": 14.792}, \"end\": {\"x\": 48.65388393139839, \"y\": 48.617982750873665, \"z\": 22.64391645189481}, \"color\": \"green\", \"radius\": 0.03, \"dashed\": false});\n\tviewer_1751567055559571.addCylinder({\"start\": {\"x\": 50.448, \"y\": 47.303, \"z\": 15.066}, \"end\": {\"x\": 49.8307140960598, \"y\": 47.786863780319436, \"z\": 22.27309436473186}, \"color\": \"green\", \"radius\": 0.03, \"dashed\": false});\n\tviewer_1751567055559571.addCylinder({\"start\": {\"x\": 49.586, \"y\": 46.708, \"z\": 16.17}, \"end\": {\"x\": 49.475953143411424, \"y\": 46.591815841500015, \"z\": 21.45758097403894}, \"color\": \"green\", \"radius\": 0.03, \"dashed\": false});\n\tviewer_1751567055559571.addCylinder({\"start\": {\"x\": 49.414, \"y\": 45.19, \"z\": 16.022}, \"end\": {\"x\": 48.787892327593454, \"y\": 46.832249334897305, \"z\": 20.166957849734764}, \"color\": \"green\", \"radius\": 0.03, \"dashed\": false});\n\tviewer_1751567055559571.addCylinder({\"start\": {\"x\": 49.978, \"y\": 44.382, \"z\": 17.184}, \"end\": {\"x\": 48.663943849355505, \"y\": 45.47850272987186, \"z\": 19.459028542441597}, \"color\": \"green\", \"radius\": 0.03, \"dashed\": false});\n\tviewer_1751567055559571.addCylinder({\"start\": {\"x\": 49.787, \"y\": 45.069, \"z\": 18.496}, \"end\": {\"x\": 47.95156199256589, \"y\": 44.452592191861314, \"z\": 20.259890364553193}, \"color\": \"green\", \"radius\": 0.03, \"dashed\": false});\n\tviewer_1751567055559571.addCylinder({\"start\": {\"x\": 51.095, \"y\": 45.202, \"z\": 19.251}, \"end\": {\"x\": 47.83477354478211, \"y\": 43.1492712421391, \"z\": 19.46084032827296}, \"color\": \"green\", \"radius\": 0.03, \"dashed\": false});\n\tviewer_1751567055559571.addCylinder({\"start\": {\"x\": 51.13, \"y\": 45.626, \"z\": 20.532}, \"end\": {\"x\": 47.1348274734378, \"y\": 42.10240016775697, \"z\": 20.218343101094074}, \"color\": \"green\", \"radius\": 0.03, \"dashed\": false});\n\tviewer_1751567055559571.addCylinder({\"start\": {\"x\": 49.843, \"y\": 45.863, \"z\": 21.265}, \"end\": {\"x\": 47.70866061766452, \"y\": 41.55670257401449, \"z\": 21.462631917555324}, \"color\": \"green\", \"radius\": 0.03, \"dashed\": false});\n\tviewer_1751567055559571.addCylinder({\"start\": {\"x\": 49.549, \"y\": 44.624, \"z\": 22.053}, \"end\": {\"x\": 48.93166203600576, \"y\": 40.74662757587924, \"z\": 21.42855805467643}, \"color\": \"green\", \"radius\": 0.03, \"dashed\": false});\n\tviewer_1751567055559571.addCylinder({\"start\": {\"x\": 49.189, \"y\": 44.694, \"z\": 23.327}, \"end\": {\"x\": 50.242376458539304, \"y\": 41.15678626887328, \"z\": 20.98315200496001}, \"color\": \"green\", \"radius\": 0.03, \"dashed\": false});\n\tviewer_1751567055559571.addCylinder({\"start\": {\"x\": 49.074, \"y\": 46.039, \"z\": 24.004}, \"end\": {\"x\": 50.973685596620726, \"y\": 42.251176125642225, \"z\": 21.741042357161348}, \"color\": \"green\", \"radius\": 0.03, \"dashed\": false});\n\tviewer_1751567055559571.addCylinder({\"start\": {\"x\": 47.789, \"y\": 46.744, \"z\": 23.668}, \"end\": {\"x\": 52.34190242149795, \"y\": 42.318779327431386, \"z\": 21.042983959009206}, \"color\": \"green\", \"radius\": 0.03, \"dashed\": false});\n\tviewer_1751567055559571.addCylinder({\"start\": {\"x\": 46.978, \"y\": 46.989, \"z\": 24.92}, \"end\": {\"x\": 53.333247906538105, \"y\": 43.212353706869095, \"z\": 21.65112371079577}, \"color\": \"green\", \"radius\": 0.03, \"dashed\": false});\n\tviewer_1751567055559571.addCylinder({\"start\": {\"x\": 46.783, \"y\": 45.728, \"z\": 25.729}, \"end\": {\"x\": 53.07765882095456, \"y\": 44.663200053859896, \"z\": 21.737842202215035}, \"color\": \"green\", \"radius\": 0.03, \"dashed\": false});\n\tviewer_1751567055559571.addCylinder({\"start\": {\"x\": 45.31, \"y\": 45.386, \"z\": 25.923}, \"end\": {\"x\": 52.92377230148058, \"y\": 45.33122924739581, \"z\": 20.388620969166897}, \"color\": \"green\", \"radius\": 0.03, \"dashed\": false});\n\tviewer_1751567055559571.addCylinder({\"start\": {\"x\": 46.815, \"y\": 53.638, \"z\": 16.331}, \"end\": {\"x\": 49.92845212409921, \"y\": 51.197015886099365, \"z\": 13.06843755997701}, \"color\": \"green\", \"radius\": 0.03, \"dashed\": false});\n\tviewer_1751567055559571.addCylinder({\"start\": {\"x\": 51.076, \"y\": 49.603, \"z\": 18.067}, \"end\": {\"x\": 49.72525641597186, \"y\": 51.402138729133526, \"z\": 21.808288252263708}, \"color\": \"green\", \"radius\": 0.03, \"dashed\": false});\n\tviewer_1751567055559571.addCylinder({\"start\": {\"x\": 53.125, \"y\": 50.072, \"z\": 19.761}, \"end\": {\"x\": 51.620658067264706, \"y\": 52.06657460502939, \"z\": 18.90547727889688}, \"color\": \"green\", \"radius\": 0.03, \"dashed\": false});\n\tviewer_1751567055559571.addCylinder({\"start\": {\"x\": 54.436, \"y\": 48.242, \"z\": 20.545}, \"end\": {\"x\": 52.23469786572341, \"y\": 54.039665064087764, \"z\": 18.192916287625522}, \"color\": \"green\", \"radius\": 0.03, \"dashed\": false});\n\tviewer_1751567055559571.addCylinder({\"start\": {\"x\": 49.947, \"y\": 51.303, \"z\": 16.836}, \"end\": {\"x\": 50.6115954956918, \"y\": 51.54425495837648, \"z\": 23.850825892834127}, \"color\": \"green\", \"radius\": 0.03, \"dashed\": false});\n\tviewer_1751567055559571.addCylinder({\"start\": {\"x\": 46.234, \"y\": 49.831, \"z\": 20.358}, \"end\": {\"x\": 46.82837071399496, \"y\": 51.64721653185606, \"z\": 17.786474718508757}, \"color\": \"green\", \"radius\": 0.03, \"dashed\": false});\n\tviewer_1751567055559571.addCylinder({\"start\": {\"x\": 47.613, \"y\": 51.318, \"z\": 21.844}, \"end\": {\"x\": 49.26102259494371, \"y\": 52.848051407421366, \"z\": 17.251149184144314}, \"color\": \"green\", \"radius\": 0.03, \"dashed\": false});\n\tviewer_1751567055559571.addCylinder({\"start\": {\"x\": 48.444, \"y\": 50.766, \"z\": 19.453}, \"end\": {\"x\": 49.64690406391808, \"y\": 51.38530471100043, \"z\": 18.279301212791736}, \"color\": \"green\", \"radius\": 0.03, \"dashed\": false});\n\tviewer_1751567055559571.addCylinder({\"start\": {\"x\": 46.391, \"y\": 52.233, \"z\": 19.823}, \"end\": {\"x\": 48.21240123549508, \"y\": 51.15635442330438, \"z\": 15.528773917706244}, \"color\": \"green\", \"radius\": 0.03, \"dashed\": false});\n\tviewer_1751567055559571.addCylinder({\"start\": {\"x\": 47.174, \"y\": 51.04, \"z\": 20.4}, \"end\": {\"x\": 48.3695925429374, \"y\": 51.42094911414908, \"z\": 17.15901609064908}, \"color\": \"green\", \"radius\": 0.03, \"dashed\": false});\n\tviewer_1751567055559571.zoomTo();\n\tviewer_1751567055559571.setBackgroundColor(\"white\");\nviewer_1751567055559571.render();\n});\n</script>",
      "text/html": [
       "<div id=\"3dmolviewer_1751567055559571\"  style=\"position: relative; width: 800px; height: 600px;\">\n",
       "        <p id=\"3dmolwarning_1751567055559571\" style=\"background-color:#ffcccc;color:black\">3Dmol.js failed to load for some reason.  Please check your browser console for error messages.<br></p>\n",
       "        </div>\n",
       "<script>\n",
       "\n",
       "var loadScriptAsync = function(uri){\n",
       "  return new Promise((resolve, reject) => {\n",
       "    //this is to ignore the existence of requirejs amd\n",
       "    var savedexports, savedmodule;\n",
       "    if (typeof exports !== 'undefined') savedexports = exports;\n",
       "    else exports = {}\n",
       "    if (typeof module !== 'undefined') savedmodule = module;\n",
       "    else module = {}\n",
       "\n",
       "    var tag = document.createElement('script');\n",
       "    tag.src = uri;\n",
       "    tag.async = true;\n",
       "    tag.onload = () => {\n",
       "        exports = savedexports;\n",
       "        module = savedmodule;\n",
       "        resolve();\n",
       "    };\n",
       "  var firstScriptTag = document.getElementsByTagName('script')[0];\n",
       "  firstScriptTag.parentNode.insertBefore(tag, firstScriptTag);\n",
       "});\n",
       "};\n",
       "\n",
       "if(typeof $3Dmolpromise === 'undefined') {\n",
       "$3Dmolpromise = null;\n",
       "  $3Dmolpromise = loadScriptAsync('https://cdnjs.cloudflare.com/ajax/libs/3Dmol/2.4.2/3Dmol-min.js');\n",
       "}\n",
       "\n",
       "var viewer_1751567055559571 = null;\n",
       "var warn = document.getElementById(\"3dmolwarning_1751567055559571\");\n",
       "if(warn) {\n",
       "    warn.parentNode.removeChild(warn);\n",
       "}\n",
       "$3Dmolpromise.then(function() {\n",
       "viewer_1751567055559571 = $3Dmol.createViewer(document.getElementById(\"3dmolviewer_1751567055559571\"),{backgroundColor:\"white\"});\n",
       "viewer_1751567055559571.zoomTo();\n",
       "\tviewer_1751567055559571.addModel(\"54\\n\\nC   49.370   49.704   19.914\\nC   50.801   50.050   19.475\\nC   51.897   49.650   20.467\\nC   46.906   52.377   18.504\\nC   46.235   53.471   17.688\\nC   48.256   54.033   16.440\\nC   46.060   54.690   15.660\\nC   46.673   52.443   15.516\\nC   54.378   49.296   19.855\\nC   55.618   49.789   19.072\\nC   55.285   50.079   17.579\\nC   55.721   51.480   17.084\\nC   55.484   51.746   15.572\\nC   56.675   51.303   14.715\\nC   56.289   50.836   13.325\\nC   55.649   49.407   13.279\\nC   54.665   49.197   12.075\\nC   54.223   47.965   11.681\\nC   54.669   46.707   12.387\\nC   53.888   46.625   13.712\\nC   53.719   45.490   14.410\\nC   54.275   44.139   13.958\\nC   53.886   43.033   14.920\\nC   54.844   42.998   16.082\\nC   54.823   41.663   16.782\\nC   54.180   41.683   18.179\\nC   50.650   50.248   16.802\\nC   51.097   49.697   15.450\\nC   50.090   48.745   14.792\\nC   50.448   47.303   15.066\\nC   49.586   46.708   16.170\\nC   49.414   45.190   16.022\\nC   49.978   44.382   17.184\\nC   49.787   45.069   18.496\\nC   51.095   45.202   19.251\\nC   51.130   45.626   20.532\\nC   49.843   45.863   21.265\\nC   49.549   44.624   22.053\\nC   49.189   44.694   23.327\\nC   49.074   46.039   24.004\\nC   47.789   46.744   23.668\\nC   46.978   46.989   24.920\\nC   46.783   45.728   25.729\\nC   45.310   45.386   25.923\\nN   46.815   53.638   16.331\\nO   51.076   49.603   18.067\\nO   53.125   50.072   19.761\\nO   54.436   48.242   20.545\\nO   49.947   51.303   16.836\\nO   46.234   49.831   20.358\\nO   47.613   51.318   21.844\\nO   48.444   50.766   19.453\\nO   46.391   52.233   19.823\\nP   47.174   51.040   20.400\\n\",\"xyz\");\n",
       "\tviewer_1751567055559571.addModel(\"54\\n\\nC   49.124   51.495   19.538\\nC   50.156   51.254   20.562\\nC   51.389   52.184   20.281\\nC   48.551   52.280   14.818\\nC   48.844   52.070   13.374\\nC   51.208   51.915   13.033\\nC   49.705   50.616   11.742\\nC   50.093   50.131   14.031\\nC   52.778   52.680   18.566\\nC   53.394   52.313   17.245\\nC   54.683   53.044   17.174\\nC   55.504   53.125   15.992\\nC   55.986   52.016   15.177\\nC   54.893   51.315   14.380\\nC   55.538   50.275   13.475\\nC   56.143   49.102   14.146\\nC   55.083   48.166   14.726\\nC   55.645   46.987   15.440\\nC   54.638   45.965   15.845\\nC   53.492   46.456   16.682\\nC   52.570   45.313   17.051\\nC   51.984   44.565   15.916\\nC   51.118   45.298   14.961\\nC   49.902   45.913   15.598\\nC   49.045   46.610   14.534\\nC   48.580   45.605   13.498\\nC   50.077   50.709   22.881\\nC   49.084   49.780   23.531\\nC   48.654   48.618   22.644\\nC   49.831   47.787   22.273\\nC   49.476   46.592   21.458\\nC   48.788   46.832   20.167\\nC   48.664   45.479   19.459\\nC   47.952   44.453   20.260\\nC   47.835   43.149   19.461\\nC   47.135   42.102   20.218\\nC   47.709   41.557   21.463\\nC   48.932   40.747   21.429\\nC   50.242   41.157   20.983\\nC   50.974   42.251   21.741\\nC   52.342   42.319   21.043\\nC   53.333   43.212   21.651\\nC   53.078   44.663   21.738\\nC   52.924   45.331   20.389\\nN   49.928   51.197   13.068\\nO   49.725   51.402   21.808\\nO   51.621   52.067   18.905\\nO   52.235   54.040   18.193\\nO   50.612   51.544   23.851\\nO   46.828   51.647   17.786\\nO   49.261   52.848   17.251\\nO   49.647   51.385   18.279\\nO   48.212   51.156   15.529\\nP   48.370   51.421   17.159\\n\",\"xyz\");\n",
       "\tviewer_1751567055559571.setStyle({\"model\": 0},{\"stick\": {\"radius\": 0.06, \"color\": \"#DC2626\"}, \"sphere\": {\"radius\": 0.15, \"color\": \"#DC2626\"}});\n",
       "\tviewer_1751567055559571.setStyle({\"model\": 1},{\"stick\": {\"radius\": 0.06, \"color\": \"#2563EB\"}, \"sphere\": {\"radius\": 0.15, \"color\": \"#2563EB\"}});\n",
       "\tviewer_1751567055559571.addCylinder({\"start\": {\"x\": 49.37, \"y\": 49.704, \"z\": 19.914}, \"end\": {\"x\": 49.124358416023064, \"y\": 51.495329760004985, \"z\": 19.5379900283683}, \"color\": \"green\", \"radius\": 0.03, \"dashed\": false});\n",
       "\tviewer_1751567055559571.addCylinder({\"start\": {\"x\": 50.801, \"y\": 50.05, \"z\": 19.475}, \"end\": {\"x\": 50.156192038962274, \"y\": 51.254247908870894, \"z\": 20.56204076716297}, \"color\": \"green\", \"radius\": 0.03, \"dashed\": false});\n",
       "\tviewer_1751567055559571.addCylinder({\"start\": {\"x\": 51.897, \"y\": 49.65, \"z\": 20.467}, \"end\": {\"x\": 51.38907381545553, \"y\": 52.18352538995728, \"z\": 20.280731527470117}, \"color\": \"green\", \"radius\": 0.03, \"dashed\": false});\n",
       "\tviewer_1751567055559571.addCylinder({\"start\": {\"x\": 46.906, \"y\": 52.377, \"z\": 18.504}, \"end\": {\"x\": 48.550701712804496, \"y\": 52.28005498674434, \"z\": 14.818118705400765}, \"color\": \"green\", \"radius\": 0.03, \"dashed\": false});\n",
       "\tviewer_1751567055559571.addCylinder({\"start\": {\"x\": 46.235, \"y\": 53.471, \"z\": 17.688}, \"end\": {\"x\": 48.84439533478875, \"y\": 52.06997275198975, \"z\": 13.374169775886191}, \"color\": \"green\", \"radius\": 0.03, \"dashed\": false});\n",
       "\tviewer_1751567055559571.addCylinder({\"start\": {\"x\": 48.256, \"y\": 54.033, \"z\": 16.44}, \"end\": {\"x\": 51.20787506028421, \"y\": 51.914519725673344, \"z\": 13.0331361356379}, \"color\": \"green\", \"radius\": 0.03, \"dashed\": false});\n",
       "\tviewer_1751567055559571.addCylinder({\"start\": {\"x\": 46.06, \"y\": 54.69, \"z\": 15.66}, \"end\": {\"x\": 49.70454103390456, \"y\": 50.61644024872465, \"z\": 11.741855578727911}, \"color\": \"green\", \"radius\": 0.03, \"dashed\": false});\n",
       "\tviewer_1751567055559571.addCylinder({\"start\": {\"x\": 46.673, \"y\": 52.443, \"z\": 15.516}, \"end\": {\"x\": 50.09257526505291, \"y\": 50.13140770773875, \"z\": 14.030975250051775}, \"color\": \"green\", \"radius\": 0.03, \"dashed\": false});\n",
       "\tviewer_1751567055559571.addCylinder({\"start\": {\"x\": 54.378, \"y\": 49.296, \"z\": 19.855}, \"end\": {\"x\": 52.77821646840241, \"y\": 52.67974987183395, \"z\": 18.56558664923098}, \"color\": \"green\", \"radius\": 0.03, \"dashed\": false});\n",
       "\tviewer_1751567055559571.addCylinder({\"start\": {\"x\": 55.618, \"y\": 49.789, \"z\": 19.072}, \"end\": {\"x\": 53.39390047900638, \"y\": 52.31299202737263, \"z\": 17.245330657912366}, \"color\": \"green\", \"radius\": 0.03, \"dashed\": false});\n",
       "\tviewer_1751567055559571.addCylinder({\"start\": {\"x\": 55.285, \"y\": 50.079, \"z\": 17.579}, \"end\": {\"x\": 54.683206368880846, \"y\": 53.04421212655075, \"z\": 17.173598594698216}, \"color\": \"green\", \"radius\": 0.03, \"dashed\": false});\n",
       "\tviewer_1751567055559571.addCylinder({\"start\": {\"x\": 55.721, \"y\": 51.48, \"z\": 17.084}, \"end\": {\"x\": 55.50418143475181, \"y\": 53.12452141838752, \"z\": 15.991933938857628}, \"color\": \"green\", \"radius\": 0.03, \"dashed\": false});\n",
       "\tviewer_1751567055559571.addCylinder({\"start\": {\"x\": 55.484, \"y\": 51.746, \"z\": 15.572}, \"end\": {\"x\": 55.98632632385245, \"y\": 52.015962690798744, \"z\": 15.176898446746476}, \"color\": \"green\", \"radius\": 0.03, \"dashed\": false});\n",
       "\tviewer_1751567055559571.addCylinder({\"start\": {\"x\": 56.675, \"y\": 51.303, \"z\": 14.715}, \"end\": {\"x\": 54.89265437900768, \"y\": 51.315359913719625, \"z\": 14.379702469706656}, \"color\": \"green\", \"radius\": 0.03, \"dashed\": false});\n",
       "\tviewer_1751567055559571.addCylinder({\"start\": {\"x\": 56.289, \"y\": 50.836, \"z\": 13.325}, \"end\": {\"x\": 55.538126087437526, \"y\": 50.27485191585508, \"z\": 13.4750597888671}, \"color\": \"green\", \"radius\": 0.03, \"dashed\": false});\n",
       "\tviewer_1751567055559571.addCylinder({\"start\": {\"x\": 55.649, \"y\": 49.407, \"z\": 13.279}, \"end\": {\"x\": 56.142828171895786, \"y\": 49.10190617376362, \"z\": 14.145589188044616}, \"color\": \"green\", \"radius\": 0.03, \"dashed\": false});\n",
       "\tviewer_1751567055559571.addCylinder({\"start\": {\"x\": 54.665, \"y\": 49.197, \"z\": 12.075}, \"end\": {\"x\": 55.083206557618226, \"y\": 48.1656531890123, \"z\": 14.725840326001343}, \"color\": \"green\", \"radius\": 0.03, \"dashed\": false});\n",
       "\tviewer_1751567055559571.addCylinder({\"start\": {\"x\": 54.223, \"y\": 47.965, \"z\": 11.681}, \"end\": {\"x\": 55.64471791410503, \"y\": 46.986853428449216, \"z\": 15.440065165273095}, \"color\": \"green\", \"radius\": 0.03, \"dashed\": false});\n",
       "\tviewer_1751567055559571.addCylinder({\"start\": {\"x\": 54.669, \"y\": 46.707, \"z\": 12.387}, \"end\": {\"x\": 54.63822748935881, \"y\": 45.965015610029916, \"z\": 15.845303980963624}, \"color\": \"green\", \"radius\": 0.03, \"dashed\": false});\n",
       "\tviewer_1751567055559571.addCylinder({\"start\": {\"x\": 53.888, \"y\": 46.625, \"z\": 13.712}, \"end\": {\"x\": 53.4923660932171, \"y\": 46.45587867463095, \"z\": 16.6817512970826}, \"color\": \"green\", \"radius\": 0.03, \"dashed\": false});\n",
       "\tviewer_1751567055559571.addCylinder({\"start\": {\"x\": 53.719, \"y\": 45.49, \"z\": 14.41}, \"end\": {\"x\": 52.57027182480246, \"y\": 45.312958271166345, \"z\": 17.050792096319164}, \"color\": \"green\", \"radius\": 0.03, \"dashed\": false});\n",
       "\tviewer_1751567055559571.addCylinder({\"start\": {\"x\": 54.275, \"y\": 44.139, \"z\": 13.958}, \"end\": {\"x\": 51.984084906918135, \"y\": 44.56457994159436, \"z\": 15.916466405378365}, \"color\": \"green\", \"radius\": 0.03, \"dashed\": false});\n",
       "\tviewer_1751567055559571.addCylinder({\"start\": {\"x\": 53.886, \"y\": 43.033, \"z\": 14.92}, \"end\": {\"x\": 51.11830818606816, \"y\": 45.29759789567073, \"z\": 14.961139577200713}, \"color\": \"green\", \"radius\": 0.03, \"dashed\": false});\n",
       "\tviewer_1751567055559571.addCylinder({\"start\": {\"x\": 54.844, \"y\": 42.998, \"z\": 16.082}, \"end\": {\"x\": 49.90167041542492, \"y\": 45.9132679548836, \"z\": 15.598177969476293}, \"color\": \"green\", \"radius\": 0.03, \"dashed\": false});\n",
       "\tviewer_1751567055559571.addCylinder({\"start\": {\"x\": 54.823, \"y\": 41.663, \"z\": 16.782}, \"end\": {\"x\": 49.045282840321, \"y\": 46.610027267042504, \"z\": 14.534356188289475}, \"color\": \"green\", \"radius\": 0.03, \"dashed\": false});\n",
       "\tviewer_1751567055559571.addCylinder({\"start\": {\"x\": 54.18, \"y\": 41.683, \"z\": 18.179}, \"end\": {\"x\": 48.58016773973217, \"y\": 45.60542480949548, \"z\": 13.498192665724272}, \"color\": \"green\", \"radius\": 0.03, \"dashed\": false});\n",
       "\tviewer_1751567055559571.addCylinder({\"start\": {\"x\": 50.65, \"y\": 50.248, \"z\": 16.802}, \"end\": {\"x\": 50.07695832318247, \"y\": 50.7089425396128, \"z\": 22.880923703523063}, \"color\": \"green\", \"radius\": 0.03, \"dashed\": false});\n",
       "\tviewer_1751567055559571.addCylinder({\"start\": {\"x\": 51.097, \"y\": 49.697, \"z\": 15.45}, \"end\": {\"x\": 49.08411768079589, \"y\": 49.77968745078363, \"z\": 23.531005574298216}, \"color\": \"green\", \"radius\": 0.03, \"dashed\": false});\n",
       "\tviewer_1751567055559571.addCylinder({\"start\": {\"x\": 50.09, \"y\": 48.745, \"z\": 14.792}, \"end\": {\"x\": 48.65388393139839, \"y\": 48.617982750873665, \"z\": 22.64391645189481}, \"color\": \"green\", \"radius\": 0.03, \"dashed\": false});\n",
       "\tviewer_1751567055559571.addCylinder({\"start\": {\"x\": 50.448, \"y\": 47.303, \"z\": 15.066}, \"end\": {\"x\": 49.8307140960598, \"y\": 47.786863780319436, \"z\": 22.27309436473186}, \"color\": \"green\", \"radius\": 0.03, \"dashed\": false});\n",
       "\tviewer_1751567055559571.addCylinder({\"start\": {\"x\": 49.586, \"y\": 46.708, \"z\": 16.17}, \"end\": {\"x\": 49.475953143411424, \"y\": 46.591815841500015, \"z\": 21.45758097403894}, \"color\": \"green\", \"radius\": 0.03, \"dashed\": false});\n",
       "\tviewer_1751567055559571.addCylinder({\"start\": {\"x\": 49.414, \"y\": 45.19, \"z\": 16.022}, \"end\": {\"x\": 48.787892327593454, \"y\": 46.832249334897305, \"z\": 20.166957849734764}, \"color\": \"green\", \"radius\": 0.03, \"dashed\": false});\n",
       "\tviewer_1751567055559571.addCylinder({\"start\": {\"x\": 49.978, \"y\": 44.382, \"z\": 17.184}, \"end\": {\"x\": 48.663943849355505, \"y\": 45.47850272987186, \"z\": 19.459028542441597}, \"color\": \"green\", \"radius\": 0.03, \"dashed\": false});\n",
       "\tviewer_1751567055559571.addCylinder({\"start\": {\"x\": 49.787, \"y\": 45.069, \"z\": 18.496}, \"end\": {\"x\": 47.95156199256589, \"y\": 44.452592191861314, \"z\": 20.259890364553193}, \"color\": \"green\", \"radius\": 0.03, \"dashed\": false});\n",
       "\tviewer_1751567055559571.addCylinder({\"start\": {\"x\": 51.095, \"y\": 45.202, \"z\": 19.251}, \"end\": {\"x\": 47.83477354478211, \"y\": 43.1492712421391, \"z\": 19.46084032827296}, \"color\": \"green\", \"radius\": 0.03, \"dashed\": false});\n",
       "\tviewer_1751567055559571.addCylinder({\"start\": {\"x\": 51.13, \"y\": 45.626, \"z\": 20.532}, \"end\": {\"x\": 47.1348274734378, \"y\": 42.10240016775697, \"z\": 20.218343101094074}, \"color\": \"green\", \"radius\": 0.03, \"dashed\": false});\n",
       "\tviewer_1751567055559571.addCylinder({\"start\": {\"x\": 49.843, \"y\": 45.863, \"z\": 21.265}, \"end\": {\"x\": 47.70866061766452, \"y\": 41.55670257401449, \"z\": 21.462631917555324}, \"color\": \"green\", \"radius\": 0.03, \"dashed\": false});\n",
       "\tviewer_1751567055559571.addCylinder({\"start\": {\"x\": 49.549, \"y\": 44.624, \"z\": 22.053}, \"end\": {\"x\": 48.93166203600576, \"y\": 40.74662757587924, \"z\": 21.42855805467643}, \"color\": \"green\", \"radius\": 0.03, \"dashed\": false});\n",
       "\tviewer_1751567055559571.addCylinder({\"start\": {\"x\": 49.189, \"y\": 44.694, \"z\": 23.327}, \"end\": {\"x\": 50.242376458539304, \"y\": 41.15678626887328, \"z\": 20.98315200496001}, \"color\": \"green\", \"radius\": 0.03, \"dashed\": false});\n",
       "\tviewer_1751567055559571.addCylinder({\"start\": {\"x\": 49.074, \"y\": 46.039, \"z\": 24.004}, \"end\": {\"x\": 50.973685596620726, \"y\": 42.251176125642225, \"z\": 21.741042357161348}, \"color\": \"green\", \"radius\": 0.03, \"dashed\": false});\n",
       "\tviewer_1751567055559571.addCylinder({\"start\": {\"x\": 47.789, \"y\": 46.744, \"z\": 23.668}, \"end\": {\"x\": 52.34190242149795, \"y\": 42.318779327431386, \"z\": 21.042983959009206}, \"color\": \"green\", \"radius\": 0.03, \"dashed\": false});\n",
       "\tviewer_1751567055559571.addCylinder({\"start\": {\"x\": 46.978, \"y\": 46.989, \"z\": 24.92}, \"end\": {\"x\": 53.333247906538105, \"y\": 43.212353706869095, \"z\": 21.65112371079577}, \"color\": \"green\", \"radius\": 0.03, \"dashed\": false});\n",
       "\tviewer_1751567055559571.addCylinder({\"start\": {\"x\": 46.783, \"y\": 45.728, \"z\": 25.729}, \"end\": {\"x\": 53.07765882095456, \"y\": 44.663200053859896, \"z\": 21.737842202215035}, \"color\": \"green\", \"radius\": 0.03, \"dashed\": false});\n",
       "\tviewer_1751567055559571.addCylinder({\"start\": {\"x\": 45.31, \"y\": 45.386, \"z\": 25.923}, \"end\": {\"x\": 52.92377230148058, \"y\": 45.33122924739581, \"z\": 20.388620969166897}, \"color\": \"green\", \"radius\": 0.03, \"dashed\": false});\n",
       "\tviewer_1751567055559571.addCylinder({\"start\": {\"x\": 46.815, \"y\": 53.638, \"z\": 16.331}, \"end\": {\"x\": 49.92845212409921, \"y\": 51.197015886099365, \"z\": 13.06843755997701}, \"color\": \"green\", \"radius\": 0.03, \"dashed\": false});\n",
       "\tviewer_1751567055559571.addCylinder({\"start\": {\"x\": 51.076, \"y\": 49.603, \"z\": 18.067}, \"end\": {\"x\": 49.72525641597186, \"y\": 51.402138729133526, \"z\": 21.808288252263708}, \"color\": \"green\", \"radius\": 0.03, \"dashed\": false});\n",
       "\tviewer_1751567055559571.addCylinder({\"start\": {\"x\": 53.125, \"y\": 50.072, \"z\": 19.761}, \"end\": {\"x\": 51.620658067264706, \"y\": 52.06657460502939, \"z\": 18.90547727889688}, \"color\": \"green\", \"radius\": 0.03, \"dashed\": false});\n",
       "\tviewer_1751567055559571.addCylinder({\"start\": {\"x\": 54.436, \"y\": 48.242, \"z\": 20.545}, \"end\": {\"x\": 52.23469786572341, \"y\": 54.039665064087764, \"z\": 18.192916287625522}, \"color\": \"green\", \"radius\": 0.03, \"dashed\": false});\n",
       "\tviewer_1751567055559571.addCylinder({\"start\": {\"x\": 49.947, \"y\": 51.303, \"z\": 16.836}, \"end\": {\"x\": 50.6115954956918, \"y\": 51.54425495837648, \"z\": 23.850825892834127}, \"color\": \"green\", \"radius\": 0.03, \"dashed\": false});\n",
       "\tviewer_1751567055559571.addCylinder({\"start\": {\"x\": 46.234, \"y\": 49.831, \"z\": 20.358}, \"end\": {\"x\": 46.82837071399496, \"y\": 51.64721653185606, \"z\": 17.786474718508757}, \"color\": \"green\", \"radius\": 0.03, \"dashed\": false});\n",
       "\tviewer_1751567055559571.addCylinder({\"start\": {\"x\": 47.613, \"y\": 51.318, \"z\": 21.844}, \"end\": {\"x\": 49.26102259494371, \"y\": 52.848051407421366, \"z\": 17.251149184144314}, \"color\": \"green\", \"radius\": 0.03, \"dashed\": false});\n",
       "\tviewer_1751567055559571.addCylinder({\"start\": {\"x\": 48.444, \"y\": 50.766, \"z\": 19.453}, \"end\": {\"x\": 49.64690406391808, \"y\": 51.38530471100043, \"z\": 18.279301212791736}, \"color\": \"green\", \"radius\": 0.03, \"dashed\": false});\n",
       "\tviewer_1751567055559571.addCylinder({\"start\": {\"x\": 46.391, \"y\": 52.233, \"z\": 19.823}, \"end\": {\"x\": 48.21240123549508, \"y\": 51.15635442330438, \"z\": 15.528773917706244}, \"color\": \"green\", \"radius\": 0.03, \"dashed\": false});\n",
       "\tviewer_1751567055559571.addCylinder({\"start\": {\"x\": 47.174, \"y\": 51.04, \"z\": 20.4}, \"end\": {\"x\": 48.3695925429374, \"y\": 51.42094911414908, \"z\": 17.15901609064908}, \"color\": \"green\", \"radius\": 0.03, \"dashed\": false});\n",
       "\tviewer_1751567055559571.zoomTo();\n",
       "\tviewer_1751567055559571.setBackgroundColor(\"white\");\n",
       "viewer_1751567055559571.render();\n",
       "});\n",
       "</script>"
      ]
     },
     "metadata": {},
     "output_type": "display_data"
    }
   ],
   "source": [
    "df = pd.read_csv('./otmol_output/1ln1_DLP_result.csv')\n",
    "data_path = \"../Data/first_8_molecules_RDKIT\"\n",
    "ligand = '1ln1_DLP'\n",
    "i = 0\n",
    "path1 = os.path.join(data_path, 'extra_bio_ligands', ligand+'.pdb')\n",
    "path2 = os.path.join(data_path, 'extra_bio_ligands_RDKIT', ligand, ligand+'_conf'+str(i)+'.pdb')\n",
    "molA = MolFromPDBFile(path1, removeHs=True, sanitize=False)\n",
    "molB = MolFromPDBFile(path2, removeHs=True, sanitize=False)\n",
    "X_A, T_A, B_A = otm.tl.process_rdkit_mol(molA)\n",
    "X_B, T_B, B_B = otm.tl.process_rdkit_mol(molB, heavy_atoms_only=True)\n",
    "assignment = [int(x) for x in df['assignment'][i].strip('[]').split()]\n",
    "P = otm.tl.permutation_to_matrix(assignment)\n",
    "X_B_aligned, _, _ = otm.tl.kabsch(X_A, X_B, P) \n",
    "interactive_alignment_plot_py3dmol(X_A, X_B_aligned, T_A, T_B, B_A, B_B, assignment, '', '')"
   ]
  },
  {
   "cell_type": "code",
   "execution_count": 18,
   "metadata": {},
   "outputs": [
    {
     "name": "stdout",
     "output_type": "stream",
     "text": [
      "3.8400934103533766\n"
     ]
    },
    {
     "data": {
      "application/3dmoljs_load.v0": "<div id=\"3dmolviewer_1751567723575695\"  style=\"position: relative; width: 800px; height: 600px;\">\n        <p id=\"3dmolwarning_1751567723575695\" style=\"background-color:#ffcccc;color:black\">3Dmol.js failed to load for some reason.  Please check your browser console for error messages.<br></p>\n        </div>\n<script>\n\nvar loadScriptAsync = function(uri){\n  return new Promise((resolve, reject) => {\n    //this is to ignore the existence of requirejs amd\n    var savedexports, savedmodule;\n    if (typeof exports !== 'undefined') savedexports = exports;\n    else exports = {}\n    if (typeof module !== 'undefined') savedmodule = module;\n    else module = {}\n\n    var tag = document.createElement('script');\n    tag.src = uri;\n    tag.async = true;\n    tag.onload = () => {\n        exports = savedexports;\n        module = savedmodule;\n        resolve();\n    };\n  var firstScriptTag = document.getElementsByTagName('script')[0];\n  firstScriptTag.parentNode.insertBefore(tag, firstScriptTag);\n});\n};\n\nif(typeof $3Dmolpromise === 'undefined') {\n$3Dmolpromise = null;\n  $3Dmolpromise = loadScriptAsync('https://cdnjs.cloudflare.com/ajax/libs/3Dmol/2.4.2/3Dmol-min.js');\n}\n\nvar viewer_1751567723575695 = null;\nvar warn = document.getElementById(\"3dmolwarning_1751567723575695\");\nif(warn) {\n    warn.parentNode.removeChild(warn);\n}\n$3Dmolpromise.then(function() {\nviewer_1751567723575695 = $3Dmol.createViewer(document.getElementById(\"3dmolviewer_1751567723575695\"),{backgroundColor:\"white\"});\nviewer_1751567723575695.zoomTo();\n\tviewer_1751567723575695.addModel(\"54\\n\\nC   49.370   49.704   19.914\\nC   50.801   50.050   19.475\\nC   51.897   49.650   20.467\\nC   46.906   52.377   18.504\\nC   46.235   53.471   17.688\\nC   48.256   54.033   16.440\\nC   46.060   54.690   15.660\\nC   46.673   52.443   15.516\\nC   54.378   49.296   19.855\\nC   55.618   49.789   19.072\\nC   55.285   50.079   17.579\\nC   55.721   51.480   17.084\\nC   55.484   51.746   15.572\\nC   56.675   51.303   14.715\\nC   56.289   50.836   13.325\\nC   55.649   49.407   13.279\\nC   54.665   49.197   12.075\\nC   54.223   47.965   11.681\\nC   54.669   46.707   12.387\\nC   53.888   46.625   13.712\\nC   53.719   45.490   14.410\\nC   54.275   44.139   13.958\\nC   53.886   43.033   14.920\\nC   54.844   42.998   16.082\\nC   54.823   41.663   16.782\\nC   54.180   41.683   18.179\\nC   50.650   50.248   16.802\\nC   51.097   49.697   15.450\\nC   50.090   48.745   14.792\\nC   50.448   47.303   15.066\\nC   49.586   46.708   16.170\\nC   49.414   45.190   16.022\\nC   49.978   44.382   17.184\\nC   49.787   45.069   18.496\\nC   51.095   45.202   19.251\\nC   51.130   45.626   20.532\\nC   49.843   45.863   21.265\\nC   49.549   44.624   22.053\\nC   49.189   44.694   23.327\\nC   49.074   46.039   24.004\\nC   47.789   46.744   23.668\\nC   46.978   46.989   24.920\\nC   46.783   45.728   25.729\\nC   45.310   45.386   25.923\\nN   46.815   53.638   16.331\\nO   51.076   49.603   18.067\\nO   53.125   50.072   19.761\\nO   54.436   48.242   20.545\\nO   49.947   51.303   16.836\\nO   46.234   49.831   20.358\\nO   47.613   51.318   21.844\\nO   48.444   50.766   19.453\\nO   46.391   52.233   19.823\\nP   47.174   51.040   20.400\\n\",\"xyz\");\n\tviewer_1751567723575695.addModel(\"54\\n\\nC   51.812   50.801   23.444\\nC   52.552   51.422   22.287\\nC   49.723   47.590   21.117\\nC   51.715   51.653   20.067\\nC   50.390   51.974   19.508\\nC   47.608   51.839   13.972\\nC   47.985   52.279   15.343\\nC   47.490   50.053   12.451\\nC   51.678   48.560   22.410\\nC   53.318   45.313   19.977\\nC   49.398   44.989   15.824\\nC   47.539   46.636   16.002\\nC   53.355   51.616   15.604\\nC   54.579   52.053   14.888\\nC   53.349   49.992   12.635\\nC   53.403   48.739   11.772\\nC   54.825   51.820   13.488\\nC   54.761   50.545   12.782\\nC   54.070   47.558   12.364\\nC   53.239   46.936   13.487\\nC   52.410   45.838   16.205\\nC   53.885   45.763   14.137\\nC   53.016   45.025   15.098\\nC   51.586   44.962   17.124\\nC   53.932   43.325   21.363\\nC   52.665   42.586   21.383\\nC   52.827   52.269   19.146\\nC   48.741   49.781   14.448\\nC   49.560   51.163   12.764\\nC   53.412   52.258   16.961\\nC   46.547   45.629   15.452\\nC   48.662   45.914   16.755\\nC   50.479   44.217   16.483\\nC   50.853   47.372   22.051\\nC   53.936   44.797   21.258\\nC   51.726   42.885   22.563\\nC   49.129   46.214   20.795\\nC   50.602   41.879   22.385\\nC   49.561   41.803   23.383\\nC   48.071   44.122   21.579\\nC   50.894   49.653   23.044\\nC   48.690   45.461   21.996\\nC   48.589   42.844   23.738\\nC   47.622   43.340   22.740\\nN   48.331   50.732   13.441\\nO   52.436   51.941   17.843\\nO   50.311   51.607   18.193\\nO   53.555   52.242   22.783\\nO   52.952   53.645   16.575\\nO   47.830   51.343   16.335\\nO   51.877   52.036   21.327\\nO   49.728   52.981   17.136\\nO   47.613   52.378   18.812\\nP   48.697   51.766   17.684\\n\",\"xyz\");\n\tviewer_1751567723575695.setStyle({\"model\": 0},{\"stick\": {\"radius\": 0.06, \"color\": \"#DC2626\"}, \"sphere\": {\"radius\": 0.15, \"color\": \"#DC2626\"}});\n\tviewer_1751567723575695.setStyle({\"model\": 1},{\"stick\": {\"radius\": 0.06, \"color\": \"#2563EB\"}, \"sphere\": {\"radius\": 0.15, \"color\": \"#2563EB\"}});\n\tviewer_1751567723575695.addCylinder({\"start\": {\"x\": 49.37, \"y\": 49.704, \"z\": 19.914}, \"end\": {\"x\": 51.812006439255214, \"y\": 50.801113511731664, \"z\": 23.443869569407614}, \"color\": \"green\", \"radius\": 0.03, \"dashed\": false});\n\tviewer_1751567723575695.addCylinder({\"start\": {\"x\": 50.801, \"y\": 50.05, \"z\": 19.475}, \"end\": {\"x\": 52.552154122825485, \"y\": 51.421554941306326, \"z\": 22.28667993975614}, \"color\": \"green\", \"radius\": 0.03, \"dashed\": false});\n\tviewer_1751567723575695.addCylinder({\"start\": {\"x\": 51.897, \"y\": 49.65, \"z\": 20.467}, \"end\": {\"x\": 49.722835976147444, \"y\": 47.589737244507404, \"z\": 21.116985978338473}, \"color\": \"green\", \"radius\": 0.03, \"dashed\": false});\n\tviewer_1751567723575695.addCylinder({\"start\": {\"x\": 46.906, \"y\": 52.377, \"z\": 18.504}, \"end\": {\"x\": 51.71538455119372, \"y\": 51.65293959553102, \"z\": 20.066965582956936}, \"color\": \"green\", \"radius\": 0.03, \"dashed\": false});\n\tviewer_1751567723575695.addCylinder({\"start\": {\"x\": 46.235, \"y\": 53.471, \"z\": 17.688}, \"end\": {\"x\": 50.39026969004923, \"y\": 51.9735638283127, \"z\": 19.5077235010933}, \"color\": \"green\", \"radius\": 0.03, \"dashed\": false});\n\tviewer_1751567723575695.addCylinder({\"start\": {\"x\": 48.256, \"y\": 54.033, \"z\": 16.44}, \"end\": {\"x\": 47.60798844304437, \"y\": 51.83923224872736, \"z\": 13.97218919180651}, \"color\": \"green\", \"radius\": 0.03, \"dashed\": false});\n\tviewer_1751567723575695.addCylinder({\"start\": {\"x\": 46.06, \"y\": 54.69, \"z\": 15.66}, \"end\": {\"x\": 47.98468382704309, \"y\": 52.278977351934564, \"z\": 15.34335797495443}, \"color\": \"green\", \"radius\": 0.03, \"dashed\": false});\n\tviewer_1751567723575695.addCylinder({\"start\": {\"x\": 46.673, \"y\": 52.443, \"z\": 15.516}, \"end\": {\"x\": 47.49034571960906, \"y\": 50.05299303881628, \"z\": 12.45147663691688}, \"color\": \"green\", \"radius\": 0.03, \"dashed\": false});\n\tviewer_1751567723575695.addCylinder({\"start\": {\"x\": 54.378, \"y\": 49.296, \"z\": 19.855}, \"end\": {\"x\": 51.67802455859962, \"y\": 48.55983565566475, \"z\": 22.40955074643277}, \"color\": \"green\", \"radius\": 0.03, \"dashed\": false});\n\tviewer_1751567723575695.addCylinder({\"start\": {\"x\": 55.618, \"y\": 49.789, \"z\": 19.072}, \"end\": {\"x\": 53.317908461246574, \"y\": 45.31294236471735, \"z\": 19.977092166509955}, \"color\": \"green\", \"radius\": 0.03, \"dashed\": false});\n\tviewer_1751567723575695.addCylinder({\"start\": {\"x\": 55.285, \"y\": 50.079, \"z\": 17.579}, \"end\": {\"x\": 49.3983830669377, \"y\": 44.98935941580368, \"z\": 15.823659759627652}, \"color\": \"green\", \"radius\": 0.03, \"dashed\": false});\n\tviewer_1751567723575695.addCylinder({\"start\": {\"x\": 55.721, \"y\": 51.48, \"z\": 17.084}, \"end\": {\"x\": 47.538730776362065, \"y\": 46.63614590648025, \"z\": 16.002087930839384}, \"color\": \"green\", \"radius\": 0.03, \"dashed\": false});\n\tviewer_1751567723575695.addCylinder({\"start\": {\"x\": 55.484, \"y\": 51.746, \"z\": 15.572}, \"end\": {\"x\": 53.35505773285432, \"y\": 51.61569037119374, \"z\": 15.604416384053994}, \"color\": \"green\", \"radius\": 0.03, \"dashed\": false});\n\tviewer_1751567723575695.addCylinder({\"start\": {\"x\": 56.675, \"y\": 51.303, \"z\": 14.715}, \"end\": {\"x\": 54.57875615701358, \"y\": 52.053499927733796, \"z\": 14.88816017367091}, \"color\": \"green\", \"radius\": 0.03, \"dashed\": false});\n\tviewer_1751567723575695.addCylinder({\"start\": {\"x\": 56.289, \"y\": 50.836, \"z\": 13.325}, \"end\": {\"x\": 53.34915940293156, \"y\": 49.991639565209304, \"z\": 12.635278093356607}, \"color\": \"green\", \"radius\": 0.03, \"dashed\": false});\n\tviewer_1751567723575695.addCylinder({\"start\": {\"x\": 55.649, \"y\": 49.407, \"z\": 13.279}, \"end\": {\"x\": 53.40328139230819, \"y\": 48.73897470684968, \"z\": 11.771813813321367}, \"color\": \"green\", \"radius\": 0.03, \"dashed\": false});\n\tviewer_1751567723575695.addCylinder({\"start\": {\"x\": 54.665, \"y\": 49.197, \"z\": 12.075}, \"end\": {\"x\": 54.824793728172246, \"y\": 51.81987084645311, \"z\": 13.487566026189818}, \"color\": \"green\", \"radius\": 0.03, \"dashed\": false});\n\tviewer_1751567723575695.addCylinder({\"start\": {\"x\": 54.223, \"y\": 47.965, \"z\": 11.681}, \"end\": {\"x\": 54.76132065840451, \"y\": 50.54541191864705, \"z\": 12.782318118890775}, \"color\": \"green\", \"radius\": 0.03, \"dashed\": false});\n\tviewer_1751567723575695.addCylinder({\"start\": {\"x\": 54.669, \"y\": 46.707, \"z\": 12.387}, \"end\": {\"x\": 54.069766021386805, \"y\": 47.55760750052471, \"z\": 12.364473718344374}, \"color\": \"green\", \"radius\": 0.03, \"dashed\": false});\n\tviewer_1751567723575695.addCylinder({\"start\": {\"x\": 53.888, \"y\": 46.625, \"z\": 13.712}, \"end\": {\"x\": 53.23928699899277, \"y\": 46.935533157669, \"z\": 13.486697896182333}, \"color\": \"green\", \"radius\": 0.03, \"dashed\": false});\n\tviewer_1751567723575695.addCylinder({\"start\": {\"x\": 53.719, \"y\": 45.49, \"z\": 14.41}, \"end\": {\"x\": 52.410451233771575, \"y\": 45.838123564436245, \"z\": 16.204861515056468}, \"color\": \"green\", \"radius\": 0.03, \"dashed\": false});\n\tviewer_1751567723575695.addCylinder({\"start\": {\"x\": 54.275, \"y\": 44.139, \"z\": 13.958}, \"end\": {\"x\": 53.88478739747038, \"y\": 45.76262805888965, \"z\": 14.136777787290072}, \"color\": \"green\", \"radius\": 0.03, \"dashed\": false});\n\tviewer_1751567723575695.addCylinder({\"start\": {\"x\": 53.886, \"y\": 43.033, \"z\": 14.92}, \"end\": {\"x\": 53.016205541381105, \"y\": 45.025273680365096, \"z\": 15.09764618605401}, \"color\": \"green\", \"radius\": 0.03, \"dashed\": false});\n\tviewer_1751567723575695.addCylinder({\"start\": {\"x\": 54.844, \"y\": 42.998, \"z\": 16.082}, \"end\": {\"x\": 51.58572541314426, \"y\": 44.96150128375398, \"z\": 17.123597983148393}, \"color\": \"green\", \"radius\": 0.03, \"dashed\": false});\n\tviewer_1751567723575695.addCylinder({\"start\": {\"x\": 54.823, \"y\": 41.663, \"z\": 16.782}, \"end\": {\"x\": 53.93185791222062, \"y\": 43.32474581769866, \"z\": 21.363222594020883}, \"color\": \"green\", \"radius\": 0.03, \"dashed\": false});\n\tviewer_1751567723575695.addCylinder({\"start\": {\"x\": 54.18, \"y\": 41.683, \"z\": 18.179}, \"end\": {\"x\": 52.66522613567377, \"y\": 42.585612814065115, \"z\": 21.383256205313376}, \"color\": \"green\", \"radius\": 0.03, \"dashed\": false});\n\tviewer_1751567723575695.addCylinder({\"start\": {\"x\": 50.65, \"y\": 50.248, \"z\": 16.802}, \"end\": {\"x\": 52.82667332395606, \"y\": 52.26916574423089, \"z\": 19.146100990744316}, \"color\": \"green\", \"radius\": 0.03, \"dashed\": false});\n\tviewer_1751567723575695.addCylinder({\"start\": {\"x\": 51.097, \"y\": 49.697, \"z\": 15.45}, \"end\": {\"x\": 48.74124961263886, \"y\": 49.780966391462556, \"z\": 14.448258285854081}, \"color\": \"green\", \"radius\": 0.03, \"dashed\": false});\n\tviewer_1751567723575695.addCylinder({\"start\": {\"x\": 50.09, \"y\": 48.745, \"z\": 14.792}, \"end\": {\"x\": 49.5596527959384, \"y\": 51.16339574079869, \"z\": 12.763571275261537}, \"color\": \"green\", \"radius\": 0.03, \"dashed\": false});\n\tviewer_1751567723575695.addCylinder({\"start\": {\"x\": 50.448, \"y\": 47.303, \"z\": 15.066}, \"end\": {\"x\": 53.41220624691886, \"y\": 52.25841762816759, \"z\": 16.96098916886249}, \"color\": \"green\", \"radius\": 0.03, \"dashed\": false});\n\tviewer_1751567723575695.addCylinder({\"start\": {\"x\": 49.586, \"y\": 46.708, \"z\": 16.17}, \"end\": {\"x\": 46.547219899401654, \"y\": 45.62948983911321, \"z\": 15.451867299726441}, \"color\": \"green\", \"radius\": 0.03, \"dashed\": false});\n\tviewer_1751567723575695.addCylinder({\"start\": {\"x\": 49.414, \"y\": 45.19, \"z\": 16.022}, \"end\": {\"x\": 48.661734861384225, \"y\": 45.913651534316365, \"z\": 16.755383163278207}, \"color\": \"green\", \"radius\": 0.03, \"dashed\": false});\n\tviewer_1751567723575695.addCylinder({\"start\": {\"x\": 49.978, \"y\": 44.382, \"z\": 17.184}, \"end\": {\"x\": 50.47895017892679, \"y\": 44.21653103961471, \"z\": 16.48293589103593}, \"color\": \"green\", \"radius\": 0.03, \"dashed\": false});\n\tviewer_1751567723575695.addCylinder({\"start\": {\"x\": 49.787, \"y\": 45.069, \"z\": 18.496}, \"end\": {\"x\": 50.85295172783475, \"y\": 47.37247358796393, \"z\": 22.05110529156007}, \"color\": \"green\", \"radius\": 0.03, \"dashed\": false});\n\tviewer_1751567723575695.addCylinder({\"start\": {\"x\": 51.095, \"y\": 45.202, \"z\": 19.251}, \"end\": {\"x\": 53.936356027688944, \"y\": 44.79673911224576, \"z\": 21.258263041022506}, \"color\": \"green\", \"radius\": 0.03, \"dashed\": false});\n\tviewer_1751567723575695.addCylinder({\"start\": {\"x\": 51.13, \"y\": 45.626, \"z\": 20.532}, \"end\": {\"x\": 51.72598016078969, \"y\": 42.88467966176054, \"z\": 22.563192228694973}, \"color\": \"green\", \"radius\": 0.03, \"dashed\": false});\n\tviewer_1751567723575695.addCylinder({\"start\": {\"x\": 49.843, \"y\": 45.863, \"z\": 21.265}, \"end\": {\"x\": 49.12854225590251, \"y\": 46.214115971042006, \"z\": 20.795057281160265}, \"color\": \"green\", \"radius\": 0.03, \"dashed\": false});\n\tviewer_1751567723575695.addCylinder({\"start\": {\"x\": 49.549, \"y\": 44.624, \"z\": 22.053}, \"end\": {\"x\": 50.60165284252015, \"y\": 41.879103173793915, \"z\": 22.385417066646024}, \"color\": \"green\", \"radius\": 0.03, \"dashed\": false});\n\tviewer_1751567723575695.addCylinder({\"start\": {\"x\": 49.189, \"y\": 44.694, \"z\": 23.327}, \"end\": {\"x\": 49.56050608037966, \"y\": 41.802962722747154, \"z\": 23.382816210118072}, \"color\": \"green\", \"radius\": 0.03, \"dashed\": false});\n\tviewer_1751567723575695.addCylinder({\"start\": {\"x\": 49.074, \"y\": 46.039, \"z\": 24.004}, \"end\": {\"x\": 48.07072694728814, \"y\": 44.12158546433484, \"z\": 21.579397036216054}, \"color\": \"green\", \"radius\": 0.03, \"dashed\": false});\n\tviewer_1751567723575695.addCylinder({\"start\": {\"x\": 47.789, \"y\": 46.744, \"z\": 23.668}, \"end\": {\"x\": 50.89354794129579, \"y\": 49.65286630467208, \"z\": 23.044434544646407}, \"color\": \"green\", \"radius\": 0.03, \"dashed\": false});\n\tviewer_1751567723575695.addCylinder({\"start\": {\"x\": 46.978, \"y\": 46.989, \"z\": 24.92}, \"end\": {\"x\": 48.69034478927225, \"y\": 45.460777111648326, \"z\": 21.995816850418933}, \"color\": \"green\", \"radius\": 0.03, \"dashed\": false});\n\tviewer_1751567723575695.addCylinder({\"start\": {\"x\": 46.783, \"y\": 45.728, \"z\": 25.729}, \"end\": {\"x\": 48.58925676527777, \"y\": 42.844036773879004, \"z\": 23.737717024394406}, \"color\": \"green\", \"radius\": 0.03, \"dashed\": false});\n\tviewer_1751567723575695.addCylinder({\"start\": {\"x\": 45.31, \"y\": 45.386, \"z\": 25.923}, \"end\": {\"x\": 47.622470937895066, \"y\": 43.34007090836746, \"z\": 22.740420528163604}, \"color\": \"green\", \"radius\": 0.03, \"dashed\": false});\n\tviewer_1751567723575695.addCylinder({\"start\": {\"x\": 46.815, \"y\": 53.638, \"z\": 16.331}, \"end\": {\"x\": 48.331244349142345, \"y\": 50.73245607791154, \"z\": 13.4405385527505}, \"color\": \"green\", \"radius\": 0.03, \"dashed\": false});\n\tviewer_1751567723575695.addCylinder({\"start\": {\"x\": 51.076, \"y\": 49.603, \"z\": 18.067}, \"end\": {\"x\": 52.436052735095906, \"y\": 51.9409349402526, \"z\": 17.842907568846282}, \"color\": \"green\", \"radius\": 0.03, \"dashed\": false});\n\tviewer_1751567723575695.addCylinder({\"start\": {\"x\": 53.125, \"y\": 50.072, \"z\": 19.761}, \"end\": {\"x\": 50.31056815765698, \"y\": 51.60673204195852, \"z\": 18.192984323060436}, \"color\": \"green\", \"radius\": 0.03, \"dashed\": false});\n\tviewer_1751567723575695.addCylinder({\"start\": {\"x\": 54.436, \"y\": 48.242, \"z\": 20.545}, \"end\": {\"x\": 53.55493333181544, \"y\": 52.24150559487759, \"z\": 22.783075733176602}, \"color\": \"green\", \"radius\": 0.03, \"dashed\": false});\n\tviewer_1751567723575695.addCylinder({\"start\": {\"x\": 49.947, \"y\": 51.303, \"z\": 16.836}, \"end\": {\"x\": 52.951977545348775, \"y\": 53.645100572330875, \"z\": 16.575029385183196}, \"color\": \"green\", \"radius\": 0.03, \"dashed\": false});\n\tviewer_1751567723575695.addCylinder({\"start\": {\"x\": 46.234, \"y\": 49.831, \"z\": 20.358}, \"end\": {\"x\": 47.83012599184008, \"y\": 51.343179842210326, \"z\": 16.334607638949965}, \"color\": \"green\", \"radius\": 0.03, \"dashed\": false});\n\tviewer_1751567723575695.addCylinder({\"start\": {\"x\": 47.613, \"y\": 51.318, \"z\": 21.844}, \"end\": {\"x\": 51.87701458115352, \"y\": 52.03630060954092, \"z\": 21.326973545770066}, \"color\": \"green\", \"radius\": 0.03, \"dashed\": false});\n\tviewer_1751567723575695.addCylinder({\"start\": {\"x\": 48.444, \"y\": 50.766, \"z\": 19.453}, \"end\": {\"x\": 49.727994088413, \"y\": 52.98132526934231, \"z\": 17.136229898856243}, \"color\": \"green\", \"radius\": 0.03, \"dashed\": false});\n\tviewer_1751567723575695.addCylinder({\"start\": {\"x\": 46.391, \"y\": 52.233, \"z\": 19.823}, \"end\": {\"x\": 47.61270876175173, \"y\": 52.37760974765667, \"z\": 18.81178012361448}, \"color\": \"green\", \"radius\": 0.03, \"dashed\": false});\n\tviewer_1751567723575695.addCylinder({\"start\": {\"x\": 47.174, \"y\": 51.04, \"z\": 20.4}, \"end\": {\"x\": 48.6969657044346, \"y\": 51.7663182767375, \"z\": 17.684404578454178}, \"color\": \"green\", \"radius\": 0.03, \"dashed\": false});\n\tviewer_1751567723575695.zoomTo();\n\tviewer_1751567723575695.setBackgroundColor(\"white\");\nviewer_1751567723575695.render();\n});\n</script>",
      "text/html": [
       "<div id=\"3dmolviewer_1751567723575695\"  style=\"position: relative; width: 800px; height: 600px;\">\n",
       "        <p id=\"3dmolwarning_1751567723575695\" style=\"background-color:#ffcccc;color:black\">3Dmol.js failed to load for some reason.  Please check your browser console for error messages.<br></p>\n",
       "        </div>\n",
       "<script>\n",
       "\n",
       "var loadScriptAsync = function(uri){\n",
       "  return new Promise((resolve, reject) => {\n",
       "    //this is to ignore the existence of requirejs amd\n",
       "    var savedexports, savedmodule;\n",
       "    if (typeof exports !== 'undefined') savedexports = exports;\n",
       "    else exports = {}\n",
       "    if (typeof module !== 'undefined') savedmodule = module;\n",
       "    else module = {}\n",
       "\n",
       "    var tag = document.createElement('script');\n",
       "    tag.src = uri;\n",
       "    tag.async = true;\n",
       "    tag.onload = () => {\n",
       "        exports = savedexports;\n",
       "        module = savedmodule;\n",
       "        resolve();\n",
       "    };\n",
       "  var firstScriptTag = document.getElementsByTagName('script')[0];\n",
       "  firstScriptTag.parentNode.insertBefore(tag, firstScriptTag);\n",
       "});\n",
       "};\n",
       "\n",
       "if(typeof $3Dmolpromise === 'undefined') {\n",
       "$3Dmolpromise = null;\n",
       "  $3Dmolpromise = loadScriptAsync('https://cdnjs.cloudflare.com/ajax/libs/3Dmol/2.4.2/3Dmol-min.js');\n",
       "}\n",
       "\n",
       "var viewer_1751567723575695 = null;\n",
       "var warn = document.getElementById(\"3dmolwarning_1751567723575695\");\n",
       "if(warn) {\n",
       "    warn.parentNode.removeChild(warn);\n",
       "}\n",
       "$3Dmolpromise.then(function() {\n",
       "viewer_1751567723575695 = $3Dmol.createViewer(document.getElementById(\"3dmolviewer_1751567723575695\"),{backgroundColor:\"white\"});\n",
       "viewer_1751567723575695.zoomTo();\n",
       "\tviewer_1751567723575695.addModel(\"54\\n\\nC   49.370   49.704   19.914\\nC   50.801   50.050   19.475\\nC   51.897   49.650   20.467\\nC   46.906   52.377   18.504\\nC   46.235   53.471   17.688\\nC   48.256   54.033   16.440\\nC   46.060   54.690   15.660\\nC   46.673   52.443   15.516\\nC   54.378   49.296   19.855\\nC   55.618   49.789   19.072\\nC   55.285   50.079   17.579\\nC   55.721   51.480   17.084\\nC   55.484   51.746   15.572\\nC   56.675   51.303   14.715\\nC   56.289   50.836   13.325\\nC   55.649   49.407   13.279\\nC   54.665   49.197   12.075\\nC   54.223   47.965   11.681\\nC   54.669   46.707   12.387\\nC   53.888   46.625   13.712\\nC   53.719   45.490   14.410\\nC   54.275   44.139   13.958\\nC   53.886   43.033   14.920\\nC   54.844   42.998   16.082\\nC   54.823   41.663   16.782\\nC   54.180   41.683   18.179\\nC   50.650   50.248   16.802\\nC   51.097   49.697   15.450\\nC   50.090   48.745   14.792\\nC   50.448   47.303   15.066\\nC   49.586   46.708   16.170\\nC   49.414   45.190   16.022\\nC   49.978   44.382   17.184\\nC   49.787   45.069   18.496\\nC   51.095   45.202   19.251\\nC   51.130   45.626   20.532\\nC   49.843   45.863   21.265\\nC   49.549   44.624   22.053\\nC   49.189   44.694   23.327\\nC   49.074   46.039   24.004\\nC   47.789   46.744   23.668\\nC   46.978   46.989   24.920\\nC   46.783   45.728   25.729\\nC   45.310   45.386   25.923\\nN   46.815   53.638   16.331\\nO   51.076   49.603   18.067\\nO   53.125   50.072   19.761\\nO   54.436   48.242   20.545\\nO   49.947   51.303   16.836\\nO   46.234   49.831   20.358\\nO   47.613   51.318   21.844\\nO   48.444   50.766   19.453\\nO   46.391   52.233   19.823\\nP   47.174   51.040   20.400\\n\",\"xyz\");\n",
       "\tviewer_1751567723575695.addModel(\"54\\n\\nC   51.812   50.801   23.444\\nC   52.552   51.422   22.287\\nC   49.723   47.590   21.117\\nC   51.715   51.653   20.067\\nC   50.390   51.974   19.508\\nC   47.608   51.839   13.972\\nC   47.985   52.279   15.343\\nC   47.490   50.053   12.451\\nC   51.678   48.560   22.410\\nC   53.318   45.313   19.977\\nC   49.398   44.989   15.824\\nC   47.539   46.636   16.002\\nC   53.355   51.616   15.604\\nC   54.579   52.053   14.888\\nC   53.349   49.992   12.635\\nC   53.403   48.739   11.772\\nC   54.825   51.820   13.488\\nC   54.761   50.545   12.782\\nC   54.070   47.558   12.364\\nC   53.239   46.936   13.487\\nC   52.410   45.838   16.205\\nC   53.885   45.763   14.137\\nC   53.016   45.025   15.098\\nC   51.586   44.962   17.124\\nC   53.932   43.325   21.363\\nC   52.665   42.586   21.383\\nC   52.827   52.269   19.146\\nC   48.741   49.781   14.448\\nC   49.560   51.163   12.764\\nC   53.412   52.258   16.961\\nC   46.547   45.629   15.452\\nC   48.662   45.914   16.755\\nC   50.479   44.217   16.483\\nC   50.853   47.372   22.051\\nC   53.936   44.797   21.258\\nC   51.726   42.885   22.563\\nC   49.129   46.214   20.795\\nC   50.602   41.879   22.385\\nC   49.561   41.803   23.383\\nC   48.071   44.122   21.579\\nC   50.894   49.653   23.044\\nC   48.690   45.461   21.996\\nC   48.589   42.844   23.738\\nC   47.622   43.340   22.740\\nN   48.331   50.732   13.441\\nO   52.436   51.941   17.843\\nO   50.311   51.607   18.193\\nO   53.555   52.242   22.783\\nO   52.952   53.645   16.575\\nO   47.830   51.343   16.335\\nO   51.877   52.036   21.327\\nO   49.728   52.981   17.136\\nO   47.613   52.378   18.812\\nP   48.697   51.766   17.684\\n\",\"xyz\");\n",
       "\tviewer_1751567723575695.setStyle({\"model\": 0},{\"stick\": {\"radius\": 0.06, \"color\": \"#DC2626\"}, \"sphere\": {\"radius\": 0.15, \"color\": \"#DC2626\"}});\n",
       "\tviewer_1751567723575695.setStyle({\"model\": 1},{\"stick\": {\"radius\": 0.06, \"color\": \"#2563EB\"}, \"sphere\": {\"radius\": 0.15, \"color\": \"#2563EB\"}});\n",
       "\tviewer_1751567723575695.addCylinder({\"start\": {\"x\": 49.37, \"y\": 49.704, \"z\": 19.914}, \"end\": {\"x\": 51.812006439255214, \"y\": 50.801113511731664, \"z\": 23.443869569407614}, \"color\": \"green\", \"radius\": 0.03, \"dashed\": false});\n",
       "\tviewer_1751567723575695.addCylinder({\"start\": {\"x\": 50.801, \"y\": 50.05, \"z\": 19.475}, \"end\": {\"x\": 52.552154122825485, \"y\": 51.421554941306326, \"z\": 22.28667993975614}, \"color\": \"green\", \"radius\": 0.03, \"dashed\": false});\n",
       "\tviewer_1751567723575695.addCylinder({\"start\": {\"x\": 51.897, \"y\": 49.65, \"z\": 20.467}, \"end\": {\"x\": 49.722835976147444, \"y\": 47.589737244507404, \"z\": 21.116985978338473}, \"color\": \"green\", \"radius\": 0.03, \"dashed\": false});\n",
       "\tviewer_1751567723575695.addCylinder({\"start\": {\"x\": 46.906, \"y\": 52.377, \"z\": 18.504}, \"end\": {\"x\": 51.71538455119372, \"y\": 51.65293959553102, \"z\": 20.066965582956936}, \"color\": \"green\", \"radius\": 0.03, \"dashed\": false});\n",
       "\tviewer_1751567723575695.addCylinder({\"start\": {\"x\": 46.235, \"y\": 53.471, \"z\": 17.688}, \"end\": {\"x\": 50.39026969004923, \"y\": 51.9735638283127, \"z\": 19.5077235010933}, \"color\": \"green\", \"radius\": 0.03, \"dashed\": false});\n",
       "\tviewer_1751567723575695.addCylinder({\"start\": {\"x\": 48.256, \"y\": 54.033, \"z\": 16.44}, \"end\": {\"x\": 47.60798844304437, \"y\": 51.83923224872736, \"z\": 13.97218919180651}, \"color\": \"green\", \"radius\": 0.03, \"dashed\": false});\n",
       "\tviewer_1751567723575695.addCylinder({\"start\": {\"x\": 46.06, \"y\": 54.69, \"z\": 15.66}, \"end\": {\"x\": 47.98468382704309, \"y\": 52.278977351934564, \"z\": 15.34335797495443}, \"color\": \"green\", \"radius\": 0.03, \"dashed\": false});\n",
       "\tviewer_1751567723575695.addCylinder({\"start\": {\"x\": 46.673, \"y\": 52.443, \"z\": 15.516}, \"end\": {\"x\": 47.49034571960906, \"y\": 50.05299303881628, \"z\": 12.45147663691688}, \"color\": \"green\", \"radius\": 0.03, \"dashed\": false});\n",
       "\tviewer_1751567723575695.addCylinder({\"start\": {\"x\": 54.378, \"y\": 49.296, \"z\": 19.855}, \"end\": {\"x\": 51.67802455859962, \"y\": 48.55983565566475, \"z\": 22.40955074643277}, \"color\": \"green\", \"radius\": 0.03, \"dashed\": false});\n",
       "\tviewer_1751567723575695.addCylinder({\"start\": {\"x\": 55.618, \"y\": 49.789, \"z\": 19.072}, \"end\": {\"x\": 53.317908461246574, \"y\": 45.31294236471735, \"z\": 19.977092166509955}, \"color\": \"green\", \"radius\": 0.03, \"dashed\": false});\n",
       "\tviewer_1751567723575695.addCylinder({\"start\": {\"x\": 55.285, \"y\": 50.079, \"z\": 17.579}, \"end\": {\"x\": 49.3983830669377, \"y\": 44.98935941580368, \"z\": 15.823659759627652}, \"color\": \"green\", \"radius\": 0.03, \"dashed\": false});\n",
       "\tviewer_1751567723575695.addCylinder({\"start\": {\"x\": 55.721, \"y\": 51.48, \"z\": 17.084}, \"end\": {\"x\": 47.538730776362065, \"y\": 46.63614590648025, \"z\": 16.002087930839384}, \"color\": \"green\", \"radius\": 0.03, \"dashed\": false});\n",
       "\tviewer_1751567723575695.addCylinder({\"start\": {\"x\": 55.484, \"y\": 51.746, \"z\": 15.572}, \"end\": {\"x\": 53.35505773285432, \"y\": 51.61569037119374, \"z\": 15.604416384053994}, \"color\": \"green\", \"radius\": 0.03, \"dashed\": false});\n",
       "\tviewer_1751567723575695.addCylinder({\"start\": {\"x\": 56.675, \"y\": 51.303, \"z\": 14.715}, \"end\": {\"x\": 54.57875615701358, \"y\": 52.053499927733796, \"z\": 14.88816017367091}, \"color\": \"green\", \"radius\": 0.03, \"dashed\": false});\n",
       "\tviewer_1751567723575695.addCylinder({\"start\": {\"x\": 56.289, \"y\": 50.836, \"z\": 13.325}, \"end\": {\"x\": 53.34915940293156, \"y\": 49.991639565209304, \"z\": 12.635278093356607}, \"color\": \"green\", \"radius\": 0.03, \"dashed\": false});\n",
       "\tviewer_1751567723575695.addCylinder({\"start\": {\"x\": 55.649, \"y\": 49.407, \"z\": 13.279}, \"end\": {\"x\": 53.40328139230819, \"y\": 48.73897470684968, \"z\": 11.771813813321367}, \"color\": \"green\", \"radius\": 0.03, \"dashed\": false});\n",
       "\tviewer_1751567723575695.addCylinder({\"start\": {\"x\": 54.665, \"y\": 49.197, \"z\": 12.075}, \"end\": {\"x\": 54.824793728172246, \"y\": 51.81987084645311, \"z\": 13.487566026189818}, \"color\": \"green\", \"radius\": 0.03, \"dashed\": false});\n",
       "\tviewer_1751567723575695.addCylinder({\"start\": {\"x\": 54.223, \"y\": 47.965, \"z\": 11.681}, \"end\": {\"x\": 54.76132065840451, \"y\": 50.54541191864705, \"z\": 12.782318118890775}, \"color\": \"green\", \"radius\": 0.03, \"dashed\": false});\n",
       "\tviewer_1751567723575695.addCylinder({\"start\": {\"x\": 54.669, \"y\": 46.707, \"z\": 12.387}, \"end\": {\"x\": 54.069766021386805, \"y\": 47.55760750052471, \"z\": 12.364473718344374}, \"color\": \"green\", \"radius\": 0.03, \"dashed\": false});\n",
       "\tviewer_1751567723575695.addCylinder({\"start\": {\"x\": 53.888, \"y\": 46.625, \"z\": 13.712}, \"end\": {\"x\": 53.23928699899277, \"y\": 46.935533157669, \"z\": 13.486697896182333}, \"color\": \"green\", \"radius\": 0.03, \"dashed\": false});\n",
       "\tviewer_1751567723575695.addCylinder({\"start\": {\"x\": 53.719, \"y\": 45.49, \"z\": 14.41}, \"end\": {\"x\": 52.410451233771575, \"y\": 45.838123564436245, \"z\": 16.204861515056468}, \"color\": \"green\", \"radius\": 0.03, \"dashed\": false});\n",
       "\tviewer_1751567723575695.addCylinder({\"start\": {\"x\": 54.275, \"y\": 44.139, \"z\": 13.958}, \"end\": {\"x\": 53.88478739747038, \"y\": 45.76262805888965, \"z\": 14.136777787290072}, \"color\": \"green\", \"radius\": 0.03, \"dashed\": false});\n",
       "\tviewer_1751567723575695.addCylinder({\"start\": {\"x\": 53.886, \"y\": 43.033, \"z\": 14.92}, \"end\": {\"x\": 53.016205541381105, \"y\": 45.025273680365096, \"z\": 15.09764618605401}, \"color\": \"green\", \"radius\": 0.03, \"dashed\": false});\n",
       "\tviewer_1751567723575695.addCylinder({\"start\": {\"x\": 54.844, \"y\": 42.998, \"z\": 16.082}, \"end\": {\"x\": 51.58572541314426, \"y\": 44.96150128375398, \"z\": 17.123597983148393}, \"color\": \"green\", \"radius\": 0.03, \"dashed\": false});\n",
       "\tviewer_1751567723575695.addCylinder({\"start\": {\"x\": 54.823, \"y\": 41.663, \"z\": 16.782}, \"end\": {\"x\": 53.93185791222062, \"y\": 43.32474581769866, \"z\": 21.363222594020883}, \"color\": \"green\", \"radius\": 0.03, \"dashed\": false});\n",
       "\tviewer_1751567723575695.addCylinder({\"start\": {\"x\": 54.18, \"y\": 41.683, \"z\": 18.179}, \"end\": {\"x\": 52.66522613567377, \"y\": 42.585612814065115, \"z\": 21.383256205313376}, \"color\": \"green\", \"radius\": 0.03, \"dashed\": false});\n",
       "\tviewer_1751567723575695.addCylinder({\"start\": {\"x\": 50.65, \"y\": 50.248, \"z\": 16.802}, \"end\": {\"x\": 52.82667332395606, \"y\": 52.26916574423089, \"z\": 19.146100990744316}, \"color\": \"green\", \"radius\": 0.03, \"dashed\": false});\n",
       "\tviewer_1751567723575695.addCylinder({\"start\": {\"x\": 51.097, \"y\": 49.697, \"z\": 15.45}, \"end\": {\"x\": 48.74124961263886, \"y\": 49.780966391462556, \"z\": 14.448258285854081}, \"color\": \"green\", \"radius\": 0.03, \"dashed\": false});\n",
       "\tviewer_1751567723575695.addCylinder({\"start\": {\"x\": 50.09, \"y\": 48.745, \"z\": 14.792}, \"end\": {\"x\": 49.5596527959384, \"y\": 51.16339574079869, \"z\": 12.763571275261537}, \"color\": \"green\", \"radius\": 0.03, \"dashed\": false});\n",
       "\tviewer_1751567723575695.addCylinder({\"start\": {\"x\": 50.448, \"y\": 47.303, \"z\": 15.066}, \"end\": {\"x\": 53.41220624691886, \"y\": 52.25841762816759, \"z\": 16.96098916886249}, \"color\": \"green\", \"radius\": 0.03, \"dashed\": false});\n",
       "\tviewer_1751567723575695.addCylinder({\"start\": {\"x\": 49.586, \"y\": 46.708, \"z\": 16.17}, \"end\": {\"x\": 46.547219899401654, \"y\": 45.62948983911321, \"z\": 15.451867299726441}, \"color\": \"green\", \"radius\": 0.03, \"dashed\": false});\n",
       "\tviewer_1751567723575695.addCylinder({\"start\": {\"x\": 49.414, \"y\": 45.19, \"z\": 16.022}, \"end\": {\"x\": 48.661734861384225, \"y\": 45.913651534316365, \"z\": 16.755383163278207}, \"color\": \"green\", \"radius\": 0.03, \"dashed\": false});\n",
       "\tviewer_1751567723575695.addCylinder({\"start\": {\"x\": 49.978, \"y\": 44.382, \"z\": 17.184}, \"end\": {\"x\": 50.47895017892679, \"y\": 44.21653103961471, \"z\": 16.48293589103593}, \"color\": \"green\", \"radius\": 0.03, \"dashed\": false});\n",
       "\tviewer_1751567723575695.addCylinder({\"start\": {\"x\": 49.787, \"y\": 45.069, \"z\": 18.496}, \"end\": {\"x\": 50.85295172783475, \"y\": 47.37247358796393, \"z\": 22.05110529156007}, \"color\": \"green\", \"radius\": 0.03, \"dashed\": false});\n",
       "\tviewer_1751567723575695.addCylinder({\"start\": {\"x\": 51.095, \"y\": 45.202, \"z\": 19.251}, \"end\": {\"x\": 53.936356027688944, \"y\": 44.79673911224576, \"z\": 21.258263041022506}, \"color\": \"green\", \"radius\": 0.03, \"dashed\": false});\n",
       "\tviewer_1751567723575695.addCylinder({\"start\": {\"x\": 51.13, \"y\": 45.626, \"z\": 20.532}, \"end\": {\"x\": 51.72598016078969, \"y\": 42.88467966176054, \"z\": 22.563192228694973}, \"color\": \"green\", \"radius\": 0.03, \"dashed\": false});\n",
       "\tviewer_1751567723575695.addCylinder({\"start\": {\"x\": 49.843, \"y\": 45.863, \"z\": 21.265}, \"end\": {\"x\": 49.12854225590251, \"y\": 46.214115971042006, \"z\": 20.795057281160265}, \"color\": \"green\", \"radius\": 0.03, \"dashed\": false});\n",
       "\tviewer_1751567723575695.addCylinder({\"start\": {\"x\": 49.549, \"y\": 44.624, \"z\": 22.053}, \"end\": {\"x\": 50.60165284252015, \"y\": 41.879103173793915, \"z\": 22.385417066646024}, \"color\": \"green\", \"radius\": 0.03, \"dashed\": false});\n",
       "\tviewer_1751567723575695.addCylinder({\"start\": {\"x\": 49.189, \"y\": 44.694, \"z\": 23.327}, \"end\": {\"x\": 49.56050608037966, \"y\": 41.802962722747154, \"z\": 23.382816210118072}, \"color\": \"green\", \"radius\": 0.03, \"dashed\": false});\n",
       "\tviewer_1751567723575695.addCylinder({\"start\": {\"x\": 49.074, \"y\": 46.039, \"z\": 24.004}, \"end\": {\"x\": 48.07072694728814, \"y\": 44.12158546433484, \"z\": 21.579397036216054}, \"color\": \"green\", \"radius\": 0.03, \"dashed\": false});\n",
       "\tviewer_1751567723575695.addCylinder({\"start\": {\"x\": 47.789, \"y\": 46.744, \"z\": 23.668}, \"end\": {\"x\": 50.89354794129579, \"y\": 49.65286630467208, \"z\": 23.044434544646407}, \"color\": \"green\", \"radius\": 0.03, \"dashed\": false});\n",
       "\tviewer_1751567723575695.addCylinder({\"start\": {\"x\": 46.978, \"y\": 46.989, \"z\": 24.92}, \"end\": {\"x\": 48.69034478927225, \"y\": 45.460777111648326, \"z\": 21.995816850418933}, \"color\": \"green\", \"radius\": 0.03, \"dashed\": false});\n",
       "\tviewer_1751567723575695.addCylinder({\"start\": {\"x\": 46.783, \"y\": 45.728, \"z\": 25.729}, \"end\": {\"x\": 48.58925676527777, \"y\": 42.844036773879004, \"z\": 23.737717024394406}, \"color\": \"green\", \"radius\": 0.03, \"dashed\": false});\n",
       "\tviewer_1751567723575695.addCylinder({\"start\": {\"x\": 45.31, \"y\": 45.386, \"z\": 25.923}, \"end\": {\"x\": 47.622470937895066, \"y\": 43.34007090836746, \"z\": 22.740420528163604}, \"color\": \"green\", \"radius\": 0.03, \"dashed\": false});\n",
       "\tviewer_1751567723575695.addCylinder({\"start\": {\"x\": 46.815, \"y\": 53.638, \"z\": 16.331}, \"end\": {\"x\": 48.331244349142345, \"y\": 50.73245607791154, \"z\": 13.4405385527505}, \"color\": \"green\", \"radius\": 0.03, \"dashed\": false});\n",
       "\tviewer_1751567723575695.addCylinder({\"start\": {\"x\": 51.076, \"y\": 49.603, \"z\": 18.067}, \"end\": {\"x\": 52.436052735095906, \"y\": 51.9409349402526, \"z\": 17.842907568846282}, \"color\": \"green\", \"radius\": 0.03, \"dashed\": false});\n",
       "\tviewer_1751567723575695.addCylinder({\"start\": {\"x\": 53.125, \"y\": 50.072, \"z\": 19.761}, \"end\": {\"x\": 50.31056815765698, \"y\": 51.60673204195852, \"z\": 18.192984323060436}, \"color\": \"green\", \"radius\": 0.03, \"dashed\": false});\n",
       "\tviewer_1751567723575695.addCylinder({\"start\": {\"x\": 54.436, \"y\": 48.242, \"z\": 20.545}, \"end\": {\"x\": 53.55493333181544, \"y\": 52.24150559487759, \"z\": 22.783075733176602}, \"color\": \"green\", \"radius\": 0.03, \"dashed\": false});\n",
       "\tviewer_1751567723575695.addCylinder({\"start\": {\"x\": 49.947, \"y\": 51.303, \"z\": 16.836}, \"end\": {\"x\": 52.951977545348775, \"y\": 53.645100572330875, \"z\": 16.575029385183196}, \"color\": \"green\", \"radius\": 0.03, \"dashed\": false});\n",
       "\tviewer_1751567723575695.addCylinder({\"start\": {\"x\": 46.234, \"y\": 49.831, \"z\": 20.358}, \"end\": {\"x\": 47.83012599184008, \"y\": 51.343179842210326, \"z\": 16.334607638949965}, \"color\": \"green\", \"radius\": 0.03, \"dashed\": false});\n",
       "\tviewer_1751567723575695.addCylinder({\"start\": {\"x\": 47.613, \"y\": 51.318, \"z\": 21.844}, \"end\": {\"x\": 51.87701458115352, \"y\": 52.03630060954092, \"z\": 21.326973545770066}, \"color\": \"green\", \"radius\": 0.03, \"dashed\": false});\n",
       "\tviewer_1751567723575695.addCylinder({\"start\": {\"x\": 48.444, \"y\": 50.766, \"z\": 19.453}, \"end\": {\"x\": 49.727994088413, \"y\": 52.98132526934231, \"z\": 17.136229898856243}, \"color\": \"green\", \"radius\": 0.03, \"dashed\": false});\n",
       "\tviewer_1751567723575695.addCylinder({\"start\": {\"x\": 46.391, \"y\": 52.233, \"z\": 19.823}, \"end\": {\"x\": 47.61270876175173, \"y\": 52.37760974765667, \"z\": 18.81178012361448}, \"color\": \"green\", \"radius\": 0.03, \"dashed\": false});\n",
       "\tviewer_1751567723575695.addCylinder({\"start\": {\"x\": 47.174, \"y\": 51.04, \"z\": 20.4}, \"end\": {\"x\": 48.6969657044346, \"y\": 51.7663182767375, \"z\": 17.684404578454178}, \"color\": \"green\", \"radius\": 0.03, \"dashed\": false});\n",
       "\tviewer_1751567723575695.zoomTo();\n",
       "\tviewer_1751567723575695.setBackgroundColor(\"white\");\n",
       "viewer_1751567723575695.render();\n",
       "});\n",
       "</script>"
      ]
     },
     "metadata": {},
     "output_type": "display_data"
    }
   ],
   "source": [
    "data_path = \"../Data/first_8_molecules_RDKIT\"\n",
    "ligand = '1ln1_DLP'\n",
    "i = 0\n",
    "path1 = os.path.join(data_path, 'extra_bio_ligands', ligand+'.xyz')\n",
    "path2 = os.path.join('arbalign_output', ligand+'_conf'+str(i)+'-aligned_to-'+ligand+'.xyz')\n",
    "molA = next(pybel.readfile(\"xyz\", path1))\n",
    "molB = next(pybel.readfile(\"xyz\", path2))\n",
    "X_A, T_A, B_A = otm.tl.process_molecule(molA, heavy_atoms_only=True) \n",
    "X_B, T_B, B_B = otm.tl.process_molecule(molB, heavy_atoms_only=True)\n",
    "X_B_aligned, _, _ = otm.tl.kabsch(X_A, X_B, np.eye(X_A.shape[0]))\n",
    "print(otm.tl.root_mean_square_deviation(X_A, X_B_aligned))\n",
    "interactive_alignment_plot_py3dmol(X_A, X_B_aligned, T_A, T_B, B_A, B_B, np.arange(X_A.shape[0], dtype=int), '', '')"
   ]
  },
  {
   "cell_type": "code",
   "execution_count": 29,
   "metadata": {},
   "outputs": [
    {
     "data": {
      "application/3dmoljs_load.v0": "<div id=\"3dmolviewer_1750361305108434\"  style=\"position: relative; width: 800px; height: 600px;\">\n        <p id=\"3dmolwarning_1750361305108434\" style=\"background-color:#ffcccc;color:black\">3Dmol.js failed to load for some reason.  Please check your browser console for error messages.<br></p>\n        </div>\n<script>\n\nvar loadScriptAsync = function(uri){\n  return new Promise((resolve, reject) => {\n    //this is to ignore the existence of requirejs amd\n    var savedexports, savedmodule;\n    if (typeof exports !== 'undefined') savedexports = exports;\n    else exports = {}\n    if (typeof module !== 'undefined') savedmodule = module;\n    else module = {}\n\n    var tag = document.createElement('script');\n    tag.src = uri;\n    tag.async = true;\n    tag.onload = () => {\n        exports = savedexports;\n        module = savedmodule;\n        resolve();\n    };\n  var firstScriptTag = document.getElementsByTagName('script')[0];\n  firstScriptTag.parentNode.insertBefore(tag, firstScriptTag);\n});\n};\n\nif(typeof $3Dmolpromise === 'undefined') {\n$3Dmolpromise = null;\n  $3Dmolpromise = loadScriptAsync('https://cdnjs.cloudflare.com/ajax/libs/3Dmol/2.4.2/3Dmol-min.js');\n}\n\nvar viewer_1750361305108434 = null;\nvar warn = document.getElementById(\"3dmolwarning_1750361305108434\");\nif(warn) {\n    warn.parentNode.removeChild(warn);\n}\n$3Dmolpromise.then(function() {\nviewer_1750361305108434 = $3Dmol.createViewer(document.getElementById(\"3dmolviewer_1750361305108434\"),{backgroundColor:\"white\"});\nviewer_1750361305108434.zoomTo();\n\tviewer_1750361305108434.addModel(\"17\\n\\nS    2.291   -0.979   -1.813\\nO    3.109   -0.273   -2.833\\nO    0.947   -0.344   -1.511\\nO    1.934   -2.480   -2.451\\nO    3.007   -1.355   -0.525\\nH    1.999   -2.357   -3.415\\nH    1.507    0.838    0.954\\nN    1.671   -0.103    1.376\\nH    2.204    0.001    2.241\\nH    2.260   -0.638    0.656\\nC    0.379   -0.811    1.595\\nH    0.585   -1.806    2.008\\nH   -0.103   -0.904    0.616\\nH   -0.249   -0.234    2.285\\nO    1.005    2.025   -0.246\\nH    1.498    2.754   -0.643\\nH    0.981    1.319   -0.937\\n\",\"xyz\");\n\tviewer_1750361305108434.addModel(\"17\\n\\nS    1.883   -1.083   -1.750\\nO    2.692   -1.691   -0.608\\nO    2.507    0.193   -2.264\\nO    1.990   -2.169   -2.999\\nO    0.424   -1.010   -1.452\\nH    2.885   -2.055   -3.366\\nH    1.580    0.739    0.774\\nN    1.688   -0.148    1.326\\nH    2.293    0.036    2.128\\nH    2.175   -0.826    0.662\\nC    0.364   -0.698    1.734\\nH    0.519   -1.628    2.293\\nH   -0.192   -0.903    0.812\\nH   -0.162    0.035    2.358\\nO    1.624    2.005   -0.400\\nH    1.962    1.479   -1.168\\nH    0.792    2.376   -0.724\\n\",\"xyz\");\n\tviewer_1750361305108434.setStyle({\"model\": 0},{\"stick\": {\"radius\": 0.06, \"color\": \"#DC2626\"}, \"sphere\": {\"radius\": 0.15, \"color\": \"#DC2626\"}});\n\tviewer_1750361305108434.setStyle({\"model\": 1},{\"stick\": {\"radius\": 0.06, \"color\": \"#2563EB\"}, \"sphere\": {\"radius\": 0.15, \"color\": \"#2563EB\"}});\n\tviewer_1750361305108434.addCylinder({\"start\": {\"x\": 2.29113, \"y\": -0.97932, \"z\": -1.81325}, \"end\": {\"x\": 1.8830441538105342, \"y\": -1.0834183001129625, \"z\": -1.7497688074106081}, \"color\": \"green\", \"radius\": 0.03, \"dashed\": false});\n\tviewer_1750361305108434.addCylinder({\"start\": {\"x\": 3.10931, \"y\": -0.27345, \"z\": -2.83284}, \"end\": {\"x\": 2.5068258817223734, \"y\": 0.1925182928519822, \"z\": -2.2636493090414183}, \"color\": \"green\", \"radius\": 0.03, \"dashed\": false});\n\tviewer_1750361305108434.addCylinder({\"start\": {\"x\": 0.94736, \"y\": -0.34395, \"z\": -1.51087}, \"end\": {\"x\": 0.42401417299831823, \"y\": -1.009828200229373, \"z\": -1.452203146269695}, \"color\": \"green\", \"radius\": 0.03, \"dashed\": false});\n\tviewer_1750361305108434.addCylinder({\"start\": {\"x\": 1.93384, \"y\": -2.47997, \"z\": -2.45106}, \"end\": {\"x\": 1.9901964029878145, \"y\": -2.1691691550717556, \"z\": -2.9985085492513583}, \"color\": \"green\", \"radius\": 0.03, \"dashed\": false});\n\tviewer_1750361305108434.addCylinder({\"start\": {\"x\": 3.00679, \"y\": -1.35457, \"z\": -0.52466}, \"end\": {\"x\": 2.691859246605067, \"y\": -1.690795786725296, \"z\": -0.6076425300558408}, \"color\": \"green\", \"radius\": 0.03, \"dashed\": false});\n\tviewer_1750361305108434.addCylinder({\"start\": {\"x\": 1.999, \"y\": -2.35744, \"z\": -3.41478}, \"end\": {\"x\": 2.8849447460364583, \"y\": -2.054695987666312, \"z\": -3.3663953706460275}, \"color\": \"green\", \"radius\": 0.03, \"dashed\": false});\n\tviewer_1750361305108434.addCylinder({\"start\": {\"x\": 1.50703, \"y\": 0.8377, \"z\": 0.95413}, \"end\": {\"x\": 1.5801611115846665, \"y\": 0.7387849792916354, \"z\": 0.7742323562101892}, \"color\": \"green\", \"radius\": 0.03, \"dashed\": false});\n\tviewer_1750361305108434.addCylinder({\"start\": {\"x\": 1.67107, \"y\": -0.10265, \"z\": 1.37611}, \"end\": {\"x\": 1.6881354475000865, \"y\": -0.1484774380385132, \"z\": 1.3264392397032212}, \"color\": \"green\", \"radius\": 0.03, \"dashed\": false});\n\tviewer_1750361305108434.addCylinder({\"start\": {\"x\": 2.20386, \"y\": 0.00085, \"z\": 2.24066}, \"end\": {\"x\": 2.2929959213288242, \"y\": 0.03619628979652334, \"z\": 2.1280169020336945}, \"color\": \"green\", \"radius\": 0.03, \"dashed\": false});\n\tviewer_1750361305108434.addCylinder({\"start\": {\"x\": 2.26009, \"y\": -0.63813, \"z\": 0.65635}, \"end\": {\"x\": 2.175416939827871, \"y\": -0.8262553064219608, \"z\": 0.6616461362007866}, \"color\": \"green\", \"radius\": 0.03, \"dashed\": false});\n\tviewer_1750361305108434.addCylinder({\"start\": {\"x\": 0.37905, \"y\": -0.81138, \"z\": 1.59516}, \"end\": {\"x\": 0.36418859741649157, \"y\": -0.697607999972458, \"z\": 1.7337666092769328}, \"color\": \"green\", \"radius\": 0.03, \"dashed\": false});\n\tviewer_1750361305108434.addCylinder({\"start\": {\"x\": 0.58452, \"y\": -1.80639, \"z\": 2.00791}, \"end\": {\"x\": 0.5190988421354534, \"y\": -1.6281310797153572, \"z\": 2.292830595102261}, \"color\": \"green\", \"radius\": 0.03, \"dashed\": false});\n\tviewer_1750361305108434.addCylinder({\"start\": {\"x\": -0.10322, \"y\": -0.90441, \"z\": 0.61568}, \"end\": {\"x\": -0.19243184818903092, \"y\": -0.9027985030319315, \"z\": 0.8120887483145949}, \"color\": \"green\", \"radius\": 0.03, \"dashed\": false});\n\tviewer_1750361305108434.addCylinder({\"start\": {\"x\": -0.24899, \"y\": -0.23409, \"z\": 2.28455}, \"end\": {\"x\": -0.16198788369368977, \"y\": 0.03529850483284003, \"z\": 2.357899064802673}, \"color\": \"green\", \"radius\": 0.03, \"dashed\": false});\n\tviewer_1750361305108434.addCylinder({\"start\": {\"x\": 1.00544, \"y\": 2.02479, \"z\": -0.24615}, \"end\": {\"x\": 1.624275525119206, \"y\": 2.0047259697798836, \"z\": -0.4004960605824497}, \"color\": \"green\", \"radius\": 0.03, \"dashed\": false});\n\tviewer_1750361305108434.addCylinder({\"start\": {\"x\": 1.49769, \"y\": 2.75412, \"z\": -0.64345}, \"end\": {\"x\": 0.7924923923529925, \"y\": 2.3755459045457465, \"z\": -0.723820960065719}, \"color\": \"green\", \"radius\": 0.03, \"dashed\": false});\n\tviewer_1750361305108434.addCylinder({\"start\": {\"x\": 0.98101, \"y\": 1.3193, \"z\": -0.93749}, \"end\": {\"x\": 1.9617503504565665, \"y\": 1.4791178158873086, \"z\": -1.16843491832124}, \"color\": \"green\", \"radius\": 0.03, \"dashed\": false});\n\tviewer_1750361305108434.zoomTo();\n\tviewer_1750361305108434.setBackgroundColor(\"white\");\nviewer_1750361305108434.render();\n});\n</script>",
      "text/html": [
       "<div id=\"3dmolviewer_1750361305108434\"  style=\"position: relative; width: 800px; height: 600px;\">\n",
       "        <p id=\"3dmolwarning_1750361305108434\" style=\"background-color:#ffcccc;color:black\">3Dmol.js failed to load for some reason.  Please check your browser console for error messages.<br></p>\n",
       "        </div>\n",
       "<script>\n",
       "\n",
       "var loadScriptAsync = function(uri){\n",
       "  return new Promise((resolve, reject) => {\n",
       "    //this is to ignore the existence of requirejs amd\n",
       "    var savedexports, savedmodule;\n",
       "    if (typeof exports !== 'undefined') savedexports = exports;\n",
       "    else exports = {}\n",
       "    if (typeof module !== 'undefined') savedmodule = module;\n",
       "    else module = {}\n",
       "\n",
       "    var tag = document.createElement('script');\n",
       "    tag.src = uri;\n",
       "    tag.async = true;\n",
       "    tag.onload = () => {\n",
       "        exports = savedexports;\n",
       "        module = savedmodule;\n",
       "        resolve();\n",
       "    };\n",
       "  var firstScriptTag = document.getElementsByTagName('script')[0];\n",
       "  firstScriptTag.parentNode.insertBefore(tag, firstScriptTag);\n",
       "});\n",
       "};\n",
       "\n",
       "if(typeof $3Dmolpromise === 'undefined') {\n",
       "$3Dmolpromise = null;\n",
       "  $3Dmolpromise = loadScriptAsync('https://cdnjs.cloudflare.com/ajax/libs/3Dmol/2.4.2/3Dmol-min.js');\n",
       "}\n",
       "\n",
       "var viewer_1750361305108434 = null;\n",
       "var warn = document.getElementById(\"3dmolwarning_1750361305108434\");\n",
       "if(warn) {\n",
       "    warn.parentNode.removeChild(warn);\n",
       "}\n",
       "$3Dmolpromise.then(function() {\n",
       "viewer_1750361305108434 = $3Dmol.createViewer(document.getElementById(\"3dmolviewer_1750361305108434\"),{backgroundColor:\"white\"});\n",
       "viewer_1750361305108434.zoomTo();\n",
       "\tviewer_1750361305108434.addModel(\"17\\n\\nS    2.291   -0.979   -1.813\\nO    3.109   -0.273   -2.833\\nO    0.947   -0.344   -1.511\\nO    1.934   -2.480   -2.451\\nO    3.007   -1.355   -0.525\\nH    1.999   -2.357   -3.415\\nH    1.507    0.838    0.954\\nN    1.671   -0.103    1.376\\nH    2.204    0.001    2.241\\nH    2.260   -0.638    0.656\\nC    0.379   -0.811    1.595\\nH    0.585   -1.806    2.008\\nH   -0.103   -0.904    0.616\\nH   -0.249   -0.234    2.285\\nO    1.005    2.025   -0.246\\nH    1.498    2.754   -0.643\\nH    0.981    1.319   -0.937\\n\",\"xyz\");\n",
       "\tviewer_1750361305108434.addModel(\"17\\n\\nS    1.883   -1.083   -1.750\\nO    2.692   -1.691   -0.608\\nO    2.507    0.193   -2.264\\nO    1.990   -2.169   -2.999\\nO    0.424   -1.010   -1.452\\nH    2.885   -2.055   -3.366\\nH    1.580    0.739    0.774\\nN    1.688   -0.148    1.326\\nH    2.293    0.036    2.128\\nH    2.175   -0.826    0.662\\nC    0.364   -0.698    1.734\\nH    0.519   -1.628    2.293\\nH   -0.192   -0.903    0.812\\nH   -0.162    0.035    2.358\\nO    1.624    2.005   -0.400\\nH    1.962    1.479   -1.168\\nH    0.792    2.376   -0.724\\n\",\"xyz\");\n",
       "\tviewer_1750361305108434.setStyle({\"model\": 0},{\"stick\": {\"radius\": 0.06, \"color\": \"#DC2626\"}, \"sphere\": {\"radius\": 0.15, \"color\": \"#DC2626\"}});\n",
       "\tviewer_1750361305108434.setStyle({\"model\": 1},{\"stick\": {\"radius\": 0.06, \"color\": \"#2563EB\"}, \"sphere\": {\"radius\": 0.15, \"color\": \"#2563EB\"}});\n",
       "\tviewer_1750361305108434.addCylinder({\"start\": {\"x\": 2.29113, \"y\": -0.97932, \"z\": -1.81325}, \"end\": {\"x\": 1.8830441538105342, \"y\": -1.0834183001129625, \"z\": -1.7497688074106081}, \"color\": \"green\", \"radius\": 0.03, \"dashed\": false});\n",
       "\tviewer_1750361305108434.addCylinder({\"start\": {\"x\": 3.10931, \"y\": -0.27345, \"z\": -2.83284}, \"end\": {\"x\": 2.5068258817223734, \"y\": 0.1925182928519822, \"z\": -2.2636493090414183}, \"color\": \"green\", \"radius\": 0.03, \"dashed\": false});\n",
       "\tviewer_1750361305108434.addCylinder({\"start\": {\"x\": 0.94736, \"y\": -0.34395, \"z\": -1.51087}, \"end\": {\"x\": 0.42401417299831823, \"y\": -1.009828200229373, \"z\": -1.452203146269695}, \"color\": \"green\", \"radius\": 0.03, \"dashed\": false});\n",
       "\tviewer_1750361305108434.addCylinder({\"start\": {\"x\": 1.93384, \"y\": -2.47997, \"z\": -2.45106}, \"end\": {\"x\": 1.9901964029878145, \"y\": -2.1691691550717556, \"z\": -2.9985085492513583}, \"color\": \"green\", \"radius\": 0.03, \"dashed\": false});\n",
       "\tviewer_1750361305108434.addCylinder({\"start\": {\"x\": 3.00679, \"y\": -1.35457, \"z\": -0.52466}, \"end\": {\"x\": 2.691859246605067, \"y\": -1.690795786725296, \"z\": -0.6076425300558408}, \"color\": \"green\", \"radius\": 0.03, \"dashed\": false});\n",
       "\tviewer_1750361305108434.addCylinder({\"start\": {\"x\": 1.999, \"y\": -2.35744, \"z\": -3.41478}, \"end\": {\"x\": 2.8849447460364583, \"y\": -2.054695987666312, \"z\": -3.3663953706460275}, \"color\": \"green\", \"radius\": 0.03, \"dashed\": false});\n",
       "\tviewer_1750361305108434.addCylinder({\"start\": {\"x\": 1.50703, \"y\": 0.8377, \"z\": 0.95413}, \"end\": {\"x\": 1.5801611115846665, \"y\": 0.7387849792916354, \"z\": 0.7742323562101892}, \"color\": \"green\", \"radius\": 0.03, \"dashed\": false});\n",
       "\tviewer_1750361305108434.addCylinder({\"start\": {\"x\": 1.67107, \"y\": -0.10265, \"z\": 1.37611}, \"end\": {\"x\": 1.6881354475000865, \"y\": -0.1484774380385132, \"z\": 1.3264392397032212}, \"color\": \"green\", \"radius\": 0.03, \"dashed\": false});\n",
       "\tviewer_1750361305108434.addCylinder({\"start\": {\"x\": 2.20386, \"y\": 0.00085, \"z\": 2.24066}, \"end\": {\"x\": 2.2929959213288242, \"y\": 0.03619628979652334, \"z\": 2.1280169020336945}, \"color\": \"green\", \"radius\": 0.03, \"dashed\": false});\n",
       "\tviewer_1750361305108434.addCylinder({\"start\": {\"x\": 2.26009, \"y\": -0.63813, \"z\": 0.65635}, \"end\": {\"x\": 2.175416939827871, \"y\": -0.8262553064219608, \"z\": 0.6616461362007866}, \"color\": \"green\", \"radius\": 0.03, \"dashed\": false});\n",
       "\tviewer_1750361305108434.addCylinder({\"start\": {\"x\": 0.37905, \"y\": -0.81138, \"z\": 1.59516}, \"end\": {\"x\": 0.36418859741649157, \"y\": -0.697607999972458, \"z\": 1.7337666092769328}, \"color\": \"green\", \"radius\": 0.03, \"dashed\": false});\n",
       "\tviewer_1750361305108434.addCylinder({\"start\": {\"x\": 0.58452, \"y\": -1.80639, \"z\": 2.00791}, \"end\": {\"x\": 0.5190988421354534, \"y\": -1.6281310797153572, \"z\": 2.292830595102261}, \"color\": \"green\", \"radius\": 0.03, \"dashed\": false});\n",
       "\tviewer_1750361305108434.addCylinder({\"start\": {\"x\": -0.10322, \"y\": -0.90441, \"z\": 0.61568}, \"end\": {\"x\": -0.19243184818903092, \"y\": -0.9027985030319315, \"z\": 0.8120887483145949}, \"color\": \"green\", \"radius\": 0.03, \"dashed\": false});\n",
       "\tviewer_1750361305108434.addCylinder({\"start\": {\"x\": -0.24899, \"y\": -0.23409, \"z\": 2.28455}, \"end\": {\"x\": -0.16198788369368977, \"y\": 0.03529850483284003, \"z\": 2.357899064802673}, \"color\": \"green\", \"radius\": 0.03, \"dashed\": false});\n",
       "\tviewer_1750361305108434.addCylinder({\"start\": {\"x\": 1.00544, \"y\": 2.02479, \"z\": -0.24615}, \"end\": {\"x\": 1.624275525119206, \"y\": 2.0047259697798836, \"z\": -0.4004960605824497}, \"color\": \"green\", \"radius\": 0.03, \"dashed\": false});\n",
       "\tviewer_1750361305108434.addCylinder({\"start\": {\"x\": 1.49769, \"y\": 2.75412, \"z\": -0.64345}, \"end\": {\"x\": 0.7924923923529925, \"y\": 2.3755459045457465, \"z\": -0.723820960065719}, \"color\": \"green\", \"radius\": 0.03, \"dashed\": false});\n",
       "\tviewer_1750361305108434.addCylinder({\"start\": {\"x\": 0.98101, \"y\": 1.3193, \"z\": -0.93749}, \"end\": {\"x\": 1.9617503504565665, \"y\": 1.4791178158873086, \"z\": -1.16843491832124}, \"color\": \"green\", \"radius\": 0.03, \"dashed\": false});\n",
       "\tviewer_1750361305108434.zoomTo();\n",
       "\tviewer_1750361305108434.setBackgroundColor(\"white\");\n",
       "viewer_1750361305108434.render();\n",
       "});\n",
       "</script>"
      ]
     },
     "metadata": {},
     "output_type": "display_data"
    }
   ],
   "source": [
    "# %%\n",
    "# Read the molecules\n",
    "molA = next(pybel.readfile(\"xyz\", os.path.join(data_path, \"s1maw1-1.xyz\")))\n",
    "molB = next(pybel.readfile(\"xyz\", os.path.join(data_path, \"s1maw1-3.xyz\")))\n",
    "X_A, T_A, B_A = otm.tl.process_molecule(molA) \n",
    "X_B, T_B, B_B = otm.tl.process_molecule(molB)\n",
    "assignment = otmol_name_res['assignment'][1]\n",
    "P = otm.tl.permutation_to_matrix(assignment)\n",
    "X_B_aligned, R, _ = otm.tl.kabsch(X_A, X_B, P) \n",
    "interactive_alignment_plot_py3dmol(X_A, X_B_aligned, T_A, T_B, B_A, B_B, assignment, '', '')"
   ]
  },
  {
   "cell_type": "code",
   "execution_count": 30,
   "metadata": {},
   "outputs": [
    {
     "data": {
      "application/3dmoljs_load.v0": "<div id=\"3dmolviewer_1750361305118549\"  style=\"position: relative; width: 800px; height: 600px;\">\n        <p id=\"3dmolwarning_1750361305118549\" style=\"background-color:#ffcccc;color:black\">3Dmol.js failed to load for some reason.  Please check your browser console for error messages.<br></p>\n        </div>\n<script>\n\nvar loadScriptAsync = function(uri){\n  return new Promise((resolve, reject) => {\n    //this is to ignore the existence of requirejs amd\n    var savedexports, savedmodule;\n    if (typeof exports !== 'undefined') savedexports = exports;\n    else exports = {}\n    if (typeof module !== 'undefined') savedmodule = module;\n    else module = {}\n\n    var tag = document.createElement('script');\n    tag.src = uri;\n    tag.async = true;\n    tag.onload = () => {\n        exports = savedexports;\n        module = savedmodule;\n        resolve();\n    };\n  var firstScriptTag = document.getElementsByTagName('script')[0];\n  firstScriptTag.parentNode.insertBefore(tag, firstScriptTag);\n});\n};\n\nif(typeof $3Dmolpromise === 'undefined') {\n$3Dmolpromise = null;\n  $3Dmolpromise = loadScriptAsync('https://cdnjs.cloudflare.com/ajax/libs/3Dmol/2.4.2/3Dmol-min.js');\n}\n\nvar viewer_1750361305118549 = null;\nvar warn = document.getElementById(\"3dmolwarning_1750361305118549\");\nif(warn) {\n    warn.parentNode.removeChild(warn);\n}\n$3Dmolpromise.then(function() {\nviewer_1750361305118549 = $3Dmol.createViewer(document.getElementById(\"3dmolviewer_1750361305118549\"),{backgroundColor:\"white\"});\nviewer_1750361305118549.zoomTo();\n\tviewer_1750361305118549.addModel(\"17\\n\\nS    2.291   -0.979   -1.813\\nO    3.109   -0.273   -2.833\\nO    0.947   -0.344   -1.511\\nO    1.934   -2.480   -2.451\\nO    3.007   -1.355   -0.525\\nH    1.999   -2.357   -3.415\\nH    1.507    0.838    0.954\\nN    1.671   -0.103    1.376\\nH    2.204    0.001    2.241\\nH    2.260   -0.638    0.656\\nC    0.379   -0.811    1.595\\nH    0.585   -1.806    2.008\\nH   -0.103   -0.904    0.616\\nH   -0.249   -0.234    2.285\\nO    1.005    2.025   -0.246\\nH    1.498    2.754   -0.643\\nH    0.981    1.319   -0.937\\n\",\"xyz\");\n\tviewer_1750361305118549.addModel(\"17\\n\\nS    1.524   -0.836   -2.227\\nO    1.438    0.665   -2.273\\nO    1.867   -1.551   -3.476\\nO    2.863   -1.070   -1.181\\nO    0.373   -1.440   -1.434\\nH    3.350   -1.808   -1.589\\nH    1.077    0.722    0.644\\nN    0.450   -0.096    0.836\\nH    0.293   -0.589   -0.105\\nH   -0.442    0.243    1.200\\nC    1.112   -1.052    1.764\\nH    0.456   -1.915    1.924\\nH    1.328   -0.556    2.719\\nH    2.040   -1.378    1.281\\nO    2.156    1.901    0.018\\nH    2.029    1.569   -0.905\\nH    3.110    1.842    0.160\\n\",\"xyz\");\n\tviewer_1750361305118549.setStyle({\"model\": 0},{\"stick\": {\"radius\": 0.06, \"color\": \"#DC2626\"}, \"sphere\": {\"radius\": 0.15, \"color\": \"#DC2626\"}});\n\tviewer_1750361305118549.setStyle({\"model\": 1},{\"stick\": {\"radius\": 0.06, \"color\": \"#2563EB\"}, \"sphere\": {\"radius\": 0.15, \"color\": \"#2563EB\"}});\n\tviewer_1750361305118549.addCylinder({\"start\": {\"x\": 2.29113, \"y\": -0.97932, \"z\": -1.81325}, \"end\": {\"x\": 1.524077158337719, \"y\": -0.835500223932518, \"z\": -2.2265761356278695}, \"color\": \"green\", \"radius\": 0.03, \"dashed\": false});\n\tviewer_1750361305118549.addCylinder({\"start\": {\"x\": 3.10931, \"y\": -0.27345, \"z\": -2.83284}, \"end\": {\"x\": 1.8672382191665053, \"y\": -1.5512663686251436, \"z\": -3.475589147666862}, \"color\": \"green\", \"radius\": 0.03, \"dashed\": false});\n\tviewer_1750361305118549.addCylinder({\"start\": {\"x\": 0.94736, \"y\": -0.34395, \"z\": -1.51087}, \"end\": {\"x\": 0.3725854142522582, \"y\": -1.4401008109839968, \"z\": -1.434147882762014}, \"color\": \"green\", \"radius\": 0.03, \"dashed\": false});\n\tviewer_1750361305118549.addCylinder({\"start\": {\"x\": 1.93384, \"y\": -2.47997, \"z\": -2.45106}, \"end\": {\"x\": 2.8634840044544476, \"y\": -1.070156816225634, \"z\": -1.1811968743217058}, \"color\": \"green\", \"radius\": 0.03, \"dashed\": false});\n\tviewer_1750361305118549.addCylinder({\"start\": {\"x\": 3.00679, \"y\": -1.35457, \"z\": -0.52466}, \"end\": {\"x\": 1.4375338391726111, \"y\": 0.6645931482392474, \"z\": -2.2730059964313343}, \"color\": \"green\", \"radius\": 0.03, \"dashed\": false});\n\tviewer_1750361305118549.addCylinder({\"start\": {\"x\": 1.999, \"y\": -2.35744, \"z\": -3.41478}, \"end\": {\"x\": 3.350461180163559, \"y\": -1.8078236806913013, \"z\": -1.5890475112070352}, \"color\": \"green\", \"radius\": 0.03, \"dashed\": false});\n\tviewer_1750361305118549.addCylinder({\"start\": {\"x\": 1.50703, \"y\": 0.8377, \"z\": 0.95413}, \"end\": {\"x\": 1.0774770330800514, \"y\": 0.7223522846263032, \"z\": 0.6438985219151692}, \"color\": \"green\", \"radius\": 0.03, \"dashed\": false});\n\tviewer_1750361305118549.addCylinder({\"start\": {\"x\": 1.67107, \"y\": -0.10265, \"z\": 1.37611}, \"end\": {\"x\": 0.44965695754818524, \"y\": -0.0964466001146781, \"z\": 0.8356195087843383}, \"color\": \"green\", \"radius\": 0.03, \"dashed\": false});\n\tviewer_1750361305118549.addCylinder({\"start\": {\"x\": 2.20386, \"y\": 0.00085, \"z\": 2.24066}, \"end\": {\"x\": -0.4416345405766724, \"y\": 0.2430087223985673, \"z\": 1.1995262263477489}, \"color\": \"green\", \"radius\": 0.03, \"dashed\": false});\n\tviewer_1750361305118549.addCylinder({\"start\": {\"x\": 2.26009, \"y\": -0.63813, \"z\": 0.65635}, \"end\": {\"x\": 0.2926934971809385, \"y\": -0.589170635007543, \"z\": -0.10478751051551494}, \"color\": \"green\", \"radius\": 0.03, \"dashed\": false});\n\tviewer_1750361305118549.addCylinder({\"start\": {\"x\": 0.37905, \"y\": -0.81138, \"z\": 1.59516}, \"end\": {\"x\": 1.1124941243562034, \"y\": -1.0515850547392396, \"z\": 1.7644497418169014}, \"color\": \"green\", \"radius\": 0.03, \"dashed\": false});\n\tviewer_1750361305118549.addCylinder({\"start\": {\"x\": 0.58452, \"y\": -1.80639, \"z\": 2.00791}, \"end\": {\"x\": 0.4556082218564468, \"y\": -1.9149058420671625, \"z\": 1.923886838079275}, \"color\": \"green\", \"radius\": 0.03, \"dashed\": false});\n\tviewer_1750361305118549.addCylinder({\"start\": {\"x\": -0.10322, \"y\": -0.90441, \"z\": 0.61568}, \"end\": {\"x\": 2.040407967553018, \"y\": -1.3777079696237362, \"z\": 1.2806730077846036}, \"color\": \"green\", \"radius\": 0.03, \"dashed\": false});\n\tviewer_1750361305118549.addCylinder({\"start\": {\"x\": -0.24899, \"y\": -0.23409, \"z\": 2.28455}, \"end\": {\"x\": 1.3281049718224647, \"y\": -0.556344862655852, \"z\": 2.7193088695944443}, \"color\": \"green\", \"radius\": 0.03, \"dashed\": false});\n\tviewer_1750361305118549.addCylinder({\"start\": {\"x\": 1.00544, \"y\": 2.02479, \"z\": -0.24615}, \"end\": {\"x\": 2.1562737062891877, \"y\": 1.9012187435464092, \"z\": 0.017871964885779246}, \"color\": \"green\", \"radius\": 0.03, \"dashed\": false});\n\tviewer_1750361305118549.addCylinder({\"start\": {\"x\": 1.49769, \"y\": 2.75412, \"z\": -0.64345}, \"end\": {\"x\": 3.109984591041086, \"y\": 1.8416760712581217, \"z\": 0.16009049912980888}, \"color\": \"green\", \"radius\": 0.03, \"dashed\": false});\n\tviewer_1750361305118549.addCylinder({\"start\": {\"x\": 0.98101, \"y\": 1.3193, \"z\": -0.93749}, \"end\": {\"x\": 2.0285336543019925, \"y\": 1.5691698945981516, \"z\": -0.9049741198057288}, \"color\": \"green\", \"radius\": 0.03, \"dashed\": false});\n\tviewer_1750361305118549.zoomTo();\n\tviewer_1750361305118549.setBackgroundColor(\"white\");\nviewer_1750361305118549.render();\n});\n</script>",
      "text/html": [
       "<div id=\"3dmolviewer_1750361305118549\"  style=\"position: relative; width: 800px; height: 600px;\">\n",
       "        <p id=\"3dmolwarning_1750361305118549\" style=\"background-color:#ffcccc;color:black\">3Dmol.js failed to load for some reason.  Please check your browser console for error messages.<br></p>\n",
       "        </div>\n",
       "<script>\n",
       "\n",
       "var loadScriptAsync = function(uri){\n",
       "  return new Promise((resolve, reject) => {\n",
       "    //this is to ignore the existence of requirejs amd\n",
       "    var savedexports, savedmodule;\n",
       "    if (typeof exports !== 'undefined') savedexports = exports;\n",
       "    else exports = {}\n",
       "    if (typeof module !== 'undefined') savedmodule = module;\n",
       "    else module = {}\n",
       "\n",
       "    var tag = document.createElement('script');\n",
       "    tag.src = uri;\n",
       "    tag.async = true;\n",
       "    tag.onload = () => {\n",
       "        exports = savedexports;\n",
       "        module = savedmodule;\n",
       "        resolve();\n",
       "    };\n",
       "  var firstScriptTag = document.getElementsByTagName('script')[0];\n",
       "  firstScriptTag.parentNode.insertBefore(tag, firstScriptTag);\n",
       "});\n",
       "};\n",
       "\n",
       "if(typeof $3Dmolpromise === 'undefined') {\n",
       "$3Dmolpromise = null;\n",
       "  $3Dmolpromise = loadScriptAsync('https://cdnjs.cloudflare.com/ajax/libs/3Dmol/2.4.2/3Dmol-min.js');\n",
       "}\n",
       "\n",
       "var viewer_1750361305118549 = null;\n",
       "var warn = document.getElementById(\"3dmolwarning_1750361305118549\");\n",
       "if(warn) {\n",
       "    warn.parentNode.removeChild(warn);\n",
       "}\n",
       "$3Dmolpromise.then(function() {\n",
       "viewer_1750361305118549 = $3Dmol.createViewer(document.getElementById(\"3dmolviewer_1750361305118549\"),{backgroundColor:\"white\"});\n",
       "viewer_1750361305118549.zoomTo();\n",
       "\tviewer_1750361305118549.addModel(\"17\\n\\nS    2.291   -0.979   -1.813\\nO    3.109   -0.273   -2.833\\nO    0.947   -0.344   -1.511\\nO    1.934   -2.480   -2.451\\nO    3.007   -1.355   -0.525\\nH    1.999   -2.357   -3.415\\nH    1.507    0.838    0.954\\nN    1.671   -0.103    1.376\\nH    2.204    0.001    2.241\\nH    2.260   -0.638    0.656\\nC    0.379   -0.811    1.595\\nH    0.585   -1.806    2.008\\nH   -0.103   -0.904    0.616\\nH   -0.249   -0.234    2.285\\nO    1.005    2.025   -0.246\\nH    1.498    2.754   -0.643\\nH    0.981    1.319   -0.937\\n\",\"xyz\");\n",
       "\tviewer_1750361305118549.addModel(\"17\\n\\nS    1.524   -0.836   -2.227\\nO    1.438    0.665   -2.273\\nO    1.867   -1.551   -3.476\\nO    2.863   -1.070   -1.181\\nO    0.373   -1.440   -1.434\\nH    3.350   -1.808   -1.589\\nH    1.077    0.722    0.644\\nN    0.450   -0.096    0.836\\nH    0.293   -0.589   -0.105\\nH   -0.442    0.243    1.200\\nC    1.112   -1.052    1.764\\nH    0.456   -1.915    1.924\\nH    1.328   -0.556    2.719\\nH    2.040   -1.378    1.281\\nO    2.156    1.901    0.018\\nH    2.029    1.569   -0.905\\nH    3.110    1.842    0.160\\n\",\"xyz\");\n",
       "\tviewer_1750361305118549.setStyle({\"model\": 0},{\"stick\": {\"radius\": 0.06, \"color\": \"#DC2626\"}, \"sphere\": {\"radius\": 0.15, \"color\": \"#DC2626\"}});\n",
       "\tviewer_1750361305118549.setStyle({\"model\": 1},{\"stick\": {\"radius\": 0.06, \"color\": \"#2563EB\"}, \"sphere\": {\"radius\": 0.15, \"color\": \"#2563EB\"}});\n",
       "\tviewer_1750361305118549.addCylinder({\"start\": {\"x\": 2.29113, \"y\": -0.97932, \"z\": -1.81325}, \"end\": {\"x\": 1.524077158337719, \"y\": -0.835500223932518, \"z\": -2.2265761356278695}, \"color\": \"green\", \"radius\": 0.03, \"dashed\": false});\n",
       "\tviewer_1750361305118549.addCylinder({\"start\": {\"x\": 3.10931, \"y\": -0.27345, \"z\": -2.83284}, \"end\": {\"x\": 1.8672382191665053, \"y\": -1.5512663686251436, \"z\": -3.475589147666862}, \"color\": \"green\", \"radius\": 0.03, \"dashed\": false});\n",
       "\tviewer_1750361305118549.addCylinder({\"start\": {\"x\": 0.94736, \"y\": -0.34395, \"z\": -1.51087}, \"end\": {\"x\": 0.3725854142522582, \"y\": -1.4401008109839968, \"z\": -1.434147882762014}, \"color\": \"green\", \"radius\": 0.03, \"dashed\": false});\n",
       "\tviewer_1750361305118549.addCylinder({\"start\": {\"x\": 1.93384, \"y\": -2.47997, \"z\": -2.45106}, \"end\": {\"x\": 2.8634840044544476, \"y\": -1.070156816225634, \"z\": -1.1811968743217058}, \"color\": \"green\", \"radius\": 0.03, \"dashed\": false});\n",
       "\tviewer_1750361305118549.addCylinder({\"start\": {\"x\": 3.00679, \"y\": -1.35457, \"z\": -0.52466}, \"end\": {\"x\": 1.4375338391726111, \"y\": 0.6645931482392474, \"z\": -2.2730059964313343}, \"color\": \"green\", \"radius\": 0.03, \"dashed\": false});\n",
       "\tviewer_1750361305118549.addCylinder({\"start\": {\"x\": 1.999, \"y\": -2.35744, \"z\": -3.41478}, \"end\": {\"x\": 3.350461180163559, \"y\": -1.8078236806913013, \"z\": -1.5890475112070352}, \"color\": \"green\", \"radius\": 0.03, \"dashed\": false});\n",
       "\tviewer_1750361305118549.addCylinder({\"start\": {\"x\": 1.50703, \"y\": 0.8377, \"z\": 0.95413}, \"end\": {\"x\": 1.0774770330800514, \"y\": 0.7223522846263032, \"z\": 0.6438985219151692}, \"color\": \"green\", \"radius\": 0.03, \"dashed\": false});\n",
       "\tviewer_1750361305118549.addCylinder({\"start\": {\"x\": 1.67107, \"y\": -0.10265, \"z\": 1.37611}, \"end\": {\"x\": 0.44965695754818524, \"y\": -0.0964466001146781, \"z\": 0.8356195087843383}, \"color\": \"green\", \"radius\": 0.03, \"dashed\": false});\n",
       "\tviewer_1750361305118549.addCylinder({\"start\": {\"x\": 2.20386, \"y\": 0.00085, \"z\": 2.24066}, \"end\": {\"x\": -0.4416345405766724, \"y\": 0.2430087223985673, \"z\": 1.1995262263477489}, \"color\": \"green\", \"radius\": 0.03, \"dashed\": false});\n",
       "\tviewer_1750361305118549.addCylinder({\"start\": {\"x\": 2.26009, \"y\": -0.63813, \"z\": 0.65635}, \"end\": {\"x\": 0.2926934971809385, \"y\": -0.589170635007543, \"z\": -0.10478751051551494}, \"color\": \"green\", \"radius\": 0.03, \"dashed\": false});\n",
       "\tviewer_1750361305118549.addCylinder({\"start\": {\"x\": 0.37905, \"y\": -0.81138, \"z\": 1.59516}, \"end\": {\"x\": 1.1124941243562034, \"y\": -1.0515850547392396, \"z\": 1.7644497418169014}, \"color\": \"green\", \"radius\": 0.03, \"dashed\": false});\n",
       "\tviewer_1750361305118549.addCylinder({\"start\": {\"x\": 0.58452, \"y\": -1.80639, \"z\": 2.00791}, \"end\": {\"x\": 0.4556082218564468, \"y\": -1.9149058420671625, \"z\": 1.923886838079275}, \"color\": \"green\", \"radius\": 0.03, \"dashed\": false});\n",
       "\tviewer_1750361305118549.addCylinder({\"start\": {\"x\": -0.10322, \"y\": -0.90441, \"z\": 0.61568}, \"end\": {\"x\": 2.040407967553018, \"y\": -1.3777079696237362, \"z\": 1.2806730077846036}, \"color\": \"green\", \"radius\": 0.03, \"dashed\": false});\n",
       "\tviewer_1750361305118549.addCylinder({\"start\": {\"x\": -0.24899, \"y\": -0.23409, \"z\": 2.28455}, \"end\": {\"x\": 1.3281049718224647, \"y\": -0.556344862655852, \"z\": 2.7193088695944443}, \"color\": \"green\", \"radius\": 0.03, \"dashed\": false});\n",
       "\tviewer_1750361305118549.addCylinder({\"start\": {\"x\": 1.00544, \"y\": 2.02479, \"z\": -0.24615}, \"end\": {\"x\": 2.1562737062891877, \"y\": 1.9012187435464092, \"z\": 0.017871964885779246}, \"color\": \"green\", \"radius\": 0.03, \"dashed\": false});\n",
       "\tviewer_1750361305118549.addCylinder({\"start\": {\"x\": 1.49769, \"y\": 2.75412, \"z\": -0.64345}, \"end\": {\"x\": 3.109984591041086, \"y\": 1.8416760712581217, \"z\": 0.16009049912980888}, \"color\": \"green\", \"radius\": 0.03, \"dashed\": false});\n",
       "\tviewer_1750361305118549.addCylinder({\"start\": {\"x\": 0.98101, \"y\": 1.3193, \"z\": -0.93749}, \"end\": {\"x\": 2.0285336543019925, \"y\": 1.5691698945981516, \"z\": -0.9049741198057288}, \"color\": \"green\", \"radius\": 0.03, \"dashed\": false});\n",
       "\tviewer_1750361305118549.zoomTo();\n",
       "\tviewer_1750361305118549.setBackgroundColor(\"white\");\n",
       "viewer_1750361305118549.render();\n",
       "});\n",
       "</script>"
      ]
     },
     "metadata": {},
     "output_type": "display_data"
    }
   ],
   "source": [
    "# %%\n",
    "# Read the molecules\n",
    "molA = next(pybel.readfile(\"xyz\", os.path.join(data_path, \"s1maw1-1.xyz\")))\n",
    "molB = next(pybel.readfile(\"xyz\", os.path.join(data_path, \"s1maw1-20.xyz\")))\n",
    "X_A, T_A, B_A = otm.tl.process_molecule(molA) \n",
    "X_B, T_B, B_B = otm.tl.process_molecule(molB)\n",
    "assignment = otmol_name_res['assignment'][18]\n",
    "P = otm.tl.permutation_to_matrix(assignment)\n",
    "X_B_aligned, R, _ = otm.tl.kabsch(X_A, X_B, P) \n",
    "interactive_alignment_plot_py3dmol(X_A, X_B_aligned, T_A, T_B, B_A, B_B, assignment, '', '')"
   ]
  },
  {
   "cell_type": "markdown",
   "metadata": {},
   "source": [
    "ArbAlign alignment"
   ]
  },
  {
   "cell_type": "code",
   "execution_count": 11,
   "metadata": {},
   "outputs": [
    {
     "name": "stdout",
     "output_type": "stream",
     "text": [
      "1.0991218764992043\n"
     ]
    },
    {
     "data": {
      "application/3dmoljs_load.v0": "<div id=\"3dmolviewer_1751495637015073\"  style=\"position: relative; width: 800px; height: 600px;\">\n        <p id=\"3dmolwarning_1751495637015073\" style=\"background-color:#ffcccc;color:black\">3Dmol.js failed to load for some reason.  Please check your browser console for error messages.<br></p>\n        </div>\n<script>\n\nvar loadScriptAsync = function(uri){\n  return new Promise((resolve, reject) => {\n    //this is to ignore the existence of requirejs amd\n    var savedexports, savedmodule;\n    if (typeof exports !== 'undefined') savedexports = exports;\n    else exports = {}\n    if (typeof module !== 'undefined') savedmodule = module;\n    else module = {}\n\n    var tag = document.createElement('script');\n    tag.src = uri;\n    tag.async = true;\n    tag.onload = () => {\n        exports = savedexports;\n        module = savedmodule;\n        resolve();\n    };\n  var firstScriptTag = document.getElementsByTagName('script')[0];\n  firstScriptTag.parentNode.insertBefore(tag, firstScriptTag);\n});\n};\n\nif(typeof $3Dmolpromise === 'undefined') {\n$3Dmolpromise = null;\n  $3Dmolpromise = loadScriptAsync('https://cdnjs.cloudflare.com/ajax/libs/3Dmol/2.4.2/3Dmol-min.js');\n}\n\nvar viewer_1751495637015073 = null;\nvar warn = document.getElementById(\"3dmolwarning_1751495637015073\");\nif(warn) {\n    warn.parentNode.removeChild(warn);\n}\n$3Dmolpromise.then(function() {\nviewer_1751495637015073 = $3Dmol.createViewer(document.getElementById(\"3dmolviewer_1751495637015073\"),{backgroundColor:\"white\"});\nviewer_1751495637015073.zoomTo();\n\tviewer_1751495637015073.addModel(\"17\\nA\\nS    2.291   -0.979   -1.813\\nO    3.109   -0.273   -2.833\\nO    0.947   -0.344   -1.511\\nO    1.934   -2.480   -2.451\\nO    3.007   -1.355   -0.525\\nH    1.999   -2.357   -3.415\\nH    1.507    0.838    0.954\\nN    1.671   -0.103    1.376\\nH    2.204    0.001    2.241\\nH    2.260   -0.638    0.656\\nC    0.379   -0.811    1.595\\nH    0.585   -1.806    2.008\\nH   -0.103   -0.904    0.616\\nH   -0.249   -0.234    2.285\\nO    1.005    2.025   -0.246\\nH    1.498    2.754   -0.643\\nH    0.981    1.319   -0.937\\n\",\"xyz\");\n\tviewer_1751495637015073.addModel(\"17\\nB\\nS    1.476   -1.452   -1.820\\nO    2.441   -0.313   -2.618\\nO    0.373   -0.565   -1.296\\nO    1.125   -2.478   -2.825\\nO    2.356   -1.958   -0.681\\nH    2.911   -0.821   -3.303\\nH    1.838    0.703    0.721\\nN    1.940   -0.197    1.244\\nH    0.370    0.220    2.618\\nH    2.706   -0.117    1.913\\nC    0.655   -0.561    1.904\\nH    0.778   -1.523    2.417\\nH    2.185   -0.935    0.502\\nH   -0.096   -0.654    1.111\\nO    1.256    1.862   -0.461\\nH    1.838    2.319   -1.083\\nH    0.874    1.121   -0.987\\n\",\"xyz\");\n\tviewer_1751495637015073.setStyle({\"model\": 0},{\"stick\": {\"radius\": 0.06, \"color\": \"#DC2626\"}, \"sphere\": {\"radius\": 0.15, \"color\": \"#DC2626\"}});\n\tviewer_1751495637015073.setStyle({\"model\": 1},{\"stick\": {\"radius\": 0.06, \"color\": \"#2563EB\"}, \"sphere\": {\"radius\": 0.15, \"color\": \"#2563EB\"}});\n\tviewer_1751495637015073.addCylinder({\"start\": {\"x\": 2.29113, \"y\": -0.97932, \"z\": -1.81325}, \"end\": {\"x\": 1.4761118526247943, \"y\": -1.4518783828205442, \"z\": -1.8198134013347331}, \"color\": \"green\", \"radius\": 0.03, \"dashed\": false});\n\tviewer_1751495637015073.addCylinder({\"start\": {\"x\": 3.10931, \"y\": -0.27345, \"z\": -2.83284}, \"end\": {\"x\": 2.440869053108674, \"y\": -0.3129346033199689, \"z\": -2.6181357662046216}, \"color\": \"green\", \"radius\": 0.03, \"dashed\": false});\n\tviewer_1751495637015073.addCylinder({\"start\": {\"x\": 0.94736, \"y\": -0.34395, \"z\": -1.51087}, \"end\": {\"x\": 0.3730387380950717, \"y\": -0.5653334068426881, \"z\": -1.2955243598985036}, \"color\": \"green\", \"radius\": 0.03, \"dashed\": false});\n\tviewer_1751495637015073.addCylinder({\"start\": {\"x\": 1.93384, \"y\": -2.47997, \"z\": -2.45106}, \"end\": {\"x\": 1.1246058190241313, \"y\": -2.478484364561793, \"z\": -2.8252201786619078}, \"color\": \"green\", \"radius\": 0.03, \"dashed\": false});\n\tviewer_1751495637015073.addCylinder({\"start\": {\"x\": 3.00679, \"y\": -1.35457, \"z\": -0.52466}, \"end\": {\"x\": 2.356117566883259, \"y\": -1.9578523916091772, \"z\": -0.6806810491460997}, \"color\": \"green\", \"radius\": 0.03, \"dashed\": false});\n\tviewer_1751495637015073.addCylinder({\"start\": {\"x\": 1.999, \"y\": -2.35744, \"z\": -3.41478}, \"end\": {\"x\": 2.9111424136398387, \"y\": -0.8210347239877742, \"z\": -3.302576395296793}, \"color\": \"green\", \"radius\": 0.03, \"dashed\": false});\n\tviewer_1751495637015073.addCylinder({\"start\": {\"x\": 1.50703, \"y\": 0.8377, \"z\": 0.95413}, \"end\": {\"x\": 1.8375123576839896, \"y\": 0.7030207859508604, \"z\": 0.7206310881141631}, \"color\": \"green\", \"radius\": 0.03, \"dashed\": false});\n\tviewer_1751495637015073.addCylinder({\"start\": {\"x\": 1.67107, \"y\": -0.10265, \"z\": 1.37611}, \"end\": {\"x\": 1.9399833499273877, \"y\": -0.19651424875806112, \"z\": 1.243583510787461}, \"color\": \"green\", \"radius\": 0.03, \"dashed\": false});\n\tviewer_1751495637015073.addCylinder({\"start\": {\"x\": 2.20386, \"y\": 0.00085, \"z\": 2.24066}, \"end\": {\"x\": 0.36959884838911083, \"y\": 0.21987431387549727, \"z\": 2.6183855525143196}, \"color\": \"green\", \"radius\": 0.03, \"dashed\": false});\n\tviewer_1751495637015073.addCylinder({\"start\": {\"x\": 2.26009, \"y\": -0.63813, \"z\": 0.65635}, \"end\": {\"x\": 2.706325261378134, \"y\": -0.11685720999058702, \"z\": 1.9130880803975672}, \"color\": \"green\", \"radius\": 0.03, \"dashed\": false});\n\tviewer_1751495637015073.addCylinder({\"start\": {\"x\": 0.37905, \"y\": -0.81138, \"z\": 1.59516}, \"end\": {\"x\": 0.6550139026884572, \"y\": -0.5614910979622032, \"z\": 1.903525634164576}, \"color\": \"green\", \"radius\": 0.03, \"dashed\": false});\n\tviewer_1751495637015073.addCylinder({\"start\": {\"x\": 0.58452, \"y\": -1.80639, \"z\": 2.00791}, \"end\": {\"x\": 0.7778233311123424, \"y\": -1.5226840480190689, \"z\": 2.416918324170168}, \"color\": \"green\", \"radius\": 0.03, \"dashed\": false});\n\tviewer_1751495637015073.addCylinder({\"start\": {\"x\": -0.10322, \"y\": -0.90441, \"z\": 0.61568}, \"end\": {\"x\": 2.18476118685211, \"y\": -0.9345066919162579, \"z\": 0.50236440519732}, \"color\": \"green\", \"radius\": 0.03, \"dashed\": false});\n\tviewer_1751495637015073.addCylinder({\"start\": {\"x\": -0.24899, \"y\": -0.23409, \"z\": 2.28455}, \"end\": {\"x\": -0.0957194282456999, \"y\": -0.6539882225241163, \"z\": 1.1107221293966654}, \"color\": \"green\", \"radius\": 0.03, \"dashed\": false});\n\tviewer_1751495637015073.addCylinder({\"start\": {\"x\": 1.00544, \"y\": 2.02479, \"z\": -0.24615}, \"end\": {\"x\": 1.2557988656212145, \"y\": 1.862454216597531, \"z\": -0.4609838424156691}, \"color\": \"green\", \"radius\": 0.03, \"dashed\": false});\n\tviewer_1751495637015073.addCylinder({\"start\": {\"x\": 1.49769, \"y\": 2.75412, \"z\": -0.64345}, \"end\": {\"x\": 1.837790231037566, \"y\": 2.3185533551386217, \"z\": -1.0829982059981238}, \"color\": \"green\", \"radius\": 0.03, \"dashed\": false});\n\tviewer_1751495637015073.addCylinder({\"start\": {\"x\": 0.98101, \"y\": 1.3193, \"z\": -0.93749}, \"end\": {\"x\": 0.8742066501796186, \"y\": 1.1206667207497296, \"z\": -0.9872855257857893}, \"color\": \"green\", \"radius\": 0.03, \"dashed\": false});\n\tviewer_1751495637015073.zoomTo();\n\tviewer_1751495637015073.setBackgroundColor(\"white\");\nviewer_1751495637015073.render();\n});\n</script>",
      "text/html": [
       "<div id=\"3dmolviewer_1751495637015073\"  style=\"position: relative; width: 800px; height: 600px;\">\n",
       "        <p id=\"3dmolwarning_1751495637015073\" style=\"background-color:#ffcccc;color:black\">3Dmol.js failed to load for some reason.  Please check your browser console for error messages.<br></p>\n",
       "        </div>\n",
       "<script>\n",
       "\n",
       "var loadScriptAsync = function(uri){\n",
       "  return new Promise((resolve, reject) => {\n",
       "    //this is to ignore the existence of requirejs amd\n",
       "    var savedexports, savedmodule;\n",
       "    if (typeof exports !== 'undefined') savedexports = exports;\n",
       "    else exports = {}\n",
       "    if (typeof module !== 'undefined') savedmodule = module;\n",
       "    else module = {}\n",
       "\n",
       "    var tag = document.createElement('script');\n",
       "    tag.src = uri;\n",
       "    tag.async = true;\n",
       "    tag.onload = () => {\n",
       "        exports = savedexports;\n",
       "        module = savedmodule;\n",
       "        resolve();\n",
       "    };\n",
       "  var firstScriptTag = document.getElementsByTagName('script')[0];\n",
       "  firstScriptTag.parentNode.insertBefore(tag, firstScriptTag);\n",
       "});\n",
       "};\n",
       "\n",
       "if(typeof $3Dmolpromise === 'undefined') {\n",
       "$3Dmolpromise = null;\n",
       "  $3Dmolpromise = loadScriptAsync('https://cdnjs.cloudflare.com/ajax/libs/3Dmol/2.4.2/3Dmol-min.js');\n",
       "}\n",
       "\n",
       "var viewer_1751495637015073 = null;\n",
       "var warn = document.getElementById(\"3dmolwarning_1751495637015073\");\n",
       "if(warn) {\n",
       "    warn.parentNode.removeChild(warn);\n",
       "}\n",
       "$3Dmolpromise.then(function() {\n",
       "viewer_1751495637015073 = $3Dmol.createViewer(document.getElementById(\"3dmolviewer_1751495637015073\"),{backgroundColor:\"white\"});\n",
       "viewer_1751495637015073.zoomTo();\n",
       "\tviewer_1751495637015073.addModel(\"17\\nA\\nS    2.291   -0.979   -1.813\\nO    3.109   -0.273   -2.833\\nO    0.947   -0.344   -1.511\\nO    1.934   -2.480   -2.451\\nO    3.007   -1.355   -0.525\\nH    1.999   -2.357   -3.415\\nH    1.507    0.838    0.954\\nN    1.671   -0.103    1.376\\nH    2.204    0.001    2.241\\nH    2.260   -0.638    0.656\\nC    0.379   -0.811    1.595\\nH    0.585   -1.806    2.008\\nH   -0.103   -0.904    0.616\\nH   -0.249   -0.234    2.285\\nO    1.005    2.025   -0.246\\nH    1.498    2.754   -0.643\\nH    0.981    1.319   -0.937\\n\",\"xyz\");\n",
       "\tviewer_1751495637015073.addModel(\"17\\nB\\nS    1.476   -1.452   -1.820\\nO    2.441   -0.313   -2.618\\nO    0.373   -0.565   -1.296\\nO    1.125   -2.478   -2.825\\nO    2.356   -1.958   -0.681\\nH    2.911   -0.821   -3.303\\nH    1.838    0.703    0.721\\nN    1.940   -0.197    1.244\\nH    0.370    0.220    2.618\\nH    2.706   -0.117    1.913\\nC    0.655   -0.561    1.904\\nH    0.778   -1.523    2.417\\nH    2.185   -0.935    0.502\\nH   -0.096   -0.654    1.111\\nO    1.256    1.862   -0.461\\nH    1.838    2.319   -1.083\\nH    0.874    1.121   -0.987\\n\",\"xyz\");\n",
       "\tviewer_1751495637015073.setStyle({\"model\": 0},{\"stick\": {\"radius\": 0.06, \"color\": \"#DC2626\"}, \"sphere\": {\"radius\": 0.15, \"color\": \"#DC2626\"}});\n",
       "\tviewer_1751495637015073.setStyle({\"model\": 1},{\"stick\": {\"radius\": 0.06, \"color\": \"#2563EB\"}, \"sphere\": {\"radius\": 0.15, \"color\": \"#2563EB\"}});\n",
       "\tviewer_1751495637015073.addCylinder({\"start\": {\"x\": 2.29113, \"y\": -0.97932, \"z\": -1.81325}, \"end\": {\"x\": 1.4761118526247943, \"y\": -1.4518783828205442, \"z\": -1.8198134013347331}, \"color\": \"green\", \"radius\": 0.03, \"dashed\": false});\n",
       "\tviewer_1751495637015073.addCylinder({\"start\": {\"x\": 3.10931, \"y\": -0.27345, \"z\": -2.83284}, \"end\": {\"x\": 2.440869053108674, \"y\": -0.3129346033199689, \"z\": -2.6181357662046216}, \"color\": \"green\", \"radius\": 0.03, \"dashed\": false});\n",
       "\tviewer_1751495637015073.addCylinder({\"start\": {\"x\": 0.94736, \"y\": -0.34395, \"z\": -1.51087}, \"end\": {\"x\": 0.3730387380950717, \"y\": -0.5653334068426881, \"z\": -1.2955243598985036}, \"color\": \"green\", \"radius\": 0.03, \"dashed\": false});\n",
       "\tviewer_1751495637015073.addCylinder({\"start\": {\"x\": 1.93384, \"y\": -2.47997, \"z\": -2.45106}, \"end\": {\"x\": 1.1246058190241313, \"y\": -2.478484364561793, \"z\": -2.8252201786619078}, \"color\": \"green\", \"radius\": 0.03, \"dashed\": false});\n",
       "\tviewer_1751495637015073.addCylinder({\"start\": {\"x\": 3.00679, \"y\": -1.35457, \"z\": -0.52466}, \"end\": {\"x\": 2.356117566883259, \"y\": -1.9578523916091772, \"z\": -0.6806810491460997}, \"color\": \"green\", \"radius\": 0.03, \"dashed\": false});\n",
       "\tviewer_1751495637015073.addCylinder({\"start\": {\"x\": 1.999, \"y\": -2.35744, \"z\": -3.41478}, \"end\": {\"x\": 2.9111424136398387, \"y\": -0.8210347239877742, \"z\": -3.302576395296793}, \"color\": \"green\", \"radius\": 0.03, \"dashed\": false});\n",
       "\tviewer_1751495637015073.addCylinder({\"start\": {\"x\": 1.50703, \"y\": 0.8377, \"z\": 0.95413}, \"end\": {\"x\": 1.8375123576839896, \"y\": 0.7030207859508604, \"z\": 0.7206310881141631}, \"color\": \"green\", \"radius\": 0.03, \"dashed\": false});\n",
       "\tviewer_1751495637015073.addCylinder({\"start\": {\"x\": 1.67107, \"y\": -0.10265, \"z\": 1.37611}, \"end\": {\"x\": 1.9399833499273877, \"y\": -0.19651424875806112, \"z\": 1.243583510787461}, \"color\": \"green\", \"radius\": 0.03, \"dashed\": false});\n",
       "\tviewer_1751495637015073.addCylinder({\"start\": {\"x\": 2.20386, \"y\": 0.00085, \"z\": 2.24066}, \"end\": {\"x\": 0.36959884838911083, \"y\": 0.21987431387549727, \"z\": 2.6183855525143196}, \"color\": \"green\", \"radius\": 0.03, \"dashed\": false});\n",
       "\tviewer_1751495637015073.addCylinder({\"start\": {\"x\": 2.26009, \"y\": -0.63813, \"z\": 0.65635}, \"end\": {\"x\": 2.706325261378134, \"y\": -0.11685720999058702, \"z\": 1.9130880803975672}, \"color\": \"green\", \"radius\": 0.03, \"dashed\": false});\n",
       "\tviewer_1751495637015073.addCylinder({\"start\": {\"x\": 0.37905, \"y\": -0.81138, \"z\": 1.59516}, \"end\": {\"x\": 0.6550139026884572, \"y\": -0.5614910979622032, \"z\": 1.903525634164576}, \"color\": \"green\", \"radius\": 0.03, \"dashed\": false});\n",
       "\tviewer_1751495637015073.addCylinder({\"start\": {\"x\": 0.58452, \"y\": -1.80639, \"z\": 2.00791}, \"end\": {\"x\": 0.7778233311123424, \"y\": -1.5226840480190689, \"z\": 2.416918324170168}, \"color\": \"green\", \"radius\": 0.03, \"dashed\": false});\n",
       "\tviewer_1751495637015073.addCylinder({\"start\": {\"x\": -0.10322, \"y\": -0.90441, \"z\": 0.61568}, \"end\": {\"x\": 2.18476118685211, \"y\": -0.9345066919162579, \"z\": 0.50236440519732}, \"color\": \"green\", \"radius\": 0.03, \"dashed\": false});\n",
       "\tviewer_1751495637015073.addCylinder({\"start\": {\"x\": -0.24899, \"y\": -0.23409, \"z\": 2.28455}, \"end\": {\"x\": -0.0957194282456999, \"y\": -0.6539882225241163, \"z\": 1.1107221293966654}, \"color\": \"green\", \"radius\": 0.03, \"dashed\": false});\n",
       "\tviewer_1751495637015073.addCylinder({\"start\": {\"x\": 1.00544, \"y\": 2.02479, \"z\": -0.24615}, \"end\": {\"x\": 1.2557988656212145, \"y\": 1.862454216597531, \"z\": -0.4609838424156691}, \"color\": \"green\", \"radius\": 0.03, \"dashed\": false});\n",
       "\tviewer_1751495637015073.addCylinder({\"start\": {\"x\": 1.49769, \"y\": 2.75412, \"z\": -0.64345}, \"end\": {\"x\": 1.837790231037566, \"y\": 2.3185533551386217, \"z\": -1.0829982059981238}, \"color\": \"green\", \"radius\": 0.03, \"dashed\": false});\n",
       "\tviewer_1751495637015073.addCylinder({\"start\": {\"x\": 0.98101, \"y\": 1.3193, \"z\": -0.93749}, \"end\": {\"x\": 0.8742066501796186, \"y\": 1.1206667207497296, \"z\": -0.9872855257857893}, \"color\": \"green\", \"radius\": 0.03, \"dashed\": false});\n",
       "\tviewer_1751495637015073.zoomTo();\n",
       "\tviewer_1751495637015073.setBackgroundColor(\"white\");\n",
       "viewer_1751495637015073.render();\n",
       "});\n",
       "</script>"
      ]
     },
     "metadata": {},
     "output_type": "display_data"
    }
   ],
   "source": [
    "data_path = \"../Data/S1-MA-W1\"\n",
    "molA = next(pybel.readfile(\"xyz\", os.path.join(data_path, 's1maw1-1.xyz')))\n",
    "molB = next(pybel.readfile(\"xyz\", './arbalign_output/s1maw1-2-aligned_to-s1maw1-1.xyz'))\n",
    "X_A, T_A, B_A = otm.tl.process_molecule(molA) \n",
    "X_B, T_B, B_B = otm.tl.process_molecule(molB)\n",
    "X_B_aligned, _, _ = otm.tl.kabsch(X_A, X_B, np.eye(X_A.shape[0]))\n",
    "print(otm.tl.root_mean_square_deviation(X_A, X_B_aligned))\n",
    "interactive_alignment_plot_py3dmol(X_A, X_B_aligned, T_A, T_B, B_A, B_B, np.arange(X_A.shape[0], dtype=int))"
   ]
  },
  {
   "cell_type": "code",
   "execution_count": 10,
   "metadata": {},
   "outputs": [
    {
     "name": "stdout",
     "output_type": "stream",
     "text": [
      "1.0991218764992043\n"
     ]
    },
    {
     "data": {
      "application/vnd.plotly.v1+json": {
       "config": {
        "plotlyServerURL": "https://plot.ly",
        "toImageButtonOptions": {
         "format": "png",
         "height": 500,
         "scale": 2,
         "width": 700
        }
       },
       "data": [
        {
         "marker": {
          "color": "red",
          "size": [
           21,
           13.200000000000001,
           13.200000000000001,
           13.200000000000001,
           13.200000000000001,
           6.2,
           6.2,
           14.2,
           6.2,
           6.2,
           15.2,
           6.2,
           6.2,
           6.2,
           13.200000000000001,
           6.2,
           6.2
          ],
          "symbol": "circle"
         },
         "mode": "markers",
         "name": "A",
         "type": "scatter3d",
         "x": {
          "bdata": "ahMn9ztUAkCOAdnr3d8IQOI7MevFUO4/cCU7NgLx/j/LhF/q5w0IQJZDi2zn+/8/P3RBfcsc+D8/OnXls7z6P1OzB1qBoQFAFCLgEKoUAkCKH2PuWkLYPxV0e0ljtOI/6glLPKBsur8e+YOB597Pv59x4UBIFvA/Zr0Yyon29z8VkWEVb2TvPw==",
          "dtype": "f8"
         },
         "y": {
          "bdata": "9DKK5ZZW77851sVtNIDRv4hjXdxGA9a/LH3ogvrWA8CVSKKXUaz1vwdCsoAJ3ALAkX77OnDO6j/XNO84RUe6v18HzhlR2ks/XRYTm49r5L+CHJQw0/bpv54kXTP55vy/jZyFPe3w7L+7Cik/qfbNv4kkehnFMgBAfxMKEXAIBkAHzhlR2hv1Pw==",
          "dtype": "f8"
         },
         "z": {
          "bdata": "UI2XbhID/b+2Z5YEqKkGwM0eaAWGLPi/JEVkWMWbA8CZnrDEA8rgv29HOC14UQvARz1EozuI7j9NLVvriwT2P5Skaybf7AFA4lgXt9EA5T+gMv59xoX5P6p9Oh4zEABAFqQZi6az4z9JnYAmwkYCQP2H9NvXgc+/845TdCSX5L8dd0oH6//tvw==",
          "dtype": "f8"
         }
        },
        {
         "marker": {
          "color": "blue",
          "size": [
           21,
           13.200000000000001,
           13.200000000000001,
           13.200000000000001,
           13.200000000000001,
           6.2,
           6.2,
           14.2,
           6.2,
           6.2,
           15.2,
           6.2,
           6.2,
           6.2,
           13.200000000000001,
           6.2,
           6.2
          ],
          "symbol": "circle"
         },
         "mode": "markers",
         "name": "B",
         "type": "scatter3d",
         "x": {
          "bdata": "9C5Ediee9z+oXKda5oYDQLSaEN/d39c/WZnZq2L+8T+GW7oqVNkCQCSnpAgFSgdAOfqjW3Nm/T/+jyv7Kwr/P5Acnu2Bp9c/cqnP242mBUCsHE+33/XkP24vJsHt4+g/t8y4EmR6AUCwN+iFEYG4v/kmI43AF/Q/IG+zupZn/T8Y8445gPnrPw==",
          "dtype": "f8"
         },
         "y": {
          "bdata": "2by/0+Q697+o8cLbHgfUvy44txU2F+K/noVLnO/TA8B1tYUHXVP/v1QNDZ3qReq/MCaCciV/5j+ok87/YCfJv4iwqW3XJMw/uBw2p1rqvb/6xNctvPfhv+0fxvLpXPi/HI31k3rn7b9euna1eO3kv9JW6cqczP0/x8+Ss2WMAkDWXjU6QO7xPw==",
          "dtype": "f8"
         },
         "z": {
          "bdata": "G+I4qPQd/b+rsSIq8fEEwG33TsB3uvS/P9F6CQ2aBsDq3KKfI8jlv/i6UiytawrAmMx97WgP5z8H1crSt+XzP3Lx4h908gRArcw6PwKc/j8sWp1L13T+P95PO0bZVQNARudfhF4T4D8KPEuRhMXxP8s4yl/CgN2/wjdG7fVT8b9aDaLQ15fvvw==",
          "dtype": "f8"
         }
        },
        {
         "line": {
          "color": "red",
          "width": 2
         },
         "mode": "lines",
         "showlegend": false,
         "type": "scatter3d",
         "x": [
          2.29113,
          3.10931
         ],
         "y": [
          -0.97932,
          -0.27345
         ],
         "z": [
          -1.81325,
          -2.83284
         ]
        },
        {
         "line": {
          "color": "red",
          "width": 2
         },
         "mode": "lines",
         "showlegend": false,
         "type": "scatter3d",
         "x": [
          2.29113,
          0.94736
         ],
         "y": [
          -0.97932,
          -0.34395
         ],
         "z": [
          -1.81325,
          -1.51087
         ]
        },
        {
         "line": {
          "color": "red",
          "width": 2
         },
         "mode": "lines",
         "showlegend": false,
         "type": "scatter3d",
         "x": [
          2.29113,
          1.93384
         ],
         "y": [
          -0.97932,
          -2.47997
         ],
         "z": [
          -1.81325,
          -2.45106
         ]
        },
        {
         "line": {
          "color": "red",
          "width": 2
         },
         "mode": "lines",
         "showlegend": false,
         "type": "scatter3d",
         "x": [
          2.29113,
          3.00679
         ],
         "y": [
          -0.97932,
          -1.35457
         ],
         "z": [
          -1.81325,
          -0.52466
         ]
        },
        {
         "line": {
          "color": "red",
          "width": 2
         },
         "mode": "lines",
         "showlegend": false,
         "type": "scatter3d",
         "x": [
          1.93384,
          1.999
         ],
         "y": [
          -2.47997,
          -2.35744
         ],
         "z": [
          -2.45106,
          -3.41478
         ]
        },
        {
         "line": {
          "color": "red",
          "width": 2
         },
         "mode": "lines",
         "showlegend": false,
         "type": "scatter3d",
         "x": [
          1.50703,
          1.67107
         ],
         "y": [
          0.8377,
          -0.10265
         ],
         "z": [
          0.95413,
          1.37611
         ]
        },
        {
         "line": {
          "color": "red",
          "width": 2
         },
         "mode": "lines",
         "showlegend": false,
         "type": "scatter3d",
         "x": [
          1.67107,
          2.20386
         ],
         "y": [
          -0.10265,
          0.00085
         ],
         "z": [
          1.37611,
          2.24066
         ]
        },
        {
         "line": {
          "color": "red",
          "width": 2
         },
         "mode": "lines",
         "showlegend": false,
         "type": "scatter3d",
         "x": [
          1.67107,
          2.26009
         ],
         "y": [
          -0.10265,
          -0.63813
         ],
         "z": [
          1.37611,
          0.65635
         ]
        },
        {
         "line": {
          "color": "red",
          "width": 2
         },
         "mode": "lines",
         "showlegend": false,
         "type": "scatter3d",
         "x": [
          1.67107,
          0.37905
         ],
         "y": [
          -0.10265,
          -0.81138
         ],
         "z": [
          1.37611,
          1.59516
         ]
        },
        {
         "line": {
          "color": "red",
          "width": 2
         },
         "mode": "lines",
         "showlegend": false,
         "type": "scatter3d",
         "x": [
          0.37905,
          0.58452
         ],
         "y": [
          -0.81138,
          -1.80639
         ],
         "z": [
          1.59516,
          2.00791
         ]
        },
        {
         "line": {
          "color": "red",
          "width": 2
         },
         "mode": "lines",
         "showlegend": false,
         "type": "scatter3d",
         "x": [
          0.37905,
          -0.10322
         ],
         "y": [
          -0.81138,
          -0.90441
         ],
         "z": [
          1.59516,
          0.61568
         ]
        },
        {
         "line": {
          "color": "red",
          "width": 2
         },
         "mode": "lines",
         "showlegend": false,
         "type": "scatter3d",
         "x": [
          0.37905,
          -0.24899
         ],
         "y": [
          -0.81138,
          -0.23409
         ],
         "z": [
          1.59516,
          2.28455
         ]
        },
        {
         "line": {
          "color": "red",
          "width": 2
         },
         "mode": "lines",
         "showlegend": false,
         "type": "scatter3d",
         "x": [
          1.00544,
          1.49769
         ],
         "y": [
          2.02479,
          2.75412
         ],
         "z": [
          -0.24615,
          -0.64345
         ]
        },
        {
         "line": {
          "color": "red",
          "width": 2
         },
         "mode": "lines",
         "showlegend": false,
         "type": "scatter3d",
         "x": [
          1.00544,
          0.98101
         ],
         "y": [
          2.02479,
          1.3193
         ],
         "z": [
          -0.24615,
          -0.93749
         ]
        },
        {
         "line": {
          "color": "blue",
          "width": 2
         },
         "mode": "lines",
         "showlegend": false,
         "type": "scatter3d",
         "x": [
          1.4761118526247943,
          2.440869053108674
         ],
         "y": [
          -1.4518783828205442,
          -0.3129346033199689
         ],
         "z": [
          -1.8198134013347331,
          -2.6181357662046216
         ]
        },
        {
         "line": {
          "color": "blue",
          "width": 2
         },
         "mode": "lines",
         "showlegend": false,
         "type": "scatter3d",
         "x": [
          1.4761118526247943,
          0.3730387380950717
         ],
         "y": [
          -1.4518783828205442,
          -0.5653334068426881
         ],
         "z": [
          -1.8198134013347331,
          -1.2955243598985036
         ]
        },
        {
         "line": {
          "color": "blue",
          "width": 2
         },
         "mode": "lines",
         "showlegend": false,
         "type": "scatter3d",
         "x": [
          1.4761118526247943,
          1.1246058190241313
         ],
         "y": [
          -1.4518783828205442,
          -2.478484364561793
         ],
         "z": [
          -1.8198134013347331,
          -2.8252201786619078
         ]
        },
        {
         "line": {
          "color": "blue",
          "width": 2
         },
         "mode": "lines",
         "showlegend": false,
         "type": "scatter3d",
         "x": [
          1.4761118526247943,
          2.356117566883259
         ],
         "y": [
          -1.4518783828205442,
          -1.9578523916091772
         ],
         "z": [
          -1.8198134013347331,
          -0.6806810491460997
         ]
        },
        {
         "line": {
          "color": "blue",
          "width": 2
         },
         "mode": "lines",
         "showlegend": false,
         "type": "scatter3d",
         "x": [
          2.440869053108674,
          2.9111424136398387
         ],
         "y": [
          -0.3129346033199689,
          -0.8210347239877742
         ],
         "z": [
          -2.6181357662046216,
          -3.302576395296793
         ]
        },
        {
         "line": {
          "color": "blue",
          "width": 2
         },
         "mode": "lines",
         "showlegend": false,
         "type": "scatter3d",
         "x": [
          1.8375123576839896,
          1.9399833499273877
         ],
         "y": [
          0.7030207859508604,
          -0.19651424875806112
         ],
         "z": [
          0.7206310881141631,
          1.243583510787461
         ]
        },
        {
         "line": {
          "color": "blue",
          "width": 2
         },
         "mode": "lines",
         "showlegend": false,
         "type": "scatter3d",
         "x": [
          1.9399833499273877,
          2.706325261378134
         ],
         "y": [
          -0.19651424875806112,
          -0.11685720999058702
         ],
         "z": [
          1.243583510787461,
          1.9130880803975672
         ]
        },
        {
         "line": {
          "color": "blue",
          "width": 2
         },
         "mode": "lines",
         "showlegend": false,
         "type": "scatter3d",
         "x": [
          1.9399833499273877,
          0.6550139026884572
         ],
         "y": [
          -0.19651424875806112,
          -0.5614910979622032
         ],
         "z": [
          1.243583510787461,
          1.903525634164576
         ]
        },
        {
         "line": {
          "color": "blue",
          "width": 2
         },
         "mode": "lines",
         "showlegend": false,
         "type": "scatter3d",
         "x": [
          1.9399833499273877,
          2.18476118685211
         ],
         "y": [
          -0.19651424875806112,
          -0.9345066919162579
         ],
         "z": [
          1.243583510787461,
          0.50236440519732
         ]
        },
        {
         "line": {
          "color": "blue",
          "width": 2
         },
         "mode": "lines",
         "showlegend": false,
         "type": "scatter3d",
         "x": [
          0.36959884838911083,
          0.6550139026884572
         ],
         "y": [
          0.21987431387549727,
          -0.5614910979622032
         ],
         "z": [
          2.6183855525143196,
          1.903525634164576
         ]
        },
        {
         "line": {
          "color": "blue",
          "width": 2
         },
         "mode": "lines",
         "showlegend": false,
         "type": "scatter3d",
         "x": [
          0.6550139026884572,
          0.7778233311123424
         ],
         "y": [
          -0.5614910979622032,
          -1.5226840480190689
         ],
         "z": [
          1.903525634164576,
          2.416918324170168
         ]
        },
        {
         "line": {
          "color": "blue",
          "width": 2
         },
         "mode": "lines",
         "showlegend": false,
         "type": "scatter3d",
         "x": [
          0.6550139026884572,
          -0.0957194282456999
         ],
         "y": [
          -0.5614910979622032,
          -0.6539882225241163
         ],
         "z": [
          1.903525634164576,
          1.1107221293966654
         ]
        },
        {
         "line": {
          "color": "blue",
          "width": 2
         },
         "mode": "lines",
         "showlegend": false,
         "type": "scatter3d",
         "x": [
          1.2557988656212145,
          1.837790231037566
         ],
         "y": [
          1.862454216597531,
          2.3185533551386217
         ],
         "z": [
          -0.4609838424156691,
          -1.0829982059981238
         ]
        },
        {
         "line": {
          "color": "blue",
          "width": 2
         },
         "mode": "lines",
         "showlegend": false,
         "type": "scatter3d",
         "x": [
          1.2557988656212145,
          0.8742066501796186
         ],
         "y": [
          1.862454216597531,
          1.1206667207497296
         ],
         "z": [
          -0.4609838424156691,
          -0.9872855257857893
         ]
        },
        {
         "line": {
          "color": "green",
          "dash": "longdash",
          "width": 3
         },
         "mode": "lines",
         "showlegend": false,
         "type": "scatter3d",
         "x": [
          2.29113,
          1.4761118526247943
         ],
         "y": [
          -0.97932,
          -1.4518783828205442
         ],
         "z": [
          -1.81325,
          -1.8198134013347331
         ]
        },
        {
         "line": {
          "color": "green",
          "dash": "longdash",
          "width": 3
         },
         "mode": "lines",
         "showlegend": false,
         "type": "scatter3d",
         "x": [
          3.10931,
          2.440869053108674
         ],
         "y": [
          -0.27345,
          -0.3129346033199689
         ],
         "z": [
          -2.83284,
          -2.6181357662046216
         ]
        },
        {
         "line": {
          "color": "green",
          "dash": "longdash",
          "width": 3
         },
         "mode": "lines",
         "showlegend": false,
         "type": "scatter3d",
         "x": [
          0.94736,
          0.3730387380950717
         ],
         "y": [
          -0.34395,
          -0.5653334068426881
         ],
         "z": [
          -1.51087,
          -1.2955243598985036
         ]
        },
        {
         "line": {
          "color": "green",
          "dash": "longdash",
          "width": 3
         },
         "mode": "lines",
         "showlegend": false,
         "type": "scatter3d",
         "x": [
          1.93384,
          1.1246058190241313
         ],
         "y": [
          -2.47997,
          -2.478484364561793
         ],
         "z": [
          -2.45106,
          -2.8252201786619078
         ]
        },
        {
         "line": {
          "color": "green",
          "dash": "longdash",
          "width": 3
         },
         "mode": "lines",
         "showlegend": false,
         "type": "scatter3d",
         "x": [
          3.00679,
          2.356117566883259
         ],
         "y": [
          -1.35457,
          -1.9578523916091772
         ],
         "z": [
          -0.52466,
          -0.6806810491460997
         ]
        },
        {
         "line": {
          "color": "green",
          "dash": "longdash",
          "width": 3
         },
         "mode": "lines",
         "showlegend": false,
         "type": "scatter3d",
         "x": [
          1.999,
          2.9111424136398387
         ],
         "y": [
          -2.35744,
          -0.8210347239877742
         ],
         "z": [
          -3.41478,
          -3.302576395296793
         ]
        },
        {
         "line": {
          "color": "green",
          "dash": "longdash",
          "width": 3
         },
         "mode": "lines",
         "showlegend": false,
         "type": "scatter3d",
         "x": [
          1.50703,
          1.8375123576839896
         ],
         "y": [
          0.8377,
          0.7030207859508604
         ],
         "z": [
          0.95413,
          0.7206310881141631
         ]
        },
        {
         "line": {
          "color": "green",
          "dash": "longdash",
          "width": 3
         },
         "mode": "lines",
         "showlegend": false,
         "type": "scatter3d",
         "x": [
          1.67107,
          1.9399833499273877
         ],
         "y": [
          -0.10265,
          -0.19651424875806112
         ],
         "z": [
          1.37611,
          1.243583510787461
         ]
        },
        {
         "line": {
          "color": "green",
          "dash": "longdash",
          "width": 3
         },
         "mode": "lines",
         "showlegend": false,
         "type": "scatter3d",
         "x": [
          2.20386,
          0.36959884838911083
         ],
         "y": [
          0.00085,
          0.21987431387549727
         ],
         "z": [
          2.24066,
          2.6183855525143196
         ]
        },
        {
         "line": {
          "color": "green",
          "dash": "longdash",
          "width": 3
         },
         "mode": "lines",
         "showlegend": false,
         "type": "scatter3d",
         "x": [
          2.26009,
          2.706325261378134
         ],
         "y": [
          -0.63813,
          -0.11685720999058702
         ],
         "z": [
          0.65635,
          1.9130880803975672
         ]
        },
        {
         "line": {
          "color": "green",
          "dash": "longdash",
          "width": 3
         },
         "mode": "lines",
         "showlegend": false,
         "type": "scatter3d",
         "x": [
          0.37905,
          0.6550139026884572
         ],
         "y": [
          -0.81138,
          -0.5614910979622032
         ],
         "z": [
          1.59516,
          1.903525634164576
         ]
        },
        {
         "line": {
          "color": "green",
          "dash": "longdash",
          "width": 3
         },
         "mode": "lines",
         "showlegend": false,
         "type": "scatter3d",
         "x": [
          0.58452,
          0.7778233311123424
         ],
         "y": [
          -1.80639,
          -1.5226840480190689
         ],
         "z": [
          2.00791,
          2.416918324170168
         ]
        },
        {
         "line": {
          "color": "green",
          "dash": "longdash",
          "width": 3
         },
         "mode": "lines",
         "showlegend": false,
         "type": "scatter3d",
         "x": [
          -0.10322,
          2.18476118685211
         ],
         "y": [
          -0.90441,
          -0.9345066919162579
         ],
         "z": [
          0.61568,
          0.50236440519732
         ]
        },
        {
         "line": {
          "color": "green",
          "dash": "longdash",
          "width": 3
         },
         "mode": "lines",
         "showlegend": false,
         "type": "scatter3d",
         "x": [
          -0.24899,
          -0.0957194282456999
         ],
         "y": [
          -0.23409,
          -0.6539882225241163
         ],
         "z": [
          2.28455,
          1.1107221293966654
         ]
        },
        {
         "line": {
          "color": "green",
          "dash": "longdash",
          "width": 3
         },
         "mode": "lines",
         "showlegend": false,
         "type": "scatter3d",
         "x": [
          1.00544,
          1.2557988656212145
         ],
         "y": [
          2.02479,
          1.862454216597531
         ],
         "z": [
          -0.24615,
          -0.4609838424156691
         ]
        },
        {
         "line": {
          "color": "green",
          "dash": "longdash",
          "width": 3
         },
         "mode": "lines",
         "showlegend": false,
         "type": "scatter3d",
         "x": [
          1.49769,
          1.837790231037566
         ],
         "y": [
          2.75412,
          2.3185533551386217
         ],
         "z": [
          -0.64345,
          -1.0829982059981238
         ]
        },
        {
         "line": {
          "color": "green",
          "dash": "longdash",
          "width": 3
         },
         "mode": "lines",
         "showlegend": false,
         "type": "scatter3d",
         "x": [
          0.98101,
          0.8742066501796186
         ],
         "y": [
          1.3193,
          1.1206667207497296
         ],
         "z": [
          -0.93749,
          -0.9872855257857893
         ]
        }
       ],
       "layout": {
        "scene": {
         "aspectmode": "data",
         "xaxis": {
          "title": {
           "text": "X"
          },
          "visible": false
         },
         "yaxis": {
          "title": {
           "text": "Y"
          },
          "visible": false
         },
         "zaxis": {
          "title": {
           "text": "Z"
          },
          "visible": false
         }
        },
        "showlegend": true,
        "template": {
         "data": {
          "bar": [
           {
            "error_x": {
             "color": "#2a3f5f"
            },
            "error_y": {
             "color": "#2a3f5f"
            },
            "marker": {
             "line": {
              "color": "#E5ECF6",
              "width": 0.5
             },
             "pattern": {
              "fillmode": "overlay",
              "size": 10,
              "solidity": 0.2
             }
            },
            "type": "bar"
           }
          ],
          "barpolar": [
           {
            "marker": {
             "line": {
              "color": "#E5ECF6",
              "width": 0.5
             },
             "pattern": {
              "fillmode": "overlay",
              "size": 10,
              "solidity": 0.2
             }
            },
            "type": "barpolar"
           }
          ],
          "carpet": [
           {
            "aaxis": {
             "endlinecolor": "#2a3f5f",
             "gridcolor": "white",
             "linecolor": "white",
             "minorgridcolor": "white",
             "startlinecolor": "#2a3f5f"
            },
            "baxis": {
             "endlinecolor": "#2a3f5f",
             "gridcolor": "white",
             "linecolor": "white",
             "minorgridcolor": "white",
             "startlinecolor": "#2a3f5f"
            },
            "type": "carpet"
           }
          ],
          "choropleth": [
           {
            "colorbar": {
             "outlinewidth": 0,
             "ticks": ""
            },
            "type": "choropleth"
           }
          ],
          "contour": [
           {
            "colorbar": {
             "outlinewidth": 0,
             "ticks": ""
            },
            "colorscale": [
             [
              0,
              "#0d0887"
             ],
             [
              0.1111111111111111,
              "#46039f"
             ],
             [
              0.2222222222222222,
              "#7201a8"
             ],
             [
              0.3333333333333333,
              "#9c179e"
             ],
             [
              0.4444444444444444,
              "#bd3786"
             ],
             [
              0.5555555555555556,
              "#d8576b"
             ],
             [
              0.6666666666666666,
              "#ed7953"
             ],
             [
              0.7777777777777778,
              "#fb9f3a"
             ],
             [
              0.8888888888888888,
              "#fdca26"
             ],
             [
              1,
              "#f0f921"
             ]
            ],
            "type": "contour"
           }
          ],
          "contourcarpet": [
           {
            "colorbar": {
             "outlinewidth": 0,
             "ticks": ""
            },
            "type": "contourcarpet"
           }
          ],
          "heatmap": [
           {
            "colorbar": {
             "outlinewidth": 0,
             "ticks": ""
            },
            "colorscale": [
             [
              0,
              "#0d0887"
             ],
             [
              0.1111111111111111,
              "#46039f"
             ],
             [
              0.2222222222222222,
              "#7201a8"
             ],
             [
              0.3333333333333333,
              "#9c179e"
             ],
             [
              0.4444444444444444,
              "#bd3786"
             ],
             [
              0.5555555555555556,
              "#d8576b"
             ],
             [
              0.6666666666666666,
              "#ed7953"
             ],
             [
              0.7777777777777778,
              "#fb9f3a"
             ],
             [
              0.8888888888888888,
              "#fdca26"
             ],
             [
              1,
              "#f0f921"
             ]
            ],
            "type": "heatmap"
           }
          ],
          "histogram": [
           {
            "marker": {
             "pattern": {
              "fillmode": "overlay",
              "size": 10,
              "solidity": 0.2
             }
            },
            "type": "histogram"
           }
          ],
          "histogram2d": [
           {
            "colorbar": {
             "outlinewidth": 0,
             "ticks": ""
            },
            "colorscale": [
             [
              0,
              "#0d0887"
             ],
             [
              0.1111111111111111,
              "#46039f"
             ],
             [
              0.2222222222222222,
              "#7201a8"
             ],
             [
              0.3333333333333333,
              "#9c179e"
             ],
             [
              0.4444444444444444,
              "#bd3786"
             ],
             [
              0.5555555555555556,
              "#d8576b"
             ],
             [
              0.6666666666666666,
              "#ed7953"
             ],
             [
              0.7777777777777778,
              "#fb9f3a"
             ],
             [
              0.8888888888888888,
              "#fdca26"
             ],
             [
              1,
              "#f0f921"
             ]
            ],
            "type": "histogram2d"
           }
          ],
          "histogram2dcontour": [
           {
            "colorbar": {
             "outlinewidth": 0,
             "ticks": ""
            },
            "colorscale": [
             [
              0,
              "#0d0887"
             ],
             [
              0.1111111111111111,
              "#46039f"
             ],
             [
              0.2222222222222222,
              "#7201a8"
             ],
             [
              0.3333333333333333,
              "#9c179e"
             ],
             [
              0.4444444444444444,
              "#bd3786"
             ],
             [
              0.5555555555555556,
              "#d8576b"
             ],
             [
              0.6666666666666666,
              "#ed7953"
             ],
             [
              0.7777777777777778,
              "#fb9f3a"
             ],
             [
              0.8888888888888888,
              "#fdca26"
             ],
             [
              1,
              "#f0f921"
             ]
            ],
            "type": "histogram2dcontour"
           }
          ],
          "mesh3d": [
           {
            "colorbar": {
             "outlinewidth": 0,
             "ticks": ""
            },
            "type": "mesh3d"
           }
          ],
          "parcoords": [
           {
            "line": {
             "colorbar": {
              "outlinewidth": 0,
              "ticks": ""
             }
            },
            "type": "parcoords"
           }
          ],
          "pie": [
           {
            "automargin": true,
            "type": "pie"
           }
          ],
          "scatter": [
           {
            "fillpattern": {
             "fillmode": "overlay",
             "size": 10,
             "solidity": 0.2
            },
            "type": "scatter"
           }
          ],
          "scatter3d": [
           {
            "line": {
             "colorbar": {
              "outlinewidth": 0,
              "ticks": ""
             }
            },
            "marker": {
             "colorbar": {
              "outlinewidth": 0,
              "ticks": ""
             }
            },
            "type": "scatter3d"
           }
          ],
          "scattercarpet": [
           {
            "marker": {
             "colorbar": {
              "outlinewidth": 0,
              "ticks": ""
             }
            },
            "type": "scattercarpet"
           }
          ],
          "scattergeo": [
           {
            "marker": {
             "colorbar": {
              "outlinewidth": 0,
              "ticks": ""
             }
            },
            "type": "scattergeo"
           }
          ],
          "scattergl": [
           {
            "marker": {
             "colorbar": {
              "outlinewidth": 0,
              "ticks": ""
             }
            },
            "type": "scattergl"
           }
          ],
          "scattermap": [
           {
            "marker": {
             "colorbar": {
              "outlinewidth": 0,
              "ticks": ""
             }
            },
            "type": "scattermap"
           }
          ],
          "scattermapbox": [
           {
            "marker": {
             "colorbar": {
              "outlinewidth": 0,
              "ticks": ""
             }
            },
            "type": "scattermapbox"
           }
          ],
          "scatterpolar": [
           {
            "marker": {
             "colorbar": {
              "outlinewidth": 0,
              "ticks": ""
             }
            },
            "type": "scatterpolar"
           }
          ],
          "scatterpolargl": [
           {
            "marker": {
             "colorbar": {
              "outlinewidth": 0,
              "ticks": ""
             }
            },
            "type": "scatterpolargl"
           }
          ],
          "scatterternary": [
           {
            "marker": {
             "colorbar": {
              "outlinewidth": 0,
              "ticks": ""
             }
            },
            "type": "scatterternary"
           }
          ],
          "surface": [
           {
            "colorbar": {
             "outlinewidth": 0,
             "ticks": ""
            },
            "colorscale": [
             [
              0,
              "#0d0887"
             ],
             [
              0.1111111111111111,
              "#46039f"
             ],
             [
              0.2222222222222222,
              "#7201a8"
             ],
             [
              0.3333333333333333,
              "#9c179e"
             ],
             [
              0.4444444444444444,
              "#bd3786"
             ],
             [
              0.5555555555555556,
              "#d8576b"
             ],
             [
              0.6666666666666666,
              "#ed7953"
             ],
             [
              0.7777777777777778,
              "#fb9f3a"
             ],
             [
              0.8888888888888888,
              "#fdca26"
             ],
             [
              1,
              "#f0f921"
             ]
            ],
            "type": "surface"
           }
          ],
          "table": [
           {
            "cells": {
             "fill": {
              "color": "#EBF0F8"
             },
             "line": {
              "color": "white"
             }
            },
            "header": {
             "fill": {
              "color": "#C8D4E3"
             },
             "line": {
              "color": "white"
             }
            },
            "type": "table"
           }
          ]
         },
         "layout": {
          "annotationdefaults": {
           "arrowcolor": "#2a3f5f",
           "arrowhead": 0,
           "arrowwidth": 1
          },
          "autotypenumbers": "strict",
          "coloraxis": {
           "colorbar": {
            "outlinewidth": 0,
            "ticks": ""
           }
          },
          "colorscale": {
           "diverging": [
            [
             0,
             "#8e0152"
            ],
            [
             0.1,
             "#c51b7d"
            ],
            [
             0.2,
             "#de77ae"
            ],
            [
             0.3,
             "#f1b6da"
            ],
            [
             0.4,
             "#fde0ef"
            ],
            [
             0.5,
             "#f7f7f7"
            ],
            [
             0.6,
             "#e6f5d0"
            ],
            [
             0.7,
             "#b8e186"
            ],
            [
             0.8,
             "#7fbc41"
            ],
            [
             0.9,
             "#4d9221"
            ],
            [
             1,
             "#276419"
            ]
           ],
           "sequential": [
            [
             0,
             "#0d0887"
            ],
            [
             0.1111111111111111,
             "#46039f"
            ],
            [
             0.2222222222222222,
             "#7201a8"
            ],
            [
             0.3333333333333333,
             "#9c179e"
            ],
            [
             0.4444444444444444,
             "#bd3786"
            ],
            [
             0.5555555555555556,
             "#d8576b"
            ],
            [
             0.6666666666666666,
             "#ed7953"
            ],
            [
             0.7777777777777778,
             "#fb9f3a"
            ],
            [
             0.8888888888888888,
             "#fdca26"
            ],
            [
             1,
             "#f0f921"
            ]
           ],
           "sequentialminus": [
            [
             0,
             "#0d0887"
            ],
            [
             0.1111111111111111,
             "#46039f"
            ],
            [
             0.2222222222222222,
             "#7201a8"
            ],
            [
             0.3333333333333333,
             "#9c179e"
            ],
            [
             0.4444444444444444,
             "#bd3786"
            ],
            [
             0.5555555555555556,
             "#d8576b"
            ],
            [
             0.6666666666666666,
             "#ed7953"
            ],
            [
             0.7777777777777778,
             "#fb9f3a"
            ],
            [
             0.8888888888888888,
             "#fdca26"
            ],
            [
             1,
             "#f0f921"
            ]
           ]
          },
          "colorway": [
           "#636efa",
           "#EF553B",
           "#00cc96",
           "#ab63fa",
           "#FFA15A",
           "#19d3f3",
           "#FF6692",
           "#B6E880",
           "#FF97FF",
           "#FECB52"
          ],
          "font": {
           "color": "#2a3f5f"
          },
          "geo": {
           "bgcolor": "white",
           "lakecolor": "white",
           "landcolor": "#E5ECF6",
           "showlakes": true,
           "showland": true,
           "subunitcolor": "white"
          },
          "hoverlabel": {
           "align": "left"
          },
          "hovermode": "closest",
          "mapbox": {
           "style": "light"
          },
          "paper_bgcolor": "white",
          "plot_bgcolor": "#E5ECF6",
          "polar": {
           "angularaxis": {
            "gridcolor": "white",
            "linecolor": "white",
            "ticks": ""
           },
           "bgcolor": "#E5ECF6",
           "radialaxis": {
            "gridcolor": "white",
            "linecolor": "white",
            "ticks": ""
           }
          },
          "scene": {
           "xaxis": {
            "backgroundcolor": "#E5ECF6",
            "gridcolor": "white",
            "gridwidth": 2,
            "linecolor": "white",
            "showbackground": true,
            "ticks": "",
            "zerolinecolor": "white"
           },
           "yaxis": {
            "backgroundcolor": "#E5ECF6",
            "gridcolor": "white",
            "gridwidth": 2,
            "linecolor": "white",
            "showbackground": true,
            "ticks": "",
            "zerolinecolor": "white"
           },
           "zaxis": {
            "backgroundcolor": "#E5ECF6",
            "gridcolor": "white",
            "gridwidth": 2,
            "linecolor": "white",
            "showbackground": true,
            "ticks": "",
            "zerolinecolor": "white"
           }
          },
          "shapedefaults": {
           "line": {
            "color": "#2a3f5f"
           }
          },
          "ternary": {
           "aaxis": {
            "gridcolor": "white",
            "linecolor": "white",
            "ticks": ""
           },
           "baxis": {
            "gridcolor": "white",
            "linecolor": "white",
            "ticks": ""
           },
           "bgcolor": "#E5ECF6",
           "caxis": {
            "gridcolor": "white",
            "linecolor": "white",
            "ticks": ""
           }
          },
          "title": {
           "x": 0.05
          },
          "xaxis": {
           "automargin": true,
           "gridcolor": "white",
           "linecolor": "white",
           "ticks": "",
           "title": {
            "standoff": 15
           },
           "zerolinecolor": "white",
           "zerolinewidth": 2
          },
          "yaxis": {
           "automargin": true,
           "gridcolor": "white",
           "linecolor": "white",
           "ticks": "",
           "title": {
            "standoff": 15
           },
           "zerolinecolor": "white",
           "zerolinewidth": 2
          }
         }
        },
        "title": {
         "text": "A B Alignment"
        }
       }
      }
     },
     "metadata": {},
     "output_type": "display_data"
    }
   ],
   "source": [
    "data_path = \"../Data/S1-MA-W1\"\n",
    "molA = next(pybel.readfile(\"xyz\", os.path.join(data_path, 's1maw1-1.xyz')))\n",
    "molB = next(pybel.readfile(\"xyz\", './arbalign_output/s1maw1-2-aligned_to-s1maw1-1.xyz'))\n",
    "X_A, T_A, B_A = otm.tl.process_molecule(molA) \n",
    "X_B, T_B, B_B = otm.tl.process_molecule(molB)\n",
    "X_B_aligned, _, _ = otm.tl.kabsch(X_A, X_B, np.eye(X_A.shape[0]))\n",
    "print(otm.tl.root_mean_square_deviation(X_A, X_B_aligned))\n",
    "otm.pl.interactive_alignment_plot(X_A, X_B_aligned, T_A, T_B, B_A, B_B, np.arange(X_A.shape[0], dtype=int), save=True)"
   ]
  }
 ],
 "metadata": {
  "kernelspec": {
   "display_name": "py39",
   "language": "python",
   "name": "python3"
  },
  "language_info": {
   "codemirror_mode": {
    "name": "ipython",
    "version": 3
   },
   "file_extension": ".py",
   "mimetype": "text/x-python",
   "name": "python",
   "nbconvert_exporter": "python",
   "pygments_lexer": "ipython3",
   "version": "3.9.16"
  }
 },
 "nbformat": 4,
 "nbformat_minor": 2
}
