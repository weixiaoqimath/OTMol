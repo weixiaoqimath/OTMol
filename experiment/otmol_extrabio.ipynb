{
 "cells": [
  {
   "cell_type": "code",
   "execution_count": 12,
   "metadata": {},
   "outputs": [],
   "source": [
    "import numpy as np\n",
    "import otmol as otm\n",
    "import pandas as pd\n",
    "from openbabel import pybel\n",
    "import matplotlib.pyplot as plt\n",
    "import seaborn as sns\n",
    "import os\n",
    "from rdkit.Chem import MolFromPDBFile\n",
    "from experiment_utils import experiment, interactive_alignment_plot_py3dmol\n",
    "# %matplotlib widget"
   ]
  },
  {
   "cell_type": "code",
   "execution_count": 14,
   "metadata": {},
   "outputs": [],
   "source": [
    "data_path = \"../Data/first_8_molecules_RDKIT\"\n",
    "lig_list = ['1ln1_DLP', '4csv_imatinib', '5bvs_EIC', '6ln3_ATP', '6y13_stapledHelix', '8w4x_BGC', '8w4x_BGCGLC', '215d_DNA']\n",
    "for ligand in lig_list:\n",
    "    for i in range(50):\n",
    "        path1 = os.path.join(data_path, 'extra_bio_ligands', ligand+'.xyz')\n",
    "        path2 = os.path.join(data_path, 'extra_bio_ligands_RDKIT', ligand, ligand+'_conf'+str(i)+'.xyz')\n",
    "        molA = MolFromPDBFile(path1)\n",
    "        molB = MolFromPDBFile(path2)\n",
    "        X_A, T_A, B_A = otm.tl.process_rdkit_molecule(molA)\n",
    "        X_B, T_B, B_B = otm.tl.process_rdkit_molecule(molB)\n",
    "        X_B_aligned, _, _ = otm.tl.kabsch(X_A, X_B, np.eye(X_A.shape[0]))\n",
    "        print(otm.tl.root_mean_square_deviation(X_A, X_B_aligned))\n",
    "        otm.pl.interactive_alignment_plot(X_A, X_B_aligned, T_A, T_B, B_A, B_B, np.arange(X_A.shape[0], dtype=int), save=True)\n",
    "        res, _, _ = run_arbalign(\n",
    "            xyz1_path= path1,\n",
    "            xyz2_path= path2,\n",
    "                simple=False,  # Set to True for faster but less thorough alignment\n",
    "                noHydrogens=True,  # Set to True to ignore hydrogen atoms\n",
    "                verbose=False  # Set to True to see detailed output\n",
    "            )\n",
    "            result.append({\n",
    "                'nameA': ligand,\n",
    "                'nameB': ligand+'_conf'+str(i),\n",
    "                'RMSD(ArbAlign)': res,\n",
    "            })            \n",
    "         pd.DataFrame(result).to_csv(('./arbalign_output/{}_result.csv'.format(ligand)), index=False)"
   ]
  },
  {
   "cell_type": "code",
   "execution_count": 15,
   "metadata": {},
   "outputs": [
    {
     "name": "stdout",
     "output_type": "stream",
     "text": [
      "0 s1maw1-1 s1maw1-2 1.67 0\n",
      "1 s1maw1-1 s1maw1-3 0.58 0\n",
      "2 s1maw1-1 s1maw1-4 0.12 0\n",
      "3 s1maw1-1 s1maw1-5 0.55 0\n",
      "4 s1maw1-1 s1maw1-6 1.28 0\n",
      "5 s1maw1-1 s1maw1-7 1.62 0\n",
      "6 s1maw1-1 s1maw1-8 1.33 0\n",
      "7 s1maw1-1 s1maw1-9 1.39 0\n",
      "8 s1maw1-1 s1maw1-10 0.42 0\n",
      "9 s1maw1-1 s1maw1-11 0.83 0\n",
      "10 s1maw1-1 s1maw1-12 0.55 0\n",
      "11 s1maw1-1 s1maw1-13 0.98 0\n",
      "12 s1maw1-1 s1maw1-14 1.36 0\n",
      "13 s1maw1-1 s1maw1-15 0.49 0\n",
      "14 s1maw1-1 s1maw1-16 0.41 0\n",
      "15 s1maw1-1 s1maw1-17 1.65 0\n",
      "16 s1maw1-1 s1maw1-18 1.61 0\n",
      "17 s1maw1-1 s1maw1-19 1.14 0\n",
      "18 s1maw1-1 s1maw1-20 1.81 0\n",
      "0 s1maw1-1 s1maw1-2 1.67 0\n",
      "1 s1maw1-1 s1maw1-3 0.58 0\n",
      "2 s1maw1-1 s1maw1-4 0.12 0\n",
      "3 s1maw1-1 s1maw1-5 0.55 0\n",
      "4 s1maw1-1 s1maw1-6 1.27 0\n",
      "5 s1maw1-1 s1maw1-7 1.58 0\n",
      "6 s1maw1-1 s1maw1-8 1.22 0\n",
      "7 s1maw1-1 s1maw1-9 1.37 0\n",
      "8 s1maw1-1 s1maw1-10 0.42 0\n",
      "9 s1maw1-1 s1maw1-11 0.56 0\n",
      "10 s1maw1-1 s1maw1-12 0.55 0\n",
      "11 s1maw1-1 s1maw1-13 1.09 0\n",
      "12 s1maw1-1 s1maw1-14 1.36 0\n",
      "13 s1maw1-1 s1maw1-15 0.49 0\n",
      "14 s1maw1-1 s1maw1-16 0.41 0\n",
      "15 s1maw1-1 s1maw1-17 1.65 0\n",
      "16 s1maw1-1 s1maw1-18 1.58 0\n",
      "17 s1maw1-1 s1maw1-19 1.17 0\n",
      "18 s1maw1-1 s1maw1-20 1.80 0\n",
      "0 s1maw1-1 s1maw1-2 1.62 0\n",
      "1 s1maw1-1 s1maw1-3 0.58 0\n",
      "2 s1maw1-1 s1maw1-4 0.12 0\n",
      "3 s1maw1-1 s1maw1-5 0.55 0\n",
      "4 s1maw1-1 s1maw1-6 1.27 0\n",
      "5 s1maw1-1 s1maw1-7 1.60 0\n",
      "6 s1maw1-1 s1maw1-8 1.19 0\n",
      "7 s1maw1-1 s1maw1-9 1.29 0\n",
      "8 s1maw1-1 s1maw1-10 0.42 0\n",
      "9 s1maw1-1 s1maw1-11 0.56 0\n",
      "10 s1maw1-1 s1maw1-12 0.55 0\n",
      "11 s1maw1-1 s1maw1-13 0.98 0\n",
      "12 s1maw1-1 s1maw1-14 1.36 0\n",
      "13 s1maw1-1 s1maw1-15 0.49 0\n",
      "14 s1maw1-1 s1maw1-16 0.41 0\n",
      "15 s1maw1-1 s1maw1-17 1.61 0\n",
      "16 s1maw1-1 s1maw1-18 1.59 0\n",
      "17 s1maw1-1 s1maw1-19 1.17 0\n",
      "18 s1maw1-1 s1maw1-20 1.79 0\n"
     ]
    }
   ],
   "source": [
    "cst_D = 1\n",
    "alpha_list = np.linspace(0,1,101)\n",
    "otmol_name_res = experiment(\n",
    "    data_path, \n",
    "    molecule_pairs, \n",
    "    setup='element name', \n",
    "    alpha_list=alpha_list, \n",
    "    molecule_sizes = molecule_sizes, \n",
    "    dataset_name = 'S1MAW1',\n",
    "    cst_D = cst_D,\n",
    "    save = True\n",
    "    )\n",
    "otmol_type_res = experiment(\n",
    "    data_path, \n",
    "    molecule_pairs, \n",
    "    setup='atom type', \n",
    "    alpha_list=alpha_list, \n",
    "    molecule_sizes = molecule_sizes, \n",
    "    dataset_name = 'S1MAW1',\n",
    "    cst_D = cst_D,\n",
    "    save = True\n",
    "    )\n",
    "otmol_conn_res = experiment(\n",
    "    data_path, \n",
    "    molecule_pairs, \n",
    "    setup='atom connectivity', \n",
    "    alpha_list=alpha_list, \n",
    "    molecule_sizes = molecule_sizes, \n",
    "    dataset_name = 'S1MAW1', \n",
    "    cst_D = cst_D,\n",
    "    save = True\n",
    "    )"
   ]
  },
  {
   "cell_type": "code",
   "execution_count": 11,
   "metadata": {},
   "outputs": [
    {
     "data": {
      "image/png": "[encoded data removed]",
      "text/plain": [
       "<Figure size 1008x288 with 3 Axes>"
      ]
     },
     "metadata": {},
     "output_type": "display_data"
    }
   ],
   "source": [
    "arbalign_res = pd.read_csv('./arbalign_output/S1MAW1_result.csv')\n",
    "\n",
    "combined_df = pd.concat([\n",
    "    arbalign_res.rename(columns={\n",
    "        'RMSD(ArbAlign+element name)': 'ArbAlign (element name)', \n",
    "        'RMSD(ArbAlign+atom type)': 'ArbAlign (SYBYL type)',\n",
    "        'RMSD(ArbAlign+atom connectivity)': 'ArbAlign (atom connectivity)'\n",
    "        }), \n",
    "    otmol_name_res.rename(columns={'RMSD(OTMol+element name)': 'OTMol (element name)'}), \n",
    "    otmol_type_res.rename(columns={'RMSD(OTMol+atom type)': 'OTMol (SYBYL type)'}), \n",
    "    otmol_conn_res.rename(columns={'RMSD(OTMol+atom connectivity)': 'OTMol (atom connectivity)'}\n",
    "    ), \n",
    "    ], axis=1)\n",
    "\n",
    "plt.figure(figsize=(14,4))\n",
    "sns.set_style(\"whitegrid\")\n",
    "sns.set_context(\"paper\", font_scale=1.2)\n",
    "sns.set_palette(\"Set2\")\n",
    "plt.subplot(131)\n",
    "plt.plot(range(2,21), combined_df[\"ArbAlign (element name)\"], marker='o', label=\"ArbAlign (element name)\", clip_on=False, zorder=10)\n",
    "plt.scatter(\n",
    "            np.array(range(2,21))[arbalign_res['reflection_name'] == True], \n",
    "            combined_df[\"ArbAlign (element name)\"][arbalign_res['reflection_name'] == True], \n",
    "            color='black',\n",
    "            marker='x',  # Different marker for False values\n",
    "            s=50,\n",
    "            zorder=20,  # Higher zorder to appear on top\n",
    "        )\n",
    "plt.plot(range(2,21), combined_df[\"OTMol (element name)\"], marker='o', label=\"OTMol (element name)\", clip_on=False, zorder=10)\n",
    "plt.title(\"Atmospheric hydrates, element name\")\n",
    "plt.xlabel(\"Different isomers of s1maw1-1\")\n",
    "plt.ylabel(\"RMSD Values\")\n",
    "plt.ylim(0, 2)\n",
    "plt.xticks(range(2,21))\n",
    "plt.xlim(2,20)\n",
    "plt.legend(loc='upper left')\n",
    "plt.grid(True)\n",
    "\n",
    "plt.subplot(132)\n",
    "plt.plot(range(2,21), combined_df[\"ArbAlign (SYBYL type)\"], marker='o', label=\"ArbAlign (SYBYL type)\", clip_on=False, zorder=10)\n",
    "plt.scatter(\n",
    "            np.array(range(2,21))[arbalign_res['reflection_type'] == True], \n",
    "            combined_df[\"ArbAlign (SYBYL type)\"][arbalign_res['reflection_type'] == True], \n",
    "            color='black',\n",
    "            marker='x',  # Different marker for False values\n",
    "            s=50,\n",
    "            zorder=20,  # Higher zorder to appear on top\n",
    "        )\n",
    "plt.plot(range(2,21), combined_df[\"OTMol (SYBYL type)\"], marker='o', label=\"OTMol (SYBYL type)\", clip_on=False, zorder=10)\n",
    "plt.title(\"Atmospheric hydrates, SYBYL type\")\n",
    "plt.xlabel(\"Different isomers of s1maw1-1\")\n",
    "plt.ylim(0, 2)\n",
    "plt.xticks(range(2,21))\n",
    "plt.xlim(2,20)\n",
    "plt.legend()\n",
    "plt.grid(True)\n",
    "\n",
    "plt.subplot(133)\n",
    "plt.plot(range(2,21), combined_df[\"ArbAlign (atom connectivity)\"], marker='o', label=\"ArbAlign (atom connectivity)\", clip_on=False, zorder=10)\n",
    "plt.scatter(\n",
    "            np.array(range(2,21))[arbalign_res['reflection_conn'] == True], \n",
    "            combined_df[\"ArbAlign (atom connectivity)\"][arbalign_res['reflection_conn'] == True], \n",
    "            color='black',\n",
    "            marker='x',  # Different marker for False values\n",
    "            s=50,\n",
    "            zorder=20,  # Higher zorder to appear on top\n",
    "        )\n",
    "plt.plot(range(2,21), combined_df[\"OTMol (atom connectivity)\"], marker='o', label=\"OTMol (atom connectivity)\", clip_on=False, zorder=10)\n",
    "plt.title(\"Atmospheric hydrates, atom connectivity\")\n",
    "plt.xlabel(\"Different isomers of s1maw1-1\")\n",
    "plt.ylim(0, 2)\n",
    "plt.xticks(range(2,21))\n",
    "plt.xlim(2,20)\n",
    "plt.legend()\n",
    "plt.grid(True)\n",
    "plt.savefig(\"../images/S1MAW1.png\", dpi=300, bbox_inches='tight')"
   ]
  },
  {
   "cell_type": "code",
   "execution_count": 27,
   "metadata": {},
   "outputs": [
    {
     "data": {
      "image/png": "[encoded data removed]",
      "text/plain": [
       "<Figure size 360x288 with 1 Axes>"
      ]
     },
     "metadata": {},
     "output_type": "display_data"
    }
   ],
   "source": [
    "arbalign_res = pd.read_csv('./arbalign_output/S1MAW1_result.csv')\n",
    "arbalign_res_no_reflection = pd.read_csv('./arbalign_output/no_reflection/S1MAW1_result.csv')\n",
    "\n",
    "combined_df = pd.concat([\n",
    "    arbalign_res.rename(columns={'RMSD(ArbAlign+element name)': 'ArbAlign'}), \n",
    "    arbalign_res_no_reflection.rename(columns={'RMSD(ArbAlign+element name)': 'ArbAlign (reflection not allowed)'}), \n",
    "    otmol_name_res.rename(columns={'RMSD(OTMol+element name)': 'OTMol'}), \n",
    "    ], axis=1)\n",
    "plt.figure(figsize=(5,4))\n",
    "sns.set_style(\"whitegrid\")\n",
    "sns.set_context(\"paper\", font_scale=1.2)\n",
    "sns.set_palette(\"Set2\")\n",
    "plt.plot(range(2,21), combined_df[\"OTMol\"], marker='o', label=\"OTMol\", clip_on=False, zorder=10)\n",
    "plt.plot(range(2,21), combined_df[\"ArbAlign\"], marker='o', label=\"ArbAlign\", clip_on=False, zorder=10)\n",
    "plt.scatter(\n",
    "            np.array(range(2,21))[arbalign_res['reflection_name'] == True], \n",
    "            combined_df[\"ArbAlign\"][arbalign_res['reflection_name'] == True], \n",
    "            color='black',\n",
    "            marker='x',  # Different marker for False values\n",
    "            s=50,\n",
    "            zorder=20,  # Higher zorder to appear on top\n",
    "        )\n",
    "plt.plot(range(2,21), combined_df[\"ArbAlign (reflection not allowed)\"], marker='o', label=\"ArbAlign (reflection not allowed)\", clip_on=False, zorder=10)\n",
    "plt.title(\"Atmospheric hydrates, element name\")\n",
    "plt.xlabel(\"Different isomers of s1maw1-1\")\n",
    "plt.ylabel(\"RMSD Values\")\n",
    "plt.ylim(0, 2)\n",
    "plt.xticks(range(2,21))\n",
    "plt.xlim(2,20)\n",
    "plt.legend().set_zorder(10)\n",
    "plt.grid(True)\n",
    "plt.savefig('../images/S1MAW1_element_name.png', dpi=300, bbox_inches='tight')"
   ]
  },
  {
   "cell_type": "code",
   "execution_count": 28,
   "metadata": {},
   "outputs": [
    {
     "data": {
      "application/3dmoljs_load.v0": "<div id=\"3dmolviewer_17503613050952861\"  style=\"position: relative; width: 800px; height: 600px;\">\n        <p id=\"3dmolwarning_17503613050952861\" style=\"background-color:#ffcccc;color:black\">3Dmol.js failed to load for some reason.  Please check your browser console for error messages.<br></p>\n        </div>\n<script>\n\nvar loadScriptAsync = function(uri){\n  return new Promise((resolve, reject) => {\n    //this is to ignore the existence of requirejs amd\n    var savedexports, savedmodule;\n    if (typeof exports !== 'undefined') savedexports = exports;\n    else exports = {}\n    if (typeof module !== 'undefined') savedmodule = module;\n    else module = {}\n\n    var tag = document.createElement('script');\n    tag.src = uri;\n    tag.async = true;\n    tag.onload = () => {\n        exports = savedexports;\n        module = savedmodule;\n        resolve();\n    };\n  var firstScriptTag = document.getElementsByTagName('script')[0];\n  firstScriptTag.parentNode.insertBefore(tag, firstScriptTag);\n});\n};\n\nif(typeof $3Dmolpromise === 'undefined') {\n$3Dmolpromise = null;\n  $3Dmolpromise = loadScriptAsync('https://cdnjs.cloudflare.com/ajax/libs/3Dmol/2.4.2/3Dmol-min.js');\n}\n\nvar viewer_17503613050952861 = null;\nvar warn = document.getElementById(\"3dmolwarning_17503613050952861\");\nif(warn) {\n    warn.parentNode.removeChild(warn);\n}\n$3Dmolpromise.then(function() {\nviewer_17503613050952861 = $3Dmol.createViewer(document.getElementById(\"3dmolviewer_17503613050952861\"),{backgroundColor:\"white\"});\nviewer_17503613050952861.zoomTo();\n\tviewer_17503613050952861.addModel(\"17\\n\\nS    2.291   -0.979   -1.813\\nO    3.109   -0.273   -2.833\\nO    0.947   -0.344   -1.511\\nO    1.934   -2.480   -2.451\\nO    3.007   -1.355   -0.525\\nH    1.999   -2.357   -3.415\\nH    1.507    0.838    0.954\\nN    1.671   -0.103    1.376\\nH    2.204    0.001    2.241\\nH    2.260   -0.638    0.656\\nC    0.379   -0.811    1.595\\nH    0.585   -1.806    2.008\\nH   -0.103   -0.904    0.616\\nH   -0.249   -0.234    2.285\\nO    1.005    2.025   -0.246\\nH    1.498    2.754   -0.643\\nH    0.981    1.319   -0.937\\n\",\"xyz\");\n\tviewer_17503613050952861.addModel(\"17\\n\\nS    2.663   -1.121   -1.568\\nO    1.784   -2.112   -0.811\\nO    3.826   -1.730   -2.250\\nO    1.657   -0.517   -2.788\\nO    2.893    0.128   -0.752\\nH    1.799   -1.112   -3.545\\nH    0.352    0.294    0.404\\nN    0.511   -0.593    0.935\\nH    0.964   -1.271    0.236\\nH   -0.385   -0.970    1.246\\nC    1.443   -0.354    2.073\\nH    1.011    0.384    2.759\\nH    2.381    0.017    1.645\\nH    1.620   -1.303    2.594\\nO    0.694    1.710   -0.574\\nH    1.558    1.311   -0.834\\nH    0.254    1.890   -1.415\\n\",\"xyz\");\n\tviewer_17503613050952861.setStyle({\"model\": 0},{\"stick\": {\"radius\": 0.06, \"color\": \"#DC2626\"}, \"sphere\": {\"radius\": 0.15, \"color\": \"#DC2626\"}});\n\tviewer_17503613050952861.setStyle({\"model\": 1},{\"stick\": {\"radius\": 0.06, \"color\": \"#2563EB\"}, \"sphere\": {\"radius\": 0.15, \"color\": \"#2563EB\"}});\n\tviewer_17503613050952861.addCylinder({\"start\": {\"x\": 2.29113, \"y\": -0.97932, \"z\": -1.81325}, \"end\": {\"x\": 2.663091181106404, \"y\": -1.1209039085924615, \"z\": -1.5678120042929993}, \"color\": \"green\", \"radius\": 0.03, \"dashed\": false});\n\tviewer_17503613050952861.addCylinder({\"start\": {\"x\": 3.10931, \"y\": -0.27345, \"z\": -2.83284}, \"end\": {\"x\": 3.82594367030047, \"y\": -1.7297470953577876, \"z\": -2.250016653650218}, \"color\": \"green\", \"radius\": 0.03, \"dashed\": false});\n\tviewer_17503613050952861.addCylinder({\"start\": {\"x\": 0.94736, \"y\": -0.34395, \"z\": -1.51087}, \"end\": {\"x\": 2.8929802647844083, \"y\": 0.12768284898777582, \"z\": -0.7518503585026125}, \"color\": \"green\", \"radius\": 0.03, \"dashed\": false});\n\tviewer_17503613050952861.addCylinder({\"start\": {\"x\": 1.93384, \"y\": -2.47997, \"z\": -2.45106}, \"end\": {\"x\": 1.656621096105067, \"y\": -0.517286527047383, \"z\": -2.7876201907280875}, \"color\": \"green\", \"radius\": 0.03, \"dashed\": false});\n\tviewer_17503613050952861.addCylinder({\"start\": {\"x\": 3.00679, \"y\": -1.35457, \"z\": -0.52466}, \"end\": {\"x\": 1.783966965861828, \"y\": -2.1120358427174666, \"z\": -0.8109498148369316}, \"color\": \"green\", \"radius\": 0.03, \"dashed\": false});\n\tviewer_17503613050952861.addCylinder({\"start\": {\"x\": 1.999, \"y\": -2.35744, \"z\": -3.41478}, \"end\": {\"x\": 1.799008717943045, \"y\": -1.112207378418055, \"z\": -3.54496864867312}, \"color\": \"green\", \"radius\": 0.03, \"dashed\": false});\n\tviewer_17503613050952861.addCylinder({\"start\": {\"x\": 1.50703, \"y\": 0.8377, \"z\": 0.95413}, \"end\": {\"x\": 0.35221662906402895, \"y\": 0.2937173890475877, \"z\": 0.4036758464395678}, \"color\": \"green\", \"radius\": 0.03, \"dashed\": false});\n\tviewer_17503613050952861.addCylinder({\"start\": {\"x\": 1.67107, \"y\": -0.10265, \"z\": 1.37611}, \"end\": {\"x\": 0.5110435012790643, \"y\": -0.5925165507912744, \"z\": 0.9351890145173453}, \"color\": \"green\", \"radius\": 0.03, \"dashed\": false});\n\tviewer_17503613050952861.addCylinder({\"start\": {\"x\": 2.20386, \"y\": 0.00085, \"z\": 2.24066}, \"end\": {\"x\": -0.3851527282673499, \"y\": -0.9697460550524157, \"z\": 1.245659233800426}, \"color\": \"green\", \"radius\": 0.03, \"dashed\": false});\n\tviewer_17503613050952861.addCylinder({\"start\": {\"x\": 2.26009, \"y\": -0.63813, \"z\": 0.65635}, \"end\": {\"x\": 0.9642692824589756, \"y\": -1.2705767696757282, \"z\": 0.23606418378951013}, \"color\": \"green\", \"radius\": 0.03, \"dashed\": false});\n\tviewer_17503613050952861.addCylinder({\"start\": {\"x\": 0.37905, \"y\": -0.81138, \"z\": 1.59516}, \"end\": {\"x\": 1.4431769945907675, \"y\": -0.35444535728272397, \"z\": 2.072874139878459}, \"color\": \"green\", \"radius\": 0.03, \"dashed\": false});\n\tviewer_17503613050952861.addCylinder({\"start\": {\"x\": 0.58452, \"y\": -1.80639, \"z\": 2.00791}, \"end\": {\"x\": 1.6198726310097038, \"y\": -1.3029729830644994, \"z\": 2.594045985145731}, \"color\": \"green\", \"radius\": 0.03, \"dashed\": false});\n\tviewer_17503613050952861.addCylinder({\"start\": {\"x\": -0.10322, \"y\": -0.90441, \"z\": 0.61568}, \"end\": {\"x\": 2.380709981625121, \"y\": 0.01746858729745049, \"z\": 1.6446153799572447}, \"color\": \"green\", \"radius\": 0.03, \"dashed\": false});\n\tviewer_17503613050952861.addCylinder({\"start\": {\"x\": -0.24899, \"y\": -0.23409, \"z\": 2.28455}, \"end\": {\"x\": 1.0107020102033313, \"y\": 0.38386424556623644, \"z\": 2.759083059319248}, \"color\": \"green\", \"radius\": 0.03, \"dashed\": false});\n\tviewer_17503613050952861.addCylinder({\"start\": {\"x\": 1.00544, \"y\": 2.02479, \"z\": -0.24615}, \"end\": {\"x\": 0.6944926311041311, \"y\": 1.710319340715759, \"z\": -0.5735530724721516}, \"color\": \"green\", \"radius\": 0.03, \"dashed\": false});\n\tviewer_17503613050952861.addCylinder({\"start\": {\"x\": 1.49769, \"y\": 2.75412, \"z\": -0.64345}, \"end\": {\"x\": 0.25409628125536843, \"y\": 1.8896056140469886, \"z\": -1.4147128250369572}, \"color\": \"green\", \"radius\": 0.03, \"dashed\": false});\n\tviewer_17503613050952861.addCylinder({\"start\": {\"x\": 0.98101, \"y\": 1.3193, \"z\": -0.93749}, \"end\": {\"x\": 1.5579408895756344, \"y\": 1.3107904423379992, \"z\": -0.8337232746544541}, \"color\": \"green\", \"radius\": 0.03, \"dashed\": false});\n\tviewer_17503613050952861.zoomTo();\n\tviewer_17503613050952861.setBackgroundColor(\"white\");\nviewer_17503613050952861.render();\n});\n</script>",
      "text/html": [
       "<div id=\"3dmolviewer_17503613050952861\"  style=\"position: relative; width: 800px; height: 600px;\">\n",
       "        <p id=\"3dmolwarning_17503613050952861\" style=\"background-color:#ffcccc;color:black\">3Dmol.js failed to load for some reason.  Please check your browser console for error messages.<br></p>\n",
       "        </div>\n",
       "<script>\n",
       "\n",
       "var loadScriptAsync = function(uri){\n",
       "  return new Promise((resolve, reject) => {\n",
       "    //this is to ignore the existence of requirejs amd\n",
       "    var savedexports, savedmodule;\n",
       "    if (typeof exports !== 'undefined') savedexports = exports;\n",
       "    else exports = {}\n",
       "    if (typeof module !== 'undefined') savedmodule = module;\n",
       "    else module = {}\n",
       "\n",
       "    var tag = document.createElement('script');\n",
       "    tag.src = uri;\n",
       "    tag.async = true;\n",
       "    tag.onload = () => {\n",
       "        exports = savedexports;\n",
       "        module = savedmodule;\n",
       "        resolve();\n",
       "    };\n",
       "  var firstScriptTag = document.getElementsByTagName('script')[0];\n",
       "  firstScriptTag.parentNode.insertBefore(tag, firstScriptTag);\n",
       "});\n",
       "};\n",
       "\n",
       "if(typeof $3Dmolpromise === 'undefined') {\n",
       "$3Dmolpromise = null;\n",
       "  $3Dmolpromise = loadScriptAsync('https://cdnjs.cloudflare.com/ajax/libs/3Dmol/2.4.2/3Dmol-min.js');\n",
       "}\n",
       "\n",
       "var viewer_17503613050952861 = null;\n",
       "var warn = document.getElementById(\"3dmolwarning_17503613050952861\");\n",
       "if(warn) {\n",
       "    warn.parentNode.removeChild(warn);\n",
       "}\n",
       "$3Dmolpromise.then(function() {\n",
       "viewer_17503613050952861 = $3Dmol.createViewer(document.getElementById(\"3dmolviewer_17503613050952861\"),{backgroundColor:\"white\"});\n",
       "viewer_17503613050952861.zoomTo();\n",
       "\tviewer_17503613050952861.addModel(\"17\\n\\nS    2.291   -0.979   -1.813\\nO    3.109   -0.273   -2.833\\nO    0.947   -0.344   -1.511\\nO    1.934   -2.480   -2.451\\nO    3.007   -1.355   -0.525\\nH    1.999   -2.357   -3.415\\nH    1.507    0.838    0.954\\nN    1.671   -0.103    1.376\\nH    2.204    0.001    2.241\\nH    2.260   -0.638    0.656\\nC    0.379   -0.811    1.595\\nH    0.585   -1.806    2.008\\nH   -0.103   -0.904    0.616\\nH   -0.249   -0.234    2.285\\nO    1.005    2.025   -0.246\\nH    1.498    2.754   -0.643\\nH    0.981    1.319   -0.937\\n\",\"xyz\");\n",
       "\tviewer_17503613050952861.addModel(\"17\\n\\nS    2.663   -1.121   -1.568\\nO    1.784   -2.112   -0.811\\nO    3.826   -1.730   -2.250\\nO    1.657   -0.517   -2.788\\nO    2.893    0.128   -0.752\\nH    1.799   -1.112   -3.545\\nH    0.352    0.294    0.404\\nN    0.511   -0.593    0.935\\nH    0.964   -1.271    0.236\\nH   -0.385   -0.970    1.246\\nC    1.443   -0.354    2.073\\nH    1.011    0.384    2.759\\nH    2.381    0.017    1.645\\nH    1.620   -1.303    2.594\\nO    0.694    1.710   -0.574\\nH    1.558    1.311   -0.834\\nH    0.254    1.890   -1.415\\n\",\"xyz\");\n",
       "\tviewer_17503613050952861.setStyle({\"model\": 0},{\"stick\": {\"radius\": 0.06, \"color\": \"#DC2626\"}, \"sphere\": {\"radius\": 0.15, \"color\": \"#DC2626\"}});\n",
       "\tviewer_17503613050952861.setStyle({\"model\": 1},{\"stick\": {\"radius\": 0.06, \"color\": \"#2563EB\"}, \"sphere\": {\"radius\": 0.15, \"color\": \"#2563EB\"}});\n",
       "\tviewer_17503613050952861.addCylinder({\"start\": {\"x\": 2.29113, \"y\": -0.97932, \"z\": -1.81325}, \"end\": {\"x\": 2.663091181106404, \"y\": -1.1209039085924615, \"z\": -1.5678120042929993}, \"color\": \"green\", \"radius\": 0.03, \"dashed\": false});\n",
       "\tviewer_17503613050952861.addCylinder({\"start\": {\"x\": 3.10931, \"y\": -0.27345, \"z\": -2.83284}, \"end\": {\"x\": 3.82594367030047, \"y\": -1.7297470953577876, \"z\": -2.250016653650218}, \"color\": \"green\", \"radius\": 0.03, \"dashed\": false});\n",
       "\tviewer_17503613050952861.addCylinder({\"start\": {\"x\": 0.94736, \"y\": -0.34395, \"z\": -1.51087}, \"end\": {\"x\": 2.8929802647844083, \"y\": 0.12768284898777582, \"z\": -0.7518503585026125}, \"color\": \"green\", \"radius\": 0.03, \"dashed\": false});\n",
       "\tviewer_17503613050952861.addCylinder({\"start\": {\"x\": 1.93384, \"y\": -2.47997, \"z\": -2.45106}, \"end\": {\"x\": 1.656621096105067, \"y\": -0.517286527047383, \"z\": -2.7876201907280875}, \"color\": \"green\", \"radius\": 0.03, \"dashed\": false});\n",
       "\tviewer_17503613050952861.addCylinder({\"start\": {\"x\": 3.00679, \"y\": -1.35457, \"z\": -0.52466}, \"end\": {\"x\": 1.783966965861828, \"y\": -2.1120358427174666, \"z\": -0.8109498148369316}, \"color\": \"green\", \"radius\": 0.03, \"dashed\": false});\n",
       "\tviewer_17503613050952861.addCylinder({\"start\": {\"x\": 1.999, \"y\": -2.35744, \"z\": -3.41478}, \"end\": {\"x\": 1.799008717943045, \"y\": -1.112207378418055, \"z\": -3.54496864867312}, \"color\": \"green\", \"radius\": 0.03, \"dashed\": false});\n",
       "\tviewer_17503613050952861.addCylinder({\"start\": {\"x\": 1.50703, \"y\": 0.8377, \"z\": 0.95413}, \"end\": {\"x\": 0.35221662906402895, \"y\": 0.2937173890475877, \"z\": 0.4036758464395678}, \"color\": \"green\", \"radius\": 0.03, \"dashed\": false});\n",
       "\tviewer_17503613050952861.addCylinder({\"start\": {\"x\": 1.67107, \"y\": -0.10265, \"z\": 1.37611}, \"end\": {\"x\": 0.5110435012790643, \"y\": -0.5925165507912744, \"z\": 0.9351890145173453}, \"color\": \"green\", \"radius\": 0.03, \"dashed\": false});\n",
       "\tviewer_17503613050952861.addCylinder({\"start\": {\"x\": 2.20386, \"y\": 0.00085, \"z\": 2.24066}, \"end\": {\"x\": -0.3851527282673499, \"y\": -0.9697460550524157, \"z\": 1.245659233800426}, \"color\": \"green\", \"radius\": 0.03, \"dashed\": false});\n",
       "\tviewer_17503613050952861.addCylinder({\"start\": {\"x\": 2.26009, \"y\": -0.63813, \"z\": 0.65635}, \"end\": {\"x\": 0.9642692824589756, \"y\": -1.2705767696757282, \"z\": 0.23606418378951013}, \"color\": \"green\", \"radius\": 0.03, \"dashed\": false});\n",
       "\tviewer_17503613050952861.addCylinder({\"start\": {\"x\": 0.37905, \"y\": -0.81138, \"z\": 1.59516}, \"end\": {\"x\": 1.4431769945907675, \"y\": -0.35444535728272397, \"z\": 2.072874139878459}, \"color\": \"green\", \"radius\": 0.03, \"dashed\": false});\n",
       "\tviewer_17503613050952861.addCylinder({\"start\": {\"x\": 0.58452, \"y\": -1.80639, \"z\": 2.00791}, \"end\": {\"x\": 1.6198726310097038, \"y\": -1.3029729830644994, \"z\": 2.594045985145731}, \"color\": \"green\", \"radius\": 0.03, \"dashed\": false});\n",
       "\tviewer_17503613050952861.addCylinder({\"start\": {\"x\": -0.10322, \"y\": -0.90441, \"z\": 0.61568}, \"end\": {\"x\": 2.380709981625121, \"y\": 0.01746858729745049, \"z\": 1.6446153799572447}, \"color\": \"green\", \"radius\": 0.03, \"dashed\": false});\n",
       "\tviewer_17503613050952861.addCylinder({\"start\": {\"x\": -0.24899, \"y\": -0.23409, \"z\": 2.28455}, \"end\": {\"x\": 1.0107020102033313, \"y\": 0.38386424556623644, \"z\": 2.759083059319248}, \"color\": \"green\", \"radius\": 0.03, \"dashed\": false});\n",
       "\tviewer_17503613050952861.addCylinder({\"start\": {\"x\": 1.00544, \"y\": 2.02479, \"z\": -0.24615}, \"end\": {\"x\": 0.6944926311041311, \"y\": 1.710319340715759, \"z\": -0.5735530724721516}, \"color\": \"green\", \"radius\": 0.03, \"dashed\": false});\n",
       "\tviewer_17503613050952861.addCylinder({\"start\": {\"x\": 1.49769, \"y\": 2.75412, \"z\": -0.64345}, \"end\": {\"x\": 0.25409628125536843, \"y\": 1.8896056140469886, \"z\": -1.4147128250369572}, \"color\": \"green\", \"radius\": 0.03, \"dashed\": false});\n",
       "\tviewer_17503613050952861.addCylinder({\"start\": {\"x\": 0.98101, \"y\": 1.3193, \"z\": -0.93749}, \"end\": {\"x\": 1.5579408895756344, \"y\": 1.3107904423379992, \"z\": -0.8337232746544541}, \"color\": \"green\", \"radius\": 0.03, \"dashed\": false});\n",
       "\tviewer_17503613050952861.zoomTo();\n",
       "\tviewer_17503613050952861.setBackgroundColor(\"white\");\n",
       "viewer_17503613050952861.render();\n",
       "});\n",
       "</script>"
      ]
     },
     "metadata": {},
     "output_type": "display_data"
    }
   ],
   "source": [
    "molA = next(pybel.readfile(\"xyz\", os.path.join(data_path, \"s1maw1-1.xyz\")))\n",
    "molB = next(pybel.readfile(\"xyz\", os.path.join(data_path, \"s1maw1-2.xyz\")))\n",
    "X_A, T_A, B_A = otm.tl.process_molecule(molA) \n",
    "X_B, T_B, B_B = otm.tl.process_molecule(molB)\n",
    "assignment = otmol_name_res['assignment'][0]\n",
    "P = otm.tl.permutation_to_matrix(assignment)\n",
    "X_B_aligned, R, _ = otm.tl.kabsch(X_A, X_B, P) \n",
    "interactive_alignment_plot_py3dmol(X_A, X_B_aligned, T_A, T_B, B_A, B_B, assignment, '', '')"
   ]
  },
  {
   "cell_type": "code",
   "execution_count": 29,
   "metadata": {},
   "outputs": [
    {
     "data": {
      "application/3dmoljs_load.v0": "<div id=\"3dmolviewer_1750361305108434\"  style=\"position: relative; width: 800px; height: 600px;\">\n        <p id=\"3dmolwarning_1750361305108434\" style=\"background-color:#ffcccc;color:black\">3Dmol.js failed to load for some reason.  Please check your browser console for error messages.<br></p>\n        </div>\n<script>\n\nvar loadScriptAsync = function(uri){\n  return new Promise((resolve, reject) => {\n    //this is to ignore the existence of requirejs amd\n    var savedexports, savedmodule;\n    if (typeof exports !== 'undefined') savedexports = exports;\n    else exports = {}\n    if (typeof module !== 'undefined') savedmodule = module;\n    else module = {}\n\n    var tag = document.createElement('script');\n    tag.src = uri;\n    tag.async = true;\n    tag.onload = () => {\n        exports = savedexports;\n        module = savedmodule;\n        resolve();\n    };\n  var firstScriptTag = document.getElementsByTagName('script')[0];\n  firstScriptTag.parentNode.insertBefore(tag, firstScriptTag);\n});\n};\n\nif(typeof $3Dmolpromise === 'undefined') {\n$3Dmolpromise = null;\n  $3Dmolpromise = loadScriptAsync('https://cdnjs.cloudflare.com/ajax/libs/3Dmol/2.4.2/3Dmol-min.js');\n}\n\nvar viewer_1750361305108434 = null;\nvar warn = document.getElementById(\"3dmolwarning_1750361305108434\");\nif(warn) {\n    warn.parentNode.removeChild(warn);\n}\n$3Dmolpromise.then(function() {\nviewer_1750361305108434 = $3Dmol.createViewer(document.getElementById(\"3dmolviewer_1750361305108434\"),{backgroundColor:\"white\"});\nviewer_1750361305108434.zoomTo();\n\tviewer_1750361305108434.addModel(\"17\\n\\nS    2.291   -0.979   -1.813\\nO    3.109   -0.273   -2.833\\nO    0.947   -0.344   -1.511\\nO    1.934   -2.480   -2.451\\nO    3.007   -1.355   -0.525\\nH    1.999   -2.357   -3.415\\nH    1.507    0.838    0.954\\nN    1.671   -0.103    1.376\\nH    2.204    0.001    2.241\\nH    2.260   -0.638    0.656\\nC    0.379   -0.811    1.595\\nH    0.585   -1.806    2.008\\nH   -0.103   -0.904    0.616\\nH   -0.249   -0.234    2.285\\nO    1.005    2.025   -0.246\\nH    1.498    2.754   -0.643\\nH    0.981    1.319   -0.937\\n\",\"xyz\");\n\tviewer_1750361305108434.addModel(\"17\\n\\nS    1.883   -1.083   -1.750\\nO    2.692   -1.691   -0.608\\nO    2.507    0.193   -2.264\\nO    1.990   -2.169   -2.999\\nO    0.424   -1.010   -1.452\\nH    2.885   -2.055   -3.366\\nH    1.580    0.739    0.774\\nN    1.688   -0.148    1.326\\nH    2.293    0.036    2.128\\nH    2.175   -0.826    0.662\\nC    0.364   -0.698    1.734\\nH    0.519   -1.628    2.293\\nH   -0.192   -0.903    0.812\\nH   -0.162    0.035    2.358\\nO    1.624    2.005   -0.400\\nH    1.962    1.479   -1.168\\nH    0.792    2.376   -0.724\\n\",\"xyz\");\n\tviewer_1750361305108434.setStyle({\"model\": 0},{\"stick\": {\"radius\": 0.06, \"color\": \"#DC2626\"}, \"sphere\": {\"radius\": 0.15, \"color\": \"#DC2626\"}});\n\tviewer_1750361305108434.setStyle({\"model\": 1},{\"stick\": {\"radius\": 0.06, \"color\": \"#2563EB\"}, \"sphere\": {\"radius\": 0.15, \"color\": \"#2563EB\"}});\n\tviewer_1750361305108434.addCylinder({\"start\": {\"x\": 2.29113, \"y\": -0.97932, \"z\": -1.81325}, \"end\": {\"x\": 1.8830441538105342, \"y\": -1.0834183001129625, \"z\": -1.7497688074106081}, \"color\": \"green\", \"radius\": 0.03, \"dashed\": false});\n\tviewer_1750361305108434.addCylinder({\"start\": {\"x\": 3.10931, \"y\": -0.27345, \"z\": -2.83284}, \"end\": {\"x\": 2.5068258817223734, \"y\": 0.1925182928519822, \"z\": -2.2636493090414183}, \"color\": \"green\", \"radius\": 0.03, \"dashed\": false});\n\tviewer_1750361305108434.addCylinder({\"start\": {\"x\": 0.94736, \"y\": -0.34395, \"z\": -1.51087}, \"end\": {\"x\": 0.42401417299831823, \"y\": -1.009828200229373, \"z\": -1.452203146269695}, \"color\": \"green\", \"radius\": 0.03, \"dashed\": false});\n\tviewer_1750361305108434.addCylinder({\"start\": {\"x\": 1.93384, \"y\": -2.47997, \"z\": -2.45106}, \"end\": {\"x\": 1.9901964029878145, \"y\": -2.1691691550717556, \"z\": -2.9985085492513583}, \"color\": \"green\", \"radius\": 0.03, \"dashed\": false});\n\tviewer_1750361305108434.addCylinder({\"start\": {\"x\": 3.00679, \"y\": -1.35457, \"z\": -0.52466}, \"end\": {\"x\": 2.691859246605067, \"y\": -1.690795786725296, \"z\": -0.6076425300558408}, \"color\": \"green\", \"radius\": 0.03, \"dashed\": false});\n\tviewer_1750361305108434.addCylinder({\"start\": {\"x\": 1.999, \"y\": -2.35744, \"z\": -3.41478}, \"end\": {\"x\": 2.8849447460364583, \"y\": -2.054695987666312, \"z\": -3.3663953706460275}, \"color\": \"green\", \"radius\": 0.03, \"dashed\": false});\n\tviewer_1750361305108434.addCylinder({\"start\": {\"x\": 1.50703, \"y\": 0.8377, \"z\": 0.95413}, \"end\": {\"x\": 1.5801611115846665, \"y\": 0.7387849792916354, \"z\": 0.7742323562101892}, \"color\": \"green\", \"radius\": 0.03, \"dashed\": false});\n\tviewer_1750361305108434.addCylinder({\"start\": {\"x\": 1.67107, \"y\": -0.10265, \"z\": 1.37611}, \"end\": {\"x\": 1.6881354475000865, \"y\": -0.1484774380385132, \"z\": 1.3264392397032212}, \"color\": \"green\", \"radius\": 0.03, \"dashed\": false});\n\tviewer_1750361305108434.addCylinder({\"start\": {\"x\": 2.20386, \"y\": 0.00085, \"z\": 2.24066}, \"end\": {\"x\": 2.2929959213288242, \"y\": 0.03619628979652334, \"z\": 2.1280169020336945}, \"color\": \"green\", \"radius\": 0.03, \"dashed\": false});\n\tviewer_1750361305108434.addCylinder({\"start\": {\"x\": 2.26009, \"y\": -0.63813, \"z\": 0.65635}, \"end\": {\"x\": 2.175416939827871, \"y\": -0.8262553064219608, \"z\": 0.6616461362007866}, \"color\": \"green\", \"radius\": 0.03, \"dashed\": false});\n\tviewer_1750361305108434.addCylinder({\"start\": {\"x\": 0.37905, \"y\": -0.81138, \"z\": 1.59516}, \"end\": {\"x\": 0.36418859741649157, \"y\": -0.697607999972458, \"z\": 1.7337666092769328}, \"color\": \"green\", \"radius\": 0.03, \"dashed\": false});\n\tviewer_1750361305108434.addCylinder({\"start\": {\"x\": 0.58452, \"y\": -1.80639, \"z\": 2.00791}, \"end\": {\"x\": 0.5190988421354534, \"y\": -1.6281310797153572, \"z\": 2.292830595102261}, \"color\": \"green\", \"radius\": 0.03, \"dashed\": false});\n\tviewer_1750361305108434.addCylinder({\"start\": {\"x\": -0.10322, \"y\": -0.90441, \"z\": 0.61568}, \"end\": {\"x\": -0.19243184818903092, \"y\": -0.9027985030319315, \"z\": 0.8120887483145949}, \"color\": \"green\", \"radius\": 0.03, \"dashed\": false});\n\tviewer_1750361305108434.addCylinder({\"start\": {\"x\": -0.24899, \"y\": -0.23409, \"z\": 2.28455}, \"end\": {\"x\": -0.16198788369368977, \"y\": 0.03529850483284003, \"z\": 2.357899064802673}, \"color\": \"green\", \"radius\": 0.03, \"dashed\": false});\n\tviewer_1750361305108434.addCylinder({\"start\": {\"x\": 1.00544, \"y\": 2.02479, \"z\": -0.24615}, \"end\": {\"x\": 1.624275525119206, \"y\": 2.0047259697798836, \"z\": -0.4004960605824497}, \"color\": \"green\", \"radius\": 0.03, \"dashed\": false});\n\tviewer_1750361305108434.addCylinder({\"start\": {\"x\": 1.49769, \"y\": 2.75412, \"z\": -0.64345}, \"end\": {\"x\": 0.7924923923529925, \"y\": 2.3755459045457465, \"z\": -0.723820960065719}, \"color\": \"green\", \"radius\": 0.03, \"dashed\": false});\n\tviewer_1750361305108434.addCylinder({\"start\": {\"x\": 0.98101, \"y\": 1.3193, \"z\": -0.93749}, \"end\": {\"x\": 1.9617503504565665, \"y\": 1.4791178158873086, \"z\": -1.16843491832124}, \"color\": \"green\", \"radius\": 0.03, \"dashed\": false});\n\tviewer_1750361305108434.zoomTo();\n\tviewer_1750361305108434.setBackgroundColor(\"white\");\nviewer_1750361305108434.render();\n});\n</script>",
      "text/html": [
       "<div id=\"3dmolviewer_1750361305108434\"  style=\"position: relative; width: 800px; height: 600px;\">\n",
       "        <p id=\"3dmolwarning_1750361305108434\" style=\"background-color:#ffcccc;color:black\">3Dmol.js failed to load for some reason.  Please check your browser console for error messages.<br></p>\n",
       "        </div>\n",
       "<script>\n",
       "\n",
       "var loadScriptAsync = function(uri){\n",
       "  return new Promise((resolve, reject) => {\n",
       "    //this is to ignore the existence of requirejs amd\n",
       "    var savedexports, savedmodule;\n",
       "    if (typeof exports !== 'undefined') savedexports = exports;\n",
       "    else exports = {}\n",
       "    if (typeof module !== 'undefined') savedmodule = module;\n",
       "    else module = {}\n",
       "\n",
       "    var tag = document.createElement('script');\n",
       "    tag.src = uri;\n",
       "    tag.async = true;\n",
       "    tag.onload = () => {\n",
       "        exports = savedexports;\n",
       "        module = savedmodule;\n",
       "        resolve();\n",
       "    };\n",
       "  var firstScriptTag = document.getElementsByTagName('script')[0];\n",
       "  firstScriptTag.parentNode.insertBefore(tag, firstScriptTag);\n",
       "});\n",
       "};\n",
       "\n",
       "if(typeof $3Dmolpromise === 'undefined') {\n",
       "$3Dmolpromise = null;\n",
       "  $3Dmolpromise = loadScriptAsync('https://cdnjs.cloudflare.com/ajax/libs/3Dmol/2.4.2/3Dmol-min.js');\n",
       "}\n",
       "\n",
       "var viewer_1750361305108434 = null;\n",
       "var warn = document.getElementById(\"3dmolwarning_1750361305108434\");\n",
       "if(warn) {\n",
       "    warn.parentNode.removeChild(warn);\n",
       "}\n",
       "$3Dmolpromise.then(function() {\n",
       "viewer_1750361305108434 = $3Dmol.createViewer(document.getElementById(\"3dmolviewer_1750361305108434\"),{backgroundColor:\"white\"});\n",
       "viewer_1750361305108434.zoomTo();\n",
       "\tviewer_1750361305108434.addModel(\"17\\n\\nS    2.291   -0.979   -1.813\\nO    3.109   -0.273   -2.833\\nO    0.947   -0.344   -1.511\\nO    1.934   -2.480   -2.451\\nO    3.007   -1.355   -0.525\\nH    1.999   -2.357   -3.415\\nH    1.507    0.838    0.954\\nN    1.671   -0.103    1.376\\nH    2.204    0.001    2.241\\nH    2.260   -0.638    0.656\\nC    0.379   -0.811    1.595\\nH    0.585   -1.806    2.008\\nH   -0.103   -0.904    0.616\\nH   -0.249   -0.234    2.285\\nO    1.005    2.025   -0.246\\nH    1.498    2.754   -0.643\\nH    0.981    1.319   -0.937\\n\",\"xyz\");\n",
       "\tviewer_1750361305108434.addModel(\"17\\n\\nS    1.883   -1.083   -1.750\\nO    2.692   -1.691   -0.608\\nO    2.507    0.193   -2.264\\nO    1.990   -2.169   -2.999\\nO    0.424   -1.010   -1.452\\nH    2.885   -2.055   -3.366\\nH    1.580    0.739    0.774\\nN    1.688   -0.148    1.326\\nH    2.293    0.036    2.128\\nH    2.175   -0.826    0.662\\nC    0.364   -0.698    1.734\\nH    0.519   -1.628    2.293\\nH   -0.192   -0.903    0.812\\nH   -0.162    0.035    2.358\\nO    1.624    2.005   -0.400\\nH    1.962    1.479   -1.168\\nH    0.792    2.376   -0.724\\n\",\"xyz\");\n",
       "\tviewer_1750361305108434.setStyle({\"model\": 0},{\"stick\": {\"radius\": 0.06, \"color\": \"#DC2626\"}, \"sphere\": {\"radius\": 0.15, \"color\": \"#DC2626\"}});\n",
       "\tviewer_1750361305108434.setStyle({\"model\": 1},{\"stick\": {\"radius\": 0.06, \"color\": \"#2563EB\"}, \"sphere\": {\"radius\": 0.15, \"color\": \"#2563EB\"}});\n",
       "\tviewer_1750361305108434.addCylinder({\"start\": {\"x\": 2.29113, \"y\": -0.97932, \"z\": -1.81325}, \"end\": {\"x\": 1.8830441538105342, \"y\": -1.0834183001129625, \"z\": -1.7497688074106081}, \"color\": \"green\", \"radius\": 0.03, \"dashed\": false});\n",
       "\tviewer_1750361305108434.addCylinder({\"start\": {\"x\": 3.10931, \"y\": -0.27345, \"z\": -2.83284}, \"end\": {\"x\": 2.5068258817223734, \"y\": 0.1925182928519822, \"z\": -2.2636493090414183}, \"color\": \"green\", \"radius\": 0.03, \"dashed\": false});\n",
       "\tviewer_1750361305108434.addCylinder({\"start\": {\"x\": 0.94736, \"y\": -0.34395, \"z\": -1.51087}, \"end\": {\"x\": 0.42401417299831823, \"y\": -1.009828200229373, \"z\": -1.452203146269695}, \"color\": \"green\", \"radius\": 0.03, \"dashed\": false});\n",
       "\tviewer_1750361305108434.addCylinder({\"start\": {\"x\": 1.93384, \"y\": -2.47997, \"z\": -2.45106}, \"end\": {\"x\": 1.9901964029878145, \"y\": -2.1691691550717556, \"z\": -2.9985085492513583}, \"color\": \"green\", \"radius\": 0.03, \"dashed\": false});\n",
       "\tviewer_1750361305108434.addCylinder({\"start\": {\"x\": 3.00679, \"y\": -1.35457, \"z\": -0.52466}, \"end\": {\"x\": 2.691859246605067, \"y\": -1.690795786725296, \"z\": -0.6076425300558408}, \"color\": \"green\", \"radius\": 0.03, \"dashed\": false});\n",
       "\tviewer_1750361305108434.addCylinder({\"start\": {\"x\": 1.999, \"y\": -2.35744, \"z\": -3.41478}, \"end\": {\"x\": 2.8849447460364583, \"y\": -2.054695987666312, \"z\": -3.3663953706460275}, \"color\": \"green\", \"radius\": 0.03, \"dashed\": false});\n",
       "\tviewer_1750361305108434.addCylinder({\"start\": {\"x\": 1.50703, \"y\": 0.8377, \"z\": 0.95413}, \"end\": {\"x\": 1.5801611115846665, \"y\": 0.7387849792916354, \"z\": 0.7742323562101892}, \"color\": \"green\", \"radius\": 0.03, \"dashed\": false});\n",
       "\tviewer_1750361305108434.addCylinder({\"start\": {\"x\": 1.67107, \"y\": -0.10265, \"z\": 1.37611}, \"end\": {\"x\": 1.6881354475000865, \"y\": -0.1484774380385132, \"z\": 1.3264392397032212}, \"color\": \"green\", \"radius\": 0.03, \"dashed\": false});\n",
       "\tviewer_1750361305108434.addCylinder({\"start\": {\"x\": 2.20386, \"y\": 0.00085, \"z\": 2.24066}, \"end\": {\"x\": 2.2929959213288242, \"y\": 0.03619628979652334, \"z\": 2.1280169020336945}, \"color\": \"green\", \"radius\": 0.03, \"dashed\": false});\n",
       "\tviewer_1750361305108434.addCylinder({\"start\": {\"x\": 2.26009, \"y\": -0.63813, \"z\": 0.65635}, \"end\": {\"x\": 2.175416939827871, \"y\": -0.8262553064219608, \"z\": 0.6616461362007866}, \"color\": \"green\", \"radius\": 0.03, \"dashed\": false});\n",
       "\tviewer_1750361305108434.addCylinder({\"start\": {\"x\": 0.37905, \"y\": -0.81138, \"z\": 1.59516}, \"end\": {\"x\": 0.36418859741649157, \"y\": -0.697607999972458, \"z\": 1.7337666092769328}, \"color\": \"green\", \"radius\": 0.03, \"dashed\": false});\n",
       "\tviewer_1750361305108434.addCylinder({\"start\": {\"x\": 0.58452, \"y\": -1.80639, \"z\": 2.00791}, \"end\": {\"x\": 0.5190988421354534, \"y\": -1.6281310797153572, \"z\": 2.292830595102261}, \"color\": \"green\", \"radius\": 0.03, \"dashed\": false});\n",
       "\tviewer_1750361305108434.addCylinder({\"start\": {\"x\": -0.10322, \"y\": -0.90441, \"z\": 0.61568}, \"end\": {\"x\": -0.19243184818903092, \"y\": -0.9027985030319315, \"z\": 0.8120887483145949}, \"color\": \"green\", \"radius\": 0.03, \"dashed\": false});\n",
       "\tviewer_1750361305108434.addCylinder({\"start\": {\"x\": -0.24899, \"y\": -0.23409, \"z\": 2.28455}, \"end\": {\"x\": -0.16198788369368977, \"y\": 0.03529850483284003, \"z\": 2.357899064802673}, \"color\": \"green\", \"radius\": 0.03, \"dashed\": false});\n",
       "\tviewer_1750361305108434.addCylinder({\"start\": {\"x\": 1.00544, \"y\": 2.02479, \"z\": -0.24615}, \"end\": {\"x\": 1.624275525119206, \"y\": 2.0047259697798836, \"z\": -0.4004960605824497}, \"color\": \"green\", \"radius\": 0.03, \"dashed\": false});\n",
       "\tviewer_1750361305108434.addCylinder({\"start\": {\"x\": 1.49769, \"y\": 2.75412, \"z\": -0.64345}, \"end\": {\"x\": 0.7924923923529925, \"y\": 2.3755459045457465, \"z\": -0.723820960065719}, \"color\": \"green\", \"radius\": 0.03, \"dashed\": false});\n",
       "\tviewer_1750361305108434.addCylinder({\"start\": {\"x\": 0.98101, \"y\": 1.3193, \"z\": -0.93749}, \"end\": {\"x\": 1.9617503504565665, \"y\": 1.4791178158873086, \"z\": -1.16843491832124}, \"color\": \"green\", \"radius\": 0.03, \"dashed\": false});\n",
       "\tviewer_1750361305108434.zoomTo();\n",
       "\tviewer_1750361305108434.setBackgroundColor(\"white\");\n",
       "viewer_1750361305108434.render();\n",
       "});\n",
       "</script>"
      ]
     },
     "metadata": {},
     "output_type": "display_data"
    }
   ],
   "source": [
    "# %%\n",
    "# Read the molecules\n",
    "molA = next(pybel.readfile(\"xyz\", os.path.join(data_path, \"s1maw1-1.xyz\")))\n",
    "molB = next(pybel.readfile(\"xyz\", os.path.join(data_path, \"s1maw1-3.xyz\")))\n",
    "X_A, T_A, B_A = otm.tl.process_molecule(molA) \n",
    "X_B, T_B, B_B = otm.tl.process_molecule(molB)\n",
    "assignment = otmol_name_res['assignment'][1]\n",
    "P = otm.tl.permutation_to_matrix(assignment)\n",
    "X_B_aligned, R, _ = otm.tl.kabsch(X_A, X_B, P) \n",
    "interactive_alignment_plot_py3dmol(X_A, X_B_aligned, T_A, T_B, B_A, B_B, assignment, '', '')"
   ]
  },
  {
   "cell_type": "code",
   "execution_count": 30,
   "metadata": {},
   "outputs": [
    {
     "data": {
      "application/3dmoljs_load.v0": "<div id=\"3dmolviewer_1750361305118549\"  style=\"position: relative; width: 800px; height: 600px;\">\n        <p id=\"3dmolwarning_1750361305118549\" style=\"background-color:#ffcccc;color:black\">3Dmol.js failed to load for some reason.  Please check your browser console for error messages.<br></p>\n        </div>\n<script>\n\nvar loadScriptAsync = function(uri){\n  return new Promise((resolve, reject) => {\n    //this is to ignore the existence of requirejs amd\n    var savedexports, savedmodule;\n    if (typeof exports !== 'undefined') savedexports = exports;\n    else exports = {}\n    if (typeof module !== 'undefined') savedmodule = module;\n    else module = {}\n\n    var tag = document.createElement('script');\n    tag.src = uri;\n    tag.async = true;\n    tag.onload = () => {\n        exports = savedexports;\n        module = savedmodule;\n        resolve();\n    };\n  var firstScriptTag = document.getElementsByTagName('script')[0];\n  firstScriptTag.parentNode.insertBefore(tag, firstScriptTag);\n});\n};\n\nif(typeof $3Dmolpromise === 'undefined') {\n$3Dmolpromise = null;\n  $3Dmolpromise = loadScriptAsync('https://cdnjs.cloudflare.com/ajax/libs/3Dmol/2.4.2/3Dmol-min.js');\n}\n\nvar viewer_1750361305118549 = null;\nvar warn = document.getElementById(\"3dmolwarning_1750361305118549\");\nif(warn) {\n    warn.parentNode.removeChild(warn);\n}\n$3Dmolpromise.then(function() {\nviewer_1750361305118549 = $3Dmol.createViewer(document.getElementById(\"3dmolviewer_1750361305118549\"),{backgroundColor:\"white\"});\nviewer_1750361305118549.zoomTo();\n\tviewer_1750361305118549.addModel(\"17\\n\\nS    2.291   -0.979   -1.813\\nO    3.109   -0.273   -2.833\\nO    0.947   -0.344   -1.511\\nO    1.934   -2.480   -2.451\\nO    3.007   -1.355   -0.525\\nH    1.999   -2.357   -3.415\\nH    1.507    0.838    0.954\\nN    1.671   -0.103    1.376\\nH    2.204    0.001    2.241\\nH    2.260   -0.638    0.656\\nC    0.379   -0.811    1.595\\nH    0.585   -1.806    2.008\\nH   -0.103   -0.904    0.616\\nH   -0.249   -0.234    2.285\\nO    1.005    2.025   -0.246\\nH    1.498    2.754   -0.643\\nH    0.981    1.319   -0.937\\n\",\"xyz\");\n\tviewer_1750361305118549.addModel(\"17\\n\\nS    1.524   -0.836   -2.227\\nO    1.438    0.665   -2.273\\nO    1.867   -1.551   -3.476\\nO    2.863   -1.070   -1.181\\nO    0.373   -1.440   -1.434\\nH    3.350   -1.808   -1.589\\nH    1.077    0.722    0.644\\nN    0.450   -0.096    0.836\\nH    0.293   -0.589   -0.105\\nH   -0.442    0.243    1.200\\nC    1.112   -1.052    1.764\\nH    0.456   -1.915    1.924\\nH    1.328   -0.556    2.719\\nH    2.040   -1.378    1.281\\nO    2.156    1.901    0.018\\nH    2.029    1.569   -0.905\\nH    3.110    1.842    0.160\\n\",\"xyz\");\n\tviewer_1750361305118549.setStyle({\"model\": 0},{\"stick\": {\"radius\": 0.06, \"color\": \"#DC2626\"}, \"sphere\": {\"radius\": 0.15, \"color\": \"#DC2626\"}});\n\tviewer_1750361305118549.setStyle({\"model\": 1},{\"stick\": {\"radius\": 0.06, \"color\": \"#2563EB\"}, \"sphere\": {\"radius\": 0.15, \"color\": \"#2563EB\"}});\n\tviewer_1750361305118549.addCylinder({\"start\": {\"x\": 2.29113, \"y\": -0.97932, \"z\": -1.81325}, \"end\": {\"x\": 1.524077158337719, \"y\": -0.835500223932518, \"z\": -2.2265761356278695}, \"color\": \"green\", \"radius\": 0.03, \"dashed\": false});\n\tviewer_1750361305118549.addCylinder({\"start\": {\"x\": 3.10931, \"y\": -0.27345, \"z\": -2.83284}, \"end\": {\"x\": 1.8672382191665053, \"y\": -1.5512663686251436, \"z\": -3.475589147666862}, \"color\": \"green\", \"radius\": 0.03, \"dashed\": false});\n\tviewer_1750361305118549.addCylinder({\"start\": {\"x\": 0.94736, \"y\": -0.34395, \"z\": -1.51087}, \"end\": {\"x\": 0.3725854142522582, \"y\": -1.4401008109839968, \"z\": -1.434147882762014}, \"color\": \"green\", \"radius\": 0.03, \"dashed\": false});\n\tviewer_1750361305118549.addCylinder({\"start\": {\"x\": 1.93384, \"y\": -2.47997, \"z\": -2.45106}, \"end\": {\"x\": 2.8634840044544476, \"y\": -1.070156816225634, \"z\": -1.1811968743217058}, \"color\": \"green\", \"radius\": 0.03, \"dashed\": false});\n\tviewer_1750361305118549.addCylinder({\"start\": {\"x\": 3.00679, \"y\": -1.35457, \"z\": -0.52466}, \"end\": {\"x\": 1.4375338391726111, \"y\": 0.6645931482392474, \"z\": -2.2730059964313343}, \"color\": \"green\", \"radius\": 0.03, \"dashed\": false});\n\tviewer_1750361305118549.addCylinder({\"start\": {\"x\": 1.999, \"y\": -2.35744, \"z\": -3.41478}, \"end\": {\"x\": 3.350461180163559, \"y\": -1.8078236806913013, \"z\": -1.5890475112070352}, \"color\": \"green\", \"radius\": 0.03, \"dashed\": false});\n\tviewer_1750361305118549.addCylinder({\"start\": {\"x\": 1.50703, \"y\": 0.8377, \"z\": 0.95413}, \"end\": {\"x\": 1.0774770330800514, \"y\": 0.7223522846263032, \"z\": 0.6438985219151692}, \"color\": \"green\", \"radius\": 0.03, \"dashed\": false});\n\tviewer_1750361305118549.addCylinder({\"start\": {\"x\": 1.67107, \"y\": -0.10265, \"z\": 1.37611}, \"end\": {\"x\": 0.44965695754818524, \"y\": -0.0964466001146781, \"z\": 0.8356195087843383}, \"color\": \"green\", \"radius\": 0.03, \"dashed\": false});\n\tviewer_1750361305118549.addCylinder({\"start\": {\"x\": 2.20386, \"y\": 0.00085, \"z\": 2.24066}, \"end\": {\"x\": -0.4416345405766724, \"y\": 0.2430087223985673, \"z\": 1.1995262263477489}, \"color\": \"green\", \"radius\": 0.03, \"dashed\": false});\n\tviewer_1750361305118549.addCylinder({\"start\": {\"x\": 2.26009, \"y\": -0.63813, \"z\": 0.65635}, \"end\": {\"x\": 0.2926934971809385, \"y\": -0.589170635007543, \"z\": -0.10478751051551494}, \"color\": \"green\", \"radius\": 0.03, \"dashed\": false});\n\tviewer_1750361305118549.addCylinder({\"start\": {\"x\": 0.37905, \"y\": -0.81138, \"z\": 1.59516}, \"end\": {\"x\": 1.1124941243562034, \"y\": -1.0515850547392396, \"z\": 1.7644497418169014}, \"color\": \"green\", \"radius\": 0.03, \"dashed\": false});\n\tviewer_1750361305118549.addCylinder({\"start\": {\"x\": 0.58452, \"y\": -1.80639, \"z\": 2.00791}, \"end\": {\"x\": 0.4556082218564468, \"y\": -1.9149058420671625, \"z\": 1.923886838079275}, \"color\": \"green\", \"radius\": 0.03, \"dashed\": false});\n\tviewer_1750361305118549.addCylinder({\"start\": {\"x\": -0.10322, \"y\": -0.90441, \"z\": 0.61568}, \"end\": {\"x\": 2.040407967553018, \"y\": -1.3777079696237362, \"z\": 1.2806730077846036}, \"color\": \"green\", \"radius\": 0.03, \"dashed\": false});\n\tviewer_1750361305118549.addCylinder({\"start\": {\"x\": -0.24899, \"y\": -0.23409, \"z\": 2.28455}, \"end\": {\"x\": 1.3281049718224647, \"y\": -0.556344862655852, \"z\": 2.7193088695944443}, \"color\": \"green\", \"radius\": 0.03, \"dashed\": false});\n\tviewer_1750361305118549.addCylinder({\"start\": {\"x\": 1.00544, \"y\": 2.02479, \"z\": -0.24615}, \"end\": {\"x\": 2.1562737062891877, \"y\": 1.9012187435464092, \"z\": 0.017871964885779246}, \"color\": \"green\", \"radius\": 0.03, \"dashed\": false});\n\tviewer_1750361305118549.addCylinder({\"start\": {\"x\": 1.49769, \"y\": 2.75412, \"z\": -0.64345}, \"end\": {\"x\": 3.109984591041086, \"y\": 1.8416760712581217, \"z\": 0.16009049912980888}, \"color\": \"green\", \"radius\": 0.03, \"dashed\": false});\n\tviewer_1750361305118549.addCylinder({\"start\": {\"x\": 0.98101, \"y\": 1.3193, \"z\": -0.93749}, \"end\": {\"x\": 2.0285336543019925, \"y\": 1.5691698945981516, \"z\": -0.9049741198057288}, \"color\": \"green\", \"radius\": 0.03, \"dashed\": false});\n\tviewer_1750361305118549.zoomTo();\n\tviewer_1750361305118549.setBackgroundColor(\"white\");\nviewer_1750361305118549.render();\n});\n</script>",
      "text/html": [
       "<div id=\"3dmolviewer_1750361305118549\"  style=\"position: relative; width: 800px; height: 600px;\">\n",
       "        <p id=\"3dmolwarning_1750361305118549\" style=\"background-color:#ffcccc;color:black\">3Dmol.js failed to load for some reason.  Please check your browser console for error messages.<br></p>\n",
       "        </div>\n",
       "<script>\n",
       "\n",
       "var loadScriptAsync = function(uri){\n",
       "  return new Promise((resolve, reject) => {\n",
       "    //this is to ignore the existence of requirejs amd\n",
       "    var savedexports, savedmodule;\n",
       "    if (typeof exports !== 'undefined') savedexports = exports;\n",
       "    else exports = {}\n",
       "    if (typeof module !== 'undefined') savedmodule = module;\n",
       "    else module = {}\n",
       "\n",
       "    var tag = document.createElement('script');\n",
       "    tag.src = uri;\n",
       "    tag.async = true;\n",
       "    tag.onload = () => {\n",
       "        exports = savedexports;\n",
       "        module = savedmodule;\n",
       "        resolve();\n",
       "    };\n",
       "  var firstScriptTag = document.getElementsByTagName('script')[0];\n",
       "  firstScriptTag.parentNode.insertBefore(tag, firstScriptTag);\n",
       "});\n",
       "};\n",
       "\n",
       "if(typeof $3Dmolpromise === 'undefined') {\n",
       "$3Dmolpromise = null;\n",
       "  $3Dmolpromise = loadScriptAsync('https://cdnjs.cloudflare.com/ajax/libs/3Dmol/2.4.2/3Dmol-min.js');\n",
       "}\n",
       "\n",
       "var viewer_1750361305118549 = null;\n",
       "var warn = document.getElementById(\"3dmolwarning_1750361305118549\");\n",
       "if(warn) {\n",
       "    warn.parentNode.removeChild(warn);\n",
       "}\n",
       "$3Dmolpromise.then(function() {\n",
       "viewer_1750361305118549 = $3Dmol.createViewer(document.getElementById(\"3dmolviewer_1750361305118549\"),{backgroundColor:\"white\"});\n",
       "viewer_1750361305118549.zoomTo();\n",
       "\tviewer_1750361305118549.addModel(\"17\\n\\nS    2.291   -0.979   -1.813\\nO    3.109   -0.273   -2.833\\nO    0.947   -0.344   -1.511\\nO    1.934   -2.480   -2.451\\nO    3.007   -1.355   -0.525\\nH    1.999   -2.357   -3.415\\nH    1.507    0.838    0.954\\nN    1.671   -0.103    1.376\\nH    2.204    0.001    2.241\\nH    2.260   -0.638    0.656\\nC    0.379   -0.811    1.595\\nH    0.585   -1.806    2.008\\nH   -0.103   -0.904    0.616\\nH   -0.249   -0.234    2.285\\nO    1.005    2.025   -0.246\\nH    1.498    2.754   -0.643\\nH    0.981    1.319   -0.937\\n\",\"xyz\");\n",
       "\tviewer_1750361305118549.addModel(\"17\\n\\nS    1.524   -0.836   -2.227\\nO    1.438    0.665   -2.273\\nO    1.867   -1.551   -3.476\\nO    2.863   -1.070   -1.181\\nO    0.373   -1.440   -1.434\\nH    3.350   -1.808   -1.589\\nH    1.077    0.722    0.644\\nN    0.450   -0.096    0.836\\nH    0.293   -0.589   -0.105\\nH   -0.442    0.243    1.200\\nC    1.112   -1.052    1.764\\nH    0.456   -1.915    1.924\\nH    1.328   -0.556    2.719\\nH    2.040   -1.378    1.281\\nO    2.156    1.901    0.018\\nH    2.029    1.569   -0.905\\nH    3.110    1.842    0.160\\n\",\"xyz\");\n",
       "\tviewer_1750361305118549.setStyle({\"model\": 0},{\"stick\": {\"radius\": 0.06, \"color\": \"#DC2626\"}, \"sphere\": {\"radius\": 0.15, \"color\": \"#DC2626\"}});\n",
       "\tviewer_1750361305118549.setStyle({\"model\": 1},{\"stick\": {\"radius\": 0.06, \"color\": \"#2563EB\"}, \"sphere\": {\"radius\": 0.15, \"color\": \"#2563EB\"}});\n",
       "\tviewer_1750361305118549.addCylinder({\"start\": {\"x\": 2.29113, \"y\": -0.97932, \"z\": -1.81325}, \"end\": {\"x\": 1.524077158337719, \"y\": -0.835500223932518, \"z\": -2.2265761356278695}, \"color\": \"green\", \"radius\": 0.03, \"dashed\": false});\n",
       "\tviewer_1750361305118549.addCylinder({\"start\": {\"x\": 3.10931, \"y\": -0.27345, \"z\": -2.83284}, \"end\": {\"x\": 1.8672382191665053, \"y\": -1.5512663686251436, \"z\": -3.475589147666862}, \"color\": \"green\", \"radius\": 0.03, \"dashed\": false});\n",
       "\tviewer_1750361305118549.addCylinder({\"start\": {\"x\": 0.94736, \"y\": -0.34395, \"z\": -1.51087}, \"end\": {\"x\": 0.3725854142522582, \"y\": -1.4401008109839968, \"z\": -1.434147882762014}, \"color\": \"green\", \"radius\": 0.03, \"dashed\": false});\n",
       "\tviewer_1750361305118549.addCylinder({\"start\": {\"x\": 1.93384, \"y\": -2.47997, \"z\": -2.45106}, \"end\": {\"x\": 2.8634840044544476, \"y\": -1.070156816225634, \"z\": -1.1811968743217058}, \"color\": \"green\", \"radius\": 0.03, \"dashed\": false});\n",
       "\tviewer_1750361305118549.addCylinder({\"start\": {\"x\": 3.00679, \"y\": -1.35457, \"z\": -0.52466}, \"end\": {\"x\": 1.4375338391726111, \"y\": 0.6645931482392474, \"z\": -2.2730059964313343}, \"color\": \"green\", \"radius\": 0.03, \"dashed\": false});\n",
       "\tviewer_1750361305118549.addCylinder({\"start\": {\"x\": 1.999, \"y\": -2.35744, \"z\": -3.41478}, \"end\": {\"x\": 3.350461180163559, \"y\": -1.8078236806913013, \"z\": -1.5890475112070352}, \"color\": \"green\", \"radius\": 0.03, \"dashed\": false});\n",
       "\tviewer_1750361305118549.addCylinder({\"start\": {\"x\": 1.50703, \"y\": 0.8377, \"z\": 0.95413}, \"end\": {\"x\": 1.0774770330800514, \"y\": 0.7223522846263032, \"z\": 0.6438985219151692}, \"color\": \"green\", \"radius\": 0.03, \"dashed\": false});\n",
       "\tviewer_1750361305118549.addCylinder({\"start\": {\"x\": 1.67107, \"y\": -0.10265, \"z\": 1.37611}, \"end\": {\"x\": 0.44965695754818524, \"y\": -0.0964466001146781, \"z\": 0.8356195087843383}, \"color\": \"green\", \"radius\": 0.03, \"dashed\": false});\n",
       "\tviewer_1750361305118549.addCylinder({\"start\": {\"x\": 2.20386, \"y\": 0.00085, \"z\": 2.24066}, \"end\": {\"x\": -0.4416345405766724, \"y\": 0.2430087223985673, \"z\": 1.1995262263477489}, \"color\": \"green\", \"radius\": 0.03, \"dashed\": false});\n",
       "\tviewer_1750361305118549.addCylinder({\"start\": {\"x\": 2.26009, \"y\": -0.63813, \"z\": 0.65635}, \"end\": {\"x\": 0.2926934971809385, \"y\": -0.589170635007543, \"z\": -0.10478751051551494}, \"color\": \"green\", \"radius\": 0.03, \"dashed\": false});\n",
       "\tviewer_1750361305118549.addCylinder({\"start\": {\"x\": 0.37905, \"y\": -0.81138, \"z\": 1.59516}, \"end\": {\"x\": 1.1124941243562034, \"y\": -1.0515850547392396, \"z\": 1.7644497418169014}, \"color\": \"green\", \"radius\": 0.03, \"dashed\": false});\n",
       "\tviewer_1750361305118549.addCylinder({\"start\": {\"x\": 0.58452, \"y\": -1.80639, \"z\": 2.00791}, \"end\": {\"x\": 0.4556082218564468, \"y\": -1.9149058420671625, \"z\": 1.923886838079275}, \"color\": \"green\", \"radius\": 0.03, \"dashed\": false});\n",
       "\tviewer_1750361305118549.addCylinder({\"start\": {\"x\": -0.10322, \"y\": -0.90441, \"z\": 0.61568}, \"end\": {\"x\": 2.040407967553018, \"y\": -1.3777079696237362, \"z\": 1.2806730077846036}, \"color\": \"green\", \"radius\": 0.03, \"dashed\": false});\n",
       "\tviewer_1750361305118549.addCylinder({\"start\": {\"x\": -0.24899, \"y\": -0.23409, \"z\": 2.28455}, \"end\": {\"x\": 1.3281049718224647, \"y\": -0.556344862655852, \"z\": 2.7193088695944443}, \"color\": \"green\", \"radius\": 0.03, \"dashed\": false});\n",
       "\tviewer_1750361305118549.addCylinder({\"start\": {\"x\": 1.00544, \"y\": 2.02479, \"z\": -0.24615}, \"end\": {\"x\": 2.1562737062891877, \"y\": 1.9012187435464092, \"z\": 0.017871964885779246}, \"color\": \"green\", \"radius\": 0.03, \"dashed\": false});\n",
       "\tviewer_1750361305118549.addCylinder({\"start\": {\"x\": 1.49769, \"y\": 2.75412, \"z\": -0.64345}, \"end\": {\"x\": 3.109984591041086, \"y\": 1.8416760712581217, \"z\": 0.16009049912980888}, \"color\": \"green\", \"radius\": 0.03, \"dashed\": false});\n",
       "\tviewer_1750361305118549.addCylinder({\"start\": {\"x\": 0.98101, \"y\": 1.3193, \"z\": -0.93749}, \"end\": {\"x\": 2.0285336543019925, \"y\": 1.5691698945981516, \"z\": -0.9049741198057288}, \"color\": \"green\", \"radius\": 0.03, \"dashed\": false});\n",
       "\tviewer_1750361305118549.zoomTo();\n",
       "\tviewer_1750361305118549.setBackgroundColor(\"white\");\n",
       "viewer_1750361305118549.render();\n",
       "});\n",
       "</script>"
      ]
     },
     "metadata": {},
     "output_type": "display_data"
    }
   ],
   "source": [
    "# %%\n",
    "# Read the molecules\n",
    "molA = next(pybel.readfile(\"xyz\", os.path.join(data_path, \"s1maw1-1.xyz\")))\n",
    "molB = next(pybel.readfile(\"xyz\", os.path.join(data_path, \"s1maw1-20.xyz\")))\n",
    "X_A, T_A, B_A = otm.tl.process_molecule(molA) \n",
    "X_B, T_B, B_B = otm.tl.process_molecule(molB)\n",
    "assignment = otmol_name_res['assignment'][18]\n",
    "P = otm.tl.permutation_to_matrix(assignment)\n",
    "X_B_aligned, R, _ = otm.tl.kabsch(X_A, X_B, P) \n",
    "interactive_alignment_plot_py3dmol(X_A, X_B_aligned, T_A, T_B, B_A, B_B, assignment, '', '')"
   ]
  },
  {
   "cell_type": "markdown",
   "metadata": {},
   "source": [
    "ArbAlign alignment"
   ]
  },
  {
   "cell_type": "code",
   "execution_count": 11,
   "metadata": {},
   "outputs": [
    {
     "name": "stdout",
     "output_type": "stream",
     "text": [
      "1.0991218764992043\n"
     ]
    },
    {
     "data": {
      "application/3dmoljs_load.v0": "<div id=\"3dmolviewer_1751495637015073\"  style=\"position: relative; width: 800px; height: 600px;\">\n        <p id=\"3dmolwarning_1751495637015073\" style=\"background-color:#ffcccc;color:black\">3Dmol.js failed to load for some reason.  Please check your browser console for error messages.<br></p>\n        </div>\n<script>\n\nvar loadScriptAsync = function(uri){\n  return new Promise((resolve, reject) => {\n    //this is to ignore the existence of requirejs amd\n    var savedexports, savedmodule;\n    if (typeof exports !== 'undefined') savedexports = exports;\n    else exports = {}\n    if (typeof module !== 'undefined') savedmodule = module;\n    else module = {}\n\n    var tag = document.createElement('script');\n    tag.src = uri;\n    tag.async = true;\n    tag.onload = () => {\n        exports = savedexports;\n        module = savedmodule;\n        resolve();\n    };\n  var firstScriptTag = document.getElementsByTagName('script')[0];\n  firstScriptTag.parentNode.insertBefore(tag, firstScriptTag);\n});\n};\n\nif(typeof $3Dmolpromise === 'undefined') {\n$3Dmolpromise = null;\n  $3Dmolpromise = loadScriptAsync('https://cdnjs.cloudflare.com/ajax/libs/3Dmol/2.4.2/3Dmol-min.js');\n}\n\nvar viewer_1751495637015073 = null;\nvar warn = document.getElementById(\"3dmolwarning_1751495637015073\");\nif(warn) {\n    warn.parentNode.removeChild(warn);\n}\n$3Dmolpromise.then(function() {\nviewer_1751495637015073 = $3Dmol.createViewer(document.getElementById(\"3dmolviewer_1751495637015073\"),{backgroundColor:\"white\"});\nviewer_1751495637015073.zoomTo();\n\tviewer_1751495637015073.addModel(\"17\\nA\\nS    2.291   -0.979   -1.813\\nO    3.109   -0.273   -2.833\\nO    0.947   -0.344   -1.511\\nO    1.934   -2.480   -2.451\\nO    3.007   -1.355   -0.525\\nH    1.999   -2.357   -3.415\\nH    1.507    0.838    0.954\\nN    1.671   -0.103    1.376\\nH    2.204    0.001    2.241\\nH    2.260   -0.638    0.656\\nC    0.379   -0.811    1.595\\nH    0.585   -1.806    2.008\\nH   -0.103   -0.904    0.616\\nH   -0.249   -0.234    2.285\\nO    1.005    2.025   -0.246\\nH    1.498    2.754   -0.643\\nH    0.981    1.319   -0.937\\n\",\"xyz\");\n\tviewer_1751495637015073.addModel(\"17\\nB\\nS    1.476   -1.452   -1.820\\nO    2.441   -0.313   -2.618\\nO    0.373   -0.565   -1.296\\nO    1.125   -2.478   -2.825\\nO    2.356   -1.958   -0.681\\nH    2.911   -0.821   -3.303\\nH    1.838    0.703    0.721\\nN    1.940   -0.197    1.244\\nH    0.370    0.220    2.618\\nH    2.706   -0.117    1.913\\nC    0.655   -0.561    1.904\\nH    0.778   -1.523    2.417\\nH    2.185   -0.935    0.502\\nH   -0.096   -0.654    1.111\\nO    1.256    1.862   -0.461\\nH    1.838    2.319   -1.083\\nH    0.874    1.121   -0.987\\n\",\"xyz\");\n\tviewer_1751495637015073.setStyle({\"model\": 0},{\"stick\": {\"radius\": 0.06, \"color\": \"#DC2626\"}, \"sphere\": {\"radius\": 0.15, \"color\": \"#DC2626\"}});\n\tviewer_1751495637015073.setStyle({\"model\": 1},{\"stick\": {\"radius\": 0.06, \"color\": \"#2563EB\"}, \"sphere\": {\"radius\": 0.15, \"color\": \"#2563EB\"}});\n\tviewer_1751495637015073.addCylinder({\"start\": {\"x\": 2.29113, \"y\": -0.97932, \"z\": -1.81325}, \"end\": {\"x\": 1.4761118526247943, \"y\": -1.4518783828205442, \"z\": -1.8198134013347331}, \"color\": \"green\", \"radius\": 0.03, \"dashed\": false});\n\tviewer_1751495637015073.addCylinder({\"start\": {\"x\": 3.10931, \"y\": -0.27345, \"z\": -2.83284}, \"end\": {\"x\": 2.440869053108674, \"y\": -0.3129346033199689, \"z\": -2.6181357662046216}, \"color\": \"green\", \"radius\": 0.03, \"dashed\": false});\n\tviewer_1751495637015073.addCylinder({\"start\": {\"x\": 0.94736, \"y\": -0.34395, \"z\": -1.51087}, \"end\": {\"x\": 0.3730387380950717, \"y\": -0.5653334068426881, \"z\": -1.2955243598985036}, \"color\": \"green\", \"radius\": 0.03, \"dashed\": false});\n\tviewer_1751495637015073.addCylinder({\"start\": {\"x\": 1.93384, \"y\": -2.47997, \"z\": -2.45106}, \"end\": {\"x\": 1.1246058190241313, \"y\": -2.478484364561793, \"z\": -2.8252201786619078}, \"color\": \"green\", \"radius\": 0.03, \"dashed\": false});\n\tviewer_1751495637015073.addCylinder({\"start\": {\"x\": 3.00679, \"y\": -1.35457, \"z\": -0.52466}, \"end\": {\"x\": 2.356117566883259, \"y\": -1.9578523916091772, \"z\": -0.6806810491460997}, \"color\": \"green\", \"radius\": 0.03, \"dashed\": false});\n\tviewer_1751495637015073.addCylinder({\"start\": {\"x\": 1.999, \"y\": -2.35744, \"z\": -3.41478}, \"end\": {\"x\": 2.9111424136398387, \"y\": -0.8210347239877742, \"z\": -3.302576395296793}, \"color\": \"green\", \"radius\": 0.03, \"dashed\": false});\n\tviewer_1751495637015073.addCylinder({\"start\": {\"x\": 1.50703, \"y\": 0.8377, \"z\": 0.95413}, \"end\": {\"x\": 1.8375123576839896, \"y\": 0.7030207859508604, \"z\": 0.7206310881141631}, \"color\": \"green\", \"radius\": 0.03, \"dashed\": false});\n\tviewer_1751495637015073.addCylinder({\"start\": {\"x\": 1.67107, \"y\": -0.10265, \"z\": 1.37611}, \"end\": {\"x\": 1.9399833499273877, \"y\": -0.19651424875806112, \"z\": 1.243583510787461}, \"color\": \"green\", \"radius\": 0.03, \"dashed\": false});\n\tviewer_1751495637015073.addCylinder({\"start\": {\"x\": 2.20386, \"y\": 0.00085, \"z\": 2.24066}, \"end\": {\"x\": 0.36959884838911083, \"y\": 0.21987431387549727, \"z\": 2.6183855525143196}, \"color\": \"green\", \"radius\": 0.03, \"dashed\": false});\n\tviewer_1751495637015073.addCylinder({\"start\": {\"x\": 2.26009, \"y\": -0.63813, \"z\": 0.65635}, \"end\": {\"x\": 2.706325261378134, \"y\": -0.11685720999058702, \"z\": 1.9130880803975672}, \"color\": \"green\", \"radius\": 0.03, \"dashed\": false});\n\tviewer_1751495637015073.addCylinder({\"start\": {\"x\": 0.37905, \"y\": -0.81138, \"z\": 1.59516}, \"end\": {\"x\": 0.6550139026884572, \"y\": -0.5614910979622032, \"z\": 1.903525634164576}, \"color\": \"green\", \"radius\": 0.03, \"dashed\": false});\n\tviewer_1751495637015073.addCylinder({\"start\": {\"x\": 0.58452, \"y\": -1.80639, \"z\": 2.00791}, \"end\": {\"x\": 0.7778233311123424, \"y\": -1.5226840480190689, \"z\": 2.416918324170168}, \"color\": \"green\", \"radius\": 0.03, \"dashed\": false});\n\tviewer_1751495637015073.addCylinder({\"start\": {\"x\": -0.10322, \"y\": -0.90441, \"z\": 0.61568}, \"end\": {\"x\": 2.18476118685211, \"y\": -0.9345066919162579, \"z\": 0.50236440519732}, \"color\": \"green\", \"radius\": 0.03, \"dashed\": false});\n\tviewer_1751495637015073.addCylinder({\"start\": {\"x\": -0.24899, \"y\": -0.23409, \"z\": 2.28455}, \"end\": {\"x\": -0.0957194282456999, \"y\": -0.6539882225241163, \"z\": 1.1107221293966654}, \"color\": \"green\", \"radius\": 0.03, \"dashed\": false});\n\tviewer_1751495637015073.addCylinder({\"start\": {\"x\": 1.00544, \"y\": 2.02479, \"z\": -0.24615}, \"end\": {\"x\": 1.2557988656212145, \"y\": 1.862454216597531, \"z\": -0.4609838424156691}, \"color\": \"green\", \"radius\": 0.03, \"dashed\": false});\n\tviewer_1751495637015073.addCylinder({\"start\": {\"x\": 1.49769, \"y\": 2.75412, \"z\": -0.64345}, \"end\": {\"x\": 1.837790231037566, \"y\": 2.3185533551386217, \"z\": -1.0829982059981238}, \"color\": \"green\", \"radius\": 0.03, \"dashed\": false});\n\tviewer_1751495637015073.addCylinder({\"start\": {\"x\": 0.98101, \"y\": 1.3193, \"z\": -0.93749}, \"end\": {\"x\": 0.8742066501796186, \"y\": 1.1206667207497296, \"z\": -0.9872855257857893}, \"color\": \"green\", \"radius\": 0.03, \"dashed\": false});\n\tviewer_1751495637015073.zoomTo();\n\tviewer_1751495637015073.setBackgroundColor(\"white\");\nviewer_1751495637015073.render();\n});\n</script>",
      "text/html": [
       "<div id=\"3dmolviewer_1751495637015073\"  style=\"position: relative; width: 800px; height: 600px;\">\n",
       "        <p id=\"3dmolwarning_1751495637015073\" style=\"background-color:#ffcccc;color:black\">3Dmol.js failed to load for some reason.  Please check your browser console for error messages.<br></p>\n",
       "        </div>\n",
       "<script>\n",
       "\n",
       "var loadScriptAsync = function(uri){\n",
       "  return new Promise((resolve, reject) => {\n",
       "    //this is to ignore the existence of requirejs amd\n",
       "    var savedexports, savedmodule;\n",
       "    if (typeof exports !== 'undefined') savedexports = exports;\n",
       "    else exports = {}\n",
       "    if (typeof module !== 'undefined') savedmodule = module;\n",
       "    else module = {}\n",
       "\n",
       "    var tag = document.createElement('script');\n",
       "    tag.src = uri;\n",
       "    tag.async = true;\n",
       "    tag.onload = () => {\n",
       "        exports = savedexports;\n",
       "        module = savedmodule;\n",
       "        resolve();\n",
       "    };\n",
       "  var firstScriptTag = document.getElementsByTagName('script')[0];\n",
       "  firstScriptTag.parentNode.insertBefore(tag, firstScriptTag);\n",
       "});\n",
       "};\n",
       "\n",
       "if(typeof $3Dmolpromise === 'undefined') {\n",
       "$3Dmolpromise = null;\n",
       "  $3Dmolpromise = loadScriptAsync('https://cdnjs.cloudflare.com/ajax/libs/3Dmol/2.4.2/3Dmol-min.js');\n",
       "}\n",
       "\n",
       "var viewer_1751495637015073 = null;\n",
       "var warn = document.getElementById(\"3dmolwarning_1751495637015073\");\n",
       "if(warn) {\n",
       "    warn.parentNode.removeChild(warn);\n",
       "}\n",
       "$3Dmolpromise.then(function() {\n",
       "viewer_1751495637015073 = $3Dmol.createViewer(document.getElementById(\"3dmolviewer_1751495637015073\"),{backgroundColor:\"white\"});\n",
       "viewer_1751495637015073.zoomTo();\n",
       "\tviewer_1751495637015073.addModel(\"17\\nA\\nS    2.291   -0.979   -1.813\\nO    3.109   -0.273   -2.833\\nO    0.947   -0.344   -1.511\\nO    1.934   -2.480   -2.451\\nO    3.007   -1.355   -0.525\\nH    1.999   -2.357   -3.415\\nH    1.507    0.838    0.954\\nN    1.671   -0.103    1.376\\nH    2.204    0.001    2.241\\nH    2.260   -0.638    0.656\\nC    0.379   -0.811    1.595\\nH    0.585   -1.806    2.008\\nH   -0.103   -0.904    0.616\\nH   -0.249   -0.234    2.285\\nO    1.005    2.025   -0.246\\nH    1.498    2.754   -0.643\\nH    0.981    1.319   -0.937\\n\",\"xyz\");\n",
       "\tviewer_1751495637015073.addModel(\"17\\nB\\nS    1.476   -1.452   -1.820\\nO    2.441   -0.313   -2.618\\nO    0.373   -0.565   -1.296\\nO    1.125   -2.478   -2.825\\nO    2.356   -1.958   -0.681\\nH    2.911   -0.821   -3.303\\nH    1.838    0.703    0.721\\nN    1.940   -0.197    1.244\\nH    0.370    0.220    2.618\\nH    2.706   -0.117    1.913\\nC    0.655   -0.561    1.904\\nH    0.778   -1.523    2.417\\nH    2.185   -0.935    0.502\\nH   -0.096   -0.654    1.111\\nO    1.256    1.862   -0.461\\nH    1.838    2.319   -1.083\\nH    0.874    1.121   -0.987\\n\",\"xyz\");\n",
       "\tviewer_1751495637015073.setStyle({\"model\": 0},{\"stick\": {\"radius\": 0.06, \"color\": \"#DC2626\"}, \"sphere\": {\"radius\": 0.15, \"color\": \"#DC2626\"}});\n",
       "\tviewer_1751495637015073.setStyle({\"model\": 1},{\"stick\": {\"radius\": 0.06, \"color\": \"#2563EB\"}, \"sphere\": {\"radius\": 0.15, \"color\": \"#2563EB\"}});\n",
       "\tviewer_1751495637015073.addCylinder({\"start\": {\"x\": 2.29113, \"y\": -0.97932, \"z\": -1.81325}, \"end\": {\"x\": 1.4761118526247943, \"y\": -1.4518783828205442, \"z\": -1.8198134013347331}, \"color\": \"green\", \"radius\": 0.03, \"dashed\": false});\n",
       "\tviewer_1751495637015073.addCylinder({\"start\": {\"x\": 3.10931, \"y\": -0.27345, \"z\": -2.83284}, \"end\": {\"x\": 2.440869053108674, \"y\": -0.3129346033199689, \"z\": -2.6181357662046216}, \"color\": \"green\", \"radius\": 0.03, \"dashed\": false});\n",
       "\tviewer_1751495637015073.addCylinder({\"start\": {\"x\": 0.94736, \"y\": -0.34395, \"z\": -1.51087}, \"end\": {\"x\": 0.3730387380950717, \"y\": -0.5653334068426881, \"z\": -1.2955243598985036}, \"color\": \"green\", \"radius\": 0.03, \"dashed\": false});\n",
       "\tviewer_1751495637015073.addCylinder({\"start\": {\"x\": 1.93384, \"y\": -2.47997, \"z\": -2.45106}, \"end\": {\"x\": 1.1246058190241313, \"y\": -2.478484364561793, \"z\": -2.8252201786619078}, \"color\": \"green\", \"radius\": 0.03, \"dashed\": false});\n",
       "\tviewer_1751495637015073.addCylinder({\"start\": {\"x\": 3.00679, \"y\": -1.35457, \"z\": -0.52466}, \"end\": {\"x\": 2.356117566883259, \"y\": -1.9578523916091772, \"z\": -0.6806810491460997}, \"color\": \"green\", \"radius\": 0.03, \"dashed\": false});\n",
       "\tviewer_1751495637015073.addCylinder({\"start\": {\"x\": 1.999, \"y\": -2.35744, \"z\": -3.41478}, \"end\": {\"x\": 2.9111424136398387, \"y\": -0.8210347239877742, \"z\": -3.302576395296793}, \"color\": \"green\", \"radius\": 0.03, \"dashed\": false});\n",
       "\tviewer_1751495637015073.addCylinder({\"start\": {\"x\": 1.50703, \"y\": 0.8377, \"z\": 0.95413}, \"end\": {\"x\": 1.8375123576839896, \"y\": 0.7030207859508604, \"z\": 0.7206310881141631}, \"color\": \"green\", \"radius\": 0.03, \"dashed\": false});\n",
       "\tviewer_1751495637015073.addCylinder({\"start\": {\"x\": 1.67107, \"y\": -0.10265, \"z\": 1.37611}, \"end\": {\"x\": 1.9399833499273877, \"y\": -0.19651424875806112, \"z\": 1.243583510787461}, \"color\": \"green\", \"radius\": 0.03, \"dashed\": false});\n",
       "\tviewer_1751495637015073.addCylinder({\"start\": {\"x\": 2.20386, \"y\": 0.00085, \"z\": 2.24066}, \"end\": {\"x\": 0.36959884838911083, \"y\": 0.21987431387549727, \"z\": 2.6183855525143196}, \"color\": \"green\", \"radius\": 0.03, \"dashed\": false});\n",
       "\tviewer_1751495637015073.addCylinder({\"start\": {\"x\": 2.26009, \"y\": -0.63813, \"z\": 0.65635}, \"end\": {\"x\": 2.706325261378134, \"y\": -0.11685720999058702, \"z\": 1.9130880803975672}, \"color\": \"green\", \"radius\": 0.03, \"dashed\": false});\n",
       "\tviewer_1751495637015073.addCylinder({\"start\": {\"x\": 0.37905, \"y\": -0.81138, \"z\": 1.59516}, \"end\": {\"x\": 0.6550139026884572, \"y\": -0.5614910979622032, \"z\": 1.903525634164576}, \"color\": \"green\", \"radius\": 0.03, \"dashed\": false});\n",
       "\tviewer_1751495637015073.addCylinder({\"start\": {\"x\": 0.58452, \"y\": -1.80639, \"z\": 2.00791}, \"end\": {\"x\": 0.7778233311123424, \"y\": -1.5226840480190689, \"z\": 2.416918324170168}, \"color\": \"green\", \"radius\": 0.03, \"dashed\": false});\n",
       "\tviewer_1751495637015073.addCylinder({\"start\": {\"x\": -0.10322, \"y\": -0.90441, \"z\": 0.61568}, \"end\": {\"x\": 2.18476118685211, \"y\": -0.9345066919162579, \"z\": 0.50236440519732}, \"color\": \"green\", \"radius\": 0.03, \"dashed\": false});\n",
       "\tviewer_1751495637015073.addCylinder({\"start\": {\"x\": -0.24899, \"y\": -0.23409, \"z\": 2.28455}, \"end\": {\"x\": -0.0957194282456999, \"y\": -0.6539882225241163, \"z\": 1.1107221293966654}, \"color\": \"green\", \"radius\": 0.03, \"dashed\": false});\n",
       "\tviewer_1751495637015073.addCylinder({\"start\": {\"x\": 1.00544, \"y\": 2.02479, \"z\": -0.24615}, \"end\": {\"x\": 1.2557988656212145, \"y\": 1.862454216597531, \"z\": -0.4609838424156691}, \"color\": \"green\", \"radius\": 0.03, \"dashed\": false});\n",
       "\tviewer_1751495637015073.addCylinder({\"start\": {\"x\": 1.49769, \"y\": 2.75412, \"z\": -0.64345}, \"end\": {\"x\": 1.837790231037566, \"y\": 2.3185533551386217, \"z\": -1.0829982059981238}, \"color\": \"green\", \"radius\": 0.03, \"dashed\": false});\n",
       "\tviewer_1751495637015073.addCylinder({\"start\": {\"x\": 0.98101, \"y\": 1.3193, \"z\": -0.93749}, \"end\": {\"x\": 0.8742066501796186, \"y\": 1.1206667207497296, \"z\": -0.9872855257857893}, \"color\": \"green\", \"radius\": 0.03, \"dashed\": false});\n",
       "\tviewer_1751495637015073.zoomTo();\n",
       "\tviewer_1751495637015073.setBackgroundColor(\"white\");\n",
       "viewer_1751495637015073.render();\n",
       "});\n",
       "</script>"
      ]
     },
     "metadata": {},
     "output_type": "display_data"
    }
   ],
   "source": [
    "data_path = \"../Data/S1-MA-W1\"\n",
    "molA = next(pybel.readfile(\"xyz\", os.path.join(data_path, 's1maw1-1.xyz')))\n",
    "molB = next(pybel.readfile(\"xyz\", './arbalign_output/s1maw1-2-aligned_to-s1maw1-1.xyz'))\n",
    "X_A, T_A, B_A = otm.tl.process_molecule(molA) \n",
    "X_B, T_B, B_B = otm.tl.process_molecule(molB)\n",
    "X_B_aligned, _, _ = otm.tl.kabsch(X_A, X_B, np.eye(X_A.shape[0]))\n",
    "print(otm.tl.root_mean_square_deviation(X_A, X_B_aligned))\n",
    "interactive_alignment_plot_py3dmol(X_A, X_B_aligned, T_A, T_B, B_A, B_B, np.arange(X_A.shape[0], dtype=int))"
   ]
  },
  {
   "cell_type": "code",
   "execution_count": 10,
   "metadata": {},
   "outputs": [
    {
     "name": "stdout",
     "output_type": "stream",
     "text": [
      "1.0991218764992043\n"
     ]
    },
    {
     "data": {
      "application/vnd.plotly.v1+json": {
       "config": {
        "plotlyServerURL": "https://plot.ly",
        "toImageButtonOptions": {
         "format": "png",
         "height": 500,
         "scale": 2,
         "width": 700
        }
       },
       "data": [
        {
         "marker": {
          "color": "red",
          "size": [
           21,
           13.200000000000001,
           13.200000000000001,
           13.200000000000001,
           13.200000000000001,
           6.2,
           6.2,
           14.2,
           6.2,
           6.2,
           15.2,
           6.2,
           6.2,
           6.2,
           13.200000000000001,
           6.2,
           6.2
          ],
          "symbol": "circle"
         },
         "mode": "markers",
         "name": "A",
         "type": "scatter3d",
         "x": {
          "bdata": "ahMn9ztUAkCOAdnr3d8IQOI7MevFUO4/cCU7NgLx/j/LhF/q5w0IQJZDi2zn+/8/P3RBfcsc+D8/OnXls7z6P1OzB1qBoQFAFCLgEKoUAkCKH2PuWkLYPxV0e0ljtOI/6glLPKBsur8e+YOB597Pv59x4UBIFvA/Zr0Yyon29z8VkWEVb2TvPw==",
          "dtype": "f8"
         },
         "y": {
          "bdata": "9DKK5ZZW77851sVtNIDRv4hjXdxGA9a/LH3ogvrWA8CVSKKXUaz1vwdCsoAJ3ALAkX77OnDO6j/XNO84RUe6v18HzhlR2ks/XRYTm49r5L+CHJQw0/bpv54kXTP55vy/jZyFPe3w7L+7Cik/qfbNv4kkehnFMgBAfxMKEXAIBkAHzhlR2hv1Pw==",
          "dtype": "f8"
         },
         "z": {
          "bdata": "UI2XbhID/b+2Z5YEqKkGwM0eaAWGLPi/JEVkWMWbA8CZnrDEA8rgv29HOC14UQvARz1EozuI7j9NLVvriwT2P5Skaybf7AFA4lgXt9EA5T+gMv59xoX5P6p9Oh4zEABAFqQZi6az4z9JnYAmwkYCQP2H9NvXgc+/845TdCSX5L8dd0oH6//tvw==",
          "dtype": "f8"
         }
        },
        {
         "marker": {
          "color": "blue",
          "size": [
           21,
           13.200000000000001,
           13.200000000000001,
           13.200000000000001,
           13.200000000000001,
           6.2,
           6.2,
           14.2,
           6.2,
           6.2,
           15.2,
           6.2,
           6.2,
           6.2,
           13.200000000000001,
           6.2,
           6.2
          ],
          "symbol": "circle"
         },
         "mode": "markers",
         "name": "B",
         "type": "scatter3d",
         "x": {
          "bdata": "9C5Ediee9z+oXKda5oYDQLSaEN/d39c/WZnZq2L+8T+GW7oqVNkCQCSnpAgFSgdAOfqjW3Nm/T/+jyv7Kwr/P5Acnu2Bp9c/cqnP242mBUCsHE+33/XkP24vJsHt4+g/t8y4EmR6AUCwN+iFEYG4v/kmI43AF/Q/IG+zupZn/T8Y8445gPnrPw==",
          "dtype": "f8"
         },
         "y": {
          "bdata": "2by/0+Q697+o8cLbHgfUvy44txU2F+K/noVLnO/TA8B1tYUHXVP/v1QNDZ3qReq/MCaCciV/5j+ok87/YCfJv4iwqW3XJMw/uBw2p1rqvb/6xNctvPfhv+0fxvLpXPi/HI31k3rn7b9euna1eO3kv9JW6cqczP0/x8+Ss2WMAkDWXjU6QO7xPw==",
          "dtype": "f8"
         },
         "z": {
          "bdata": "G+I4qPQd/b+rsSIq8fEEwG33TsB3uvS/P9F6CQ2aBsDq3KKfI8jlv/i6UiytawrAmMx97WgP5z8H1crSt+XzP3Lx4h908gRArcw6PwKc/j8sWp1L13T+P95PO0bZVQNARudfhF4T4D8KPEuRhMXxP8s4yl/CgN2/wjdG7fVT8b9aDaLQ15fvvw==",
          "dtype": "f8"
         }
        },
        {
         "line": {
          "color": "red",
          "width": 2
         },
         "mode": "lines",
         "showlegend": false,
         "type": "scatter3d",
         "x": [
          2.29113,
          3.10931
         ],
         "y": [
          -0.97932,
          -0.27345
         ],
         "z": [
          -1.81325,
          -2.83284
         ]
        },
        {
         "line": {
          "color": "red",
          "width": 2
         },
         "mode": "lines",
         "showlegend": false,
         "type": "scatter3d",
         "x": [
          2.29113,
          0.94736
         ],
         "y": [
          -0.97932,
          -0.34395
         ],
         "z": [
          -1.81325,
          -1.51087
         ]
        },
        {
         "line": {
          "color": "red",
          "width": 2
         },
         "mode": "lines",
         "showlegend": false,
         "type": "scatter3d",
         "x": [
          2.29113,
          1.93384
         ],
         "y": [
          -0.97932,
          -2.47997
         ],
         "z": [
          -1.81325,
          -2.45106
         ]
        },
        {
         "line": {
          "color": "red",
          "width": 2
         },
         "mode": "lines",
         "showlegend": false,
         "type": "scatter3d",
         "x": [
          2.29113,
          3.00679
         ],
         "y": [
          -0.97932,
          -1.35457
         ],
         "z": [
          -1.81325,
          -0.52466
         ]
        },
        {
         "line": {
          "color": "red",
          "width": 2
         },
         "mode": "lines",
         "showlegend": false,
         "type": "scatter3d",
         "x": [
          1.93384,
          1.999
         ],
         "y": [
          -2.47997,
          -2.35744
         ],
         "z": [
          -2.45106,
          -3.41478
         ]
        },
        {
         "line": {
          "color": "red",
          "width": 2
         },
         "mode": "lines",
         "showlegend": false,
         "type": "scatter3d",
         "x": [
          1.50703,
          1.67107
         ],
         "y": [
          0.8377,
          -0.10265
         ],
         "z": [
          0.95413,
          1.37611
         ]
        },
        {
         "line": {
          "color": "red",
          "width": 2
         },
         "mode": "lines",
         "showlegend": false,
         "type": "scatter3d",
         "x": [
          1.67107,
          2.20386
         ],
         "y": [
          -0.10265,
          0.00085
         ],
         "z": [
          1.37611,
          2.24066
         ]
        },
        {
         "line": {
          "color": "red",
          "width": 2
         },
         "mode": "lines",
         "showlegend": false,
         "type": "scatter3d",
         "x": [
          1.67107,
          2.26009
         ],
         "y": [
          -0.10265,
          -0.63813
         ],
         "z": [
          1.37611,
          0.65635
         ]
        },
        {
         "line": {
          "color": "red",
          "width": 2
         },
         "mode": "lines",
         "showlegend": false,
         "type": "scatter3d",
         "x": [
          1.67107,
          0.37905
         ],
         "y": [
          -0.10265,
          -0.81138
         ],
         "z": [
          1.37611,
          1.59516
         ]
        },
        {
         "line": {
          "color": "red",
          "width": 2
         },
         "mode": "lines",
         "showlegend": false,
         "type": "scatter3d",
         "x": [
          0.37905,
          0.58452
         ],
         "y": [
          -0.81138,
          -1.80639
         ],
         "z": [
          1.59516,
          2.00791
         ]
        },
        {
         "line": {
          "color": "red",
          "width": 2
         },
         "mode": "lines",
         "showlegend": false,
         "type": "scatter3d",
         "x": [
          0.37905,
          -0.10322
         ],
         "y": [
          -0.81138,
          -0.90441
         ],
         "z": [
          1.59516,
          0.61568
         ]
        },
        {
         "line": {
          "color": "red",
          "width": 2
         },
         "mode": "lines",
         "showlegend": false,
         "type": "scatter3d",
         "x": [
          0.37905,
          -0.24899
         ],
         "y": [
          -0.81138,
          -0.23409
         ],
         "z": [
          1.59516,
          2.28455
         ]
        },
        {
         "line": {
          "color": "red",
          "width": 2
         },
         "mode": "lines",
         "showlegend": false,
         "type": "scatter3d",
         "x": [
          1.00544,
          1.49769
         ],
         "y": [
          2.02479,
          2.75412
         ],
         "z": [
          -0.24615,
          -0.64345
         ]
        },
        {
         "line": {
          "color": "red",
          "width": 2
         },
         "mode": "lines",
         "showlegend": false,
         "type": "scatter3d",
         "x": [
          1.00544,
          0.98101
         ],
         "y": [
          2.02479,
          1.3193
         ],
         "z": [
          -0.24615,
          -0.93749
         ]
        },
        {
         "line": {
          "color": "blue",
          "width": 2
         },
         "mode": "lines",
         "showlegend": false,
         "type": "scatter3d",
         "x": [
          1.4761118526247943,
          2.440869053108674
         ],
         "y": [
          -1.4518783828205442,
          -0.3129346033199689
         ],
         "z": [
          -1.8198134013347331,
          -2.6181357662046216
         ]
        },
        {
         "line": {
          "color": "blue",
          "width": 2
         },
         "mode": "lines",
         "showlegend": false,
         "type": "scatter3d",
         "x": [
          1.4761118526247943,
          0.3730387380950717
         ],
         "y": [
          -1.4518783828205442,
          -0.5653334068426881
         ],
         "z": [
          -1.8198134013347331,
          -1.2955243598985036
         ]
        },
        {
         "line": {
          "color": "blue",
          "width": 2
         },
         "mode": "lines",
         "showlegend": false,
         "type": "scatter3d",
         "x": [
          1.4761118526247943,
          1.1246058190241313
         ],
         "y": [
          -1.4518783828205442,
          -2.478484364561793
         ],
         "z": [
          -1.8198134013347331,
          -2.8252201786619078
         ]
        },
        {
         "line": {
          "color": "blue",
          "width": 2
         },
         "mode": "lines",
         "showlegend": false,
         "type": "scatter3d",
         "x": [
          1.4761118526247943,
          2.356117566883259
         ],
         "y": [
          -1.4518783828205442,
          -1.9578523916091772
         ],
         "z": [
          -1.8198134013347331,
          -0.6806810491460997
         ]
        },
        {
         "line": {
          "color": "blue",
          "width": 2
         },
         "mode": "lines",
         "showlegend": false,
         "type": "scatter3d",
         "x": [
          2.440869053108674,
          2.9111424136398387
         ],
         "y": [
          -0.3129346033199689,
          -0.8210347239877742
         ],
         "z": [
          -2.6181357662046216,
          -3.302576395296793
         ]
        },
        {
         "line": {
          "color": "blue",
          "width": 2
         },
         "mode": "lines",
         "showlegend": false,
         "type": "scatter3d",
         "x": [
          1.8375123576839896,
          1.9399833499273877
         ],
         "y": [
          0.7030207859508604,
          -0.19651424875806112
         ],
         "z": [
          0.7206310881141631,
          1.243583510787461
         ]
        },
        {
         "line": {
          "color": "blue",
          "width": 2
         },
         "mode": "lines",
         "showlegend": false,
         "type": "scatter3d",
         "x": [
          1.9399833499273877,
          2.706325261378134
         ],
         "y": [
          -0.19651424875806112,
          -0.11685720999058702
         ],
         "z": [
          1.243583510787461,
          1.9130880803975672
         ]
        },
        {
         "line": {
          "color": "blue",
          "width": 2
         },
         "mode": "lines",
         "showlegend": false,
         "type": "scatter3d",
         "x": [
          1.9399833499273877,
          0.6550139026884572
         ],
         "y": [
          -0.19651424875806112,
          -0.5614910979622032
         ],
         "z": [
          1.243583510787461,
          1.903525634164576
         ]
        },
        {
         "line": {
          "color": "blue",
          "width": 2
         },
         "mode": "lines",
         "showlegend": false,
         "type": "scatter3d",
         "x": [
          1.9399833499273877,
          2.18476118685211
         ],
         "y": [
          -0.19651424875806112,
          -0.9345066919162579
         ],
         "z": [
          1.243583510787461,
          0.50236440519732
         ]
        },
        {
         "line": {
          "color": "blue",
          "width": 2
         },
         "mode": "lines",
         "showlegend": false,
         "type": "scatter3d",
         "x": [
          0.36959884838911083,
          0.6550139026884572
         ],
         "y": [
          0.21987431387549727,
          -0.5614910979622032
         ],
         "z": [
          2.6183855525143196,
          1.903525634164576
         ]
        },
        {
         "line": {
          "color": "blue",
          "width": 2
         },
         "mode": "lines",
         "showlegend": false,
         "type": "scatter3d",
         "x": [
          0.6550139026884572,
          0.7778233311123424
         ],
         "y": [
          -0.5614910979622032,
          -1.5226840480190689
         ],
         "z": [
          1.903525634164576,
          2.416918324170168
         ]
        },
        {
         "line": {
          "color": "blue",
          "width": 2
         },
         "mode": "lines",
         "showlegend": false,
         "type": "scatter3d",
         "x": [
          0.6550139026884572,
          -0.0957194282456999
         ],
         "y": [
          -0.5614910979622032,
          -0.6539882225241163
         ],
         "z": [
          1.903525634164576,
          1.1107221293966654
         ]
        },
        {
         "line": {
          "color": "blue",
          "width": 2
         },
         "mode": "lines",
         "showlegend": false,
         "type": "scatter3d",
         "x": [
          1.2557988656212145,
          1.837790231037566
         ],
         "y": [
          1.862454216597531,
          2.3185533551386217
         ],
         "z": [
          -0.4609838424156691,
          -1.0829982059981238
         ]
        },
        {
         "line": {
          "color": "blue",
          "width": 2
         },
         "mode": "lines",
         "showlegend": false,
         "type": "scatter3d",
         "x": [
          1.2557988656212145,
          0.8742066501796186
         ],
         "y": [
          1.862454216597531,
          1.1206667207497296
         ],
         "z": [
          -0.4609838424156691,
          -0.9872855257857893
         ]
        },
        {
         "line": {
          "color": "green",
          "dash": "longdash",
          "width": 3
         },
         "mode": "lines",
         "showlegend": false,
         "type": "scatter3d",
         "x": [
          2.29113,
          1.4761118526247943
         ],
         "y": [
          -0.97932,
          -1.4518783828205442
         ],
         "z": [
          -1.81325,
          -1.8198134013347331
         ]
        },
        {
         "line": {
          "color": "green",
          "dash": "longdash",
          "width": 3
         },
         "mode": "lines",
         "showlegend": false,
         "type": "scatter3d",
         "x": [
          3.10931,
          2.440869053108674
         ],
         "y": [
          -0.27345,
          -0.3129346033199689
         ],
         "z": [
          -2.83284,
          -2.6181357662046216
         ]
        },
        {
         "line": {
          "color": "green",
          "dash": "longdash",
          "width": 3
         },
         "mode": "lines",
         "showlegend": false,
         "type": "scatter3d",
         "x": [
          0.94736,
          0.3730387380950717
         ],
         "y": [
          -0.34395,
          -0.5653334068426881
         ],
         "z": [
          -1.51087,
          -1.2955243598985036
         ]
        },
        {
         "line": {
          "color": "green",
          "dash": "longdash",
          "width": 3
         },
         "mode": "lines",
         "showlegend": false,
         "type": "scatter3d",
         "x": [
          1.93384,
          1.1246058190241313
         ],
         "y": [
          -2.47997,
          -2.478484364561793
         ],
         "z": [
          -2.45106,
          -2.8252201786619078
         ]
        },
        {
         "line": {
          "color": "green",
          "dash": "longdash",
          "width": 3
         },
         "mode": "lines",
         "showlegend": false,
         "type": "scatter3d",
         "x": [
          3.00679,
          2.356117566883259
         ],
         "y": [
          -1.35457,
          -1.9578523916091772
         ],
         "z": [
          -0.52466,
          -0.6806810491460997
         ]
        },
        {
         "line": {
          "color": "green",
          "dash": "longdash",
          "width": 3
         },
         "mode": "lines",
         "showlegend": false,
         "type": "scatter3d",
         "x": [
          1.999,
          2.9111424136398387
         ],
         "y": [
          -2.35744,
          -0.8210347239877742
         ],
         "z": [
          -3.41478,
          -3.302576395296793
         ]
        },
        {
         "line": {
          "color": "green",
          "dash": "longdash",
          "width": 3
         },
         "mode": "lines",
         "showlegend": false,
         "type": "scatter3d",
         "x": [
          1.50703,
          1.8375123576839896
         ],
         "y": [
          0.8377,
          0.7030207859508604
         ],
         "z": [
          0.95413,
          0.7206310881141631
         ]
        },
        {
         "line": {
          "color": "green",
          "dash": "longdash",
          "width": 3
         },
         "mode": "lines",
         "showlegend": false,
         "type": "scatter3d",
         "x": [
          1.67107,
          1.9399833499273877
         ],
         "y": [
          -0.10265,
          -0.19651424875806112
         ],
         "z": [
          1.37611,
          1.243583510787461
         ]
        },
        {
         "line": {
          "color": "green",
          "dash": "longdash",
          "width": 3
         },
         "mode": "lines",
         "showlegend": false,
         "type": "scatter3d",
         "x": [
          2.20386,
          0.36959884838911083
         ],
         "y": [
          0.00085,
          0.21987431387549727
         ],
         "z": [
          2.24066,
          2.6183855525143196
         ]
        },
        {
         "line": {
          "color": "green",
          "dash": "longdash",
          "width": 3
         },
         "mode": "lines",
         "showlegend": false,
         "type": "scatter3d",
         "x": [
          2.26009,
          2.706325261378134
         ],
         "y": [
          -0.63813,
          -0.11685720999058702
         ],
         "z": [
          0.65635,
          1.9130880803975672
         ]
        },
        {
         "line": {
          "color": "green",
          "dash": "longdash",
          "width": 3
         },
         "mode": "lines",
         "showlegend": false,
         "type": "scatter3d",
         "x": [
          0.37905,
          0.6550139026884572
         ],
         "y": [
          -0.81138,
          -0.5614910979622032
         ],
         "z": [
          1.59516,
          1.903525634164576
         ]
        },
        {
         "line": {
          "color": "green",
          "dash": "longdash",
          "width": 3
         },
         "mode": "lines",
         "showlegend": false,
         "type": "scatter3d",
         "x": [
          0.58452,
          0.7778233311123424
         ],
         "y": [
          -1.80639,
          -1.5226840480190689
         ],
         "z": [
          2.00791,
          2.416918324170168
         ]
        },
        {
         "line": {
          "color": "green",
          "dash": "longdash",
          "width": 3
         },
         "mode": "lines",
         "showlegend": false,
         "type": "scatter3d",
         "x": [
          -0.10322,
          2.18476118685211
         ],
         "y": [
          -0.90441,
          -0.9345066919162579
         ],
         "z": [
          0.61568,
          0.50236440519732
         ]
        },
        {
         "line": {
          "color": "green",
          "dash": "longdash",
          "width": 3
         },
         "mode": "lines",
         "showlegend": false,
         "type": "scatter3d",
         "x": [
          -0.24899,
          -0.0957194282456999
         ],
         "y": [
          -0.23409,
          -0.6539882225241163
         ],
         "z": [
          2.28455,
          1.1107221293966654
         ]
        },
        {
         "line": {
          "color": "green",
          "dash": "longdash",
          "width": 3
         },
         "mode": "lines",
         "showlegend": false,
         "type": "scatter3d",
         "x": [
          1.00544,
          1.2557988656212145
         ],
         "y": [
          2.02479,
          1.862454216597531
         ],
         "z": [
          -0.24615,
          -0.4609838424156691
         ]
        },
        {
         "line": {
          "color": "green",
          "dash": "longdash",
          "width": 3
         },
         "mode": "lines",
         "showlegend": false,
         "type": "scatter3d",
         "x": [
          1.49769,
          1.837790231037566
         ],
         "y": [
          2.75412,
          2.3185533551386217
         ],
         "z": [
          -0.64345,
          -1.0829982059981238
         ]
        },
        {
         "line": {
          "color": "green",
          "dash": "longdash",
          "width": 3
         },
         "mode": "lines",
         "showlegend": false,
         "type": "scatter3d",
         "x": [
          0.98101,
          0.8742066501796186
         ],
         "y": [
          1.3193,
          1.1206667207497296
         ],
         "z": [
          -0.93749,
          -0.9872855257857893
         ]
        }
       ],
       "layout": {
        "scene": {
         "aspectmode": "data",
         "xaxis": {
          "title": {
           "text": "X"
          },
          "visible": false
         },
         "yaxis": {
          "title": {
           "text": "Y"
          },
          "visible": false
         },
         "zaxis": {
          "title": {
           "text": "Z"
          },
          "visible": false
         }
        },
        "showlegend": true,
        "template": {
         "data": {
          "bar": [
           {
            "error_x": {
             "color": "#2a3f5f"
            },
            "error_y": {
             "color": "#2a3f5f"
            },
            "marker": {
             "line": {
              "color": "#E5ECF6",
              "width": 0.5
             },
             "pattern": {
              "fillmode": "overlay",
              "size": 10,
              "solidity": 0.2
             }
            },
            "type": "bar"
           }
          ],
          "barpolar": [
           {
            "marker": {
             "line": {
              "color": "#E5ECF6",
              "width": 0.5
             },
             "pattern": {
              "fillmode": "overlay",
              "size": 10,
              "solidity": 0.2
             }
            },
            "type": "barpolar"
           }
          ],
          "carpet": [
           {
            "aaxis": {
             "endlinecolor": "#2a3f5f",
             "gridcolor": "white",
             "linecolor": "white",
             "minorgridcolor": "white",
             "startlinecolor": "#2a3f5f"
            },
            "baxis": {
             "endlinecolor": "#2a3f5f",
             "gridcolor": "white",
             "linecolor": "white",
             "minorgridcolor": "white",
             "startlinecolor": "#2a3f5f"
            },
            "type": "carpet"
           }
          ],
          "choropleth": [
           {
            "colorbar": {
             "outlinewidth": 0,
             "ticks": ""
            },
            "type": "choropleth"
           }
          ],
          "contour": [
           {
            "colorbar": {
             "outlinewidth": 0,
             "ticks": ""
            },
            "colorscale": [
             [
              0,
              "#0d0887"
             ],
             [
              0.1111111111111111,
              "#46039f"
             ],
             [
              0.2222222222222222,
              "#7201a8"
             ],
             [
              0.3333333333333333,
              "#9c179e"
             ],
             [
              0.4444444444444444,
              "#bd3786"
             ],
             [
              0.5555555555555556,
              "#d8576b"
             ],
             [
              0.6666666666666666,
              "#ed7953"
             ],
             [
              0.7777777777777778,
              "#fb9f3a"
             ],
             [
              0.8888888888888888,
              "#fdca26"
             ],
             [
              1,
              "#f0f921"
             ]
            ],
            "type": "contour"
           }
          ],
          "contourcarpet": [
           {
            "colorbar": {
             "outlinewidth": 0,
             "ticks": ""
            },
            "type": "contourcarpet"
           }
          ],
          "heatmap": [
           {
            "colorbar": {
             "outlinewidth": 0,
             "ticks": ""
            },
            "colorscale": [
             [
              0,
              "#0d0887"
             ],
             [
              0.1111111111111111,
              "#46039f"
             ],
             [
              0.2222222222222222,
              "#7201a8"
             ],
             [
              0.3333333333333333,
              "#9c179e"
             ],
             [
              0.4444444444444444,
              "#bd3786"
             ],
             [
              0.5555555555555556,
              "#d8576b"
             ],
             [
              0.6666666666666666,
              "#ed7953"
             ],
             [
              0.7777777777777778,
              "#fb9f3a"
             ],
             [
              0.8888888888888888,
              "#fdca26"
             ],
             [
              1,
              "#f0f921"
             ]
            ],
            "type": "heatmap"
           }
          ],
          "histogram": [
           {
            "marker": {
             "pattern": {
              "fillmode": "overlay",
              "size": 10,
              "solidity": 0.2
             }
            },
            "type": "histogram"
           }
          ],
          "histogram2d": [
           {
            "colorbar": {
             "outlinewidth": 0,
             "ticks": ""
            },
            "colorscale": [
             [
              0,
              "#0d0887"
             ],
             [
              0.1111111111111111,
              "#46039f"
             ],
             [
              0.2222222222222222,
              "#7201a8"
             ],
             [
              0.3333333333333333,
              "#9c179e"
             ],
             [
              0.4444444444444444,
              "#bd3786"
             ],
             [
              0.5555555555555556,
              "#d8576b"
             ],
             [
              0.6666666666666666,
              "#ed7953"
             ],
             [
              0.7777777777777778,
              "#fb9f3a"
             ],
             [
              0.8888888888888888,
              "#fdca26"
             ],
             [
              1,
              "#f0f921"
             ]
            ],
            "type": "histogram2d"
           }
          ],
          "histogram2dcontour": [
           {
            "colorbar": {
             "outlinewidth": 0,
             "ticks": ""
            },
            "colorscale": [
             [
              0,
              "#0d0887"
             ],
             [
              0.1111111111111111,
              "#46039f"
             ],
             [
              0.2222222222222222,
              "#7201a8"
             ],
             [
              0.3333333333333333,
              "#9c179e"
             ],
             [
              0.4444444444444444,
              "#bd3786"
             ],
             [
              0.5555555555555556,
              "#d8576b"
             ],
             [
              0.6666666666666666,
              "#ed7953"
             ],
             [
              0.7777777777777778,
              "#fb9f3a"
             ],
             [
              0.8888888888888888,
              "#fdca26"
             ],
             [
              1,
              "#f0f921"
             ]
            ],
            "type": "histogram2dcontour"
           }
          ],
          "mesh3d": [
           {
            "colorbar": {
             "outlinewidth": 0,
             "ticks": ""
            },
            "type": "mesh3d"
           }
          ],
          "parcoords": [
           {
            "line": {
             "colorbar": {
              "outlinewidth": 0,
              "ticks": ""
             }
            },
            "type": "parcoords"
           }
          ],
          "pie": [
           {
            "automargin": true,
            "type": "pie"
           }
          ],
          "scatter": [
           {
            "fillpattern": {
             "fillmode": "overlay",
             "size": 10,
             "solidity": 0.2
            },
            "type": "scatter"
           }
          ],
          "scatter3d": [
           {
            "line": {
             "colorbar": {
              "outlinewidth": 0,
              "ticks": ""
             }
            },
            "marker": {
             "colorbar": {
              "outlinewidth": 0,
              "ticks": ""
             }
            },
            "type": "scatter3d"
           }
          ],
          "scattercarpet": [
           {
            "marker": {
             "colorbar": {
              "outlinewidth": 0,
              "ticks": ""
             }
            },
            "type": "scattercarpet"
           }
          ],
          "scattergeo": [
           {
            "marker": {
             "colorbar": {
              "outlinewidth": 0,
              "ticks": ""
             }
            },
            "type": "scattergeo"
           }
          ],
          "scattergl": [
           {
            "marker": {
             "colorbar": {
              "outlinewidth": 0,
              "ticks": ""
             }
            },
            "type": "scattergl"
           }
          ],
          "scattermap": [
           {
            "marker": {
             "colorbar": {
              "outlinewidth": 0,
              "ticks": ""
             }
            },
            "type": "scattermap"
           }
          ],
          "scattermapbox": [
           {
            "marker": {
             "colorbar": {
              "outlinewidth": 0,
              "ticks": ""
             }
            },
            "type": "scattermapbox"
           }
          ],
          "scatterpolar": [
           {
            "marker": {
             "colorbar": {
              "outlinewidth": 0,
              "ticks": ""
             }
            },
            "type": "scatterpolar"
           }
          ],
          "scatterpolargl": [
           {
            "marker": {
             "colorbar": {
              "outlinewidth": 0,
              "ticks": ""
             }
            },
            "type": "scatterpolargl"
           }
          ],
          "scatterternary": [
           {
            "marker": {
             "colorbar": {
              "outlinewidth": 0,
              "ticks": ""
             }
            },
            "type": "scatterternary"
           }
          ],
          "surface": [
           {
            "colorbar": {
             "outlinewidth": 0,
             "ticks": ""
            },
            "colorscale": [
             [
              0,
              "#0d0887"
             ],
             [
              0.1111111111111111,
              "#46039f"
             ],
             [
              0.2222222222222222,
              "#7201a8"
             ],
             [
              0.3333333333333333,
              "#9c179e"
             ],
             [
              0.4444444444444444,
              "#bd3786"
             ],
             [
              0.5555555555555556,
              "#d8576b"
             ],
             [
              0.6666666666666666,
              "#ed7953"
             ],
             [
              0.7777777777777778,
              "#fb9f3a"
             ],
             [
              0.8888888888888888,
              "#fdca26"
             ],
             [
              1,
              "#f0f921"
             ]
            ],
            "type": "surface"
           }
          ],
          "table": [
           {
            "cells": {
             "fill": {
              "color": "#EBF0F8"
             },
             "line": {
              "color": "white"
             }
            },
            "header": {
             "fill": {
              "color": "#C8D4E3"
             },
             "line": {
              "color": "white"
             }
            },
            "type": "table"
           }
          ]
         },
         "layout": {
          "annotationdefaults": {
           "arrowcolor": "#2a3f5f",
           "arrowhead": 0,
           "arrowwidth": 1
          },
          "autotypenumbers": "strict",
          "coloraxis": {
           "colorbar": {
            "outlinewidth": 0,
            "ticks": ""
           }
          },
          "colorscale": {
           "diverging": [
            [
             0,
             "#8e0152"
            ],
            [
             0.1,
             "#c51b7d"
            ],
            [
             0.2,
             "#de77ae"
            ],
            [
             0.3,
             "#f1b6da"
            ],
            [
             0.4,
             "#fde0ef"
            ],
            [
             0.5,
             "#f7f7f7"
            ],
            [
             0.6,
             "#e6f5d0"
            ],
            [
             0.7,
             "#b8e186"
            ],
            [
             0.8,
             "#7fbc41"
            ],
            [
             0.9,
             "#4d9221"
            ],
            [
             1,
             "#276419"
            ]
           ],
           "sequential": [
            [
             0,
             "#0d0887"
            ],
            [
             0.1111111111111111,
             "#46039f"
            ],
            [
             0.2222222222222222,
             "#7201a8"
            ],
            [
             0.3333333333333333,
             "#9c179e"
            ],
            [
             0.4444444444444444,
             "#bd3786"
            ],
            [
             0.5555555555555556,
             "#d8576b"
            ],
            [
             0.6666666666666666,
             "#ed7953"
            ],
            [
             0.7777777777777778,
             "#fb9f3a"
            ],
            [
             0.8888888888888888,
             "#fdca26"
            ],
            [
             1,
             "#f0f921"
            ]
           ],
           "sequentialminus": [
            [
             0,
             "#0d0887"
            ],
            [
             0.1111111111111111,
             "#46039f"
            ],
            [
             0.2222222222222222,
             "#7201a8"
            ],
            [
             0.3333333333333333,
             "#9c179e"
            ],
            [
             0.4444444444444444,
             "#bd3786"
            ],
            [
             0.5555555555555556,
             "#d8576b"
            ],
            [
             0.6666666666666666,
             "#ed7953"
            ],
            [
             0.7777777777777778,
             "#fb9f3a"
            ],
            [
             0.8888888888888888,
             "#fdca26"
            ],
            [
             1,
             "#f0f921"
            ]
           ]
          },
          "colorway": [
           "#636efa",
           "#EF553B",
           "#00cc96",
           "#ab63fa",
           "#FFA15A",
           "#19d3f3",
           "#FF6692",
           "#B6E880",
           "#FF97FF",
           "#FECB52"
          ],
          "font": {
           "color": "#2a3f5f"
          },
          "geo": {
           "bgcolor": "white",
           "lakecolor": "white",
           "landcolor": "#E5ECF6",
           "showlakes": true,
           "showland": true,
           "subunitcolor": "white"
          },
          "hoverlabel": {
           "align": "left"
          },
          "hovermode": "closest",
          "mapbox": {
           "style": "light"
          },
          "paper_bgcolor": "white",
          "plot_bgcolor": "#E5ECF6",
          "polar": {
           "angularaxis": {
            "gridcolor": "white",
            "linecolor": "white",
            "ticks": ""
           },
           "bgcolor": "#E5ECF6",
           "radialaxis": {
            "gridcolor": "white",
            "linecolor": "white",
            "ticks": ""
           }
          },
          "scene": {
           "xaxis": {
            "backgroundcolor": "#E5ECF6",
            "gridcolor": "white",
            "gridwidth": 2,
            "linecolor": "white",
            "showbackground": true,
            "ticks": "",
            "zerolinecolor": "white"
           },
           "yaxis": {
            "backgroundcolor": "#E5ECF6",
            "gridcolor": "white",
            "gridwidth": 2,
            "linecolor": "white",
            "showbackground": true,
            "ticks": "",
            "zerolinecolor": "white"
           },
           "zaxis": {
            "backgroundcolor": "#E5ECF6",
            "gridcolor": "white",
            "gridwidth": 2,
            "linecolor": "white",
            "showbackground": true,
            "ticks": "",
            "zerolinecolor": "white"
           }
          },
          "shapedefaults": {
           "line": {
            "color": "#2a3f5f"
           }
          },
          "ternary": {
           "aaxis": {
            "gridcolor": "white",
            "linecolor": "white",
            "ticks": ""
           },
           "baxis": {
            "gridcolor": "white",
            "linecolor": "white",
            "ticks": ""
           },
           "bgcolor": "#E5ECF6",
           "caxis": {
            "gridcolor": "white",
            "linecolor": "white",
            "ticks": ""
           }
          },
          "title": {
           "x": 0.05
          },
          "xaxis": {
           "automargin": true,
           "gridcolor": "white",
           "linecolor": "white",
           "ticks": "",
           "title": {
            "standoff": 15
           },
           "zerolinecolor": "white",
           "zerolinewidth": 2
          },
          "yaxis": {
           "automargin": true,
           "gridcolor": "white",
           "linecolor": "white",
           "ticks": "",
           "title": {
            "standoff": 15
           },
           "zerolinecolor": "white",
           "zerolinewidth": 2
          }
         }
        },
        "title": {
         "text": "A B Alignment"
        }
       }
      }
     },
     "metadata": {},
     "output_type": "display_data"
    }
   ],
   "source": [
    "data_path = \"../Data/S1-MA-W1\"\n",
    "molA = next(pybel.readfile(\"xyz\", os.path.join(data_path, 's1maw1-1.xyz')))\n",
    "molB = next(pybel.readfile(\"xyz\", './arbalign_output/s1maw1-2-aligned_to-s1maw1-1.xyz'))\n",
    "X_A, T_A, B_A = otm.tl.process_molecule(molA) \n",
    "X_B, T_B, B_B = otm.tl.process_molecule(molB)\n",
    "X_B_aligned, _, _ = otm.tl.kabsch(X_A, X_B, np.eye(X_A.shape[0]))\n",
    "print(otm.tl.root_mean_square_deviation(X_A, X_B_aligned))\n",
    "otm.pl.interactive_alignment_plot(X_A, X_B_aligned, T_A, T_B, B_A, B_B, np.arange(X_A.shape[0], dtype=int), save=True)"
   ]
  }
 ],
 "metadata": {
  "kernelspec": {
   "display_name": "py39",
   "language": "python",
   "name": "python3"
  },
  "language_info": {
   "codemirror_mode": {
    "name": "ipython",
    "version": 3
   },
   "file_extension": ".py",
   "mimetype": "text/x-python",
   "name": "python",
   "nbconvert_exporter": "python",
   "pygments_lexer": "ipython3",
   "version": "3.9.16"
  }
 },
 "nbformat": 4,
 "nbformat_minor": 2
}
