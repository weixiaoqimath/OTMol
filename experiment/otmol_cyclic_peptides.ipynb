{
 "cells": [
  {
   "cell_type": "code",
   "execution_count": 1,
   "metadata": {},
   "outputs": [],
   "source": [
    "import numpy as np\n",
    "import otmol as otm\n",
    "import pandas as pd\n",
    "from openbabel import pybel\n",
    "import matplotlib.pyplot as plt\n",
    "import os\n",
    "from experiment_utils import cp_experiment\n",
    "# %matplotlib widget"
   ]
  },
  {
   "cell_type": "markdown",
   "metadata": {},
   "source": [
    "Backbone most similar"
   ]
  },
  {
   "cell_type": "code",
   "execution_count": 2,
   "metadata": {},
   "outputs": [
    {
     "data": {
      "text/html": [
       "<div>\n",
       "<style scoped>\n",
       "    .dataframe tbody tr th:only-of-type {\n",
       "        vertical-align: middle;\n",
       "    }\n",
       "\n",
       "    .dataframe tbody tr th {\n",
       "        vertical-align: top;\n",
       "    }\n",
       "\n",
       "    .dataframe thead th {\n",
       "        text-align: right;\n",
       "    }\n",
       "</style>\n",
       "<table border=\"1\" class=\"dataframe\">\n",
       "  <thead>\n",
       "    <tr style=\"text-align: right;\">\n",
       "      <th></th>\n",
       "      <th>RMSD</th>\n",
       "      <th>folder</th>\n",
       "      <th>reference</th>\n",
       "      <th>subfolder</th>\n",
       "      <th>target</th>\n",
       "      <th>mer</th>\n",
       "    </tr>\n",
       "  </thead>\n",
       "  <tbody>\n",
       "    <tr>\n",
       "      <th>0</th>\n",
       "      <td>1.307</td>\n",
       "      <td>../Backbone_Most_Similar</td>\n",
       "      <td>ALPRAL10_2_fixed_backbone.xyz</td>\n",
       "      <td>c4mers</td>\n",
       "      <td>CEJSUF_fixed_backbone.xyz</td>\n",
       "      <td>4</td>\n",
       "    </tr>\n",
       "    <tr>\n",
       "      <th>1</th>\n",
       "      <td>0.070</td>\n",
       "      <td>../Backbone_Most_Similar</td>\n",
       "      <td>CGPGAP10_fixed_backbone.xyz</td>\n",
       "      <td>c5mers</td>\n",
       "      <td>PAPGAP_fixed_backbone.xyz</td>\n",
       "      <td>5</td>\n",
       "    </tr>\n",
       "    <tr>\n",
       "      <th>2</th>\n",
       "      <td>0.107</td>\n",
       "      <td>../Backbone_Most_Similar</td>\n",
       "      <td>BIHXUL10_fixed_backbone.xyz</td>\n",
       "      <td>c6mers</td>\n",
       "      <td>CINYED_fixed_backbone.xyz</td>\n",
       "      <td>6</td>\n",
       "    </tr>\n",
       "    <tr>\n",
       "      <th>3</th>\n",
       "      <td>0.322</td>\n",
       "      <td>../Backbone_Most_Similar</td>\n",
       "      <td>LACSUD_fixed_backbone.xyz</td>\n",
       "      <td>c7mers</td>\n",
       "      <td>TALVAD_fixed_backbone.xyz</td>\n",
       "      <td>7</td>\n",
       "    </tr>\n",
       "    <tr>\n",
       "      <th>4</th>\n",
       "      <td>2.303</td>\n",
       "      <td>../Backbone_Most_Similar</td>\n",
       "      <td>EVAPUM_fixed_backbone.xyz</td>\n",
       "      <td>c8mers</td>\n",
       "      <td>UZUKUW_fixed_backbone.xyz</td>\n",
       "      <td>8</td>\n",
       "    </tr>\n",
       "  </tbody>\n",
       "</table>\n",
       "</div>"
      ],
      "text/plain": [
       "    RMSD                    folder                      reference subfolder  \\\n",
       "0  1.307  ../Backbone_Most_Similar  ALPRAL10_2_fixed_backbone.xyz    c4mers   \n",
       "1  0.070  ../Backbone_Most_Similar    CGPGAP10_fixed_backbone.xyz    c5mers   \n",
       "2  0.107  ../Backbone_Most_Similar    BIHXUL10_fixed_backbone.xyz    c6mers   \n",
       "3  0.322  ../Backbone_Most_Similar      LACSUD_fixed_backbone.xyz    c7mers   \n",
       "4  2.303  ../Backbone_Most_Similar      EVAPUM_fixed_backbone.xyz    c8mers   \n",
       "\n",
       "                      target  mer  \n",
       "0  CEJSUF_fixed_backbone.xyz    4  \n",
       "1  PAPGAP_fixed_backbone.xyz    5  \n",
       "2  CINYED_fixed_backbone.xyz    6  \n",
       "3  TALVAD_fixed_backbone.xyz    7  \n",
       "4  UZUKUW_fixed_backbone.xyz    8  "
      ]
     },
     "execution_count": 2,
     "metadata": {},
     "output_type": "execute_result"
    }
   ],
   "source": [
    "group1_data_path = \"../Data/Our_Benchmark_20250410_ver1/Cyclic_Peptide/Backbone_Most_Similar\"\n",
    "group1_info = pd.read_csv('../Data/Our_Benchmark_20250410_ver1/Cyclic_Peptide/Backbone_Most_similar_dihedral_angle.csv')\n",
    "group1_info"
   ]
  },
  {
   "cell_type": "code",
   "execution_count": 3,
   "metadata": {},
   "outputs": [
    {
     "name": "stdout",
     "output_type": "stream",
     "text": [
      "ALPRAL10_2_fixed_backbone.xyz CEJSUF_fixed_backbone.xyz 0.11\n",
      "CGPGAP10_fixed_backbone.xyz PAPGAP_fixed_backbone.xyz 0.07\n",
      "BIHXUL10_fixed_backbone.xyz CINYED_fixed_backbone.xyz 0.11\n",
      "LACSUD_fixed_backbone.xyz TALVAD_fixed_backbone.xyz 0.32\n",
      "EVAPUM_fixed_backbone.xyz UZUKUW_fixed_backbone.xyz 0.20\n"
     ]
    }
   ],
   "source": [
    "group1_res = cp_experiment(group1_data_path, zip(group1_info['subfolder'], group1_info['reference'], group1_info['target']), alpha_list=np.linspace(0,0.5,100))"
   ]
  },
  {
   "cell_type": "code",
   "execution_count": 4,
   "metadata": {},
   "outputs": [
    {
     "data": {
      "image/png": "[encoded data removed]",
      "text/plain": [
       "<Figure size 288x432 with 1 Axes>"
      ]
     },
     "metadata": {
      "needs_background": "light"
     },
     "output_type": "display_data"
    }
   ],
   "source": [
    "combined_df = pd.concat([group1_res, group1_info], axis=1).rename(columns={'RMSD': 'ArbAlign', 'RMSD(OTMol)': 'OTMol'})\n",
    "columns_to_plot = [\"ArbAlign\", \"OTMol\"]\n",
    "plt.figure(figsize=(4,6))\n",
    "for column in columns_to_plot:\n",
    "    plt.plot(combined_df['mer'], combined_df[column], marker='o', label=column)\n",
    "plt.title(\"Most similar dihedral angles\")\n",
    "plt.ylabel(\"RMSD Values\")\n",
    "plt.ylim(0, 3)\n",
    "plt.xticks(range(4,9), ['4 mer', '5 mer', '6 mer', '7 mer', '8 mer'])\n",
    "plt.legend()\n",
    "plt.grid(True)\n",
    "#plt.savefig('../images/cp_most_similar_dihedral_angles.png', dpi=300)"
   ]
  },
  {
   "cell_type": "markdown",
   "metadata": {},
   "source": [
    "Backbone most different"
   ]
  },
  {
   "cell_type": "code",
   "execution_count": 5,
   "metadata": {},
   "outputs": [
    {
     "data": {
      "text/html": [
       "<div>\n",
       "<style scoped>\n",
       "    .dataframe tbody tr th:only-of-type {\n",
       "        vertical-align: middle;\n",
       "    }\n",
       "\n",
       "    .dataframe tbody tr th {\n",
       "        vertical-align: top;\n",
       "    }\n",
       "\n",
       "    .dataframe thead th {\n",
       "        text-align: right;\n",
       "    }\n",
       "</style>\n",
       "<table border=\"1\" class=\"dataframe\">\n",
       "  <thead>\n",
       "    <tr style=\"text-align: right;\">\n",
       "      <th></th>\n",
       "      <th>RMSD</th>\n",
       "      <th>folder</th>\n",
       "      <th>reference</th>\n",
       "      <th>subfolder</th>\n",
       "      <th>target</th>\n",
       "      <th>mer</th>\n",
       "    </tr>\n",
       "  </thead>\n",
       "  <tbody>\n",
       "    <tr>\n",
       "      <th>0</th>\n",
       "      <td>1.599</td>\n",
       "      <td>../Backbone_Most_Different</td>\n",
       "      <td>CEJSUF_fixed_backbone.xyz</td>\n",
       "      <td>c4mers</td>\n",
       "      <td>RUQVAB_fixed_backbone.xyz</td>\n",
       "      <td>4</td>\n",
       "    </tr>\n",
       "    <tr>\n",
       "      <th>1</th>\n",
       "      <td>1.351</td>\n",
       "      <td>../Backbone_Most_Different</td>\n",
       "      <td>CGPSAQ_fixed_backbone.xyz</td>\n",
       "      <td>c5mers</td>\n",
       "      <td>FUDWIK_fixed_backbone.xyz</td>\n",
       "      <td>5</td>\n",
       "    </tr>\n",
       "    <tr>\n",
       "      <th>2</th>\n",
       "      <td>1.653</td>\n",
       "      <td>../Backbone_Most_Different</td>\n",
       "      <td>BUYXOI_fixed_backbone.xyz</td>\n",
       "      <td>c6mers</td>\n",
       "      <td>GGAAGG_fixed_backbone.xyz</td>\n",
       "      <td>6</td>\n",
       "    </tr>\n",
       "    <tr>\n",
       "      <th>3</th>\n",
       "      <td>1.597</td>\n",
       "      <td>../Backbone_Most_Different</td>\n",
       "      <td>JUXHAL_fixed_backbone.xyz</td>\n",
       "      <td>c7mers</td>\n",
       "      <td>ZORRED_fixed_backbone.xyz</td>\n",
       "      <td>7</td>\n",
       "    </tr>\n",
       "    <tr>\n",
       "      <th>4</th>\n",
       "      <td>2.091</td>\n",
       "      <td>../Backbone_Most_Different</td>\n",
       "      <td>NIWHEH_fixed_backbone.xyz</td>\n",
       "      <td>c8mers</td>\n",
       "      <td>cNPF_NMR_backbone.xyz</td>\n",
       "      <td>8</td>\n",
       "    </tr>\n",
       "  </tbody>\n",
       "</table>\n",
       "</div>"
      ],
      "text/plain": [
       "    RMSD                      folder                  reference subfolder  \\\n",
       "0  1.599  ../Backbone_Most_Different  CEJSUF_fixed_backbone.xyz    c4mers   \n",
       "1  1.351  ../Backbone_Most_Different  CGPSAQ_fixed_backbone.xyz    c5mers   \n",
       "2  1.653  ../Backbone_Most_Different  BUYXOI_fixed_backbone.xyz    c6mers   \n",
       "3  1.597  ../Backbone_Most_Different  JUXHAL_fixed_backbone.xyz    c7mers   \n",
       "4  2.091  ../Backbone_Most_Different  NIWHEH_fixed_backbone.xyz    c8mers   \n",
       "\n",
       "                      target  mer  \n",
       "0  RUQVAB_fixed_backbone.xyz    4  \n",
       "1  FUDWIK_fixed_backbone.xyz    5  \n",
       "2  GGAAGG_fixed_backbone.xyz    6  \n",
       "3  ZORRED_fixed_backbone.xyz    7  \n",
       "4      cNPF_NMR_backbone.xyz    8  "
      ]
     },
     "execution_count": 5,
     "metadata": {},
     "output_type": "execute_result"
    }
   ],
   "source": [
    "group2_data_path = \"../Data/Our_Benchmark_20250410_ver1/Cyclic_Peptide/Backbone_Most_Different\"\n",
    "group2_info = pd.read_csv('../Data/Our_Benchmark_20250410_ver1/Cyclic_Peptide/Backbone_Most_different_dihedral_angle.csv')\n",
    "group2_info"
   ]
  },
  {
   "cell_type": "code",
   "execution_count": 6,
   "metadata": {},
   "outputs": [
    {
     "name": "stdout",
     "output_type": "stream",
     "text": [
      "CEJSUF_fixed_backbone.xyz RUQVAB_fixed_backbone.xyz 1.25\n",
      "CGPSAQ_fixed_backbone.xyz FUDWIK_fixed_backbone.xyz 0.86\n",
      "BUYXOI_fixed_backbone.xyz GGAAGG_fixed_backbone.xyz 1.45\n",
      "JUXHAL_fixed_backbone.xyz ZORRED_fixed_backbone.xyz 1.52\n",
      "NIWHEH_fixed_backbone.xyz cNPF_NMR_backbone.xyz 1.12\n"
     ]
    }
   ],
   "source": [
    "group2_res = cp_experiment(group2_data_path,zip(group2_info['subfolder'], group2_info['reference'], group2_info['target']), alpha_list=np.linspace(0,0.5,100))"
   ]
  },
  {
   "cell_type": "code",
   "execution_count": 7,
   "metadata": {},
   "outputs": [
    {
     "data": {
      "image/png": "[encoded data removed]",
      "text/plain": [
       "<Figure size 288x432 with 1 Axes>"
      ]
     },
     "metadata": {
      "needs_background": "light"
     },
     "output_type": "display_data"
    }
   ],
   "source": [
    "combined_df = pd.concat([group2_res, group2_info], axis=1).rename(columns={'RMSD': 'ArbAlign', 'RMSD(OTMol)': 'OTMol'})\n",
    "columns_to_plot = [\"ArbAlign\", \"OTMol\"]\n",
    "plt.figure(figsize=(4,6))\n",
    "for column in columns_to_plot:\n",
    "    plt.plot(combined_df['mer'], combined_df[column], marker='o', label=column)\n",
    "plt.title(\"Most different dihedral angles\")\n",
    "plt.ylabel(\"RMSD Values\")\n",
    "plt.ylim(0, 3)\n",
    "plt.xticks(range(4,9), ['4 mer', '5 mer', '6 mer', '7 mer', '8 mer'])\n",
    "plt.legend()\n",
    "plt.grid(True)\n",
    "#plt.savefig('../images/cp_most_different_dihedral_angles.png', dpi=300)"
   ]
  },
  {
   "cell_type": "markdown",
   "metadata": {},
   "source": [
    "All backbone largest ArbAlign RMSD pair"
   ]
  },
  {
   "cell_type": "code",
   "execution_count": 8,
   "metadata": {},
   "outputs": [
    {
     "data": {
      "text/html": [
       "<div>\n",
       "<style scoped>\n",
       "    .dataframe tbody tr th:only-of-type {\n",
       "        vertical-align: middle;\n",
       "    }\n",
       "\n",
       "    .dataframe tbody tr th {\n",
       "        vertical-align: top;\n",
       "    }\n",
       "\n",
       "    .dataframe thead th {\n",
       "        text-align: right;\n",
       "    }\n",
       "</style>\n",
       "<table border=\"1\" class=\"dataframe\">\n",
       "  <thead>\n",
       "    <tr style=\"text-align: right;\">\n",
       "      <th></th>\n",
       "      <th>RMSD</th>\n",
       "      <th>folder</th>\n",
       "      <th>reference</th>\n",
       "      <th>subfolder</th>\n",
       "      <th>target</th>\n",
       "      <th>mer</th>\n",
       "    </tr>\n",
       "  </thead>\n",
       "  <tbody>\n",
       "    <tr>\n",
       "      <th>0</th>\n",
       "      <td>1.684</td>\n",
       "      <td>../All_Backbone_XYZs/</td>\n",
       "      <td>ALPRAL10_2_fixed_backbone.xyz</td>\n",
       "      <td>c4mers</td>\n",
       "      <td>RUQVAB_fixed_backbone.xyz</td>\n",
       "      <td>4</td>\n",
       "    </tr>\n",
       "    <tr>\n",
       "      <th>1</th>\n",
       "      <td>1.405</td>\n",
       "      <td>../All_Backbone_XYZs/</td>\n",
       "      <td>CGPSAQ_fixed_backbone.xyz</td>\n",
       "      <td>c5mers</td>\n",
       "      <td>DABVIL_fixed_backbone.xyz</td>\n",
       "      <td>5</td>\n",
       "    </tr>\n",
       "    <tr>\n",
       "      <th>2</th>\n",
       "      <td>2.183</td>\n",
       "      <td>../All_Backbone_XYZs/</td>\n",
       "      <td>BINJIR_fixed_backbone.xyz</td>\n",
       "      <td>c6mers</td>\n",
       "      <td>DUYTIA_fixed_backbone.xyz</td>\n",
       "      <td>6</td>\n",
       "    </tr>\n",
       "    <tr>\n",
       "      <th>3</th>\n",
       "      <td>2.403</td>\n",
       "      <td>../All_Backbone_XYZs/</td>\n",
       "      <td>TALVAD_fixed_backbone.xyz</td>\n",
       "      <td>c7mers</td>\n",
       "      <td>ZOHMIS_fixed_backbone.xyz</td>\n",
       "      <td>7</td>\n",
       "    </tr>\n",
       "    <tr>\n",
       "      <th>4</th>\n",
       "      <td>2.875</td>\n",
       "      <td>../All_Backbone_XYZs/</td>\n",
       "      <td>DASXIE_fixed_backbone.xyz</td>\n",
       "      <td>c8mers</td>\n",
       "      <td>EVAPUM_fixed_backbone.xyz</td>\n",
       "      <td>8</td>\n",
       "    </tr>\n",
       "  </tbody>\n",
       "</table>\n",
       "</div>"
      ],
      "text/plain": [
       "    RMSD                 folder                      reference subfolder  \\\n",
       "0  1.684  ../All_Backbone_XYZs/  ALPRAL10_2_fixed_backbone.xyz    c4mers   \n",
       "1  1.405  ../All_Backbone_XYZs/      CGPSAQ_fixed_backbone.xyz    c5mers   \n",
       "2  2.183  ../All_Backbone_XYZs/      BINJIR_fixed_backbone.xyz    c6mers   \n",
       "3  2.403  ../All_Backbone_XYZs/      TALVAD_fixed_backbone.xyz    c7mers   \n",
       "4  2.875  ../All_Backbone_XYZs/      DASXIE_fixed_backbone.xyz    c8mers   \n",
       "\n",
       "                      target  mer  \n",
       "0  RUQVAB_fixed_backbone.xyz    4  \n",
       "1  DABVIL_fixed_backbone.xyz    5  \n",
       "2  DUYTIA_fixed_backbone.xyz    6  \n",
       "3  ZOHMIS_fixed_backbone.xyz    7  \n",
       "4  EVAPUM_fixed_backbone.xyz    8  "
      ]
     },
     "execution_count": 8,
     "metadata": {},
     "output_type": "execute_result"
    }
   ],
   "source": [
    "group3_data_path = \"../Data/Our_Benchmark_20250410_ver1/Cyclic_Peptide/All_Backbone_XYZs\"\n",
    "group3_info = pd.read_csv('../Data/Our_Benchmark_20250410_ver1/Cyclic_Peptide/All_Backbone_Largest_RMSD_Pair.csv')\n",
    "group3_info"
   ]
  },
  {
   "cell_type": "code",
   "execution_count": 9,
   "metadata": {},
   "outputs": [
    {
     "name": "stdout",
     "output_type": "stream",
     "text": [
      "ALPRAL10_2_fixed_backbone.xyz RUQVAB_fixed_backbone.xyz 1.27\n",
      "CGPSAQ_fixed_backbone.xyz DABVIL_fixed_backbone.xyz 1.10\n",
      "BINJIR_fixed_backbone.xyz DUYTIA_fixed_backbone.xyz 1.46\n",
      "TALVAD_fixed_backbone.xyz ZOHMIS_fixed_backbone.xyz 1.16\n",
      "DASXIE_fixed_backbone.xyz EVAPUM_fixed_backbone.xyz 1.59\n"
     ]
    }
   ],
   "source": [
    "group3_res = cp_experiment( group3_data_path,zip(group3_info['subfolder'], group3_info['reference'], group3_info['target']), alpha_list=np.linspace(0,0.5,100))"
   ]
  },
  {
   "cell_type": "code",
   "execution_count": 10,
   "metadata": {},
   "outputs": [
    {
     "data": {
      "image/png": "[encoded data removed]",
      "text/plain": [
       "<Figure size 288x432 with 1 Axes>"
      ]
     },
     "metadata": {
      "needs_background": "light"
     },
     "output_type": "display_data"
    }
   ],
   "source": [
    "combined_df = pd.concat([group3_res, group3_info], axis=1).rename(columns={'RMSD': 'ArbAlign', 'RMSD(OTMol)': 'OTMol'})\n",
    "columns_to_plot = [\"ArbAlign\", \"OTMol\"]\n",
    "plt.figure(figsize=(4,6))\n",
    "for column in columns_to_plot:\n",
    "    plt.plot(combined_df['mer'], combined_df[column], marker='o', label=column)\n",
    "plt.title(\"Largest ArbAlign RMSD pairs\")\n",
    "#plt.xlabel(\"Index\")\n",
    "plt.ylabel(\"RMSD Values\")\n",
    "plt.ylim(0, 3)\n",
    "plt.xticks(range(4,9), ['4 mer', '5 mer', '6 mer', '7 mer', '8 mer'])\n",
    "plt.legend()\n",
    "plt.grid(True)\n",
    "#plt.savefig('../images/cp_largest_arbalign_rmsd_pairs.png', dpi=300)"
   ]
  },
  {
   "cell_type": "code",
   "execution_count": 11,
   "metadata": {},
   "outputs": [
    {
     "data": {
      "image/png": "[encoded data removed]",
      "text/plain": [
       "<Figure size 1008x288 with 3 Axes>"
      ]
     },
     "metadata": {
      "needs_background": "light"
     },
     "output_type": "display_data"
    }
   ],
   "source": [
    "# Create a figure with three subplots side by side\n",
    "plt.figure(figsize=(14, 4))\n",
    "\n",
    "# First subplot - Most similar dihedral angles\n",
    "plt.subplot(131)\n",
    "combined_df = pd.concat([group1_res, group1_info], axis=1).rename(columns={'RMSD': 'ArbAlign', 'RMSD(OTMol)': 'OTMol'})\n",
    "columns_to_plot = [\"ArbAlign\", \"OTMol\"]\n",
    "for column in columns_to_plot:\n",
    "    plt.plot(combined_df['mer'], combined_df[column], marker='o', label=column)\n",
    "plt.title(\"Most similar dihedral Angles\", fontsize=12)\n",
    "plt.ylabel(\"RMSD Values\")\n",
    "plt.ylim(0, 3)\n",
    "plt.xticks(range(4,9), ['4 mer', '5 mer', '6 mer', '7 mer', '8 mer'], fontsize=12)\n",
    "plt.legend()\n",
    "plt.grid(True)\n",
    "\n",
    "# Second subplot - Most different dihedral angles\n",
    "plt.subplot(132)\n",
    "combined_df = pd.concat([group2_res, group2_info], axis=1).rename(columns={'RMSD': 'ArbAlign', 'RMSD(OTMol)': 'OTMol'})\n",
    "columns_to_plot = [\"ArbAlign\", \"OTMol\"]\n",
    "for column in columns_to_plot:\n",
    "    plt.plot(combined_df['mer'], combined_df[column], marker='o', label=column)\n",
    "plt.title(\"Most different dihedral angles\", fontsize=12)\n",
    "#plt.ylabel(\"RMSD Values\")\n",
    "plt.ylim(0, 3)\n",
    "plt.xticks(range(4,9), ['4 mer', '5 mer', '6 mer', '7 mer', '8 mer'], fontsize=12)\n",
    "plt.legend()\n",
    "plt.grid(True)\n",
    "\n",
    "# Third subplot - Largest ArbAlign RMSD pairs\n",
    "plt.subplot(133)\n",
    "combined_df = pd.concat([group3_res, group3_info], axis=1).rename(columns={'RMSD': 'ArbAlign', 'RMSD(OTMol)': 'OTMol'})\n",
    "columns_to_plot = [\"ArbAlign\", \"OTMol\"]\n",
    "for column in columns_to_plot:\n",
    "    plt.plot(combined_df['mer'], combined_df[column], marker='o', label=column)\n",
    "plt.title(\"Largest ArbAlign RMSD pairs\", fontsize=12)\n",
    "#plt.ylabel(\"RMSD Values\")\n",
    "plt.ylim(0, 3)\n",
    "plt.xticks(range(4,9), ['4 mer', '5 mer', '6 mer', '7 mer', '8 mer'], fontsize=12)\n",
    "plt.legend()\n",
    "plt.grid(True)\n",
    "\n",
    "# Adjust layout to prevent overlap\n",
    "plt.tight_layout()\n",
    "\n",
    "# Save the combined figure\n",
    "plt.savefig('../images/cp_three_datasets.png', dpi=300, bbox_inches='tight')\n",
    "plt.show()"
   ]
  },
  {
   "cell_type": "code",
   "execution_count": 12,
   "metadata": {},
   "outputs": [
    {
     "data": {
      "image/png": "[encoded data removed]",
      "text/plain": [
       "<Figure size 720x432 with 1 Axes>"
      ]
     },
     "metadata": {
      "needs_background": "light"
     },
     "output_type": "display_data"
    }
   ],
   "source": [
    "combined_df = pd.concat([\n",
    "    group1_info['mer'], \n",
    "    group1_res.rename(columns={'RMSD(OTMol)': 'Most similar dihedral angles'}), \n",
    "    group2_res.rename(columns={'RMSD(OTMol)': 'Most different dihedral angles'}), \n",
    "    group3_res.rename(columns={'RMSD(OTMol)': 'Largest ArbAlign RMSD'})\n",
    "    ], axis=1)\n",
    "columns_to_plot = [\"Most similar dihedral angles\", \"Most different dihedral angles\", \"Largest ArbAlign RMSD\"]\n",
    "plt.figure(figsize=(10,6))\n",
    "for column in columns_to_plot:\n",
    "    plt.plot(combined_df['mer'], combined_df[column], marker='o', label=column)\n",
    "plt.title(\"RMSD Comparison, cyclic peptides, otmol\")\n",
    "plt.xlabel(\"Index\")\n",
    "plt.ylabel(\"RMSD Values\")\n",
    "plt.ylim(0, 2)\n",
    "plt.xticks(range(4,9))\n",
    "plt.legend()\n",
    "plt.grid(True)"
   ]
  },
  {
   "cell_type": "code",
   "execution_count": 13,
   "metadata": {},
   "outputs": [
    {
     "data": {
      "application/vnd.plotly.v1+json": {
       "config": {
        "plotlyServerURL": "https://plot.ly",
        "toImageButtonOptions": {
         "format": "png",
         "height": 500,
         "scale": 2,
         "width": 700
        }
       },
       "data": [
        {
         "marker": {
          "color": "red",
          "size": [
           14.2,
           15.2,
           15.2,
           13.200000000000001,
           14.2,
           15.2,
           15.2,
           13.200000000000001,
           14.2,
           15.2,
           15.2,
           13.200000000000001,
           14.2,
           15.2,
           15.2,
           13.200000000000001
          ],
          "symbol": "circle"
         },
         "mode": "markers",
         "name": "ALPRAL10_2_fixed_backbone",
         "type": "scatter3d",
         "x": {
          "bdata": "16NwPQrXBEArhxbZzvcDQO58PzVeugdAdZMYBFYOEEBkO99PjZcBQKJFtvP91Ow/nMQgsHJo7T/4U+Olm8TAv7gehetRuABADAIrhxbZAUAAAAAAAAAKQKabxCCw8hBAke18PzVeCEC+nxov3ST8P6AaL90kBvk/WDm0yHa+3z8=",
          "dtype": "f8"
         },
         "y": {
          "bdata": "30+Nl24SHUB56SYxCKweQMUgsHJoERpAJzEIrBxaGkC0yHa+n5oVQPyp8dJN4hRASgwCK4eWEkCiRbbz/VQSQLByaJHt/BBAc2iR7Xw/DkBOYhBYObQSQIPAyqFFthBA5dAi2/n+F0DjpZvEILAaQB1aZDvfTx1ARrbz/dR4H0A=",
          "dtype": "f8"
         },
         "z": {
          "bdata": "I9v5fmr8IUAnMQisHFoeQCGwcmiR7RpA16NwPQpXGEBzaJHtfL8aQHNoke18Px1ANV66SQyCIUBOYhBYObQiQHsUrkfheiJAc2iR7Xw/JUCNl24Sg8AmQHWTGARWzidAZDvfT43XJkD+1HjpJnEmQIts5/upsSNAVg4tsp0vI0A=",
          "dtype": "f8"
         }
        },
        {
         "marker": {
          "color": "blue",
          "size": [
           14.2,
           15.2,
           15.2,
           13.200000000000001,
           14.2,
           15.2,
           15.2,
           13.200000000000001,
           14.2,
           15.2,
           15.2,
           13.200000000000001,
           14.2,
           15.2,
           15.2,
           13.200000000000001
          ],
          "symbol": "circle"
         },
         "mode": "markers",
         "name": "CEJSUF_fixed_backbone",
         "type": "scatter3d",
         "x": {
          "bdata": "0CiwYVpAAkAAPurio9DuP2DlWNq4Pu0/wOUi1fNixL9QiXZDpa8AQIIEm6sNogFAXvtk/rzSCUB6f9p9E7EQQDnqmT8NJwhAaLnYLHRf/D8ELmNMnLL5P/g4b9TxVOE/JGgKDGYXBUDysuhByocEQO118L9ZtQdAA7lOqVvEDkA=",
          "dtype": "f8"
         },
         "y": {
          "bdata": "hJ7uqEidFUAwXtMsmtcUQEo7beuyeBJAVPwxshD6EUASE0d7Zv4QQH7Q0NikPg5A4IT+b7aCEkCilFSGH4UQQFRWsQqw6BdARNkLoKy+GkBjLFuokEwdQFCzVC5Lfh9AEe/oGxz2HEAe88liPd8eQM+kYYjmYBpAPsHKmLrbGkA=",
          "dtype": "f8"
         },
         "z": {
          "bdata": "Knxk26UDG0AYoEJFiG4dQG4ai+hqiyFAjk7ENMqqIkBAUJXtQp0iQJZgD58oVyVAXGEWGGjfJkB6mHEMdQwoQC5e3JCh4SZAUfefmLRlJkDeIq2CdasjQHJxOzFtGCNAIQaEdDD1IUDdnt+m3mgeQNcNXsYPkRpAsCNPBo5PF0A=",
          "dtype": "f8"
         }
        },
        {
         "line": {
          "color": "red",
          "width": 2
         },
         "mode": "lines",
         "showlegend": false,
         "type": "scatter3d",
         "x": [
          2.605,
          2.496
         ],
         "y": [
          7.268,
          7.668
         ],
         "z": [
          8.993,
          7.588
         ]
        },
        {
         "line": {
          "color": "red",
          "width": 2
         },
         "mode": "lines",
         "showlegend": false,
         "type": "scatter3d",
         "x": [
          2.605,
          1.564
         ],
         "y": [
          7.268,
          7.328
         ],
         "z": [
          8.993,
          9.847
         ]
        },
        {
         "line": {
          "color": "red",
          "width": 2
         },
         "mode": "lines",
         "showlegend": false,
         "type": "scatter3d",
         "x": [
          2.496,
          2.966
         ],
         "y": [
          7.668,
          6.517
         ],
         "z": [
          7.588,
          6.732
         ]
        },
        {
         "line": {
          "color": "red",
          "width": 2
         },
         "mode": "lines",
         "showlegend": false,
         "type": "scatter3d",
         "x": [
          2.966,
          4.014
         ],
         "y": [
          6.517,
          6.588
         ],
         "z": [
          6.732,
          6.085
         ]
        },
        {
         "line": {
          "color": "red",
          "width": 2
         },
         "mode": "lines",
         "showlegend": false,
         "type": "scatter3d",
         "x": [
          2.966,
          2.199
         ],
         "y": [
          6.517,
          5.401
         ],
         "z": [
          6.732,
          6.687
         ]
        },
        {
         "line": {
          "color": "red",
          "width": 2
         },
         "mode": "lines",
         "showlegend": false,
         "type": "scatter3d",
         "x": [
          2.199,
          0.901
         ],
         "y": [
          5.401,
          5.221
         ],
         "z": [
          6.687,
          7.312
         ]
        },
        {
         "line": {
          "color": "red",
          "width": 2
         },
         "mode": "lines",
         "showlegend": false,
         "type": "scatter3d",
         "x": [
          0.901,
          0.919
         ],
         "y": [
          5.221,
          4.647
         ],
         "z": [
          7.312,
          8.754
         ]
        },
        {
         "line": {
          "color": "red",
          "width": 2
         },
         "mode": "lines",
         "showlegend": false,
         "type": "scatter3d",
         "x": [
          0.919,
          -0.131
         ],
         "y": [
          4.647,
          4.583
         ],
         "z": [
          8.754,
          9.352
         ]
        },
        {
         "line": {
          "color": "red",
          "width": 2
         },
         "mode": "lines",
         "showlegend": false,
         "type": "scatter3d",
         "x": [
          0.919,
          2.09
         ],
         "y": [
          4.647,
          4.247
         ],
         "z": [
          8.754,
          9.24
         ]
        },
        {
         "line": {
          "color": "red",
          "width": 2
         },
         "mode": "lines",
         "showlegend": false,
         "type": "scatter3d",
         "x": [
          2.09,
          2.231
         ],
         "y": [
          4.247,
          3.781
         ],
         "z": [
          9.24,
          10.624
         ]
        },
        {
         "line": {
          "color": "red",
          "width": 2
         },
         "mode": "lines",
         "showlegend": false,
         "type": "scatter3d",
         "x": [
          2.231,
          3.25
         ],
         "y": [
          3.781,
          4.676
         ],
         "z": [
          10.624,
          11.376
         ]
        },
        {
         "line": {
          "color": "red",
          "width": 2
         },
         "mode": "lines",
         "showlegend": false,
         "type": "scatter3d",
         "x": [
          3.25,
          4.237
         ],
         "y": [
          4.676,
          4.178
         ],
         "z": [
          11.376,
          11.903
         ]
        },
        {
         "line": {
          "color": "red",
          "width": 2
         },
         "mode": "lines",
         "showlegend": false,
         "type": "scatter3d",
         "x": [
          3.25,
          3.046
         ],
         "y": [
          4.676,
          5.999
         ],
         "z": [
          11.376,
          11.421
         ]
        },
        {
         "line": {
          "color": "red",
          "width": 2
         },
         "mode": "lines",
         "showlegend": false,
         "type": "scatter3d",
         "x": [
          3.046,
          1.759
         ],
         "y": [
          5.999,
          6.672
         ],
         "z": [
          11.421,
          11.221
         ]
        },
        {
         "line": {
          "color": "red",
          "width": 2
         },
         "mode": "lines",
         "showlegend": false,
         "type": "scatter3d",
         "x": [
          1.759,
          1.564
         ],
         "y": [
          6.672,
          7.328
         ],
         "z": [
          11.221,
          9.847
         ]
        },
        {
         "line": {
          "color": "red",
          "width": 2
         },
         "mode": "lines",
         "showlegend": false,
         "type": "scatter3d",
         "x": [
          1.564,
          0.496
         ],
         "y": [
          7.328,
          7.868
         ],
         "z": [
          9.847,
          9.593
         ]
        },
        {
         "line": {
          "color": "blue",
          "width": 2
         },
         "mode": "lines",
         "showlegend": false,
         "type": "scatter3d",
         "x": [
          2.281422389210185,
          0.9629687721189271
         ],
         "y": [
          5.403597487987671,
          5.210549068833231
         ],
         "z": [
          6.753562381752127,
          7.357941705886354
         ]
        },
        {
         "line": {
          "color": "blue",
          "width": 2
         },
         "mode": "lines",
         "showlegend": false,
         "type": "scatter3d",
         "x": [
          2.281422389210185,
          2.9635500903375402
         ],
         "y": [
          5.403597487987671,
          6.594629412612632
         ],
         "z": [
          6.753562381752127,
          6.641661738863568
         ]
        },
        {
         "line": {
          "color": "blue",
          "width": 2
         },
         "mode": "lines",
         "showlegend": false,
         "type": "scatter3d",
         "x": [
          0.9629687721189271,
          0.9139065041155554
         ],
         "y": [
          5.210549068833231,
          4.617870024244278
         ],
         "z": [
          7.357941705886354,
          8.772300021152855
         ]
        },
        {
         "line": {
          "color": "blue",
          "width": 2
         },
         "mode": "lines",
         "showlegend": false,
         "type": "scatter3d",
         "x": [
          0.9139065041155554,
          -0.15926978976294315
         ],
         "y": [
          4.617870024244278,
          4.494204315472491
         ],
         "z": [
          8.772300021152855,
          9.333573960269202
         ]
        },
        {
         "line": {
          "color": "blue",
          "width": 2
         },
         "mode": "lines",
         "showlegend": false,
         "type": "scatter3d",
         "x": [
          0.9139065041155554,
          2.0857644339131767
         ],
         "y": [
          4.617870024244278,
          4.248437811101001
         ],
         "z": [
          8.772300021152855,
          9.307151245571845
         ]
        },
        {
         "line": {
          "color": "blue",
          "width": 2
         },
         "mode": "lines",
         "showlegend": false,
         "type": "scatter3d",
         "x": [
          2.0857644339131767,
          2.204127636593115
         ],
         "y": [
          4.248437811101001,
          3.7805878580784897
         ],
         "z": [
          9.307151245571845,
          10.670231791140662
         ]
        },
        {
         "line": {
          "color": "blue",
          "width": 2
         },
         "mode": "lines",
         "showlegend": false,
         "type": "scatter3d",
         "x": [
          2.204127636593115,
          3.2278995394294006
         ],
         "y": [
          3.7805878580784897,
          4.627649068746194
         ],
         "z": [
          10.670231791140662,
          11.436341049892398
         ]
        },
        {
         "line": {
          "color": "blue",
          "width": 2
         },
         "mode": "lines",
         "showlegend": false,
         "type": "scatter3d",
         "x": [
          3.2278995394294006,
          4.172925917111451
         ],
         "y": [
          4.627649068746194,
          4.130003069794073
         ],
         "z": [
          11.436341049892398,
          12.024330510012295
         ]
        },
        {
         "line": {
          "color": "blue",
          "width": 2
         },
         "mode": "lines",
         "showlegend": false,
         "type": "scatter3d",
         "x": [
          3.2278995394294006,
          3.0190682381483183
         ],
         "y": [
          4.627649068746194,
          5.977234046052747
         ],
         "z": [
          11.436341049892398,
          11.440685774708154
         ]
        },
        {
         "line": {
          "color": "blue",
          "width": 2
         },
         "mode": "lines",
         "showlegend": false,
         "type": "scatter3d",
         "x": [
          3.0190682381483183,
          1.773304152662229
         ],
         "y": [
          5.977234046052747,
          6.686205387805163
         ],
         "z": [
          11.440685774708154,
          11.19864346459113
         ]
        },
        {
         "line": {
          "color": "blue",
          "width": 2
         },
         "mode": "lines",
         "showlegend": false,
         "type": "scatter3d",
         "x": [
          1.773304152662229,
          1.6061060890086774
         ],
         "y": [
          6.686205387805163,
          7.32477057510832
         ],
         "z": [
          11.19864346459113,
          9.834880908617773
         ]
        },
        {
         "line": {
          "color": "blue",
          "width": 2
         },
         "mode": "lines",
         "showlegend": false,
         "type": "scatter3d",
         "x": [
          1.6061060890086774,
          0.541619219695149
         ],
         "y": [
          7.32477057510832,
          7.873333667678551
         ],
         "z": [
          9.834880908617773,
          9.547708071237796
         ]
        },
        {
         "line": {
          "color": "blue",
          "width": 2
         },
         "mode": "lines",
         "showlegend": false,
         "type": "scatter3d",
         "x": [
          1.6061060890086774,
          2.6364251080203918
         ],
         "y": [
          7.32477057510832,
          7.2403416024133245
         ],
         "z": [
          9.834880908617773,
          8.978885308376507
         ]
        },
        {
         "line": {
          "color": "blue",
          "width": 2
         },
         "mode": "lines",
         "showlegend": false,
         "type": "scatter3d",
         "x": [
          2.6364251080203918,
          2.5663037442339993
         ],
         "y": [
          7.2403416024133245,
          7.718007606102018
         ],
         "z": [
          8.978885308376507,
          7.602411849402157
         ]
        },
        {
         "line": {
          "color": "blue",
          "width": 2
         },
         "mode": "lines",
         "showlegend": false,
         "type": "scatter3d",
         "x": [
          2.5663037442339993,
          2.9635500903375402
         ],
         "y": [
          7.718007606102018,
          6.594629412612632
         ],
         "z": [
          7.602411849402157,
          6.641661738863568
         ]
        },
        {
         "line": {
          "color": "blue",
          "width": 2
         },
         "mode": "lines",
         "showlegend": false,
         "type": "scatter3d",
         "x": [
          2.9635500903375402,
          3.845877955164839
         ],
         "y": [
          6.594629412612632,
          6.714578997969793
         ],
         "z": [
          6.641661738863568,
          5.8276902185252055
         ]
        },
        {
         "line": {
          "color": "green",
          "dash": "longdash",
          "width": 3
         },
         "mode": "lines",
         "showlegend": false,
         "type": "scatter3d",
         "x": [
          2.605,
          2.6364251080203918
         ],
         "y": [
          7.268,
          7.2403416024133245
         ],
         "z": [
          8.993,
          8.978885308376507
         ]
        },
        {
         "line": {
          "color": "green",
          "dash": "longdash",
          "width": 3
         },
         "mode": "lines",
         "showlegend": false,
         "type": "scatter3d",
         "x": [
          2.496,
          2.5663037442339993
         ],
         "y": [
          7.668,
          7.718007606102018
         ],
         "z": [
          7.588,
          7.602411849402157
         ]
        },
        {
         "line": {
          "color": "green",
          "dash": "longdash",
          "width": 3
         },
         "mode": "lines",
         "showlegend": false,
         "type": "scatter3d",
         "x": [
          2.966,
          2.9635500903375402
         ],
         "y": [
          6.517,
          6.594629412612632
         ],
         "z": [
          6.732,
          6.641661738863568
         ]
        },
        {
         "line": {
          "color": "green",
          "dash": "longdash",
          "width": 3
         },
         "mode": "lines",
         "showlegend": false,
         "type": "scatter3d",
         "x": [
          4.014,
          3.845877955164839
         ],
         "y": [
          6.588,
          6.714578997969793
         ],
         "z": [
          6.085,
          5.8276902185252055
         ]
        },
        {
         "line": {
          "color": "green",
          "dash": "longdash",
          "width": 3
         },
         "mode": "lines",
         "showlegend": false,
         "type": "scatter3d",
         "x": [
          2.199,
          2.281422389210185
         ],
         "y": [
          5.401,
          5.403597487987671
         ],
         "z": [
          6.687,
          6.753562381752127
         ]
        },
        {
         "line": {
          "color": "green",
          "dash": "longdash",
          "width": 3
         },
         "mode": "lines",
         "showlegend": false,
         "type": "scatter3d",
         "x": [
          0.901,
          0.9629687721189271
         ],
         "y": [
          5.221,
          5.210549068833231
         ],
         "z": [
          7.312,
          7.357941705886354
         ]
        },
        {
         "line": {
          "color": "green",
          "dash": "longdash",
          "width": 3
         },
         "mode": "lines",
         "showlegend": false,
         "type": "scatter3d",
         "x": [
          0.919,
          0.9139065041155554
         ],
         "y": [
          4.647,
          4.617870024244278
         ],
         "z": [
          8.754,
          8.772300021152855
         ]
        },
        {
         "line": {
          "color": "green",
          "dash": "longdash",
          "width": 3
         },
         "mode": "lines",
         "showlegend": false,
         "type": "scatter3d",
         "x": [
          -0.131,
          -0.15926978976294315
         ],
         "y": [
          4.583,
          4.494204315472491
         ],
         "z": [
          9.352,
          9.333573960269202
         ]
        },
        {
         "line": {
          "color": "green",
          "dash": "longdash",
          "width": 3
         },
         "mode": "lines",
         "showlegend": false,
         "type": "scatter3d",
         "x": [
          2.09,
          2.0857644339131767
         ],
         "y": [
          4.247,
          4.248437811101001
         ],
         "z": [
          9.24,
          9.307151245571845
         ]
        },
        {
         "line": {
          "color": "green",
          "dash": "longdash",
          "width": 3
         },
         "mode": "lines",
         "showlegend": false,
         "type": "scatter3d",
         "x": [
          2.231,
          2.204127636593115
         ],
         "y": [
          3.781,
          3.7805878580784897
         ],
         "z": [
          10.624,
          10.670231791140662
         ]
        },
        {
         "line": {
          "color": "green",
          "dash": "longdash",
          "width": 3
         },
         "mode": "lines",
         "showlegend": false,
         "type": "scatter3d",
         "x": [
          3.25,
          3.2278995394294006
         ],
         "y": [
          4.676,
          4.627649068746194
         ],
         "z": [
          11.376,
          11.436341049892398
         ]
        },
        {
         "line": {
          "color": "green",
          "dash": "longdash",
          "width": 3
         },
         "mode": "lines",
         "showlegend": false,
         "type": "scatter3d",
         "x": [
          4.237,
          4.172925917111451
         ],
         "y": [
          4.178,
          4.130003069794073
         ],
         "z": [
          11.903,
          12.024330510012295
         ]
        },
        {
         "line": {
          "color": "green",
          "dash": "longdash",
          "width": 3
         },
         "mode": "lines",
         "showlegend": false,
         "type": "scatter3d",
         "x": [
          3.046,
          3.0190682381483183
         ],
         "y": [
          5.999,
          5.977234046052747
         ],
         "z": [
          11.421,
          11.440685774708154
         ]
        },
        {
         "line": {
          "color": "green",
          "dash": "longdash",
          "width": 3
         },
         "mode": "lines",
         "showlegend": false,
         "type": "scatter3d",
         "x": [
          1.759,
          1.773304152662229
         ],
         "y": [
          6.672,
          6.686205387805163
         ],
         "z": [
          11.221,
          11.19864346459113
         ]
        },
        {
         "line": {
          "color": "green",
          "dash": "longdash",
          "width": 3
         },
         "mode": "lines",
         "showlegend": false,
         "type": "scatter3d",
         "x": [
          1.564,
          1.6061060890086774
         ],
         "y": [
          7.328,
          7.32477057510832
         ],
         "z": [
          9.847,
          9.834880908617773
         ]
        },
        {
         "line": {
          "color": "green",
          "dash": "longdash",
          "width": 3
         },
         "mode": "lines",
         "showlegend": false,
         "type": "scatter3d",
         "x": [
          0.496,
          0.541619219695149
         ],
         "y": [
          7.868,
          7.873333667678551
         ],
         "z": [
          9.593,
          9.547708071237796
         ]
        }
       ],
       "layout": {
        "scene": {
         "aspectmode": "data",
         "xaxis": {
          "title": {
           "text": "X"
          },
          "visible": false
         },
         "yaxis": {
          "title": {
           "text": "Y"
          },
          "visible": false
         },
         "zaxis": {
          "title": {
           "text": "Z"
          },
          "visible": false
         }
        },
        "showlegend": true,
        "template": {
         "data": {
          "bar": [
           {
            "error_x": {
             "color": "#2a3f5f"
            },
            "error_y": {
             "color": "#2a3f5f"
            },
            "marker": {
             "line": {
              "color": "#E5ECF6",
              "width": 0.5
             },
             "pattern": {
              "fillmode": "overlay",
              "size": 10,
              "solidity": 0.2
             }
            },
            "type": "bar"
           }
          ],
          "barpolar": [
           {
            "marker": {
             "line": {
              "color": "#E5ECF6",
              "width": 0.5
             },
             "pattern": {
              "fillmode": "overlay",
              "size": 10,
              "solidity": 0.2
             }
            },
            "type": "barpolar"
           }
          ],
          "carpet": [
           {
            "aaxis": {
             "endlinecolor": "#2a3f5f",
             "gridcolor": "white",
             "linecolor": "white",
             "minorgridcolor": "white",
             "startlinecolor": "#2a3f5f"
            },
            "baxis": {
             "endlinecolor": "#2a3f5f",
             "gridcolor": "white",
             "linecolor": "white",
             "minorgridcolor": "white",
             "startlinecolor": "#2a3f5f"
            },
            "type": "carpet"
           }
          ],
          "choropleth": [
           {
            "colorbar": {
             "outlinewidth": 0,
             "ticks": ""
            },
            "type": "choropleth"
           }
          ],
          "contour": [
           {
            "colorbar": {
             "outlinewidth": 0,
             "ticks": ""
            },
            "colorscale": [
             [
              0,
              "#0d0887"
             ],
             [
              0.1111111111111111,
              "#46039f"
             ],
             [
              0.2222222222222222,
              "#7201a8"
             ],
             [
              0.3333333333333333,
              "#9c179e"
             ],
             [
              0.4444444444444444,
              "#bd3786"
             ],
             [
              0.5555555555555556,
              "#d8576b"
             ],
             [
              0.6666666666666666,
              "#ed7953"
             ],
             [
              0.7777777777777778,
              "#fb9f3a"
             ],
             [
              0.8888888888888888,
              "#fdca26"
             ],
             [
              1,
              "#f0f921"
             ]
            ],
            "type": "contour"
           }
          ],
          "contourcarpet": [
           {
            "colorbar": {
             "outlinewidth": 0,
             "ticks": ""
            },
            "type": "contourcarpet"
           }
          ],
          "heatmap": [
           {
            "colorbar": {
             "outlinewidth": 0,
             "ticks": ""
            },
            "colorscale": [
             [
              0,
              "#0d0887"
             ],
             [
              0.1111111111111111,
              "#46039f"
             ],
             [
              0.2222222222222222,
              "#7201a8"
             ],
             [
              0.3333333333333333,
              "#9c179e"
             ],
             [
              0.4444444444444444,
              "#bd3786"
             ],
             [
              0.5555555555555556,
              "#d8576b"
             ],
             [
              0.6666666666666666,
              "#ed7953"
             ],
             [
              0.7777777777777778,
              "#fb9f3a"
             ],
             [
              0.8888888888888888,
              "#fdca26"
             ],
             [
              1,
              "#f0f921"
             ]
            ],
            "type": "heatmap"
           }
          ],
          "histogram": [
           {
            "marker": {
             "pattern": {
              "fillmode": "overlay",
              "size": 10,
              "solidity": 0.2
             }
            },
            "type": "histogram"
           }
          ],
          "histogram2d": [
           {
            "colorbar": {
             "outlinewidth": 0,
             "ticks": ""
            },
            "colorscale": [
             [
              0,
              "#0d0887"
             ],
             [
              0.1111111111111111,
              "#46039f"
             ],
             [
              0.2222222222222222,
              "#7201a8"
             ],
             [
              0.3333333333333333,
              "#9c179e"
             ],
             [
              0.4444444444444444,
              "#bd3786"
             ],
             [
              0.5555555555555556,
              "#d8576b"
             ],
             [
              0.6666666666666666,
              "#ed7953"
             ],
             [
              0.7777777777777778,
              "#fb9f3a"
             ],
             [
              0.8888888888888888,
              "#fdca26"
             ],
             [
              1,
              "#f0f921"
             ]
            ],
            "type": "histogram2d"
           }
          ],
          "histogram2dcontour": [
           {
            "colorbar": {
             "outlinewidth": 0,
             "ticks": ""
            },
            "colorscale": [
             [
              0,
              "#0d0887"
             ],
             [
              0.1111111111111111,
              "#46039f"
             ],
             [
              0.2222222222222222,
              "#7201a8"
             ],
             [
              0.3333333333333333,
              "#9c179e"
             ],
             [
              0.4444444444444444,
              "#bd3786"
             ],
             [
              0.5555555555555556,
              "#d8576b"
             ],
             [
              0.6666666666666666,
              "#ed7953"
             ],
             [
              0.7777777777777778,
              "#fb9f3a"
             ],
             [
              0.8888888888888888,
              "#fdca26"
             ],
             [
              1,
              "#f0f921"
             ]
            ],
            "type": "histogram2dcontour"
           }
          ],
          "mesh3d": [
           {
            "colorbar": {
             "outlinewidth": 0,
             "ticks": ""
            },
            "type": "mesh3d"
           }
          ],
          "parcoords": [
           {
            "line": {
             "colorbar": {
              "outlinewidth": 0,
              "ticks": ""
             }
            },
            "type": "parcoords"
           }
          ],
          "pie": [
           {
            "automargin": true,
            "type": "pie"
           }
          ],
          "scatter": [
           {
            "fillpattern": {
             "fillmode": "overlay",
             "size": 10,
             "solidity": 0.2
            },
            "type": "scatter"
           }
          ],
          "scatter3d": [
           {
            "line": {
             "colorbar": {
              "outlinewidth": 0,
              "ticks": ""
             }
            },
            "marker": {
             "colorbar": {
              "outlinewidth": 0,
              "ticks": ""
             }
            },
            "type": "scatter3d"
           }
          ],
          "scattercarpet": [
           {
            "marker": {
             "colorbar": {
              "outlinewidth": 0,
              "ticks": ""
             }
            },
            "type": "scattercarpet"
           }
          ],
          "scattergeo": [
           {
            "marker": {
             "colorbar": {
              "outlinewidth": 0,
              "ticks": ""
             }
            },
            "type": "scattergeo"
           }
          ],
          "scattergl": [
           {
            "marker": {
             "colorbar": {
              "outlinewidth": 0,
              "ticks": ""
             }
            },
            "type": "scattergl"
           }
          ],
          "scattermap": [
           {
            "marker": {
             "colorbar": {
              "outlinewidth": 0,
              "ticks": ""
             }
            },
            "type": "scattermap"
           }
          ],
          "scattermapbox": [
           {
            "marker": {
             "colorbar": {
              "outlinewidth": 0,
              "ticks": ""
             }
            },
            "type": "scattermapbox"
           }
          ],
          "scatterpolar": [
           {
            "marker": {
             "colorbar": {
              "outlinewidth": 0,
              "ticks": ""
             }
            },
            "type": "scatterpolar"
           }
          ],
          "scatterpolargl": [
           {
            "marker": {
             "colorbar": {
              "outlinewidth": 0,
              "ticks": ""
             }
            },
            "type": "scatterpolargl"
           }
          ],
          "scatterternary": [
           {
            "marker": {
             "colorbar": {
              "outlinewidth": 0,
              "ticks": ""
             }
            },
            "type": "scatterternary"
           }
          ],
          "surface": [
           {
            "colorbar": {
             "outlinewidth": 0,
             "ticks": ""
            },
            "colorscale": [
             [
              0,
              "#0d0887"
             ],
             [
              0.1111111111111111,
              "#46039f"
             ],
             [
              0.2222222222222222,
              "#7201a8"
             ],
             [
              0.3333333333333333,
              "#9c179e"
             ],
             [
              0.4444444444444444,
              "#bd3786"
             ],
             [
              0.5555555555555556,
              "#d8576b"
             ],
             [
              0.6666666666666666,
              "#ed7953"
             ],
             [
              0.7777777777777778,
              "#fb9f3a"
             ],
             [
              0.8888888888888888,
              "#fdca26"
             ],
             [
              1,
              "#f0f921"
             ]
            ],
            "type": "surface"
           }
          ],
          "table": [
           {
            "cells": {
             "fill": {
              "color": "#EBF0F8"
             },
             "line": {
              "color": "white"
             }
            },
            "header": {
             "fill": {
              "color": "#C8D4E3"
             },
             "line": {
              "color": "white"
             }
            },
            "type": "table"
           }
          ]
         },
         "layout": {
          "annotationdefaults": {
           "arrowcolor": "#2a3f5f",
           "arrowhead": 0,
           "arrowwidth": 1
          },
          "autotypenumbers": "strict",
          "coloraxis": {
           "colorbar": {
            "outlinewidth": 0,
            "ticks": ""
           }
          },
          "colorscale": {
           "diverging": [
            [
             0,
             "#8e0152"
            ],
            [
             0.1,
             "#c51b7d"
            ],
            [
             0.2,
             "#de77ae"
            ],
            [
             0.3,
             "#f1b6da"
            ],
            [
             0.4,
             "#fde0ef"
            ],
            [
             0.5,
             "#f7f7f7"
            ],
            [
             0.6,
             "#e6f5d0"
            ],
            [
             0.7,
             "#b8e186"
            ],
            [
             0.8,
             "#7fbc41"
            ],
            [
             0.9,
             "#4d9221"
            ],
            [
             1,
             "#276419"
            ]
           ],
           "sequential": [
            [
             0,
             "#0d0887"
            ],
            [
             0.1111111111111111,
             "#46039f"
            ],
            [
             0.2222222222222222,
             "#7201a8"
            ],
            [
             0.3333333333333333,
             "#9c179e"
            ],
            [
             0.4444444444444444,
             "#bd3786"
            ],
            [
             0.5555555555555556,
             "#d8576b"
            ],
            [
             0.6666666666666666,
             "#ed7953"
            ],
            [
             0.7777777777777778,
             "#fb9f3a"
            ],
            [
             0.8888888888888888,
             "#fdca26"
            ],
            [
             1,
             "#f0f921"
            ]
           ],
           "sequentialminus": [
            [
             0,
             "#0d0887"
            ],
            [
             0.1111111111111111,
             "#46039f"
            ],
            [
             0.2222222222222222,
             "#7201a8"
            ],
            [
             0.3333333333333333,
             "#9c179e"
            ],
            [
             0.4444444444444444,
             "#bd3786"
            ],
            [
             0.5555555555555556,
             "#d8576b"
            ],
            [
             0.6666666666666666,
             "#ed7953"
            ],
            [
             0.7777777777777778,
             "#fb9f3a"
            ],
            [
             0.8888888888888888,
             "#fdca26"
            ],
            [
             1,
             "#f0f921"
            ]
           ]
          },
          "colorway": [
           "#636efa",
           "#EF553B",
           "#00cc96",
           "#ab63fa",
           "#FFA15A",
           "#19d3f3",
           "#FF6692",
           "#B6E880",
           "#FF97FF",
           "#FECB52"
          ],
          "font": {
           "color": "#2a3f5f"
          },
          "geo": {
           "bgcolor": "white",
           "lakecolor": "white",
           "landcolor": "#E5ECF6",
           "showlakes": true,
           "showland": true,
           "subunitcolor": "white"
          },
          "hoverlabel": {
           "align": "left"
          },
          "hovermode": "closest",
          "mapbox": {
           "style": "light"
          },
          "paper_bgcolor": "white",
          "plot_bgcolor": "#E5ECF6",
          "polar": {
           "angularaxis": {
            "gridcolor": "white",
            "linecolor": "white",
            "ticks": ""
           },
           "bgcolor": "#E5ECF6",
           "radialaxis": {
            "gridcolor": "white",
            "linecolor": "white",
            "ticks": ""
           }
          },
          "scene": {
           "xaxis": {
            "backgroundcolor": "#E5ECF6",
            "gridcolor": "white",
            "gridwidth": 2,
            "linecolor": "white",
            "showbackground": true,
            "ticks": "",
            "zerolinecolor": "white"
           },
           "yaxis": {
            "backgroundcolor": "#E5ECF6",
            "gridcolor": "white",
            "gridwidth": 2,
            "linecolor": "white",
            "showbackground": true,
            "ticks": "",
            "zerolinecolor": "white"
           },
           "zaxis": {
            "backgroundcolor": "#E5ECF6",
            "gridcolor": "white",
            "gridwidth": 2,
            "linecolor": "white",
            "showbackground": true,
            "ticks": "",
            "zerolinecolor": "white"
           }
          },
          "shapedefaults": {
           "line": {
            "color": "#2a3f5f"
           }
          },
          "ternary": {
           "aaxis": {
            "gridcolor": "white",
            "linecolor": "white",
            "ticks": ""
           },
           "baxis": {
            "gridcolor": "white",
            "linecolor": "white",
            "ticks": ""
           },
           "bgcolor": "#E5ECF6",
           "caxis": {
            "gridcolor": "white",
            "linecolor": "white",
            "ticks": ""
           }
          },
          "title": {
           "x": 0.05
          },
          "xaxis": {
           "automargin": true,
           "gridcolor": "white",
           "linecolor": "white",
           "ticks": "",
           "title": {
            "standoff": 15
           },
           "zerolinecolor": "white",
           "zerolinewidth": 2
          },
          "yaxis": {
           "automargin": true,
           "gridcolor": "white",
           "linecolor": "white",
           "ticks": "",
           "title": {
            "standoff": 15
           },
           "zerolinecolor": "white",
           "zerolinewidth": 2
          }
         }
        },
        "title": {
         "text": "ALPRAL10_2_fixed_backbone CEJSUF_fixed_backbone Alignment"
        }
       }
      }
     },
     "metadata": {},
     "output_type": "display_data"
    }
   ],
   "source": [
    "group1_data_path = \"../Data/Our_Benchmark_20250410_ver1/Cyclic_Peptide/Backbone_Most_Similar\"\n",
    "molA = next(pybel.readfile(\"xyz\", os.path.join(group1_data_path, 'c4mers', 'ALPRAL10_2_fixed_backbone.xyz')))\n",
    "molB = next(pybel.readfile(\"xyz\", os.path.join(group1_data_path, 'c4mers', 'CEJSUF_fixed_backbone.xyz')))\n",
    "X_A, T_A, B_A = otm.tl.process_molecule(molA) \n",
    "X_B, T_B, B_B = otm.tl.process_molecule(molB)\n",
    "assignment = group1_res['assignment'][0]\n",
    "X_B_aligned, _, _ = otm.tl.kabsch(X_A, X_B, otm.tl.permutation_to_matrix(assignment))\n",
    "otm.pl.interactive_alignment_plot(X_A, X_B_aligned, T_A, T_B, B_A, B_B, assignment, 'ALPRAL10_2_fixed_backbone', 'CEJSUF_fixed_backbone')"
   ]
  }
 ],
 "metadata": {
  "kernelspec": {
   "display_name": "py39",
   "language": "python",
   "name": "python3"
  },
  "language_info": {
   "codemirror_mode": {
    "name": "ipython",
    "version": 3
   },
   "file_extension": ".py",
   "mimetype": "text/x-python",
   "name": "python",
   "nbconvert_exporter": "python",
   "pygments_lexer": "ipython3",
   "version": "3.9.16"
  }
 },
 "nbformat": 4,
 "nbformat_minor": 2
}
