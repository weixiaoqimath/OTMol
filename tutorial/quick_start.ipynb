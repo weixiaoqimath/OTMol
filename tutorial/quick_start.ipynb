{
 "cells": [
  {
   "cell_type": "code",
   "execution_count": 16,
   "metadata": {},
   "outputs": [],
   "source": [
    "import numpy as np\n",
    "import otmol as otm\n",
    "from openbabel import pybel\n",
    "import os\n",
    "# %matplotlib widget"
   ]
  },
  {
   "cell_type": "markdown",
   "metadata": {},
   "source": [
    "Let's first align two molecules with OTMol. First we load each molecule and get the coordinate array X (an (n, 3) array), the atom label array T (an (n, ) array), and the adjacency matrix B (an (n, n) array) that represents the graph structure. The adjacency matrix is only needed for visualization."
   ]
  },
  {
   "cell_type": "code",
   "execution_count": 13,
   "metadata": {},
   "outputs": [],
   "source": [
    "data_path = \"../Data/FGG-Tripeptide/\"\n",
    "nameA = '252_FGG55.xyz'\n",
    "nameB = '258_FGG224.xyz'\n",
    "molA = next(pybel.readfile(\"xyz\", os.path.join(data_path, nameA)))\n",
    "molB = next(pybel.readfile(\"xyz\", os.path.join(data_path, nameB)))\n",
    "X_A, T_A, B_A = otm.tl.process_molecule(molA) \n",
    "X_B, T_B, B_B = otm.tl.process_molecule(molB)\n",
    "# if your structure files are not xyz, you have to prepare X, T, and B yourself."
   ]
  },
  {
   "cell_type": "markdown",
   "metadata": {},
   "source": [
    "FGG_55 and FGG_224 are single molecules, so we use the function molecule_ot_and_alignment()."
   ]
  },
  {
   "cell_type": "code",
   "execution_count": 15,
   "metadata": {},
   "outputs": [
    {
     "name": "stdout",
     "output_type": "stream",
     "text": [
      "The RMSD of the alignment is 0.7462840440918397\n",
      "The atom assignment is [ 0  1  2  3  4  6  5  7  8  9 10 11 13 12 14 15 16 17 18 19 22 20 21 23\n",
      " 25 24 26 35 36 33 34 31 32 29 30 27 28]\n"
     ]
    }
   ],
   "source": [
    "alpha_list = alpha_list=np.linspace(0,0.5,50)\n",
    "assignment, rmsd_best, alpha_best = otm.tl.molecule_alignment(X_A, X_B, T_A, T_B, alpha_list = alpha_list)\n",
    "print('The RMSD of the alignment is', rmsd_best)\n",
    "print('The atom assignment is', assignment)"
   ]
  },
  {
   "cell_type": "markdown",
   "metadata": {},
   "source": [
    "We can use interactive_alignment_plot() to visualize the alignment. "
   ]
  },
  {
   "cell_type": "code",
   "execution_count": null,
   "metadata": {},
   "outputs": [],
   "source": [
    "# first change the assignment to a permutation matrix\n",
    "P = otm.tl.permutation_to_matrix(assignment)\n",
    "# then use kabsch to get the aligned coordinates\n",
    "X_B_aligned, _, _ = otm.tl.kabsch(X_A, X_B, P) \n",
    "otm.pl.interactive_alignment_plot(X_A, X_B_aligned, T_A, T_B, B_A, B_B, assignment = assignment, nameA = nameA, nameB = nameB, save = False)"
   ]
  },
  {
   "cell_type": "markdown",
   "metadata": {},
   "source": [
    "Now let's align two water clusters 10-PP1 and 10-PP2 with cluster_alignment(). We need to specify the number of atoms in a water molecule and the method to represent a water molecule."
   ]
  },
  {
   "cell_type": "code",
   "execution_count": 10,
   "metadata": {},
   "outputs": [
    {
     "name": "stdout",
     "output_type": "stream",
     "text": [
      "The number of candidate molecular level permutations is 310\n"
     ]
    },
    {
     "data": {
      "application/vnd.plotly.v1+json": {
       "config": {
        "plotlyServerURL": "https://plot.ly",
        "toImageButtonOptions": {
         "format": "png",
         "height": 500,
         "scale": 2,
         "width": 700
        }
       },
       "data": [
        {
         "marker": {
          "color": "red",
          "size": [
           13.200000000000001,
           6.2,
           6.2,
           13.200000000000001,
           6.2,
           6.2,
           13.200000000000001,
           6.2,
           6.2,
           13.200000000000001,
           6.2,
           6.2,
           13.200000000000001,
           6.2,
           6.2,
           13.200000000000001,
           6.2,
           6.2,
           13.200000000000001,
           6.2,
           6.2,
           13.200000000000001,
           6.2,
           6.2,
           13.200000000000001,
           6.2,
           6.2,
           13.200000000000001,
           6.2,
           6.2
          ],
          "symbol": "circle"
         },
         "mode": "markers",
         "name": "10-PP1",
         "type": "scatter3d",
         "x": {
          "bdata": "fH4YITza+z9pVyHlJ9UBQOutga0SLOw/O/w1WaMe9T+syr4rgv/3P81YNJ2dDPs/Fw6EZAET5r94f7xXrUzyv4vgfyvZsfW/u5unOuRm9L8xlBPtKqTUvxZNZyeDo/i/86s5QDBH/j8fLjnulA7uP5pfzQGCOQNArS8S2nIu57+PpQ9dUN/yv4/HDFTGv/C/3ZiesMQDur9GQlvOpbjSvzpdFhObj+k/MlpHVRNE/79x5ldzgOADwCcUIuAQqvO/3xrYKsFiA8ATChFwCNUAwEiKyLCKtwPAqkiFsYWgAkBkkpGzsCcCQGUBE7h1twJA",
          "dtype": "f8"
         },
         "y": {
          "bdata": "davnpPeN+T+eew+XHHcBQI1F09nJYABAujE9YYkH878OoUrNHmjNvyeIug9Aavi/bsDnhxHCBEAPKJtyhfcKQGLboswGmf0/Ug/R6A5i/L/1EI3uIHb4vzmX4qqybwLAtYmT+x0KAMBWgsXhzK8BwG/1nPS+8QXAEojX9Qt2A8CPqiaIug/7vxbe5SK+EwPANSkF3V7S/D+XHHdKB2sCQIIclDDT9vY/XoB9dOrKt7+L4H8r2bFBv6RTVz7L8+I/Vz7L8+Du4j9MiSR6GcXKv8R3YtaLodQ/7fDXZI166D/60AX1LXPKv2Yxsfm4NvE/",
          "dtype": "f8"
         },
         "z": {
          "bdata": "Y0UNpmH497+fH0YIj7YAwO1kcJS8OvW/kwA1tWyt/r/IzXADPj/+v8+9h0uOO/G/Bp57D5cc57/L1voioS3xv6nBNAwfEem/yO9t+rMf+7/fFcH/VrL9v5+wxAPKpgPAcY+lD11Q5z/jqrLviuDtP4ums5PBUfE/gosVNZiG8D9LAtTUsrX3P7STwVHy6rw/iIBDqFIzAEBMT1jiAWXzP2mpvB3htP0/GGAfnbry/z/+8V61MmEGQA2OklfnmABA3rBtUWaD5r9A+5EiMqzyvyE82jhiLc4/Bd1e0hit8z+PjUC8rl/yP89OBkfJq9M/",
          "dtype": "f8"
         }
        },
        {
         "marker": {
          "color": "blue",
          "size": [
           13.200000000000001,
           6.2,
           6.2,
           13.200000000000001,
           6.2,
           6.2,
           13.200000000000001,
           6.2,
           6.2,
           13.200000000000001,
           6.2,
           6.2,
           13.200000000000001,
           6.2,
           6.2,
           13.200000000000001,
           6.2,
           6.2,
           13.200000000000001,
           6.2,
           6.2,
           13.200000000000001,
           6.2,
           6.2,
           13.200000000000001,
           6.2,
           6.2,
           13.200000000000001,
           6.2,
           6.2
          ],
          "symbol": "circle"
         },
         "mode": "markers",
         "name": "10-PP2",
         "type": "scatter3d",
         "x": {
          "bdata": "kvvAFT1GA0D6Z6wRjIADQCbffg4nrfo/RqwAJr1e/T/iOW+lNtXwP7sabsTu1gJArLB1Ja3I8T90YxFAdBX2P7NDXqFan/c/4JFEL3TJAsDD5O9gIy4BwI+2zn4sNwPAprOhwxc/+L82l1cTjInhv733ladM2v2/X72Ukw3U/D8HIWD+FP8DQG3HqGiEZwBAZIVmG0pc3L89q+aHwxPzv4irc7OjDeq/bBE+169/779kFZb5/R16vzwVWf4rA/S/A3Lg0I6F/7+uccMzRrIEwMK4S6JFUvm/03zHtItRyD9Fge2iYGmpv03rVJug5uG/",
          "dtype": "f8"
         },
         "y": {
          "bdata": "mBUnl9AW3z/uZ5LeyV7rPzNPb8yGgu8/BqdyoYoX9j+aIagdUBD/P1jHdMi1Nf4/v+0poTOv9b90XRjX2aDavwR4bX+0dvu/lFXQIfud6j8VvuW6pRuJv7rLEWnmruI/5/Kwy4vP+r9yBTKhNbT4vwWw+joCmgHA8YTkEOd5AMCdDFqtTOsEwA23oSCt6/G/4dwtfqZEBUDA6ewOwO3/PwcABf9G3gtAw6gf9ldCAsC30AH4z2wCwMMzg54jJwLAdqWzk+lakT+z8bs0DnHEv2MX6VxQx+u/ilTVA/8S/j/EiqydK7kCQKfBBLnWU/Q/",
          "dtype": "f8"
         },
         "z": {
          "bdata": "GAD/vqsU8j/m7YL5nmLNP0z2FS98v/g/1RomDppB+b/8FRvuPeP1v9SXxROhtgHAmsKT+Yes/r9ButssyXb+v9GY+SGjW/G/TZZJxACo5L/Cp5+azpDxv1JTLDfJJNM/CfKfziIN+r9PrvdUVUf9vxj0FLYL3gLAKPUq3z2l5z8vNNRLXbfxP+ILwurTPu8/BHKBJoNx6L+V7qZMiWHpv7L7wLEEmvG/NY/XcQ3l8T8QiBRhflTxP4CrFso79sY/YYJEG2REAECUBSS5JQgGQPT8we8wnPw/KxwHbjne/z9woOZBk7HyP54O/ROLHAFA",
          "dtype": "f8"
         }
        },
        {
         "line": {
          "color": "red",
          "width": 2
         },
         "mode": "lines",
         "showlegend": false,
         "type": "scatter3d",
         "x": [
          1.74078,
          2.22908
         ],
         "y": [
          1.59716,
          2.18316
         ],
         "z": [
          -1.49814,
          -2.08914
         ]
        },
        {
         "line": {
          "color": "red",
          "width": 2
         },
         "mode": "lines",
         "showlegend": false,
         "type": "scatter3d",
         "x": [
          1.74078,
          0.88038
         ],
         "y": [
          1.59716,
          2.04726
         ],
         "z": [
          -1.49814,
          -1.32684
         ]
        },
        {
         "line": {
          "color": "red",
          "width": 2
         },
         "mode": "lines",
         "showlegend": false,
         "type": "scatter3d",
         "x": [
          1.31998,
          1.49988
         ],
         "y": [
          -1.18934,
          -0.22974
         ],
         "z": [
          -1.91734,
          -1.89044
         ]
        },
        {
         "line": {
          "color": "red",
          "width": 2
         },
         "mode": "lines",
         "showlegend": false,
         "type": "scatter3d",
         "x": [
          1.31998,
          1.69058
         ],
         "y": [
          -1.18934,
          -1.52594
         ],
         "z": [
          -1.91734,
          -1.07704
         ]
        },
        {
         "line": {
          "color": "red",
          "width": 2
         },
         "mode": "lines",
         "showlegend": false,
         "type": "scatter3d",
         "x": [
          -0.68982,
          -1.14372
         ],
         "y": [
          2.59476,
          3.37086
         ],
         "z": [
          -0.72224,
          -1.07364
         ]
        },
        {
         "line": {
          "color": "red",
          "width": 2
         },
         "mode": "lines",
         "showlegend": false,
         "type": "scatter3d",
         "x": [
          -0.68982,
          -1.35592
         ],
         "y": [
          2.59476,
          1.84986
         ],
         "z": [
          -0.72224,
          -0.78334
         ]
        },
        {
         "line": {
          "color": "red",
          "width": 2
         },
         "mode": "lines",
         "showlegend": false,
         "type": "scatter3d",
         "x": [
          -1.27512,
          -0.32252
         ],
         "y": [
          -1.77394,
          -1.52884
         ],
         "z": [
          -1.69524,
          -1.85604
         ]
        },
        {
         "line": {
          "color": "red",
          "width": 2
         },
         "mode": "lines",
         "showlegend": false,
         "type": "scatter3d",
         "x": [
          -1.27512,
          -1.53992
         ],
         "y": [
          -1.77394,
          -2.30454
         ],
         "z": [
          -1.69524,
          -2.45644
         ]
        },
        {
         "line": {
          "color": "red",
          "width": 2
         },
         "mode": "lines",
         "showlegend": false,
         "type": "scatter3d",
         "x": [
          1.89238,
          0.93928
         ],
         "y": [
          -2.00494,
          -2.21084
         ],
         "z": [
          0.72856,
          0.93366
         ]
        },
        {
         "line": {
          "color": "red",
          "width": 2
         },
         "mode": "lines",
         "showlegend": false,
         "type": "scatter3d",
         "x": [
          1.89238,
          2.40308
         ],
         "y": [
          -2.00494,
          -2.74304
         ],
         "z": [
          0.72856,
          1.08246
         ]
        },
        {
         "line": {
          "color": "red",
          "width": 2
         },
         "mode": "lines",
         "showlegend": false,
         "type": "scatter3d",
         "x": [
          -0.72442,
          -1.17952
         ],
         "y": [
          -2.43264,
          -1.69134
         ],
         "z": [
          1.03286,
          1.48186
         ]
        },
        {
         "line": {
          "color": "red",
          "width": 2
         },
         "mode": "lines",
         "showlegend": false,
         "type": "scatter3d",
         "x": [
          -0.72442,
          -1.04682
         ],
         "y": [
          -2.43264,
          -2.38464
         ],
         "z": [
          1.03286,
          0.11296
         ]
        },
        {
         "line": {
          "color": "red",
          "width": 2
         },
         "mode": "lines",
         "showlegend": false,
         "type": "scatter3d",
         "x": [
          -0.10162,
          -0.29252
         ],
         "y": [
          1.80136,
          2.30226
         ],
         "z": [
          2.02506,
          1.21216
         ]
        },
        {
         "line": {
          "color": "red",
          "width": 2
         },
         "mode": "lines",
         "showlegend": false,
         "type": "scatter3d",
         "x": [
          -0.10162,
          0.79878
         ],
         "y": [
          1.80136,
          1.43526
         ],
         "z": [
          2.02506,
          1.85666
         ]
        },
        {
         "line": {
          "color": "red",
          "width": 2
         },
         "mode": "lines",
         "showlegend": false,
         "type": "scatter3d",
         "x": [
          -1.95412,
          -2.48462
         ],
         "y": [
          -0.09294,
          -0.00054
         ],
         "z": [
          1.99676,
          2.79746
         ]
        },
        {
         "line": {
          "color": "red",
          "width": 2
         },
         "mode": "lines",
         "showlegend": false,
         "type": "scatter3d",
         "x": [
          -1.95412,
          -1.22902
         ],
         "y": [
          -0.09294,
          0.59226
         ],
         "z": [
          1.99676,
          2.07466
         ]
        },
        {
         "line": {
          "color": "red",
          "width": 2
         },
         "mode": "lines",
         "showlegend": false,
         "type": "scatter3d",
         "x": [
          -2.42322,
          -2.10402
         ],
         "y": [
          0.59166,
          -0.20914
         ],
         "z": [
          -0.70354,
          -1.16704
         ]
        },
        {
         "line": {
          "color": "red",
          "width": 2
         },
         "mode": "lines",
         "showlegend": false,
         "type": "scatter3d",
         "x": [
          -2.42322,
          -2.46462
         ],
         "y": [
          0.59166,
          0.32236
         ],
         "z": [
          -0.70354,
          0.23576
         ]
        },
        {
         "line": {
          "color": "red",
          "width": 2
         },
         "mode": "lines",
         "showlegend": false,
         "type": "scatter3d",
         "x": [
          2.32838,
          2.26938
         ],
         "y": [
          0.76496,
          -0.20664
         ],
         "z": [
          1.22976,
          1.14836
         ]
        },
        {
         "line": {
          "color": "red",
          "width": 2
         },
         "mode": "lines",
         "showlegend": false,
         "type": "scatter3d",
         "x": [
          2.32838,
          2.33958
         ],
         "y": [
          0.76496,
          1.07586
         ],
         "z": [
          1.22976,
          0.30736
         ]
        },
        {
         "line": {
          "color": "blue",
          "width": 2
         },
         "mode": "lines",
         "showlegend": false,
         "type": "scatter3d",
         "x": [
          2.40929619784533,
          2.4377671604861435
         ],
         "y": [
          0.48576750527384993,
          0.8553208682162656
         ],
         "z": [
          1.1300466023240059,
          0.22957217391181856
         ]
        },
        {
         "line": {
          "color": "blue",
          "width": 2
         },
         "mode": "lines",
         "showlegend": false,
         "type": "scatter3d",
         "x": [
          2.40929619784533,
          1.6672735754236299
         ],
         "y": [
          0.48576750527384993,
          0.9846834175936919
         ],
         "z": [
          1.1300466023240059,
          1.546749290398469
         ]
        },
        {
         "line": {
          "color": "blue",
          "width": 2
         },
         "mode": "lines",
         "showlegend": false,
         "type": "scatter3d",
         "x": [
          1.8356296047666247,
          1.052054067829538
         ],
         "y": [
          1.3807474428708146,
          1.941482654425363
         ],
         "z": [
          -1.5785160591782887,
          -1.3679789830215432
         ]
        },
        {
         "line": {
          "color": "blue",
          "width": 2
         },
         "mode": "lines",
         "showlegend": false,
         "type": "scatter3d",
         "x": [
          1.8356296047666247,
          2.3549475999928666
         ],
         "y": [
          1.3807474428708146,
          1.8881128149336828
         ],
         "z": [
          -1.5785160591782887,
          -2.2141744179416296
         ]
        },
        {
         "line": {
          "color": "blue",
          "width": 2
         },
         "mode": "lines",
         "showlegend": false,
         "type": "scatter3d",
         "x": [
          1.111493250205096,
          1.380237818017318
         ],
         "y": [
          -1.3552738471470176,
          -0.4160675621546581
         ],
         "z": [
          -1.9171218632801925,
          -1.9040004493978275
         ]
        },
        {
         "line": {
          "color": "blue",
          "width": 2
         },
         "mode": "lines",
         "showlegend": false,
         "type": "scatter3d",
         "x": [
          1.111493250205096,
          1.476404791206943
         ],
         "y": [
          -1.3552738471470176,
          -1.7164807298318019
         ],
         "z": [
          -1.9171218632801925,
          -1.0848723723552676
         ]
        },
        {
         "line": {
          "color": "blue",
          "width": 2
         },
         "mode": "lines",
         "showlegend": false,
         "type": "scatter3d",
         "x": [
          -2.348366135864339,
          -2.1475284169397084
         ],
         "y": [
          0.8317847881723304,
          -0.012259764448315594
         ],
         "z": [
          -0.645508178113866,
          -1.097853282927176
         ]
        },
        {
         "line": {
          "color": "blue",
          "width": 2
         },
         "mode": "lines",
         "showlegend": false,
         "type": "scatter3d",
         "x": [
          -2.348366135864339,
          -2.4019403368791425
         ],
         "y": [
          0.8317847881723304,
          0.5838501026286089
         ],
         "z": [
          -0.645508178113866,
          0.29912023914339614
         ]
        },
        {
         "line": {
          "color": "blue",
          "width": 2
         },
         "mode": "lines",
         "showlegend": false,
         "type": "scatter3d",
         "x": [
          -1.5154035226689557,
          -0.5480404260422123
         ],
         "y": [
          -1.6756704289138555,
          -1.5439964577384129
         ],
         "z": [
          -1.628207022789072,
          -1.829915363220511
         ]
        },
        {
         "line": {
          "color": "blue",
          "width": 2
         },
         "mode": "lines",
         "showlegend": false,
         "type": "scatter3d",
         "x": [
          -1.5154035226689557,
          -1.8657957598038444
         ],
         "y": [
          -1.6756704289138555,
          -2.200199566626909
         ],
         "z": [
          -1.628207022789072,
          -2.3584207749504564
         ]
        },
        {
         "line": {
          "color": "blue",
          "width": 2
         },
         "mode": "lines",
         "showlegend": false,
         "type": "scatter3d",
         "x": [
          1.801770760048235,
          2.4995517609678504
         ],
         "y": [
          -2.0595227546442563,
          -2.6148923438173157
         ],
         "z": [
          0.7389211043115766,
          1.1072667085711705
         ]
        },
        {
         "line": {
          "color": "blue",
          "width": 2
         },
         "mode": "lines",
         "showlegend": false,
         "type": "scatter3d",
         "x": [
          1.801770760048235,
          2.050545518542029
         ],
         "y": [
          -2.0595227546442563,
          -1.1200381540942914
         ],
         "z": [
          0.7389211043115766,
          0.9764194092862193
         ]
        },
        {
         "line": {
          "color": "blue",
          "width": 2
         },
         "mode": "lines",
         "showlegend": false,
         "type": "scatter3d",
         "x": [
          -0.44313290286853246,
          -1.1923251446375638
         ],
         "y": [
          2.6585206849809855,
          1.9955444891953533
         ],
         "z": [
          -0.7638564827025793,
          -0.793156289778795
         ]
        },
        {
         "line": {
          "color": "blue",
          "width": 2
         },
         "mode": "lines",
         "showlegend": false,
         "type": "scatter3d",
         "x": [
          -0.44313290286853246,
          -0.8141649727743792
         ],
         "y": [
          2.6585206849809855,
          3.4835338519478714
         ],
         "z": [
          -0.7638564827025793,
          -1.1001021331319234
         ]
        },
        {
         "line": {
          "color": "blue",
          "width": 2
         },
         "mode": "lines",
         "showlegend": false,
         "type": "scatter3d",
         "x": [
          -0.9843367771104972,
          -0.0063762589355794465
         ],
         "y": [
          -2.2823943355952863,
          -2.303131043963812
         ],
         "z": [
          1.1184210249857192,
          1.0831283371157987
         ]
        },
        {
         "line": {
          "color": "blue",
          "width": 2
         },
         "mode": "lines",
         "showlegend": false,
         "type": "scatter3d",
         "x": [
          -0.9843367771104972,
          -1.2507743773906688
         ],
         "y": [
          -2.2823943355952863,
          -2.269110906962369
         ],
         "z": [
          1.1184210249857192,
          0.17938945167164988
         ]
        },
        {
         "line": {
          "color": "blue",
          "width": 2
         },
         "mode": "lines",
         "showlegend": false,
         "type": "scatter3d",
         "x": [
          -1.9701069030044216,
          -2.587047962572078
         ],
         "y": [
          0.016948365821837418,
          -0.15970017981443405
         ],
         "z": [
          2.03339406302284,
          2.7539782013051965
         ]
        },
        {
         "line": {
          "color": "blue",
          "width": 2
         },
         "mode": "lines",
         "showlegend": false,
         "type": "scatter3d",
         "x": [
          -1.9701069030044216,
          -1.5825859393767563
         ],
         "y": [
          0.016948365821837418,
          -0.8680803122194728
         ],
         "z": [
          2.03339406302284,
          1.7881326070344672
         ]
        },
        {
         "line": {
          "color": "blue",
          "width": 2
         },
         "mode": "lines",
         "showlegend": false,
         "type": "scatter3d",
         "x": [
          0.1899885781012701,
          -0.049632091416017356
         ],
         "y": [
          1.879637732480918,
          2.3404152220039993
         ],
         "z": [
          1.9917539880714326,
          1.1683533262494414
         ]
        },
        {
         "line": {
          "color": "blue",
          "width": 2
         },
         "mode": "lines",
         "showlegend": false,
         "type": "scatter3d",
         "x": [
          0.1899885781012701,
          -0.5594027551481787
         ],
         "y": [
          1.879637732480918,
          1.2704684474266317
         ],
         "z": [
          1.9917539880714326,
          2.138937145385923
         ]
        },
        {
         "line": {
          "color": "green",
          "dash": "longdash",
          "width": 3
         },
         "mode": "lines",
         "showlegend": false,
         "type": "scatter3d",
         "x": [
          1.74078,
          1.8356296047666247
         ],
         "y": [
          1.59716,
          1.3807474428708146
         ],
         "z": [
          -1.49814,
          -1.5785160591782887
         ]
        },
        {
         "line": {
          "color": "green",
          "dash": "longdash",
          "width": 3
         },
         "mode": "lines",
         "showlegend": false,
         "type": "scatter3d",
         "x": [
          2.22908,
          2.3549475999928666
         ],
         "y": [
          2.18316,
          1.8881128149336828
         ],
         "z": [
          -2.08914,
          -2.2141744179416296
         ]
        },
        {
         "line": {
          "color": "green",
          "dash": "longdash",
          "width": 3
         },
         "mode": "lines",
         "showlegend": false,
         "type": "scatter3d",
         "x": [
          0.88038,
          1.052054067829538
         ],
         "y": [
          2.04726,
          1.941482654425363
         ],
         "z": [
          -1.32684,
          -1.3679789830215432
         ]
        },
        {
         "line": {
          "color": "green",
          "dash": "longdash",
          "width": 3
         },
         "mode": "lines",
         "showlegend": false,
         "type": "scatter3d",
         "x": [
          1.31998,
          1.111493250205096
         ],
         "y": [
          -1.18934,
          -1.3552738471470176
         ],
         "z": [
          -1.91734,
          -1.9171218632801925
         ]
        },
        {
         "line": {
          "color": "green",
          "dash": "longdash",
          "width": 3
         },
         "mode": "lines",
         "showlegend": false,
         "type": "scatter3d",
         "x": [
          1.49988,
          1.380237818017318
         ],
         "y": [
          -0.22974,
          -0.4160675621546581
         ],
         "z": [
          -1.89044,
          -1.9040004493978275
         ]
        },
        {
         "line": {
          "color": "green",
          "dash": "longdash",
          "width": 3
         },
         "mode": "lines",
         "showlegend": false,
         "type": "scatter3d",
         "x": [
          1.69058,
          1.476404791206943
         ],
         "y": [
          -1.52594,
          -1.7164807298318019
         ],
         "z": [
          -1.07704,
          -1.0848723723552676
         ]
        },
        {
         "line": {
          "color": "green",
          "dash": "longdash",
          "width": 3
         },
         "mode": "lines",
         "showlegend": false,
         "type": "scatter3d",
         "x": [
          -0.68982,
          -0.44313290286853246
         ],
         "y": [
          2.59476,
          2.6585206849809855
         ],
         "z": [
          -0.72224,
          -0.7638564827025793
         ]
        },
        {
         "line": {
          "color": "green",
          "dash": "longdash",
          "width": 3
         },
         "mode": "lines",
         "showlegend": false,
         "type": "scatter3d",
         "x": [
          -1.14372,
          -0.8141649727743792
         ],
         "y": [
          3.37086,
          3.4835338519478714
         ],
         "z": [
          -1.07364,
          -1.1001021331319234
         ]
        },
        {
         "line": {
          "color": "green",
          "dash": "longdash",
          "width": 3
         },
         "mode": "lines",
         "showlegend": false,
         "type": "scatter3d",
         "x": [
          -1.35592,
          -1.1923251446375638
         ],
         "y": [
          1.84986,
          1.9955444891953533
         ],
         "z": [
          -0.78334,
          -0.793156289778795
         ]
        },
        {
         "line": {
          "color": "green",
          "dash": "longdash",
          "width": 3
         },
         "mode": "lines",
         "showlegend": false,
         "type": "scatter3d",
         "x": [
          -1.27512,
          -1.5154035226689557
         ],
         "y": [
          -1.77394,
          -1.6756704289138555
         ],
         "z": [
          -1.69524,
          -1.628207022789072
         ]
        },
        {
         "line": {
          "color": "green",
          "dash": "longdash",
          "width": 3
         },
         "mode": "lines",
         "showlegend": false,
         "type": "scatter3d",
         "x": [
          -0.32252,
          -0.5480404260422123
         ],
         "y": [
          -1.52884,
          -1.5439964577384129
         ],
         "z": [
          -1.85604,
          -1.829915363220511
         ]
        },
        {
         "line": {
          "color": "green",
          "dash": "longdash",
          "width": 3
         },
         "mode": "lines",
         "showlegend": false,
         "type": "scatter3d",
         "x": [
          -1.53992,
          -1.8657957598038444
         ],
         "y": [
          -2.30454,
          -2.200199566626909
         ],
         "z": [
          -2.45644,
          -2.3584207749504564
         ]
        },
        {
         "line": {
          "color": "green",
          "dash": "longdash",
          "width": 3
         },
         "mode": "lines",
         "showlegend": false,
         "type": "scatter3d",
         "x": [
          1.89238,
          1.801770760048235
         ],
         "y": [
          -2.00494,
          -2.0595227546442563
         ],
         "z": [
          0.72856,
          0.7389211043115766
         ]
        },
        {
         "line": {
          "color": "green",
          "dash": "longdash",
          "width": 3
         },
         "mode": "lines",
         "showlegend": false,
         "type": "scatter3d",
         "x": [
          0.93928,
          2.050545518542029
         ],
         "y": [
          -2.21084,
          -1.1200381540942914
         ],
         "z": [
          0.93366,
          0.9764194092862193
         ]
        },
        {
         "line": {
          "color": "green",
          "dash": "longdash",
          "width": 3
         },
         "mode": "lines",
         "showlegend": false,
         "type": "scatter3d",
         "x": [
          2.40308,
          2.4995517609678504
         ],
         "y": [
          -2.74304,
          -2.6148923438173157
         ],
         "z": [
          1.08246,
          1.1072667085711705
         ]
        },
        {
         "line": {
          "color": "green",
          "dash": "longdash",
          "width": 3
         },
         "mode": "lines",
         "showlegend": false,
         "type": "scatter3d",
         "x": [
          -0.72442,
          -0.9843367771104972
         ],
         "y": [
          -2.43264,
          -2.2823943355952863
         ],
         "z": [
          1.03286,
          1.1184210249857192
         ]
        },
        {
         "line": {
          "color": "green",
          "dash": "longdash",
          "width": 3
         },
         "mode": "lines",
         "showlegend": false,
         "type": "scatter3d",
         "x": [
          -1.17952,
          -0.0063762589355794465
         ],
         "y": [
          -1.69134,
          -2.303131043963812
         ],
         "z": [
          1.48186,
          1.0831283371157987
         ]
        },
        {
         "line": {
          "color": "green",
          "dash": "longdash",
          "width": 3
         },
         "mode": "lines",
         "showlegend": false,
         "type": "scatter3d",
         "x": [
          -1.04682,
          -1.2507743773906688
         ],
         "y": [
          -2.38464,
          -2.269110906962369
         ],
         "z": [
          0.11296,
          0.17938945167164988
         ]
        },
        {
         "line": {
          "color": "green",
          "dash": "longdash",
          "width": 3
         },
         "mode": "lines",
         "showlegend": false,
         "type": "scatter3d",
         "x": [
          -0.10162,
          0.1899885781012701
         ],
         "y": [
          1.80136,
          1.879637732480918
         ],
         "z": [
          2.02506,
          1.9917539880714326
         ]
        },
        {
         "line": {
          "color": "green",
          "dash": "longdash",
          "width": 3
         },
         "mode": "lines",
         "showlegend": false,
         "type": "scatter3d",
         "x": [
          -0.29252,
          -0.049632091416017356
         ],
         "y": [
          2.30226,
          2.3404152220039993
         ],
         "z": [
          1.21216,
          1.1683533262494414
         ]
        },
        {
         "line": {
          "color": "green",
          "dash": "longdash",
          "width": 3
         },
         "mode": "lines",
         "showlegend": false,
         "type": "scatter3d",
         "x": [
          0.79878,
          -0.5594027551481787
         ],
         "y": [
          1.43526,
          1.2704684474266317
         ],
         "z": [
          1.85666,
          2.138937145385923
         ]
        },
        {
         "line": {
          "color": "green",
          "dash": "longdash",
          "width": 3
         },
         "mode": "lines",
         "showlegend": false,
         "type": "scatter3d",
         "x": [
          -1.95412,
          -1.9701069030044216
         ],
         "y": [
          -0.09294,
          0.016948365821837418
         ],
         "z": [
          1.99676,
          2.03339406302284
         ]
        },
        {
         "line": {
          "color": "green",
          "dash": "longdash",
          "width": 3
         },
         "mode": "lines",
         "showlegend": false,
         "type": "scatter3d",
         "x": [
          -2.48462,
          -2.587047962572078
         ],
         "y": [
          -0.00054,
          -0.15970017981443405
         ],
         "z": [
          2.79746,
          2.7539782013051965
         ]
        },
        {
         "line": {
          "color": "green",
          "dash": "longdash",
          "width": 3
         },
         "mode": "lines",
         "showlegend": false,
         "type": "scatter3d",
         "x": [
          -1.22902,
          -1.5825859393767563
         ],
         "y": [
          0.59226,
          -0.8680803122194728
         ],
         "z": [
          2.07466,
          1.7881326070344672
         ]
        },
        {
         "line": {
          "color": "green",
          "dash": "longdash",
          "width": 3
         },
         "mode": "lines",
         "showlegend": false,
         "type": "scatter3d",
         "x": [
          -2.42322,
          -2.348366135864339
         ],
         "y": [
          0.59166,
          0.8317847881723304
         ],
         "z": [
          -0.70354,
          -0.645508178113866
         ]
        },
        {
         "line": {
          "color": "green",
          "dash": "longdash",
          "width": 3
         },
         "mode": "lines",
         "showlegend": false,
         "type": "scatter3d",
         "x": [
          -2.10402,
          -2.1475284169397084
         ],
         "y": [
          -0.20914,
          -0.012259764448315594
         ],
         "z": [
          -1.16704,
          -1.097853282927176
         ]
        },
        {
         "line": {
          "color": "green",
          "dash": "longdash",
          "width": 3
         },
         "mode": "lines",
         "showlegend": false,
         "type": "scatter3d",
         "x": [
          -2.46462,
          -2.4019403368791425
         ],
         "y": [
          0.32236,
          0.5838501026286089
         ],
         "z": [
          0.23576,
          0.29912023914339614
         ]
        },
        {
         "line": {
          "color": "green",
          "dash": "longdash",
          "width": 3
         },
         "mode": "lines",
         "showlegend": false,
         "type": "scatter3d",
         "x": [
          2.32838,
          2.40929619784533
         ],
         "y": [
          0.76496,
          0.48576750527384993
         ],
         "z": [
          1.22976,
          1.1300466023240059
         ]
        },
        {
         "line": {
          "color": "green",
          "dash": "longdash",
          "width": 3
         },
         "mode": "lines",
         "showlegend": false,
         "type": "scatter3d",
         "x": [
          2.26938,
          1.6672735754236299
         ],
         "y": [
          -0.20664,
          0.9846834175936919
         ],
         "z": [
          1.14836,
          1.546749290398469
         ]
        },
        {
         "line": {
          "color": "green",
          "dash": "longdash",
          "width": 3
         },
         "mode": "lines",
         "showlegend": false,
         "type": "scatter3d",
         "x": [
          2.33958,
          2.4377671604861435
         ],
         "y": [
          1.07586,
          0.8553208682162656
         ],
         "z": [
          0.30736,
          0.22957217391181856
         ]
        }
       ],
       "layout": {
        "scene": {
         "aspectmode": "data",
         "xaxis": {
          "title": {
           "text": "X"
          },
          "visible": false
         },
         "yaxis": {
          "title": {
           "text": "Y"
          },
          "visible": false
         },
         "zaxis": {
          "title": {
           "text": "Z"
          },
          "visible": false
         }
        },
        "showlegend": true,
        "template": {
         "data": {
          "bar": [
           {
            "error_x": {
             "color": "#2a3f5f"
            },
            "error_y": {
             "color": "#2a3f5f"
            },
            "marker": {
             "line": {
              "color": "#E5ECF6",
              "width": 0.5
             },
             "pattern": {
              "fillmode": "overlay",
              "size": 10,
              "solidity": 0.2
             }
            },
            "type": "bar"
           }
          ],
          "barpolar": [
           {
            "marker": {
             "line": {
              "color": "#E5ECF6",
              "width": 0.5
             },
             "pattern": {
              "fillmode": "overlay",
              "size": 10,
              "solidity": 0.2
             }
            },
            "type": "barpolar"
           }
          ],
          "carpet": [
           {
            "aaxis": {
             "endlinecolor": "#2a3f5f",
             "gridcolor": "white",
             "linecolor": "white",
             "minorgridcolor": "white",
             "startlinecolor": "#2a3f5f"
            },
            "baxis": {
             "endlinecolor": "#2a3f5f",
             "gridcolor": "white",
             "linecolor": "white",
             "minorgridcolor": "white",
             "startlinecolor": "#2a3f5f"
            },
            "type": "carpet"
           }
          ],
          "choropleth": [
           {
            "colorbar": {
             "outlinewidth": 0,
             "ticks": ""
            },
            "type": "choropleth"
           }
          ],
          "contour": [
           {
            "colorbar": {
             "outlinewidth": 0,
             "ticks": ""
            },
            "colorscale": [
             [
              0,
              "#0d0887"
             ],
             [
              0.1111111111111111,
              "#46039f"
             ],
             [
              0.2222222222222222,
              "#7201a8"
             ],
             [
              0.3333333333333333,
              "#9c179e"
             ],
             [
              0.4444444444444444,
              "#bd3786"
             ],
             [
              0.5555555555555556,
              "#d8576b"
             ],
             [
              0.6666666666666666,
              "#ed7953"
             ],
             [
              0.7777777777777778,
              "#fb9f3a"
             ],
             [
              0.8888888888888888,
              "#fdca26"
             ],
             [
              1,
              "#f0f921"
             ]
            ],
            "type": "contour"
           }
          ],
          "contourcarpet": [
           {
            "colorbar": {
             "outlinewidth": 0,
             "ticks": ""
            },
            "type": "contourcarpet"
           }
          ],
          "heatmap": [
           {
            "colorbar": {
             "outlinewidth": 0,
             "ticks": ""
            },
            "colorscale": [
             [
              0,
              "#0d0887"
             ],
             [
              0.1111111111111111,
              "#46039f"
             ],
             [
              0.2222222222222222,
              "#7201a8"
             ],
             [
              0.3333333333333333,
              "#9c179e"
             ],
             [
              0.4444444444444444,
              "#bd3786"
             ],
             [
              0.5555555555555556,
              "#d8576b"
             ],
             [
              0.6666666666666666,
              "#ed7953"
             ],
             [
              0.7777777777777778,
              "#fb9f3a"
             ],
             [
              0.8888888888888888,
              "#fdca26"
             ],
             [
              1,
              "#f0f921"
             ]
            ],
            "type": "heatmap"
           }
          ],
          "histogram": [
           {
            "marker": {
             "pattern": {
              "fillmode": "overlay",
              "size": 10,
              "solidity": 0.2
             }
            },
            "type": "histogram"
           }
          ],
          "histogram2d": [
           {
            "colorbar": {
             "outlinewidth": 0,
             "ticks": ""
            },
            "colorscale": [
             [
              0,
              "#0d0887"
             ],
             [
              0.1111111111111111,
              "#46039f"
             ],
             [
              0.2222222222222222,
              "#7201a8"
             ],
             [
              0.3333333333333333,
              "#9c179e"
             ],
             [
              0.4444444444444444,
              "#bd3786"
             ],
             [
              0.5555555555555556,
              "#d8576b"
             ],
             [
              0.6666666666666666,
              "#ed7953"
             ],
             [
              0.7777777777777778,
              "#fb9f3a"
             ],
             [
              0.8888888888888888,
              "#fdca26"
             ],
             [
              1,
              "#f0f921"
             ]
            ],
            "type": "histogram2d"
           }
          ],
          "histogram2dcontour": [
           {
            "colorbar": {
             "outlinewidth": 0,
             "ticks": ""
            },
            "colorscale": [
             [
              0,
              "#0d0887"
             ],
             [
              0.1111111111111111,
              "#46039f"
             ],
             [
              0.2222222222222222,
              "#7201a8"
             ],
             [
              0.3333333333333333,
              "#9c179e"
             ],
             [
              0.4444444444444444,
              "#bd3786"
             ],
             [
              0.5555555555555556,
              "#d8576b"
             ],
             [
              0.6666666666666666,
              "#ed7953"
             ],
             [
              0.7777777777777778,
              "#fb9f3a"
             ],
             [
              0.8888888888888888,
              "#fdca26"
             ],
             [
              1,
              "#f0f921"
             ]
            ],
            "type": "histogram2dcontour"
           }
          ],
          "mesh3d": [
           {
            "colorbar": {
             "outlinewidth": 0,
             "ticks": ""
            },
            "type": "mesh3d"
           }
          ],
          "parcoords": [
           {
            "line": {
             "colorbar": {
              "outlinewidth": 0,
              "ticks": ""
             }
            },
            "type": "parcoords"
           }
          ],
          "pie": [
           {
            "automargin": true,
            "type": "pie"
           }
          ],
          "scatter": [
           {
            "fillpattern": {
             "fillmode": "overlay",
             "size": 10,
             "solidity": 0.2
            },
            "type": "scatter"
           }
          ],
          "scatter3d": [
           {
            "line": {
             "colorbar": {
              "outlinewidth": 0,
              "ticks": ""
             }
            },
            "marker": {
             "colorbar": {
              "outlinewidth": 0,
              "ticks": ""
             }
            },
            "type": "scatter3d"
           }
          ],
          "scattercarpet": [
           {
            "marker": {
             "colorbar": {
              "outlinewidth": 0,
              "ticks": ""
             }
            },
            "type": "scattercarpet"
           }
          ],
          "scattergeo": [
           {
            "marker": {
             "colorbar": {
              "outlinewidth": 0,
              "ticks": ""
             }
            },
            "type": "scattergeo"
           }
          ],
          "scattergl": [
           {
            "marker": {
             "colorbar": {
              "outlinewidth": 0,
              "ticks": ""
             }
            },
            "type": "scattergl"
           }
          ],
          "scattermap": [
           {
            "marker": {
             "colorbar": {
              "outlinewidth": 0,
              "ticks": ""
             }
            },
            "type": "scattermap"
           }
          ],
          "scattermapbox": [
           {
            "marker": {
             "colorbar": {
              "outlinewidth": 0,
              "ticks": ""
             }
            },
            "type": "scattermapbox"
           }
          ],
          "scatterpolar": [
           {
            "marker": {
             "colorbar": {
              "outlinewidth": 0,
              "ticks": ""
             }
            },
            "type": "scatterpolar"
           }
          ],
          "scatterpolargl": [
           {
            "marker": {
             "colorbar": {
              "outlinewidth": 0,
              "ticks": ""
             }
            },
            "type": "scatterpolargl"
           }
          ],
          "scatterternary": [
           {
            "marker": {
             "colorbar": {
              "outlinewidth": 0,
              "ticks": ""
             }
            },
            "type": "scatterternary"
           }
          ],
          "surface": [
           {
            "colorbar": {
             "outlinewidth": 0,
             "ticks": ""
            },
            "colorscale": [
             [
              0,
              "#0d0887"
             ],
             [
              0.1111111111111111,
              "#46039f"
             ],
             [
              0.2222222222222222,
              "#7201a8"
             ],
             [
              0.3333333333333333,
              "#9c179e"
             ],
             [
              0.4444444444444444,
              "#bd3786"
             ],
             [
              0.5555555555555556,
              "#d8576b"
             ],
             [
              0.6666666666666666,
              "#ed7953"
             ],
             [
              0.7777777777777778,
              "#fb9f3a"
             ],
             [
              0.8888888888888888,
              "#fdca26"
             ],
             [
              1,
              "#f0f921"
             ]
            ],
            "type": "surface"
           }
          ],
          "table": [
           {
            "cells": {
             "fill": {
              "color": "#EBF0F8"
             },
             "line": {
              "color": "white"
             }
            },
            "header": {
             "fill": {
              "color": "#C8D4E3"
             },
             "line": {
              "color": "white"
             }
            },
            "type": "table"
           }
          ]
         },
         "layout": {
          "annotationdefaults": {
           "arrowcolor": "#2a3f5f",
           "arrowhead": 0,
           "arrowwidth": 1
          },
          "autotypenumbers": "strict",
          "coloraxis": {
           "colorbar": {
            "outlinewidth": 0,
            "ticks": ""
           }
          },
          "colorscale": {
           "diverging": [
            [
             0,
             "#8e0152"
            ],
            [
             0.1,
             "#c51b7d"
            ],
            [
             0.2,
             "#de77ae"
            ],
            [
             0.3,
             "#f1b6da"
            ],
            [
             0.4,
             "#fde0ef"
            ],
            [
             0.5,
             "#f7f7f7"
            ],
            [
             0.6,
             "#e6f5d0"
            ],
            [
             0.7,
             "#b8e186"
            ],
            [
             0.8,
             "#7fbc41"
            ],
            [
             0.9,
             "#4d9221"
            ],
            [
             1,
             "#276419"
            ]
           ],
           "sequential": [
            [
             0,
             "#0d0887"
            ],
            [
             0.1111111111111111,
             "#46039f"
            ],
            [
             0.2222222222222222,
             "#7201a8"
            ],
            [
             0.3333333333333333,
             "#9c179e"
            ],
            [
             0.4444444444444444,
             "#bd3786"
            ],
            [
             0.5555555555555556,
             "#d8576b"
            ],
            [
             0.6666666666666666,
             "#ed7953"
            ],
            [
             0.7777777777777778,
             "#fb9f3a"
            ],
            [
             0.8888888888888888,
             "#fdca26"
            ],
            [
             1,
             "#f0f921"
            ]
           ],
           "sequentialminus": [
            [
             0,
             "#0d0887"
            ],
            [
             0.1111111111111111,
             "#46039f"
            ],
            [
             0.2222222222222222,
             "#7201a8"
            ],
            [
             0.3333333333333333,
             "#9c179e"
            ],
            [
             0.4444444444444444,
             "#bd3786"
            ],
            [
             0.5555555555555556,
             "#d8576b"
            ],
            [
             0.6666666666666666,
             "#ed7953"
            ],
            [
             0.7777777777777778,
             "#fb9f3a"
            ],
            [
             0.8888888888888888,
             "#fdca26"
            ],
            [
             1,
             "#f0f921"
            ]
           ]
          },
          "colorway": [
           "#636efa",
           "#EF553B",
           "#00cc96",
           "#ab63fa",
           "#FFA15A",
           "#19d3f3",
           "#FF6692",
           "#B6E880",
           "#FF97FF",
           "#FECB52"
          ],
          "font": {
           "color": "#2a3f5f"
          },
          "geo": {
           "bgcolor": "white",
           "lakecolor": "white",
           "landcolor": "#E5ECF6",
           "showlakes": true,
           "showland": true,
           "subunitcolor": "white"
          },
          "hoverlabel": {
           "align": "left"
          },
          "hovermode": "closest",
          "mapbox": {
           "style": "light"
          },
          "paper_bgcolor": "white",
          "plot_bgcolor": "#E5ECF6",
          "polar": {
           "angularaxis": {
            "gridcolor": "white",
            "linecolor": "white",
            "ticks": ""
           },
           "bgcolor": "#E5ECF6",
           "radialaxis": {
            "gridcolor": "white",
            "linecolor": "white",
            "ticks": ""
           }
          },
          "scene": {
           "xaxis": {
            "backgroundcolor": "#E5ECF6",
            "gridcolor": "white",
            "gridwidth": 2,
            "linecolor": "white",
            "showbackground": true,
            "ticks": "",
            "zerolinecolor": "white"
           },
           "yaxis": {
            "backgroundcolor": "#E5ECF6",
            "gridcolor": "white",
            "gridwidth": 2,
            "linecolor": "white",
            "showbackground": true,
            "ticks": "",
            "zerolinecolor": "white"
           },
           "zaxis": {
            "backgroundcolor": "#E5ECF6",
            "gridcolor": "white",
            "gridwidth": 2,
            "linecolor": "white",
            "showbackground": true,
            "ticks": "",
            "zerolinecolor": "white"
           }
          },
          "shapedefaults": {
           "line": {
            "color": "#2a3f5f"
           }
          },
          "ternary": {
           "aaxis": {
            "gridcolor": "white",
            "linecolor": "white",
            "ticks": ""
           },
           "baxis": {
            "gridcolor": "white",
            "linecolor": "white",
            "ticks": ""
           },
           "bgcolor": "#E5ECF6",
           "caxis": {
            "gridcolor": "white",
            "linecolor": "white",
            "ticks": ""
           }
          },
          "title": {
           "x": 0.05
          },
          "xaxis": {
           "automargin": true,
           "gridcolor": "white",
           "linecolor": "white",
           "ticks": "",
           "title": {
            "standoff": 15
           },
           "zerolinecolor": "white",
           "zerolinewidth": 2
          },
          "yaxis": {
           "automargin": true,
           "gridcolor": "white",
           "linecolor": "white",
           "ticks": "",
           "title": {
            "standoff": 15
           },
           "zerolinecolor": "white",
           "zerolinewidth": 2
          }
         }
        },
        "title": {
         "text": "10-PP1 10-PP2 Alignment"
        }
       }
      }
     },
     "metadata": {},
     "output_type": "display_data"
    }
   ],
   "source": [
    "data_path = \"../Data/Water-Clusters/\"\n",
    "nameA = '10-PP1.xyz'\n",
    "nameB = '10-PP2.xyz'\n",
    "molA = next(pybel.readfile('xyz', os.path.join(data_path, nameA)))\n",
    "molB = next(pybel.readfile('xyz', os.path.join(data_path, nameB)))\n",
    "X_A, T_A, B_A = otm.tl.process_molecule(molA) \n",
    "X_B, T_B, B_B = otm.tl.process_molecule(molB)\n",
    "n_atoms = 3\n",
    "molecule_cluster_options = 'center'\n",
    "# specify we are aligning molecule clusters\n",
    "assignment, rmsd_best = otm.tl.cluster_alignment(X_A, X_B, T_A, T_B, case = 'molecule cluster', n_atoms = n_atoms, molecule_cluster_options = molecule_cluster_options)\n",
    "X_B_aligned, _, _ = otm.tl.kabsch(X_A, X_B, otm.tl.permutation_to_matrix(assignment))\n",
    "otm.pl.interactive_alignment_plot(X_A, X_B_aligned, T_A, T_B, B_A, B_B, assignment, '10-PP1', '10-PP2', save=False)"
   ]
  },
  {
   "cell_type": "markdown",
   "metadata": {},
   "source": [
    "We can also align clusters of the same atom with cluster_alignment()"
   ]
  },
  {
   "cell_type": "code",
   "execution_count": null,
   "metadata": {},
   "outputs": [
    {
     "data": {
      "application/vnd.plotly.v1+json": {
       "config": {
        "plotlyServerURL": "https://plot.ly",
        "toImageButtonOptions": {
         "format": "png",
         "height": 500,
         "scale": 2,
         "width": 700
        }
       },
       "data": [
        {
         "marker": {
          "color": "red",
          "size": [
           13.799999999999999,
           13.799999999999999,
           13.799999999999999,
           13.799999999999999,
           13.799999999999999,
           13.799999999999999,
           13.799999999999999,
           13.799999999999999,
           13.799999999999999,
           13.799999999999999,
           13.799999999999999,
           13.799999999999999,
           13.799999999999999,
           13.799999999999999,
           13.799999999999999,
           13.799999999999999,
           13.799999999999999,
           13.799999999999999,
           13.799999999999999,
           13.799999999999999,
           13.799999999999999,
           13.799999999999999,
           13.799999999999999,
           13.799999999999999,
           13.799999999999999,
           13.799999999999999,
           13.799999999999999,
           13.799999999999999,
           13.799999999999999,
           13.799999999999999,
           13.799999999999999,
           13.799999999999999,
           13.799999999999999,
           13.799999999999999,
           13.799999999999999,
           13.799999999999999,
           13.799999999999999,
           13.799999999999999,
           13.799999999999999,
           13.799999999999999,
           13.799999999999999,
           13.799999999999999,
           13.799999999999999,
           13.799999999999999,
           13.799999999999999,
           13.799999999999999,
           13.799999999999999,
           13.799999999999999,
           13.799999999999999,
           13.799999999999999,
           13.799999999999999,
           13.799999999999999,
           13.799999999999999,
           13.799999999999999,
           13.799999999999999,
           13.799999999999999,
           13.799999999999999,
           13.799999999999999,
           13.799999999999999,
           13.799999999999999,
           13.799999999999999,
           13.799999999999999,
           13.799999999999999,
           13.799999999999999,
           13.799999999999999,
           13.799999999999999,
           13.799999999999999,
           13.799999999999999,
           13.799999999999999,
           13.799999999999999,
           13.799999999999999,
           13.799999999999999,
           13.799999999999999,
           13.799999999999999,
           13.799999999999999,
           13.799999999999999,
           13.799999999999999,
           13.799999999999999,
           13.799999999999999,
           13.799999999999999,
           13.799999999999999,
           13.799999999999999,
           13.799999999999999,
           13.799999999999999,
           13.799999999999999,
           13.799999999999999,
           13.799999999999999,
           13.799999999999999,
           13.799999999999999,
           13.799999999999999,
           13.799999999999999,
           13.799999999999999,
           13.799999999999999,
           13.799999999999999,
           13.799999999999999,
           13.799999999999999,
           13.799999999999999,
           13.799999999999999,
           13.799999999999999,
           13.799999999999999
          ],
          "symbol": "circle"
         },
         "mode": "markers",
         "name": "100-1",
         "type": "scatter3d",
         "x": {
          "bdata": "HoThXHrlAEAz7IbdlkDWP0wXx2lN4e2/+/nXt7GfAMAhgA/3/KICQDAOeGFudea/bGTaJKYb8z/BCRNqMJkFwCB5RcKHKuS/p8ibqBcf3j89Obo2SuMBwDiG2z1bCOQ/md+0UuSIBUDgfm+8A3YCQOLOYRQGWdm/f4VWrMRF+7/lTwvOtnwEwMqhPY7KOPi/Z7RCiqLgAcCC0HTRNIr0PyTCw1OPCfY/HbWzgHFWA0A+7bcI4Tj1v+8OMy+cZ/Y/qo+pOunm0r/hiBOzNcYBQCLkdAXfsPW//xfw96kgA8Aqytd0bOTlv3RTME5vS/W/EuyinRjPxj9CNQgoUmfqP6A6IziYGQRABN0dJIup9z8lBw1526/qP2w4GnNfgve/8rYFFDkH/D+fn5eGsJ3hv5NHNcF3iMk/W6T8qG7k97+PvIPBtPnxP3CIsFqLIeK/QePSiMP8+b8ONRS72Z7vv2tmPDDRI/U/lzvVT29S/z+nFIgWEajyv9jr85Y/H7o/7w4Q12js0z9BqUWeDkb5P9AjLleyAOI/nOuG9Versb9SRvLSWsOmPzGRyR/QHwDAYqXfjWfV/T8oLmrfM4XIv7xhfAymCv+/i8Gbo4LC0L/hh+ZlxCcBQPP4Jp845t0/TCqBcu6O6r/0kmdkNQX+vzgoIR2FEOG/F3TsMAdh7j8bwZLfJXv5P/wM+3/NqOE/uE5RZYD67j/qoB4lLuDxv/ISMDoYqrS/9nkaneTc+L9SPX+9LgLgvxzNHNEHq8A/4Zmkfy9Q9j/bve8vKD72v3BE3Hxh+uu/nM+73CD99z83DCuE8b3iP7O1pWKoMeg/HH5bWgs/378iX/mckbLlv9Nwc25/RPu/Fpd6xM72+j9ziPed2CPlP5NePtP3zNk/fRguZtwA9L+SsChShfb0P7sOc4/O3NW/4I8rCVqC8L+ZT5Vwmp6Qv0cxH90/x8G/xik8JTX+6z/j/G9bUlPnv/Fvp99LWuY/f3N4qZVw1L/8rCK66E7uvwla6JbbNvI/xnUMhx5T4D81vgkekyfSv2/LQuI3UdU/DxavaU5UwT8=",
          "dtype": "f8"
         },
         "y": {
          "bdata": "5GiFX67pyj8t7kKhjMIEQLeo720cF/Y/P7aDFrSew79g8/0WlfP4v9GU834JkATA0M0seaTA6L86IWyo/Arbv+sm4HeNnvg/t3du2kNQ9T8O6hqmqLnzv0vavS7dpve/BOU/b+2u3j/ChhKqruTnP7gZVP4hDP2/kH4APUkV/j91TdZeQ43jP4G6WIO9pvk/C35MwPfr5z+2N2GC393tP/D90+UCc+S/kAlNWkUr1j/rCBoSe5n4v8ljMoZFvvA/w59WknIDAEC/YboCpZ/lv0c1vePTLeY/BFgUESZu0r9D1QrA7xMCQGqW6AlbWfo/Uvek+5Cq8j87ktvPmnn8P8ukcgn6SeG/Yv6Q0vpQ+L9SHEnDHuPRP9ZezqiVc/6/WApUSRxuir+qXUWemo4BwI7tO9rGrAFA6wpKUSZe4z84cZOEDZ7+PwZKUQEM+NM/yfnVsvLg7r9L+8w8JS7Xv3rnFW3cd/6/6ZCYu7bR9L87uYV7nFL8v9ihHV0MMeK/XM0YsO3tAcDWHYj+4qDwv09E+WEIDfa/gwXstaSg/78vy0S5B4T8P3H2xWR8v8W/XIq6Pgs48z8i78J+Iurnv7XbrI6crPG/FLdsHhcW3z9YjfaXnPzRv+TnzJ9y7f2/F5tzhNWa/T+okvDh83rrP2bIXNFZ2vK/pouc3xpq+r8oLrCPmjPxP0v66TOvwLY/paxtrkQW+D9xKX0V3x/ev/AjtZNzaOE/8B13+XZ87z/Re3bHwYjuP+AFVVil0/g/kRGKjJKApD/lx66gqO21P6IJgU23S/M/4E9XN1rG6r/2kGASfbrnP03chmYZmNS/TFg0AMgD+L/DuFsW86rtPxlljH++Nae/nHQJbdMdxj+Avchg2orpv0wqY9N0JOc/qtHPfqL+6r/f7R3UjsLbP/2/PVrbGvK/VQ2yjJwjyT9dxZjziYryP8Mydv0bH7a/XCJzeln56z/QDDEB8I3UP30PLIFzasG/VIhVMQ0yv78jLbpZoe/mvxDJapxIxuK/k5jm7bbp8r8FMXmQUc/dvwxqBa+ZYb4/eW9aIm9/7b8=",
          "dtype": "f8"
         },
         "z": {
          "bdata": "jqak1lXhAEAcymexyALoPw98VXVyOwFAmCDZEqg8AMBfNdfwAuLoP683h23/cce/NFhyhrsUAsA6bOTz+Ki4P4rlutObXQHAqORgmlD2AcBxO+wxlQbnP9eTiM78tQFAFvmptSYZqb/I2dDiByHxvxjJupqlQf4/JPzWwDIMsj/8VvGixAnVv2oGFJExnPe/gklCgihL9r+ECQaElKv/P68r8ptlZgFAirmhsiyT8D9GMnDwKAn1P9LQaK64wPq/Kf8jIp9k9z8a3Gl6bxn3P9XSy0zK0ADA51g3xTf57r+te0aLPJzaPw+j9a4A/fE/OuLufqWxAEBK2DI2vwz2P2LuYY5hV9c/54EhSVbz9z8l7hKM8wcCwECW/TN1OdE/b9RVPBiu+r+0R/jyDFfrP3vndylTNtO/TUISi1Ld+D/OtNqK2KPSPz5N2zfmIwFAeLOad6Kw9r8Gk1WnQOsAwOCs6uidWt0/FAGlXeCEzr9GnhAwLbDpv2lvnz7KiAHA50QoXjjDwT/3j6AYGwL0v9Ol8sM3Jvm/2ioVUMAo7L/ZVC/Z3kn1v33ZvWaHoe0/qomG0PZExb8pVeB0a7AAQOKIjlVsota/0RaZuS6JAcDXzct0tgflvyYAUiZ04fI/ZGN7eFFe5L9a/Hvn1k7gPzV/UP9nGfi/GWT6vUf44b/XpUJU0zHtP1Xyy8YlawBAX70aOFFn6L+TCmYxkVj4P0tN0X14Z9k/Q+kZJ+8n4r8kULseVyr0P+2W1DALO+I/oAUiPaXs9D9bAiawvR7zvyysYMPvYM8/tUnE4tei5D9kN8yEodHyP2rjnb4EkPW/DO5HxZhfjz95yfe8xkn0v7nuUbPTbMK/qA3egUCazj+8No8Tg8j1P8v3b8oTgvW/fLEPpCbg3T+w9ipM/HXov2PpUosguPA/ae1nxfg/5T/cf8Ua5bLcv/IX4xWitfM/P/ANkvkYvz+xZFHLZM7Yv/4VbSe1o+A/RKij+gaO9L/nztzb3hrjv0Kxh4kV1Na/Lshu1P421T+pTpemAOjKPzVF0Rq7yN2/sOd2LWSQ5b8=",
          "dtype": "f8"
         }
        },
        {
         "marker": {
          "color": "blue",
          "size": [
           13.799999999999999,
           13.799999999999999,
           13.799999999999999,
           13.799999999999999,
           13.799999999999999,
           13.799999999999999,
           13.799999999999999,
           13.799999999999999,
           13.799999999999999,
           13.799999999999999,
           13.799999999999999,
           13.799999999999999,
           13.799999999999999,
           13.799999999999999,
           13.799999999999999,
           13.799999999999999,
           13.799999999999999,
           13.799999999999999,
           13.799999999999999,
           13.799999999999999,
           13.799999999999999,
           13.799999999999999,
           13.799999999999999,
           13.799999999999999,
           13.799999999999999,
           13.799999999999999,
           13.799999999999999,
           13.799999999999999,
           13.799999999999999,
           13.799999999999999,
           13.799999999999999,
           13.799999999999999,
           13.799999999999999,
           13.799999999999999,
           13.799999999999999,
           13.799999999999999,
           13.799999999999999,
           13.799999999999999,
           13.799999999999999,
           13.799999999999999,
           13.799999999999999,
           13.799999999999999,
           13.799999999999999,
           13.799999999999999,
           13.799999999999999,
           13.799999999999999,
           13.799999999999999,
           13.799999999999999,
           13.799999999999999,
           13.799999999999999,
           13.799999999999999,
           13.799999999999999,
           13.799999999999999,
           13.799999999999999,
           13.799999999999999,
           13.799999999999999,
           13.799999999999999,
           13.799999999999999,
           13.799999999999999,
           13.799999999999999,
           13.799999999999999,
           13.799999999999999,
           13.799999999999999,
           13.799999999999999,
           13.799999999999999,
           13.799999999999999,
           13.799999999999999,
           13.799999999999999,
           13.799999999999999,
           13.799999999999999,
           13.799999999999999,
           13.799999999999999,
           13.799999999999999,
           13.799999999999999,
           13.799999999999999,
           13.799999999999999,
           13.799999999999999,
           13.799999999999999,
           13.799999999999999,
           13.799999999999999,
           13.799999999999999,
           13.799999999999999,
           13.799999999999999,
           13.799999999999999,
           13.799999999999999,
           13.799999999999999,
           13.799999999999999,
           13.799999999999999,
           13.799999999999999,
           13.799999999999999,
           13.799999999999999,
           13.799999999999999,
           13.799999999999999,
           13.799999999999999,
           13.799999999999999,
           13.799999999999999,
           13.799999999999999,
           13.799999999999999,
           13.799999999999999,
           13.799999999999999
          ],
          "symbol": "circle"
         },
         "mode": "markers",
         "name": "100-2",
         "type": "scatter3d",
         "x": {
          "bdata": "kt/Uu8TsAsD0DIooP98AQDDbPnLOWu6/vwehNRiu1T+LszpsrOICQJEDtjlTMADAz1LJ7O8a9D9rwFtBh8Hkv1+Z4EDTXgXAVJIruIYS4781KJukqrMFQAgx+sUMZuQ/XUhs8OKoAcAOAK6gZyHYv+c8+GTmSeA/vCvRACW3AkDmSYQyj2f0P/7gZ7ZEE/u/Ib0Jxf3V97+9b511SEYEwHe3zbqiGvY/hu1y/JFoA0BxlE2T3df0vzd0nNQY+fY/FT47SWmp079Fgg+74I8BwPFOng/l4gFAXUZTW70e6j9yUzZpw0bFP8WIp8cV6eW/fmvZsRRb9b/qzczXtQD4P0tL/l9ZywLATxoUaRpPBECmuCNHIfn0v9lz4Ydg2/a/0n4S0cd24L802uAqmE/sPxHAD8O9x/w/01Rkn/bm979GZ/te1iXKPz5TC5bMTuK/S0VB4EUE8j8uEg1A4crtv2TzJslrIPm/Ivt6K4H9/z88dXrJk8L1P76dAraJt8Q/Nko4v84b+j+hY55Ced/WPxowNjwLzfG/JtGITlhiib8UNaDTrunjP5UsB0bWAADAYyKCb7vIsD/pQkWCHdTHv4oYAbuqE/4/2JP0Ax5j/r/o9zu/SGPLv5tcWnDuvt8/8fxAwCxzAUARW8PGX3rev5HxHJf+9e8/dYGEDcCa4T+coWEb1d39v+yaPunciPk/nUzv8JpE6r90Q3K8Abfxv6o/ZXdokO8/OUkyFgGLsL+aZKVXWifBP+E1xB7M89+/uksfFmh09j8qOpDDR1X4v2hLvMIoZ/g/Ke+NqM+R9b9kybW9M93iPy2TgkRclOu/BtM78BGm3L8y/ab0K6/pP3mmB39nz/q/ienJBI+t5L9f3w83fablP+gCahrTS/s//pVs4u2M878aOHmxZl7UvxKp6YVUBtw/OsMBmeN29T/Q1ffMoPdaPxK2La3ee+w/KuqYdEFF8L9kinRULXDAvxWIjJhHBec/xbbM3AJV5r/Z+YmYVP7svwtiyJsRl9G/CYzz2/Nl4T8OltXkXczyP29eJl1+WNc/5wbe5hZV0L8=",
          "dtype": "f8"
         },
         "y": {
          "bdata": "ljapn+1V+T9B4LpZzYTNP4Ws1+/V7vU/1OzQvWGmBEBHEjIci9b4vx/KlPYpCM2/9OzeN8YJ6r8+InC4MdcEwAT4IJA7Gd6/oY2z2juy9z8oeImSTsLePzL5UIDnh/e/oW3vv49O9L/zou++Zyn9v8S4Jz1vj/Q/uR+Z8BZp5z+I15UU8DHuP1p32uTlc/0/5hPmx5Oo+D+aFiM6QOPhP/8fU+dd/+O/ZOnszefc1j/ue6vgkPT4v7p8m+RLPvA/B7JXoKfW/z/By1B+la/lPzPgtR86L+W//c0uErBz/D9Ym95PN6zyPyjG9ok/2wFAzsoFvgPv+T+hPG17sDP4v3zbxvoDUta/EIsrKZwo4b8+4ika4BXkP2m/ZVfoBv+/1cs0wnO5AcDMH+HqrTHOPx2mcIYeuqS/Pc7VmNG14j8ErR0DiXMBQDRNsV56ldM/9171pYNx/j9EVnx4CiXbv0CS4S7GZ/C/YY6dllz29L99hXmT1JT+vzDK1h0Y0+O/Atm1QgEG8b+hP8fLDBkCwOV2NEOuFf2/5+ZoMuIbAMB1BPfFdav2v7e4ywkEysm/w1lmQW7b+z/bsEN2FwDov29L8YOZFPM/N6F5DJ1z8r+W4vJa0prbP08ONjfkCf6/VvVjbI2+0r+dcv1v0KXzv/BfIlqByPq/Io0FycXDtz+ckYVjXVrqP7BeSuHWN/E/wdnFktDo/D98UFDLdj3fv92BHTKPr/c/ajGxtDax4D/HDY8JWYn4P5rA9LniBO4/ExhNfJ1hpj86p42f6LDtP9zE9+Ns3+q/BoW1+RqmnT9aYTqDtofnP4aOBtk4yfI/qa312nuB+L/iOOI5SMnWvy7G0/kk/ra/fnLPVagZ7D9kIHaexaHpv/2Ia9tSXsU/r0UNtYwB7L+/lRfD3V/yv0Sqpi0t7+U/AWgUoe5h2j+5A+bgoAnyPwVRZauceus//RPsqAG3xT/MJC1f0la5v91GN2gkDsO/McBoTp3l0T+zTmPbr1fov0nmnzQ3Z8W/5+Ekmzsv87+IxJolmGDjvx6QSR+iILc/Y875t6OG378=",
          "dtype": "f8"
         },
         "z": {
          "bdata": "wa9Bx9PC6b/LUz3l6BQBQK7wHxDHAwFAhsgM/Gow5z+tz/Of1XfqPyrktN8SbgDAmUVTvrPfAcC97PNIslvEv6K1Oy0nB7E/wX1jQSaNAcC5Y80LjkCUvxTmo/vc7AFAhCryJoyb5j8JFyDKK4z+P7Wf4hjQBALA8SQlyzLL8L+ONehussP/P6C42gYcGqI/k5lTlvAn+L9P+LQ7qc7XvwHPJbDHmwFAXzqt6UsD8T/21FKtFRT1P43yufOhpfq/JuHYT1L49j+tDln1heP2v5jayapqsvc/lfW7mOjj9T+1iSzr+5sAQD2O5yabcNg/R5IyPjlw8T/CIfBu1Y/4P2yez5mA0e+/Yr4tX0bb2T+QaNYp5gABwOoLhaDwl9E/ioVnmiME7D9IHpgpRfUBwCJuiuFuTvq/F+upTzBt+D9Nx/lCNqzUv8DzKloGDwFAvU3BDUoX0j88uJvbTvoAwFZ1RY/6z/a/zlg/Lnksyb/ZIT2tJ/zfP5tdg87odQHA95rH0Y9387+Rwpmb3PDFPwAA9JU7bOm/iuIm8nRd679oH882Rr74vwDJgRkb2Ow/m8iJzSCV9b/QyJgAer8AQOF6FJOXEcS/g1VDrNRK178Hqd8Tn5gBwKodTmLTW/M/AEyafVQF5L+vCh0MMvX3v4/GnJ+w5uC/7prZ6hN5AECZitqt4yXeP4C2T+ECce0/Y4JKXmlg5b/4fCKxwjT4P35qfS3/jui/a2bmH88D2T9kBTdatLvhP5hZtW0i5/M/NTPpiKo39T8TtQIBig3jv0LA8kFpm+U/M4OKg5Vn87+xafYDXtDyPwOlw1mocMw/t1TJBiq2nT8yXvTpJ1P1vxEVayudH8W/Dx9aRsOU9L/4B/h32Bb2P9Lzk6A4mNA//I8Kc/qR3T/Y1zl3lOTwP2mZILeOiPW/94w+3e0Q6L+Unp593YHdvzx1M5FNbb8/6F5AwXO/5D/h9WFQArfzP8xzsKvwBOE/AZKG6SSQ2b8GREiAgCrjv0BYy+VPlfS//TN2vIqi1j+KJ6cNs13Vv5EJ6JkDgt2/tY69/5Rryz8=",
          "dtype": "f8"
         }
        },
        {
         "line": {
          "color": "green",
          "dash": "longdash",
          "width": 3
         },
         "mode": "lines",
         "showlegend": false,
         "type": "scatter3d",
         "x": [
          2.1120497948,
          2.1090071837548923
         ],
         "y": [
          0.2102563826,
          0.23061530000063793
         ],
         "z": [
          2.1100270051,
          2.135209837850629
         ]
        },
        {
         "line": {
          "color": "green",
          "dash": "longdash",
          "width": 3
         },
         "mode": "lines",
         "showlegend": false,
         "type": "scatter3d",
         "x": [
          0.3476922191,
          0.33875088917931956
         ],
         "y": [
          2.5949947928,
          2.5812411145576366
         ],
         "z": [
          0.7503398385,
          0.7246603892183578
         ]
        },
        {
         "line": {
          "color": "green",
          "dash": "longdash",
          "width": 3
         },
         "mode": "lines",
         "showlegend": false,
         "type": "scatter3d",
         "x": [
          -0.9337527338,
          -0.9485847693784759
         ],
         "y": [
          1.3806423468,
          1.3708094948622442
         ],
         "z": [
          2.1540269057,
          2.1268445262668
         ]
        },
        {
         "line": {
          "color": "green",
          "dash": "longdash",
          "width": 3
         },
         "mode": "lines",
         "showlegend": false,
         "type": "scatter3d",
         "x": [
          -2.0779756892,
          -2.02359623991692
         ],
         "y": [
          -0.1532807455,
          -0.22681164302919485
         ],
         "z": [
          -2.02961745,
          -2.0537469365194925
         ]
        },
        {
         "line": {
          "color": "green",
          "dash": "longdash",
          "width": 3
         },
         "mode": "lines",
         "showlegend": false,
         "type": "scatter3d",
         "x": [
          2.3295840551,
          2.360680432835982
         ],
         "y": [
          -1.559468355,
          -1.5523787595167435
         ],
         "z": [
          0.7775892929,
          0.8271282314367362
         ]
        },
        {
         "line": {
          "color": "green",
          "dash": "longdash",
          "width": 3
         },
         "mode": "lines",
         "showlegend": false,
         "type": "scatter3d",
         "x": [
          -0.7018348602,
          -0.6486240650683731
         ],
         "y": [
          -2.570330612,
          -2.6050753030033595
         ],
         "z": [
          -0.1831664357,
          -0.15904835283422428
         ]
        },
        {
         "line": {
          "color": "green",
          "dash": "longdash",
          "width": 3
         },
         "mode": "lines",
         "showlegend": false,
         "type": "scatter3d",
         "x": [
          1.1942502441,
          1.2565764665097736
         ],
         "y": [
          -0.773515927,
          -0.8136931506373046
         ],
         "z": [
          -2.2601233009,
          -2.234229552189117
         ]
        },
        {
         "line": {
          "color": "green",
          "dash": "longdash",
          "width": 3
         },
         "mode": "lines",
         "showlegend": false,
         "type": "scatter3d",
         "x": [
          -2.6997993743,
          -2.671301371435376
         ],
         "y": [
          -0.4225455899,
          -0.4702900798328076
         ],
         "z": [
          0.0963283153,
          0.06651539663626818
         ]
        },
        {
         "line": {
          "color": "green",
          "dash": "longdash",
          "width": 3
         },
         "mode": "lines",
         "showlegend": false,
         "type": "scatter3d",
         "x": [
          -0.630191688,
          -0.5960115048479318
         ],
         "y": [
          1.5387091334,
          1.4810141127607965
         ],
         "z": [
          -2.1707073728,
          -2.1939206226813615
         ]
        },
        {
         "line": {
          "color": "green",
          "dash": "longdash",
          "width": 3
         },
         "mode": "lines",
         "showlegend": false,
         "type": "scatter3d",
         "x": [
          0.4706477305,
          0.5090209934295701
         ],
         "y": [
          1.3320959599,
          1.2850181950448567
         ],
         "z": [
          -2.2452709256,
          -2.2523500389251816
         ]
        },
        {
         "line": {
          "color": "green",
          "dash": "longdash",
          "width": 3
         },
         "mode": "lines",
         "showlegend": false,
         "type": "scatter3d",
         "x": [
          -2.2359813953,
          -2.2074641020817993
         ],
         "y": [
          -1.2328268517,
          -1.2691800591918325
         ],
         "z": [
          0.7195535636,
          0.7064877281821542
         ]
        },
        {
         "line": {
          "color": "green",
          "dash": "longdash",
          "width": 3
         },
         "mode": "lines",
         "showlegend": false,
         "type": "scatter3d",
         "x": [
          0.6260200699,
          0.6374572626823758
         ],
         "y": [
          -1.4782382799,
          -1.4706797611575664
         ],
         "z": [
          2.2138610969,
          2.24065586656503
         ]
        },
        {
         "line": {
          "color": "green",
          "dash": "longdash",
          "width": 3
         },
         "mode": "lines",
         "showlegend": false,
         "type": "scatter3d",
         "x": [
          2.6918417417,
          2.7127278194284608
         ],
         "y": [
          0.479426726,
          0.48060955343487644
         ],
         "z": [
          -0.0490200135,
          -0.01977750727687397
         ]
        },
        {
         "line": {
          "color": "green",
          "dash": "longdash",
          "width": 3
         },
         "mode": "lines",
         "showlegend": false,
         "type": "scatter3d",
         "x": [
          2.3076243135,
          2.3394260467370867
         ],
         "y": [
          0.7466653177,
          0.7315783213789394
         ],
         "z": [
          -1.0705641613,
          -1.0496089873652716
         ]
        },
        {
         "line": {
          "color": "green",
          "dash": "longdash",
          "width": 3
         },
         "mode": "lines",
         "showlegend": false,
         "type": "scatter3d",
         "x": [
          -0.3960585784,
          -0.3770388669145185
         ],
         "y": [
          -1.8154621062,
          -1.8226087053719169
         ],
         "z": [
          1.8910270733,
          1.9092214484712164
         ]
        },
        {
         "line": {
          "color": "green",
          "dash": "longdash",
          "width": 3
         },
         "mode": "lines",
         "showlegend": false,
         "type": "scatter3d",
         "x": [
          -1.7045332653,
          -1.6922042012429865
         ],
         "y": [
          1.8801967986,
          1.840795415838747
         ],
         "z": [
          0.0704986306,
          0.03535544952079417
         ]
        },
        {
         "line": {
          "color": "green",
          "dash": "longdash",
          "width": 3
         },
         "mode": "lines",
         "showlegend": false,
         "type": "scatter3d",
         "x": [
          -2.5608955476,
          -2.534317892901497
         ],
         "y": [
          0.6109940388,
          0.5589905868043445
         ],
         "z": [
          -0.3287211982,
          -0.37198859053376493
         ]
        },
        {
         "line": {
          "color": "green",
          "dash": "longdash",
          "width": 3
         },
         "mode": "lines",
         "showlegend": false,
         "type": "scatter3d",
         "x": [
          -1.5138650471,
          -1.4897439667509575
         ],
         "y": [
          1.6032080775,
          1.5411565598053527
         ],
         "z": [
          -1.475633208,
          -1.509750926221021
         ]
        },
        {
         "line": {
          "color": "green",
          "dash": "longdash",
          "width": 3
         },
         "mode": "lines",
         "showlegend": false,
         "type": "scatter3d",
         "x": [
          -2.2346850206,
          -2.365609614786032
         ],
         "y": [
          0.7475546604,
          1.5834785687215223
         ],
         "z": [
          -1.3933491791,
          -0.805032624409698
         ]
        },
        {
         "line": {
          "color": "green",
          "dash": "longdash",
          "width": 3
         },
         "mode": "lines",
         "showlegend": false,
         "type": "scatter3d",
         "x": [
          1.2837417776,
          1.2752830479918145
         ],
         "y": [
          0.9333341166,
          0.9435959245736152
         ],
         "z": [
          1.9793896825,
          1.9852775890643417
         ]
        },
        {
         "line": {
          "color": "green",
          "dash": "longdash",
          "width": 3
         },
         "mode": "lines",
         "showlegend": false,
         "type": "scatter3d",
         "x": [
          1.3773339531,
          1.3815028473868247
         ],
         "y": [
          -0.6390394677,
          -0.6249227064190562
         ],
         "z": [
          2.1749984916,
          2.20106446853049
         ]
        },
        {
         "line": {
          "color": "green",
          "dash": "longdash",
          "width": 3
         },
         "mode": "lines",
         "showlegend": false,
         "type": "scatter3d",
         "x": [
          2.4172086768,
          2.426059696442908
         ],
         "y": [
          0.3463910467,
          0.35723300084977994
         ],
         "z": [
          1.035931299,
          1.0633048179621694
         ]
        },
        {
         "line": {
          "color": "green",
          "dash": "longdash",
          "width": 3
         },
         "mode": "lines",
         "showlegend": false,
         "type": "scatter3d",
         "x": [
          -1.3263864842,
          -1.302701545145535
         ],
         "y": [
          -1.537470885,
          -1.5597084785620114
         ],
         "z": [
          1.3147363083,
          1.3174034853412286
         ]
        },
        {
         "line": {
          "color": "green",
          "dash": "longdash",
          "width": 3
         },
         "mode": "lines",
         "showlegend": false,
         "type": "scatter3d",
         "x": [
          1.4002954334,
          1.4358146958468418
         ],
         "y": [
          1.0464530222,
          1.0152090959525553
         ],
         "z": [
          -1.6720511258,
          -1.6654376526413757
         ]
        },
        {
         "line": {
          "color": "green",
          "dash": "longdash",
          "width": 3
         },
         "mode": "lines",
         "showlegend": false,
         "type": "scatter3d",
         "x": [
          -0.2953436921,
          -0.3072150435591266
         ],
         "y": [
          2.0016833718,
          1.989905954683424
         ],
         "z": [
          1.4620658239,
          1.4356253737478908
         ]
        },
        {
         "line": {
          "color": "green",
          "dash": "longdash",
          "width": 3
         },
         "mode": "lines",
         "showlegend": false,
         "type": "scatter3d",
         "x": [
          2.2217821112,
          2.235788461703003
         ],
         "y": [
          -0.6757378629,
          -0.6620150203079959
         ],
         "z": [
          1.4437098295,
          1.4810587569642504
         ]
        },
        {
         "line": {
          "color": "green",
          "dash": "longdash",
          "width": 3
         },
         "mode": "lines",
         "showlegend": false,
         "type": "scatter3d",
         "x": [
          -1.3556814397,
          -1.3108227518928657
         ],
         "y": [
          0.6930942009,
          0.6276703368194558
         ],
         "z": [
          -2.1019483566,
          -2.1254390018994584
         ]
        },
        {
         "line": {
          "color": "green",
          "dash": "longdash",
          "width": 3
         },
         "mode": "lines",
         "showlegend": false,
         "type": "scatter3d",
         "x": [
          -2.3909491892,
          -2.3492915629844098
         ],
         "y": [
          -0.287972943,
          -0.3487558316223198
         ],
         "z": [
          -0.9679221012,
          -0.9943240169640837
         ]
        },
        {
         "line": {
          "color": "green",
          "dash": "longdash",
          "width": 3
         },
         "mode": "lines",
         "showlegend": false,
         "type": "scatter3d",
         "x": [
          -0.6841337473,
          -0.6847027682781791
         ],
         "y": [
          2.2597346309,
          2.232054784625479
         ],
         "z": [
          0.4157859192,
          0.381872928612413
         ]
        },
        {
         "line": {
          "color": "green",
          "dash": "longdash",
          "width": 3
         },
         "mode": "lines",
         "showlegend": false,
         "type": "scatter3d",
         "x": [
          -1.330916696,
          -1.3347365329015868
         ],
         "y": [
          1.6468153369,
          1.6208531782873936
         ],
         "z": [
          1.1242682299,
          1.0898983411399443
         ]
        },
        {
         "line": {
          "color": "green",
          "dash": "longdash",
          "width": 3
         },
         "mode": "lines",
         "showlegend": false,
         "type": "scatter3d",
         "x": [
          0.1781950731,
          0.1662220252734659
         ],
         "y": [
          1.1666421728,
          1.1670449371246914
         ],
         "z": [
          2.0867414395,
          2.0761640904395002
         ]
        },
        {
         "line": {
          "color": "green",
          "dash": "longdash",
          "width": 3
         },
         "mode": "lines",
         "showlegend": false,
         "type": "scatter3d",
         "x": [
          0.8251124174,
          0.8162524017045133
         ],
         "y": [
          1.7796886558,
          1.77824408629101
         ],
         "z": [
          1.3781120412,
          1.3681417432956995
         ]
        },
        {
         "line": {
          "color": "green",
          "dash": "longdash",
          "width": 3
         },
         "mode": "lines",
         "showlegend": false,
         "type": "scatter3d",
         "x": [
          2.5124973665,
          2.5386245927104834
         ],
         "y": [
          -0.5402803597,
          -0.5362072757819494
         ],
         "z": [
          0.3647083178,
          0.40400847716134625
         ]
        },
        {
         "line": {
          "color": "green",
          "dash": "longdash",
          "width": 3
         },
         "mode": "lines",
         "showlegend": false,
         "type": "scatter3d",
         "x": [
          1.4788924609,
          1.5001734189689793
         ],
         "y": [
          -1.519770453,
          -1.5126194783549993
         ],
         "z": [
          1.4969084603,
          1.535115655280706
         ]
        },
        {
         "line": {
          "color": "green",
          "dash": "longdash",
          "width": 3
         },
         "mode": "lines",
         "showlegend": false,
         "type": "scatter3d",
         "x": [
          0.8339669575,
          0.8847161138026594
         ],
         "y": [
          0.2794873149,
          0.23589109390945706
         ],
         "z": [
          -2.2538824981,
          -2.2447608232066933
         ]
        },
        {
         "line": {
          "color": "green",
          "dash": "longdash",
          "width": 3
         },
         "mode": "lines",
         "showlegend": false,
         "type": "scatter3d",
         "x": [
          -1.4693293091,
          -1.4285588558043314
         ],
         "y": [
          -1.9032188982,
          -1.939186421772286
         ],
         "z": [
          0.2691319473,
          0.2748986785483668
         ]
        },
        {
         "line": {
          "color": "green",
          "dash": "longdash",
          "width": 3
         },
         "mode": "lines",
         "showlegend": false,
         "type": "scatter3d",
         "x": [
          1.7517634184,
          1.7987649554816054
         ],
         "y": [
          -0.0129053316,
          -0.040482477103364035
         ],
         "z": [
          -1.6675035817,
          -1.6441487131295465
         ]
        },
        {
         "line": {
          "color": "green",
          "dash": "longdash",
          "width": 3
         },
         "mode": "lines",
         "showlegend": false,
         "type": "scatter3d",
         "x": [
          -0.5504992131,
          -0.5144995768968903
         ],
         "y": [
          -2.1946308484,
          -2.2155528232919814
         ],
         "z": [
          0.8543762918,
          0.8755052581511091
         ]
        },
        {
         "line": {
          "color": "green",
          "dash": "longdash",
          "width": 3
         },
         "mode": "lines",
         "showlegend": false,
         "type": "scatter3d",
         "x": [
          0.1994771665,
          0.20427970540805002
         ],
         "y": [
          2.209363656,
          2.181413673728118
         ],
         "z": [
          -0.3001907258,
          -0.32301098385425037
         ]
        },
        {
         "line": {
          "color": "green",
          "dash": "longdash",
          "width": 3
         },
         "mode": "lines",
         "showlegend": false,
         "type": "scatter3d",
         "x": [
          -1.4932695962,
          -1.4938875414130066
         ],
         "y": [
          0.6052428806,
          0.5846946702062678
         ],
         "z": [
          1.5540337975,
          1.526657401262758
         ]
        },
        {
         "line": {
          "color": "green",
          "dash": "longdash",
          "width": 3
         },
         "mode": "lines",
         "showlegend": false,
         "type": "scatter3d",
         "x": [
          1.1234633979,
          1.1260432014426722
         ],
         "y": [
          1.9135871104,
          1.9027134402039658
         ],
         "z": [
          0.2912503582,
          0.2826714643790316
         ]
        },
        {
         "line": {
          "color": "green",
          "dash": "longdash",
          "width": 3
         },
         "mode": "lines",
         "showlegend": false,
         "type": "scatter3d",
         "x": [
          -0.5665947696,
          -0.5721190386344472
         ],
         "y": [
          0.312014581,
          0.3059984135372418
         ],
         "z": [
          2.1425289501,
          2.1323363346441226
         ]
        },
        {
         "line": {
          "color": "green",
          "dash": "longdash",
          "width": 3
         },
         "mode": "lines",
         "showlegend": false,
         "type": "scatter3d",
         "x": [
          -1.6242099137,
          -1.5704152925020134
         ],
         "y": [
          -0.9649594777,
          -1.0253354865354964
         ],
         "z": [
          -1.4181236908,
          -1.4257760616813662
         ]
        },
        {
         "line": {
          "color": "green",
          "dash": "longdash",
          "width": 3
         },
         "mode": "lines",
         "showlegend": false,
         "type": "scatter3d",
         "x": [
          -0.9881409315,
          -0.9310156107899894
         ],
         "y": [
          -0.3621914953,
          -0.42413579717808525
         ],
         "z": [
          -2.1148694108,
          -2.122220721902549
         ]
        },
        {
         "line": {
          "color": "green",
          "dash": "longdash",
          "width": 3
         },
         "mode": "lines",
         "showlegend": false,
         "type": "scatter3d",
         "x": [
          1.3212444195,
          1.3600042219398594
         ],
         "y": [
          -1.9042629491,
          -1.9113355408411217
         ],
         "z": [
          0.4586558127,
          0.4997653190407881
         ]
        },
        {
         "line": {
          "color": "green",
          "dash": "longdash",
          "width": 3
         },
         "mode": "lines",
         "showlegend": false,
         "type": "scatter3d",
         "x": [
          1.9576256865,
          1.9993907640889081
         ],
         "y": [
          -1.3011996582,
          -1.3101468928733981
         ],
         "z": [
          -0.2384300668,
          -0.1966697192971822
         ]
        },
        {
         "line": {
          "color": "green",
          "dash": "longdash",
          "width": 3
         },
         "mode": "lines",
         "showlegend": false,
         "type": "scatter3d",
         "x": [
          -1.1660319214,
          -1.112559542848436
         ],
         "y": [
          -1.7701687646,
          -1.8177931428139626
         ],
         "z": [
          -0.8027559222,
          -0.7944620064517949
         ]
        },
        {
         "line": {
          "color": "green",
          "dash": "longdash",
          "width": 3
         },
         "mode": "lines",
         "showlegend": false,
         "type": "scatter3d",
         "x": [
          0.1020393127,
          0.16185113322465655
         ],
         "y": [
          -0.5684873408,
          -0.6195183356088076
         ],
         "z": [
          -2.191792001,
          -2.182572949775659
         ]
        },
        {
         "line": {
          "color": "green",
          "dash": "longdash",
          "width": 3
         },
         "mode": "lines",
         "showlegend": false,
         "type": "scatter3d",
         "x": [
          0.3113042927,
          0.3573897505353277
         ],
         "y": [
          -2.2411760099,
          -2.262231437700351
         ],
         "z": [
          0.1387701473,
          0.17141301725088856
         ]
        },
        {
         "line": {
          "color": "green",
          "dash": "longdash",
          "width": 3
         },
         "mode": "lines",
         "showlegend": false,
         "type": "scatter3d",
         "x": [
          1.5796037848,
          1.6317889661337523
         ],
         "y": [
          -1.0392789786,
          -1.0639660459397082
         ],
         "z": [
          -1.2505141222,
          -1.2166898912925583
         ]
        },
        {
         "line": {
          "color": "green",
          "dash": "longdash",
          "width": 3
         },
         "mode": "lines",
         "showlegend": false,
         "type": "scatter3d",
         "x": [
          0.5625850394,
          0.6222757466618156
         ],
         "y": [
          -1.3781818225,
          -1.4168603642467847
         ],
         "z": [
          -1.5718305258,
          -1.5464536801318562
         ]
        },
        {
         "line": {
          "color": "green",
          "dash": "longdash",
          "width": 3
         },
         "mode": "lines",
         "showlegend": false,
         "type": "scatter3d",
         "x": [
          -0.0690207457,
          -0.01239460935276122
         ],
         "y": [
          -1.9767195803,
          -2.0136150301230944
         ],
         "z": [
          -0.8799745144,
          -0.8551583032159027
         ]
        },
        {
         "line": {
          "color": "green",
          "dash": "longdash",
          "width": 3
         },
         "mode": "lines",
         "showlegend": false,
         "type": "scatter3d",
         "x": [
          0.0444591887,
          0.06556292984363092
         ],
         "y": [
          1.7822339284,
          1.7410719446830718
         ],
         "z": [
          -1.3305347904,
          -1.3489082363926517
         ]
        },
        {
         "line": {
          "color": "green",
          "dash": "longdash",
          "width": 3
         },
         "mode": "lines",
         "showlegend": false,
         "type": "scatter3d",
         "x": [
          -2.0155336841,
          -2.000408694356859
         ],
         "y": [
          -0.1699061863,
          -0.20147753217992712
         ],
         "z": [
          0.9259678847,
          0.9013801096137115
         ]
        },
        {
         "line": {
          "color": "green",
          "dash": "longdash",
          "width": 3
         },
         "mode": "lines",
         "showlegend": false,
         "type": "scatter3d",
         "x": [
          1.8646007101,
          1.8798014931540217
         ],
         "y": [
          1.2011825991,
          1.1925292161947387
         ],
         "z": [
          -0.1661671179,
          -0.1567868679203093
         ]
        },
        {
         "line": {
          "color": "green",
          "dash": "longdash",
          "width": 3
         },
         "mode": "lines",
         "showlegend": false,
         "type": "scatter3d",
         "x": [
          -0.1915650216,
          -0.18616074429385002
         ],
         "y": [
          -0.7473309017,
          -0.750011187539282
         ],
         "z": [
          2.0861424571,
          2.093494419729815
         ]
        },
        {
         "line": {
          "color": "green",
          "dash": "longdash",
          "width": 3
         },
         "mode": "lines",
         "showlegend": false,
         "type": "scatter3d",
         "x": [
          -1.9400997627,
          -1.8991985468394343
         ],
         "y": [
          -1.1046414922,
          -1.153225945216105
         ],
         "z": [
          -0.3536635242,
          -0.36394230673371214
         ]
        },
        {
         "line": {
          "color": "green",
          "dash": "longdash",
          "width": 3
         },
         "mode": "lines",
         "showlegend": false,
         "type": "scatter3d",
         "x": [
          -0.2618719671,
          -0.2139674123536104
         ],
         "y": [
          0.4857232854,
          0.4313245666667539
         ],
         "z": [
          -2.1919836521,
          -2.199522166503019
         ]
        },
        {
         "line": {
          "color": "green",
          "dash": "longdash",
          "width": 3
         },
         "mode": "lines",
         "showlegend": false,
         "type": "scatter3d",
         "x": [
          2.1444175683,
          2.1812376994927196
         ],
         "y": [
          -0.2810431942,
          -0.2928803976536377
         ],
         "z": [
          -0.6571914941,
          -0.6256506398370902
         ]
        },
        {
         "line": {
          "color": "green",
          "dash": "longdash",
          "width": 3
         },
         "mode": "lines",
         "showlegend": false,
         "type": "scatter3d",
         "x": [
          0.4671765856,
          0.4960285279461886
         ],
         "y": [
          -1.8704706423,
          -1.8774149090467238
         ],
         "z": [
          1.1800424096,
          1.2099183883709466
         ]
        },
        {
         "line": {
          "color": "green",
          "dash": "longdash",
          "width": 3
         },
         "mode": "lines",
         "showlegend": false,
         "type": "scatter3d",
         "x": [
          -0.8299476849,
          -0.8208746629483304
         ],
         "y": [
          1.8503012823,
          1.8068395360293013
         ],
         "z": [
          -0.6365134576,
          -0.668018993532382
         ]
        },
        {
         "line": {
          "color": "green",
          "dash": "longdash",
          "width": 3
         },
         "mode": "lines",
         "showlegend": false,
         "type": "scatter3d",
         "x": [
          -1.8762716219,
          -1.8666583127579548
         ],
         "y": [
          0.8587588704,
          0.8235308593544235
         ],
         "z": [
          0.5096239587,
          0.47106258371256043
         ]
        },
        {
         "line": {
          "color": "green",
          "dash": "longdash",
          "width": 3
         },
         "mode": "lines",
         "showlegend": false,
         "type": "scatter3d",
         "x": [
          -0.5332665986,
          -0.4762191239400844
         ],
         "y": [
          -1.1783083132,
          -1.2279819845781852
         ],
         "z": [
          -1.5062026952,
          -1.4973621819669167
         ]
        },
        {
         "line": {
          "color": "green",
          "dash": "longdash",
          "width": 3
         },
         "mode": "lines",
         "showlegend": false,
         "type": "scatter3d",
         "x": [
          0.9493442493,
          0.9987786246706937
         ],
         "y": [
          -1.6509045348,
          -1.6739514847631618
         ],
         "z": [
          -0.5615576468,
          -0.5281603925161152
         ]
        },
        {
         "line": {
          "color": "green",
          "dash": "longdash",
          "width": 3
         },
         "mode": "lines",
         "showlegend": false,
         "type": "scatter3d",
         "x": [
          1.5925654157,
          1.595913802253274
         ],
         "y": [
          1.075098573,
          1.0761326599512522
         ],
         "z": [
          0.9123322149,
          0.9200453186619626
         ]
        },
        {
         "line": {
          "color": "green",
          "dash": "longdash",
          "width": 3
         },
         "mode": "lines",
         "showlegend": false,
         "type": "scatter3d",
         "x": [
          0.5518558025,
          0.5501404060378677
         ],
         "y": [
          0.0888776304,
          0.0928310027862165
         ],
         "z": [
          2.0523181468,
          2.059120020643028
         ]
        },
        {
         "line": {
          "color": "green",
          "dash": "longdash",
          "width": 3
         },
         "mode": "lines",
         "showlegend": false,
         "type": "scatter3d",
         "x": [
          0.968078802,
          0.986377938455907
         ],
         "y": [
          1.5054365934,
          1.4803611714961484
         ],
         "z": [
          -0.7626119705,
          -0.7674556625818949
         ]
        },
        {
         "line": {
          "color": "green",
          "dash": "longdash",
          "width": 3
         },
         "mode": "lines",
         "showlegend": false,
         "type": "scatter3d",
         "x": [
          -1.1172315073,
          -1.1071793900666451
         ],
         "y": [
          -0.4706952772,
          -0.4881264672742487
         ],
         "z": [
          1.5216228418,
          1.5128809851956344
         ]
        },
        {
         "line": {
          "color": "green",
          "dash": "longdash",
          "width": 3
         },
         "mode": "lines",
         "showlegend": false,
         "type": "scatter3d",
         "x": [
          -0.0807204382,
          -0.06462103645234131
         ],
         "y": [
          0.5440004239,
          0.5216325310844188
         ],
         "z": [
          0.3969403485,
          0.3908574878238144
         ]
        },
        {
         "line": {
          "color": "green",
          "dash": "longdash",
          "width": 3
         },
         "mode": "lines",
         "showlegend": false,
         "type": "scatter3d",
         "x": [
          -1.5539289605,
          -1.520820392531855
         ],
         "y": [
          0.9839434502,
          0.9278452984119447
         ],
         "z": [
          -0.5673747791,
          -0.5954027194726755
         ]
        },
        {
         "line": {
          "color": "green",
          "dash": "longdash",
          "width": 3
         },
         "mode": "lines",
         "showlegend": false,
         "type": "scatter3d",
         "x": [
          -0.5002664281,
          -0.49925520901237347
         ],
         "y": [
          0.9541939636,
          0.9380963928179142
         ],
         "z": [
          1.2603369904,
          1.2439293179973898
         ]
        },
        {
         "line": {
          "color": "green",
          "dash": "longdash",
          "width": 3
         },
         "mode": "lines",
         "showlegend": false,
         "type": "scatter3d",
         "x": [
          0.1302194377,
          0.13401345519631463
         ],
         "y": [
          1.5516713572,
          1.5335321782484799
         ],
         "z": [
          0.5697074846,
          0.5541631471643709
         ]
        },
        {
         "line": {
          "color": "green",
          "dash": "longdash",
          "width": 3
         },
         "mode": "lines",
         "showlegend": false,
         "type": "scatter3d",
         "x": [
          1.3945765482,
          1.4034195770407067
         ],
         "y": [
          0.04004343,
          0.043713494704704335
         ],
         "z": [
          1.3077747715,
          1.3260903690417767
         ]
        },
        {
         "line": {
          "color": "green",
          "dash": "longdash",
          "width": 3
         },
         "mode": "lines",
         "showlegend": false,
         "type": "scatter3d",
         "x": [
          -1.3901750443,
          -2.195252858553689
         ],
         "y": [
          0.085657634,
          0.6776835887052287
         ],
         "z": [
          -1.1950051194,
          -1.4305476745511598
         ]
        },
        {
         "line": {
          "color": "green",
          "dash": "longdash",
          "width": 3
         },
         "mode": "lines",
         "showlegend": false,
         "type": "scatter3d",
         "x": [
          -0.8743140639,
          -0.8618604028784823
         ],
         "y": [
          1.205985358,
          1.1741264798701265
         ],
         "z": [
          0.2451457695,
          0.22218803771037451
         ]
        },
        {
         "line": {
          "color": "green",
          "dash": "longdash",
          "width": 3
         },
         "mode": "lines",
         "showlegend": false,
         "type": "scatter3d",
         "x": [
          1.499298918,
          1.5251853567940206
         ],
         "y": [
          -0.8367129403,
          -0.8397736027237914
         ],
         "z": [
          0.644878333,
          0.6752210891772921
         ]
        },
        {
         "line": {
          "color": "green",
          "dash": "longdash",
          "width": 3
         },
         "mode": "lines",
         "showlegend": false,
         "type": "scatter3d",
         "x": [
          0.585686453,
          0.5895022111201738
         ],
         "y": [
          0.741514717,
          0.73531652098158
         ],
         "z": [
          1.1761794269,
          1.175870910147392
         ]
        },
        {
         "line": {
          "color": "green",
          "dash": "longdash",
          "width": 3
         },
         "mode": "lines",
         "showlegend": false,
         "type": "scatter3d",
         "x": [
          0.7560617377,
          0.8026332643857244
         ],
         "y": [
          -0.3217833997,
          -0.35603528645232363
         ],
         "z": [
          -1.3476607748,
          -1.332801736722001
         ]
        },
        {
         "line": {
          "color": "green",
          "dash": "longdash",
          "width": 3
         },
         "mode": "lines",
         "showlegend": false,
         "type": "scatter3d",
         "x": [
          -0.4882229216,
          -0.4476361127884022
         ],
         "y": [
          -1.5009231575,
          -1.5316122582542937
         ],
         "z": [
          0.0153190551,
          0.029015213646137208
         ]
        },
        {
         "line": {
          "color": "green",
          "dash": "longdash",
          "width": 3
         },
         "mode": "lines",
         "showlegend": false,
         "type": "scatter3d",
         "x": [
          -0.6780479494,
          -0.6461863606958086
         ],
         "y": [
          0.9271178662,
          0.8781320262892931
         ],
         "z": [
          -1.2680117971,
          -1.286319041073458
         ]
        },
        {
         "line": {
          "color": "green",
          "dash": "longdash",
          "width": 3
         },
         "mode": "lines",
         "showlegend": false,
         "type": "scatter3d",
         "x": [
          -1.7042230906,
          -1.675635811052784
         ],
         "y": [
          -0.0453319102,
          -0.08981543635652464
         ],
         "z": [
          -0.1439461351,
          -0.16502728099855138
         ]
        },
        {
         "line": {
          "color": "green",
          "dash": "longdash",
          "width": 3
         },
         "mode": "lines",
         "showlegend": false,
         "type": "scatter3d",
         "x": [
          1.6852557826,
          1.7060118705559777
         ],
         "y": [
          0.1727852137,
          0.1669410296809203
         ],
         "z": [
          0.2390823969,
          0.2592908447402894
         ]
        },
        {
         "line": {
          "color": "green",
          "dash": "longdash",
          "width": 3
         },
         "mode": "lines",
         "showlegend": false,
         "type": "scatter3d",
         "x": [
          0.660625752,
          0.6765733790807466
         ],
         "y": [
          -0.7981998339,
          -0.8009975523900832
         ],
         "z": [
          1.3614531292,
          1.3805775343212172
         ]
        },
        {
         "line": {
          "color": "green",
          "dash": "longdash",
          "width": 3
         },
         "mode": "lines",
         "showlegend": false,
         "type": "scatter3d",
         "x": [
          0.403135258,
          0.43788636281409865
         ],
         "y": [
          0.7232002381,
          0.6854463473912991
         ],
         "z": [
          -1.3442571552,
          -1.345839228955436
         ]
        },
        {
         "line": {
          "color": "green",
          "dash": "longdash",
          "width": 3
         },
         "mode": "lines",
         "showlegend": false,
         "type": "scatter3d",
         "x": [
          -1.250210189,
          -1.2219065518087286
         ],
         "y": [
          -0.8435833432,
          -0.8751891647499884
         ],
         "z": [
          0.4668060877,
          0.4620348094415474
         ]
        },
        {
         "line": {
          "color": "green",
          "dash": "longdash",
          "width": 3
         },
         "mode": "lines",
         "showlegend": false,
         "type": "scatter3d",
         "x": [
          1.3101857385,
          1.3415256478148891
         ],
         "y": [
          0.4337498733,
          0.41222730379524825
         ],
         "z": [
          -0.7644025314,
          -0.752066547506188
         ]
        },
        {
         "line": {
          "color": "green",
          "dash": "longdash",
          "width": 3
         },
         "mode": "lines",
         "showlegend": false,
         "type": "scatter3d",
         "x": [
          -0.3416019822,
          -0.31826178866765675
         ],
         "y": [
          -1.1315568471,
          -1.1484048481737401
         ],
         "z": [
          1.0449529116,
          1.055805650450102
         ]
        },
        {
         "line": {
          "color": "green",
          "dash": "longdash",
          "width": 3
         },
         "mode": "lines",
         "showlegend": false,
         "type": "scatter3d",
         "x": [
          -1.0318241461,
          -1.0169081263144428
         ],
         "y": [
          0.1963992774,
          0.16964741466668434
         ],
         "z": [
          0.664059053,
          0.6483706259195658
         ]
        },
        {
         "line": {
          "color": "green",
          "dash": "longdash",
          "width": 3
         },
         "mode": "lines",
         "showlegend": false,
         "type": "scatter3d",
         "x": [
          -0.0162300235,
          0.0016459532088196512
         ],
         "y": [
          1.1588229671,
          1.127350691327804
         ],
         "z": [
          -0.4484188806,
          -0.46105134265460745
         ]
        },
        {
         "line": {
          "color": "green",
          "dash": "longdash",
          "width": 3
         },
         "mode": "lines",
         "showlegend": false,
         "type": "scatter3d",
         "x": [
          -0.1388931112,
          -0.12842337249556401
         ],
         "y": [
          -0.0864121908,
          -0.09898104499474697
         ],
         "z": [
          1.2318440299,
          1.232179941172369
         ]
        },
        {
         "line": {
          "color": "green",
          "dash": "longdash",
          "width": 3
         },
         "mode": "lines",
         "showlegend": false,
         "type": "scatter3d",
         "x": [
          0.8747812011,
          0.8901208288568248
         ],
         "y": [
          0.8741881744,
          0.8587172839711746
         ],
         "z": [
          0.1214748365,
          0.12276158137270426
         ]
        },
        {
         "line": {
          "color": "green",
          "dash": "longdash",
          "width": 3
         },
         "mode": "lines",
         "showlegend": false,
         "type": "scatter3d",
         "x": [
          -0.7289211069,
          -0.6978773415082392
         ],
         "y": [
          0.3211631786,
          0.27963955552241077
         ],
         "z": [
          -0.3875972734,
          -0.39942286305657154
         ]
        },
        {
         "line": {
          "color": "green",
          "dash": "longdash",
          "width": 3
         },
         "mode": "lines",
         "showlegend": false,
         "type": "scatter3d",
         "x": [
          0.6985225075,
          0.7193944911452969
         ],
         "y": [
          -0.1360611325,
          -0.14886908615749564
         ],
         "z": [
          0.5199838419,
          0.531853041964149
         ]
        },
        {
         "line": {
          "color": "green",
          "dash": "longdash",
          "width": 3
         },
         "mode": "lines",
         "showlegend": false,
         "type": "scatter3d",
         "x": [
          -0.3193716197,
          -1.348098429122681
         ],
         "y": [
          -0.1218574758,
          0.02895395421126514
         ],
         "z": [
          -1.2846746245,
          -1.2127890718767957
         ]
        },
        {
         "line": {
          "color": "green",
          "dash": "longdash",
          "width": 3
         },
         "mode": "lines",
         "showlegend": false,
         "type": "scatter3d",
         "x": [
          -0.9471324573,
          -0.906046197822259
         ],
         "y": [
          -0.7167517426,
          -0.7607039723320298
         ],
         "z": [
          -0.5970300955,
          -0.5989382272256314
         ]
        },
        {
         "line": {
          "color": "green",
          "dash": "longdash",
          "width": 3
         },
         "mode": "lines",
         "showlegend": false,
         "type": "scatter3d",
         "x": [
          1.1383930106,
          1.1748942316857014
         ],
         "y": [
          -0.5867045455,
          -0.6055412992920006
         ],
         "z": [
          -0.356694588,
          -0.333843959172207
         ]
        },
        {
         "line": {
          "color": "green",
          "dash": "longdash",
          "width": 3
         },
         "mode": "lines",
         "showlegend": false,
         "type": "scatter3d",
         "x": [
          0.5101463926,
          0.5436953826832688
         ],
         "y": [
          -1.1820592206,
          -1.1990314541163742
         ],
         "z": [
          0.3314816546,
          0.35367077259508034
         ]
        },
        {
         "line": {
          "color": "green",
          "dash": "longdash",
          "width": 3
         },
         "mode": "lines",
         "showlegend": false,
         "type": "scatter3d",
         "x": [
          -0.2836654466,
          -0.2551934485019118
         ],
         "y": [
          -0.4657787238,
          -0.49259274450671436
         ],
         "z": [
          0.2102051557,
          0.21422064292265977
         ]
        },
        {
         "line": {
          "color": "green",
          "dash": "longdash",
          "width": 3
         },
         "mode": "lines",
         "showlegend": false,
         "type": "scatter3d",
         "x": [
          0.3330821714,
          0.3647762212435514
         ],
         "y": [
          0.1186767628,
          0.09034169448710869
         ],
         "z": [
          -0.4653766405,
          -0.46106042890473825
         ]
        },
        {
         "line": {
          "color": "green",
          "dash": "longdash",
          "width": 3
         },
         "mode": "lines",
         "showlegend": false,
         "type": "scatter3d",
         "x": [
          0.1353853241,
          -0.27484550679358283
         ],
         "y": [
          -0.9218059226,
          -0.16721239156304282
         ],
         "z": [
          -0.6738758934,
          -1.2864531494465297
         ]
        }
       ],
       "layout": {
        "scene": {
         "aspectmode": "data",
         "xaxis": {
          "title": {
           "text": "X"
          },
          "visible": false
         },
         "yaxis": {
          "title": {
           "text": "Y"
          },
          "visible": false
         },
         "zaxis": {
          "title": {
           "text": "Z"
          },
          "visible": false
         }
        },
        "showlegend": true,
        "template": {
         "data": {
          "bar": [
           {
            "error_x": {
             "color": "#2a3f5f"
            },
            "error_y": {
             "color": "#2a3f5f"
            },
            "marker": {
             "line": {
              "color": "#E5ECF6",
              "width": 0.5
             },
             "pattern": {
              "fillmode": "overlay",
              "size": 10,
              "solidity": 0.2
             }
            },
            "type": "bar"
           }
          ],
          "barpolar": [
           {
            "marker": {
             "line": {
              "color": "#E5ECF6",
              "width": 0.5
             },
             "pattern": {
              "fillmode": "overlay",
              "size": 10,
              "solidity": 0.2
             }
            },
            "type": "barpolar"
           }
          ],
          "carpet": [
           {
            "aaxis": {
             "endlinecolor": "#2a3f5f",
             "gridcolor": "white",
             "linecolor": "white",
             "minorgridcolor": "white",
             "startlinecolor": "#2a3f5f"
            },
            "baxis": {
             "endlinecolor": "#2a3f5f",
             "gridcolor": "white",
             "linecolor": "white",
             "minorgridcolor": "white",
             "startlinecolor": "#2a3f5f"
            },
            "type": "carpet"
           }
          ],
          "choropleth": [
           {
            "colorbar": {
             "outlinewidth": 0,
             "ticks": ""
            },
            "type": "choropleth"
           }
          ],
          "contour": [
           {
            "colorbar": {
             "outlinewidth": 0,
             "ticks": ""
            },
            "colorscale": [
             [
              0,
              "#0d0887"
             ],
             [
              0.1111111111111111,
              "#46039f"
             ],
             [
              0.2222222222222222,
              "#7201a8"
             ],
             [
              0.3333333333333333,
              "#9c179e"
             ],
             [
              0.4444444444444444,
              "#bd3786"
             ],
             [
              0.5555555555555556,
              "#d8576b"
             ],
             [
              0.6666666666666666,
              "#ed7953"
             ],
             [
              0.7777777777777778,
              "#fb9f3a"
             ],
             [
              0.8888888888888888,
              "#fdca26"
             ],
             [
              1,
              "#f0f921"
             ]
            ],
            "type": "contour"
           }
          ],
          "contourcarpet": [
           {
            "colorbar": {
             "outlinewidth": 0,
             "ticks": ""
            },
            "type": "contourcarpet"
           }
          ],
          "heatmap": [
           {
            "colorbar": {
             "outlinewidth": 0,
             "ticks": ""
            },
            "colorscale": [
             [
              0,
              "#0d0887"
             ],
             [
              0.1111111111111111,
              "#46039f"
             ],
             [
              0.2222222222222222,
              "#7201a8"
             ],
             [
              0.3333333333333333,
              "#9c179e"
             ],
             [
              0.4444444444444444,
              "#bd3786"
             ],
             [
              0.5555555555555556,
              "#d8576b"
             ],
             [
              0.6666666666666666,
              "#ed7953"
             ],
             [
              0.7777777777777778,
              "#fb9f3a"
             ],
             [
              0.8888888888888888,
              "#fdca26"
             ],
             [
              1,
              "#f0f921"
             ]
            ],
            "type": "heatmap"
           }
          ],
          "histogram": [
           {
            "marker": {
             "pattern": {
              "fillmode": "overlay",
              "size": 10,
              "solidity": 0.2
             }
            },
            "type": "histogram"
           }
          ],
          "histogram2d": [
           {
            "colorbar": {
             "outlinewidth": 0,
             "ticks": ""
            },
            "colorscale": [
             [
              0,
              "#0d0887"
             ],
             [
              0.1111111111111111,
              "#46039f"
             ],
             [
              0.2222222222222222,
              "#7201a8"
             ],
             [
              0.3333333333333333,
              "#9c179e"
             ],
             [
              0.4444444444444444,
              "#bd3786"
             ],
             [
              0.5555555555555556,
              "#d8576b"
             ],
             [
              0.6666666666666666,
              "#ed7953"
             ],
             [
              0.7777777777777778,
              "#fb9f3a"
             ],
             [
              0.8888888888888888,
              "#fdca26"
             ],
             [
              1,
              "#f0f921"
             ]
            ],
            "type": "histogram2d"
           }
          ],
          "histogram2dcontour": [
           {
            "colorbar": {
             "outlinewidth": 0,
             "ticks": ""
            },
            "colorscale": [
             [
              0,
              "#0d0887"
             ],
             [
              0.1111111111111111,
              "#46039f"
             ],
             [
              0.2222222222222222,
              "#7201a8"
             ],
             [
              0.3333333333333333,
              "#9c179e"
             ],
             [
              0.4444444444444444,
              "#bd3786"
             ],
             [
              0.5555555555555556,
              "#d8576b"
             ],
             [
              0.6666666666666666,
              "#ed7953"
             ],
             [
              0.7777777777777778,
              "#fb9f3a"
             ],
             [
              0.8888888888888888,
              "#fdca26"
             ],
             [
              1,
              "#f0f921"
             ]
            ],
            "type": "histogram2dcontour"
           }
          ],
          "mesh3d": [
           {
            "colorbar": {
             "outlinewidth": 0,
             "ticks": ""
            },
            "type": "mesh3d"
           }
          ],
          "parcoords": [
           {
            "line": {
             "colorbar": {
              "outlinewidth": 0,
              "ticks": ""
             }
            },
            "type": "parcoords"
           }
          ],
          "pie": [
           {
            "automargin": true,
            "type": "pie"
           }
          ],
          "scatter": [
           {
            "fillpattern": {
             "fillmode": "overlay",
             "size": 10,
             "solidity": 0.2
            },
            "type": "scatter"
           }
          ],
          "scatter3d": [
           {
            "line": {
             "colorbar": {
              "outlinewidth": 0,
              "ticks": ""
             }
            },
            "marker": {
             "colorbar": {
              "outlinewidth": 0,
              "ticks": ""
             }
            },
            "type": "scatter3d"
           }
          ],
          "scattercarpet": [
           {
            "marker": {
             "colorbar": {
              "outlinewidth": 0,
              "ticks": ""
             }
            },
            "type": "scattercarpet"
           }
          ],
          "scattergeo": [
           {
            "marker": {
             "colorbar": {
              "outlinewidth": 0,
              "ticks": ""
             }
            },
            "type": "scattergeo"
           }
          ],
          "scattergl": [
           {
            "marker": {
             "colorbar": {
              "outlinewidth": 0,
              "ticks": ""
             }
            },
            "type": "scattergl"
           }
          ],
          "scattermap": [
           {
            "marker": {
             "colorbar": {
              "outlinewidth": 0,
              "ticks": ""
             }
            },
            "type": "scattermap"
           }
          ],
          "scattermapbox": [
           {
            "marker": {
             "colorbar": {
              "outlinewidth": 0,
              "ticks": ""
             }
            },
            "type": "scattermapbox"
           }
          ],
          "scatterpolar": [
           {
            "marker": {
             "colorbar": {
              "outlinewidth": 0,
              "ticks": ""
             }
            },
            "type": "scatterpolar"
           }
          ],
          "scatterpolargl": [
           {
            "marker": {
             "colorbar": {
              "outlinewidth": 0,
              "ticks": ""
             }
            },
            "type": "scatterpolargl"
           }
          ],
          "scatterternary": [
           {
            "marker": {
             "colorbar": {
              "outlinewidth": 0,
              "ticks": ""
             }
            },
            "type": "scatterternary"
           }
          ],
          "surface": [
           {
            "colorbar": {
             "outlinewidth": 0,
             "ticks": ""
            },
            "colorscale": [
             [
              0,
              "#0d0887"
             ],
             [
              0.1111111111111111,
              "#46039f"
             ],
             [
              0.2222222222222222,
              "#7201a8"
             ],
             [
              0.3333333333333333,
              "#9c179e"
             ],
             [
              0.4444444444444444,
              "#bd3786"
             ],
             [
              0.5555555555555556,
              "#d8576b"
             ],
             [
              0.6666666666666666,
              "#ed7953"
             ],
             [
              0.7777777777777778,
              "#fb9f3a"
             ],
             [
              0.8888888888888888,
              "#fdca26"
             ],
             [
              1,
              "#f0f921"
             ]
            ],
            "type": "surface"
           }
          ],
          "table": [
           {
            "cells": {
             "fill": {
              "color": "#EBF0F8"
             },
             "line": {
              "color": "white"
             }
            },
            "header": {
             "fill": {
              "color": "#C8D4E3"
             },
             "line": {
              "color": "white"
             }
            },
            "type": "table"
           }
          ]
         },
         "layout": {
          "annotationdefaults": {
           "arrowcolor": "#2a3f5f",
           "arrowhead": 0,
           "arrowwidth": 1
          },
          "autotypenumbers": "strict",
          "coloraxis": {
           "colorbar": {
            "outlinewidth": 0,
            "ticks": ""
           }
          },
          "colorscale": {
           "diverging": [
            [
             0,
             "#8e0152"
            ],
            [
             0.1,
             "#c51b7d"
            ],
            [
             0.2,
             "#de77ae"
            ],
            [
             0.3,
             "#f1b6da"
            ],
            [
             0.4,
             "#fde0ef"
            ],
            [
             0.5,
             "#f7f7f7"
            ],
            [
             0.6,
             "#e6f5d0"
            ],
            [
             0.7,
             "#b8e186"
            ],
            [
             0.8,
             "#7fbc41"
            ],
            [
             0.9,
             "#4d9221"
            ],
            [
             1,
             "#276419"
            ]
           ],
           "sequential": [
            [
             0,
             "#0d0887"
            ],
            [
             0.1111111111111111,
             "#46039f"
            ],
            [
             0.2222222222222222,
             "#7201a8"
            ],
            [
             0.3333333333333333,
             "#9c179e"
            ],
            [
             0.4444444444444444,
             "#bd3786"
            ],
            [
             0.5555555555555556,
             "#d8576b"
            ],
            [
             0.6666666666666666,
             "#ed7953"
            ],
            [
             0.7777777777777778,
             "#fb9f3a"
            ],
            [
             0.8888888888888888,
             "#fdca26"
            ],
            [
             1,
             "#f0f921"
            ]
           ],
           "sequentialminus": [
            [
             0,
             "#0d0887"
            ],
            [
             0.1111111111111111,
             "#46039f"
            ],
            [
             0.2222222222222222,
             "#7201a8"
            ],
            [
             0.3333333333333333,
             "#9c179e"
            ],
            [
             0.4444444444444444,
             "#bd3786"
            ],
            [
             0.5555555555555556,
             "#d8576b"
            ],
            [
             0.6666666666666666,
             "#ed7953"
            ],
            [
             0.7777777777777778,
             "#fb9f3a"
            ],
            [
             0.8888888888888888,
             "#fdca26"
            ],
            [
             1,
             "#f0f921"
            ]
           ]
          },
          "colorway": [
           "#636efa",
           "#EF553B",
           "#00cc96",
           "#ab63fa",
           "#FFA15A",
           "#19d3f3",
           "#FF6692",
           "#B6E880",
           "#FF97FF",
           "#FECB52"
          ],
          "font": {
           "color": "#2a3f5f"
          },
          "geo": {
           "bgcolor": "white",
           "lakecolor": "white",
           "landcolor": "#E5ECF6",
           "showlakes": true,
           "showland": true,
           "subunitcolor": "white"
          },
          "hoverlabel": {
           "align": "left"
          },
          "hovermode": "closest",
          "mapbox": {
           "style": "light"
          },
          "paper_bgcolor": "white",
          "plot_bgcolor": "#E5ECF6",
          "polar": {
           "angularaxis": {
            "gridcolor": "white",
            "linecolor": "white",
            "ticks": ""
           },
           "bgcolor": "#E5ECF6",
           "radialaxis": {
            "gridcolor": "white",
            "linecolor": "white",
            "ticks": ""
           }
          },
          "scene": {
           "xaxis": {
            "backgroundcolor": "#E5ECF6",
            "gridcolor": "white",
            "gridwidth": 2,
            "linecolor": "white",
            "showbackground": true,
            "ticks": "",
            "zerolinecolor": "white"
           },
           "yaxis": {
            "backgroundcolor": "#E5ECF6",
            "gridcolor": "white",
            "gridwidth": 2,
            "linecolor": "white",
            "showbackground": true,
            "ticks": "",
            "zerolinecolor": "white"
           },
           "zaxis": {
            "backgroundcolor": "#E5ECF6",
            "gridcolor": "white",
            "gridwidth": 2,
            "linecolor": "white",
            "showbackground": true,
            "ticks": "",
            "zerolinecolor": "white"
           }
          },
          "shapedefaults": {
           "line": {
            "color": "#2a3f5f"
           }
          },
          "ternary": {
           "aaxis": {
            "gridcolor": "white",
            "linecolor": "white",
            "ticks": ""
           },
           "baxis": {
            "gridcolor": "white",
            "linecolor": "white",
            "ticks": ""
           },
           "bgcolor": "#E5ECF6",
           "caxis": {
            "gridcolor": "white",
            "linecolor": "white",
            "ticks": ""
           }
          },
          "title": {
           "x": 0.05
          },
          "xaxis": {
           "automargin": true,
           "gridcolor": "white",
           "linecolor": "white",
           "ticks": "",
           "title": {
            "standoff": 15
           },
           "zerolinecolor": "white",
           "zerolinewidth": 2
          },
          "yaxis": {
           "automargin": true,
           "gridcolor": "white",
           "linecolor": "white",
           "ticks": "",
           "title": {
            "standoff": 15
           },
           "zerolinecolor": "white",
           "zerolinewidth": 2
          }
         }
        },
        "title": {
         "text": "100-1 100-2 Alignment"
        }
       }
      }
     },
     "metadata": {},
     "output_type": "display_data"
    }
   ],
   "source": [
    "data_path = \"../Data/Neon-Clusters/\"\n",
    "nameA = '100-1.xyz'\n",
    "nameB = '100-2.xyz'\n",
    "molA = next(pybel.readfile('xyz', os.path.join(data_path, nameA)))\n",
    "molB = next(pybel.readfile('xyz', os.path.join(data_path, nameB)))\n",
    "X_A, T_A, B_A = otm.tl.process_molecule(molA) \n",
    "X_B, T_B, B_B = otm.tl.process_molecule(molB)\n",
    "p_list=range(2,9)\n",
    "# specify we are aligning clusters of the same atom\n",
    "# T, B are not used in the alignment\n",
    "assignment, rmsd_best, p_best = otm.tl.cluster_alignment(X_A = X_A, X_B = X_B, case = 'same element', p_list = p_list)\n",
    "X_B_aligned, _, _ = otm.tl.kabsch(X_A, X_B, otm.tl.permutation_to_matrix(assignment))\n",
    "otm.pl.interactive_alignment_plot(X_A, X_B_aligned, T_A, T_B, B_A, B_B, assignment, '100-1', '100-2', save=False)"
   ]
  }
 ],
 "metadata": {
  "kernelspec": {
   "display_name": "py39",
   "language": "python",
   "name": "python3"
  },
  "language_info": {
   "codemirror_mode": {
    "name": "ipython",
    "version": 3
   },
   "file_extension": ".py",
   "mimetype": "text/x-python",
   "name": "python",
   "nbconvert_exporter": "python",
   "pygments_lexer": "ipython3",
   "version": "3.9.16"
  }
 },
 "nbformat": 4,
 "nbformat_minor": 2
}
